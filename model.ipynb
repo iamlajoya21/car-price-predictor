{
 "cells": [
  {
   "cell_type": "code",
   "execution_count": 3,
   "metadata": {},
   "outputs": [],
   "source": [
    "import pandas as pd \n",
    "import numpy as np\n",
    "from utils import convert_distance, extract_price_robust"
   ]
  },
  {
   "cell_type": "code",
   "execution_count": 5,
   "metadata": {},
   "outputs": [],
   "source": [
    "df = pd.read_csv('../data/cars_2024_clean.csv')"
   ]
  },
  {
   "cell_type": "code",
   "execution_count": 6,
   "metadata": {},
   "outputs": [],
   "source": [
    "# Apply conversion\n",
    "df['converted_km'] = df['mileage'].apply(convert_distance)"
   ]
  },
  {
   "cell_type": "code",
   "execution_count": 8,
   "metadata": {},
   "outputs": [
    {
     "data": {
      "text/plain": [
       "(804, 7)"
      ]
     },
     "execution_count": 8,
     "metadata": {},
     "output_type": "execute_result"
    }
   ],
   "source": [
    "df = df[['enginetype', 'city',\n",
    "       'year', 'car', 'engine', 'converted_km', 'price']]\n",
    "df['price'] = df['price'].apply(extract_price_robust)\n",
    "df.dropna(inplace=True)\n",
    "\n",
    "\n",
    "df.shape"
   ]
  },
  {
   "cell_type": "code",
   "execution_count": 9,
   "metadata": {},
   "outputs": [
    {
     "name": "stdout",
     "output_type": "stream",
     "text": [
      "Training set size: 643 samples\n",
      "Test set size: 161 samples\n",
      "Feature data types:\n",
      "enginetype      float64\n",
      "city            float64\n",
      "year            float64\n",
      "car             float64\n",
      "engine          float64\n",
      "converted_km    float64\n",
      "dtype: object\n",
      "\n",
      "Test set MAPE: 34.42%\n",
      "Test set MAE: 34927.67\n",
      "\n",
      "Cross-validation MAPE scores: [0.28278325 0.27125274 0.2622989  0.28695471 0.27757495]\n",
      "Average CV MAPE: 0.28% (+/- 0.01%)\n"
     ]
    }
   ],
   "source": [
    "import pandas as pd\n",
    "import numpy as np\n",
    "from sklearn.ensemble import RandomForestRegressor\n",
    "from sklearn.model_selection import train_test_split, cross_val_score, KFold\n",
    "from sklearn.preprocessing import LabelEncoder\n",
    "from sklearn.metrics import mean_absolute_error, mean_absolute_percentage_error\n",
    "import matplotlib.pyplot as plt\n",
    "import seaborn as sns\n",
    "\n",
    "# Calculate MAPE\n",
    "def mean_absolute_percentage_error(y_true, y_pred):\n",
    "    \"\"\"Calculate Mean Absolute Percentage Error (MAPE)\"\"\"\n",
    "    y_true, y_pred = np.array(y_true), np.array(y_pred)\n",
    "    # Avoid division by zero\n",
    "    non_zero_mask = y_true != 0\n",
    "    return np.mean(np.abs((y_true[non_zero_mask] - y_pred[non_zero_mask]) / y_true[non_zero_mask])) * 100\n",
    "\n",
    "# Fix data types - convert all numeric columns to float\n",
    "def fix_data_types(df):\n",
    "    \"\"\"Convert all numeric columns to float and handle object types\"\"\"\n",
    "    df_fixed = df.copy()\n",
    "    \n",
    "    # Convert year and engine to numeric, handling any errors\n",
    "    df_fixed['year'] = pd.to_numeric(df_fixed['year'], errors='coerce')\n",
    "    df_fixed['engine'] = pd.to_numeric(df_fixed['engine'], errors='coerce')\n",
    "    \n",
    "    # Fill any NaN values with the median of the column\n",
    "    numeric_cols = ['year', 'engine', 'converted_km', 'price']\n",
    "    for col in numeric_cols:\n",
    "        if col in df_fixed.columns:\n",
    "            median_val = df_fixed[col].median()\n",
    "            df_fixed[col] = df_fixed[col].fillna(median_val).astype(float)\n",
    "    \n",
    "    return df_fixed\n",
    "\n",
    "# Apply data type fixes\n",
    "df_imp_fixed = fix_data_types(df_imp)\n",
    "\n",
    "# Preprocessing: Encode categorical variables\n",
    "label_encoders = {}\n",
    "categorical_cols = ['enginetype', 'city', 'car']\n",
    "\n",
    "for col in categorical_cols:\n",
    "    le = LabelEncoder()\n",
    "    df_imp_fixed[col] = le.fit_transform(df_imp_fixed[col].astype(str))\n",
    "    label_encoders[col] = le\n",
    "\n",
    "# Prepare features and target\n",
    "X = df_imp_fixed.drop('price', axis=1)\n",
    "y = df_imp_fixed['price']\n",
    "\n",
    "# Ensure all features are numeric\n",
    "X = X.astype(float)\n",
    "\n",
    "# Train-test split (80% train, 20% test)\n",
    "X_train, X_test, y_train, y_test = train_test_split(\n",
    "    X, y, test_size=0.2, random_state=42\n",
    ")\n",
    "\n",
    "print(f\"Training set size: {X_train.shape[0]} samples\")\n",
    "print(f\"Test set size: {X_test.shape[0]} samples\")\n",
    "print(f\"Feature data types:\\n{X_train.dtypes}\")\n",
    "\n",
    "# Initialize Random Forest model\n",
    "rf = RandomForestRegressor(n_estimators=100, random_state=42)\n",
    "\n",
    "# Train the model on training data\n",
    "rf.fit(X_train, y_train)\n",
    "\n",
    "# Predict on test data\n",
    "y_pred = rf.predict(X_test)\n",
    "\n",
    "# Calculate MAPE on test set\n",
    "test_mape = mean_absolute_percentage_error(y_test, y_pred)\n",
    "print(f\"\\nTest set MAPE: {test_mape:.2f}%\")\n",
    "\n",
    "# Additional evaluation metrics\n",
    "test_mae = mean_absolute_error(y_test, y_pred)\n",
    "print(f\"Test set MAE: {test_mae:.2f}\")\n",
    "\n",
    "# Perform cross-validation on training data for more robust evaluation\n",
    "kf = KFold(n_splits=5, shuffle=True, random_state=42)\n",
    "cv_mape_scores = -cross_val_score(rf, X_train, y_train, \n",
    "                                 cv=kf, scoring='neg_mean_absolute_percentage_error')\n",
    "\n",
    "print(f\"\\nCross-validation MAPE scores: {cv_mape_scores}\")\n",
    "print(f\"Average CV MAPE: {np.mean(cv_mape_scores):.2f}% (+/- {np.std(cv_mape_scores):.2f}%)\")\n"
   ]
  },
  {
   "cell_type": "code",
   "execution_count": 10,
   "metadata": {},
   "outputs": [
    {
     "name": "stdout",
     "output_type": "stream",
     "text": [
      "\n",
      "Feature Importances:\n",
      "        feature  importance\n",
      "2          year    0.437553\n",
      "4        engine    0.325796\n",
      "5  converted_km    0.107290\n",
      "3           car    0.081171\n",
      "1          city    0.037525\n",
      "0    enginetype    0.010665\n"
     ]
    },
    {
     "data": {
      "image/png": "[encoded data removed]",
      "text/plain": [
       "<Figure size 1200x800 with 1 Axes>"
      ]
     },
     "metadata": {},
     "output_type": "display_data"
    }
   ],
   "source": [
    "\n",
    "# Get feature importances\n",
    "feature_importances = pd.DataFrame({\n",
    "    'feature': X.columns,\n",
    "    'importance': rf.feature_importances_\n",
    "}).sort_values('importance', ascending=False)\n",
    "\n",
    "print(\"\\nFeature Importances:\")\n",
    "print(feature_importances)\n",
    "\n",
    "# Visualize feature importances\n",
    "plt.figure(figsize=(12, 8))\n",
    "sns.barplot(x='importance', y='feature', data=feature_importances)\n",
    "plt.title('Feature Importances in Random Forest Model')\n",
    "plt.xlabel('Importance')\n",
    "plt.ylabel('Features')\n",
    "plt.tight_layout()\n",
    "plt.show()"
   ]
  },
  {
   "cell_type": "markdown",
   "metadata": {},
   "source": [
    "<h2> Saving the model and the other needed files </h2>"
   ]
  },
  {
   "cell_type": "code",
   "execution_count": 13,
   "metadata": {},
   "outputs": [
    {
     "name": "stdout",
     "output_type": "stream",
     "text": [
      "Model and data distinct values saved successfully!\n",
      "Engine range: 0.0 - 5.7\n"
     ]
    }
   ],
   "source": [
    "import pandas as pd\n",
    "import numpy as np\n",
    "import pickle\n",
    "from sklearn.ensemble import RandomForestRegressor\n",
    "from sklearn.preprocessing import LabelEncoder\n",
    "\n",
    "# Load your dataset\n",
    "# df = pd.read_csv('your_data.csv')\n",
    "\n",
    "def fix_data_types(df):\n",
    "    \"\"\"Convert all numeric columns to float and handle object types\"\"\"\n",
    "    df_fixed = df.copy()\n",
    "    \n",
    "    # Convert year and engine to numeric, handling any errors\n",
    "    df_fixed['year'] = pd.to_numeric(df_fixed['year'], errors='coerce')\n",
    "    \n",
    "    # Handle engine column - convert to numeric, non-numeric becomes NaN\n",
    "    df_fixed['engine'] = pd.to_numeric(df_fixed['engine'], errors='coerce')\n",
    "    \n",
    "    # For electric cars, we'll set engine size to 0 (or you can use a different strategy)\n",
    "    # Identify electric cars and set appropriate engine value\n",
    "    electric_mask = df_fixed['enginetype'].str.contains('էլեկտրական', na=False)\n",
    "    df_fixed.loc[electric_mask, 'engine'] = 0.0  # Electric cars have 0L engine\n",
    "    \n",
    "    # Fill any NaN values with the median of the column\n",
    "    numeric_cols = ['year', 'engine', 'converted_km', 'price']\n",
    "    for col in numeric_cols:\n",
    "        if col in df_fixed.columns:\n",
    "            median_val = df_fixed[col].median()\n",
    "            df_fixed[col] = df_fixed[col].fillna(median_val).astype(float)\n",
    "    \n",
    "    return df_fixed\n",
    "\n",
    "# Apply data type fixes\n",
    "df_fixed = fix_data_types(df)\n",
    "\n",
    "# Encode categorical variables and save encoders\n",
    "label_encoders = {}\n",
    "categorical_cols = ['enginetype', 'city', 'car']\n",
    "\n",
    "for col in categorical_cols:\n",
    "    le = LabelEncoder()\n",
    "    df_fixed[col] = le.fit_transform(df_fixed[col].astype(str))\n",
    "    label_encoders[col] = le\n",
    "\n",
    "# Prepare features and target\n",
    "X = df_fixed.drop('price', axis=1).astype(float)\n",
    "y = df_fixed['price']\n",
    "\n",
    "# Train and save the model\n",
    "rf = RandomForestRegressor(n_estimators=100, random_state=42)\n",
    "rf.fit(X, y)\n",
    "\n",
    "# Save the model\n",
    "with open('car_price_model.pkl', 'wb') as f:\n",
    "    pickle.dump(rf, f)\n",
    "\n",
    "# Save label encoders\n",
    "with open('label_encoders.pkl', 'wb') as f:\n",
    "    pickle.dump(label_encoders, f)\n",
    "\n",
    "# Get and save distinct values from original data for dropdowns\n",
    "# For engine, we need to handle both numeric and string values\n",
    "def get_engine_values(df):\n",
    "    \"\"\"Extract numeric engine values, handle electric cars\"\"\"\n",
    "    engine_values = []\n",
    "    for val in df['engine']:\n",
    "        try:\n",
    "            engine_values.append(float(val))\n",
    "        except (ValueError, TypeError):\n",
    "            # For electric cars or non-numeric values, use 0\n",
    "            engine_values.append(0.0)\n",
    "    return engine_values\n",
    "\n",
    "engine_values = get_engine_values(df)\n",
    "\n",
    "distinct_values = {\n",
    "    'enginetype': sorted(df['enginetype'].astype(str).unique().tolist()),\n",
    "    'city': sorted(df['city'].astype(str).unique().tolist()),\n",
    "    'car': sorted(df['car'].astype(str).unique().tolist()),\n",
    "    'min_year': int(df_fixed['year'].min()),\n",
    "    'max_year': int(df_fixed['year'].max()),\n",
    "    'min_engine': float(min(engine_values)),\n",
    "    'max_engine': float(max(engine_values)),\n",
    "    'min_km': float(df_fixed['converted_km'].min()),\n",
    "    'max_km': float(df_fixed['converted_km'].max())\n",
    "}\n",
    "\n",
    "with open('distinct_values.pkl', 'wb') as f:\n",
    "    pickle.dump(distinct_values, f)\n",
    "\n",
    "# Also save the mapping for electric cars for reference\n",
    "electric_car_info = {\n",
    "    'electric_types': ['էլեկտրական'],\n",
    "    'default_engine_value': 0.0\n",
    "}\n",
    "\n",
    "with open('electric_car_info.pkl', 'wb') as f:\n",
    "    pickle.dump(electric_car_info, f)\n",
    "\n",
    "print(\"Model and data distinct values saved successfully!\")\n",
    "print(f\"Engine range: {distinct_values['min_engine']} - {distinct_values['max_engine']}\")"
   ]
  }
 ],
 "metadata": {
  "kernelspec": {
   "display_name": ".venv",
   "language": "python",
   "name": "python3"
  },
  "language_info": {
   "codemirror_mode": {
    "name": "ipython",
    "version": 3
   },
   "file_extension": ".py",
   "mimetype": "text/x-python",
   "name": "python",
   "nbconvert_exporter": "python",
   "pygments_lexer": "ipython3",
   "version": "3.11.4"
  },
  "orig_nbformat": 4
 },
 "nbformat": 4,
 "nbformat_minor": 2
}
