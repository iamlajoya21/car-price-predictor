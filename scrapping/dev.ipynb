{
 "cells": [
  {
   "cell_type": "code",
   "execution_count": 1,
   "metadata": {
    "collapsed": true,
    "pycharm": {
     "name": "#%%\n"
    }
   },
   "outputs": [],
   "source": [
    "import time\n",
    "\n",
    "import pandas as pd\n",
    "import requests as r\n",
    "from bs4 import BeautifulSoup\n"
   ]
  },
  {
   "cell_type": "code",
   "execution_count": 67,
   "outputs": [],
   "source": [
    "base_url = \"https://auto.am/search/passenger-cars?q=\"\n",
    "category_url = \"{%22category%22:%221%22,%22page%22:%221%22,%22sort%22:%22latest%22,%22layout%22:%22list%22,%22user%22:{%22dealer%22:%220%22,%22id%22:%22%22},\"\n",
    "params_url = \"%22make%22:[%22246%22],%22year%22:{%22gt%22:%221911%22,%22lt%22:%222023%22},%22usdprice%22:{%22gt%22:%220%22,%22lt%22:%22100000000%22},%22mileage%22:{%22gt%22:%2210%22,%22lt%22:%221000000%22}}\"\n",
    "\n",
    "URL = \"https://auto.am/search/passenger-cars?q={%22category%22:%221%22,%22page%22:%221%22,%22sort%22:%22latest%22,%22layout%22:%22list%22,%22user%22:{%22dealer%22:%220%22,%22id%22:%22%22},%22make%22:[%22246%22],%22year%22:{%22gt%22:%221911%22,%22lt%22:%222023%22},%22usdprice%22:{%22gt%22:%220%22,%22lt%22:%22100000000%22},%22mileage%22:{%22gt%22:%2210%22,%22lt%22:%221000000%22}}\"\n",
    "page = r.get(URL)\n"
   ],
   "metadata": {
    "collapsed": false,
    "pycharm": {
     "name": "#%%\n"
    }
   }
  },
  {
   "cell_type": "code",
   "execution_count": 68,
   "outputs": [],
   "source": [
    "soup = BeautifulSoup(page.content, \"html.parser\")"
   ],
   "metadata": {
    "collapsed": false,
    "pycharm": {
     "name": "#%%\n"
    }
   }
  },
  {
   "cell_type": "code",
   "execution_count": 104,
   "outputs": [
    {
     "data": {
      "text/plain": "<!DOCTYPE html>\n\n<html lang=\"hy\">\n<head>\n<meta charset=\"utf-8\"/>\n<meta content=\"IE=edge,chrome=1\" http-equiv=\"X-UA-Compatible\"/>\n<meta content=\"width=device-width, initial-scale=1.0, maximum-scale=1.0\" name=\"viewport\"/>\n<title>Որոնում - Auto.am</title>\n<meta content=\"Որոնում\" name=\"description\"/>\n<meta content=\"tfc2ktUXYHsOqG2rKRsNskF9zAQN1wdI9YLsKHCd\" name=\"csrf-token\"/>\n<meta content=\"538872319602365\" property=\"fb:app_id\"/>\n<meta content=\"1020410409\" property=\"fb:admins\"/>\n<meta content=\"https://auto.am/search/passenger-cars\" property=\"og:url\"/>\n<meta content=\"Որոնում - Auto.am\" property=\"og:title\"/>\n<meta content=\"Որոնում\" property=\"og:description\"/>\n<meta content=\"https://auto.am/assets/ico/200x200.png\" property=\"og:image\"/>\n<link href=\"/assets/ico/fi/apple-icon-57x57.png\" rel=\"apple-touch-icon\" sizes=\"57x57\"/>\n<link href=\"/assets/ico/fi/apple-icon-60x60.png\" rel=\"apple-touch-icon\" sizes=\"60x60\"/>\n<link href=\"/assets/ico/fi/apple-icon-72x72.png\" rel=\"apple-touch-icon\" sizes=\"72x72\"/>\n<link href=\"/assets/ico/fi/apple-icon-76x76.png\" rel=\"apple-touch-icon\" sizes=\"76x76\"/>\n<link href=\"/assets/ico/fi/apple-icon-114x114.png\" rel=\"apple-touch-icon\" sizes=\"114x114\"/>\n<link href=\"/assets/ico/fi/apple-icon-120x120.png\" rel=\"apple-touch-icon\" sizes=\"120x120\"/>\n<link href=\"/assets/ico/fi/apple-icon-144x144.png\" rel=\"apple-touch-icon\" sizes=\"144x144\"/>\n<link href=\"/assets/ico/fi/apple-icon-152x152.png\" rel=\"apple-touch-icon\" sizes=\"152x152\"/>\n<link href=\"/assets/ico/fi/apple-icon-180x180.png\" rel=\"apple-touch-icon\" sizes=\"180x180\"/>\n<link href=\"/assets/ico/fi/android-icon-192x192.png\" rel=\"icon\" sizes=\"192x192\" taype=\"image/png\"/>\n<link href=\"/assets/ico/fi/favicon-32x32.png\" rel=\"icon\" sizes=\"32x32\" type=\"image/png\"/>\n<link href=\"/assets/ico/fi/favicon-96x96.png\" rel=\"icon\" sizes=\"96x96\" type=\"image/png\"/>\n<link href=\"/assets/ico/fi/favicon-16x16.png\" rel=\"icon\" sizes=\"16x16\" type=\"image/png\"/>\n<link href=\"/assets/ico/fi/manifest.json\" rel=\"manifest\"/>\n<meta content=\"#ffffff\" name=\"msapplication-TileColor\"/>\n<meta content=\"/assets/ico/fi/ms-icon-144x144.png\" name=\"msapplication-TileImage\"/>\n<meta content=\"#ffffff\" name=\"theme-color\"/>\n<link href=\"/assets/css/app.css\" rel=\"stylesheet\" type=\"text/css\">\n<link href=\"/assets/css/notosansarmenian.css\" media=\"none\" onload=\"this.media='all'\" rel=\"stylesheet\"/>\n<link href=\"https://fonts.googleapis.com/css2?family=Noto+Sans:wght@400;700&amp;display=swap\" media=\"none\" onload=\"this.media='all'\" rel=\"stylesheet\"/>\n<noscript>\n<link href=\"/assets/css/notosansarmenian.css\" rel=\"stylesheet\"/>\n<link href=\"https://fonts.googleapis.com/css2?family=Noto+Sans:wght@400;700&amp;display=swap\" rel=\"stylesheet\"/>\n</noscript>\n<link href=\"https://fonts.googleapis.com/icon?family=Material+Icons\" rel=\"stylesheet\"/>\n<script src=\"/assets/js/adriver.core.2.min.js\"></script>\n<script crossorigin=\"anonymous\" src=\"https://yastatic.net/pcode/adfox/loader.js\"></script>\n<!-- Global site tag (gtag.js) - Google Analytics -->\n<script async=\"\" src=\"https://www.googletagmanager.com/gtag/js?id=UA-4971967-1\"></script>\n<script>\n     window.dataLayer = window.dataLayer || [];\n     function gtag(){dataLayer.push(arguments);}\n     gtag('js', new Date());\n     gtag('config', 'UA-4971967-1');\n    </script>\n<script>\n      (adsbygoogle = window.adsbygoogle || []).push({\n        google_ad_client: \"ca-pub-6980531266556750\",\n        enable_page_level_ads: false\n      });\n    </script>\n<!-- Facebook Pixel Code -->\n<script>\n\t  !function(f,b,e,v,n,t,s)\n\t  {if(f.fbq)return;n=f.fbq=function(){n.callMethod?\n\t  n.callMethod.apply(n,arguments):n.queue.push(arguments)};\n\t  if(!f._fbq)f._fbq=n;n.push=n;n.loaded=!0;n.version='2.0';\n\t  n.queue=[];t=b.createElement(e);t.async=!0;\n\t  t.src=v;s=b.getElementsByTagName(e)[0];\n\t  s.parentNode.insertBefore(t,s)}(window, document,'script',\n\t  'https://connect.facebook.net/en_US/fbevents.js');\n\t  fbq('init', '747304815806629');\n\t  fbq('track', 'PageView');\n\t</script>\n<noscript><img height=\"1\" src=\"https://www.facebook.com/tr?id=747304815806629&amp;ev=PageView&amp;noscript=1\" style=\"display:none\" width=\"1\"/></noscript>\n<!-- End Facebook Pixel Code -->\n<script async=\"\" defer=\"\" id=\"f0d69a5f-52fd-43d6-82a9-b05dc72a2cce\" src=\"https://cdn-static3.com/cdn/push.min.js\" type=\"text/javascript\"></script>\n<script type=\"application/javascript\">\n        (function () {\n            WPush.registerServiceWorker(\"f0d69a5f-52fd-43d6-82a9-b05dc72a2cce\");\n        })();\n    </script>\n</link></head>\n<body class=\"account\">\n<div id=\"fb-root\"></div>\n<script>(function(d, s, id) {\n      var js, fjs = d.getElementsByTagName(s)[0];\n      if (d.getElementById(id)) return;\n      js = d.createElement(s); js.id = id;\n      js.src = \"//connect.facebook.net/en_US/sdk.js#xfbml=1&version=v2.8&appId=538872319602365\";\n      fjs.parentNode.insertBefore(js, fjs);\n    }(document, 'script', 'facebook-jssdk'));\n    </script>\n<!-- header -->\n<div class=\"side-nav\" id=\"slide-out\">\n<ul>\n<li>\n<div class=\"userView\">\n<div class=\"background\">\n</div>\n<a class=\"side-login bold\" href=\"/login\" onclick=\"return window.App.showLoginForm(event)\">\n<i class=\"material-icons\"></i>Մուտք\n                </a>\n</div>\n</li>\n<li>\n</li>\n<li><a class=\"bold messenger-close-open relative\" href=\"javascript:\">\n<i class=\"material-icons\">chat</i>\n                            Հաղորդագրություններ</a></li>\n<li class=\"secondary marg-top-12\"><a href=\"/hy/dealers\">Դիլերներ</a></li>\n<li class=\"secondary\"><a href=\"/hy/contacts?dealer\">Դառնալ ավտոդիլեր</a></li>\n<li class=\"secondary\"><a href=\"/hy/advertisement\" target=\"_blank\">Գովազդ կայքում</a></li>\n<li class=\"secondary\"><a href=\"/hy/terms\">Օգտագործման կանոնները</a></li>\n<li class=\"secondary\"><a href=\"/hy/help\">Օգնություն</a></li>\n<li class=\"secondary\"><a href=\"/hy/contacts\">Կապ</a></li>\n<li class=\"marg-bot-9\">\n<div class=\"divider\"></div>\n</li>\n<li class=\"secondary pad-bot-12\">\n<a class=\"selected red-text inline-block\" href=\"/lang/hy\">\n                Հայերեն\n                </a>\n<a class=\"inline-block\" href=\"/lang/ru\">\n                Русский\n                </a>\n<a class=\"inline-block\" href=\"/lang/en\">\n                English\n                </a>\n</li>\n</ul>\n<div class=\"side-nav-soc pad-left-18 pad-top-24\">\n<a href=\"https://www.facebook.com/auto.am/\" target=\"_blank\"><img class=\"svgicon left\" src=\"/assets/svg/facebook-white.svg\"/></a>\n<a href=\"https://www.instagram.com/auto.am/\" target=\"_blank\"><img class=\"svgicon left\" src=\"/assets/svg/instagram-white.svg\"/></a>\n<a href=\"https://twitter.com/autodotam\" target=\"_blank\"><img class=\"svgicon left\" src=\"/assets/svg/twitter-white.svg\"/></a>\n<a href=\"https://ok.ru/auto.am\" target=\"_blank\"><img class=\"svgicon left\" src=\"/assets/svg/odnoklassniki-white.svg\"/></a>\n</div>\n<div class=\"side-nav-footer grey-text\">\n           ©2003-2022 Auto.am\n        </div>\n</div>\n<header class=\"shadow\" id=\"header\">\n<div class=\"azd-top\">\n<div class=\"wrapper\">\n<div class=\"bncont\" data-id=\"3\"><a class=\"links\" href=\"https://iaa.am/calculator\" target=\"_blank\"><img alt=\"\" src=\"/static/azd/230/bdfbdb3e4273a1e08e3c5fb194f4eb43.gif\"/></a></div> </div>\n</div>\n<div class=\"progress hiddendiv absolute\">\n<div class=\"indeterminate\"></div>\n</div>\n<div class=\"wrapper smooth row\">\n<div class=\"col\">\n<a class=\"side-menu-collapse left\" data-activates=\"slide-out\"></a>\n<a class=\"side-menu-collapse left smooth\" data-activates=\"slide-out\" id=\"menu-icon\"></a>\n<div class=\"z-depth-1\" id=\"menu-container\">\n<div class=\"wrapper smooth row\">\n<div class=\"col s12 m2 l2 top\">\n<!-- <div class=\"menu-lang pad-top-18 pad-left-24\">\n                                                    <a href=\"/lang/hy\" class=\"btn  waves-effect waves-light grey langbtn  selected \" >\n                            hy\n                            </a>\n                                                    <a href=\"/lang/ru\" class=\"btn  waves-effect waves-light grey langbtn \" >\n                            ru\n                            </a>\n                                                    <a href=\"/lang/en\" class=\"btn  waves-effect waves-light grey langbtn \" >\n                            en\n                            </a>\n                                                </div> -->\n<ul class=\"top-menu\">\n<li><a href=\"/hy/dealers\">Դիլերներ</a></li>\n<li><a href=\"/hy/contacts?dealer\">Դառնալ ավտոդիլեր</a></li>\n<!-- <li><a href=\"//automarket.am\" target=\"_blank\">Պահեստամասեր</a></li> -->\n<li><a href=\"/hy/contacts\" target=\"_blank\">Կապ</a></li>\n<li><a href=\"http://eraz.auto.am\" target=\"_blank\">eraz.auto.am</a></li>\n<div class=\"fb-like marg-left-24 marg-top-18\" data-action=\"like\" data-href=\"https://www.facebook.com/auto.am/\" data-layout=\"button_count\" data-share=\"false\" data-show-faces=\"false\" data-size=\"large\"></div>\n</ul>\n</div>\n<div class=\"col s12 m5 l5 menu-groups pad-left-30\">\n<h3>Փնտրել՝  <small class=\"\">Ըստ թափքի</small></h3>\n<ul class=\"menu-groups-list\">\n<li><a class=\"sedan\" href='/search/passenger-cars?q={\"category\":\"1\",\"page\":\"1\",\"attr\":{\"84\":[10]}}'>Սեդան</a></li>\n<li><a class=\"hatchback\" href='/search/passenger-cars?q={\"category\":\"1\",\"page\":\"1\",\"attr\":{\"84\":[11]}}'>Հետչբեք</a></li>\n<li><a class=\"wagon\" href='/search/passenger-cars?q={\"category\":\"1\",\"page\":\"1\",\"attr\":{\"84\":[12]}}'>Ունիվերսալ</a></li>\n<li><a class=\"coupe\" href='/search/passenger-cars?q={\"category\":\"1\",\"page\":\"1\",\"attr\":{\"84\":[13]}}'>Կուպե</a></li>\n<li><a class=\"convertible\" href='/search/passenger-cars?q={\"category\":\"1\",\"page\":\"1\",\"attr\":{\"84\":[14]}}'>Կաբրիոլետ</a></li>\n<li><a class=\"suv-tuck\" href='/search/passenger-cars?q={\"category\":\"1\",\"page\":\"1\",\"attr\":{\"84\":[15]}}'>Ամենագնաց</a></li>\n<li><a class=\"pickup\" href='/search/passenger-cars?q={\"category\":\"1\",\"page\":\"1\",\"attr\":{\"84\":[16]}}'>Պիկապ</a></li>\n<li><a class=\"van\" href='/search/passenger-cars?q={\"category\":\"1\",\"page\":\"1\",\"attr\":{\"84\":[18]}}'>Ֆուրգոն</a></li>\n</ul>\n</div>\n<div class=\"col s12 m5 l5 menu-groups pad-left-30\">\n<h3>Փնտրել՝  <small>Ըստ արտադրողի</small></h3>\n<ul class=\"menu-groups-list\">\n<li><a class=\"c21\" href='/search/passenger-cars?q={\"category\":\"1\",\"page\":\"1\",\"make\":[\"21\"]}'></a></li>\n<li><a class=\"c246\" href='/search/passenger-cars?q={\"category\":\"1\",\"page\":\"1\",\"make\":[\"246\"]}'></a></li>\n<li><a class=\"c31\" href='/search/passenger-cars?q={\"category\":\"1\",\"page\":\"1\",\"make\":[\"31\"]}'></a></li>\n<li><a class=\"c211\" href='/search/passenger-cars?q={\"category\":\"1\",\"page\":\"1\",\"make\":[\"211\"]}'></a></li>\n<li><a class=\"c386\" href='/search/passenger-cars?q={\"category\":\"1\",\"page\":\"1\",\"make\":[\"386\"]}'></a></li>\n<li><a class=\"c296\" href='/search/passenger-cars?q={\"category\":\"1\",\"page\":\"1\",\"make\":[\"296\"]}'></a></li>\n<li><a class=\"c276\" href='/search/passenger-cars?q={\"category\":\"1\",\"page\":\"1\",\"make\":[\"276\"]}'></a></li>\n<li><a class=\"c116\" href='/search/passenger-cars?q={\"category\":\"1\",\"page\":\"1\",\"make\":[\"116\"]}'></a></li>\n</ul>\n</div>\n</div>\n</div>\n<div id=\"header-logo\" itemprop=\"headline\">\n<a href=\"/\">auto.am</a>\n</div>\n</div>\n<div class=\"col s3 m3 l4 hide-1336\">\n<div>\n<div class=\"search-master\">\n<input autocomplete=\"off\" class=\"search-input\" id=\"searchInp\" name=\"category\" oninput=\"onIn()\" placeholder=\"մակնիշ, մոդել, տարեթիվ\" type=\"text\"/>\n<div id=\"searchDiv\"></div>\n<i class=\"material-icons\" id=\"submit_search\">search</i>\n</div>\n</div>\n</div>\n<div class=\"col s4 m4 l5 mobile-sell-btn right\">\n<ul class=\"login-lang-help right\">\n<li class=\"valign-wrapper\" style=\"padding-left: 1rem\">\n<a class=\"waves-effect waves-light btn blue sellbtn\" onclick=\"return window.App.showLoginForm(event)\">Վաճառել</a>\n</li>\n<div class=\"profile-info dropdown valign-wrapper\">\n<div class=\"name bold\">\n<i class=\"material-icons left marg-left-12\" style=\"font-size: 38px; color: #1D232A; opacity: .8\"></i>\n<span class=\"truncate\" style=\"line-height:36px; display: inline-block;\">Իմ էջը</span>\n</div>\n<div class=\"dropcontainer\">\n<ul class=\"menu\">\n<li><a class=\"bold\" href=\"/login\" onclick=\"return window.App.showLoginForm(event)\">Մուտք</a></li>\n<li><a class=\"bold\" href=\"/register\" onclick=\"return window.App.showRegistrationForm(event)\">Գրանցվել</a></li>\n</ul>\n</div>\n</div>\n<!--                 <a onclick=\"return window.App.showLoginForm(event)\"\n                    href=\"/login\"\n                    class=\"side-login bold tooltip\"\n                    data-position=\"bottom\"\n                    data-delay=\"50\"\n                    data-tipso=\"Մուտք գործելով կայք դուք կստանաք հնարավորություն տեղադրել հայտարարություններ և հեշտությամբ վաճառել Ձեր մեքենան\"\n                    data-effect=\"mfp-move-from-top\"\n                >\n                    <i class=\"material-icons\">&#xE853;</i>Մուտք\n                </a>\n                <li>\n                <a href=\"/login\" onclick=\"return window.App.showLoginForm(event)\" class=\"tooltip bold\"\n                    data-position=\"bottom\"\n                    data-delay=\"50\"\n                    data-tipso=\"Մուտք գործելով կայք դուք կստանաք հնարավորություն տեղադրել հայտարարություններ և հեշտությամբ վաճառել Ձեր մեքենան\"\n                    data-effect=\"mfp-move-from-top\"\n                    ><i class=\"material-icons\">&#xE853;</i>\n                    </a>\n                </li> -->\n<!--                 <li class=\"pad-all-12\"><a href=\"/register\" onclick=\"return window.App.showRegistrationForm(event)\" class=\"tooltip bold \" data-tipso=\"Գրանցվելով կայքում դուք կստանաք հնարավորություն տեղադրել հայտարարություններ և հեշտությամբ վաճառել Ձեր մեքենան\" data-effect=\"mfp-move-from-top\">Գրանցվել</a></li>\n                <li class=\"pad-all-12\"><a href=\"/login\" onclick=\"return window.App.showLoginForm(event)\" class=\"tooltip bold\"\n                    data-position=\"bottom\"\n                    data-delay=\"50\"\n                    data-tipso=\"Սեղմելով գրանցվել կոճակը՝ Դուք հաստատում եք, որ ընդունում եք AUTO.am-ի Օգտագործման Կանոնները\"\n                    data-effect=\"mfp-move-from-top\"\n                    >Մուտք</a>\n                </li> -->\n<li class=\"dropdown valign-wrapper messenger-close-open\" id=\"notifcount-parent\">\n<i class=\"material-icons\">message</i>\n</li>\n<li class=\"dropdown valign-wrapper dealers-parent\">\n<a class=\"relative bold dealers-head\" href=\"/hy/dealers\">\n<i class=\"material-icons\">directions_car</i>\n<small>Դիլերներ</small>\n</a>\n</li>\n</ul>\n</div>\n</div>\n</header>\n<!-- /header -->\n<div class=\"wrapper rail-container\">\n<div class=\"rail left\"><div class=\"bncont\" data-id=\"723\"><a class=\"links\" href=\"https://t.ly/kkkC\" target=\"_blank\"><img alt=\"\" src=\"/static/azd/81/fe047c102ff2d05819e03fb968f7efd3.gif\"/></a></div></div>\n<div class=\"rail right\"><div class=\"bncont\" data-id=\"724\"><a class=\"links\" href=\"https://www.rgs.am/hy/online-appa/stepone?utm_source=auto.am&amp;utm_medium=referral&amp;utm_campaign=banner&amp;sid=0bcf728b-21b4-4016-a57d-0c2500d48162\" target=\"_blank\"><img alt=\"\" src=\"/static/azd/83/cff13e65a9f3eefff4e12a0250634899.gif\"/></a></div></div>\n</div>\n<section id=\"sec-blue\">\n<div class=\"wrapper row\">\n<div class=\"col s12 m8 l10\">\n<h2 class=\"bltitle\">Որոնման էջ - թոփ հայտարարություններ</h2>\n<!-- slider -->\n<div class=\"responsive-slider\" id=\"top-slider\">\n<div class=\"slide-item\">\n<!-- car badge -->\n<div class=\"card\">\n<a href=\"/offer/2815970\">\n<div class=\"card-image\">\n<img class=\"flipimg\" data-hover-img=\"/static/offers/2815970/s-4d88ba02856715deb82de2f399a6db3a.jpg\" src=\"/static/offers/2815970/s-83397d61ebe2b3966efdb39ff4627565.jpg\"/>\n</div>\n<span class=\"card-title bold\">BMW X5 </span>\n<div class=\"card-content\">\n<span class=\"bold\">2022</span>\n<p class=\"price right\">\n<span class=\"red-text\">$ 105 000</span> </p>\n</div>\n</a>\n<div class=\"card-action\">\n<!-- data-position=\"bottom\" data-delay=\"50\" data-tooltip=\"Մեքենայի վազքը\" -->\n<span class=\"left\">1000 կմ</span>\n</div>\n</div>\n<!-- / car badge -->\n</div>\n<div class=\"slide-item\">\n<!-- car badge -->\n<div class=\"card\">\n<a href=\"/offer/2793812\">\n<div class=\"card-image\">\n<img class=\"flipimg\" data-hover-img=\"/static/offers/2793812/s-c39e3ac34d1a2fa3dba739201a5a97e1.jpg\" src=\"/static/offers/2793812/s-b3e0f743650d2daaa3e142b24de396f7.jpg\"/>\n<span>Շտապ</span>\n<em></em>\n</div>\n<span class=\"card-title bold\">Bentley Continental Flying Spur </span>\n<div class=\"card-content\">\n<span class=\"bold\">2006</span>\n<p class=\"price right\">\n<span class=\"\">$ 35 000</span> </p>\n</div>\n</a>\n<div class=\"card-action\">\n<!-- data-position=\"bottom\" data-delay=\"50\" data-tooltip=\"Մեքենայի վազքը\" -->\n<span class=\"left\">1000 կմ</span>\n</div>\n</div>\n<!-- / car badge -->\n</div>\n<div class=\"slide-item\">\n<!-- car badge -->\n<div class=\"card\">\n<a href=\"/offer/2815837\">\n<div class=\"card-image\">\n<img class=\"flipimg\" data-hover-img=\"/static/offers/2815837/s-89a2dbbfb8f923f8b4d848f1376046ae.jpg\" src=\"/static/offers/2815837/s-33d54897ebf3d31fbcc148343b27835c.jpg\"/>\n<span>Շտապ</span>\n</div>\n<span class=\"card-title bold\">Ford Fusion </span>\n<div class=\"card-content\">\n<span class=\"bold\">2013</span>\n<p class=\"price right\">\n<span class=\"\">$ 13 000</span> </p>\n</div>\n</a>\n<div class=\"card-action\">\n<!-- data-position=\"bottom\" data-delay=\"50\" data-tooltip=\"Մեքենայի վազքը\" -->\n<span class=\"left\">1000 կմ</span>\n</div>\n</div>\n<!-- / car badge -->\n</div>\n<div class=\"slide-item\">\n<!-- car badge -->\n<div class=\"card\">\n<a href=\"/offer/2593344\">\n<div class=\"card-image\">\n<img class=\"flipimg\" data-hover-img=\"/static/offers/2593344/s-b4f6765152df5f49386af0c56d587f41.jpg\" src=\"/static/offers/2593344/s-a8d93156b6d17ba3108b62977e693fe2.jpg\"/>\n<span>Շտապ</span>\n</div>\n<span class=\"card-title bold\">Lexus RX 350 </span>\n<div class=\"card-content\">\n<span class=\"bold\">2006</span>\n<p class=\"price right\">\n<span class=\"\">$ 14 200</span> </p>\n</div>\n</a>\n<div class=\"card-action\">\n<!-- data-position=\"bottom\" data-delay=\"50\" data-tooltip=\"Մեքենայի վազքը\" -->\n<span class=\"left\">1000 կմ</span>\n</div>\n</div>\n<!-- / car badge -->\n</div>\n<div class=\"slide-item\">\n<!-- car badge -->\n<div class=\"card\">\n<a href=\"/offer/2815703\">\n<div class=\"card-image\">\n<img class=\"flipimg\" data-hover-img=\"/static/offers/2815703/s-acf3970781eac40c87e2489149595a81.jpg\" src=\"/static/offers/2815703/s-f415de89ec463f31c5909dc7c242d412.jpg\"/>\n<span>Շտապ</span>\n</div>\n<span class=\"card-title bold\">Mercedes-Benz S 550 </span>\n<div class=\"card-content\">\n<span class=\"bold\">2006</span>\n<p class=\"price right\">\n<span class=\"\">$ 14 000</span> </p>\n</div>\n</a>\n<div class=\"card-action\">\n<!-- data-position=\"bottom\" data-delay=\"50\" data-tooltip=\"Մեքենայի վազքը\" -->\n<span class=\"left\">1000 կմ</span>\n</div>\n</div>\n<!-- / car badge -->\n</div>\n<div class=\"slide-item\">\n<!-- car badge -->\n<div class=\"card\">\n<a href=\"/offer/2815696\">\n<div class=\"card-image\">\n<img class=\"flipimg\" data-hover-img=\"/static/offers/2815696/s-01fa3c22c59a6c64fa8ab52bc3ed1fab.jpg\" src=\"/static/offers/2815696/s-5736918d462086c10b19688df27873e0.jpg\"/>\n<span>Շտապ</span>\n</div>\n<span class=\"card-title bold\">Mercedes-Benz G 500 </span>\n<div class=\"card-content\">\n<span class=\"bold\">2005</span>\n<p class=\"price right\">\n<span class=\"\">$ 32 000</span> </p>\n</div>\n</a>\n<div class=\"card-action\">\n<!-- data-position=\"bottom\" data-delay=\"50\" data-tooltip=\"Մեքենայի վազքը\" -->\n<span class=\"left\">1000 կմ</span>\n</div>\n</div>\n<!-- / car badge -->\n</div>\n<div class=\"slide-item\">\n<!-- car badge -->\n<div class=\"card\">\n<a href=\"/offer/2815682\">\n<div class=\"card-image\">\n<img class=\"flipimg\" data-hover-img=\"/static/offers/2815682/s-27ab76e443974dd6da7dbb3c958e40ce.jpg\" src=\"/static/offers/2815682/s-a841b415011efb44bd167a423e58c990.jpg\"/>\n</div>\n<span class=\"card-title bold\">Mercedes-Benz E 350 </span>\n<div class=\"card-content\">\n<span class=\"bold\">2008</span>\n<p class=\"price right\">\n<span class=\"\">$ 9 500</span> </p>\n</div>\n</a>\n<div class=\"card-action\">\n<!-- data-position=\"bottom\" data-delay=\"50\" data-tooltip=\"Մեքենայի վազքը\" -->\n<span class=\"left\">1000 կմ</span>\n</div>\n</div>\n<!-- / car badge -->\n</div>\n<div class=\"slide-item\">\n<!-- car badge -->\n<div class=\"card\">\n<a href=\"/offer/2815640\">\n<div class=\"card-image\">\n<img class=\"flipimg\" data-hover-img=\"/static/offers/2815640/s-212b8f5e36e63d62a18583f0eeb03182.jpg\" src=\"/static/offers/2815640/s-0076a5befe6534154088239f4abbd2ff.jpg\"/>\n</div>\n<span class=\"card-title bold\">Mercedes-Benz S 500 </span>\n<div class=\"card-content\">\n<span class=\"bold\">2013</span>\n<p class=\"price right\">\n<small class=\"\">Պայմ.</small>\n</p>\n</div>\n</a>\n<div class=\"card-action\">\n<!-- data-position=\"bottom\" data-delay=\"50\" data-tooltip=\"Մեքենայի վազքը\" -->\n<span class=\"left\">1000 կմ</span>\n</div>\n</div>\n<!-- / car badge -->\n</div>\n<div class=\"slide-item\">\n<!-- car badge -->\n<div class=\"card\">\n<a href=\"/offer/2815564\">\n<div class=\"card-image\">\n<img class=\"flipimg\" data-hover-img=\"/static/offers/2815564/s-32b53ee8cc23109d37cf186cc64ded6f.jpg\" src=\"/static/offers/2815564/s-f027d1d964f1fb276a17101f6645cca6.jpg\"/>\n</div>\n<span class=\"card-title bold\">Volkswagen ID.4 </span>\n<div class=\"card-content\">\n<span class=\"bold\">2021</span>\n<p class=\"price right\">\n<span class=\"\">$ 40 000</span> </p>\n</div>\n</a>\n<div class=\"card-action\">\n<!-- data-position=\"bottom\" data-delay=\"50\" data-tooltip=\"Մեքենայի վազքը\" -->\n<span class=\"left\">1000 կմ</span>\n</div>\n</div>\n<!-- / car badge -->\n</div>\n<div class=\"slide-item\">\n<!-- car badge -->\n<div class=\"card\">\n<a href=\"/offer/2815556\">\n<div class=\"card-image\">\n<img class=\"flipimg\" data-hover-img=\"/static/offers/2815556/s-920915de5900725bfbac3a71c1697a59.jpg\" src=\"/static/offers/2815556/s-4a90f3ca46731aecbd3a0030cb15498b.jpg\"/>\n<span>Շտապ</span>\n<em></em>\n</div>\n<span class=\"card-title bold\">BMW 520 </span>\n<div class=\"card-content\">\n<span class=\"bold\">2016</span>\n<p class=\"price right\">\n<span class=\"\">$ 18 500</span> </p>\n</div>\n</a>\n<div class=\"card-action\">\n<!-- data-position=\"bottom\" data-delay=\"50\" data-tooltip=\"Մեքենայի վազքը\" -->\n<span class=\"left\">1000 կմ</span>\n</div>\n</div>\n<!-- / car badge -->\n</div>\n<div class=\"slide-item\">\n<!-- car badge -->\n<div class=\"card\">\n<a href=\"/offer/2815003\">\n<div class=\"card-image\">\n<img class=\"flipimg\" data-hover-img=\"/static/offers/2815003/s-b0e760fab4c15104370ca289c2ba9fb5.jpg\" src=\"/static/offers/2815003/s-34e94bc069fad10080e0219a61de8633.jpg\"/>\n<span>Շտապ</span>\n<em></em>\n</div>\n<span class=\"card-title bold\">BMW X5 </span>\n<div class=\"card-content\">\n<span class=\"bold\">2007</span>\n<p class=\"price right\">\n<span class=\"\">$ 15 200</span> </p>\n</div>\n</a>\n<div class=\"card-action\">\n<!-- data-position=\"bottom\" data-delay=\"50\" data-tooltip=\"Մեքենայի վազքը\" -->\n<span class=\"left\">1000 կմ</span>\n</div>\n</div>\n<!-- / car badge -->\n</div>\n<div class=\"slide-item\">\n<!-- car badge -->\n<div class=\"card\">\n<a href=\"/offer/2815392\">\n<div class=\"card-image\">\n<img class=\"flipimg\" data-hover-img=\"/static/offers/2815392/s-9fcbc968d511433769c7be11c480ef05.jpg\" src=\"/static/offers/2815392/s-3b224b348db20e49f718f0666fe48df3.jpg\"/>\n<span>Շտապ</span>\n</div>\n<span class=\"card-title bold\">Chevrolet Trax </span>\n<div class=\"card-content\">\n<span class=\"bold\">2016</span>\n<p class=\"price right\">\n<span class=\"\">$ 12 900</span> </p>\n</div>\n</a>\n<div class=\"card-action\">\n<!-- data-position=\"bottom\" data-delay=\"50\" data-tooltip=\"Մեքենայի վազքը\" -->\n<span class=\"left\">1000 կմ</span>\n</div>\n</div>\n<!-- / car badge -->\n</div>\n<div class=\"slide-item\">\n<!-- car badge -->\n<div class=\"card\">\n<a href=\"/offer/2814204\">\n<div class=\"card-image\">\n<img class=\"flipimg\" data-hover-img=\"/static/offers/2814204/s-86cd305b900a6d3a809f4a787cb0c011.jpg\" src=\"/static/offers/2814204/s-b2ab3e54bca574979e74aab5df9eaf6d.jpg\"/>\n<span>Շտապ</span>\n</div>\n<span class=\"card-title bold\">Jeep Compass </span>\n<div class=\"card-content\">\n<span class=\"bold\">2017</span>\n<p class=\"price right\">\n<span class=\"\">$ 16 200</span> </p>\n</div>\n</a>\n<div class=\"card-action\">\n<!-- data-position=\"bottom\" data-delay=\"50\" data-tooltip=\"Մեքենայի վազքը\" -->\n<span class=\"left\">1000 կմ</span>\n</div>\n</div>\n<!-- / car badge -->\n</div>\n<div class=\"slide-item\">\n<!-- car badge -->\n<div class=\"card\">\n<a href=\"/offer/2815008\">\n<div class=\"card-image\">\n<img class=\"flipimg\" data-hover-img=\"/static/offers/2815008/s-f0d3c98e49a04eedf836f32f44131038.jpg\" src=\"/static/offers/2815008/s-02c947b2c191de53344432d43d77d533.jpg\"/>\n</div>\n<span class=\"card-title bold\">Mercedes-Benz E 320 </span>\n<div class=\"card-content\">\n<span class=\"bold\">2004</span>\n<p class=\"price right\">\n<span class=\"\">$ 10 500</span> </p>\n</div>\n</a>\n<div class=\"card-action\">\n<!-- data-position=\"bottom\" data-delay=\"50\" data-tooltip=\"Մեքենայի վազքը\" -->\n<span class=\"left\">1000 կմ</span>\n</div>\n</div>\n<!-- / car badge -->\n</div>\n<div class=\"slide-item\">\n<!-- car badge -->\n<div class=\"card\">\n<a href=\"/offer/2815424\">\n<div class=\"card-image\">\n<img class=\"flipimg\" data-hover-img=\"/static/offers/2815424/s-de450a14031b22971e25767558076ed2.jpg\" src=\"/static/offers/2815424/s-3bd9a696da4fe783134d828635329251.jpg\"/>\n<span>Շտապ</span>\n<em></em>\n</div>\n<span class=\"card-title bold\">Infiniti G37 </span>\n<div class=\"card-content\">\n<span class=\"bold\">2013</span>\n<p class=\"price right\">\n<span class=\"\">$ 11 500</span> </p>\n</div>\n</a>\n<div class=\"card-action\">\n<!-- data-position=\"bottom\" data-delay=\"50\" data-tooltip=\"Մեքենայի վազքը\" -->\n<span class=\"left\">1000 կմ</span>\n</div>\n</div>\n<!-- / car badge -->\n</div>\n</div>\n<!-- /slider -->\n</div>\n<div class=\"col s12 m4 l2\">\n<div class=\"ad marg-left-12 marg-top-24\"><div class=\"bncont\" data-id=\"2\"><a class=\"links\" href=\"http://www.vincheck.am/\" target=\"_blank\"><img alt=\"\" src=\"/static/azd/235/af1e2dd56176e431896f907e55f51f17.gif\"/></a></div></div>\n</div>\n</div> </section>\n<section id=\"sec-search\">\n<div class=\"wrapper row\">\n<div class=\"wrapper row col s12 m8 l10\">\n<div class=\"col s12 m12 l12 azd marg-all-12\"><div class=\"bncont\" data-id=\"10\"><a class=\"links\" href=\"https://www.idram.am/cashlesspayments?Search=&amp;ThematicId=156&amp;filterBy=3&amp;utm_source=auto_am&amp;utm_medium=banner&amp;utm_campaign=Rocket_line&amp;utm_term=Supermarket\" target=\"_blank\"><img alt=\"\" src=\"/static/azd/258/32237bb77a688fd37ae973b4bb7f53c3.png\"/></a></div></div>\n<div class=\"refine-search center-align\">\n<a class=\"btn waves-effect waves-light blue-grey darken-2 refine-search-btn\"><i class=\"material-icons\"></i></a>\n</div>\n<div class=\"col s12 m3 l3 relative pad-right-12 noselect\" id=\"filters-cont\">\n<form id=\"filter-form\" method=\"post\">\n<div class=\"bold pad-top-12 cat\">\n                Կատեգորիա\n            </div>\n<div class=\"relative marg-top-12\">\n<select class=\"\" id=\"filter-category\" name=\"category\" style=\"width:100%\">\n<option data-url=\"all?q=%7B%22category%22%3A%221%22%2C%22page%22%3A%221%22%2C%22sort%22%3A%22latest%22%2C%22layout%22%3A%22list%22%2C%22user%22%3A%7B%22dealer%22%3A%220%22%2C%22id%22%3A%22%22%7D%2C%22make%22%3A%5B%22246%22%5D%2C%22year%22%3A%7B%22gt%22%3A%221911%22%2C%22lt%22%3A%222023%22%7D%2C%22usdprice%22%3A%7B%22gt%22%3A%220%22%2C%22lt%22%3A%22100000000%22%7D%2C%22mileage%22%3A%7B%22gt%22%3A%2210%22%2C%22lt%22%3A%221000000%22%7D%7D\" value=\"51\">Բոլորը</option>\n<option data-url=\"passenger-cars?q=%7B%22category%22%3A%221%22%2C%22page%22%3A%221%22%2C%22sort%22%3A%22latest%22%2C%22layout%22%3A%22list%22%2C%22user%22%3A%7B%22dealer%22%3A%220%22%2C%22id%22%3A%22%22%7D%2C%22make%22%3A%5B%22246%22%5D%2C%22year%22%3A%7B%22gt%22%3A%221911%22%2C%22lt%22%3A%222023%22%7D%2C%22usdprice%22%3A%7B%22gt%22%3A%220%22%2C%22lt%22%3A%22100000000%22%7D%2C%22mileage%22%3A%7B%22gt%22%3A%2210%22%2C%22lt%22%3A%221000000%22%7D%7D\" selected=\"\" value=\"1\">Մարդատար</option>\n<option data-url=\"trucks?q=%7B%22category%22%3A%221%22%2C%22page%22%3A%221%22%2C%22sort%22%3A%22latest%22%2C%22layout%22%3A%22list%22%2C%22user%22%3A%7B%22dealer%22%3A%220%22%2C%22id%22%3A%22%22%7D%2C%22make%22%3A%5B%22246%22%5D%2C%22year%22%3A%7B%22gt%22%3A%221911%22%2C%22lt%22%3A%222023%22%7D%2C%22usdprice%22%3A%7B%22gt%22%3A%220%22%2C%22lt%22%3A%22100000000%22%7D%2C%22mileage%22%3A%7B%22gt%22%3A%2210%22%2C%22lt%22%3A%221000000%22%7D%7D\" value=\"5\">Բեռնատար</option>\n<option data-url=\"motorcycles?q=%7B%22category%22%3A%221%22%2C%22page%22%3A%221%22%2C%22sort%22%3A%22latest%22%2C%22layout%22%3A%22list%22%2C%22user%22%3A%7B%22dealer%22%3A%220%22%2C%22id%22%3A%22%22%7D%2C%22make%22%3A%5B%22246%22%5D%2C%22year%22%3A%7B%22gt%22%3A%221911%22%2C%22lt%22%3A%222023%22%7D%2C%22usdprice%22%3A%7B%22gt%22%3A%220%22%2C%22lt%22%3A%22100000000%22%7D%2C%22mileage%22%3A%7B%22gt%22%3A%2210%22%2C%22lt%22%3A%221000000%22%7D%7D\" value=\"2\">Մոտոտեխնիկա</option>\n<option data-url=\"special-motor-vehicle?q=%7B%22category%22%3A%221%22%2C%22page%22%3A%221%22%2C%22sort%22%3A%22latest%22%2C%22layout%22%3A%22list%22%2C%22user%22%3A%7B%22dealer%22%3A%220%22%2C%22id%22%3A%22%22%7D%2C%22make%22%3A%5B%22246%22%5D%2C%22year%22%3A%7B%22gt%22%3A%221911%22%2C%22lt%22%3A%222023%22%7D%2C%22usdprice%22%3A%7B%22gt%22%3A%220%22%2C%22lt%22%3A%22100000000%22%7D%2C%22mileage%22%3A%7B%22gt%22%3A%2210%22%2C%22lt%22%3A%221000000%22%7D%7D\" value=\"6\">Հատուկ տեխնիկա</option>\n<option data-url=\"buses?q=%7B%22category%22%3A%221%22%2C%22page%22%3A%221%22%2C%22sort%22%3A%22latest%22%2C%22layout%22%3A%22list%22%2C%22user%22%3A%7B%22dealer%22%3A%220%22%2C%22id%22%3A%22%22%7D%2C%22make%22%3A%5B%22246%22%5D%2C%22year%22%3A%7B%22gt%22%3A%221911%22%2C%22lt%22%3A%222023%22%7D%2C%22usdprice%22%3A%7B%22gt%22%3A%220%22%2C%22lt%22%3A%22100000000%22%7D%2C%22mileage%22%3A%7B%22gt%22%3A%2210%22%2C%22lt%22%3A%221000000%22%7D%7D\" value=\"4\">Ավտոբուս</option>\n<option data-url=\"trailers?q=%7B%22category%22%3A%221%22%2C%22page%22%3A%221%22%2C%22sort%22%3A%22latest%22%2C%22layout%22%3A%22list%22%2C%22user%22%3A%7B%22dealer%22%3A%220%22%2C%22id%22%3A%22%22%7D%2C%22make%22%3A%5B%22246%22%5D%2C%22year%22%3A%7B%22gt%22%3A%221911%22%2C%22lt%22%3A%222023%22%7D%2C%22usdprice%22%3A%7B%22gt%22%3A%220%22%2C%22lt%22%3A%22100000000%22%7D%2C%22mileage%22%3A%7B%22gt%22%3A%2210%22%2C%22lt%22%3A%221000000%22%7D%7D\" value=\"30\">Կցասայլ</option>\n<option data-url=\"water-vehicles?q=%7B%22category%22%3A%221%22%2C%22page%22%3A%221%22%2C%22sort%22%3A%22latest%22%2C%22layout%22%3A%22list%22%2C%22user%22%3A%7B%22dealer%22%3A%220%22%2C%22id%22%3A%22%22%7D%2C%22make%22%3A%5B%22246%22%5D%2C%22year%22%3A%7B%22gt%22%3A%221911%22%2C%22lt%22%3A%222023%22%7D%2C%22usdprice%22%3A%7B%22gt%22%3A%220%22%2C%22lt%22%3A%22100000000%22%7D%2C%22mileage%22%3A%7B%22gt%22%3A%2210%22%2C%22lt%22%3A%221000000%22%7D%7D\" value=\"25\">Ջրային տեխնիկա</option>\n</select>\n</div>\n<input class=\"f-page\" name=\"page\" type=\"hidden\" value=\"1\"/>\n<input class=\"f-sort\" name=\"sort\" type=\"hidden\" value=\"latest\"/>\n<input class=\"f-layout\" name=\"layout\" type=\"hidden\" value=\"list\"/>\n<input class=\"f-usertype\" name=\"user[dealer]\" type=\"hidden\" value=\"0\"/>\n<input class=\"f-user\" name=\"user[id]\" type=\"hidden\" value=\"\"/>\n<ul class=\"collapsible\" data-collapsible=\"expandable\">\n<!-- makes -->\n<li class=\"filter-makes\">\n<div class=\"collapsible-header active\">Մակնիշը</div>\n<div class=\"collapsible-body\">\n<p>\n<input checked=\"\" class=\"filled-in\" id=\"ch-make-246\" name=\"make[]\" type=\"checkbox\" value=\"246\">\n<label for=\"ch-make-246\">Mercedes-Benz</label>\n</input></p>\n<!--                         <span style=\"display: block; border-bottom: 1px dotted #DDD; margin:12px 3px;\"></span>\n -->\n<p>\n<input class=\"filled-in\" id=\"ch-make-386\" name=\"make[]\" type=\"checkbox\" value=\"386\">\n<label for=\"ch-make-386\">Toyota</label>\n</input></p>\n<p>\n<input class=\"filled-in\" id=\"ch-make-276\" name=\"make[]\" type=\"checkbox\" value=\"276\">\n<label for=\"ch-make-276\">Nissan</label>\n</input></p>\n<p>\n<input class=\"filled-in\" id=\"ch-make-31\" name=\"make[]\" type=\"checkbox\" value=\"31\">\n<label for=\"ch-make-31\">BMW</label>\n</input></p>\n<p>\n<input class=\"filled-in\" id=\"ch-make-156\" name=\"make[]\" type=\"checkbox\" value=\"156\">\n<label for=\"ch-make-156\">Hyundai</label>\n</input></p>\n<span style=\"display: block; border-bottom: 1px  #DDD; margin:10px 3px;\"></span>\n<p>\n<input class=\"filled-in\" id=\"ch-make-1\" name=\"make[]\" type=\"checkbox\" value=\"1\">\n<label for=\"ch-make-1\">Acura</label>\n</input></p>\n<p>\n<input class=\"filled-in\" id=\"ch-make-6\" name=\"make[]\" type=\"checkbox\" value=\"6\"/>\n<label for=\"ch-make-6\">Alfa Romeo</label>\n</p>\n<p>\n<input class=\"filled-in\" id=\"ch-make-3691\" name=\"make[]\" type=\"checkbox\" value=\"3691\"/>\n<label for=\"ch-make-3691\">Alpina</label>\n</p>\n<p>\n<input class=\"filled-in\" id=\"ch-make-16\" name=\"make[]\" type=\"checkbox\" value=\"16\"/>\n<label for=\"ch-make-16\">Aston Martin</label>\n</p>\n<p>\n<input class=\"filled-in\" id=\"ch-make-21\" name=\"make[]\" type=\"checkbox\" value=\"21\"/>\n<label for=\"ch-make-21\">Audi</label>\n</p>\n<p>\n<input class=\"filled-in\" id=\"ch-make-26\" name=\"make[]\" type=\"checkbox\" value=\"26\"/>\n<label for=\"ch-make-26\">Bentley</label>\n</p>\n<p>\n<input class=\"filled-in\" id=\"ch-make-36\" name=\"make[]\" type=\"checkbox\" value=\"36\"/>\n<label for=\"ch-make-36\">Bugatti</label>\n</p>\n<p>\n<input class=\"filled-in\" id=\"ch-make-41\" name=\"make[]\" type=\"checkbox\" value=\"41\"/>\n<label for=\"ch-make-41\">Buick</label>\n</p>\n<p>\n<input class=\"filled-in\" id=\"ch-make-74\" name=\"make[]\" type=\"checkbox\" value=\"74\"/>\n<label for=\"ch-make-74\">BYD</label>\n</p>\n<p>\n<input class=\"filled-in\" id=\"ch-make-46\" name=\"make[]\" type=\"checkbox\" value=\"46\"/>\n<label for=\"ch-make-46\">Cadillac</label>\n</p>\n<p>\n<input class=\"filled-in\" id=\"ch-make-51\" name=\"make[]\" type=\"checkbox\" value=\"51\"/>\n<label for=\"ch-make-51\">Chery</label>\n</p>\n<p>\n<input class=\"filled-in\" id=\"ch-make-56\" name=\"make[]\" type=\"checkbox\" value=\"56\"/>\n<label for=\"ch-make-56\">Chevrolet</label>\n</p>\n<p>\n<input class=\"filled-in\" id=\"ch-make-61\" name=\"make[]\" type=\"checkbox\" value=\"61\"/>\n<label for=\"ch-make-61\">Chrysler</label>\n</p>\n<p>\n<input class=\"filled-in\" id=\"ch-make-66\" name=\"make[]\" type=\"checkbox\" value=\"66\"/>\n<label for=\"ch-make-66\">Citroen</label>\n</p>\n<p>\n<input class=\"filled-in\" id=\"ch-make-81\" name=\"make[]\" type=\"checkbox\" value=\"81\"/>\n<label for=\"ch-make-81\">Daewoo</label>\n</p>\n<p>\n<input class=\"filled-in\" id=\"ch-make-86\" name=\"make[]\" type=\"checkbox\" value=\"86\"/>\n<label for=\"ch-make-86\">Daihatsu</label>\n</p>\n<p>\n<input class=\"filled-in\" id=\"ch-make-91\" name=\"make[]\" type=\"checkbox\" value=\"91\"/>\n<label for=\"ch-make-91\">Dodge</label>\n</p>\n<p>\n<input class=\"filled-in\" id=\"ch-make-3515\" name=\"make[]\" type=\"checkbox\" value=\"3515\"/>\n<label for=\"ch-make-3515\">Dongfeng</label>\n</p>\n<p>\n<input class=\"filled-in\" id=\"ch-make-96\" name=\"make[]\" type=\"checkbox\" value=\"96\"/>\n<label for=\"ch-make-96\">Eagle</label>\n</p>\n<p>\n<input class=\"filled-in\" id=\"ch-make-101\" name=\"make[]\" type=\"checkbox\" value=\"101\"/>\n<label for=\"ch-make-101\">ErAZ</label>\n</p>\n<p>\n<input class=\"filled-in\" id=\"ch-make-4670\" name=\"make[]\" type=\"checkbox\" value=\"4670\"/>\n<label for=\"ch-make-4670\">FAW</label>\n</p>\n<p>\n<input class=\"filled-in\" id=\"ch-make-106\" name=\"make[]\" type=\"checkbox\" value=\"106\"/>\n<label for=\"ch-make-106\">Ferrari</label>\n</p>\n<p>\n<input class=\"filled-in\" id=\"ch-make-111\" name=\"make[]\" type=\"checkbox\" value=\"111\"/>\n<label for=\"ch-make-111\">Fiat</label>\n</p>\n<p>\n<input class=\"filled-in\" id=\"ch-make-116\" name=\"make[]\" type=\"checkbox\" value=\"116\"/>\n<label for=\"ch-make-116\">Ford</label>\n</p>\n<p>\n<input class=\"filled-in\" id=\"ch-make-3505\" name=\"make[]\" type=\"checkbox\" value=\"3505\"/>\n<label for=\"ch-make-3505\">Foton</label>\n</p>\n<p>\n<input class=\"filled-in\" id=\"ch-make-121\" name=\"make[]\" type=\"checkbox\" value=\"121\"/>\n<label for=\"ch-make-121\">GAZ</label>\n</p>\n<p>\n<input class=\"filled-in\" id=\"ch-make-126\" name=\"make[]\" type=\"checkbox\" value=\"126\"/>\n<label for=\"ch-make-126\">Geely</label>\n</p>\n<p>\n<input class=\"filled-in\" id=\"ch-make-131\" name=\"make[]\" type=\"checkbox\" value=\"131\"/>\n<label for=\"ch-make-131\">GMC</label>\n</p>\n<p>\n<input class=\"filled-in\" id=\"ch-make-136\" name=\"make[]\" type=\"checkbox\" value=\"136\"/>\n<label for=\"ch-make-136\">Great Wall(hover)</label>\n</p>\n<p>\n<input class=\"filled-in\" id=\"ch-make-146\" name=\"make[]\" type=\"checkbox\" value=\"146\"/>\n<label for=\"ch-make-146\">Honda</label>\n</p>\n<p>\n<input class=\"filled-in\" id=\"ch-make-4765\" name=\"make[]\" type=\"checkbox\" value=\"4765\"/>\n<label for=\"ch-make-4765\">Hozon</label>\n</p>\n<p>\n<input class=\"filled-in\" id=\"ch-make-422\" name=\"make[]\" type=\"checkbox\" value=\"422\"/>\n<label for=\"ch-make-422\">Huanghai Auto</label>\n</p>\n<p>\n<input class=\"filled-in\" id=\"ch-make-151\" name=\"make[]\" type=\"checkbox\" value=\"151\"/>\n<label for=\"ch-make-151\">Hummer</label>\n</p>\n<p>\n<input class=\"filled-in\" id=\"ch-make-166\" name=\"make[]\" type=\"checkbox\" value=\"166\"/>\n<label for=\"ch-make-166\">Infiniti</label>\n</p>\n<p>\n<input class=\"filled-in\" id=\"ch-make-161\" name=\"make[]\" type=\"checkbox\" value=\"161\"/>\n<label for=\"ch-make-161\">Iran Khodro</label>\n</p>\n<p>\n<input class=\"filled-in\" id=\"ch-make-171\" name=\"make[]\" type=\"checkbox\" value=\"171\"/>\n<label for=\"ch-make-171\">Isuzu</label>\n</p>\n<p>\n<input class=\"filled-in\" id=\"ch-make-176\" name=\"make[]\" type=\"checkbox\" value=\"176\"/>\n<label for=\"ch-make-176\">IZH</label>\n</p>\n<p>\n<input class=\"filled-in\" id=\"ch-make-4699\" name=\"make[]\" type=\"checkbox\" value=\"4699\"/>\n<label for=\"ch-make-4699\">JAC</label>\n</p>\n<p>\n<input class=\"filled-in\" id=\"ch-make-181\" name=\"make[]\" type=\"checkbox\" value=\"181\"/>\n<label for=\"ch-make-181\">Jaguar</label>\n</p>\n<p>\n<input class=\"filled-in\" id=\"ch-make-186\" name=\"make[]\" type=\"checkbox\" value=\"186\"/>\n<label for=\"ch-make-186\">Jeep</label>\n</p>\n<p>\n<input class=\"filled-in\" id=\"ch-make-191\" name=\"make[]\" type=\"checkbox\" value=\"191\"/>\n<label for=\"ch-make-191\">Kia</label>\n</p>\n<p>\n<input class=\"filled-in\" id=\"ch-make-196\" name=\"make[]\" type=\"checkbox\" value=\"196\"/>\n<label for=\"ch-make-196\">Lamborghini</label>\n</p>\n<p>\n<input class=\"filled-in\" id=\"ch-make-201\" name=\"make[]\" type=\"checkbox\" value=\"201\"/>\n<label for=\"ch-make-201\">Lancia</label>\n</p>\n<p>\n<input class=\"filled-in\" id=\"ch-make-206\" name=\"make[]\" type=\"checkbox\" value=\"206\"/>\n<label for=\"ch-make-206\">Land Rover</label>\n</p>\n<p>\n<input class=\"filled-in\" id=\"ch-make-211\" name=\"make[]\" type=\"checkbox\" value=\"211\"/>\n<label for=\"ch-make-211\">Lexus</label>\n</p>\n<p>\n<input class=\"filled-in\" id=\"ch-make-4697\" name=\"make[]\" type=\"checkbox\" value=\"4697\"/>\n<label for=\"ch-make-4697\">Lifan</label>\n</p>\n<p>\n<input class=\"filled-in\" id=\"ch-make-216\" name=\"make[]\" type=\"checkbox\" value=\"216\"/>\n<label for=\"ch-make-216\">Lincoln</label>\n</p>\n<p>\n<input class=\"filled-in\" id=\"ch-make-221\" name=\"make[]\" type=\"checkbox\" value=\"221\"/>\n<label for=\"ch-make-221\">Lotus</label>\n</p>\n<p>\n<input class=\"filled-in\" id=\"ch-make-4673\" name=\"make[]\" type=\"checkbox\" value=\"4673\"/>\n<label for=\"ch-make-4673\">LuAZ</label>\n</p>\n<p>\n<input class=\"filled-in\" id=\"ch-make-4716\" name=\"make[]\" type=\"checkbox\" value=\"4716\"/>\n<label for=\"ch-make-4716\">Luxgen</label>\n</p>\n<p>\n<input class=\"filled-in\" id=\"ch-make-226\" name=\"make[]\" type=\"checkbox\" value=\"226\"/>\n<label for=\"ch-make-226\">Mahindra</label>\n</p>\n<p>\n<input class=\"filled-in\" id=\"ch-make-231\" name=\"make[]\" type=\"checkbox\" value=\"231\"/>\n<label for=\"ch-make-231\">Maserati</label>\n</p>\n<p>\n<input class=\"filled-in\" id=\"ch-make-236\" name=\"make[]\" type=\"checkbox\" value=\"236\"/>\n<label for=\"ch-make-236\">Maybach</label>\n</p>\n<p>\n<input class=\"filled-in\" id=\"ch-make-241\" name=\"make[]\" type=\"checkbox\" value=\"241\"/>\n<label for=\"ch-make-241\">Mazda</label>\n</p>\n<p>\n<input class=\"filled-in\" id=\"ch-make-251\" name=\"make[]\" type=\"checkbox\" value=\"251\"/>\n<label for=\"ch-make-251\">Mercury</label>\n</p>\n<p>\n<input class=\"filled-in\" id=\"ch-make-256\" name=\"make[]\" type=\"checkbox\" value=\"256\"/>\n<label for=\"ch-make-256\">MG</label>\n</p>\n<p>\n<input class=\"filled-in\" id=\"ch-make-261\" name=\"make[]\" type=\"checkbox\" value=\"261\"/>\n<label for=\"ch-make-261\">Mini</label>\n</p>\n<p>\n<input class=\"filled-in\" id=\"ch-make-266\" name=\"make[]\" type=\"checkbox\" value=\"266\"/>\n<label for=\"ch-make-266\">Mitsubishi</label>\n</p>\n<p>\n<input class=\"filled-in\" id=\"ch-make-4621\" name=\"make[]\" type=\"checkbox\" value=\"4621\"/>\n<label for=\"ch-make-4621\">Mitsuoka</label>\n</p>\n<p>\n<input class=\"filled-in\" id=\"ch-make-271\" name=\"make[]\" type=\"checkbox\" value=\"271\"/>\n<label for=\"ch-make-271\">Moskvich</label>\n</p>\n<p>\n<input class=\"filled-in\" id=\"ch-make-286\" name=\"make[]\" type=\"checkbox\" value=\"286\"/>\n<label for=\"ch-make-286\">OKA</label>\n</p>\n<p>\n<input class=\"filled-in\" id=\"ch-make-291\" name=\"make[]\" type=\"checkbox\" value=\"291\"/>\n<label for=\"ch-make-291\">Oldsmobile</label>\n</p>\n<p>\n<input class=\"filled-in\" id=\"ch-make-296\" name=\"make[]\" type=\"checkbox\" value=\"296\"/>\n<label for=\"ch-make-296\">Opel</label>\n</p>\n<p>\n<input class=\"filled-in\" id=\"ch-make-301\" name=\"make[]\" type=\"checkbox\" value=\"301\"/>\n<label for=\"ch-make-301\">Peugeot</label>\n</p>\n<p>\n<input class=\"filled-in\" id=\"ch-make-306\" name=\"make[]\" type=\"checkbox\" value=\"306\"/>\n<label for=\"ch-make-306\">Plymouth</label>\n</p>\n<p>\n<input class=\"filled-in\" id=\"ch-make-4846\" name=\"make[]\" type=\"checkbox\" value=\"4846\"/>\n<label for=\"ch-make-4846\">Polestar</label>\n</p>\n<p>\n<input class=\"filled-in\" id=\"ch-make-311\" name=\"make[]\" type=\"checkbox\" value=\"311\"/>\n<label for=\"ch-make-311\">Pontiac</label>\n</p>\n<p>\n<input class=\"filled-in\" id=\"ch-make-316\" name=\"make[]\" type=\"checkbox\" value=\"316\"/>\n<label for=\"ch-make-316\">Porsche</label>\n</p>\n<p>\n<input class=\"filled-in\" id=\"ch-make-321\" name=\"make[]\" type=\"checkbox\" value=\"321\"/>\n<label for=\"ch-make-321\">RAF</label>\n</p>\n<p>\n<input class=\"filled-in\" id=\"ch-make-4688\" name=\"make[]\" type=\"checkbox\" value=\"4688\"/>\n<label for=\"ch-make-4688\">Ram</label>\n</p>\n<p>\n<input class=\"filled-in\" id=\"ch-make-326\" name=\"make[]\" type=\"checkbox\" value=\"326\"/>\n<label for=\"ch-make-326\">Renault</label>\n</p>\n<p>\n<input class=\"filled-in\" id=\"ch-make-331\" name=\"make[]\" type=\"checkbox\" value=\"331\"/>\n<label for=\"ch-make-331\">Rolls Royce</label>\n</p>\n<p>\n<input class=\"filled-in\" id=\"ch-make-336\" name=\"make[]\" type=\"checkbox\" value=\"336\"/>\n<label for=\"ch-make-336\">Rover</label>\n</p>\n<p>\n<input class=\"filled-in\" id=\"ch-make-341\" name=\"make[]\" type=\"checkbox\" value=\"341\"/>\n<label for=\"ch-make-341\">Saab</label>\n</p>\n<p>\n<input class=\"filled-in\" id=\"ch-make-3543\" name=\"make[]\" type=\"checkbox\" value=\"3543\"/>\n<label for=\"ch-make-3543\">Samsung</label>\n</p>\n<p>\n<input class=\"filled-in\" id=\"ch-make-346\" name=\"make[]\" type=\"checkbox\" value=\"346\"/>\n<label for=\"ch-make-346\">Saturn</label>\n</p>\n<p>\n<input class=\"filled-in\" id=\"ch-make-351\" name=\"make[]\" type=\"checkbox\" value=\"351\"/>\n<label for=\"ch-make-351\">Scion</label>\n</p>\n<p>\n<input class=\"filled-in\" id=\"ch-make-356\" name=\"make[]\" type=\"checkbox\" value=\"356\"/>\n<label for=\"ch-make-356\">Seat</label>\n</p>\n<p>\n<input class=\"filled-in\" id=\"ch-make-68\" name=\"make[]\" type=\"checkbox\" value=\"68\"/>\n<label for=\"ch-make-68\">SG</label>\n</p>\n<p>\n<input class=\"filled-in\" id=\"ch-make-361\" name=\"make[]\" type=\"checkbox\" value=\"361\"/>\n<label for=\"ch-make-361\">Skoda</label>\n</p>\n<p>\n<input class=\"filled-in\" id=\"ch-make-366\" name=\"make[]\" type=\"checkbox\" value=\"366\"/>\n<label for=\"ch-make-366\">Smart</label>\n</p>\n<p>\n<input class=\"filled-in\" id=\"ch-make-371\" name=\"make[]\" type=\"checkbox\" value=\"371\"/>\n<label for=\"ch-make-371\">SsangYong</label>\n</p>\n<p>\n<input class=\"filled-in\" id=\"ch-make-376\" name=\"make[]\" type=\"checkbox\" value=\"376\"/>\n<label for=\"ch-make-376\">Subaru</label>\n</p>\n<p>\n<input class=\"filled-in\" id=\"ch-make-381\" name=\"make[]\" type=\"checkbox\" value=\"381\"/>\n<label for=\"ch-make-381\">Suzuki</label>\n</p>\n<p>\n<input class=\"filled-in\" id=\"ch-make-3730\" name=\"make[]\" type=\"checkbox\" value=\"3730\"/>\n<label for=\"ch-make-3730\">Tagaz</label>\n</p>\n<p>\n<input class=\"filled-in\" id=\"ch-make-3508\" name=\"make[]\" type=\"checkbox\" value=\"3508\"/>\n<label for=\"ch-make-3508\">Tesla</label>\n</p>\n<p>\n<input class=\"filled-in\" id=\"ch-make-4681\" name=\"make[]\" type=\"checkbox\" value=\"4681\"/>\n<label for=\"ch-make-4681\">Triumph</label>\n</p>\n<p>\n<input class=\"filled-in\" id=\"ch-make-391\" name=\"make[]\" type=\"checkbox\" value=\"391\"/>\n<label for=\"ch-make-391\">UAZ</label>\n</p>\n<p>\n<input class=\"filled-in\" id=\"ch-make-396\" name=\"make[]\" type=\"checkbox\" value=\"396\"/>\n<label for=\"ch-make-396\">VAZ (Lada)</label>\n</p>\n<p>\n<input class=\"filled-in\" id=\"ch-make-401\" name=\"make[]\" type=\"checkbox\" value=\"401\"/>\n<label for=\"ch-make-401\">Volkswagen</label>\n</p>\n<p>\n<input class=\"filled-in\" id=\"ch-make-406\" name=\"make[]\" type=\"checkbox\" value=\"406\"/>\n<label for=\"ch-make-406\">Volvo</label>\n</p>\n<p>\n<input class=\"filled-in\" id=\"ch-make-4830\" name=\"make[]\" type=\"checkbox\" value=\"4830\"/>\n<label for=\"ch-make-4830\">Weltmeister</label>\n</p>\n<p>\n<input class=\"filled-in\" id=\"ch-make-416\" name=\"make[]\" type=\"checkbox\" value=\"416\"/>\n<label for=\"ch-make-416\">ZAZ-Tavria</label>\n</p>\n<p>\n<input class=\"filled-in\" id=\"ch-make-421\" name=\"make[]\" type=\"checkbox\" value=\"421\"/>\n<label for=\"ch-make-421\">Zx Auto</label>\n</p>\n</div>\n</li>\n<li class=\"filter-models\">\n<div class=\"collapsible-header active\">Mercedes-Benz</div>\n<div class=\"collapsible-body expandable expanded\">\n<p>\n<input class=\"models filled-in submodel\" id=\"ch-model-2962\" name=\"model[246][]\" type=\"checkbox\" value=\"2962\"/>\n<label for=\"ch-model-2962\">124</label>\n</p>\n<p>\n<input class=\"models filled-in submodel\" id=\"ch-model-3489\" name=\"model[246][]\" type=\"checkbox\" value=\"3489\"/>\n<label for=\"ch-model-3489\">1317</label>\n</p>\n<p>\n<input class=\"models filled-in submodel\" id=\"ch-model-4118\" name=\"model[246][]\" type=\"checkbox\" value=\"4118\"/>\n<label for=\"ch-model-4118\">170</label>\n</p>\n<p>\n<input class=\"models filled-in submodel\" id=\"ch-model-4108\" name=\"model[246][]\" type=\"checkbox\" value=\"4108\"/>\n<label for=\"ch-model-4108\">180</label>\n</p>\n<p>\n<input class=\"models filled-in submodel\" id=\"ch-model-1900\" name=\"model[246][]\" type=\"checkbox\" value=\"1900\"/>\n<label for=\"ch-model-1900\">190</label>\n</p>\n<p>\n<input class=\"models filled-in submodel\" id=\"ch-model-1901\" name=\"model[246][]\" type=\"checkbox\" value=\"1901\"/>\n<label for=\"ch-model-1901\">200</label>\n</p>\n<p>\n<input class=\"models filled-in submodel\" id=\"ch-model-4109\" name=\"model[246][]\" type=\"checkbox\" value=\"4109\"/>\n<label for=\"ch-model-4109\">208</label>\n</p>\n<p>\n<input class=\"models filled-in submodel\" id=\"ch-model-4355\" name=\"model[246][]\" type=\"checkbox\" value=\"4355\"/>\n<label for=\"ch-model-4355\">209D</label>\n</p>\n<p>\n<input class=\"models filled-in submodel\" id=\"ch-model-4111\" name=\"model[246][]\" type=\"checkbox\" value=\"4111\"/>\n<label for=\"ch-model-4111\">220</label>\n</p>\n<p>\n<input class=\"models filled-in submodel\" id=\"ch-model-1902\" name=\"model[246][]\" type=\"checkbox\" value=\"1902\"/>\n<label for=\"ch-model-1902\">230</label>\n</p>\n<p>\n<input class=\"models filled-in submodel\" id=\"ch-model-1903\" name=\"model[246][]\" type=\"checkbox\" value=\"1903\"/>\n<label for=\"ch-model-1903\">240</label>\n</p>\n<p>\n<input class=\"models filled-in submodel\" id=\"ch-model-1904\" name=\"model[246][]\" type=\"checkbox\" value=\"1904\"/>\n<label for=\"ch-model-1904\">250</label>\n</p>\n<p>\n<input class=\"models filled-in submodel\" id=\"ch-model-1905\" name=\"model[246][]\" type=\"checkbox\" value=\"1905\"/>\n<label for=\"ch-model-1905\">260</label>\n</p>\n<p>\n<input class=\"models filled-in submodel\" id=\"ch-model-1906\" name=\"model[246][]\" type=\"checkbox\" value=\"1906\"/>\n<label for=\"ch-model-1906\">270</label>\n</p>\n<p>\n<input class=\"models filled-in submodel\" id=\"ch-model-1907\" name=\"model[246][]\" type=\"checkbox\" value=\"1907\"/>\n<label for=\"ch-model-1907\">280</label>\n</p>\n<p>\n<input class=\"models filled-in submodel\" id=\"ch-model-1908\" name=\"model[246][]\" type=\"checkbox\" value=\"1908\"/>\n<label for=\"ch-model-1908\">290</label>\n</p>\n<p>\n<input class=\"models filled-in submodel\" id=\"ch-model-1909\" name=\"model[246][]\" type=\"checkbox\" value=\"1909\"/>\n<label for=\"ch-model-1909\">300</label>\n</p>\n<p>\n<input class=\"models filled-in submodel\" id=\"ch-model-4112\" name=\"model[246][]\" type=\"checkbox\" value=\"4112\"/>\n<label for=\"ch-model-4112\">308</label>\n</p>\n<p>\n<input class=\"models filled-in submodel\" id=\"ch-model-1910\" name=\"model[246][]\" type=\"checkbox\" value=\"1910\"/>\n<label for=\"ch-model-1910\">320</label>\n</p>\n<p>\n<input class=\"models filled-in submodel\" id=\"ch-model-1911\" name=\"model[246][]\" type=\"checkbox\" value=\"1911\"/>\n<label for=\"ch-model-1911\">350</label>\n</p>\n<p>\n<input class=\"models filled-in submodel\" id=\"ch-model-1912\" name=\"model[246][]\" type=\"checkbox\" value=\"1912\"/>\n<label for=\"ch-model-1912\">380</label>\n</p>\n<p>\n<input class=\"models filled-in submodel\" id=\"ch-model-1913\" name=\"model[246][]\" type=\"checkbox\" value=\"1913\"/>\n<label for=\"ch-model-1913\">400</label>\n</p>\n<p>\n<input class=\"models filled-in submodel\" id=\"ch-model-1914\" name=\"model[246][]\" type=\"checkbox\" value=\"1914\"/>\n<label for=\"ch-model-1914\">416</label>\n</p>\n<p>\n<input class=\"models filled-in submodel\" id=\"ch-model-1915\" name=\"model[246][]\" type=\"checkbox\" value=\"1915\"/>\n<label for=\"ch-model-1915\">420</label>\n</p>\n<p>\n<input class=\"models filled-in submodel\" id=\"ch-model-1916\" name=\"model[246][]\" type=\"checkbox\" value=\"1916\"/>\n<label for=\"ch-model-1916\">450</label>\n</p>\n<p>\n<input class=\"models filled-in submodel\" id=\"ch-model-1917\" name=\"model[246][]\" type=\"checkbox\" value=\"1917\"/>\n<label for=\"ch-model-1917\">500</label>\n</p>\n<p>\n<input class=\"models filled-in submodel\" id=\"ch-model-1918\" name=\"model[246][]\" type=\"checkbox\" value=\"1918\"/>\n<label for=\"ch-model-1918\">560</label>\n</p>\n<p>\n<input class=\"models filled-in submodel\" id=\"ch-model-1919\" name=\"model[246][]\" type=\"checkbox\" value=\"1919\"/>\n<label for=\"ch-model-1919\">600</label>\n</p>\n<p>\n<input class=\"models filled-in submodel\" id=\"ch-model-4166\" name=\"model[246][]\" type=\"checkbox\" value=\"4166\"/>\n<label for=\"ch-model-4166\">609D</label>\n</p>\n<p>\n<input class=\"models filled-in submodel\" id=\"ch-model-4175\" name=\"model[246][]\" type=\"checkbox\" value=\"4175\"/>\n<label for=\"ch-model-4175\">814</label>\n</p>\n<p>\n<input class=\"models filled-in submodel\" id=\"ch-model-483\" name=\"model[246][]\" type=\"checkbox\" value=\"483\"/>\n<label for=\"ch-model-483\">A-Class</label>\n</p>\n<p class=\"pad-left-24 filter-submodels\">\n<input class=\"models filled-in ch-model-483-subs\" id=\"ch-model-1920\" name=\"model[246][]\" type=\"checkbox\" value=\"1920\"/>\n<label for=\"ch-model-1920\">A 140</label>\n</p>\n<p class=\"pad-left-24 filter-submodels\">\n<input class=\"models filled-in ch-model-483-subs\" id=\"ch-model-1921\" name=\"model[246][]\" type=\"checkbox\" value=\"1921\"/>\n<label for=\"ch-model-1921\">A 150</label>\n</p>\n<p class=\"pad-left-24 filter-submodels\">\n<input class=\"models filled-in ch-model-483-subs\" id=\"ch-model-1922\" name=\"model[246][]\" type=\"checkbox\" value=\"1922\"/>\n<label for=\"ch-model-1922\">A 160</label>\n</p>\n<p class=\"pad-left-24 filter-submodels\">\n<input class=\"models filled-in ch-model-483-subs\" id=\"ch-model-1923\" name=\"model[246][]\" type=\"checkbox\" value=\"1923\"/>\n<label for=\"ch-model-1923\">A 170</label>\n</p>\n<p class=\"pad-left-24 filter-submodels\">\n<input class=\"models filled-in ch-model-483-subs\" id=\"ch-model-1924\" name=\"model[246][]\" type=\"checkbox\" value=\"1924\"/>\n<label for=\"ch-model-1924\">A 180</label>\n</p>\n<p class=\"pad-left-24 filter-submodels\">\n<input class=\"models filled-in ch-model-483-subs\" id=\"ch-model-1925\" name=\"model[246][]\" type=\"checkbox\" value=\"1925\"/>\n<label for=\"ch-model-1925\">A 190</label>\n</p>\n<p class=\"pad-left-24 filter-submodels\">\n<input class=\"models filled-in ch-model-483-subs\" id=\"ch-model-1926\" name=\"model[246][]\" type=\"checkbox\" value=\"1926\"/>\n<label for=\"ch-model-1926\">A 200</label>\n</p>\n<p class=\"pad-left-24 filter-submodels\">\n<input class=\"models filled-in ch-model-483-subs\" id=\"ch-model-1927\" name=\"model[246][]\" type=\"checkbox\" value=\"1927\"/>\n<label for=\"ch-model-1927\">A 210</label>\n</p>\n<p class=\"pad-left-24 filter-submodels\">\n<input class=\"models filled-in ch-model-483-subs\" id=\"ch-model-4035\" name=\"model[246][]\" type=\"checkbox\" value=\"4035\"/>\n<label for=\"ch-model-4035\">A 220</label>\n</p>\n<p class=\"pad-left-24 filter-submodels\">\n<input class=\"models filled-in ch-model-483-subs\" id=\"ch-model-4036\" name=\"model[246][]\" type=\"checkbox\" value=\"4036\"/>\n<label for=\"ch-model-4036\">A 250</label>\n</p>\n<p class=\"pad-left-24 filter-submodels\">\n<input class=\"models filled-in ch-model-483-subs\" id=\"ch-model-4037\" name=\"model[246][]\" type=\"checkbox\" value=\"4037\"/>\n<label for=\"ch-model-4037\">A 45 AMG</label>\n</p>\n<p>\n<input class=\"models filled-in submodel\" id=\"ch-model-3454\" name=\"model[246][]\" type=\"checkbox\" value=\"3454\"/>\n<label for=\"ch-model-3454\">Accelo</label>\n</p>\n<p>\n<input class=\"models filled-in submodel\" id=\"ch-model-3456\" name=\"model[246][]\" type=\"checkbox\" value=\"3456\"/>\n<label for=\"ch-model-3456\">Actros</label>\n</p>\n<p>\n<input class=\"models filled-in submodel\" id=\"ch-model-4119\" name=\"model[246][]\" type=\"checkbox\" value=\"4119\"/>\n<label for=\"ch-model-4119\">AMG GT</label>\n</p>\n<p>\n<input class=\"models filled-in submodel\" id=\"ch-model-3457\" name=\"model[246][]\" type=\"checkbox\" value=\"3457\"/>\n<label for=\"ch-model-3457\">Antos</label>\n</p>\n<p>\n<input class=\"models filled-in submodel\" id=\"ch-model-3453\" name=\"model[246][]\" type=\"checkbox\" value=\"3453\"/>\n<label for=\"ch-model-3453\">Atego</label>\n</p>\n<p>\n<input class=\"models filled-in submodel\" id=\"ch-model-3455\" name=\"model[246][]\" type=\"checkbox\" value=\"3455\"/>\n<label for=\"ch-model-3455\">Axor</label>\n</p>\n<p>\n<input class=\"models filled-in submodel\" id=\"ch-model-484\" name=\"model[246][]\" type=\"checkbox\" value=\"484\"/>\n<label for=\"ch-model-484\">B-Class</label>\n</p>\n<p class=\"pad-left-24 filter-submodels\">\n<input class=\"models filled-in ch-model-484-subs\" id=\"ch-model-1928\" name=\"model[246][]\" type=\"checkbox\" value=\"1928\"/>\n<label for=\"ch-model-1928\">B 150</label>\n</p>\n<p class=\"pad-left-24 filter-submodels\">\n<input class=\"models filled-in ch-model-484-subs\" id=\"ch-model-4113\" name=\"model[246][]\" type=\"checkbox\" value=\"4113\"/>\n<label for=\"ch-model-4113\">B 160</label>\n</p>\n<p class=\"pad-left-24 filter-submodels\">\n<input class=\"models filled-in ch-model-484-subs\" id=\"ch-model-1929\" name=\"model[246][]\" type=\"checkbox\" value=\"1929\"/>\n<label for=\"ch-model-1929\">B 170</label>\n</p>\n<p class=\"pad-left-24 filter-submodels\">\n<input class=\"models filled-in ch-model-484-subs\" id=\"ch-model-1930\" name=\"model[246][]\" type=\"checkbox\" value=\"1930\"/>\n<label for=\"ch-model-1930\">B 180</label>\n</p>\n<p class=\"pad-left-24 filter-submodels\">\n<input class=\"models filled-in ch-model-484-subs\" id=\"ch-model-1931\" name=\"model[246][]\" type=\"checkbox\" value=\"1931\"/>\n<label for=\"ch-model-1931\">B 200</label>\n</p>\n<p class=\"pad-left-24 filter-submodels\">\n<input class=\"models filled-in ch-model-484-subs\" id=\"ch-model-4038\" name=\"model[246][]\" type=\"checkbox\" value=\"4038\"/>\n<label for=\"ch-model-4038\">B 220</label>\n</p>\n<p class=\"pad-left-24 filter-submodels\">\n<input class=\"models filled-in ch-model-484-subs\" id=\"ch-model-4039\" name=\"model[246][]\" type=\"checkbox\" value=\"4039\"/>\n<label for=\"ch-model-4039\">B 250</label>\n</p>\n<p class=\"pad-left-24 filter-submodels\">\n<input class=\"models filled-in ch-model-484-subs\" id=\"ch-model-4040\" name=\"model[246][]\" type=\"checkbox\" value=\"4040\"/>\n<label for=\"ch-model-4040\">B Electric Drive</label>\n</p>\n<p>\n<input class=\"models filled-in submodel\" id=\"ch-model-485\" name=\"model[246][]\" type=\"checkbox\" value=\"485\"/>\n<label for=\"ch-model-485\">C-Class</label>\n</p>\n<p class=\"pad-left-24 filter-submodels\">\n<input class=\"models filled-in ch-model-485-subs\" id=\"ch-model-1937\" name=\"model[246][]\" type=\"checkbox\" value=\"1937\"/>\n<label for=\"ch-model-1937\">C 160</label>\n</p>\n<p class=\"pad-left-24 filter-submodels\">\n<input class=\"models filled-in ch-model-485-subs\" id=\"ch-model-1938\" name=\"model[246][]\" type=\"checkbox\" value=\"1938\"/>\n<label for=\"ch-model-1938\">C 180</label>\n</p>\n<p class=\"pad-left-24 filter-submodels\">\n<input class=\"models filled-in ch-model-485-subs\" id=\"ch-model-1939\" name=\"model[246][]\" type=\"checkbox\" value=\"1939\"/>\n<label for=\"ch-model-1939\">C 200</label>\n</p>\n<p class=\"pad-left-24 filter-submodels\">\n<input class=\"models filled-in ch-model-485-subs\" id=\"ch-model-1940\" name=\"model[246][]\" type=\"checkbox\" value=\"1940\"/>\n<label for=\"ch-model-1940\">C 220</label>\n</p>\n<p class=\"pad-left-24 filter-submodels\">\n<input class=\"models filled-in ch-model-485-subs\" id=\"ch-model-1941\" name=\"model[246][]\" type=\"checkbox\" value=\"1941\"/>\n<label for=\"ch-model-1941\">C 230</label>\n</p>\n<p class=\"pad-left-24 filter-submodels\">\n<input class=\"models filled-in ch-model-485-subs\" id=\"ch-model-1942\" name=\"model[246][]\" type=\"checkbox\" value=\"1942\"/>\n<label for=\"ch-model-1942\">C 240</label>\n</p>\n<p class=\"pad-left-24 filter-submodels\">\n<input class=\"models filled-in ch-model-485-subs\" id=\"ch-model-1943\" name=\"model[246][]\" type=\"checkbox\" value=\"1943\"/>\n<label for=\"ch-model-1943\">C 250</label>\n</p>\n<p class=\"pad-left-24 filter-submodels\">\n<input class=\"models filled-in ch-model-485-subs\" id=\"ch-model-1944\" name=\"model[246][]\" type=\"checkbox\" value=\"1944\"/>\n<label for=\"ch-model-1944\">C 270</label>\n</p>\n<p class=\"pad-left-24 filter-submodels\">\n<input class=\"models filled-in ch-model-485-subs\" id=\"ch-model-1945\" name=\"model[246][]\" type=\"checkbox\" value=\"1945\"/>\n<label for=\"ch-model-1945\">C 280</label>\n</p>\n<p class=\"pad-left-24 filter-submodels\">\n<input class=\"models filled-in ch-model-485-subs\" id=\"ch-model-1932\" name=\"model[246][]\" type=\"checkbox\" value=\"1932\"/>\n<label for=\"ch-model-1932\">C 30 AMG</label>\n</p>\n<p class=\"pad-left-24 filter-submodels\">\n<input class=\"models filled-in ch-model-485-subs\" id=\"ch-model-2947\" name=\"model[246][]\" type=\"checkbox\" value=\"2947\"/>\n<label for=\"ch-model-2947\">C 300</label>\n</p>\n<p class=\"pad-left-24 filter-submodels\">\n<input class=\"models filled-in ch-model-485-subs\" id=\"ch-model-1933\" name=\"model[246][]\" type=\"checkbox\" value=\"1933\"/>\n<label for=\"ch-model-1933\">C 32 AMG</label>\n</p>\n<p class=\"pad-left-24 filter-submodels\">\n<input class=\"models filled-in ch-model-485-subs\" id=\"ch-model-1946\" name=\"model[246][]\" type=\"checkbox\" value=\"1946\"/>\n<label for=\"ch-model-1946\">C 320</label>\n</p>\n<p class=\"pad-left-24 filter-submodels\">\n<input class=\"models filled-in ch-model-485-subs\" id=\"ch-model-1947\" name=\"model[246][]\" type=\"checkbox\" value=\"1947\"/>\n<label for=\"ch-model-1947\">C 350</label>\n</p>\n<p class=\"pad-left-24 filter-submodels\">\n<input class=\"models filled-in ch-model-485-subs\" id=\"ch-model-1934\" name=\"model[246][]\" type=\"checkbox\" value=\"1934\"/>\n<label for=\"ch-model-1934\">C 36 AMG</label>\n</p>\n<p class=\"pad-left-24 filter-submodels\">\n<input class=\"models filled-in ch-model-485-subs\" id=\"ch-model-4114\" name=\"model[246][]\" type=\"checkbox\" value=\"4114\"/>\n<label for=\"ch-model-4114\">C 400</label>\n</p>\n<p class=\"pad-left-24 filter-submodels\">\n<input class=\"models filled-in ch-model-485-subs\" id=\"ch-model-1935\" name=\"model[246][]\" type=\"checkbox\" value=\"1935\"/>\n<label for=\"ch-model-1935\">C 43 AMG</label>\n</p>\n<p class=\"pad-left-24 filter-submodels\">\n<input class=\"models filled-in ch-model-485-subs\" id=\"ch-model-4115\" name=\"model[246][]\" type=\"checkbox\" value=\"4115\"/>\n<label for=\"ch-model-4115\">C 450</label>\n</p>\n<p class=\"pad-left-24 filter-submodels\">\n<input class=\"models filled-in ch-model-485-subs\" id=\"ch-model-1936\" name=\"model[246][]\" type=\"checkbox\" value=\"1936\"/>\n<label for=\"ch-model-1936\">C 55 AMG</label>\n</p>\n<p class=\"pad-left-24 filter-submodels\">\n<input class=\"models filled-in ch-model-485-subs\" id=\"ch-model-3496\" name=\"model[246][]\" type=\"checkbox\" value=\"3496\"/>\n<label for=\"ch-model-3496\">C 63 AMG</label>\n</p>\n<p>\n<input class=\"models filled-in submodel\" id=\"ch-model-3462\" name=\"model[246][]\" type=\"checkbox\" value=\"3462\"/>\n<label for=\"ch-model-3462\">Capa</label>\n</p>\n<p>\n<input class=\"models filled-in submodel\" id=\"ch-model-486\" name=\"model[246][]\" type=\"checkbox\" value=\"486\"/>\n<label for=\"ch-model-486\">CE-Class</label>\n</p>\n<p class=\"pad-left-24 filter-submodels\">\n<input class=\"models filled-in ch-model-486-subs\" id=\"ch-model-1948\" name=\"model[246][]\" type=\"checkbox\" value=\"1948\"/>\n<label for=\"ch-model-1948\">CE 200</label>\n</p>\n<p class=\"pad-left-24 filter-submodels\">\n<input class=\"models filled-in ch-model-486-subs\" id=\"ch-model-1949\" name=\"model[246][]\" type=\"checkbox\" value=\"1949\"/>\n<label for=\"ch-model-1949\">CE 220</label>\n</p>\n<p class=\"pad-left-24 filter-submodels\">\n<input class=\"models filled-in ch-model-486-subs\" id=\"ch-model-1950\" name=\"model[246][]\" type=\"checkbox\" value=\"1950\"/>\n<label for=\"ch-model-1950\">CE 230</label>\n</p>\n<p class=\"pad-left-24 filter-submodels\">\n<input class=\"models filled-in ch-model-486-subs\" id=\"ch-model-4041\" name=\"model[246][]\" type=\"checkbox\" value=\"4041\"/>\n<label for=\"ch-model-4041\">CE 230</label>\n</p>\n<p class=\"pad-left-24 filter-submodels\">\n<input class=\"models filled-in ch-model-486-subs\" id=\"ch-model-4116\" name=\"model[246][]\" type=\"checkbox\" value=\"4116\"/>\n<label for=\"ch-model-4116\">CE 240</label>\n</p>\n<p class=\"pad-left-24 filter-submodels\">\n<input class=\"models filled-in ch-model-486-subs\" id=\"ch-model-4117\" name=\"model[246][]\" type=\"checkbox\" value=\"4117\"/>\n<label for=\"ch-model-4117\">CE 280</label>\n</p>\n<p class=\"pad-left-24 filter-submodels\">\n<input class=\"models filled-in ch-model-486-subs\" id=\"ch-model-1951\" name=\"model[246][]\" type=\"checkbox\" value=\"1951\"/>\n<label for=\"ch-model-1951\">CE 300</label>\n</p>\n<p class=\"pad-left-24 filter-submodels\">\n<input class=\"models filled-in ch-model-486-subs\" id=\"ch-model-1952\" name=\"model[246][]\" type=\"checkbox\" value=\"1952\"/>\n<label for=\"ch-model-1952\">CE 320</label>\n</p>\n<p>\n<input class=\"models filled-in submodel\" id=\"ch-model-3461\" name=\"model[246][]\" type=\"checkbox\" value=\"3461\"/>\n<label for=\"ch-model-3461\">Citaro</label>\n</p>\n<p>\n<input class=\"models filled-in submodel\" id=\"ch-model-487\" name=\"model[246][]\" type=\"checkbox\" value=\"487\"/>\n<label for=\"ch-model-487\">CL-Class</label>\n</p>\n<p class=\"pad-left-24 filter-submodels\">\n<input class=\"models filled-in ch-model-487-subs\" id=\"ch-model-4042\" name=\"model[246][]\" type=\"checkbox\" value=\"4042\"/>\n<label for=\"ch-model-4042\">CL 160</label>\n</p>\n<p class=\"pad-left-24 filter-submodels\">\n<input class=\"models filled-in ch-model-487-subs\" id=\"ch-model-1955\" name=\"model[246][]\" type=\"checkbox\" value=\"1955\"/>\n<label for=\"ch-model-1955\">CL 180</label>\n</p>\n<p class=\"pad-left-24 filter-submodels\">\n<input class=\"models filled-in ch-model-487-subs\" id=\"ch-model-1956\" name=\"model[246][]\" type=\"checkbox\" value=\"1956\"/>\n<label for=\"ch-model-1956\">CL 200</label>\n</p>\n<p class=\"pad-left-24 filter-submodels\">\n<input class=\"models filled-in ch-model-487-subs\" id=\"ch-model-1957\" name=\"model[246][]\" type=\"checkbox\" value=\"1957\"/>\n<label for=\"ch-model-1957\">CL 220</label>\n</p>\n<p class=\"pad-left-24 filter-submodels\">\n<input class=\"models filled-in ch-model-487-subs\" id=\"ch-model-1958\" name=\"model[246][]\" type=\"checkbox\" value=\"1958\"/>\n<label for=\"ch-model-1958\">CL 230</label>\n</p>\n<p class=\"pad-left-24 filter-submodels\">\n<input class=\"models filled-in ch-model-487-subs\" id=\"ch-model-1959\" name=\"model[246][]\" type=\"checkbox\" value=\"1959\"/>\n<label for=\"ch-model-1959\">CL 420</label>\n</p>\n<p class=\"pad-left-24 filter-submodels\">\n<input class=\"models filled-in ch-model-487-subs\" id=\"ch-model-2948\" name=\"model[246][]\" type=\"checkbox\" value=\"2948\"/>\n<label for=\"ch-model-2948\">CL 500</label>\n</p>\n<p class=\"pad-left-24 filter-submodels\">\n<input class=\"models filled-in ch-model-487-subs\" id=\"ch-model-1953\" name=\"model[246][]\" type=\"checkbox\" value=\"1953\"/>\n<label for=\"ch-model-1953\">CL 55 AMG</label>\n</p>\n<p class=\"pad-left-24 filter-submodels\">\n<input class=\"models filled-in ch-model-487-subs\" id=\"ch-model-1960\" name=\"model[246][]\" type=\"checkbox\" value=\"1960\"/>\n<label for=\"ch-model-1960\">CL 600</label>\n</p>\n<p class=\"pad-left-24 filter-submodels\">\n<input class=\"models filled-in ch-model-487-subs\" id=\"ch-model-3012\" name=\"model[246][]\" type=\"checkbox\" value=\"3012\"/>\n<label for=\"ch-model-3012\">CL 63 AMG</label>\n</p>\n<p class=\"pad-left-24 filter-submodels\">\n<input class=\"models filled-in ch-model-487-subs\" id=\"ch-model-1954\" name=\"model[246][]\" type=\"checkbox\" value=\"1954\"/>\n<label for=\"ch-model-1954\">CL 65 AMG</label>\n</p>\n<p>\n<input class=\"models filled-in submodel\" id=\"ch-model-3560\" name=\"model[246][]\" type=\"checkbox\" value=\"3560\"/>\n<label for=\"ch-model-3560\">CLA-Class</label>\n</p>\n<p class=\"pad-left-24 filter-submodels\">\n<input class=\"models filled-in ch-model-3560-subs\" id=\"ch-model-3565\" name=\"model[246][]\" type=\"checkbox\" value=\"3565\"/>\n<label for=\"ch-model-3565\">CLA 180</label>\n</p>\n<p class=\"pad-left-24 filter-submodels\">\n<input class=\"models filled-in ch-model-3560-subs\" id=\"ch-model-3566\" name=\"model[246][]\" type=\"checkbox\" value=\"3566\"/>\n<label for=\"ch-model-3566\">CLA 200</label>\n</p>\n<p class=\"pad-left-24 filter-submodels\">\n<input class=\"models filled-in ch-model-3560-subs\" id=\"ch-model-3567\" name=\"model[246][]\" type=\"checkbox\" value=\"3567\"/>\n<label for=\"ch-model-3567\">CLA 220</label>\n</p>\n<p class=\"pad-left-24 filter-submodels\">\n<input class=\"models filled-in ch-model-3560-subs\" id=\"ch-model-3568\" name=\"model[246][]\" type=\"checkbox\" value=\"3568\"/>\n<label for=\"ch-model-3568\">CLA 250</label>\n</p>\n<p class=\"pad-left-24 filter-submodels\">\n<input class=\"models filled-in ch-model-3560-subs\" id=\"ch-model-3569\" name=\"model[246][]\" type=\"checkbox\" value=\"3569\"/>\n<label for=\"ch-model-3569\">CLA 45 AMG</label>\n</p>\n<p>\n<input class=\"models filled-in submodel\" id=\"ch-model-488\" name=\"model[246][]\" type=\"checkbox\" value=\"488\"/>\n<label for=\"ch-model-488\">CLC-Class</label>\n</p>\n<p class=\"pad-left-24 filter-submodels\">\n<input class=\"models filled-in ch-model-488-subs\" id=\"ch-model-2953\" name=\"model[246][]\" type=\"checkbox\" value=\"2953\"/>\n<label for=\"ch-model-2953\">CLC 180</label>\n</p>\n<p class=\"pad-left-24 filter-submodels\">\n<input class=\"models filled-in ch-model-488-subs\" id=\"ch-model-2954\" name=\"model[246][]\" type=\"checkbox\" value=\"2954\"/>\n<label for=\"ch-model-2954\">CLC 200</label>\n</p>\n<p class=\"pad-left-24 filter-submodels\">\n<input class=\"models filled-in ch-model-488-subs\" id=\"ch-model-2955\" name=\"model[246][]\" type=\"checkbox\" value=\"2955\"/>\n<label for=\"ch-model-2955\">CLC 230</label>\n</p>\n<p class=\"pad-left-24 filter-submodels\">\n<input class=\"models filled-in ch-model-488-subs\" id=\"ch-model-2956\" name=\"model[246][]\" type=\"checkbox\" value=\"2956\"/>\n<label for=\"ch-model-2956\">CLC 350</label>\n</p>\n<p>\n<input class=\"models filled-in submodel\" id=\"ch-model-489\" name=\"model[246][]\" type=\"checkbox\" value=\"489\"/>\n<label for=\"ch-model-489\">CLK-Class</label>\n</p>\n<p class=\"pad-left-24 filter-submodels\">\n<input class=\"models filled-in ch-model-489-subs\" id=\"ch-model-1963\" name=\"model[246][]\" type=\"checkbox\" value=\"1963\"/>\n<label for=\"ch-model-1963\">CLK 200</label>\n</p>\n<p class=\"pad-left-24 filter-submodels\">\n<input class=\"models filled-in ch-model-489-subs\" id=\"ch-model-1964\" name=\"model[246][]\" type=\"checkbox\" value=\"1964\"/>\n<label for=\"ch-model-1964\">CLK 220</label>\n</p>\n<p class=\"pad-left-24 filter-submodels\">\n<input class=\"models filled-in ch-model-489-subs\" id=\"ch-model-1965\" name=\"model[246][]\" type=\"checkbox\" value=\"1965\"/>\n<label for=\"ch-model-1965\">CLK 230</label>\n</p>\n<p class=\"pad-left-24 filter-submodels\">\n<input class=\"models filled-in ch-model-489-subs\" id=\"ch-model-1966\" name=\"model[246][]\" type=\"checkbox\" value=\"1966\"/>\n<label for=\"ch-model-1966\">CLK 240</label>\n</p>\n<p class=\"pad-left-24 filter-submodels\">\n<input class=\"models filled-in ch-model-489-subs\" id=\"ch-model-1967\" name=\"model[246][]\" type=\"checkbox\" value=\"1967\"/>\n<label for=\"ch-model-1967\">CLK 270</label>\n</p>\n<p class=\"pad-left-24 filter-submodels\">\n<input class=\"models filled-in ch-model-489-subs\" id=\"ch-model-1968\" name=\"model[246][]\" type=\"checkbox\" value=\"1968\"/>\n<label for=\"ch-model-1968\">CLK 280</label>\n</p>\n<p class=\"pad-left-24 filter-submodels\">\n<input class=\"models filled-in ch-model-489-subs\" id=\"ch-model-2877\" name=\"model[246][]\" type=\"checkbox\" value=\"2877\"/>\n<label for=\"ch-model-2877\">CLK 320</label>\n</p>\n<p class=\"pad-left-24 filter-submodels\">\n<input class=\"models filled-in ch-model-489-subs\" id=\"ch-model-1969\" name=\"model[246][]\" type=\"checkbox\" value=\"1969\"/>\n<label for=\"ch-model-1969\">CLK 350</label>\n</p>\n<p class=\"pad-left-24 filter-submodels\">\n<input class=\"models filled-in ch-model-489-subs\" id=\"ch-model-1970\" name=\"model[246][]\" type=\"checkbox\" value=\"1970\"/>\n<label for=\"ch-model-1970\">CLK 430</label>\n</p>\n<p class=\"pad-left-24 filter-submodels\">\n<input class=\"models filled-in ch-model-489-subs\" id=\"ch-model-1971\" name=\"model[246][]\" type=\"checkbox\" value=\"1971\"/>\n<label for=\"ch-model-1971\">CLK 500</label>\n</p>\n<p class=\"pad-left-24 filter-submodels\">\n<input class=\"models filled-in ch-model-489-subs\" id=\"ch-model-1961\" name=\"model[246][]\" type=\"checkbox\" value=\"1961\"/>\n<label for=\"ch-model-1961\">CLK 55 AMG</label>\n</p>\n<p class=\"pad-left-24 filter-submodels\">\n<input class=\"models filled-in ch-model-489-subs\" id=\"ch-model-1962\" name=\"model[246][]\" type=\"checkbox\" value=\"1962\"/>\n<label for=\"ch-model-1962\">CLK 65 AMG</label>\n</p>\n<p>\n<input class=\"models filled-in submodel\" id=\"ch-model-490\" name=\"model[246][]\" type=\"checkbox\" value=\"490\"/>\n<label for=\"ch-model-490\">CLS-Class</label>\n</p>\n<p class=\"pad-left-24 filter-submodels\">\n<input class=\"models filled-in ch-model-490-subs\" id=\"ch-model-4043\" name=\"model[246][]\" type=\"checkbox\" value=\"4043\"/>\n<label for=\"ch-model-4043\">CLS 220</label>\n</p>\n<p class=\"pad-left-24 filter-submodels\">\n<input class=\"models filled-in ch-model-490-subs\" id=\"ch-model-4044\" name=\"model[246][]\" type=\"checkbox\" value=\"4044\"/>\n<label for=\"ch-model-4044\">CLS 250</label>\n</p>\n<p class=\"pad-left-24 filter-submodels\">\n<input class=\"models filled-in ch-model-490-subs\" id=\"ch-model-2957\" name=\"model[246][]\" type=\"checkbox\" value=\"2957\"/>\n<label for=\"ch-model-2957\">CLS 280</label>\n</p>\n<p class=\"pad-left-24 filter-submodels\">\n<input class=\"models filled-in ch-model-490-subs\" id=\"ch-model-4045\" name=\"model[246][]\" type=\"checkbox\" value=\"4045\"/>\n<label for=\"ch-model-4045\">CLS 300</label>\n</p>\n<p class=\"pad-left-24 filter-submodels\">\n<input class=\"models filled-in ch-model-490-subs\" id=\"ch-model-1974\" name=\"model[246][]\" type=\"checkbox\" value=\"1974\"/>\n<label for=\"ch-model-1974\">CLS 320</label>\n</p>\n<p class=\"pad-left-24 filter-submodels\">\n<input class=\"models filled-in ch-model-490-subs\" id=\"ch-model-1975\" name=\"model[246][]\" type=\"checkbox\" value=\"1975\"/>\n<label for=\"ch-model-1975\">CLS 350</label>\n</p>\n<p class=\"pad-left-24 filter-submodels\">\n<input class=\"models filled-in ch-model-490-subs\" id=\"ch-model-4046\" name=\"model[246][]\" type=\"checkbox\" value=\"4046\"/>\n<label for=\"ch-model-4046\">CLS 400</label>\n</p>\n<p class=\"pad-left-24 filter-submodels\">\n<input class=\"models filled-in ch-model-490-subs\" id=\"ch-model-1976\" name=\"model[246][]\" type=\"checkbox\" value=\"1976\"/>\n<label for=\"ch-model-1976\">CLS 500</label>\n</p>\n<p class=\"pad-left-24 filter-submodels\">\n<input class=\"models filled-in ch-model-490-subs\" id=\"ch-model-1972\" name=\"model[246][]\" type=\"checkbox\" value=\"1972\"/>\n<label for=\"ch-model-1972\">CLS 55 AMG</label>\n</p>\n<p class=\"pad-left-24 filter-submodels\">\n<input class=\"models filled-in ch-model-490-subs\" id=\"ch-model-3590\" name=\"model[246][]\" type=\"checkbox\" value=\"3590\"/>\n<label for=\"ch-model-3590\">CLS 63 AMG</label>\n</p>\n<p>\n<input class=\"models filled-in submodel\" id=\"ch-model-3463\" name=\"model[246][]\" type=\"checkbox\" value=\"3463\"/>\n<label for=\"ch-model-3463\">Conecto</label>\n</p>\n<p>\n<input class=\"models filled-in submodel\" id=\"ch-model-491\" name=\"model[246][]\" type=\"checkbox\" value=\"491\"/>\n<label for=\"ch-model-491\">E-Class</label>\n</p>\n<p class=\"pad-left-24 filter-submodels\">\n<input class=\"models filled-in ch-model-491-subs\" id=\"ch-model-1982\" name=\"model[246][]\" type=\"checkbox\" value=\"1982\"/>\n<label for=\"ch-model-1982\">E 200</label>\n</p>\n<p class=\"pad-left-24 filter-submodels\">\n<input class=\"models filled-in ch-model-491-subs\" id=\"ch-model-1983\" name=\"model[246][]\" type=\"checkbox\" value=\"1983\"/>\n<label for=\"ch-model-1983\">E 220</label>\n</p>\n<p class=\"pad-left-24 filter-submodels\">\n<input class=\"models filled-in ch-model-491-subs\" id=\"ch-model-1984\" name=\"model[246][]\" type=\"checkbox\" value=\"1984\"/>\n<label for=\"ch-model-1984\">E 230</label>\n</p>\n<p class=\"pad-left-24 filter-submodels\">\n<input class=\"models filled-in ch-model-491-subs\" id=\"ch-model-1985\" name=\"model[246][]\" type=\"checkbox\" value=\"1985\"/>\n<label for=\"ch-model-1985\">E 240</label>\n</p>\n<p class=\"pad-left-24 filter-submodels\">\n<input class=\"models filled-in ch-model-491-subs\" id=\"ch-model-1986\" name=\"model[246][]\" type=\"checkbox\" value=\"1986\"/>\n<label for=\"ch-model-1986\">E 250</label>\n</p>\n<p class=\"pad-left-24 filter-submodels\">\n<input class=\"models filled-in ch-model-491-subs\" id=\"ch-model-1987\" name=\"model[246][]\" type=\"checkbox\" value=\"1987\"/>\n<label for=\"ch-model-1987\">E 260</label>\n</p>\n<p class=\"pad-left-24 filter-submodels\">\n<input class=\"models filled-in ch-model-491-subs\" id=\"ch-model-1988\" name=\"model[246][]\" type=\"checkbox\" value=\"1988\"/>\n<label for=\"ch-model-1988\">E 270</label>\n</p>\n<p class=\"pad-left-24 filter-submodels\">\n<input class=\"models filled-in ch-model-491-subs\" id=\"ch-model-1989\" name=\"model[246][]\" type=\"checkbox\" value=\"1989\"/>\n<label for=\"ch-model-1989\">E 280</label>\n</p>\n<p class=\"pad-left-24 filter-submodels\">\n<input class=\"models filled-in ch-model-491-subs\" id=\"ch-model-1990\" name=\"model[246][]\" type=\"checkbox\" value=\"1990\"/>\n<label for=\"ch-model-1990\">E 290</label>\n</p>\n<p class=\"pad-left-24 filter-submodels\">\n<input class=\"models filled-in ch-model-491-subs\" id=\"ch-model-1991\" name=\"model[246][]\" type=\"checkbox\" value=\"1991\"/>\n<label for=\"ch-model-1991\">E 300</label>\n</p>\n<p class=\"pad-left-24 filter-submodels\">\n<input class=\"models filled-in ch-model-491-subs\" id=\"ch-model-1992\" name=\"model[246][]\" type=\"checkbox\" value=\"1992\"/>\n<label for=\"ch-model-1992\">E 320</label>\n</p>\n<p class=\"pad-left-24 filter-submodels\">\n<input class=\"models filled-in ch-model-491-subs\" id=\"ch-model-1993\" name=\"model[246][]\" type=\"checkbox\" value=\"1993\"/>\n<label for=\"ch-model-1993\">E 350</label>\n</p>\n<p class=\"pad-left-24 filter-submodels\">\n<input class=\"models filled-in ch-model-491-subs\" id=\"ch-model-1977\" name=\"model[246][]\" type=\"checkbox\" value=\"1977\"/>\n<label for=\"ch-model-1977\">E 36 AMG</label>\n</p>\n<p class=\"pad-left-24 filter-submodels\">\n<input class=\"models filled-in ch-model-491-subs\" id=\"ch-model-1994\" name=\"model[246][]\" type=\"checkbox\" value=\"1994\"/>\n<label for=\"ch-model-1994\">E 380</label>\n</p>\n<p class=\"pad-left-24 filter-submodels\">\n<input class=\"models filled-in ch-model-491-subs\" id=\"ch-model-1995\" name=\"model[246][]\" type=\"checkbox\" value=\"1995\"/>\n<label for=\"ch-model-1995\">E 400</label>\n</p>\n<p class=\"pad-left-24 filter-submodels\">\n<input class=\"models filled-in ch-model-491-subs\" id=\"ch-model-1996\" name=\"model[246][]\" type=\"checkbox\" value=\"1996\"/>\n<label for=\"ch-model-1996\">E 416</label>\n</p>\n<p class=\"pad-left-24 filter-submodels\">\n<input class=\"models filled-in ch-model-491-subs\" id=\"ch-model-1997\" name=\"model[246][]\" type=\"checkbox\" value=\"1997\"/>\n<label for=\"ch-model-1997\">E 420</label>\n</p>\n<p class=\"pad-left-24 filter-submodels\">\n<input class=\"models filled-in ch-model-491-subs\" id=\"ch-model-4047\" name=\"model[246][]\" type=\"checkbox\" value=\"4047\"/>\n<label for=\"ch-model-4047\">E 43 AMG</label>\n</p>\n<p class=\"pad-left-24 filter-submodels\">\n<input class=\"models filled-in ch-model-491-subs\" id=\"ch-model-1998\" name=\"model[246][]\" type=\"checkbox\" value=\"1998\"/>\n<label for=\"ch-model-1998\">E 430</label>\n</p>\n<p class=\"pad-left-24 filter-submodels\">\n<input class=\"models filled-in ch-model-491-subs\" id=\"ch-model-1999\" name=\"model[246][]\" type=\"checkbox\" value=\"1999\"/>\n<label for=\"ch-model-1999\">E 450</label>\n</p>\n<p class=\"pad-left-24 filter-submodels\">\n<input class=\"models filled-in ch-model-491-subs\" id=\"ch-model-1978\" name=\"model[246][]\" type=\"checkbox\" value=\"1978\"/>\n<label for=\"ch-model-1978\">E 50</label>\n</p>\n<p class=\"pad-left-24 filter-submodels\">\n<input class=\"models filled-in ch-model-491-subs\" id=\"ch-model-4048\" name=\"model[246][]\" type=\"checkbox\" value=\"4048\"/>\n<label for=\"ch-model-4048\">E 50 AMG</label>\n</p>\n<p class=\"pad-left-24 filter-submodels\">\n<input class=\"models filled-in ch-model-491-subs\" id=\"ch-model-2000\" name=\"model[246][]\" type=\"checkbox\" value=\"2000\"/>\n<label for=\"ch-model-2000\">E 500</label>\n</p>\n<p class=\"pad-left-24 filter-submodels\">\n<input class=\"models filled-in ch-model-491-subs\" id=\"ch-model-1979\" name=\"model[246][]\" type=\"checkbox\" value=\"1979\"/>\n<label for=\"ch-model-1979\">E 55</label>\n</p>\n<p class=\"pad-left-24 filter-submodels\">\n<input class=\"models filled-in ch-model-491-subs\" id=\"ch-model-4049\" name=\"model[246][]\" type=\"checkbox\" value=\"4049\"/>\n<label for=\"ch-model-4049\">E 55 AMG</label>\n</p>\n<p class=\"pad-left-24 filter-submodels\">\n<input class=\"models filled-in ch-model-491-subs\" id=\"ch-model-2001\" name=\"model[246][]\" type=\"checkbox\" value=\"2001\"/>\n<label for=\"ch-model-2001\">E 560</label>\n</p>\n<p class=\"pad-left-24 filter-submodels\">\n<input class=\"models filled-in ch-model-491-subs\" id=\"ch-model-1980\" name=\"model[246][]\" type=\"checkbox\" value=\"1980\"/>\n<label for=\"ch-model-1980\">E 60 AMG</label>\n</p>\n<p class=\"pad-left-24 filter-submodels\">\n<input class=\"models filled-in ch-model-491-subs\" id=\"ch-model-4050\" name=\"model[246][]\" type=\"checkbox\" value=\"4050\"/>\n<label for=\"ch-model-4050\">E 63 AMG\t</label>\n</p>\n<p>\n<input class=\"models filled-in submodel\" id=\"ch-model-3687\" name=\"model[246][]\" type=\"checkbox\" value=\"3687\"/>\n<label for=\"ch-model-3687\">E550</label>\n</p>\n<p>\n<input class=\"models filled-in submodel\" id=\"ch-model-3458\" name=\"model[246][]\" type=\"checkbox\" value=\"3458\"/>\n<label for=\"ch-model-3458\">Econic</label>\n</p>\n<p>\n<input class=\"models filled-in submodel\" id=\"ch-model-4829\" name=\"model[246][]\" type=\"checkbox\" value=\"4829\"/>\n<label for=\"ch-model-4829\">EQC</label>\n</p>\n<p>\n<input class=\"models filled-in submodel\" id=\"ch-model-4853\" name=\"model[246][]\" type=\"checkbox\" value=\"4853\"/>\n<label for=\"ch-model-4853\">EQE</label>\n</p>\n<p>\n<input class=\"models filled-in submodel\" id=\"ch-model-4792\" name=\"model[246][]\" type=\"checkbox\" value=\"4792\"/>\n<label for=\"ch-model-4792\">EQS</label>\n</p>\n<p>\n<input class=\"models filled-in submodel\" id=\"ch-model-492\" name=\"model[246][]\" type=\"checkbox\" value=\"492\"/>\n<label for=\"ch-model-492\">G-Class</label>\n</p>\n<p class=\"pad-left-24 filter-submodels\">\n<input class=\"models filled-in ch-model-492-subs\" id=\"ch-model-2003\" name=\"model[246][]\" type=\"checkbox\" value=\"2003\"/>\n<label for=\"ch-model-2003\">G 230</label>\n</p>\n<p class=\"pad-left-24 filter-submodels\">\n<input class=\"models filled-in ch-model-492-subs\" id=\"ch-model-2004\" name=\"model[246][]\" type=\"checkbox\" value=\"2004\"/>\n<label for=\"ch-model-2004\">G 240</label>\n</p>\n<p class=\"pad-left-24 filter-submodels\">\n<input class=\"models filled-in ch-model-492-subs\" id=\"ch-model-2005\" name=\"model[246][]\" type=\"checkbox\" value=\"2005\"/>\n<label for=\"ch-model-2005\">G 250</label>\n</p>\n<p class=\"pad-left-24 filter-submodels\">\n<input class=\"models filled-in ch-model-492-subs\" id=\"ch-model-4051\" name=\"model[246][]\" type=\"checkbox\" value=\"4051\"/>\n<label for=\"ch-model-4051\">G 270</label>\n</p>\n<p class=\"pad-left-24 filter-submodels\">\n<input class=\"models filled-in ch-model-492-subs\" id=\"ch-model-2006\" name=\"model[246][]\" type=\"checkbox\" value=\"2006\"/>\n<label for=\"ch-model-2006\">G 280</label>\n</p>\n<p class=\"pad-left-24 filter-submodels\">\n<input class=\"models filled-in ch-model-492-subs\" id=\"ch-model-2007\" name=\"model[246][]\" type=\"checkbox\" value=\"2007\"/>\n<label for=\"ch-model-2007\">G 290</label>\n</p>\n<p class=\"pad-left-24 filter-submodels\">\n<input class=\"models filled-in ch-model-492-subs\" id=\"ch-model-2008\" name=\"model[246][]\" type=\"checkbox\" value=\"2008\"/>\n<label for=\"ch-model-2008\">G 300</label>\n</p>\n<p class=\"pad-left-24 filter-submodels\">\n<input class=\"models filled-in ch-model-492-subs\" id=\"ch-model-2009\" name=\"model[246][]\" type=\"checkbox\" value=\"2009\"/>\n<label for=\"ch-model-2009\">G 320</label>\n</p>\n<p class=\"pad-left-24 filter-submodels\">\n<input class=\"models filled-in ch-model-492-subs\" id=\"ch-model-2010\" name=\"model[246][]\" type=\"checkbox\" value=\"2010\"/>\n<label for=\"ch-model-2010\">G 350</label>\n</p>\n<p class=\"pad-left-24 filter-submodels\">\n<input class=\"models filled-in ch-model-492-subs\" id=\"ch-model-2011\" name=\"model[246][]\" type=\"checkbox\" value=\"2011\"/>\n<label for=\"ch-model-2011\">G 400</label>\n</p>\n<p class=\"pad-left-24 filter-submodels\">\n<input class=\"models filled-in ch-model-492-subs\" id=\"ch-model-2012\" name=\"model[246][]\" type=\"checkbox\" value=\"2012\"/>\n<label for=\"ch-model-2012\">G 500</label>\n</p>\n<p class=\"pad-left-24 filter-submodels\">\n<input class=\"models filled-in ch-model-492-subs\" id=\"ch-model-2002\" name=\"model[246][]\" type=\"checkbox\" value=\"2002\"/>\n<label for=\"ch-model-2002\">G 55 AMG</label>\n</p>\n<p class=\"pad-left-24 filter-submodels\">\n<input class=\"models filled-in ch-model-492-subs\" id=\"ch-model-2959\" name=\"model[246][]\" type=\"checkbox\" value=\"2959\"/>\n<label for=\"ch-model-2959\">G 550</label>\n</p>\n<p class=\"pad-left-24 filter-submodels\">\n<input class=\"models filled-in ch-model-492-subs\" id=\"ch-model-3082\" name=\"model[246][]\" type=\"checkbox\" value=\"3082\"/>\n<label for=\"ch-model-3082\">G 63 AMG</label>\n</p>\n<p>\n<input class=\"models filled-in submodel\" id=\"ch-model-493\" name=\"model[246][]\" type=\"checkbox\" value=\"493\"/>\n<label for=\"ch-model-493\">GL-Class</label>\n</p>\n<p class=\"pad-left-24 filter-submodels\">\n<input class=\"models filled-in ch-model-493-subs\" id=\"ch-model-2013\" name=\"model[246][]\" type=\"checkbox\" value=\"2013\"/>\n<label for=\"ch-model-2013\">GL 320</label>\n</p>\n<p class=\"pad-left-24 filter-submodels\">\n<input class=\"models filled-in ch-model-493-subs\" id=\"ch-model-4053\" name=\"model[246][]\" type=\"checkbox\" value=\"4053\"/>\n<label for=\"ch-model-4053\">GL 350</label>\n</p>\n<p class=\"pad-left-24 filter-submodels\">\n<input class=\"models filled-in ch-model-493-subs\" id=\"ch-model-4054\" name=\"model[246][]\" type=\"checkbox\" value=\"4054\"/>\n<label for=\"ch-model-4054\">GL 400</label>\n</p>\n<p class=\"pad-left-24 filter-submodels\">\n<input class=\"models filled-in ch-model-493-subs\" id=\"ch-model-2014\" name=\"model[246][]\" type=\"checkbox\" value=\"2014\"/>\n<label for=\"ch-model-2014\">GL 420</label>\n</p>\n<p class=\"pad-left-24 filter-submodels\">\n<input class=\"models filled-in ch-model-493-subs\" id=\"ch-model-2015\" name=\"model[246][]\" type=\"checkbox\" value=\"2015\"/>\n<label for=\"ch-model-2015\">GL 450</label>\n</p>\n<p class=\"pad-left-24 filter-submodels\">\n<input class=\"models filled-in ch-model-493-subs\" id=\"ch-model-2016\" name=\"model[246][]\" type=\"checkbox\" value=\"2016\"/>\n<label for=\"ch-model-2016\">GL 500</label>\n</p>\n<p class=\"pad-left-24 filter-submodels\">\n<input class=\"models filled-in ch-model-493-subs\" id=\"ch-model-4055\" name=\"model[246][]\" type=\"checkbox\" value=\"4055\"/>\n<label for=\"ch-model-4055\">GL 55 AMG</label>\n</p>\n<p class=\"pad-left-24 filter-submodels\">\n<input class=\"models filled-in ch-model-493-subs\" id=\"ch-model-3058\" name=\"model[246][]\" type=\"checkbox\" value=\"3058\"/>\n<label for=\"ch-model-3058\">GL 550</label>\n</p>\n<p class=\"pad-left-24 filter-submodels\">\n<input class=\"models filled-in ch-model-493-subs\" id=\"ch-model-4056\" name=\"model[246][]\" type=\"checkbox\" value=\"4056\"/>\n<label for=\"ch-model-4056\">GL 63 AMG</label>\n</p>\n<p>\n<input class=\"models filled-in submodel\" id=\"ch-model-3739\" name=\"model[246][]\" type=\"checkbox\" value=\"3739\"/>\n<label for=\"ch-model-3739\">GLA-Class</label>\n</p>\n<p class=\"pad-left-24 filter-submodels\">\n<input class=\"models filled-in ch-model-3739-subs\" id=\"ch-model-4057\" name=\"model[246][]\" type=\"checkbox\" value=\"4057\"/>\n<label for=\"ch-model-4057\">GLA 180</label>\n</p>\n<p class=\"pad-left-24 filter-submodels\">\n<input class=\"models filled-in ch-model-3739-subs\" id=\"ch-model-4058\" name=\"model[246][]\" type=\"checkbox\" value=\"4058\"/>\n<label for=\"ch-model-4058\">GLA 200</label>\n</p>\n<p class=\"pad-left-24 filter-submodels\">\n<input class=\"models filled-in ch-model-3739-subs\" id=\"ch-model-4059\" name=\"model[246][]\" type=\"checkbox\" value=\"4059\"/>\n<label for=\"ch-model-4059\">GLA 220</label>\n</p>\n<p class=\"pad-left-24 filter-submodels\">\n<input class=\"models filled-in ch-model-3739-subs\" id=\"ch-model-4060\" name=\"model[246][]\" type=\"checkbox\" value=\"4060\"/>\n<label for=\"ch-model-4060\">GLA 250</label>\n</p>\n<p class=\"pad-left-24 filter-submodels\">\n<input class=\"models filled-in ch-model-3739-subs\" id=\"ch-model-4061\" name=\"model[246][]\" type=\"checkbox\" value=\"4061\"/>\n<label for=\"ch-model-4061\">GLA 45 AMG</label>\n</p>\n<p>\n<input class=\"models filled-in submodel\" id=\"ch-model-4742\" name=\"model[246][]\" type=\"checkbox\" value=\"4742\"/>\n<label for=\"ch-model-4742\">GLB 250</label>\n</p>\n<p>\n<input class=\"models filled-in submodel\" id=\"ch-model-4062\" name=\"model[246][]\" type=\"checkbox\" value=\"4062\"/>\n<label for=\"ch-model-4062\">GLC-Class</label>\n</p>\n<p class=\"pad-left-24 filter-submodels\">\n<input class=\"models filled-in ch-model-4062-subs\" id=\"ch-model-4744\" name=\"model[246][]\" type=\"checkbox\" value=\"4744\"/>\n<label for=\"ch-model-4744\"></label>\n</p>\n<p class=\"pad-left-24 filter-submodels\">\n<input class=\"models filled-in ch-model-4062-subs\" id=\"ch-model-4063\" name=\"model[246][]\" type=\"checkbox\" value=\"4063\"/>\n<label for=\"ch-model-4063\">GLC 220</label>\n</p>\n<p class=\"pad-left-24 filter-submodels\">\n<input class=\"models filled-in ch-model-4062-subs\" id=\"ch-model-4064\" name=\"model[246][]\" type=\"checkbox\" value=\"4064\"/>\n<label for=\"ch-model-4064\">GLC 250</label>\n</p>\n<p class=\"pad-left-24 filter-submodels\">\n<input class=\"models filled-in ch-model-4062-subs\" id=\"ch-model-4745\" name=\"model[246][]\" type=\"checkbox\" value=\"4745\"/>\n<label for=\"ch-model-4745\">GLC 300</label>\n</p>\n<p class=\"pad-left-24 filter-submodels\">\n<input class=\"models filled-in ch-model-4062-subs\" id=\"ch-model-4065\" name=\"model[246][]\" type=\"checkbox\" value=\"4065\"/>\n<label for=\"ch-model-4065\">GLC 350</label>\n</p>\n<p class=\"pad-left-24 filter-submodels\">\n<input class=\"models filled-in ch-model-4062-subs\" id=\"ch-model-4066\" name=\"model[246][]\" type=\"checkbox\" value=\"4066\"/>\n<label for=\"ch-model-4066\">GLC 43 AMG</label>\n</p>\n<p>\n<input class=\"models filled-in submodel\" id=\"ch-model-3740\" name=\"model[246][]\" type=\"checkbox\" value=\"3740\"/>\n<label for=\"ch-model-3740\">GLE-Class</label>\n</p>\n<p class=\"pad-left-24 filter-submodels\">\n<input class=\"models filled-in ch-model-3740-subs\" id=\"ch-model-4067\" name=\"model[246][]\" type=\"checkbox\" value=\"4067\"/>\n<label for=\"ch-model-4067\">GLE 250</label>\n</p>\n<p class=\"pad-left-24 filter-submodels\">\n<input class=\"models filled-in ch-model-3740-subs\" id=\"ch-model-4068\" name=\"model[246][]\" type=\"checkbox\" value=\"4068\"/>\n<label for=\"ch-model-4068\">GLE 350</label>\n</p>\n<p class=\"pad-left-24 filter-submodels\">\n<input class=\"models filled-in ch-model-3740-subs\" id=\"ch-model-4069\" name=\"model[246][]\" type=\"checkbox\" value=\"4069\"/>\n<label for=\"ch-model-4069\">GLE 400</label>\n</p>\n<p class=\"pad-left-24 filter-submodels\">\n<input class=\"models filled-in ch-model-3740-subs\" id=\"ch-model-4070\" name=\"model[246][]\" type=\"checkbox\" value=\"4070\"/>\n<label for=\"ch-model-4070\">GLE 43 AMG</label>\n</p>\n<p class=\"pad-left-24 filter-submodels\">\n<input class=\"models filled-in ch-model-3740-subs\" id=\"ch-model-4071\" name=\"model[246][]\" type=\"checkbox\" value=\"4071\"/>\n<label for=\"ch-model-4071\">GLE 450</label>\n</p>\n<p class=\"pad-left-24 filter-submodels\">\n<input class=\"models filled-in ch-model-3740-subs\" id=\"ch-model-4072\" name=\"model[246][]\" type=\"checkbox\" value=\"4072\"/>\n<label for=\"ch-model-4072\">GLE 500</label>\n</p>\n<p class=\"pad-left-24 filter-submodels\">\n<input class=\"models filled-in ch-model-3740-subs\" id=\"ch-model-4790\" name=\"model[246][]\" type=\"checkbox\" value=\"4790\"/>\n<label for=\"ch-model-4790\">GLE 53 AMG</label>\n</p>\n<p class=\"pad-left-24 filter-submodels\">\n<input class=\"models filled-in ch-model-3740-subs\" id=\"ch-model-4791\" name=\"model[246][]\" type=\"checkbox\" value=\"4791\"/>\n<label for=\"ch-model-4791\">GLE 53 AMG Coupe</label>\n</p>\n<p class=\"pad-left-24 filter-submodels\">\n<input class=\"models filled-in ch-model-3740-subs\" id=\"ch-model-4073\" name=\"model[246][]\" type=\"checkbox\" value=\"4073\"/>\n<label for=\"ch-model-4073\">GLE 63 AMG</label>\n</p>\n<p class=\"pad-left-24 filter-submodels\">\n<input class=\"models filled-in ch-model-3740-subs\" id=\"ch-model-4803\" name=\"model[246][]\" type=\"checkbox\" value=\"4803\"/>\n<label for=\"ch-model-4803\">GLE 63 S Coupe</label>\n</p>\n<p>\n<input class=\"models filled-in submodel\" id=\"ch-model-494\" name=\"model[246][]\" type=\"checkbox\" value=\"494\"/>\n<label for=\"ch-model-494\">GLK-Class</label>\n</p>\n<p class=\"pad-left-24 filter-submodels\">\n<input class=\"models filled-in ch-model-494-subs\" id=\"ch-model-4074\" name=\"model[246][]\" type=\"checkbox\" value=\"4074\"/>\n<label for=\"ch-model-4074\">GLK 200</label>\n</p>\n<p class=\"pad-left-24 filter-submodels\">\n<input class=\"models filled-in ch-model-494-subs\" id=\"ch-model-4075\" name=\"model[246][]\" type=\"checkbox\" value=\"4075\"/>\n<label for=\"ch-model-4075\">GLK 220</label>\n</p>\n<p class=\"pad-left-24 filter-submodels\">\n<input class=\"models filled-in ch-model-494-subs\" id=\"ch-model-4076\" name=\"model[246][]\" type=\"checkbox\" value=\"4076\"/>\n<label for=\"ch-model-4076\">GLK 250</label>\n</p>\n<p class=\"pad-left-24 filter-submodels\">\n<input class=\"models filled-in ch-model-494-subs\" id=\"ch-model-2949\" name=\"model[246][]\" type=\"checkbox\" value=\"2949\"/>\n<label for=\"ch-model-2949\">GLK 280</label>\n</p>\n<p class=\"pad-left-24 filter-submodels\">\n<input class=\"models filled-in ch-model-494-subs\" id=\"ch-model-4077\" name=\"model[246][]\" type=\"checkbox\" value=\"4077\"/>\n<label for=\"ch-model-4077\">GLK 300</label>\n</p>\n<p class=\"pad-left-24 filter-submodels\">\n<input class=\"models filled-in ch-model-494-subs\" id=\"ch-model-4078\" name=\"model[246][]\" type=\"checkbox\" value=\"4078\"/>\n<label for=\"ch-model-4078\">GLK 320</label>\n</p>\n<p class=\"pad-left-24 filter-submodels\">\n<input class=\"models filled-in ch-model-494-subs\" id=\"ch-model-2950\" name=\"model[246][]\" type=\"checkbox\" value=\"2950\"/>\n<label for=\"ch-model-2950\">GLK 350</label>\n</p>\n<p>\n<input class=\"models filled-in submodel\" id=\"ch-model-4079\" name=\"model[246][]\" type=\"checkbox\" value=\"4079\"/>\n<label for=\"ch-model-4079\">GLS-Class</label>\n</p>\n<p class=\"pad-left-24 filter-submodels\">\n<input class=\"models filled-in ch-model-4079-subs\" id=\"ch-model-4080\" name=\"model[246][]\" type=\"checkbox\" value=\"4080\"/>\n<label for=\"ch-model-4080\">GLS 350</label>\n</p>\n<p class=\"pad-left-24 filter-submodels\">\n<input class=\"models filled-in ch-model-4079-subs\" id=\"ch-model-4081\" name=\"model[246][]\" type=\"checkbox\" value=\"4081\"/>\n<label for=\"ch-model-4081\">GLS 400</label>\n</p>\n<p class=\"pad-left-24 filter-submodels\">\n<input class=\"models filled-in ch-model-4079-subs\" id=\"ch-model-4082\" name=\"model[246][]\" type=\"checkbox\" value=\"4082\"/>\n<label for=\"ch-model-4082\">GLS 500</label>\n</p>\n<p class=\"pad-left-24 filter-submodels\">\n<input class=\"models filled-in ch-model-4079-subs\" id=\"ch-model-4784\" name=\"model[246][]\" type=\"checkbox\" value=\"4784\"/>\n<label for=\"ch-model-4784\">GLS 600 Maybach</label>\n</p>\n<p class=\"pad-left-24 filter-submodels\">\n<input class=\"models filled-in ch-model-4079-subs\" id=\"ch-model-4083\" name=\"model[246][]\" type=\"checkbox\" value=\"4083\"/>\n<label for=\"ch-model-4083\">GLS 63 AMG</label>\n</p>\n<p>\n<input class=\"models filled-in submodel\" id=\"ch-model-3465\" name=\"model[246][]\" type=\"checkbox\" value=\"3465\"/>\n<label for=\"ch-model-3465\">Integro</label>\n</p>\n<p>\n<input class=\"models filled-in submodel\" id=\"ch-model-3466\" name=\"model[246][]\" type=\"checkbox\" value=\"3466\"/>\n<label for=\"ch-model-3466\">Intouro</label>\n</p>\n<p>\n<input class=\"models filled-in submodel\" id=\"ch-model-2071\" name=\"model[246][]\" type=\"checkbox\" value=\"2071\"/>\n<label for=\"ch-model-2071\">MB 100</label>\n</p>\n<p>\n<input class=\"models filled-in submodel\" id=\"ch-model-495\" name=\"model[246][]\" type=\"checkbox\" value=\"495\"/>\n<label for=\"ch-model-495\">ML-Class</label>\n</p>\n<p class=\"pad-left-24 filter-submodels\">\n<input class=\"models filled-in ch-model-495-subs\" id=\"ch-model-2019\" name=\"model[246][]\" type=\"checkbox\" value=\"2019\"/>\n<label for=\"ch-model-2019\">ML 230</label>\n</p>\n<p class=\"pad-left-24 filter-submodels\">\n<input class=\"models filled-in ch-model-495-subs\" id=\"ch-model-4084\" name=\"model[246][]\" type=\"checkbox\" value=\"4084\"/>\n<label for=\"ch-model-4084\">ML 250</label>\n</p>\n<p class=\"pad-left-24 filter-submodels\">\n<input class=\"models filled-in ch-model-495-subs\" id=\"ch-model-2020\" name=\"model[246][]\" type=\"checkbox\" value=\"2020\"/>\n<label for=\"ch-model-2020\">ML 270</label>\n</p>\n<p class=\"pad-left-24 filter-submodels\">\n<input class=\"models filled-in ch-model-495-subs\" id=\"ch-model-2021\" name=\"model[246][]\" type=\"checkbox\" value=\"2021\"/>\n<label for=\"ch-model-2021\">ML 280</label>\n</p>\n<p class=\"pad-left-24 filter-submodels\">\n<input class=\"models filled-in ch-model-495-subs\" id=\"ch-model-4085\" name=\"model[246][]\" type=\"checkbox\" value=\"4085\"/>\n<label for=\"ch-model-4085\">ML 300</label>\n</p>\n<p class=\"pad-left-24 filter-submodels\">\n<input class=\"models filled-in ch-model-495-subs\" id=\"ch-model-2022\" name=\"model[246][]\" type=\"checkbox\" value=\"2022\"/>\n<label for=\"ch-model-2022\">ML 320</label>\n</p>\n<p class=\"pad-left-24 filter-submodels\">\n<input class=\"models filled-in ch-model-495-subs\" id=\"ch-model-2023\" name=\"model[246][]\" type=\"checkbox\" value=\"2023\"/>\n<label for=\"ch-model-2023\">ML 350</label>\n</p>\n<p class=\"pad-left-24 filter-submodels\">\n<input class=\"models filled-in ch-model-495-subs\" id=\"ch-model-2024\" name=\"model[246][]\" type=\"checkbox\" value=\"2024\"/>\n<label for=\"ch-model-2024\">ML 400</label>\n</p>\n<p class=\"pad-left-24 filter-submodels\">\n<input class=\"models filled-in ch-model-495-subs\" id=\"ch-model-4086\" name=\"model[246][]\" type=\"checkbox\" value=\"4086\"/>\n<label for=\"ch-model-4086\">ML 420</label>\n</p>\n<p class=\"pad-left-24 filter-submodels\">\n<input class=\"models filled-in ch-model-495-subs\" id=\"ch-model-2025\" name=\"model[246][]\" type=\"checkbox\" value=\"2025\"/>\n<label for=\"ch-model-2025\">ML 430</label>\n</p>\n<p class=\"pad-left-24 filter-submodels\">\n<input class=\"models filled-in ch-model-495-subs\" id=\"ch-model-4087\" name=\"model[246][]\" type=\"checkbox\" value=\"4087\"/>\n<label for=\"ch-model-4087\">ML 450</label>\n</p>\n<p class=\"pad-left-24 filter-submodels\">\n<input class=\"models filled-in ch-model-495-subs\" id=\"ch-model-2026\" name=\"model[246][]\" type=\"checkbox\" value=\"2026\"/>\n<label for=\"ch-model-2026\">ML 500</label>\n</p>\n<p class=\"pad-left-24 filter-submodels\">\n<input class=\"models filled-in ch-model-495-subs\" id=\"ch-model-2017\" name=\"model[246][]\" type=\"checkbox\" value=\"2017\"/>\n<label for=\"ch-model-2017\">ML 55 AMG</label>\n</p>\n<p class=\"pad-left-24 filter-submodels\">\n<input class=\"models filled-in ch-model-495-subs\" id=\"ch-model-2018\" name=\"model[246][]\" type=\"checkbox\" value=\"2018\"/>\n<label for=\"ch-model-2018\">ML 63 AMG</label>\n</p>\n<p>\n<input class=\"models filled-in submodel\" id=\"ch-model-496\" name=\"model[246][]\" type=\"checkbox\" value=\"496\"/>\n<label for=\"ch-model-496\">R-Class</label>\n</p>\n<p class=\"pad-left-24 filter-submodels\">\n<input class=\"models filled-in ch-model-496-subs\" id=\"ch-model-4088\" name=\"model[246][]\" type=\"checkbox\" value=\"4088\"/>\n<label for=\"ch-model-4088\">R 280</label>\n</p>\n<p class=\"pad-left-24 filter-submodels\">\n<input class=\"models filled-in ch-model-496-subs\" id=\"ch-model-4089\" name=\"model[246][]\" type=\"checkbox\" value=\"4089\"/>\n<label for=\"ch-model-4089\">R 300</label>\n</p>\n<p class=\"pad-left-24 filter-submodels\">\n<input class=\"models filled-in ch-model-496-subs\" id=\"ch-model-2027\" name=\"model[246][]\" type=\"checkbox\" value=\"2027\"/>\n<label for=\"ch-model-2027\">R 320</label>\n</p>\n<p class=\"pad-left-24 filter-submodels\">\n<input class=\"models filled-in ch-model-496-subs\" id=\"ch-model-2028\" name=\"model[246][]\" type=\"checkbox\" value=\"2028\"/>\n<label for=\"ch-model-2028\">R 350</label>\n</p>\n<p class=\"pad-left-24 filter-submodels\">\n<input class=\"models filled-in ch-model-496-subs\" id=\"ch-model-2029\" name=\"model[246][]\" type=\"checkbox\" value=\"2029\"/>\n<label for=\"ch-model-2029\">R 500</label>\n</p>\n<p class=\"pad-left-24 filter-submodels\">\n<input class=\"models filled-in ch-model-496-subs\" id=\"ch-model-4090\" name=\"model[246][]\" type=\"checkbox\" value=\"4090\"/>\n<label for=\"ch-model-4090\">R 63 AMG</label>\n</p>\n<p>\n<input class=\"models filled-in submodel\" id=\"ch-model-497\" name=\"model[246][]\" type=\"checkbox\" value=\"497\"/>\n<label for=\"ch-model-497\">S-Class</label>\n</p>\n<p class=\"pad-left-24 filter-submodels\">\n<input class=\"models filled-in ch-model-497-subs\" id=\"ch-model-4091\" name=\"model[246][]\" type=\"checkbox\" value=\"4091\"/>\n<label for=\"ch-model-4091\">S 250</label>\n</p>\n<p class=\"pad-left-24 filter-submodels\">\n<input class=\"models filled-in ch-model-497-subs\" id=\"ch-model-2032\" name=\"model[246][]\" type=\"checkbox\" value=\"2032\"/>\n<label for=\"ch-model-2032\">S 260</label>\n</p>\n<p class=\"pad-left-24 filter-submodels\">\n<input class=\"models filled-in ch-model-497-subs\" id=\"ch-model-2033\" name=\"model[246][]\" type=\"checkbox\" value=\"2033\"/>\n<label for=\"ch-model-2033\">S 280</label>\n</p>\n<p class=\"pad-left-24 filter-submodels\">\n<input class=\"models filled-in ch-model-497-subs\" id=\"ch-model-2034\" name=\"model[246][]\" type=\"checkbox\" value=\"2034\"/>\n<label for=\"ch-model-2034\">S 300</label>\n</p>\n<p class=\"pad-left-24 filter-submodels\">\n<input class=\"models filled-in ch-model-497-subs\" id=\"ch-model-2035\" name=\"model[246][]\" type=\"checkbox\" value=\"2035\"/>\n<label for=\"ch-model-2035\">S 320</label>\n</p>\n<p class=\"pad-left-24 filter-submodels\">\n<input class=\"models filled-in ch-model-497-subs\" id=\"ch-model-2951\" name=\"model[246][]\" type=\"checkbox\" value=\"2951\"/>\n<label for=\"ch-model-2951\">S 350</label>\n</p>\n<p class=\"pad-left-24 filter-submodels\">\n<input class=\"models filled-in ch-model-497-subs\" id=\"ch-model-2036\" name=\"model[246][]\" type=\"checkbox\" value=\"2036\"/>\n<label for=\"ch-model-2036\">S 400</label>\n</p>\n<p class=\"pad-left-24 filter-submodels\">\n<input class=\"models filled-in ch-model-497-subs\" id=\"ch-model-2037\" name=\"model[246][]\" type=\"checkbox\" value=\"2037\"/>\n<label for=\"ch-model-2037\">S 420</label>\n</p>\n<p class=\"pad-left-24 filter-submodels\">\n<input class=\"models filled-in ch-model-497-subs\" id=\"ch-model-2038\" name=\"model[246][]\" type=\"checkbox\" value=\"2038\"/>\n<label for=\"ch-model-2038\">S 430</label>\n</p>\n<p class=\"pad-left-24 filter-submodels\">\n<input class=\"models filled-in ch-model-497-subs\" id=\"ch-model-2952\" name=\"model[246][]\" type=\"checkbox\" value=\"2952\"/>\n<label for=\"ch-model-2952\">S 450</label>\n</p>\n<p class=\"pad-left-24 filter-submodels\">\n<input class=\"models filled-in ch-model-497-subs\" id=\"ch-model-2039\" name=\"model[246][]\" type=\"checkbox\" value=\"2039\"/>\n<label for=\"ch-model-2039\">S 500</label>\n</p>\n<p class=\"pad-left-24 filter-submodels\">\n<input class=\"models filled-in ch-model-497-subs\" id=\"ch-model-3598\" name=\"model[246][]\" type=\"checkbox\" value=\"3598\"/>\n<label for=\"ch-model-3598\">S 500 Coupe</label>\n</p>\n<p class=\"pad-left-24 filter-submodels\">\n<input class=\"models filled-in ch-model-497-subs\" id=\"ch-model-2030\" name=\"model[246][]\" type=\"checkbox\" value=\"2030\"/>\n<label for=\"ch-model-2030\">S 55  AMG</label>\n</p>\n<p class=\"pad-left-24 filter-submodels\">\n<input class=\"models filled-in ch-model-497-subs\" id=\"ch-model-2809\" name=\"model[246][]\" type=\"checkbox\" value=\"2809\"/>\n<label for=\"ch-model-2809\">S 550</label>\n</p>\n<p class=\"pad-left-24 filter-submodels\">\n<input class=\"models filled-in ch-model-497-subs\" id=\"ch-model-2040\" name=\"model[246][]\" type=\"checkbox\" value=\"2040\"/>\n<label for=\"ch-model-2040\">S 560</label>\n</p>\n<p class=\"pad-left-24 filter-submodels\">\n<input class=\"models filled-in ch-model-497-subs\" id=\"ch-model-4788\" name=\"model[246][]\" type=\"checkbox\" value=\"4788\"/>\n<label for=\"ch-model-4788\">S 580</label>\n</p>\n<p class=\"pad-left-24 filter-submodels\">\n<input class=\"models filled-in ch-model-497-subs\" id=\"ch-model-2041\" name=\"model[246][]\" type=\"checkbox\" value=\"2041\"/>\n<label for=\"ch-model-2041\">S 600</label>\n</p>\n<p class=\"pad-left-24 filter-submodels\">\n<input class=\"models filled-in ch-model-497-subs\" id=\"ch-model-3599\" name=\"model[246][]\" type=\"checkbox\" value=\"3599\"/>\n<label for=\"ch-model-3599\">S 600 Coupe</label>\n</p>\n<p class=\"pad-left-24 filter-submodels\">\n<input class=\"models filled-in ch-model-497-subs\" id=\"ch-model-3587\" name=\"model[246][]\" type=\"checkbox\" value=\"3587\"/>\n<label for=\"ch-model-3587\">S 63 AMG</label>\n</p>\n<p class=\"pad-left-24 filter-submodels\">\n<input class=\"models filled-in ch-model-497-subs\" id=\"ch-model-3600\" name=\"model[246][]\" type=\"checkbox\" value=\"3600\"/>\n<label for=\"ch-model-3600\">S 63 AMG Coupe</label>\n</p>\n<p class=\"pad-left-24 filter-submodels\">\n<input class=\"models filled-in ch-model-497-subs\" id=\"ch-model-2031\" name=\"model[246][]\" type=\"checkbox\" value=\"2031\"/>\n<label for=\"ch-model-2031\">S 65 AMG</label>\n</p>\n<p class=\"pad-left-24 filter-submodels\">\n<input class=\"models filled-in ch-model-497-subs\" id=\"ch-model-3601\" name=\"model[246][]\" type=\"checkbox\" value=\"3601\"/>\n<label for=\"ch-model-3601\">S 65 AMG Coupe</label>\n</p>\n<p class=\"pad-left-24 filter-submodels\">\n<input class=\"models filled-in ch-model-497-subs\" id=\"ch-model-2052\" name=\"model[246][]\" type=\"checkbox\" value=\"2052\"/>\n<label for=\"ch-model-2052\">SL 420</label>\n</p>\n<p>\n<input class=\"models filled-in submodel\" id=\"ch-model-498\" name=\"model[246][]\" type=\"checkbox\" value=\"498\"/>\n<label for=\"ch-model-498\">SL-Class</label>\n</p>\n<p class=\"pad-left-24 filter-submodels\">\n<input class=\"models filled-in ch-model-498-subs\" id=\"ch-model-4092\" name=\"model[246][]\" type=\"checkbox\" value=\"4092\"/>\n<label for=\"ch-model-4092\">SL 230</label>\n</p>\n<p class=\"pad-left-24 filter-submodels\">\n<input class=\"models filled-in ch-model-498-subs\" id=\"ch-model-4093\" name=\"model[246][]\" type=\"checkbox\" value=\"4093\"/>\n<label for=\"ch-model-4093\">SL 250</label>\n</p>\n<p class=\"pad-left-24 filter-submodels\">\n<input class=\"models filled-in ch-model-498-subs\" id=\"ch-model-2047\" name=\"model[246][]\" type=\"checkbox\" value=\"2047\"/>\n<label for=\"ch-model-2047\">SL 280</label>\n</p>\n<p class=\"pad-left-24 filter-submodels\">\n<input class=\"models filled-in ch-model-498-subs\" id=\"ch-model-2048\" name=\"model[246][]\" type=\"checkbox\" value=\"2048\"/>\n<label for=\"ch-model-2048\">SL 300</label>\n</p>\n<p class=\"pad-left-24 filter-submodels\">\n<input class=\"models filled-in ch-model-498-subs\" id=\"ch-model-2049\" name=\"model[246][]\" type=\"checkbox\" value=\"2049\"/>\n<label for=\"ch-model-2049\">SL 320</label>\n</p>\n<p class=\"pad-left-24 filter-submodels\">\n<input class=\"models filled-in ch-model-498-subs\" id=\"ch-model-2050\" name=\"model[246][]\" type=\"checkbox\" value=\"2050\"/>\n<label for=\"ch-model-2050\">SL 350</label>\n</p>\n<p class=\"pad-left-24 filter-submodels\">\n<input class=\"models filled-in ch-model-498-subs\" id=\"ch-model-2051\" name=\"model[246][]\" type=\"checkbox\" value=\"2051\"/>\n<label for=\"ch-model-2051\">SL 380</label>\n</p>\n<p class=\"pad-left-24 filter-submodels\">\n<input class=\"models filled-in ch-model-498-subs\" id=\"ch-model-4094\" name=\"model[246][]\" type=\"checkbox\" value=\"4094\"/>\n<label for=\"ch-model-4094\">SL 400</label>\n</p>\n<p class=\"pad-left-24 filter-submodels\">\n<input class=\"models filled-in ch-model-498-subs\" id=\"ch-model-4095\" name=\"model[246][]\" type=\"checkbox\" value=\"4095\"/>\n<label for=\"ch-model-4095\">SL 420</label>\n</p>\n<p class=\"pad-left-24 filter-submodels\">\n<input class=\"models filled-in ch-model-498-subs\" id=\"ch-model-2053\" name=\"model[246][]\" type=\"checkbox\" value=\"2053\"/>\n<label for=\"ch-model-2053\">SL 450</label>\n</p>\n<p class=\"pad-left-24 filter-submodels\">\n<input class=\"models filled-in ch-model-498-subs\" id=\"ch-model-2054\" name=\"model[246][]\" type=\"checkbox\" value=\"2054\"/>\n<label for=\"ch-model-2054\">SL 500</label>\n</p>\n<p class=\"pad-left-24 filter-submodels\">\n<input class=\"models filled-in ch-model-498-subs\" id=\"ch-model-2042\" name=\"model[246][]\" type=\"checkbox\" value=\"2042\"/>\n<label for=\"ch-model-2042\">SL 55 AMG</label>\n</p>\n<p class=\"pad-left-24 filter-submodels\">\n<input class=\"models filled-in ch-model-498-subs\" id=\"ch-model-4096\" name=\"model[246][]\" type=\"checkbox\" value=\"4096\"/>\n<label for=\"ch-model-4096\">SL 560</label>\n</p>\n<p class=\"pad-left-24 filter-submodels\">\n<input class=\"models filled-in ch-model-498-subs\" id=\"ch-model-2043\" name=\"model[246][]\" type=\"checkbox\" value=\"2043\"/>\n<label for=\"ch-model-2043\">SL 60 AMG</label>\n</p>\n<p class=\"pad-left-24 filter-submodels\">\n<input class=\"models filled-in ch-model-498-subs\" id=\"ch-model-2055\" name=\"model[246][]\" type=\"checkbox\" value=\"2055\"/>\n<label for=\"ch-model-2055\">SL 600</label>\n</p>\n<p class=\"pad-left-24 filter-submodels\">\n<input class=\"models filled-in ch-model-498-subs\" id=\"ch-model-4097\" name=\"model[246][]\" type=\"checkbox\" value=\"4097\"/>\n<label for=\"ch-model-4097\">SL 63 AMG</label>\n</p>\n<p class=\"pad-left-24 filter-submodels\">\n<input class=\"models filled-in ch-model-498-subs\" id=\"ch-model-2044\" name=\"model[246][]\" type=\"checkbox\" value=\"2044\"/>\n<label for=\"ch-model-2044\">SL 65 AMG</label>\n</p>\n<p class=\"pad-left-24 filter-submodels\">\n<input class=\"models filled-in ch-model-498-subs\" id=\"ch-model-2045\" name=\"model[246][]\" type=\"checkbox\" value=\"2045\"/>\n<label for=\"ch-model-2045\">SL 70 AMG</label>\n</p>\n<p class=\"pad-left-24 filter-submodels\">\n<input class=\"models filled-in ch-model-498-subs\" id=\"ch-model-2046\" name=\"model[246][]\" type=\"checkbox\" value=\"2046\"/>\n<label for=\"ch-model-2046\">SL 73 AMG</label>\n</p>\n<p>\n<input class=\"models filled-in submodel\" id=\"ch-model-4098\" name=\"model[246][]\" type=\"checkbox\" value=\"4098\"/>\n<label for=\"ch-model-4098\">SLC-Class</label>\n</p>\n<p class=\"pad-left-24 filter-submodels\">\n<input class=\"models filled-in ch-model-4098-subs\" id=\"ch-model-4099\" name=\"model[246][]\" type=\"checkbox\" value=\"4099\"/>\n<label for=\"ch-model-4099\">SLC 180</label>\n</p>\n<p class=\"pad-left-24 filter-submodels\">\n<input class=\"models filled-in ch-model-4098-subs\" id=\"ch-model-4100\" name=\"model[246][]\" type=\"checkbox\" value=\"4100\"/>\n<label for=\"ch-model-4100\">SLC 200</label>\n</p>\n<p class=\"pad-left-24 filter-submodels\">\n<input class=\"models filled-in ch-model-4098-subs\" id=\"ch-model-4101\" name=\"model[246][]\" type=\"checkbox\" value=\"4101\"/>\n<label for=\"ch-model-4101\">SLC 250</label>\n</p>\n<p class=\"pad-left-24 filter-submodels\">\n<input class=\"models filled-in ch-model-4098-subs\" id=\"ch-model-4102\" name=\"model[246][]\" type=\"checkbox\" value=\"4102\"/>\n<label for=\"ch-model-4102\">SLC 300</label>\n</p>\n<p class=\"pad-left-24 filter-submodels\">\n<input class=\"models filled-in ch-model-4098-subs\" id=\"ch-model-4103\" name=\"model[246][]\" type=\"checkbox\" value=\"4103\"/>\n<label for=\"ch-model-4103\">SLC 43 AMG</label>\n</p>\n<p>\n<input class=\"models filled-in submodel\" id=\"ch-model-499\" name=\"model[246][]\" type=\"checkbox\" value=\"499\"/>\n<label for=\"ch-model-499\">SLK-Class</label>\n</p>\n<p class=\"pad-left-24 filter-submodels\">\n<input class=\"models filled-in ch-model-499-subs\" id=\"ch-model-2058\" name=\"model[246][]\" type=\"checkbox\" value=\"2058\"/>\n<label for=\"ch-model-2058\">SLK 200</label>\n</p>\n<p class=\"pad-left-24 filter-submodels\">\n<input class=\"models filled-in ch-model-499-subs\" id=\"ch-model-2059\" name=\"model[246][]\" type=\"checkbox\" value=\"2059\"/>\n<label for=\"ch-model-2059\">SLK 230</label>\n</p>\n<p class=\"pad-left-24 filter-submodels\">\n<input class=\"models filled-in ch-model-499-subs\" id=\"ch-model-4104\" name=\"model[246][]\" type=\"checkbox\" value=\"4104\"/>\n<label for=\"ch-model-4104\">SLK 250</label>\n</p>\n<p class=\"pad-left-24 filter-submodels\">\n<input class=\"models filled-in ch-model-499-subs\" id=\"ch-model-2060\" name=\"model[246][]\" type=\"checkbox\" value=\"2060\"/>\n<label for=\"ch-model-2060\">SLK 280</label>\n</p>\n<p class=\"pad-left-24 filter-submodels\">\n<input class=\"models filled-in ch-model-499-subs\" id=\"ch-model-4105\" name=\"model[246][]\" type=\"checkbox\" value=\"4105\"/>\n<label for=\"ch-model-4105\">SLK 300</label>\n</p>\n<p class=\"pad-left-24 filter-submodels\">\n<input class=\"models filled-in ch-model-499-subs\" id=\"ch-model-2056\" name=\"model[246][]\" type=\"checkbox\" value=\"2056\"/>\n<label for=\"ch-model-2056\">SLK 32 AMG</label>\n</p>\n<p class=\"pad-left-24 filter-submodels\">\n<input class=\"models filled-in ch-model-499-subs\" id=\"ch-model-2061\" name=\"model[246][]\" type=\"checkbox\" value=\"2061\"/>\n<label for=\"ch-model-2061\">SLK 320</label>\n</p>\n<p class=\"pad-left-24 filter-submodels\">\n<input class=\"models filled-in ch-model-499-subs\" id=\"ch-model-2062\" name=\"model[246][]\" type=\"checkbox\" value=\"2062\"/>\n<label for=\"ch-model-2062\">SLK 350</label>\n</p>\n<p class=\"pad-left-24 filter-submodels\">\n<input class=\"models filled-in ch-model-499-subs\" id=\"ch-model-2057\" name=\"model[246][]\" type=\"checkbox\" value=\"2057\"/>\n<label for=\"ch-model-2057\">SLK 55 AMG</label>\n</p>\n<p>\n<input class=\"models filled-in submodel\" id=\"ch-model-2073\" name=\"model[246][]\" type=\"checkbox\" value=\"2073\"/>\n<label for=\"ch-model-2073\">SLR McLaren</label>\n</p>\n<p>\n<input class=\"models filled-in submodel\" id=\"ch-model-2873\" name=\"model[246][]\" type=\"checkbox\" value=\"2873\"/>\n<label for=\"ch-model-2873\">Smart</label>\n</p>\n<p>\n<input class=\"models filled-in submodel\" id=\"ch-model-2072\" name=\"model[246][]\" type=\"checkbox\" value=\"2072\"/>\n<label for=\"ch-model-2072\">Sprinter</label>\n</p>\n<p>\n<input class=\"models filled-in submodel\" id=\"ch-model-3469\" name=\"model[246][]\" type=\"checkbox\" value=\"3469\"/>\n<label for=\"ch-model-3469\">Tourino</label>\n</p>\n<p>\n<input class=\"models filled-in submodel\" id=\"ch-model-3452\" name=\"model[246][]\" type=\"checkbox\" value=\"3452\"/>\n<label for=\"ch-model-3452\">Transporter</label>\n</p>\n<p>\n<input class=\"models filled-in submodel\" id=\"ch-model-3468\" name=\"model[246][]\" type=\"checkbox\" value=\"3468\"/>\n<label for=\"ch-model-3468\">Travego</label>\n</p>\n<p>\n<input class=\"models filled-in submodel\" id=\"ch-model-3467\" name=\"model[246][]\" type=\"checkbox\" value=\"3467\"/>\n<label for=\"ch-model-3467\">Turismo</label>\n</p>\n<p>\n<input class=\"models filled-in submodel\" id=\"ch-model-3460\" name=\"model[246][]\" type=\"checkbox\" value=\"3460\"/>\n<label for=\"ch-model-3460\">Unimog</label>\n</p>\n<p>\n<input class=\"models filled-in submodel\" id=\"ch-model-500\" name=\"model[246][]\" type=\"checkbox\" value=\"500\"/>\n<label for=\"ch-model-500\">V-Class</label>\n</p>\n<p class=\"pad-left-24 filter-submodels\">\n<input class=\"models filled-in ch-model-500-subs\" id=\"ch-model-2063\" name=\"model[246][]\" type=\"checkbox\" value=\"2063\"/>\n<label for=\"ch-model-2063\">V 200</label>\n</p>\n<p class=\"pad-left-24 filter-submodels\">\n<input class=\"models filled-in ch-model-500-subs\" id=\"ch-model-2064\" name=\"model[246][]\" type=\"checkbox\" value=\"2064\"/>\n<label for=\"ch-model-2064\">V 220</label>\n</p>\n<p class=\"pad-left-24 filter-submodels\">\n<input class=\"models filled-in ch-model-500-subs\" id=\"ch-model-2065\" name=\"model[246][]\" type=\"checkbox\" value=\"2065\"/>\n<label for=\"ch-model-2065\">V 230</label>\n</p>\n<p class=\"pad-left-24 filter-submodels\">\n<input class=\"models filled-in ch-model-500-subs\" id=\"ch-model-4106\" name=\"model[246][]\" type=\"checkbox\" value=\"4106\"/>\n<label for=\"ch-model-4106\">V 250</label>\n</p>\n<p class=\"pad-left-24 filter-submodels\">\n<input class=\"models filled-in ch-model-500-subs\" id=\"ch-model-2066\" name=\"model[246][]\" type=\"checkbox\" value=\"2066\"/>\n<label for=\"ch-model-2066\">V 280</label>\n</p>\n<p>\n<input class=\"models filled-in submodel\" id=\"ch-model-2067\" name=\"model[246][]\" type=\"checkbox\" value=\"2067\"/>\n<label for=\"ch-model-2067\">Vaneo</label>\n</p>\n<p>\n<input class=\"models filled-in submodel\" id=\"ch-model-2068\" name=\"model[246][]\" type=\"checkbox\" value=\"2068\"/>\n<label for=\"ch-model-2068\">Vario</label>\n</p>\n<p>\n<input class=\"models filled-in submodel\" id=\"ch-model-2069\" name=\"model[246][]\" type=\"checkbox\" value=\"2069\"/>\n<label for=\"ch-model-2069\">Viano</label>\n</p>\n<p>\n<input class=\"models filled-in submodel\" id=\"ch-model-2070\" name=\"model[246][]\" type=\"checkbox\" value=\"2070\"/>\n<label for=\"ch-model-2070\">Vito</label>\n</p>\n<p>\n<input class=\"models filled-in submodel\" id=\"ch-model-3459\" name=\"model[246][]\" type=\"checkbox\" value=\"3459\"/>\n<label for=\"ch-model-3459\">Zetros</label>\n</p>\n</div>\n<li>\n<li class=\"\">\n<div class=\"collapsible-header active\">VIN</div>\n<div class=\"collapsible-body\" style=\"display: none;\">\n<p>\n<input class=\"filled-in\" id=\"ch-vin-1\" name=\"vin[condition]\" type=\"checkbox\" value=\"1\"/>\n<label class=\"marg-top-6\" for=\"ch-vin-1\">Ունի նշած VIN</label>\n</p>\n</div>\n</li>\n<li>\n<div class=\"collapsible-header active\">Տարեթիվը</div>\n<div class=\"collapsible-body\">\n<!-- select -->\n<!-- colorselect -->\n<!-- textfield -->\n<!-- unit -->\n<!-- yearselect -->\n<div>\n<div class=\"range-85-fields\">\n<input class=\"range-from left\" data-rangeid=\"range-85\" id=\"range-85-from\" max=\"2022\" min=\"1911\" name=\"year[gt]\" placeholder=\"սկսած\" style=\"width:48%\" type=\"number\" value=\"1911\"/>\n<input class=\"range-to right\" data-rangeid=\"range-85\" id=\"range-85-to\" max=\"2022\" min=\"1911\" name=\"year[lt]\" placeholder=\"մինչև\" style=\"width:48%\" type=\"number\" value=\"2023\"/>\n</div>\n<div class=\"clearfix\"></div>\n</div>\n<!-- conditionblock -->\n<!-- priceblock -->\n<!-- geoblock -->\n</div>\n</li>\n<li>\n<div class=\"collapsible-header active\">Գինը</div>\n<div class=\"collapsible-body\">\n<!-- select -->\n<!-- colorselect -->\n<!-- textfield -->\n<!-- unit -->\n<!-- yearselect -->\n<!-- conditionblock -->\n<!-- priceblock -->\n<div>\n<input class=\"range-from left\" data-rangeid=\"range-195\" id=\"range-195-from\" max=\"100000000\" min=\"0\" name=\"usdprice[gt]\" placeholder=\"սկսած\" style=\"width: 48%\" type=\"number\" value=\"0\"/>\n<input class=\"range-to right\" data-rangeid=\"range-195\" id=\"range-195-to\" max=\"100000000\" min=\"0\" name=\"usdprice[lt]\" placeholder=\"մինչև\" style=\"width: 48%\" type=\"number\" value=\"100000000\"/>\n</div>\n<div class=\"clearfix\"></div>\n<div class=\"marg-top-12\">\n<p>\n<input class=\"filled-in\" id=\"ch-custcleared\" name=\"custcleared\" type=\"checkbox\" value=\"1\">\n<label for=\"ch-custcleared\">Մաքսազերծված</label>\n</input></p>\n<p>\n<input class=\"filled-in\" id=\"ch-negotiable\" name=\"negotiable\" type=\"checkbox\" value=\"1\">\n<label for=\"ch-negotiable\">Պայմ.</label>\n</input></p>\n<p>\n<input class=\"filled-in\" id=\"ch-exchange\" name=\"exchange\" type=\"checkbox\" value=\"1\">\n<label for=\"ch-exchange\">Փոխանակում</label>\n</input></p>\n<p>\n<input class=\"filled-in\" id=\"ch-installments\" name=\"installments\" type=\"checkbox\" value=\"1\">\n<label for=\"ch-installments\">Մաս-մաս վճարում</label>\n</input></p>\n</div>\n<!-- geoblock -->\n</div>\n</li>\n<li>\n<div class=\"collapsible-header\">Թափքը</div>\n<div class=\"collapsible-body\">\n<!-- select -->\n<p>\n<input class=\"filled-in\" id=\"ch-ell-10\" name=\"attr[84][]\" type=\"checkbox\" value=\"10\">\n<label for=\"ch-ell-10\">Սեդան</label>\n</input></p>\n<p>\n<input class=\"filled-in\" id=\"ch-ell-11\" name=\"attr[84][]\" type=\"checkbox\" value=\"11\"/>\n<label for=\"ch-ell-11\">Հետչբեք</label>\n</p>\n<p>\n<input class=\"filled-in\" id=\"ch-ell-12\" name=\"attr[84][]\" type=\"checkbox\" value=\"12\"/>\n<label for=\"ch-ell-12\">Ունիվերսալ</label>\n</p>\n<p>\n<input class=\"filled-in\" id=\"ch-ell-13\" name=\"attr[84][]\" type=\"checkbox\" value=\"13\"/>\n<label for=\"ch-ell-13\">Կուպե</label>\n</p>\n<p>\n<input class=\"filled-in\" id=\"ch-ell-14\" name=\"attr[84][]\" type=\"checkbox\" value=\"14\"/>\n<label for=\"ch-ell-14\">Կաբրիոլետ / Ռոդսթեր</label>\n</p>\n<p>\n<input class=\"filled-in\" id=\"ch-ell-15\" name=\"attr[84][]\" type=\"checkbox\" value=\"15\"/>\n<label for=\"ch-ell-15\">Ամենագնաց</label>\n</p>\n<p>\n<input class=\"filled-in\" id=\"ch-ell-16\" name=\"attr[84][]\" type=\"checkbox\" value=\"16\"/>\n<label for=\"ch-ell-16\">Պիկապ</label>\n</p>\n<p>\n<input class=\"filled-in\" id=\"ch-ell-17\" name=\"attr[84][]\" type=\"checkbox\" value=\"17\"/>\n<label for=\"ch-ell-17\">Մինիվեն /  Միկրոավտոբուս</label>\n</p>\n<p>\n<input class=\"filled-in\" id=\"ch-ell-18\" name=\"attr[84][]\" type=\"checkbox\" value=\"18\"/>\n<label for=\"ch-ell-18\">Ֆուրգոն</label>\n</p>\n<p>\n<input class=\"filled-in\" id=\"ch-ell-19\" name=\"attr[84][]\" type=\"checkbox\" value=\"19\"/>\n<label for=\"ch-ell-19\">Լիմուզին</label>\n</p>\n<!-- colorselect -->\n<!-- textfield -->\n<!-- unit -->\n<!-- yearselect -->\n<!-- conditionblock -->\n<!-- priceblock -->\n<!-- geoblock -->\n</div>\n</li>\n<li>\n<div class=\"collapsible-header\">Շարժիչը</div>\n<div class=\"collapsible-body\">\n<!-- select -->\n<p>\n<input class=\"filled-in\" id=\"ch-ell-4\" name=\"attr[88][]\" type=\"checkbox\" value=\"4\"/>\n<label for=\"ch-ell-4\">Բենզին</label>\n</p>\n<p>\n<input class=\"filled-in\" id=\"ch-ell-5\" name=\"attr[88][]\" type=\"checkbox\" value=\"5\"/>\n<label for=\"ch-ell-5\">Գազ</label>\n</p>\n<p>\n<input class=\"filled-in\" id=\"ch-ell-6\" name=\"attr[88][]\" type=\"checkbox\" value=\"6\"/>\n<label for=\"ch-ell-6\">Դիզել</label>\n</p>\n<p>\n<input class=\"filled-in\" id=\"ch-ell-7\" name=\"attr[88][]\" type=\"checkbox\" value=\"7\"/>\n<label for=\"ch-ell-7\">Հիբրիդ</label>\n</p>\n<p>\n<input class=\"filled-in\" id=\"ch-ell-8\" name=\"attr[88][]\" type=\"checkbox\" value=\"8\"/>\n<label for=\"ch-ell-8\">Էլեկտրական</label>\n</p>\n<p>\n<input class=\"filled-in\" id=\"ch-ell-54\" name=\"attr[88][]\" type=\"checkbox\" value=\"54\"/>\n<label for=\"ch-ell-54\">Ջրածին</label>\n</p>\n<p>\n<input class=\"filled-in\" id=\"ch-ell-334\" name=\"attr[88][]\" type=\"checkbox\" value=\"334\"/>\n<label for=\"ch-ell-334\">Առանց շարժիչ</label>\n</p>\n<!-- colorselect -->\n<!-- textfield -->\n<!-- unit -->\n<!-- yearselect -->\n<!-- conditionblock -->\n<!-- priceblock -->\n<!-- geoblock -->\n</div>\n</li>\n<li>\n<div class=\"collapsible-header\">Փոխանցման տուփը</div>\n<div class=\"collapsible-body\">\n<!-- select -->\n<p>\n<input class=\"filled-in\" id=\"ch-ell-1\" name=\"attr[86][]\" type=\"checkbox\" value=\"1\"/>\n<label for=\"ch-ell-1\">Մեխանիկական</label>\n</p>\n<p>\n<input class=\"filled-in\" id=\"ch-ell-2\" name=\"attr[86][]\" type=\"checkbox\" value=\"2\"/>\n<label for=\"ch-ell-2\">Ավտոմատ</label>\n</p>\n<p>\n<input class=\"filled-in\" id=\"ch-ell-3\" name=\"attr[86][]\" type=\"checkbox\" value=\"3\"/>\n<label for=\"ch-ell-3\">Կիսաավտոմատ</label>\n</p>\n<p>\n<input class=\"filled-in\" id=\"ch-ell-20\" name=\"attr[86][]\" type=\"checkbox\" value=\"20\"/>\n<label for=\"ch-ell-20\">Վարիատոր</label>\n</p>\n<p>\n<input class=\"filled-in\" id=\"ch-ell-40\" name=\"attr[86][]\" type=\"checkbox\" value=\"40\"/>\n<label for=\"ch-ell-40\">Այլ</label>\n</p>\n<!-- colorselect -->\n<!-- textfield -->\n<!-- unit -->\n<!-- yearselect -->\n<!-- conditionblock -->\n<!-- priceblock -->\n<!-- geoblock -->\n</div>\n</li>\n<li>\n<div class=\"collapsible-header\">Քարշակը</div>\n<div class=\"collapsible-body\">\n<!-- select -->\n<p>\n<input class=\"filled-in\" id=\"ch-ell-51\" name=\"attr[90][]\" type=\"checkbox\" value=\"51\"/>\n<label for=\"ch-ell-51\">Առջևի</label>\n</p>\n<p>\n<input class=\"filled-in\" id=\"ch-ell-52\" name=\"attr[90][]\" type=\"checkbox\" value=\"52\"/>\n<label for=\"ch-ell-52\">Ետևի</label>\n</p>\n<p>\n<input class=\"filled-in\" id=\"ch-ell-53\" name=\"attr[90][]\" type=\"checkbox\" value=\"53\"/>\n<label for=\"ch-ell-53\">Լիաքարշակ 4x4</label>\n</p>\n<!-- colorselect -->\n<!-- textfield -->\n<!-- unit -->\n<!-- yearselect -->\n<!-- conditionblock -->\n<!-- priceblock -->\n<!-- geoblock -->\n</div>\n</li>\n<li>\n<div class=\"collapsible-header\">Ղեկը</div>\n<div class=\"collapsible-body\">\n<!-- select -->\n<p>\n<input class=\"filled-in\" id=\"ch-ell-21\" name=\"attr[87][]\" type=\"checkbox\" value=\"21\"/>\n<label for=\"ch-ell-21\">Ձախ</label>\n</p>\n<p>\n<input class=\"filled-in\" id=\"ch-ell-22\" name=\"attr[87][]\" type=\"checkbox\" value=\"22\"/>\n<label for=\"ch-ell-22\">Աջ</label>\n</p>\n<p>\n<input class=\"filled-in\" id=\"ch-ell-244\" name=\"attr[87][]\" type=\"checkbox\" value=\"244\"/>\n<label for=\"ch-ell-244\">Փոխված աջից ձախ</label>\n</p>\n<!-- colorselect -->\n<!-- textfield -->\n<!-- unit -->\n<!-- yearselect -->\n<!-- conditionblock -->\n<!-- priceblock -->\n<!-- geoblock -->\n</div>\n</li>\n<li>\n<div class=\"collapsible-header\">Վազքը</div>\n<div class=\"collapsible-body\">\n<!-- select -->\n<!-- colorselect -->\n<!-- textfield -->\n<!-- unit -->\n<div>\n<div class=\"range-47-fields\">\n<input class=\"range-from left\" data-rangeid=\"range-47\" id=\"range-47-from\" max=\"1000000\" min=\"10\" name=\"mileage[gt]\" placeholder=\"սկսած\" style=\"width:48%\" type=\"number\" value=\"10\"/>\n<input class=\"range-to right\" data-rangeid=\"range-47\" id=\"range-47-to\" max=\"1000000\" min=\"10\" name=\"mileage[lt]\" placeholder=\"մինչև\" style=\"width: 48%\" type=\"number\" value=\"1000000\"/>\n</div>\n<div class=\"clearfix\"></div>\n</div>\n<!-- yearselect -->\n<!-- conditionblock -->\n<!-- priceblock -->\n<!-- geoblock -->\n</div>\n</li>\n<li>\n<div class=\"collapsible-header\">Շարժիչի ծավալը</div>\n<div class=\"collapsible-body\">\n<!-- select -->\n<p>\n<input class=\"filled-in\" id=\"ch-ell-268\" name=\"attr[115][]\" type=\"checkbox\" value=\"268\">\n<label for=\"ch-ell-268\">0.6</label>\n</input></p>\n<p>\n<input class=\"filled-in\" id=\"ch-ell-269\" name=\"attr[115][]\" type=\"checkbox\" value=\"269\">\n<label for=\"ch-ell-269\">0.7</label>\n</input></p>\n<p>\n<input class=\"filled-in\" id=\"ch-ell-270\" name=\"attr[115][]\" type=\"checkbox\" value=\"270\"/>\n<label for=\"ch-ell-270\">0.8</label>\n</p>\n<p>\n<input class=\"filled-in\" id=\"ch-ell-271\" name=\"attr[115][]\" type=\"checkbox\" value=\"271\"/>\n<label for=\"ch-ell-271\">0.9</label>\n</p>\n<p>\n<input class=\"filled-in\" id=\"ch-ell-272\" name=\"attr[115][]\" type=\"checkbox\" value=\"272\"/>\n<label for=\"ch-ell-272\">1.0</label>\n</p>\n<p>\n<input class=\"filled-in\" id=\"ch-ell-273\" name=\"attr[115][]\" type=\"checkbox\" value=\"273\"/>\n<label for=\"ch-ell-273\">1.1</label>\n</p>\n<p>\n<input class=\"filled-in\" id=\"ch-ell-274\" name=\"attr[115][]\" type=\"checkbox\" value=\"274\"/>\n<label for=\"ch-ell-274\">1.2</label>\n</p>\n<p>\n<input class=\"filled-in\" id=\"ch-ell-275\" name=\"attr[115][]\" type=\"checkbox\" value=\"275\"/>\n<label for=\"ch-ell-275\">1.3</label>\n</p>\n<p>\n<input class=\"filled-in\" id=\"ch-ell-276\" name=\"attr[115][]\" type=\"checkbox\" value=\"276\"/>\n<label for=\"ch-ell-276\">1.4</label>\n</p>\n<p>\n<input class=\"filled-in\" id=\"ch-ell-277\" name=\"attr[115][]\" type=\"checkbox\" value=\"277\"/>\n<label for=\"ch-ell-277\">1.5</label>\n</p>\n<p>\n<input class=\"filled-in\" id=\"ch-ell-278\" name=\"attr[115][]\" type=\"checkbox\" value=\"278\"/>\n<label for=\"ch-ell-278\">1.6</label>\n</p>\n<p>\n<input class=\"filled-in\" id=\"ch-ell-279\" name=\"attr[115][]\" type=\"checkbox\" value=\"279\"/>\n<label for=\"ch-ell-279\">1.7</label>\n</p>\n<p>\n<input class=\"filled-in\" id=\"ch-ell-280\" name=\"attr[115][]\" type=\"checkbox\" value=\"280\"/>\n<label for=\"ch-ell-280\">1.8</label>\n</p>\n<p>\n<input class=\"filled-in\" id=\"ch-ell-281\" name=\"attr[115][]\" type=\"checkbox\" value=\"281\"/>\n<label for=\"ch-ell-281\">1.9</label>\n</p>\n<p>\n<input class=\"filled-in\" id=\"ch-ell-282\" name=\"attr[115][]\" type=\"checkbox\" value=\"282\"/>\n<label for=\"ch-ell-282\">2.0</label>\n</p>\n<p>\n<input class=\"filled-in\" id=\"ch-ell-283\" name=\"attr[115][]\" type=\"checkbox\" value=\"283\"/>\n<label for=\"ch-ell-283\">2.1</label>\n</p>\n<p>\n<input class=\"filled-in\" id=\"ch-ell-284\" name=\"attr[115][]\" type=\"checkbox\" value=\"284\"/>\n<label for=\"ch-ell-284\">2.2</label>\n</p>\n<p>\n<input class=\"filled-in\" id=\"ch-ell-285\" name=\"attr[115][]\" type=\"checkbox\" value=\"285\"/>\n<label for=\"ch-ell-285\">2.3</label>\n</p>\n<p>\n<input class=\"filled-in\" id=\"ch-ell-286\" name=\"attr[115][]\" type=\"checkbox\" value=\"286\"/>\n<label for=\"ch-ell-286\">2.4</label>\n</p>\n<p>\n<input class=\"filled-in\" id=\"ch-ell-287\" name=\"attr[115][]\" type=\"checkbox\" value=\"287\"/>\n<label for=\"ch-ell-287\">2.5</label>\n</p>\n<p>\n<input class=\"filled-in\" id=\"ch-ell-288\" name=\"attr[115][]\" type=\"checkbox\" value=\"288\"/>\n<label for=\"ch-ell-288\">2.6</label>\n</p>\n<p>\n<input class=\"filled-in\" id=\"ch-ell-289\" name=\"attr[115][]\" type=\"checkbox\" value=\"289\"/>\n<label for=\"ch-ell-289\">2.7</label>\n</p>\n<p>\n<input class=\"filled-in\" id=\"ch-ell-290\" name=\"attr[115][]\" type=\"checkbox\" value=\"290\"/>\n<label for=\"ch-ell-290\">2.8</label>\n</p>\n<p>\n<input class=\"filled-in\" id=\"ch-ell-291\" name=\"attr[115][]\" type=\"checkbox\" value=\"291\"/>\n<label for=\"ch-ell-291\">2.9</label>\n</p>\n<p>\n<input class=\"filled-in\" id=\"ch-ell-292\" name=\"attr[115][]\" type=\"checkbox\" value=\"292\"/>\n<label for=\"ch-ell-292\">3.0</label>\n</p>\n<p>\n<input class=\"filled-in\" id=\"ch-ell-293\" name=\"attr[115][]\" type=\"checkbox\" value=\"293\"/>\n<label for=\"ch-ell-293\">3.1</label>\n</p>\n<p>\n<input class=\"filled-in\" id=\"ch-ell-294\" name=\"attr[115][]\" type=\"checkbox\" value=\"294\"/>\n<label for=\"ch-ell-294\">3.2</label>\n</p>\n<p>\n<input class=\"filled-in\" id=\"ch-ell-295\" name=\"attr[115][]\" type=\"checkbox\" value=\"295\"/>\n<label for=\"ch-ell-295\">3.3</label>\n</p>\n<p>\n<input class=\"filled-in\" id=\"ch-ell-296\" name=\"attr[115][]\" type=\"checkbox\" value=\"296\"/>\n<label for=\"ch-ell-296\">3.4</label>\n</p>\n<p>\n<input class=\"filled-in\" id=\"ch-ell-297\" name=\"attr[115][]\" type=\"checkbox\" value=\"297\"/>\n<label for=\"ch-ell-297\">3.5</label>\n</p>\n<p>\n<input class=\"filled-in\" id=\"ch-ell-298\" name=\"attr[115][]\" type=\"checkbox\" value=\"298\"/>\n<label for=\"ch-ell-298\">3.6</label>\n</p>\n<p>\n<input class=\"filled-in\" id=\"ch-ell-299\" name=\"attr[115][]\" type=\"checkbox\" value=\"299\"/>\n<label for=\"ch-ell-299\">3.7</label>\n</p>\n<p>\n<input class=\"filled-in\" id=\"ch-ell-300\" name=\"attr[115][]\" type=\"checkbox\" value=\"300\"/>\n<label for=\"ch-ell-300\">3.8</label>\n</p>\n<p>\n<input class=\"filled-in\" id=\"ch-ell-301\" name=\"attr[115][]\" type=\"checkbox\" value=\"301\"/>\n<label for=\"ch-ell-301\">3.9</label>\n</p>\n<p>\n<input class=\"filled-in\" id=\"ch-ell-302\" name=\"attr[115][]\" type=\"checkbox\" value=\"302\"/>\n<label for=\"ch-ell-302\">4.0</label>\n</p>\n<p>\n<input class=\"filled-in\" id=\"ch-ell-303\" name=\"attr[115][]\" type=\"checkbox\" value=\"303\"/>\n<label for=\"ch-ell-303\">4.1</label>\n</p>\n<p>\n<input class=\"filled-in\" id=\"ch-ell-304\" name=\"attr[115][]\" type=\"checkbox\" value=\"304\"/>\n<label for=\"ch-ell-304\">4.2</label>\n</p>\n<p>\n<input class=\"filled-in\" id=\"ch-ell-305\" name=\"attr[115][]\" type=\"checkbox\" value=\"305\"/>\n<label for=\"ch-ell-305\">4.3</label>\n</p>\n<p>\n<input class=\"filled-in\" id=\"ch-ell-306\" name=\"attr[115][]\" type=\"checkbox\" value=\"306\"/>\n<label for=\"ch-ell-306\">4.4</label>\n</p>\n<p>\n<input class=\"filled-in\" id=\"ch-ell-307\" name=\"attr[115][]\" type=\"checkbox\" value=\"307\"/>\n<label for=\"ch-ell-307\">4.5</label>\n</p>\n<p>\n<input class=\"filled-in\" id=\"ch-ell-308\" name=\"attr[115][]\" type=\"checkbox\" value=\"308\"/>\n<label for=\"ch-ell-308\">4.6</label>\n</p>\n<p>\n<input class=\"filled-in\" id=\"ch-ell-309\" name=\"attr[115][]\" type=\"checkbox\" value=\"309\"/>\n<label for=\"ch-ell-309\">4.7</label>\n</p>\n<p>\n<input class=\"filled-in\" id=\"ch-ell-310\" name=\"attr[115][]\" type=\"checkbox\" value=\"310\"/>\n<label for=\"ch-ell-310\">4.8</label>\n</p>\n<p>\n<input class=\"filled-in\" id=\"ch-ell-311\" name=\"attr[115][]\" type=\"checkbox\" value=\"311\"/>\n<label for=\"ch-ell-311\">4.9</label>\n</p>\n<p>\n<input class=\"filled-in\" id=\"ch-ell-312\" name=\"attr[115][]\" type=\"checkbox\" value=\"312\"/>\n<label for=\"ch-ell-312\">5.0</label>\n</p>\n<p>\n<input class=\"filled-in\" id=\"ch-ell-313\" name=\"attr[115][]\" type=\"checkbox\" value=\"313\"/>\n<label for=\"ch-ell-313\">5.1</label>\n</p>\n<p>\n<input class=\"filled-in\" id=\"ch-ell-314\" name=\"attr[115][]\" type=\"checkbox\" value=\"314\"/>\n<label for=\"ch-ell-314\">5.2</label>\n</p>\n<p>\n<input class=\"filled-in\" id=\"ch-ell-315\" name=\"attr[115][]\" type=\"checkbox\" value=\"315\"/>\n<label for=\"ch-ell-315\">5.3</label>\n</p>\n<p>\n<input class=\"filled-in\" id=\"ch-ell-316\" name=\"attr[115][]\" type=\"checkbox\" value=\"316\"/>\n<label for=\"ch-ell-316\">5.4</label>\n</p>\n<p>\n<input class=\"filled-in\" id=\"ch-ell-317\" name=\"attr[115][]\" type=\"checkbox\" value=\"317\"/>\n<label for=\"ch-ell-317\">5.5</label>\n</p>\n<p>\n<input class=\"filled-in\" id=\"ch-ell-318\" name=\"attr[115][]\" type=\"checkbox\" value=\"318\"/>\n<label for=\"ch-ell-318\">5.6</label>\n</p>\n<p>\n<input class=\"filled-in\" id=\"ch-ell-319\" name=\"attr[115][]\" type=\"checkbox\" value=\"319\"/>\n<label for=\"ch-ell-319\">5.7</label>\n</p>\n<p>\n<input class=\"filled-in\" id=\"ch-ell-320\" name=\"attr[115][]\" type=\"checkbox\" value=\"320\"/>\n<label for=\"ch-ell-320\">5.8</label>\n</p>\n<p>\n<input class=\"filled-in\" id=\"ch-ell-321\" name=\"attr[115][]\" type=\"checkbox\" value=\"321\"/>\n<label for=\"ch-ell-321\">5.9</label>\n</p>\n<p>\n<input class=\"filled-in\" id=\"ch-ell-322\" name=\"attr[115][]\" type=\"checkbox\" value=\"322\"/>\n<label for=\"ch-ell-322\">6.0</label>\n</p>\n<p>\n<input class=\"filled-in\" id=\"ch-ell-323\" name=\"attr[115][]\" type=\"checkbox\" value=\"323\"/>\n<label for=\"ch-ell-323\">6.1</label>\n</p>\n<p>\n<input class=\"filled-in\" id=\"ch-ell-324\" name=\"attr[115][]\" type=\"checkbox\" value=\"324\"/>\n<label for=\"ch-ell-324\">6.2</label>\n</p>\n<p>\n<input class=\"filled-in\" id=\"ch-ell-325\" name=\"attr[115][]\" type=\"checkbox\" value=\"325\"/>\n<label for=\"ch-ell-325\">6.3</label>\n</p>\n<p>\n<input class=\"filled-in\" id=\"ch-ell-326\" name=\"attr[115][]\" type=\"checkbox\" value=\"326\"/>\n<label for=\"ch-ell-326\">6.4</label>\n</p>\n<p>\n<input class=\"filled-in\" id=\"ch-ell-327\" name=\"attr[115][]\" type=\"checkbox\" value=\"327\"/>\n<label for=\"ch-ell-327\">6.5</label>\n</p>\n<p>\n<input class=\"filled-in\" id=\"ch-ell-328\" name=\"attr[115][]\" type=\"checkbox\" value=\"328\"/>\n<label for=\"ch-ell-328\">6.6</label>\n</p>\n<p>\n<input class=\"filled-in\" id=\"ch-ell-329\" name=\"attr[115][]\" type=\"checkbox\" value=\"329\"/>\n<label for=\"ch-ell-329\">6.7</label>\n</p>\n<p>\n<input class=\"filled-in\" id=\"ch-ell-330\" name=\"attr[115][]\" type=\"checkbox\" value=\"330\"/>\n<label for=\"ch-ell-330\">6.8</label>\n</p>\n<p>\n<input class=\"filled-in\" id=\"ch-ell-331\" name=\"attr[115][]\" type=\"checkbox\" value=\"331\"/>\n<label for=\"ch-ell-331\">6.9</label>\n</p>\n<p>\n<input class=\"filled-in\" id=\"ch-ell-332\" name=\"attr[115][]\" type=\"checkbox\" value=\"332\"/>\n<label for=\"ch-ell-332\">7.0</label>\n</p>\n<!-- colorselect -->\n<!-- textfield -->\n<!-- unit -->\n<!-- yearselect -->\n<!-- conditionblock -->\n<!-- priceblock -->\n<!-- geoblock -->\n</div>\n</li>\n<li>\n<div class=\"collapsible-header\">Գույնը</div>\n<div class=\"collapsible-body\">\n<!-- select -->\n<!-- colorselect -->\n<p class=\"\" id=\"eh9\">\n<style>\n                                                            #eh9 input+label:before {border-color:#f0f0f0; }\n                                                            #eh9 input:checked+label:before {background:#f0f0f0; }\n                                                        </style>\n<input class=\"rounded black\" id=\"ch-el-46-9\" name=\"attr[46][]\" type=\"checkbox\" value=\"9\"/>\n<label for=\"ch-el-46-9\">Սպիտակ</label>\n</p>\n<p class=\"\" id=\"eh23\">\n<style>\n                                                            #eh23 input+label:before {border-color:#000000; }\n                                                            #eh23 input:checked+label:before {background:#000000; }\n                                                        </style>\n<input class=\"rounded black\" id=\"ch-el-46-23\" name=\"attr[46][]\" type=\"checkbox\" value=\"23\"/>\n<label for=\"ch-el-46-23\">Սև</label>\n</p>\n<p class=\"\" id=\"eh24\">\n<style>\n                                                            #eh24 input+label:before {border-color:#bbbfc7; }\n                                                            #eh24 input:checked+label:before {background:#bbbfc7; }\n                                                        </style>\n<input class=\"rounded black\" id=\"ch-el-46-24\" name=\"attr[46][]\" type=\"checkbox\" value=\"24\"/>\n<label for=\"ch-el-46-24\">Արծաթագույն</label>\n</p>\n<p class=\"\" id=\"eh25\">\n<style>\n                                                            #eh25 input+label:before {border-color:#2e56a6; }\n                                                            #eh25 input:checked+label:before {background:#2e56a6; }\n                                                        </style>\n<input class=\"rounded black\" id=\"ch-el-46-25\" name=\"attr[46][]\" type=\"checkbox\" value=\"25\"/>\n<label for=\"ch-el-46-25\">Կապույտ</label>\n</p>\n<p class=\"\" id=\"eh26\">\n<style>\n                                                            #eh26 input+label:before {border-color:#f20024; }\n                                                            #eh26 input:checked+label:before {background:#f20024; }\n                                                        </style>\n<input class=\"rounded black\" id=\"ch-el-46-26\" name=\"attr[46][]\" type=\"checkbox\" value=\"26\"/>\n<label for=\"ch-el-46-26\">Կարմիր</label>\n</p>\n<p class=\"\" id=\"eh27\">\n<style>\n                                                            #eh27 input+label:before {border-color:#12a30d; }\n                                                            #eh27 input:checked+label:before {background:#12a30d; }\n                                                        </style>\n<input class=\"rounded black\" id=\"ch-el-46-27\" name=\"attr[46][]\" type=\"checkbox\" value=\"27\"/>\n<label for=\"ch-el-46-27\">Կանաչ</label>\n</p>\n<p class=\"\" id=\"eh28\">\n<style>\n                                                            #eh28 input+label:before {border-color:#c7c7c7; }\n                                                            #eh28 input:checked+label:before {background:#c7c7c7; }\n                                                        </style>\n<input class=\"rounded black\" id=\"ch-el-46-28\" name=\"attr[46][]\" type=\"checkbox\" value=\"28\"/>\n<label for=\"ch-el-46-28\">Մոխրագույն</label>\n</p>\n<p class=\"\" id=\"eh29\">\n<style>\n                                                            #eh29 input+label:before {border-color:#8fcdff; }\n                                                            #eh29 input:checked+label:before {background:#8fcdff; }\n                                                        </style>\n<input class=\"rounded black\" id=\"ch-el-46-29\" name=\"attr[46][]\" type=\"checkbox\" value=\"29\"/>\n<label for=\"ch-el-46-29\">Երկնագույն</label>\n</p>\n<p class=\"\" id=\"eh30\">\n<style>\n                                                            #eh30 input+label:before {border-color:#ff3b79; }\n                                                            #eh30 input:checked+label:before {background:#ff3b79; }\n                                                        </style>\n<input class=\"rounded black\" id=\"ch-el-46-30\" name=\"attr[46][]\" type=\"checkbox\" value=\"30\"/>\n<label for=\"ch-el-46-30\">Վարդագույն</label>\n</p>\n<p class=\"\" id=\"eh31\">\n<style>\n                                                            #eh31 input+label:before {border-color:#f5f500; }\n                                                            #eh31 input:checked+label:before {background:#f5f500; }\n                                                        </style>\n<input class=\"rounded black\" id=\"ch-el-46-31\" name=\"attr[46][]\" type=\"checkbox\" value=\"31\"/>\n<label for=\"ch-el-46-31\">Դեղին</label>\n</p>\n<p class=\"\" id=\"eh32\">\n<style>\n                                                            #eh32 input+label:before {border-color:#d6ab00; }\n                                                            #eh32 input:checked+label:before {background:#d6ab00; }\n                                                        </style>\n<input class=\"rounded black\" id=\"ch-el-46-32\" name=\"attr[46][]\" type=\"checkbox\" value=\"32\"/>\n<label for=\"ch-el-46-32\">Ոսկեգույն</label>\n</p>\n<p class=\"\" id=\"eh33\">\n<style>\n                                                            #eh33 input+label:before {border-color:#592f00; }\n                                                            #eh33 input:checked+label:before {background:#592f00; }\n                                                        </style>\n<input class=\"rounded black\" id=\"ch-el-46-33\" name=\"attr[46][]\" type=\"checkbox\" value=\"33\"/>\n<label for=\"ch-el-46-33\">Շագանակագույն</label>\n</p>\n<p class=\"\" id=\"eh34\">\n<style>\n                                                            #eh34 input+label:before {border-color:#c70e99; }\n                                                            #eh34 input:checked+label:before {background:#c70e99; }\n                                                        </style>\n<input class=\"rounded black\" id=\"ch-el-46-34\" name=\"attr[46][]\" type=\"checkbox\" value=\"34\"/>\n<label for=\"ch-el-46-34\">Մանուշակագույն</label>\n</p>\n<p class=\"\" id=\"eh35\">\n<style>\n                                                            #eh35 input+label:before {border-color:#fac000; }\n                                                            #eh35 input:checked+label:before {background:#fac000; }\n                                                        </style>\n<input class=\"rounded black\" id=\"ch-el-46-35\" name=\"attr[46][]\" type=\"checkbox\" value=\"35\"/>\n<label for=\"ch-el-46-35\">Նարնջագույն</label>\n</p>\n<p class=\"\" id=\"eh36\">\n<style>\n                                                            #eh36 input+label:before {border-color:#ccb486; }\n                                                            #eh36 input:checked+label:before {background:#ccb486; }\n                                                        </style>\n<input class=\"rounded black\" id=\"ch-el-46-36\" name=\"attr[46][]\" type=\"checkbox\" value=\"36\"/>\n<label for=\"ch-el-46-36\">Բեժ</label>\n</p>\n<p class=\"\" id=\"eh37\">\n<style>\n                                                            #eh37 input+label:before {border-color:#4d3b15; }\n                                                            #eh37 input:checked+label:before {background:#4d3b15; }\n                                                        </style>\n<input class=\"rounded black\" id=\"ch-el-46-37\" name=\"attr[46][]\" type=\"checkbox\" value=\"37\"/>\n<label for=\"ch-el-46-37\">Սմբկագույն</label>\n</p>\n<p class=\"\" id=\"eh38\">\n<style>\n                                                            #eh38 input+label:before {border-color:#e80049; }\n                                                            #eh38 input:checked+label:before {background:#e80049; }\n                                                        </style>\n<input class=\"rounded black\" id=\"ch-el-46-38\" name=\"attr[46][]\" type=\"checkbox\" value=\"38\"/>\n<label for=\"ch-el-46-38\">Բալագույն</label>\n</p>\n<p class=\"\" id=\"eh39\">\n<style>\n                                                            #eh39 input+label:before {border-color:#bababa; }\n                                                            #eh39 input:checked+label:before {background:#bababa; }\n                                                        </style>\n<input class=\"rounded black\" id=\"ch-el-46-39\" name=\"attr[46][]\" type=\"checkbox\" value=\"39\"/>\n<label for=\"ch-el-46-39\">Այլ գույն</label>\n</p>\n<a class=\"waves-effect waves-brown btn-flat brown-text filter-more\"> <span>ավելին</span><span class=\"exed\">կոմպակտ</span></a>\n<!-- textfield -->\n<!-- unit -->\n<!-- yearselect -->\n<!-- conditionblock -->\n<!-- priceblock -->\n<!-- geoblock -->\n</div>\n</li>\n<li>\n<div class=\"collapsible-header\">Գտնվելու վայրը</div>\n<div class=\"collapsible-body\">\n<!-- select -->\n<!-- colorselect -->\n<!-- textfield -->\n<!-- unit -->\n<!-- yearselect -->\n<!-- conditionblock -->\n<!-- priceblock -->\n<!-- geoblock -->\n<div class=\"p\">\n<input class=\"geo-filter filled-in\" data-country-id=\"12\" id=\"ch-country-12\" name=\"geo[]\" type=\"checkbox\" value=\"12\"/>\n<label for=\"ch-country-12\">Հայաստան</label>\n<div class=\"region-cont\"></div>\n</div>\n<div class=\"p\">\n<input class=\"geo-filter filled-in\" data-country-id=\"111\" id=\"ch-country-111\" name=\"geo[]\" type=\"checkbox\" value=\"111\"/>\n<label for=\"ch-country-111\">Ճապոնիա</label>\n<div class=\"region-cont\"></div>\n</div>\n<div class=\"p\">\n<input class=\"geo-filter filled-in\" data-country-id=\"83\" id=\"ch-country-83\" name=\"geo[]\" type=\"checkbox\" value=\"83\"/>\n<label for=\"ch-country-83\">Գերմանիա</label>\n<div class=\"region-cont\"></div>\n</div>\n<div class=\"p\">\n<input class=\"geo-filter filled-in\" data-country-id=\"82\" id=\"ch-country-82\" name=\"geo[]\" type=\"checkbox\" value=\"82\"/>\n<label for=\"ch-country-82\">Վրաստան</label>\n<div class=\"region-cont\"></div>\n</div>\n<div class=\"p\">\n<input class=\"geo-filter filled-in\" data-country-id=\"182\" id=\"ch-country-182\" name=\"geo[]\" type=\"checkbox\" value=\"182\"/>\n<label for=\"ch-country-182\">Ռուսաստան</label>\n<div class=\"region-cont\"></div>\n</div>\n<div class=\"p\">\n<input class=\"geo-filter filled-in\" data-country-id=\"234\" id=\"ch-country-234\" name=\"geo[]\" type=\"checkbox\" value=\"234\"/>\n<label for=\"ch-country-234\">ԱՄԷ</label>\n<div class=\"region-cont\"></div>\n</div>\n<div class=\"p\">\n<input class=\"geo-filter filled-in\" data-country-id=\"236\" id=\"ch-country-236\" name=\"geo[]\" type=\"checkbox\" value=\"236\"/>\n<label for=\"ch-country-236\">ԱՄՆ</label>\n<div class=\"region-cont\"></div>\n</div>\n<div class=\"p\">\n<input class=\"geo-filter filled-in\" data-country-id=\"2\" id=\"ch-country-2\" name=\"geo[]\" type=\"checkbox\" value=\"2\"/>\n<label for=\"ch-country-2\">Հարավային Կորեա</label>\n<div class=\"region-cont\"></div>\n</div>\n<div class=\"switch marg-top-24 bold\">\n<label>\n<input name=\"intransit\" type=\"checkbox\" value=\"1\"/>\n<span class=\"lever\"></span>   Ճանապարհին է\n                                        </label>\n<label>\n<input name=\"inauction\" type=\"checkbox\" value=\"1\"/>\n<span class=\"lever\"></span>   Աճուրդում է\n                                        </label>\n</div>\n</div>\n</li>\n<li>\n<div class=\"collapsible-header\">Վիճակը</div>\n<div class=\"collapsible-body\">\n<!-- select -->\n<!-- colorselect -->\n<!-- textfield -->\n<!-- unit -->\n<!-- yearselect -->\n<!-- conditionblock -->\n<p>\n<input class=\"filled-in\" id=\"ch-condition-1\" name=\"condition[]\" type=\"checkbox\" value=\"1\">\n<label for=\"ch-condition-1\">Գերազանց</label>\n</input></p>\n<p>\n<input class=\"filled-in\" id=\"ch-condition-2\" name=\"condition[]\" type=\"checkbox\" value=\"2\">\n<label for=\"ch-condition-2\">Լավ</label>\n</input></p>\n<p>\n<input class=\"filled-in\" id=\"ch-condition-3\" name=\"condition[]\" type=\"checkbox\" value=\"3\"/>\n<label for=\"ch-condition-3\">Նորմալ</label>\n</p>\n<p>\n<input class=\"filled-in\" id=\"ch-condition-4\" name=\"condition[]\" type=\"checkbox\" value=\"4\"/>\n<label for=\"ch-condition-4\">Վթարված</label>\n</p>\n<p>\n<input class=\"filled-in\" id=\"ch-condition-5\" name=\"condition[]\" type=\"checkbox\" value=\"5\"/>\n<label for=\"ch-condition-5\">Պահեստամասերի համար</label>\n</p>\n<!-- priceblock -->\n<!-- geoblock -->\n</div>\n</li>\n<li>\n<div class=\"collapsible-header\">Լրացուցիչ օպցիաներ</div>\n<div class=\"collapsible-body expandable\">\n<p>\n<input class=\"filled-in\" id=\"ch-el-198\" name=\"attr[198]\" type=\"checkbox\" value=\"ckd\"/>\n<label for=\"ch-el-198\">Գնված է ավտոսրահից</label>\n</p><p>\n<input class=\"filled-in\" id=\"ch-el-39\" name=\"attr[39]\" type=\"checkbox\" value=\"ckd\"/>\n<label for=\"ch-el-39\">Կոնդիցիոներ</label>\n</p><p>\n<input class=\"filled-in\" id=\"ch-el-40\" name=\"attr[40]\" type=\"checkbox\" value=\"ckd\"/>\n<label for=\"ch-el-40\">Կլիմատ-կոնտրոլ</label>\n</p><p>\n<input class=\"filled-in\" id=\"ch-el-2\" name=\"attr[2]\" type=\"checkbox\" value=\"ckd\"/>\n<label for=\"ch-el-2\">ABS</label>\n</p><p>\n<input class=\"filled-in\" id=\"ch-el-6\" name=\"attr[6]\" type=\"checkbox\" value=\"ckd\"/>\n<label for=\"ch-el-6\">Ալյումինե սկավառակներ</label>\n</p><p>\n<input class=\"filled-in\" id=\"ch-el-8\" name=\"attr[8]\" type=\"checkbox\" value=\"ckd\"/>\n<label for=\"ch-el-8\">Լյուկ</label>\n</p><p>\n<input class=\"filled-in\" id=\"ch-el-43\" name=\"attr[43]\" type=\"checkbox\" value=\"ckd\"/>\n<label for=\"ch-el-43\"> Էլեկտրակառավարվող ապակիներ</label>\n</p><p>\n<input class=\"filled-in\" id=\"ch-el-32\" name=\"attr[32]\" type=\"checkbox\" value=\"ckd\"/>\n<label for=\"ch-el-32\">Մոնիտոր/TV</label>\n</p>\n<a class=\"waves-effect waves-brown btn-flat brown-text filter-more\"> <span>ավելին</span><span class=\"exed\">կոմպակտ</span></a>\n</div>\n</li>\n</li></li></ul>\n<div class=\"fixed\" id=\"research\">\n<!--  հայտ. -->\n<button class=\"waves-effect waves-light btn blue marg-top-12 marg-bot-12\" id=\"research-btn\" type=\"button\"><i class=\"material-icons\" style=\"vertical-align: middle; line-height: 1; font-size: 18px\"></i> <span></span></button>\n<button class=\"waves-effect waves-light btn blue-grey darken-4 black-text absolute tooltip\" data-tipso=\"Զրոյացնել որոնման չափանիշները\" id=\"filter-form-reset\" type=\"button\">\n<i class=\"material-icons\">control_point</i>\n</button>\n</div>\n</form>\n</div>\n<div class=\"col s12 m9 l9 relative\" id=\"search-cont\">\n<textarea class=\"materialize\" id=\"sdebug\" style=\"margin-top:50px; height: 150px; margin-left: 22px; width:80%; display: none; \"></textarea>\n<div class=\"search-result-info alert alert-success large\">\n        Գտնվել է <span class=\"bold\"></span> հայտարարություն\n    </div>\n<div class=\"white shadow row\" id=\"search-tools\">\n<div class=\"col s12 l4\">\n<select class=\"select filter-sort\" data-placeholder=\"Դասավորում\" name=\"filter-sort\" style=\"width:90%\">\n<option selected=\"\" value=\"latest\">Ամենաթարմերը</option>\n<option value=\"price-asc\">Գին՝  էժանից - թանկ</option>\n<option value=\"price-desc\">Գին՝  թանկից - էժան</option>\n<option value=\"year-asc\">Տարեթիվ՝  ամենահները</option>\n<option value=\"year-desc\">Տարեթիվ՝  ամենանորերը</option>\n</select>\n</div>\n<div class=\"col s6 l5 search-checks\">\n<p class=\"left marg-right-18\">\n<input class=\"filled-in utype\" id=\"ch-individuals\" name=\"individuals\" type=\"checkbox\" value=\"n\"/>\n<label for=\"ch-individuals\">Անհատներ </label>\n</p>\n<p class=\"left\">\n<input class=\"filled-in utype\" id=\"ch-dealers\" name=\"dealers\" type=\"checkbox\" value=\"y\"/>\n<label for=\"ch-dealers\">Դիլերներ </label>\n</p>\n</div>\n<div class=\"col s6 l3 search-view right-align\">\n<a class=\"\" data-layout=\"grid\" title=\"\"><i class=\"material-icons\">apps</i></a>\n<a class=\"sel\" data-layout=\"list\" title=\"\"><i class=\"material-icons\">view_list</i></a>\n<a class=\"\" data-layout=\"complist\" title=\"\"><i class=\"material-icons\">menu</i></a>\n</div>\n</div>\n<div class=\"list\" id=\"search-result\">\n<!-- search results here -->\n</div>\n<!-- <div class=\"col l12 center load-more pad-all-36\">\n   <input type=\"hidden\" name=\"pagenum\" value=\"2\">\n\t\n  <div class=\"preloader-wrapper small\">\n    <div class=\"spinner-layer spinner-blue-only\">\n      <div class=\"circle-clipper left\">\n        <div class=\"circle\"></div>\n      </div><div class=\"gap-patch\">\n        <div class=\"circle\"></div>\n      </div><div class=\"circle-clipper right\">\n        <div class=\"circle\"></div>\n      </div>\n    </div>\n  </div>\n       \n\tԲեռնել ավելին\n</div> -->\n<div class=\"search-pagination pad-all-36 clearfix\">\n</div>\n<input id=\"popupData\" type=\"hidden\" value='&lt;div class=\"content-block\"&gt;&lt;div class=\"phone-number-block\"&gt;&lt;img src=\"/static/other/car-vtb.png\" alt=\"\"&gt;&lt;img src=\"/static/other/loan.png\" alt=\"\"&gt;&lt;/div&gt;&lt;div class=\"lease-info-block\"&gt;&lt;ul&gt;&lt;li&gt;&lt;p&gt;Կանխավճար(%)&lt;/p&gt;&lt;span&gt;&lt;input id=\"pUps\" type=\"text\"&gt;&lt;/span&gt;&lt;/li&gt;&lt;li&gt;&lt;p&gt;Ժամկետ (ամիս)&lt;/p&gt;&lt;span&gt;&lt;input id=\"pUpd\" type=\"text\"&gt;&lt;/span&gt;&lt;/li&gt;&lt;li&gt;&lt;p&gt;Ամսավճար (֏)&lt;/p&gt;&lt;span id=\"pUpp\"&gt;&lt;/span&gt;&lt;/li&gt;&lt;/ul&gt;&lt;/div&gt;&lt;div class=\"vtb-dialog-footer\"&gt;&lt;!--&lt;span class=\"vtb-phone\"&gt;&lt;i class=\"material-icons\"&gt;phone&lt;/i&gt;87-87&lt;/span&gt;--&gt;&lt;button class=\"waves-effect waves-light btn continue-block\"&gt;Դիմել&lt;/button&gt;&lt;/div&gt;&lt;/div&gt;'/>\n</div>\n</div>\n<div class=\"col s12 m4 l2 pad-top-12\">\n<div class=\"azd marg-left-12 marg-top-12\"><div class=\"bncont\" data-id=\"13\"><a class=\"links\" href=\"http://www.mosesco.am/\" target=\"_blank\"><img alt=\"\" src=\"/static/azd/11/d07ec64fa4c342e8ce35c66cb1bf6345.gif\"/></a></div></div>\n<div class=\"azd marg-left-12\"><div class=\"bncont\" data-id=\"4\"><a class=\"links\" href=\"https://automarket.am/\" target=\"_blank\"><img alt=\"\" src=\"/static/azd/177/489331e0fcda7ba9f14eb3d3c7781e31.gif\"/></a></div></div>\n<div class=\"azd marg-left-12\"><div class=\"bncont\" data-id=\"45\"><a class=\"links\" href=\"https://www.capitalcredit.am/gravov-arag-varker/?utm_source=auto.am&amp;utm_medium=banner_ad&amp;utm_campaign=auto.am_banner\" target=\"_blank\"><img alt=\"\" src=\"/static/azd/236/6dda9b84a33a098e65dfbf9f2c2f3a36.gif\"/></a></div></div>\n<div class=\"azd marg-left-12\"><div class=\"bncont\" data-id=\"785\"><iframe class=\"ad-iframe\" frameborder=\"0\" height=\"230px\" src=\"//auto.am/static/azd/16/index.html\" width=\"100%\"></iframe></div></div>\n<div class=\"azd marg-left-12\"></div>\n<div class=\"azd marg-left-12\"></div>\n<div class=\"azd marg-left-12\"></div> </div>\n</div>\n</section>\n<div class=\"closed\" id=\"chat-plugin-wrapper\">\n</div>\n<!-- footer -->\n<footer>\n<div class=\"wrapper\">\n<div class=\"row footer-menu\">\n<div class=\"col l12\">\n<a href=\"/hy/about\">Նախագծի մասին</a>\n<a href=\"/hy/terms\">Օգտագործման կանոնները</a>\n<a href=\"/hy/advertisement\">Գովազդ կայքում</a>\n<a href=\"/hy/help\">Օգնություն</a>\n<a href=\"/hy/contacts\">Կապ</a>\n</div>\n</div>\n<div class=\"row footer-copy\">\n<div class=\"col s12 m8 l6\">\n<div class=\"footer-logo\">\n<a>Auto.am</a>\n</div>\n<div class=\"footer-text\">\n                    ©2003-2022 auto.am\n                </div>\n</div>\n<div class=\"col s12 m8 l3\">\n</div>\n<div class=\"col s12 m4 l3 footer-author\">\n<span>Մշակված է <a class=\"red-text\" href=\"//matemat.io\" target=\"_blank\">MATEMAT</a>-ում</span>\n</div>\n</div>\n</div>\n</footer>\n<!-- /footer -->\n<!-- <div class=\"rendertime\">\n        Render took <b>1.67</b> seconds\n    </div> -->\n<!-- scripts -->\n<script src=\"/assets/js/lib.js\"></script>\n<script src=\"/assets/js/modal.js\"></script>\n<script src=\"/assets/js/app.js\"></script>\n<script src=\"/assets/js/search.js\"></script>\n<script src=\"/assets/js/loan.js?v2\"></script>\n</body>\n</html>"
     },
     "execution_count": 104,
     "metadata": {},
     "output_type": "execute_result"
    }
   ],
   "source": [
    "soup"
   ],
   "metadata": {
    "collapsed": false,
    "pycharm": {
     "name": "#%%\n"
    }
   }
  },
  {
   "cell_type": "code",
   "execution_count": 69,
   "outputs": [
    {
     "name": "stdout",
     "output_type": "stream",
     "text": [
      "<!DOCTYPE html>\n",
      "<html lang=\"hy\">\n",
      " <head>\n",
      "  <meta charset=\"utf-8\"/>\n",
      "  <meta content=\"IE=edge,chrome=1\" http-equiv=\"X-UA-Compatible\"/>\n",
      "  <meta content=\"width=device-width, initial-scale=1.0, maximum-scale=1.0\" name=\"viewport\"/>\n",
      "  <title>\n",
      "   Որոնում - Auto.am\n",
      "  </title>\n",
      "  <meta content=\"Որոնում\" name=\"description\"/>\n",
      "  <meta content=\"tfc2ktUXYHsOqG2rKRsNskF9zAQN1wdI9YLsKHCd\" name=\"csrf-token\"/>\n",
      "  <meta content=\"538872319602365\" property=\"fb:app_id\"/>\n",
      "  <meta content=\"1020410409\" property=\"fb:admins\"/>\n",
      "  <meta content=\"https://auto.am/search/passenger-cars\" property=\"og:url\"/>\n",
      "  <meta content=\"Որոնում - Auto.am\" property=\"og:title\"/>\n",
      "  <meta content=\"Որոնում\" property=\"og:description\"/>\n",
      "  <meta content=\"https://auto.am/assets/ico/200x200.png\" property=\"og:image\"/>\n",
      "  <link href=\"/assets/ico/fi/apple-icon-57x57.png\" rel=\"apple-touch-icon\" sizes=\"57x57\"/>\n",
      "  <link href=\"/assets/ico/fi/apple-icon-60x60.png\" rel=\"apple-touch-icon\" sizes=\"60x60\"/>\n",
      "  <link href=\"/assets/ico/fi/apple-icon-72x72.png\" rel=\"apple-touch-icon\" sizes=\"72x72\"/>\n",
      "  <link href=\"/assets/ico/fi/apple-icon-76x76.png\" rel=\"apple-touch-icon\" sizes=\"76x76\"/>\n",
      "  <link href=\"/assets/ico/fi/apple-icon-114x114.png\" rel=\"apple-touch-icon\" sizes=\"114x114\"/>\n",
      "  <link href=\"/assets/ico/fi/apple-icon-120x120.png\" rel=\"apple-touch-icon\" sizes=\"120x120\"/>\n",
      "  <link href=\"/assets/ico/fi/apple-icon-144x144.png\" rel=\"apple-touch-icon\" sizes=\"144x144\"/>\n",
      "  <link href=\"/assets/ico/fi/apple-icon-152x152.png\" rel=\"apple-touch-icon\" sizes=\"152x152\"/>\n",
      "  <link href=\"/assets/ico/fi/apple-icon-180x180.png\" rel=\"apple-touch-icon\" sizes=\"180x180\"/>\n",
      "  <link href=\"/assets/ico/fi/android-icon-192x192.png\" rel=\"icon\" sizes=\"192x192\" taype=\"image/png\"/>\n",
      "  <link href=\"/assets/ico/fi/favicon-32x32.png\" rel=\"icon\" sizes=\"32x32\" type=\"image/png\"/>\n",
      "  <link href=\"/assets/ico/fi/favicon-96x96.png\" rel=\"icon\" sizes=\"96x96\" type=\"image/png\"/>\n",
      "  <link href=\"/assets/ico/fi/favicon-16x16.png\" rel=\"icon\" sizes=\"16x16\" type=\"image/png\"/>\n",
      "  <link href=\"/assets/ico/fi/manifest.json\" rel=\"manifest\"/>\n",
      "  <meta content=\"#ffffff\" name=\"msapplication-TileColor\"/>\n",
      "  <meta content=\"/assets/ico/fi/ms-icon-144x144.png\" name=\"msapplication-TileImage\"/>\n",
      "  <meta content=\"#ffffff\" name=\"theme-color\"/>\n",
      "  <link href=\"/assets/css/app.css\" rel=\"stylesheet\" type=\"text/css\">\n",
      "   <link href=\"/assets/css/notosansarmenian.css\" media=\"none\" onload=\"this.media='all'\" rel=\"stylesheet\"/>\n",
      "   <link href=\"https://fonts.googleapis.com/css2?family=Noto+Sans:wght@400;700&amp;display=swap\" media=\"none\" onload=\"this.media='all'\" rel=\"stylesheet\"/>\n",
      "   <noscript>\n",
      "    <link href=\"/assets/css/notosansarmenian.css\" rel=\"stylesheet\"/>\n",
      "    <link href=\"https://fonts.googleapis.com/css2?family=Noto+Sans:wght@400;700&amp;display=swap\" rel=\"stylesheet\"/>\n",
      "   </noscript>\n",
      "   <link href=\"https://fonts.googleapis.com/icon?family=Material+Icons\" rel=\"stylesheet\"/>\n",
      "   <script src=\"/assets/js/adriver.core.2.min.js\">\n",
      "   </script>\n",
      "   <script crossorigin=\"anonymous\" src=\"https://yastatic.net/pcode/adfox/loader.js\">\n",
      "   </script>\n",
      "   <!-- Global site tag (gtag.js) - Google Analytics -->\n",
      "   <script async=\"\" src=\"https://www.googletagmanager.com/gtag/js?id=UA-4971967-1\">\n",
      "   </script>\n",
      "   <script>\n",
      "    window.dataLayer = window.dataLayer || [];\n",
      "     function gtag(){dataLayer.push(arguments);}\n",
      "     gtag('js', new Date());\n",
      "     gtag('config', 'UA-4971967-1');\n",
      "   </script>\n",
      "   <script>\n",
      "    (adsbygoogle = window.adsbygoogle || []).push({\n",
      "        google_ad_client: \"ca-pub-6980531266556750\",\n",
      "        enable_page_level_ads: false\n",
      "      });\n",
      "   </script>\n",
      "   <!-- Facebook Pixel Code -->\n",
      "   <script>\n",
      "    !function(f,b,e,v,n,t,s)\n",
      "\t  {if(f.fbq)return;n=f.fbq=function(){n.callMethod?\n",
      "\t  n.callMethod.apply(n,arguments):n.queue.push(arguments)};\n",
      "\t  if(!f._fbq)f._fbq=n;n.push=n;n.loaded=!0;n.version='2.0';\n",
      "\t  n.queue=[];t=b.createElement(e);t.async=!0;\n",
      "\t  t.src=v;s=b.getElementsByTagName(e)[0];\n",
      "\t  s.parentNode.insertBefore(t,s)}(window, document,'script',\n",
      "\t  'https://connect.facebook.net/en_US/fbevents.js');\n",
      "\t  fbq('init', '747304815806629');\n",
      "\t  fbq('track', 'PageView');\n",
      "   </script>\n",
      "   <noscript>\n",
      "    <img height=\"1\" src=\"https://www.facebook.com/tr?id=747304815806629&amp;ev=PageView&amp;noscript=1\" style=\"display:none\" width=\"1\"/>\n",
      "   </noscript>\n",
      "   <!-- End Facebook Pixel Code -->\n",
      "   <script async=\"\" defer=\"\" id=\"f0d69a5f-52fd-43d6-82a9-b05dc72a2cce\" src=\"https://cdn-static3.com/cdn/push.min.js\" type=\"text/javascript\">\n",
      "   </script>\n",
      "   <script type=\"application/javascript\">\n",
      "    (function () {\n",
      "            WPush.registerServiceWorker(\"f0d69a5f-52fd-43d6-82a9-b05dc72a2cce\");\n",
      "        })();\n",
      "   </script>\n",
      "  </link>\n",
      " </head>\n",
      " <body class=\"account\">\n",
      "  <div id=\"fb-root\">\n",
      "  </div>\n",
      "  <script>\n",
      "   (function(d, s, id) {\n",
      "      var js, fjs = d.getElementsByTagName(s)[0];\n",
      "      if (d.getElementById(id)) return;\n",
      "      js = d.createElement(s); js.id = id;\n",
      "      js.src = \"//connect.facebook.net/en_US/sdk.js#xfbml=1&version=v2.8&appId=538872319602365\";\n",
      "      fjs.parentNode.insertBefore(js, fjs);\n",
      "    }(document, 'script', 'facebook-jssdk'));\n",
      "  </script>\n",
      "  <!-- header -->\n",
      "  <div class=\"side-nav\" id=\"slide-out\">\n",
      "   <ul>\n",
      "    <li>\n",
      "     <div class=\"userView\">\n",
      "      <div class=\"background\">\n",
      "      </div>\n",
      "      <a class=\"side-login bold\" href=\"/login\" onclick=\"return window.App.showLoginForm(event)\">\n",
      "       <i class=\"material-icons\">\n",
      "        \n",
      "       </i>\n",
      "       Մուտք\n",
      "      </a>\n",
      "     </div>\n",
      "    </li>\n",
      "    <li>\n",
      "    </li>\n",
      "    <li>\n",
      "     <a class=\"bold messenger-close-open relative\" href=\"javascript:\">\n",
      "      <i class=\"material-icons\">\n",
      "       chat\n",
      "      </i>\n",
      "      Հաղորդագրություններ\n",
      "     </a>\n",
      "    </li>\n",
      "    <li class=\"secondary marg-top-12\">\n",
      "     <a href=\"/hy/dealers\">\n",
      "      Դիլերներ\n",
      "     </a>\n",
      "    </li>\n",
      "    <li class=\"secondary\">\n",
      "     <a href=\"/hy/contacts?dealer\">\n",
      "      Դառնալ ավտոդիլեր\n",
      "     </a>\n",
      "    </li>\n",
      "    <li class=\"secondary\">\n",
      "     <a href=\"/hy/advertisement\" target=\"_blank\">\n",
      "      Գովազդ կայքում\n",
      "     </a>\n",
      "    </li>\n",
      "    <li class=\"secondary\">\n",
      "     <a href=\"/hy/terms\">\n",
      "      Օգտագործման կանոնները\n",
      "     </a>\n",
      "    </li>\n",
      "    <li class=\"secondary\">\n",
      "     <a href=\"/hy/help\">\n",
      "      Օգնություն\n",
      "     </a>\n",
      "    </li>\n",
      "    <li class=\"secondary\">\n",
      "     <a href=\"/hy/contacts\">\n",
      "      Կապ\n",
      "     </a>\n",
      "    </li>\n",
      "    <li class=\"marg-bot-9\">\n",
      "     <div class=\"divider\">\n",
      "     </div>\n",
      "    </li>\n",
      "    <li class=\"secondary pad-bot-12\">\n",
      "     <a class=\"selected red-text inline-block\" href=\"/lang/hy\">\n",
      "      Հայերեն\n",
      "     </a>\n",
      "     <a class=\"inline-block\" href=\"/lang/ru\">\n",
      "      Русский\n",
      "     </a>\n",
      "     <a class=\"inline-block\" href=\"/lang/en\">\n",
      "      English\n",
      "     </a>\n",
      "    </li>\n",
      "   </ul>\n",
      "   <div class=\"side-nav-soc pad-left-18 pad-top-24\">\n",
      "    <a href=\"https://www.facebook.com/auto.am/\" target=\"_blank\">\n",
      "     <img class=\"svgicon left\" src=\"/assets/svg/facebook-white.svg\"/>\n",
      "    </a>\n",
      "    <a href=\"https://www.instagram.com/auto.am/\" target=\"_blank\">\n",
      "     <img class=\"svgicon left\" src=\"/assets/svg/instagram-white.svg\"/>\n",
      "    </a>\n",
      "    <a href=\"https://twitter.com/autodotam\" target=\"_blank\">\n",
      "     <img class=\"svgicon left\" src=\"/assets/svg/twitter-white.svg\"/>\n",
      "    </a>\n",
      "    <a href=\"https://ok.ru/auto.am\" target=\"_blank\">\n",
      "     <img class=\"svgicon left\" src=\"/assets/svg/odnoklassniki-white.svg\"/>\n",
      "    </a>\n",
      "   </div>\n",
      "   <div class=\"side-nav-footer grey-text\">\n",
      "    ©2003-2022 Auto.am\n",
      "   </div>\n",
      "  </div>\n",
      "  <header class=\"shadow\" id=\"header\">\n",
      "   <div class=\"azd-top\">\n",
      "    <div class=\"wrapper\">\n",
      "     <div class=\"bncont\" data-id=\"3\">\n",
      "      <a class=\"links\" href=\"https://iaa.am/calculator\" target=\"_blank\">\n",
      "       <img alt=\"\" src=\"/static/azd/230/bdfbdb3e4273a1e08e3c5fb194f4eb43.gif\"/>\n",
      "      </a>\n",
      "     </div>\n",
      "    </div>\n",
      "   </div>\n",
      "   <div class=\"progress hiddendiv absolute\">\n",
      "    <div class=\"indeterminate\">\n",
      "    </div>\n",
      "   </div>\n",
      "   <div class=\"wrapper smooth row\">\n",
      "    <div class=\"col\">\n",
      "     <a class=\"side-menu-collapse left\" data-activates=\"slide-out\">\n",
      "     </a>\n",
      "     <a class=\"side-menu-collapse left smooth\" data-activates=\"slide-out\" id=\"menu-icon\">\n",
      "     </a>\n",
      "     <div class=\"z-depth-1\" id=\"menu-container\">\n",
      "      <div class=\"wrapper smooth row\">\n",
      "       <div class=\"col s12 m2 l2 top\">\n",
      "        <!-- <div class=\"menu-lang pad-top-18 pad-left-24\">\n",
      "                                                    <a href=\"/lang/hy\" class=\"btn  waves-effect waves-light grey langbtn  selected \" >\n",
      "                            hy\n",
      "                            </a>\n",
      "                                                    <a href=\"/lang/ru\" class=\"btn  waves-effect waves-light grey langbtn \" >\n",
      "                            ru\n",
      "                            </a>\n",
      "                                                    <a href=\"/lang/en\" class=\"btn  waves-effect waves-light grey langbtn \" >\n",
      "                            en\n",
      "                            </a>\n",
      "                                                </div> -->\n",
      "        <ul class=\"top-menu\">\n",
      "         <li>\n",
      "          <a href=\"/hy/dealers\">\n",
      "           Դիլերներ\n",
      "          </a>\n",
      "         </li>\n",
      "         <li>\n",
      "          <a href=\"/hy/contacts?dealer\">\n",
      "           Դառնալ ավտոդիլեր\n",
      "          </a>\n",
      "         </li>\n",
      "         <!-- <li><a href=\"//automarket.am\" target=\"_blank\">Պահեստամասեր</a></li> -->\n",
      "         <li>\n",
      "          <a href=\"/hy/contacts\" target=\"_blank\">\n",
      "           Կապ\n",
      "          </a>\n",
      "         </li>\n",
      "         <li>\n",
      "          <a href=\"http://eraz.auto.am\" target=\"_blank\">\n",
      "           eraz.auto.am\n",
      "          </a>\n",
      "         </li>\n",
      "         <div class=\"fb-like marg-left-24 marg-top-18\" data-action=\"like\" data-href=\"https://www.facebook.com/auto.am/\" data-layout=\"button_count\" data-share=\"false\" data-show-faces=\"false\" data-size=\"large\">\n",
      "         </div>\n",
      "        </ul>\n",
      "       </div>\n",
      "       <div class=\"col s12 m5 l5 menu-groups pad-left-30\">\n",
      "        <h3>\n",
      "         Փնտրել՝\n",
      "         <small class=\"\">\n",
      "          Ըստ թափքի\n",
      "         </small>\n",
      "        </h3>\n",
      "        <ul class=\"menu-groups-list\">\n",
      "         <li>\n",
      "          <a class=\"sedan\" href='/search/passenger-cars?q={\"category\":\"1\",\"page\":\"1\",\"attr\":{\"84\":[10]}}'>\n",
      "           Սեդան\n",
      "          </a>\n",
      "         </li>\n",
      "         <li>\n",
      "          <a class=\"hatchback\" href='/search/passenger-cars?q={\"category\":\"1\",\"page\":\"1\",\"attr\":{\"84\":[11]}}'>\n",
      "           Հետչբեք\n",
      "          </a>\n",
      "         </li>\n",
      "         <li>\n",
      "          <a class=\"wagon\" href='/search/passenger-cars?q={\"category\":\"1\",\"page\":\"1\",\"attr\":{\"84\":[12]}}'>\n",
      "           Ունիվերսալ\n",
      "          </a>\n",
      "         </li>\n",
      "         <li>\n",
      "          <a class=\"coupe\" href='/search/passenger-cars?q={\"category\":\"1\",\"page\":\"1\",\"attr\":{\"84\":[13]}}'>\n",
      "           Կուպե\n",
      "          </a>\n",
      "         </li>\n",
      "         <li>\n",
      "          <a class=\"convertible\" href='/search/passenger-cars?q={\"category\":\"1\",\"page\":\"1\",\"attr\":{\"84\":[14]}}'>\n",
      "           Կաբրիոլետ\n",
      "          </a>\n",
      "         </li>\n",
      "         <li>\n",
      "          <a class=\"suv-tuck\" href='/search/passenger-cars?q={\"category\":\"1\",\"page\":\"1\",\"attr\":{\"84\":[15]}}'>\n",
      "           Ամենագնաց\n",
      "          </a>\n",
      "         </li>\n",
      "         <li>\n",
      "          <a class=\"pickup\" href='/search/passenger-cars?q={\"category\":\"1\",\"page\":\"1\",\"attr\":{\"84\":[16]}}'>\n",
      "           Պիկապ\n",
      "          </a>\n",
      "         </li>\n",
      "         <li>\n",
      "          <a class=\"van\" href='/search/passenger-cars?q={\"category\":\"1\",\"page\":\"1\",\"attr\":{\"84\":[18]}}'>\n",
      "           Ֆուրգոն\n",
      "          </a>\n",
      "         </li>\n",
      "        </ul>\n",
      "       </div>\n",
      "       <div class=\"col s12 m5 l5 menu-groups pad-left-30\">\n",
      "        <h3>\n",
      "         Փնտրել՝\n",
      "         <small>\n",
      "          Ըստ արտադրողի\n",
      "         </small>\n",
      "        </h3>\n",
      "        <ul class=\"menu-groups-list\">\n",
      "         <li>\n",
      "          <a class=\"c21\" href='/search/passenger-cars?q={\"category\":\"1\",\"page\":\"1\",\"make\":[\"21\"]}'>\n",
      "          </a>\n",
      "         </li>\n",
      "         <li>\n",
      "          <a class=\"c246\" href='/search/passenger-cars?q={\"category\":\"1\",\"page\":\"1\",\"make\":[\"246\"]}'>\n",
      "          </a>\n",
      "         </li>\n",
      "         <li>\n",
      "          <a class=\"c31\" href='/search/passenger-cars?q={\"category\":\"1\",\"page\":\"1\",\"make\":[\"31\"]}'>\n",
      "          </a>\n",
      "         </li>\n",
      "         <li>\n",
      "          <a class=\"c211\" href='/search/passenger-cars?q={\"category\":\"1\",\"page\":\"1\",\"make\":[\"211\"]}'>\n",
      "          </a>\n",
      "         </li>\n",
      "         <li>\n",
      "          <a class=\"c386\" href='/search/passenger-cars?q={\"category\":\"1\",\"page\":\"1\",\"make\":[\"386\"]}'>\n",
      "          </a>\n",
      "         </li>\n",
      "         <li>\n",
      "          <a class=\"c296\" href='/search/passenger-cars?q={\"category\":\"1\",\"page\":\"1\",\"make\":[\"296\"]}'>\n",
      "          </a>\n",
      "         </li>\n",
      "         <li>\n",
      "          <a class=\"c276\" href='/search/passenger-cars?q={\"category\":\"1\",\"page\":\"1\",\"make\":[\"276\"]}'>\n",
      "          </a>\n",
      "         </li>\n",
      "         <li>\n",
      "          <a class=\"c116\" href='/search/passenger-cars?q={\"category\":\"1\",\"page\":\"1\",\"make\":[\"116\"]}'>\n",
      "          </a>\n",
      "         </li>\n",
      "        </ul>\n",
      "       </div>\n",
      "      </div>\n",
      "     </div>\n",
      "     <div id=\"header-logo\" itemprop=\"headline\">\n",
      "      <a href=\"/\">\n",
      "       auto.am\n",
      "      </a>\n",
      "     </div>\n",
      "    </div>\n",
      "    <div class=\"col s3 m3 l4 hide-1336\">\n",
      "     <div>\n",
      "      <div class=\"search-master\">\n",
      "       <input autocomplete=\"off\" class=\"search-input\" id=\"searchInp\" name=\"category\" oninput=\"onIn()\" placeholder=\"մակնիշ, մոդել, տարեթիվ\" type=\"text\"/>\n",
      "       <div id=\"searchDiv\">\n",
      "       </div>\n",
      "       <i class=\"material-icons\" id=\"submit_search\">\n",
      "        search\n",
      "       </i>\n",
      "      </div>\n",
      "     </div>\n",
      "    </div>\n",
      "    <div class=\"col s4 m4 l5 mobile-sell-btn right\">\n",
      "     <ul class=\"login-lang-help right\">\n",
      "      <li class=\"valign-wrapper\" style=\"padding-left: 1rem\">\n",
      "       <a class=\"waves-effect waves-light btn blue sellbtn\" onclick=\"return window.App.showLoginForm(event)\">\n",
      "        Վաճառել\n",
      "       </a>\n",
      "      </li>\n",
      "      <div class=\"profile-info dropdown valign-wrapper\">\n",
      "       <div class=\"name bold\">\n",
      "        <i class=\"material-icons left marg-left-12\" style=\"font-size: 38px; color: #1D232A; opacity: .8\">\n",
      "         \n",
      "        </i>\n",
      "        <span class=\"truncate\" style=\"line-height:36px; display: inline-block;\">\n",
      "         Իմ էջը\n",
      "        </span>\n",
      "       </div>\n",
      "       <div class=\"dropcontainer\">\n",
      "        <ul class=\"menu\">\n",
      "         <li>\n",
      "          <a class=\"bold\" href=\"/login\" onclick=\"return window.App.showLoginForm(event)\">\n",
      "           Մուտք\n",
      "          </a>\n",
      "         </li>\n",
      "         <li>\n",
      "          <a class=\"bold\" href=\"/register\" onclick=\"return window.App.showRegistrationForm(event)\">\n",
      "           Գրանցվել\n",
      "          </a>\n",
      "         </li>\n",
      "        </ul>\n",
      "       </div>\n",
      "      </div>\n",
      "      <!--                 <a onclick=\"return window.App.showLoginForm(event)\"\n",
      "                    href=\"/login\"\n",
      "                    class=\"side-login bold tooltip\"\n",
      "                    data-position=\"bottom\"\n",
      "                    data-delay=\"50\"\n",
      "                    data-tipso=\"Մուտք գործելով կայք դուք կստանաք հնարավորություն տեղադրել հայտարարություններ և հեշտությամբ վաճառել Ձեր մեքենան\"\n",
      "                    data-effect=\"mfp-move-from-top\"\n",
      "                >\n",
      "                    <i class=\"material-icons\">&#xE853;</i>Մուտք\n",
      "                </a>\n",
      "                <li>\n",
      "                <a href=\"/login\" onclick=\"return window.App.showLoginForm(event)\" class=\"tooltip bold\"\n",
      "                    data-position=\"bottom\"\n",
      "                    data-delay=\"50\"\n",
      "                    data-tipso=\"Մուտք գործելով կայք դուք կստանաք հնարավորություն տեղադրել հայտարարություններ և հեշտությամբ վաճառել Ձեր մեքենան\"\n",
      "                    data-effect=\"mfp-move-from-top\"\n",
      "                    ><i class=\"material-icons\">&#xE853;</i>\n",
      "                    </a>\n",
      "                </li> -->\n",
      "      <!--                 <li class=\"pad-all-12\"><a href=\"/register\" onclick=\"return window.App.showRegistrationForm(event)\" class=\"tooltip bold \" data-tipso=\"Գրանցվելով կայքում դուք կստանաք հնարավորություն տեղադրել հայտարարություններ և հեշտությամբ վաճառել Ձեր մեքենան\" data-effect=\"mfp-move-from-top\">Գրանցվել</a></li>\n",
      "                <li class=\"pad-all-12\"><a href=\"/login\" onclick=\"return window.App.showLoginForm(event)\" class=\"tooltip bold\"\n",
      "                    data-position=\"bottom\"\n",
      "                    data-delay=\"50\"\n",
      "                    data-tipso=\"Սեղմելով գրանցվել կոճակը՝ Դուք հաստատում եք, որ ընդունում եք AUTO.am-ի Օգտագործման Կանոնները\"\n",
      "                    data-effect=\"mfp-move-from-top\"\n",
      "                    >Մուտք</a>\n",
      "                </li> -->\n",
      "      <li class=\"dropdown valign-wrapper messenger-close-open\" id=\"notifcount-parent\">\n",
      "       <i class=\"material-icons\">\n",
      "        message\n",
      "       </i>\n",
      "      </li>\n",
      "      <li class=\"dropdown valign-wrapper dealers-parent\">\n",
      "       <a class=\"relative bold dealers-head\" href=\"/hy/dealers\">\n",
      "        <i class=\"material-icons\">\n",
      "         directions_car\n",
      "        </i>\n",
      "        <small>\n",
      "         Դիլերներ\n",
      "        </small>\n",
      "       </a>\n",
      "      </li>\n",
      "     </ul>\n",
      "    </div>\n",
      "   </div>\n",
      "  </header>\n",
      "  <!-- /header -->\n",
      "  <div class=\"wrapper rail-container\">\n",
      "   <div class=\"rail left\">\n",
      "    <div class=\"bncont\" data-id=\"723\">\n",
      "     <a class=\"links\" href=\"https://t.ly/kkkC\" target=\"_blank\">\n",
      "      <img alt=\"\" src=\"/static/azd/81/fe047c102ff2d05819e03fb968f7efd3.gif\"/>\n",
      "     </a>\n",
      "    </div>\n",
      "   </div>\n",
      "   <div class=\"rail right\">\n",
      "    <div class=\"bncont\" data-id=\"724\">\n",
      "     <a class=\"links\" href=\"https://www.rgs.am/hy/online-appa/stepone?utm_source=auto.am&amp;utm_medium=referral&amp;utm_campaign=banner&amp;sid=0bcf728b-21b4-4016-a57d-0c2500d48162\" target=\"_blank\">\n",
      "      <img alt=\"\" src=\"/static/azd/83/cff13e65a9f3eefff4e12a0250634899.gif\"/>\n",
      "     </a>\n",
      "    </div>\n",
      "   </div>\n",
      "  </div>\n",
      "  <section id=\"sec-blue\">\n",
      "   <div class=\"wrapper row\">\n",
      "    <div class=\"col s12 m8 l10\">\n",
      "     <h2 class=\"bltitle\">\n",
      "      Որոնման էջ - թոփ հայտարարություններ\n",
      "     </h2>\n",
      "     <!-- slider -->\n",
      "     <div class=\"responsive-slider\" id=\"top-slider\">\n",
      "      <div class=\"slide-item\">\n",
      "       <!-- car badge -->\n",
      "       <div class=\"card\">\n",
      "        <a href=\"/offer/2815970\">\n",
      "         <div class=\"card-image\">\n",
      "          <img class=\"flipimg\" data-hover-img=\"/static/offers/2815970/s-4d88ba02856715deb82de2f399a6db3a.jpg\" src=\"/static/offers/2815970/s-83397d61ebe2b3966efdb39ff4627565.jpg\"/>\n",
      "         </div>\n",
      "         <span class=\"card-title bold\">\n",
      "          BMW X5\n",
      "         </span>\n",
      "         <div class=\"card-content\">\n",
      "          <span class=\"bold\">\n",
      "           2022\n",
      "          </span>\n",
      "          <p class=\"price right\">\n",
      "           <span class=\"red-text\">\n",
      "            $ 105 000\n",
      "           </span>\n",
      "          </p>\n",
      "         </div>\n",
      "        </a>\n",
      "        <div class=\"card-action\">\n",
      "         <!-- data-position=\"bottom\" data-delay=\"50\" data-tooltip=\"Մեքենայի վազքը\" -->\n",
      "         <span class=\"left\">\n",
      "          1000 կմ\n",
      "         </span>\n",
      "        </div>\n",
      "       </div>\n",
      "       <!-- / car badge -->\n",
      "      </div>\n",
      "      <div class=\"slide-item\">\n",
      "       <!-- car badge -->\n",
      "       <div class=\"card\">\n",
      "        <a href=\"/offer/2793812\">\n",
      "         <div class=\"card-image\">\n",
      "          <img class=\"flipimg\" data-hover-img=\"/static/offers/2793812/s-c39e3ac34d1a2fa3dba739201a5a97e1.jpg\" src=\"/static/offers/2793812/s-b3e0f743650d2daaa3e142b24de396f7.jpg\"/>\n",
      "          <span>\n",
      "           Շտապ\n",
      "          </span>\n",
      "          <em>\n",
      "          </em>\n",
      "         </div>\n",
      "         <span class=\"card-title bold\">\n",
      "          Bentley Continental Flying Spur\n",
      "         </span>\n",
      "         <div class=\"card-content\">\n",
      "          <span class=\"bold\">\n",
      "           2006\n",
      "          </span>\n",
      "          <p class=\"price right\">\n",
      "           <span class=\"\">\n",
      "            $ 35 000\n",
      "           </span>\n",
      "          </p>\n",
      "         </div>\n",
      "        </a>\n",
      "        <div class=\"card-action\">\n",
      "         <!-- data-position=\"bottom\" data-delay=\"50\" data-tooltip=\"Մեքենայի վազքը\" -->\n",
      "         <span class=\"left\">\n",
      "          1000 կմ\n",
      "         </span>\n",
      "        </div>\n",
      "       </div>\n",
      "       <!-- / car badge -->\n",
      "      </div>\n",
      "      <div class=\"slide-item\">\n",
      "       <!-- car badge -->\n",
      "       <div class=\"card\">\n",
      "        <a href=\"/offer/2815837\">\n",
      "         <div class=\"card-image\">\n",
      "          <img class=\"flipimg\" data-hover-img=\"/static/offers/2815837/s-89a2dbbfb8f923f8b4d848f1376046ae.jpg\" src=\"/static/offers/2815837/s-33d54897ebf3d31fbcc148343b27835c.jpg\"/>\n",
      "          <span>\n",
      "           Շտապ\n",
      "          </span>\n",
      "         </div>\n",
      "         <span class=\"card-title bold\">\n",
      "          Ford Fusion\n",
      "         </span>\n",
      "         <div class=\"card-content\">\n",
      "          <span class=\"bold\">\n",
      "           2013\n",
      "          </span>\n",
      "          <p class=\"price right\">\n",
      "           <span class=\"\">\n",
      "            $ 13 000\n",
      "           </span>\n",
      "          </p>\n",
      "         </div>\n",
      "        </a>\n",
      "        <div class=\"card-action\">\n",
      "         <!-- data-position=\"bottom\" data-delay=\"50\" data-tooltip=\"Մեքենայի վազքը\" -->\n",
      "         <span class=\"left\">\n",
      "          1000 կմ\n",
      "         </span>\n",
      "        </div>\n",
      "       </div>\n",
      "       <!-- / car badge -->\n",
      "      </div>\n",
      "      <div class=\"slide-item\">\n",
      "       <!-- car badge -->\n",
      "       <div class=\"card\">\n",
      "        <a href=\"/offer/2593344\">\n",
      "         <div class=\"card-image\">\n",
      "          <img class=\"flipimg\" data-hover-img=\"/static/offers/2593344/s-b4f6765152df5f49386af0c56d587f41.jpg\" src=\"/static/offers/2593344/s-a8d93156b6d17ba3108b62977e693fe2.jpg\"/>\n",
      "          <span>\n",
      "           Շտապ\n",
      "          </span>\n",
      "         </div>\n",
      "         <span class=\"card-title bold\">\n",
      "          Lexus RX 350\n",
      "         </span>\n",
      "         <div class=\"card-content\">\n",
      "          <span class=\"bold\">\n",
      "           2006\n",
      "          </span>\n",
      "          <p class=\"price right\">\n",
      "           <span class=\"\">\n",
      "            $ 14 200\n",
      "           </span>\n",
      "          </p>\n",
      "         </div>\n",
      "        </a>\n",
      "        <div class=\"card-action\">\n",
      "         <!-- data-position=\"bottom\" data-delay=\"50\" data-tooltip=\"Մեքենայի վազքը\" -->\n",
      "         <span class=\"left\">\n",
      "          1000 կմ\n",
      "         </span>\n",
      "        </div>\n",
      "       </div>\n",
      "       <!-- / car badge -->\n",
      "      </div>\n",
      "      <div class=\"slide-item\">\n",
      "       <!-- car badge -->\n",
      "       <div class=\"card\">\n",
      "        <a href=\"/offer/2815703\">\n",
      "         <div class=\"card-image\">\n",
      "          <img class=\"flipimg\" data-hover-img=\"/static/offers/2815703/s-acf3970781eac40c87e2489149595a81.jpg\" src=\"/static/offers/2815703/s-f415de89ec463f31c5909dc7c242d412.jpg\"/>\n",
      "          <span>\n",
      "           Շտապ\n",
      "          </span>\n",
      "         </div>\n",
      "         <span class=\"card-title bold\">\n",
      "          Mercedes-Benz S 550\n",
      "         </span>\n",
      "         <div class=\"card-content\">\n",
      "          <span class=\"bold\">\n",
      "           2006\n",
      "          </span>\n",
      "          <p class=\"price right\">\n",
      "           <span class=\"\">\n",
      "            $ 14 000\n",
      "           </span>\n",
      "          </p>\n",
      "         </div>\n",
      "        </a>\n",
      "        <div class=\"card-action\">\n",
      "         <!-- data-position=\"bottom\" data-delay=\"50\" data-tooltip=\"Մեքենայի վազքը\" -->\n",
      "         <span class=\"left\">\n",
      "          1000 կմ\n",
      "         </span>\n",
      "        </div>\n",
      "       </div>\n",
      "       <!-- / car badge -->\n",
      "      </div>\n",
      "      <div class=\"slide-item\">\n",
      "       <!-- car badge -->\n",
      "       <div class=\"card\">\n",
      "        <a href=\"/offer/2815696\">\n",
      "         <div class=\"card-image\">\n",
      "          <img class=\"flipimg\" data-hover-img=\"/static/offers/2815696/s-01fa3c22c59a6c64fa8ab52bc3ed1fab.jpg\" src=\"/static/offers/2815696/s-5736918d462086c10b19688df27873e0.jpg\"/>\n",
      "          <span>\n",
      "           Շտապ\n",
      "          </span>\n",
      "         </div>\n",
      "         <span class=\"card-title bold\">\n",
      "          Mercedes-Benz G 500\n",
      "         </span>\n",
      "         <div class=\"card-content\">\n",
      "          <span class=\"bold\">\n",
      "           2005\n",
      "          </span>\n",
      "          <p class=\"price right\">\n",
      "           <span class=\"\">\n",
      "            $ 32 000\n",
      "           </span>\n",
      "          </p>\n",
      "         </div>\n",
      "        </a>\n",
      "        <div class=\"card-action\">\n",
      "         <!-- data-position=\"bottom\" data-delay=\"50\" data-tooltip=\"Մեքենայի վազքը\" -->\n",
      "         <span class=\"left\">\n",
      "          1000 կմ\n",
      "         </span>\n",
      "        </div>\n",
      "       </div>\n",
      "       <!-- / car badge -->\n",
      "      </div>\n",
      "      <div class=\"slide-item\">\n",
      "       <!-- car badge -->\n",
      "       <div class=\"card\">\n",
      "        <a href=\"/offer/2815682\">\n",
      "         <div class=\"card-image\">\n",
      "          <img class=\"flipimg\" data-hover-img=\"/static/offers/2815682/s-27ab76e443974dd6da7dbb3c958e40ce.jpg\" src=\"/static/offers/2815682/s-a841b415011efb44bd167a423e58c990.jpg\"/>\n",
      "         </div>\n",
      "         <span class=\"card-title bold\">\n",
      "          Mercedes-Benz E 350\n",
      "         </span>\n",
      "         <div class=\"card-content\">\n",
      "          <span class=\"bold\">\n",
      "           2008\n",
      "          </span>\n",
      "          <p class=\"price right\">\n",
      "           <span class=\"\">\n",
      "            $ 9 500\n",
      "           </span>\n",
      "          </p>\n",
      "         </div>\n",
      "        </a>\n",
      "        <div class=\"card-action\">\n",
      "         <!-- data-position=\"bottom\" data-delay=\"50\" data-tooltip=\"Մեքենայի վազքը\" -->\n",
      "         <span class=\"left\">\n",
      "          1000 կմ\n",
      "         </span>\n",
      "        </div>\n",
      "       </div>\n",
      "       <!-- / car badge -->\n",
      "      </div>\n",
      "      <div class=\"slide-item\">\n",
      "       <!-- car badge -->\n",
      "       <div class=\"card\">\n",
      "        <a href=\"/offer/2815640\">\n",
      "         <div class=\"card-image\">\n",
      "          <img class=\"flipimg\" data-hover-img=\"/static/offers/2815640/s-212b8f5e36e63d62a18583f0eeb03182.jpg\" src=\"/static/offers/2815640/s-0076a5befe6534154088239f4abbd2ff.jpg\"/>\n",
      "         </div>\n",
      "         <span class=\"card-title bold\">\n",
      "          Mercedes-Benz S 500\n",
      "         </span>\n",
      "         <div class=\"card-content\">\n",
      "          <span class=\"bold\">\n",
      "           2013\n",
      "          </span>\n",
      "          <p class=\"price right\">\n",
      "           <small class=\"\">\n",
      "            Պայմ.\n",
      "           </small>\n",
      "          </p>\n",
      "         </div>\n",
      "        </a>\n",
      "        <div class=\"card-action\">\n",
      "         <!-- data-position=\"bottom\" data-delay=\"50\" data-tooltip=\"Մեքենայի վազքը\" -->\n",
      "         <span class=\"left\">\n",
      "          1000 կմ\n",
      "         </span>\n",
      "        </div>\n",
      "       </div>\n",
      "       <!-- / car badge -->\n",
      "      </div>\n",
      "      <div class=\"slide-item\">\n",
      "       <!-- car badge -->\n",
      "       <div class=\"card\">\n",
      "        <a href=\"/offer/2815564\">\n",
      "         <div class=\"card-image\">\n",
      "          <img class=\"flipimg\" data-hover-img=\"/static/offers/2815564/s-32b53ee8cc23109d37cf186cc64ded6f.jpg\" src=\"/static/offers/2815564/s-f027d1d964f1fb276a17101f6645cca6.jpg\"/>\n",
      "         </div>\n",
      "         <span class=\"card-title bold\">\n",
      "          Volkswagen ID.4\n",
      "         </span>\n",
      "         <div class=\"card-content\">\n",
      "          <span class=\"bold\">\n",
      "           2021\n",
      "          </span>\n",
      "          <p class=\"price right\">\n",
      "           <span class=\"\">\n",
      "            $ 40 000\n",
      "           </span>\n",
      "          </p>\n",
      "         </div>\n",
      "        </a>\n",
      "        <div class=\"card-action\">\n",
      "         <!-- data-position=\"bottom\" data-delay=\"50\" data-tooltip=\"Մեքենայի վազքը\" -->\n",
      "         <span class=\"left\">\n",
      "          1000 կմ\n",
      "         </span>\n",
      "        </div>\n",
      "       </div>\n",
      "       <!-- / car badge -->\n",
      "      </div>\n",
      "      <div class=\"slide-item\">\n",
      "       <!-- car badge -->\n",
      "       <div class=\"card\">\n",
      "        <a href=\"/offer/2815556\">\n",
      "         <div class=\"card-image\">\n",
      "          <img class=\"flipimg\" data-hover-img=\"/static/offers/2815556/s-920915de5900725bfbac3a71c1697a59.jpg\" src=\"/static/offers/2815556/s-4a90f3ca46731aecbd3a0030cb15498b.jpg\"/>\n",
      "          <span>\n",
      "           Շտապ\n",
      "          </span>\n",
      "          <em>\n",
      "          </em>\n",
      "         </div>\n",
      "         <span class=\"card-title bold\">\n",
      "          BMW 520\n",
      "         </span>\n",
      "         <div class=\"card-content\">\n",
      "          <span class=\"bold\">\n",
      "           2016\n",
      "          </span>\n",
      "          <p class=\"price right\">\n",
      "           <span class=\"\">\n",
      "            $ 18 500\n",
      "           </span>\n",
      "          </p>\n",
      "         </div>\n",
      "        </a>\n",
      "        <div class=\"card-action\">\n",
      "         <!-- data-position=\"bottom\" data-delay=\"50\" data-tooltip=\"Մեքենայի վազքը\" -->\n",
      "         <span class=\"left\">\n",
      "          1000 կմ\n",
      "         </span>\n",
      "        </div>\n",
      "       </div>\n",
      "       <!-- / car badge -->\n",
      "      </div>\n",
      "      <div class=\"slide-item\">\n",
      "       <!-- car badge -->\n",
      "       <div class=\"card\">\n",
      "        <a href=\"/offer/2815003\">\n",
      "         <div class=\"card-image\">\n",
      "          <img class=\"flipimg\" data-hover-img=\"/static/offers/2815003/s-b0e760fab4c15104370ca289c2ba9fb5.jpg\" src=\"/static/offers/2815003/s-34e94bc069fad10080e0219a61de8633.jpg\"/>\n",
      "          <span>\n",
      "           Շտապ\n",
      "          </span>\n",
      "          <em>\n",
      "          </em>\n",
      "         </div>\n",
      "         <span class=\"card-title bold\">\n",
      "          BMW X5\n",
      "         </span>\n",
      "         <div class=\"card-content\">\n",
      "          <span class=\"bold\">\n",
      "           2007\n",
      "          </span>\n",
      "          <p class=\"price right\">\n",
      "           <span class=\"\">\n",
      "            $ 15 200\n",
      "           </span>\n",
      "          </p>\n",
      "         </div>\n",
      "        </a>\n",
      "        <div class=\"card-action\">\n",
      "         <!-- data-position=\"bottom\" data-delay=\"50\" data-tooltip=\"Մեքենայի վազքը\" -->\n",
      "         <span class=\"left\">\n",
      "          1000 կմ\n",
      "         </span>\n",
      "        </div>\n",
      "       </div>\n",
      "       <!-- / car badge -->\n",
      "      </div>\n",
      "      <div class=\"slide-item\">\n",
      "       <!-- car badge -->\n",
      "       <div class=\"card\">\n",
      "        <a href=\"/offer/2815392\">\n",
      "         <div class=\"card-image\">\n",
      "          <img class=\"flipimg\" data-hover-img=\"/static/offers/2815392/s-9fcbc968d511433769c7be11c480ef05.jpg\" src=\"/static/offers/2815392/s-3b224b348db20e49f718f0666fe48df3.jpg\"/>\n",
      "          <span>\n",
      "           Շտապ\n",
      "          </span>\n",
      "         </div>\n",
      "         <span class=\"card-title bold\">\n",
      "          Chevrolet Trax\n",
      "         </span>\n",
      "         <div class=\"card-content\">\n",
      "          <span class=\"bold\">\n",
      "           2016\n",
      "          </span>\n",
      "          <p class=\"price right\">\n",
      "           <span class=\"\">\n",
      "            $ 12 900\n",
      "           </span>\n",
      "          </p>\n",
      "         </div>\n",
      "        </a>\n",
      "        <div class=\"card-action\">\n",
      "         <!-- data-position=\"bottom\" data-delay=\"50\" data-tooltip=\"Մեքենայի վազքը\" -->\n",
      "         <span class=\"left\">\n",
      "          1000 կմ\n",
      "         </span>\n",
      "        </div>\n",
      "       </div>\n",
      "       <!-- / car badge -->\n",
      "      </div>\n",
      "      <div class=\"slide-item\">\n",
      "       <!-- car badge -->\n",
      "       <div class=\"card\">\n",
      "        <a href=\"/offer/2814204\">\n",
      "         <div class=\"card-image\">\n",
      "          <img class=\"flipimg\" data-hover-img=\"/static/offers/2814204/s-86cd305b900a6d3a809f4a787cb0c011.jpg\" src=\"/static/offers/2814204/s-b2ab3e54bca574979e74aab5df9eaf6d.jpg\"/>\n",
      "          <span>\n",
      "           Շտապ\n",
      "          </span>\n",
      "         </div>\n",
      "         <span class=\"card-title bold\">\n",
      "          Jeep Compass\n",
      "         </span>\n",
      "         <div class=\"card-content\">\n",
      "          <span class=\"bold\">\n",
      "           2017\n",
      "          </span>\n",
      "          <p class=\"price right\">\n",
      "           <span class=\"\">\n",
      "            $ 16 200\n",
      "           </span>\n",
      "          </p>\n",
      "         </div>\n",
      "        </a>\n",
      "        <div class=\"card-action\">\n",
      "         <!-- data-position=\"bottom\" data-delay=\"50\" data-tooltip=\"Մեքենայի վազքը\" -->\n",
      "         <span class=\"left\">\n",
      "          1000 կմ\n",
      "         </span>\n",
      "        </div>\n",
      "       </div>\n",
      "       <!-- / car badge -->\n",
      "      </div>\n",
      "      <div class=\"slide-item\">\n",
      "       <!-- car badge -->\n",
      "       <div class=\"card\">\n",
      "        <a href=\"/offer/2815008\">\n",
      "         <div class=\"card-image\">\n",
      "          <img class=\"flipimg\" data-hover-img=\"/static/offers/2815008/s-f0d3c98e49a04eedf836f32f44131038.jpg\" src=\"/static/offers/2815008/s-02c947b2c191de53344432d43d77d533.jpg\"/>\n",
      "         </div>\n",
      "         <span class=\"card-title bold\">\n",
      "          Mercedes-Benz E 320\n",
      "         </span>\n",
      "         <div class=\"card-content\">\n",
      "          <span class=\"bold\">\n",
      "           2004\n",
      "          </span>\n",
      "          <p class=\"price right\">\n",
      "           <span class=\"\">\n",
      "            $ 10 500\n",
      "           </span>\n",
      "          </p>\n",
      "         </div>\n",
      "        </a>\n",
      "        <div class=\"card-action\">\n",
      "         <!-- data-position=\"bottom\" data-delay=\"50\" data-tooltip=\"Մեքենայի վազքը\" -->\n",
      "         <span class=\"left\">\n",
      "          1000 կմ\n",
      "         </span>\n",
      "        </div>\n",
      "       </div>\n",
      "       <!-- / car badge -->\n",
      "      </div>\n",
      "      <div class=\"slide-item\">\n",
      "       <!-- car badge -->\n",
      "       <div class=\"card\">\n",
      "        <a href=\"/offer/2815424\">\n",
      "         <div class=\"card-image\">\n",
      "          <img class=\"flipimg\" data-hover-img=\"/static/offers/2815424/s-de450a14031b22971e25767558076ed2.jpg\" src=\"/static/offers/2815424/s-3bd9a696da4fe783134d828635329251.jpg\"/>\n",
      "          <span>\n",
      "           Շտապ\n",
      "          </span>\n",
      "          <em>\n",
      "          </em>\n",
      "         </div>\n",
      "         <span class=\"card-title bold\">\n",
      "          Infiniti G37\n",
      "         </span>\n",
      "         <div class=\"card-content\">\n",
      "          <span class=\"bold\">\n",
      "           2013\n",
      "          </span>\n",
      "          <p class=\"price right\">\n",
      "           <span class=\"\">\n",
      "            $ 11 500\n",
      "           </span>\n",
      "          </p>\n",
      "         </div>\n",
      "        </a>\n",
      "        <div class=\"card-action\">\n",
      "         <!-- data-position=\"bottom\" data-delay=\"50\" data-tooltip=\"Մեքենայի վազքը\" -->\n",
      "         <span class=\"left\">\n",
      "          1000 կմ\n",
      "         </span>\n",
      "        </div>\n",
      "       </div>\n",
      "       <!-- / car badge -->\n",
      "      </div>\n",
      "     </div>\n",
      "     <!-- /slider -->\n",
      "    </div>\n",
      "    <div class=\"col s12 m4 l2\">\n",
      "     <div class=\"ad marg-left-12 marg-top-24\">\n",
      "      <div class=\"bncont\" data-id=\"2\">\n",
      "       <a class=\"links\" href=\"http://www.vincheck.am/\" target=\"_blank\">\n",
      "        <img alt=\"\" src=\"/static/azd/235/af1e2dd56176e431896f907e55f51f17.gif\"/>\n",
      "       </a>\n",
      "      </div>\n",
      "     </div>\n",
      "    </div>\n",
      "   </div>\n",
      "  </section>\n",
      "  <section id=\"sec-search\">\n",
      "   <div class=\"wrapper row\">\n",
      "    <div class=\"wrapper row col s12 m8 l10\">\n",
      "     <div class=\"col s12 m12 l12 azd marg-all-12\">\n",
      "      <div class=\"bncont\" data-id=\"10\">\n",
      "       <a class=\"links\" href=\"https://www.idram.am/cashlesspayments?Search=&amp;ThematicId=156&amp;filterBy=3&amp;utm_source=auto_am&amp;utm_medium=banner&amp;utm_campaign=Rocket_line&amp;utm_term=Supermarket\" target=\"_blank\">\n",
      "        <img alt=\"\" src=\"/static/azd/258/32237bb77a688fd37ae973b4bb7f53c3.png\"/>\n",
      "       </a>\n",
      "      </div>\n",
      "     </div>\n",
      "     <div class=\"refine-search center-align\">\n",
      "      <a class=\"btn waves-effect waves-light blue-grey darken-2 refine-search-btn\">\n",
      "       <i class=\"material-icons\">\n",
      "        \n",
      "       </i>\n",
      "      </a>\n",
      "     </div>\n",
      "     <div class=\"col s12 m3 l3 relative pad-right-12 noselect\" id=\"filters-cont\">\n",
      "      <form id=\"filter-form\" method=\"post\">\n",
      "       <div class=\"bold pad-top-12 cat\">\n",
      "        Կատեգորիա\n",
      "       </div>\n",
      "       <div class=\"relative marg-top-12\">\n",
      "        <select class=\"\" id=\"filter-category\" name=\"category\" style=\"width:100%\">\n",
      "         <option data-url=\"all?q=%7B%22category%22%3A%221%22%2C%22page%22%3A%221%22%2C%22sort%22%3A%22latest%22%2C%22layout%22%3A%22list%22%2C%22user%22%3A%7B%22dealer%22%3A%220%22%2C%22id%22%3A%22%22%7D%2C%22make%22%3A%5B%22246%22%5D%2C%22year%22%3A%7B%22gt%22%3A%221911%22%2C%22lt%22%3A%222023%22%7D%2C%22usdprice%22%3A%7B%22gt%22%3A%220%22%2C%22lt%22%3A%22100000000%22%7D%2C%22mileage%22%3A%7B%22gt%22%3A%2210%22%2C%22lt%22%3A%221000000%22%7D%7D\" value=\"51\">\n",
      "          Բոլորը\n",
      "         </option>\n",
      "         <option data-url=\"passenger-cars?q=%7B%22category%22%3A%221%22%2C%22page%22%3A%221%22%2C%22sort%22%3A%22latest%22%2C%22layout%22%3A%22list%22%2C%22user%22%3A%7B%22dealer%22%3A%220%22%2C%22id%22%3A%22%22%7D%2C%22make%22%3A%5B%22246%22%5D%2C%22year%22%3A%7B%22gt%22%3A%221911%22%2C%22lt%22%3A%222023%22%7D%2C%22usdprice%22%3A%7B%22gt%22%3A%220%22%2C%22lt%22%3A%22100000000%22%7D%2C%22mileage%22%3A%7B%22gt%22%3A%2210%22%2C%22lt%22%3A%221000000%22%7D%7D\" selected=\"\" value=\"1\">\n",
      "          Մարդատար\n",
      "         </option>\n",
      "         <option data-url=\"trucks?q=%7B%22category%22%3A%221%22%2C%22page%22%3A%221%22%2C%22sort%22%3A%22latest%22%2C%22layout%22%3A%22list%22%2C%22user%22%3A%7B%22dealer%22%3A%220%22%2C%22id%22%3A%22%22%7D%2C%22make%22%3A%5B%22246%22%5D%2C%22year%22%3A%7B%22gt%22%3A%221911%22%2C%22lt%22%3A%222023%22%7D%2C%22usdprice%22%3A%7B%22gt%22%3A%220%22%2C%22lt%22%3A%22100000000%22%7D%2C%22mileage%22%3A%7B%22gt%22%3A%2210%22%2C%22lt%22%3A%221000000%22%7D%7D\" value=\"5\">\n",
      "          Բեռնատար\n",
      "         </option>\n",
      "         <option data-url=\"motorcycles?q=%7B%22category%22%3A%221%22%2C%22page%22%3A%221%22%2C%22sort%22%3A%22latest%22%2C%22layout%22%3A%22list%22%2C%22user%22%3A%7B%22dealer%22%3A%220%22%2C%22id%22%3A%22%22%7D%2C%22make%22%3A%5B%22246%22%5D%2C%22year%22%3A%7B%22gt%22%3A%221911%22%2C%22lt%22%3A%222023%22%7D%2C%22usdprice%22%3A%7B%22gt%22%3A%220%22%2C%22lt%22%3A%22100000000%22%7D%2C%22mileage%22%3A%7B%22gt%22%3A%2210%22%2C%22lt%22%3A%221000000%22%7D%7D\" value=\"2\">\n",
      "          Մոտոտեխնիկա\n",
      "         </option>\n",
      "         <option data-url=\"special-motor-vehicle?q=%7B%22category%22%3A%221%22%2C%22page%22%3A%221%22%2C%22sort%22%3A%22latest%22%2C%22layout%22%3A%22list%22%2C%22user%22%3A%7B%22dealer%22%3A%220%22%2C%22id%22%3A%22%22%7D%2C%22make%22%3A%5B%22246%22%5D%2C%22year%22%3A%7B%22gt%22%3A%221911%22%2C%22lt%22%3A%222023%22%7D%2C%22usdprice%22%3A%7B%22gt%22%3A%220%22%2C%22lt%22%3A%22100000000%22%7D%2C%22mileage%22%3A%7B%22gt%22%3A%2210%22%2C%22lt%22%3A%221000000%22%7D%7D\" value=\"6\">\n",
      "          Հատուկ տեխնիկա\n",
      "         </option>\n",
      "         <option data-url=\"buses?q=%7B%22category%22%3A%221%22%2C%22page%22%3A%221%22%2C%22sort%22%3A%22latest%22%2C%22layout%22%3A%22list%22%2C%22user%22%3A%7B%22dealer%22%3A%220%22%2C%22id%22%3A%22%22%7D%2C%22make%22%3A%5B%22246%22%5D%2C%22year%22%3A%7B%22gt%22%3A%221911%22%2C%22lt%22%3A%222023%22%7D%2C%22usdprice%22%3A%7B%22gt%22%3A%220%22%2C%22lt%22%3A%22100000000%22%7D%2C%22mileage%22%3A%7B%22gt%22%3A%2210%22%2C%22lt%22%3A%221000000%22%7D%7D\" value=\"4\">\n",
      "          Ավտոբուս\n",
      "         </option>\n",
      "         <option data-url=\"trailers?q=%7B%22category%22%3A%221%22%2C%22page%22%3A%221%22%2C%22sort%22%3A%22latest%22%2C%22layout%22%3A%22list%22%2C%22user%22%3A%7B%22dealer%22%3A%220%22%2C%22id%22%3A%22%22%7D%2C%22make%22%3A%5B%22246%22%5D%2C%22year%22%3A%7B%22gt%22%3A%221911%22%2C%22lt%22%3A%222023%22%7D%2C%22usdprice%22%3A%7B%22gt%22%3A%220%22%2C%22lt%22%3A%22100000000%22%7D%2C%22mileage%22%3A%7B%22gt%22%3A%2210%22%2C%22lt%22%3A%221000000%22%7D%7D\" value=\"30\">\n",
      "          Կցասայլ\n",
      "         </option>\n",
      "         <option data-url=\"water-vehicles?q=%7B%22category%22%3A%221%22%2C%22page%22%3A%221%22%2C%22sort%22%3A%22latest%22%2C%22layout%22%3A%22list%22%2C%22user%22%3A%7B%22dealer%22%3A%220%22%2C%22id%22%3A%22%22%7D%2C%22make%22%3A%5B%22246%22%5D%2C%22year%22%3A%7B%22gt%22%3A%221911%22%2C%22lt%22%3A%222023%22%7D%2C%22usdprice%22%3A%7B%22gt%22%3A%220%22%2C%22lt%22%3A%22100000000%22%7D%2C%22mileage%22%3A%7B%22gt%22%3A%2210%22%2C%22lt%22%3A%221000000%22%7D%7D\" value=\"25\">\n",
      "          Ջրային տեխնիկա\n",
      "         </option>\n",
      "        </select>\n",
      "       </div>\n",
      "       <input class=\"f-page\" name=\"page\" type=\"hidden\" value=\"1\"/>\n",
      "       <input class=\"f-sort\" name=\"sort\" type=\"hidden\" value=\"latest\"/>\n",
      "       <input class=\"f-layout\" name=\"layout\" type=\"hidden\" value=\"list\"/>\n",
      "       <input class=\"f-usertype\" name=\"user[dealer]\" type=\"hidden\" value=\"0\"/>\n",
      "       <input class=\"f-user\" name=\"user[id]\" type=\"hidden\" value=\"\"/>\n",
      "       <ul class=\"collapsible\" data-collapsible=\"expandable\">\n",
      "        <!-- makes -->\n",
      "        <li class=\"filter-makes\">\n",
      "         <div class=\"collapsible-header active\">\n",
      "          Մակնիշը\n",
      "         </div>\n",
      "         <div class=\"collapsible-body\">\n",
      "          <p>\n",
      "           <input checked=\"\" class=\"filled-in\" id=\"ch-make-246\" name=\"make[]\" type=\"checkbox\" value=\"246\">\n",
      "            <label for=\"ch-make-246\">\n",
      "             Mercedes-Benz\n",
      "            </label>\n",
      "           </input>\n",
      "          </p>\n",
      "          <!--                         <span style=\"display: block; border-bottom: 1px dotted #DDD; margin:12px 3px;\"></span>\n",
      " -->\n",
      "          <p>\n",
      "           <input class=\"filled-in\" id=\"ch-make-386\" name=\"make[]\" type=\"checkbox\" value=\"386\">\n",
      "            <label for=\"ch-make-386\">\n",
      "             Toyota\n",
      "            </label>\n",
      "           </input>\n",
      "          </p>\n",
      "          <p>\n",
      "           <input class=\"filled-in\" id=\"ch-make-276\" name=\"make[]\" type=\"checkbox\" value=\"276\">\n",
      "            <label for=\"ch-make-276\">\n",
      "             Nissan\n",
      "            </label>\n",
      "           </input>\n",
      "          </p>\n",
      "          <p>\n",
      "           <input class=\"filled-in\" id=\"ch-make-31\" name=\"make[]\" type=\"checkbox\" value=\"31\">\n",
      "            <label for=\"ch-make-31\">\n",
      "             BMW\n",
      "            </label>\n",
      "           </input>\n",
      "          </p>\n",
      "          <p>\n",
      "           <input class=\"filled-in\" id=\"ch-make-156\" name=\"make[]\" type=\"checkbox\" value=\"156\">\n",
      "            <label for=\"ch-make-156\">\n",
      "             Hyundai\n",
      "            </label>\n",
      "           </input>\n",
      "          </p>\n",
      "          <span style=\"display: block; border-bottom: 1px  #DDD; margin:10px 3px;\">\n",
      "          </span>\n",
      "          <p>\n",
      "           <input class=\"filled-in\" id=\"ch-make-1\" name=\"make[]\" type=\"checkbox\" value=\"1\">\n",
      "            <label for=\"ch-make-1\">\n",
      "             Acura\n",
      "            </label>\n",
      "           </input>\n",
      "          </p>\n",
      "          <p>\n",
      "           <input class=\"filled-in\" id=\"ch-make-6\" name=\"make[]\" type=\"checkbox\" value=\"6\"/>\n",
      "           <label for=\"ch-make-6\">\n",
      "            Alfa Romeo\n",
      "           </label>\n",
      "          </p>\n",
      "          <p>\n",
      "           <input class=\"filled-in\" id=\"ch-make-3691\" name=\"make[]\" type=\"checkbox\" value=\"3691\"/>\n",
      "           <label for=\"ch-make-3691\">\n",
      "            Alpina\n",
      "           </label>\n",
      "          </p>\n",
      "          <p>\n",
      "           <input class=\"filled-in\" id=\"ch-make-16\" name=\"make[]\" type=\"checkbox\" value=\"16\"/>\n",
      "           <label for=\"ch-make-16\">\n",
      "            Aston Martin\n",
      "           </label>\n",
      "          </p>\n",
      "          <p>\n",
      "           <input class=\"filled-in\" id=\"ch-make-21\" name=\"make[]\" type=\"checkbox\" value=\"21\"/>\n",
      "           <label for=\"ch-make-21\">\n",
      "            Audi\n",
      "           </label>\n",
      "          </p>\n",
      "          <p>\n",
      "           <input class=\"filled-in\" id=\"ch-make-26\" name=\"make[]\" type=\"checkbox\" value=\"26\"/>\n",
      "           <label for=\"ch-make-26\">\n",
      "            Bentley\n",
      "           </label>\n",
      "          </p>\n",
      "          <p>\n",
      "           <input class=\"filled-in\" id=\"ch-make-36\" name=\"make[]\" type=\"checkbox\" value=\"36\"/>\n",
      "           <label for=\"ch-make-36\">\n",
      "            Bugatti\n",
      "           </label>\n",
      "          </p>\n",
      "          <p>\n",
      "           <input class=\"filled-in\" id=\"ch-make-41\" name=\"make[]\" type=\"checkbox\" value=\"41\"/>\n",
      "           <label for=\"ch-make-41\">\n",
      "            Buick\n",
      "           </label>\n",
      "          </p>\n",
      "          <p>\n",
      "           <input class=\"filled-in\" id=\"ch-make-74\" name=\"make[]\" type=\"checkbox\" value=\"74\"/>\n",
      "           <label for=\"ch-make-74\">\n",
      "            BYD\n",
      "           </label>\n",
      "          </p>\n",
      "          <p>\n",
      "           <input class=\"filled-in\" id=\"ch-make-46\" name=\"make[]\" type=\"checkbox\" value=\"46\"/>\n",
      "           <label for=\"ch-make-46\">\n",
      "            Cadillac\n",
      "           </label>\n",
      "          </p>\n",
      "          <p>\n",
      "           <input class=\"filled-in\" id=\"ch-make-51\" name=\"make[]\" type=\"checkbox\" value=\"51\"/>\n",
      "           <label for=\"ch-make-51\">\n",
      "            Chery\n",
      "           </label>\n",
      "          </p>\n",
      "          <p>\n",
      "           <input class=\"filled-in\" id=\"ch-make-56\" name=\"make[]\" type=\"checkbox\" value=\"56\"/>\n",
      "           <label for=\"ch-make-56\">\n",
      "            Chevrolet\n",
      "           </label>\n",
      "          </p>\n",
      "          <p>\n",
      "           <input class=\"filled-in\" id=\"ch-make-61\" name=\"make[]\" type=\"checkbox\" value=\"61\"/>\n",
      "           <label for=\"ch-make-61\">\n",
      "            Chrysler\n",
      "           </label>\n",
      "          </p>\n",
      "          <p>\n",
      "           <input class=\"filled-in\" id=\"ch-make-66\" name=\"make[]\" type=\"checkbox\" value=\"66\"/>\n",
      "           <label for=\"ch-make-66\">\n",
      "            Citroen\n",
      "           </label>\n",
      "          </p>\n",
      "          <p>\n",
      "           <input class=\"filled-in\" id=\"ch-make-81\" name=\"make[]\" type=\"checkbox\" value=\"81\"/>\n",
      "           <label for=\"ch-make-81\">\n",
      "            Daewoo\n",
      "           </label>\n",
      "          </p>\n",
      "          <p>\n",
      "           <input class=\"filled-in\" id=\"ch-make-86\" name=\"make[]\" type=\"checkbox\" value=\"86\"/>\n",
      "           <label for=\"ch-make-86\">\n",
      "            Daihatsu\n",
      "           </label>\n",
      "          </p>\n",
      "          <p>\n",
      "           <input class=\"filled-in\" id=\"ch-make-91\" name=\"make[]\" type=\"checkbox\" value=\"91\"/>\n",
      "           <label for=\"ch-make-91\">\n",
      "            Dodge\n",
      "           </label>\n",
      "          </p>\n",
      "          <p>\n",
      "           <input class=\"filled-in\" id=\"ch-make-3515\" name=\"make[]\" type=\"checkbox\" value=\"3515\"/>\n",
      "           <label for=\"ch-make-3515\">\n",
      "            Dongfeng\n",
      "           </label>\n",
      "          </p>\n",
      "          <p>\n",
      "           <input class=\"filled-in\" id=\"ch-make-96\" name=\"make[]\" type=\"checkbox\" value=\"96\"/>\n",
      "           <label for=\"ch-make-96\">\n",
      "            Eagle\n",
      "           </label>\n",
      "          </p>\n",
      "          <p>\n",
      "           <input class=\"filled-in\" id=\"ch-make-101\" name=\"make[]\" type=\"checkbox\" value=\"101\"/>\n",
      "           <label for=\"ch-make-101\">\n",
      "            ErAZ\n",
      "           </label>\n",
      "          </p>\n",
      "          <p>\n",
      "           <input class=\"filled-in\" id=\"ch-make-4670\" name=\"make[]\" type=\"checkbox\" value=\"4670\"/>\n",
      "           <label for=\"ch-make-4670\">\n",
      "            FAW\n",
      "           </label>\n",
      "          </p>\n",
      "          <p>\n",
      "           <input class=\"filled-in\" id=\"ch-make-106\" name=\"make[]\" type=\"checkbox\" value=\"106\"/>\n",
      "           <label for=\"ch-make-106\">\n",
      "            Ferrari\n",
      "           </label>\n",
      "          </p>\n",
      "          <p>\n",
      "           <input class=\"filled-in\" id=\"ch-make-111\" name=\"make[]\" type=\"checkbox\" value=\"111\"/>\n",
      "           <label for=\"ch-make-111\">\n",
      "            Fiat\n",
      "           </label>\n",
      "          </p>\n",
      "          <p>\n",
      "           <input class=\"filled-in\" id=\"ch-make-116\" name=\"make[]\" type=\"checkbox\" value=\"116\"/>\n",
      "           <label for=\"ch-make-116\">\n",
      "            Ford\n",
      "           </label>\n",
      "          </p>\n",
      "          <p>\n",
      "           <input class=\"filled-in\" id=\"ch-make-3505\" name=\"make[]\" type=\"checkbox\" value=\"3505\"/>\n",
      "           <label for=\"ch-make-3505\">\n",
      "            Foton\n",
      "           </label>\n",
      "          </p>\n",
      "          <p>\n",
      "           <input class=\"filled-in\" id=\"ch-make-121\" name=\"make[]\" type=\"checkbox\" value=\"121\"/>\n",
      "           <label for=\"ch-make-121\">\n",
      "            GAZ\n",
      "           </label>\n",
      "          </p>\n",
      "          <p>\n",
      "           <input class=\"filled-in\" id=\"ch-make-126\" name=\"make[]\" type=\"checkbox\" value=\"126\"/>\n",
      "           <label for=\"ch-make-126\">\n",
      "            Geely\n",
      "           </label>\n",
      "          </p>\n",
      "          <p>\n",
      "           <input class=\"filled-in\" id=\"ch-make-131\" name=\"make[]\" type=\"checkbox\" value=\"131\"/>\n",
      "           <label for=\"ch-make-131\">\n",
      "            GMC\n",
      "           </label>\n",
      "          </p>\n",
      "          <p>\n",
      "           <input class=\"filled-in\" id=\"ch-make-136\" name=\"make[]\" type=\"checkbox\" value=\"136\"/>\n",
      "           <label for=\"ch-make-136\">\n",
      "            Great Wall(hover)\n",
      "           </label>\n",
      "          </p>\n",
      "          <p>\n",
      "           <input class=\"filled-in\" id=\"ch-make-146\" name=\"make[]\" type=\"checkbox\" value=\"146\"/>\n",
      "           <label for=\"ch-make-146\">\n",
      "            Honda\n",
      "           </label>\n",
      "          </p>\n",
      "          <p>\n",
      "           <input class=\"filled-in\" id=\"ch-make-4765\" name=\"make[]\" type=\"checkbox\" value=\"4765\"/>\n",
      "           <label for=\"ch-make-4765\">\n",
      "            Hozon\n",
      "           </label>\n",
      "          </p>\n",
      "          <p>\n",
      "           <input class=\"filled-in\" id=\"ch-make-422\" name=\"make[]\" type=\"checkbox\" value=\"422\"/>\n",
      "           <label for=\"ch-make-422\">\n",
      "            Huanghai Auto\n",
      "           </label>\n",
      "          </p>\n",
      "          <p>\n",
      "           <input class=\"filled-in\" id=\"ch-make-151\" name=\"make[]\" type=\"checkbox\" value=\"151\"/>\n",
      "           <label for=\"ch-make-151\">\n",
      "            Hummer\n",
      "           </label>\n",
      "          </p>\n",
      "          <p>\n",
      "           <input class=\"filled-in\" id=\"ch-make-166\" name=\"make[]\" type=\"checkbox\" value=\"166\"/>\n",
      "           <label for=\"ch-make-166\">\n",
      "            Infiniti\n",
      "           </label>\n",
      "          </p>\n",
      "          <p>\n",
      "           <input class=\"filled-in\" id=\"ch-make-161\" name=\"make[]\" type=\"checkbox\" value=\"161\"/>\n",
      "           <label for=\"ch-make-161\">\n",
      "            Iran Khodro\n",
      "           </label>\n",
      "          </p>\n",
      "          <p>\n",
      "           <input class=\"filled-in\" id=\"ch-make-171\" name=\"make[]\" type=\"checkbox\" value=\"171\"/>\n",
      "           <label for=\"ch-make-171\">\n",
      "            Isuzu\n",
      "           </label>\n",
      "          </p>\n",
      "          <p>\n",
      "           <input class=\"filled-in\" id=\"ch-make-176\" name=\"make[]\" type=\"checkbox\" value=\"176\"/>\n",
      "           <label for=\"ch-make-176\">\n",
      "            IZH\n",
      "           </label>\n",
      "          </p>\n",
      "          <p>\n",
      "           <input class=\"filled-in\" id=\"ch-make-4699\" name=\"make[]\" type=\"checkbox\" value=\"4699\"/>\n",
      "           <label for=\"ch-make-4699\">\n",
      "            JAC\n",
      "           </label>\n",
      "          </p>\n",
      "          <p>\n",
      "           <input class=\"filled-in\" id=\"ch-make-181\" name=\"make[]\" type=\"checkbox\" value=\"181\"/>\n",
      "           <label for=\"ch-make-181\">\n",
      "            Jaguar\n",
      "           </label>\n",
      "          </p>\n",
      "          <p>\n",
      "           <input class=\"filled-in\" id=\"ch-make-186\" name=\"make[]\" type=\"checkbox\" value=\"186\"/>\n",
      "           <label for=\"ch-make-186\">\n",
      "            Jeep\n",
      "           </label>\n",
      "          </p>\n",
      "          <p>\n",
      "           <input class=\"filled-in\" id=\"ch-make-191\" name=\"make[]\" type=\"checkbox\" value=\"191\"/>\n",
      "           <label for=\"ch-make-191\">\n",
      "            Kia\n",
      "           </label>\n",
      "          </p>\n",
      "          <p>\n",
      "           <input class=\"filled-in\" id=\"ch-make-196\" name=\"make[]\" type=\"checkbox\" value=\"196\"/>\n",
      "           <label for=\"ch-make-196\">\n",
      "            Lamborghini\n",
      "           </label>\n",
      "          </p>\n",
      "          <p>\n",
      "           <input class=\"filled-in\" id=\"ch-make-201\" name=\"make[]\" type=\"checkbox\" value=\"201\"/>\n",
      "           <label for=\"ch-make-201\">\n",
      "            Lancia\n",
      "           </label>\n",
      "          </p>\n",
      "          <p>\n",
      "           <input class=\"filled-in\" id=\"ch-make-206\" name=\"make[]\" type=\"checkbox\" value=\"206\"/>\n",
      "           <label for=\"ch-make-206\">\n",
      "            Land Rover\n",
      "           </label>\n",
      "          </p>\n",
      "          <p>\n",
      "           <input class=\"filled-in\" id=\"ch-make-211\" name=\"make[]\" type=\"checkbox\" value=\"211\"/>\n",
      "           <label for=\"ch-make-211\">\n",
      "            Lexus\n",
      "           </label>\n",
      "          </p>\n",
      "          <p>\n",
      "           <input class=\"filled-in\" id=\"ch-make-4697\" name=\"make[]\" type=\"checkbox\" value=\"4697\"/>\n",
      "           <label for=\"ch-make-4697\">\n",
      "            Lifan\n",
      "           </label>\n",
      "          </p>\n",
      "          <p>\n",
      "           <input class=\"filled-in\" id=\"ch-make-216\" name=\"make[]\" type=\"checkbox\" value=\"216\"/>\n",
      "           <label for=\"ch-make-216\">\n",
      "            Lincoln\n",
      "           </label>\n",
      "          </p>\n",
      "          <p>\n",
      "           <input class=\"filled-in\" id=\"ch-make-221\" name=\"make[]\" type=\"checkbox\" value=\"221\"/>\n",
      "           <label for=\"ch-make-221\">\n",
      "            Lotus\n",
      "           </label>\n",
      "          </p>\n",
      "          <p>\n",
      "           <input class=\"filled-in\" id=\"ch-make-4673\" name=\"make[]\" type=\"checkbox\" value=\"4673\"/>\n",
      "           <label for=\"ch-make-4673\">\n",
      "            LuAZ\n",
      "           </label>\n",
      "          </p>\n",
      "          <p>\n",
      "           <input class=\"filled-in\" id=\"ch-make-4716\" name=\"make[]\" type=\"checkbox\" value=\"4716\"/>\n",
      "           <label for=\"ch-make-4716\">\n",
      "            Luxgen\n",
      "           </label>\n",
      "          </p>\n",
      "          <p>\n",
      "           <input class=\"filled-in\" id=\"ch-make-226\" name=\"make[]\" type=\"checkbox\" value=\"226\"/>\n",
      "           <label for=\"ch-make-226\">\n",
      "            Mahindra\n",
      "           </label>\n",
      "          </p>\n",
      "          <p>\n",
      "           <input class=\"filled-in\" id=\"ch-make-231\" name=\"make[]\" type=\"checkbox\" value=\"231\"/>\n",
      "           <label for=\"ch-make-231\">\n",
      "            Maserati\n",
      "           </label>\n",
      "          </p>\n",
      "          <p>\n",
      "           <input class=\"filled-in\" id=\"ch-make-236\" name=\"make[]\" type=\"checkbox\" value=\"236\"/>\n",
      "           <label for=\"ch-make-236\">\n",
      "            Maybach\n",
      "           </label>\n",
      "          </p>\n",
      "          <p>\n",
      "           <input class=\"filled-in\" id=\"ch-make-241\" name=\"make[]\" type=\"checkbox\" value=\"241\"/>\n",
      "           <label for=\"ch-make-241\">\n",
      "            Mazda\n",
      "           </label>\n",
      "          </p>\n",
      "          <p>\n",
      "           <input class=\"filled-in\" id=\"ch-make-251\" name=\"make[]\" type=\"checkbox\" value=\"251\"/>\n",
      "           <label for=\"ch-make-251\">\n",
      "            Mercury\n",
      "           </label>\n",
      "          </p>\n",
      "          <p>\n",
      "           <input class=\"filled-in\" id=\"ch-make-256\" name=\"make[]\" type=\"checkbox\" value=\"256\"/>\n",
      "           <label for=\"ch-make-256\">\n",
      "            MG\n",
      "           </label>\n",
      "          </p>\n",
      "          <p>\n",
      "           <input class=\"filled-in\" id=\"ch-make-261\" name=\"make[]\" type=\"checkbox\" value=\"261\"/>\n",
      "           <label for=\"ch-make-261\">\n",
      "            Mini\n",
      "           </label>\n",
      "          </p>\n",
      "          <p>\n",
      "           <input class=\"filled-in\" id=\"ch-make-266\" name=\"make[]\" type=\"checkbox\" value=\"266\"/>\n",
      "           <label for=\"ch-make-266\">\n",
      "            Mitsubishi\n",
      "           </label>\n",
      "          </p>\n",
      "          <p>\n",
      "           <input class=\"filled-in\" id=\"ch-make-4621\" name=\"make[]\" type=\"checkbox\" value=\"4621\"/>\n",
      "           <label for=\"ch-make-4621\">\n",
      "            Mitsuoka\n",
      "           </label>\n",
      "          </p>\n",
      "          <p>\n",
      "           <input class=\"filled-in\" id=\"ch-make-271\" name=\"make[]\" type=\"checkbox\" value=\"271\"/>\n",
      "           <label for=\"ch-make-271\">\n",
      "            Moskvich\n",
      "           </label>\n",
      "          </p>\n",
      "          <p>\n",
      "           <input class=\"filled-in\" id=\"ch-make-286\" name=\"make[]\" type=\"checkbox\" value=\"286\"/>\n",
      "           <label for=\"ch-make-286\">\n",
      "            OKA\n",
      "           </label>\n",
      "          </p>\n",
      "          <p>\n",
      "           <input class=\"filled-in\" id=\"ch-make-291\" name=\"make[]\" type=\"checkbox\" value=\"291\"/>\n",
      "           <label for=\"ch-make-291\">\n",
      "            Oldsmobile\n",
      "           </label>\n",
      "          </p>\n",
      "          <p>\n",
      "           <input class=\"filled-in\" id=\"ch-make-296\" name=\"make[]\" type=\"checkbox\" value=\"296\"/>\n",
      "           <label for=\"ch-make-296\">\n",
      "            Opel\n",
      "           </label>\n",
      "          </p>\n",
      "          <p>\n",
      "           <input class=\"filled-in\" id=\"ch-make-301\" name=\"make[]\" type=\"checkbox\" value=\"301\"/>\n",
      "           <label for=\"ch-make-301\">\n",
      "            Peugeot\n",
      "           </label>\n",
      "          </p>\n",
      "          <p>\n",
      "           <input class=\"filled-in\" id=\"ch-make-306\" name=\"make[]\" type=\"checkbox\" value=\"306\"/>\n",
      "           <label for=\"ch-make-306\">\n",
      "            Plymouth\n",
      "           </label>\n",
      "          </p>\n",
      "          <p>\n",
      "           <input class=\"filled-in\" id=\"ch-make-4846\" name=\"make[]\" type=\"checkbox\" value=\"4846\"/>\n",
      "           <label for=\"ch-make-4846\">\n",
      "            Polestar\n",
      "           </label>\n",
      "          </p>\n",
      "          <p>\n",
      "           <input class=\"filled-in\" id=\"ch-make-311\" name=\"make[]\" type=\"checkbox\" value=\"311\"/>\n",
      "           <label for=\"ch-make-311\">\n",
      "            Pontiac\n",
      "           </label>\n",
      "          </p>\n",
      "          <p>\n",
      "           <input class=\"filled-in\" id=\"ch-make-316\" name=\"make[]\" type=\"checkbox\" value=\"316\"/>\n",
      "           <label for=\"ch-make-316\">\n",
      "            Porsche\n",
      "           </label>\n",
      "          </p>\n",
      "          <p>\n",
      "           <input class=\"filled-in\" id=\"ch-make-321\" name=\"make[]\" type=\"checkbox\" value=\"321\"/>\n",
      "           <label for=\"ch-make-321\">\n",
      "            RAF\n",
      "           </label>\n",
      "          </p>\n",
      "          <p>\n",
      "           <input class=\"filled-in\" id=\"ch-make-4688\" name=\"make[]\" type=\"checkbox\" value=\"4688\"/>\n",
      "           <label for=\"ch-make-4688\">\n",
      "            Ram\n",
      "           </label>\n",
      "          </p>\n",
      "          <p>\n",
      "           <input class=\"filled-in\" id=\"ch-make-326\" name=\"make[]\" type=\"checkbox\" value=\"326\"/>\n",
      "           <label for=\"ch-make-326\">\n",
      "            Renault\n",
      "           </label>\n",
      "          </p>\n",
      "          <p>\n",
      "           <input class=\"filled-in\" id=\"ch-make-331\" name=\"make[]\" type=\"checkbox\" value=\"331\"/>\n",
      "           <label for=\"ch-make-331\">\n",
      "            Rolls Royce\n",
      "           </label>\n",
      "          </p>\n",
      "          <p>\n",
      "           <input class=\"filled-in\" id=\"ch-make-336\" name=\"make[]\" type=\"checkbox\" value=\"336\"/>\n",
      "           <label for=\"ch-make-336\">\n",
      "            Rover\n",
      "           </label>\n",
      "          </p>\n",
      "          <p>\n",
      "           <input class=\"filled-in\" id=\"ch-make-341\" name=\"make[]\" type=\"checkbox\" value=\"341\"/>\n",
      "           <label for=\"ch-make-341\">\n",
      "            Saab\n",
      "           </label>\n",
      "          </p>\n",
      "          <p>\n",
      "           <input class=\"filled-in\" id=\"ch-make-3543\" name=\"make[]\" type=\"checkbox\" value=\"3543\"/>\n",
      "           <label for=\"ch-make-3543\">\n",
      "            Samsung\n",
      "           </label>\n",
      "          </p>\n",
      "          <p>\n",
      "           <input class=\"filled-in\" id=\"ch-make-346\" name=\"make[]\" type=\"checkbox\" value=\"346\"/>\n",
      "           <label for=\"ch-make-346\">\n",
      "            Saturn\n",
      "           </label>\n",
      "          </p>\n",
      "          <p>\n",
      "           <input class=\"filled-in\" id=\"ch-make-351\" name=\"make[]\" type=\"checkbox\" value=\"351\"/>\n",
      "           <label for=\"ch-make-351\">\n",
      "            Scion\n",
      "           </label>\n",
      "          </p>\n",
      "          <p>\n",
      "           <input class=\"filled-in\" id=\"ch-make-356\" name=\"make[]\" type=\"checkbox\" value=\"356\"/>\n",
      "           <label for=\"ch-make-356\">\n",
      "            Seat\n",
      "           </label>\n",
      "          </p>\n",
      "          <p>\n",
      "           <input class=\"filled-in\" id=\"ch-make-68\" name=\"make[]\" type=\"checkbox\" value=\"68\"/>\n",
      "           <label for=\"ch-make-68\">\n",
      "            SG\n",
      "           </label>\n",
      "          </p>\n",
      "          <p>\n",
      "           <input class=\"filled-in\" id=\"ch-make-361\" name=\"make[]\" type=\"checkbox\" value=\"361\"/>\n",
      "           <label for=\"ch-make-361\">\n",
      "            Skoda\n",
      "           </label>\n",
      "          </p>\n",
      "          <p>\n",
      "           <input class=\"filled-in\" id=\"ch-make-366\" name=\"make[]\" type=\"checkbox\" value=\"366\"/>\n",
      "           <label for=\"ch-make-366\">\n",
      "            Smart\n",
      "           </label>\n",
      "          </p>\n",
      "          <p>\n",
      "           <input class=\"filled-in\" id=\"ch-make-371\" name=\"make[]\" type=\"checkbox\" value=\"371\"/>\n",
      "           <label for=\"ch-make-371\">\n",
      "            SsangYong\n",
      "           </label>\n",
      "          </p>\n",
      "          <p>\n",
      "           <input class=\"filled-in\" id=\"ch-make-376\" name=\"make[]\" type=\"checkbox\" value=\"376\"/>\n",
      "           <label for=\"ch-make-376\">\n",
      "            Subaru\n",
      "           </label>\n",
      "          </p>\n",
      "          <p>\n",
      "           <input class=\"filled-in\" id=\"ch-make-381\" name=\"make[]\" type=\"checkbox\" value=\"381\"/>\n",
      "           <label for=\"ch-make-381\">\n",
      "            Suzuki\n",
      "           </label>\n",
      "          </p>\n",
      "          <p>\n",
      "           <input class=\"filled-in\" id=\"ch-make-3730\" name=\"make[]\" type=\"checkbox\" value=\"3730\"/>\n",
      "           <label for=\"ch-make-3730\">\n",
      "            Tagaz\n",
      "           </label>\n",
      "          </p>\n",
      "          <p>\n",
      "           <input class=\"filled-in\" id=\"ch-make-3508\" name=\"make[]\" type=\"checkbox\" value=\"3508\"/>\n",
      "           <label for=\"ch-make-3508\">\n",
      "            Tesla\n",
      "           </label>\n",
      "          </p>\n",
      "          <p>\n",
      "           <input class=\"filled-in\" id=\"ch-make-4681\" name=\"make[]\" type=\"checkbox\" value=\"4681\"/>\n",
      "           <label for=\"ch-make-4681\">\n",
      "            Triumph\n",
      "           </label>\n",
      "          </p>\n",
      "          <p>\n",
      "           <input class=\"filled-in\" id=\"ch-make-391\" name=\"make[]\" type=\"checkbox\" value=\"391\"/>\n",
      "           <label for=\"ch-make-391\">\n",
      "            UAZ\n",
      "           </label>\n",
      "          </p>\n",
      "          <p>\n",
      "           <input class=\"filled-in\" id=\"ch-make-396\" name=\"make[]\" type=\"checkbox\" value=\"396\"/>\n",
      "           <label for=\"ch-make-396\">\n",
      "            VAZ (Lada)\n",
      "           </label>\n",
      "          </p>\n",
      "          <p>\n",
      "           <input class=\"filled-in\" id=\"ch-make-401\" name=\"make[]\" type=\"checkbox\" value=\"401\"/>\n",
      "           <label for=\"ch-make-401\">\n",
      "            Volkswagen\n",
      "           </label>\n",
      "          </p>\n",
      "          <p>\n",
      "           <input class=\"filled-in\" id=\"ch-make-406\" name=\"make[]\" type=\"checkbox\" value=\"406\"/>\n",
      "           <label for=\"ch-make-406\">\n",
      "            Volvo\n",
      "           </label>\n",
      "          </p>\n",
      "          <p>\n",
      "           <input class=\"filled-in\" id=\"ch-make-4830\" name=\"make[]\" type=\"checkbox\" value=\"4830\"/>\n",
      "           <label for=\"ch-make-4830\">\n",
      "            Weltmeister\n",
      "           </label>\n",
      "          </p>\n",
      "          <p>\n",
      "           <input class=\"filled-in\" id=\"ch-make-416\" name=\"make[]\" type=\"checkbox\" value=\"416\"/>\n",
      "           <label for=\"ch-make-416\">\n",
      "            ZAZ-Tavria\n",
      "           </label>\n",
      "          </p>\n",
      "          <p>\n",
      "           <input class=\"filled-in\" id=\"ch-make-421\" name=\"make[]\" type=\"checkbox\" value=\"421\"/>\n",
      "           <label for=\"ch-make-421\">\n",
      "            Zx Auto\n",
      "           </label>\n",
      "          </p>\n",
      "         </div>\n",
      "        </li>\n",
      "        <li class=\"filter-models\">\n",
      "         <div class=\"collapsible-header active\">\n",
      "          Mercedes-Benz\n",
      "         </div>\n",
      "         <div class=\"collapsible-body expandable expanded\">\n",
      "          <p>\n",
      "           <input class=\"models filled-in submodel\" id=\"ch-model-2962\" name=\"model[246][]\" type=\"checkbox\" value=\"2962\"/>\n",
      "           <label for=\"ch-model-2962\">\n",
      "            124\n",
      "           </label>\n",
      "          </p>\n",
      "          <p>\n",
      "           <input class=\"models filled-in submodel\" id=\"ch-model-3489\" name=\"model[246][]\" type=\"checkbox\" value=\"3489\"/>\n",
      "           <label for=\"ch-model-3489\">\n",
      "            1317\n",
      "           </label>\n",
      "          </p>\n",
      "          <p>\n",
      "           <input class=\"models filled-in submodel\" id=\"ch-model-4118\" name=\"model[246][]\" type=\"checkbox\" value=\"4118\"/>\n",
      "           <label for=\"ch-model-4118\">\n",
      "            170\n",
      "           </label>\n",
      "          </p>\n",
      "          <p>\n",
      "           <input class=\"models filled-in submodel\" id=\"ch-model-4108\" name=\"model[246][]\" type=\"checkbox\" value=\"4108\"/>\n",
      "           <label for=\"ch-model-4108\">\n",
      "            180\n",
      "           </label>\n",
      "          </p>\n",
      "          <p>\n",
      "           <input class=\"models filled-in submodel\" id=\"ch-model-1900\" name=\"model[246][]\" type=\"checkbox\" value=\"1900\"/>\n",
      "           <label for=\"ch-model-1900\">\n",
      "            190\n",
      "           </label>\n",
      "          </p>\n",
      "          <p>\n",
      "           <input class=\"models filled-in submodel\" id=\"ch-model-1901\" name=\"model[246][]\" type=\"checkbox\" value=\"1901\"/>\n",
      "           <label for=\"ch-model-1901\">\n",
      "            200\n",
      "           </label>\n",
      "          </p>\n",
      "          <p>\n",
      "           <input class=\"models filled-in submodel\" id=\"ch-model-4109\" name=\"model[246][]\" type=\"checkbox\" value=\"4109\"/>\n",
      "           <label for=\"ch-model-4109\">\n",
      "            208\n",
      "           </label>\n",
      "          </p>\n",
      "          <p>\n",
      "           <input class=\"models filled-in submodel\" id=\"ch-model-4355\" name=\"model[246][]\" type=\"checkbox\" value=\"4355\"/>\n",
      "           <label for=\"ch-model-4355\">\n",
      "            209D\n",
      "           </label>\n",
      "          </p>\n",
      "          <p>\n",
      "           <input class=\"models filled-in submodel\" id=\"ch-model-4111\" name=\"model[246][]\" type=\"checkbox\" value=\"4111\"/>\n",
      "           <label for=\"ch-model-4111\">\n",
      "            220\n",
      "           </label>\n",
      "          </p>\n",
      "          <p>\n",
      "           <input class=\"models filled-in submodel\" id=\"ch-model-1902\" name=\"model[246][]\" type=\"checkbox\" value=\"1902\"/>\n",
      "           <label for=\"ch-model-1902\">\n",
      "            230\n",
      "           </label>\n",
      "          </p>\n",
      "          <p>\n",
      "           <input class=\"models filled-in submodel\" id=\"ch-model-1903\" name=\"model[246][]\" type=\"checkbox\" value=\"1903\"/>\n",
      "           <label for=\"ch-model-1903\">\n",
      "            240\n",
      "           </label>\n",
      "          </p>\n",
      "          <p>\n",
      "           <input class=\"models filled-in submodel\" id=\"ch-model-1904\" name=\"model[246][]\" type=\"checkbox\" value=\"1904\"/>\n",
      "           <label for=\"ch-model-1904\">\n",
      "            250\n",
      "           </label>\n",
      "          </p>\n",
      "          <p>\n",
      "           <input class=\"models filled-in submodel\" id=\"ch-model-1905\" name=\"model[246][]\" type=\"checkbox\" value=\"1905\"/>\n",
      "           <label for=\"ch-model-1905\">\n",
      "            260\n",
      "           </label>\n",
      "          </p>\n",
      "          <p>\n",
      "           <input class=\"models filled-in submodel\" id=\"ch-model-1906\" name=\"model[246][]\" type=\"checkbox\" value=\"1906\"/>\n",
      "           <label for=\"ch-model-1906\">\n",
      "            270\n",
      "           </label>\n",
      "          </p>\n",
      "          <p>\n",
      "           <input class=\"models filled-in submodel\" id=\"ch-model-1907\" name=\"model[246][]\" type=\"checkbox\" value=\"1907\"/>\n",
      "           <label for=\"ch-model-1907\">\n",
      "            280\n",
      "           </label>\n",
      "          </p>\n",
      "          <p>\n",
      "           <input class=\"models filled-in submodel\" id=\"ch-model-1908\" name=\"model[246][]\" type=\"checkbox\" value=\"1908\"/>\n",
      "           <label for=\"ch-model-1908\">\n",
      "            290\n",
      "           </label>\n",
      "          </p>\n",
      "          <p>\n",
      "           <input class=\"models filled-in submodel\" id=\"ch-model-1909\" name=\"model[246][]\" type=\"checkbox\" value=\"1909\"/>\n",
      "           <label for=\"ch-model-1909\">\n",
      "            300\n",
      "           </label>\n",
      "          </p>\n",
      "          <p>\n",
      "           <input class=\"models filled-in submodel\" id=\"ch-model-4112\" name=\"model[246][]\" type=\"checkbox\" value=\"4112\"/>\n",
      "           <label for=\"ch-model-4112\">\n",
      "            308\n",
      "           </label>\n",
      "          </p>\n",
      "          <p>\n",
      "           <input class=\"models filled-in submodel\" id=\"ch-model-1910\" name=\"model[246][]\" type=\"checkbox\" value=\"1910\"/>\n",
      "           <label for=\"ch-model-1910\">\n",
      "            320\n",
      "           </label>\n",
      "          </p>\n",
      "          <p>\n",
      "           <input class=\"models filled-in submodel\" id=\"ch-model-1911\" name=\"model[246][]\" type=\"checkbox\" value=\"1911\"/>\n",
      "           <label for=\"ch-model-1911\">\n",
      "            350\n",
      "           </label>\n",
      "          </p>\n",
      "          <p>\n",
      "           <input class=\"models filled-in submodel\" id=\"ch-model-1912\" name=\"model[246][]\" type=\"checkbox\" value=\"1912\"/>\n",
      "           <label for=\"ch-model-1912\">\n",
      "            380\n",
      "           </label>\n",
      "          </p>\n",
      "          <p>\n",
      "           <input class=\"models filled-in submodel\" id=\"ch-model-1913\" name=\"model[246][]\" type=\"checkbox\" value=\"1913\"/>\n",
      "           <label for=\"ch-model-1913\">\n",
      "            400\n",
      "           </label>\n",
      "          </p>\n",
      "          <p>\n",
      "           <input class=\"models filled-in submodel\" id=\"ch-model-1914\" name=\"model[246][]\" type=\"checkbox\" value=\"1914\"/>\n",
      "           <label for=\"ch-model-1914\">\n",
      "            416\n",
      "           </label>\n",
      "          </p>\n",
      "          <p>\n",
      "           <input class=\"models filled-in submodel\" id=\"ch-model-1915\" name=\"model[246][]\" type=\"checkbox\" value=\"1915\"/>\n",
      "           <label for=\"ch-model-1915\">\n",
      "            420\n",
      "           </label>\n",
      "          </p>\n",
      "          <p>\n",
      "           <input class=\"models filled-in submodel\" id=\"ch-model-1916\" name=\"model[246][]\" type=\"checkbox\" value=\"1916\"/>\n",
      "           <label for=\"ch-model-1916\">\n",
      "            450\n",
      "           </label>\n",
      "          </p>\n",
      "          <p>\n",
      "           <input class=\"models filled-in submodel\" id=\"ch-model-1917\" name=\"model[246][]\" type=\"checkbox\" value=\"1917\"/>\n",
      "           <label for=\"ch-model-1917\">\n",
      "            500\n",
      "           </label>\n",
      "          </p>\n",
      "          <p>\n",
      "           <input class=\"models filled-in submodel\" id=\"ch-model-1918\" name=\"model[246][]\" type=\"checkbox\" value=\"1918\"/>\n",
      "           <label for=\"ch-model-1918\">\n",
      "            560\n",
      "           </label>\n",
      "          </p>\n",
      "          <p>\n",
      "           <input class=\"models filled-in submodel\" id=\"ch-model-1919\" name=\"model[246][]\" type=\"checkbox\" value=\"1919\"/>\n",
      "           <label for=\"ch-model-1919\">\n",
      "            600\n",
      "           </label>\n",
      "          </p>\n",
      "          <p>\n",
      "           <input class=\"models filled-in submodel\" id=\"ch-model-4166\" name=\"model[246][]\" type=\"checkbox\" value=\"4166\"/>\n",
      "           <label for=\"ch-model-4166\">\n",
      "            609D\n",
      "           </label>\n",
      "          </p>\n",
      "          <p>\n",
      "           <input class=\"models filled-in submodel\" id=\"ch-model-4175\" name=\"model[246][]\" type=\"checkbox\" value=\"4175\"/>\n",
      "           <label for=\"ch-model-4175\">\n",
      "            814\n",
      "           </label>\n",
      "          </p>\n",
      "          <p>\n",
      "           <input class=\"models filled-in submodel\" id=\"ch-model-483\" name=\"model[246][]\" type=\"checkbox\" value=\"483\"/>\n",
      "           <label for=\"ch-model-483\">\n",
      "            A-Class\n",
      "           </label>\n",
      "          </p>\n",
      "          <p class=\"pad-left-24 filter-submodels\">\n",
      "           <input class=\"models filled-in ch-model-483-subs\" id=\"ch-model-1920\" name=\"model[246][]\" type=\"checkbox\" value=\"1920\"/>\n",
      "           <label for=\"ch-model-1920\">\n",
      "            A 140\n",
      "           </label>\n",
      "          </p>\n",
      "          <p class=\"pad-left-24 filter-submodels\">\n",
      "           <input class=\"models filled-in ch-model-483-subs\" id=\"ch-model-1921\" name=\"model[246][]\" type=\"checkbox\" value=\"1921\"/>\n",
      "           <label for=\"ch-model-1921\">\n",
      "            A 150\n",
      "           </label>\n",
      "          </p>\n",
      "          <p class=\"pad-left-24 filter-submodels\">\n",
      "           <input class=\"models filled-in ch-model-483-subs\" id=\"ch-model-1922\" name=\"model[246][]\" type=\"checkbox\" value=\"1922\"/>\n",
      "           <label for=\"ch-model-1922\">\n",
      "            A 160\n",
      "           </label>\n",
      "          </p>\n",
      "          <p class=\"pad-left-24 filter-submodels\">\n",
      "           <input class=\"models filled-in ch-model-483-subs\" id=\"ch-model-1923\" name=\"model[246][]\" type=\"checkbox\" value=\"1923\"/>\n",
      "           <label for=\"ch-model-1923\">\n",
      "            A 170\n",
      "           </label>\n",
      "          </p>\n",
      "          <p class=\"pad-left-24 filter-submodels\">\n",
      "           <input class=\"models filled-in ch-model-483-subs\" id=\"ch-model-1924\" name=\"model[246][]\" type=\"checkbox\" value=\"1924\"/>\n",
      "           <label for=\"ch-model-1924\">\n",
      "            A 180\n",
      "           </label>\n",
      "          </p>\n",
      "          <p class=\"pad-left-24 filter-submodels\">\n",
      "           <input class=\"models filled-in ch-model-483-subs\" id=\"ch-model-1925\" name=\"model[246][]\" type=\"checkbox\" value=\"1925\"/>\n",
      "           <label for=\"ch-model-1925\">\n",
      "            A 190\n",
      "           </label>\n",
      "          </p>\n",
      "          <p class=\"pad-left-24 filter-submodels\">\n",
      "           <input class=\"models filled-in ch-model-483-subs\" id=\"ch-model-1926\" name=\"model[246][]\" type=\"checkbox\" value=\"1926\"/>\n",
      "           <label for=\"ch-model-1926\">\n",
      "            A 200\n",
      "           </label>\n",
      "          </p>\n",
      "          <p class=\"pad-left-24 filter-submodels\">\n",
      "           <input class=\"models filled-in ch-model-483-subs\" id=\"ch-model-1927\" name=\"model[246][]\" type=\"checkbox\" value=\"1927\"/>\n",
      "           <label for=\"ch-model-1927\">\n",
      "            A 210\n",
      "           </label>\n",
      "          </p>\n",
      "          <p class=\"pad-left-24 filter-submodels\">\n",
      "           <input class=\"models filled-in ch-model-483-subs\" id=\"ch-model-4035\" name=\"model[246][]\" type=\"checkbox\" value=\"4035\"/>\n",
      "           <label for=\"ch-model-4035\">\n",
      "            A 220\n",
      "           </label>\n",
      "          </p>\n",
      "          <p class=\"pad-left-24 filter-submodels\">\n",
      "           <input class=\"models filled-in ch-model-483-subs\" id=\"ch-model-4036\" name=\"model[246][]\" type=\"checkbox\" value=\"4036\"/>\n",
      "           <label for=\"ch-model-4036\">\n",
      "            A 250\n",
      "           </label>\n",
      "          </p>\n",
      "          <p class=\"pad-left-24 filter-submodels\">\n",
      "           <input class=\"models filled-in ch-model-483-subs\" id=\"ch-model-4037\" name=\"model[246][]\" type=\"checkbox\" value=\"4037\"/>\n",
      "           <label for=\"ch-model-4037\">\n",
      "            A 45 AMG\n",
      "           </label>\n",
      "          </p>\n",
      "          <p>\n",
      "           <input class=\"models filled-in submodel\" id=\"ch-model-3454\" name=\"model[246][]\" type=\"checkbox\" value=\"3454\"/>\n",
      "           <label for=\"ch-model-3454\">\n",
      "            Accelo\n",
      "           </label>\n",
      "          </p>\n",
      "          <p>\n",
      "           <input class=\"models filled-in submodel\" id=\"ch-model-3456\" name=\"model[246][]\" type=\"checkbox\" value=\"3456\"/>\n",
      "           <label for=\"ch-model-3456\">\n",
      "            Actros\n",
      "           </label>\n",
      "          </p>\n",
      "          <p>\n",
      "           <input class=\"models filled-in submodel\" id=\"ch-model-4119\" name=\"model[246][]\" type=\"checkbox\" value=\"4119\"/>\n",
      "           <label for=\"ch-model-4119\">\n",
      "            AMG GT\n",
      "           </label>\n",
      "          </p>\n",
      "          <p>\n",
      "           <input class=\"models filled-in submodel\" id=\"ch-model-3457\" name=\"model[246][]\" type=\"checkbox\" value=\"3457\"/>\n",
      "           <label for=\"ch-model-3457\">\n",
      "            Antos\n",
      "           </label>\n",
      "          </p>\n",
      "          <p>\n",
      "           <input class=\"models filled-in submodel\" id=\"ch-model-3453\" name=\"model[246][]\" type=\"checkbox\" value=\"3453\"/>\n",
      "           <label for=\"ch-model-3453\">\n",
      "            Atego\n",
      "           </label>\n",
      "          </p>\n",
      "          <p>\n",
      "           <input class=\"models filled-in submodel\" id=\"ch-model-3455\" name=\"model[246][]\" type=\"checkbox\" value=\"3455\"/>\n",
      "           <label for=\"ch-model-3455\">\n",
      "            Axor\n",
      "           </label>\n",
      "          </p>\n",
      "          <p>\n",
      "           <input class=\"models filled-in submodel\" id=\"ch-model-484\" name=\"model[246][]\" type=\"checkbox\" value=\"484\"/>\n",
      "           <label for=\"ch-model-484\">\n",
      "            B-Class\n",
      "           </label>\n",
      "          </p>\n",
      "          <p class=\"pad-left-24 filter-submodels\">\n",
      "           <input class=\"models filled-in ch-model-484-subs\" id=\"ch-model-1928\" name=\"model[246][]\" type=\"checkbox\" value=\"1928\"/>\n",
      "           <label for=\"ch-model-1928\">\n",
      "            B 150\n",
      "           </label>\n",
      "          </p>\n",
      "          <p class=\"pad-left-24 filter-submodels\">\n",
      "           <input class=\"models filled-in ch-model-484-subs\" id=\"ch-model-4113\" name=\"model[246][]\" type=\"checkbox\" value=\"4113\"/>\n",
      "           <label for=\"ch-model-4113\">\n",
      "            B 160\n",
      "           </label>\n",
      "          </p>\n",
      "          <p class=\"pad-left-24 filter-submodels\">\n",
      "           <input class=\"models filled-in ch-model-484-subs\" id=\"ch-model-1929\" name=\"model[246][]\" type=\"checkbox\" value=\"1929\"/>\n",
      "           <label for=\"ch-model-1929\">\n",
      "            B 170\n",
      "           </label>\n",
      "          </p>\n",
      "          <p class=\"pad-left-24 filter-submodels\">\n",
      "           <input class=\"models filled-in ch-model-484-subs\" id=\"ch-model-1930\" name=\"model[246][]\" type=\"checkbox\" value=\"1930\"/>\n",
      "           <label for=\"ch-model-1930\">\n",
      "            B 180\n",
      "           </label>\n",
      "          </p>\n",
      "          <p class=\"pad-left-24 filter-submodels\">\n",
      "           <input class=\"models filled-in ch-model-484-subs\" id=\"ch-model-1931\" name=\"model[246][]\" type=\"checkbox\" value=\"1931\"/>\n",
      "           <label for=\"ch-model-1931\">\n",
      "            B 200\n",
      "           </label>\n",
      "          </p>\n",
      "          <p class=\"pad-left-24 filter-submodels\">\n",
      "           <input class=\"models filled-in ch-model-484-subs\" id=\"ch-model-4038\" name=\"model[246][]\" type=\"checkbox\" value=\"4038\"/>\n",
      "           <label for=\"ch-model-4038\">\n",
      "            B 220\n",
      "           </label>\n",
      "          </p>\n",
      "          <p class=\"pad-left-24 filter-submodels\">\n",
      "           <input class=\"models filled-in ch-model-484-subs\" id=\"ch-model-4039\" name=\"model[246][]\" type=\"checkbox\" value=\"4039\"/>\n",
      "           <label for=\"ch-model-4039\">\n",
      "            B 250\n",
      "           </label>\n",
      "          </p>\n",
      "          <p class=\"pad-left-24 filter-submodels\">\n",
      "           <input class=\"models filled-in ch-model-484-subs\" id=\"ch-model-4040\" name=\"model[246][]\" type=\"checkbox\" value=\"4040\"/>\n",
      "           <label for=\"ch-model-4040\">\n",
      "            B Electric Drive\n",
      "           </label>\n",
      "          </p>\n",
      "          <p>\n",
      "           <input class=\"models filled-in submodel\" id=\"ch-model-485\" name=\"model[246][]\" type=\"checkbox\" value=\"485\"/>\n",
      "           <label for=\"ch-model-485\">\n",
      "            C-Class\n",
      "           </label>\n",
      "          </p>\n",
      "          <p class=\"pad-left-24 filter-submodels\">\n",
      "           <input class=\"models filled-in ch-model-485-subs\" id=\"ch-model-1937\" name=\"model[246][]\" type=\"checkbox\" value=\"1937\"/>\n",
      "           <label for=\"ch-model-1937\">\n",
      "            C 160\n",
      "           </label>\n",
      "          </p>\n",
      "          <p class=\"pad-left-24 filter-submodels\">\n",
      "           <input class=\"models filled-in ch-model-485-subs\" id=\"ch-model-1938\" name=\"model[246][]\" type=\"checkbox\" value=\"1938\"/>\n",
      "           <label for=\"ch-model-1938\">\n",
      "            C 180\n",
      "           </label>\n",
      "          </p>\n",
      "          <p class=\"pad-left-24 filter-submodels\">\n",
      "           <input class=\"models filled-in ch-model-485-subs\" id=\"ch-model-1939\" name=\"model[246][]\" type=\"checkbox\" value=\"1939\"/>\n",
      "           <label for=\"ch-model-1939\">\n",
      "            C 200\n",
      "           </label>\n",
      "          </p>\n",
      "          <p class=\"pad-left-24 filter-submodels\">\n",
      "           <input class=\"models filled-in ch-model-485-subs\" id=\"ch-model-1940\" name=\"model[246][]\" type=\"checkbox\" value=\"1940\"/>\n",
      "           <label for=\"ch-model-1940\">\n",
      "            C 220\n",
      "           </label>\n",
      "          </p>\n",
      "          <p class=\"pad-left-24 filter-submodels\">\n",
      "           <input class=\"models filled-in ch-model-485-subs\" id=\"ch-model-1941\" name=\"model[246][]\" type=\"checkbox\" value=\"1941\"/>\n",
      "           <label for=\"ch-model-1941\">\n",
      "            C 230\n",
      "           </label>\n",
      "          </p>\n",
      "          <p class=\"pad-left-24 filter-submodels\">\n",
      "           <input class=\"models filled-in ch-model-485-subs\" id=\"ch-model-1942\" name=\"model[246][]\" type=\"checkbox\" value=\"1942\"/>\n",
      "           <label for=\"ch-model-1942\">\n",
      "            C 240\n",
      "           </label>\n",
      "          </p>\n",
      "          <p class=\"pad-left-24 filter-submodels\">\n",
      "           <input class=\"models filled-in ch-model-485-subs\" id=\"ch-model-1943\" name=\"model[246][]\" type=\"checkbox\" value=\"1943\"/>\n",
      "           <label for=\"ch-model-1943\">\n",
      "            C 250\n",
      "           </label>\n",
      "          </p>\n",
      "          <p class=\"pad-left-24 filter-submodels\">\n",
      "           <input class=\"models filled-in ch-model-485-subs\" id=\"ch-model-1944\" name=\"model[246][]\" type=\"checkbox\" value=\"1944\"/>\n",
      "           <label for=\"ch-model-1944\">\n",
      "            C 270\n",
      "           </label>\n",
      "          </p>\n",
      "          <p class=\"pad-left-24 filter-submodels\">\n",
      "           <input class=\"models filled-in ch-model-485-subs\" id=\"ch-model-1945\" name=\"model[246][]\" type=\"checkbox\" value=\"1945\"/>\n",
      "           <label for=\"ch-model-1945\">\n",
      "            C 280\n",
      "           </label>\n",
      "          </p>\n",
      "          <p class=\"pad-left-24 filter-submodels\">\n",
      "           <input class=\"models filled-in ch-model-485-subs\" id=\"ch-model-1932\" name=\"model[246][]\" type=\"checkbox\" value=\"1932\"/>\n",
      "           <label for=\"ch-model-1932\">\n",
      "            C 30 AMG\n",
      "           </label>\n",
      "          </p>\n",
      "          <p class=\"pad-left-24 filter-submodels\">\n",
      "           <input class=\"models filled-in ch-model-485-subs\" id=\"ch-model-2947\" name=\"model[246][]\" type=\"checkbox\" value=\"2947\"/>\n",
      "           <label for=\"ch-model-2947\">\n",
      "            C 300\n",
      "           </label>\n",
      "          </p>\n",
      "          <p class=\"pad-left-24 filter-submodels\">\n",
      "           <input class=\"models filled-in ch-model-485-subs\" id=\"ch-model-1933\" name=\"model[246][]\" type=\"checkbox\" value=\"1933\"/>\n",
      "           <label for=\"ch-model-1933\">\n",
      "            C 32 AMG\n",
      "           </label>\n",
      "          </p>\n",
      "          <p class=\"pad-left-24 filter-submodels\">\n",
      "           <input class=\"models filled-in ch-model-485-subs\" id=\"ch-model-1946\" name=\"model[246][]\" type=\"checkbox\" value=\"1946\"/>\n",
      "           <label for=\"ch-model-1946\">\n",
      "            C 320\n",
      "           </label>\n",
      "          </p>\n",
      "          <p class=\"pad-left-24 filter-submodels\">\n",
      "           <input class=\"models filled-in ch-model-485-subs\" id=\"ch-model-1947\" name=\"model[246][]\" type=\"checkbox\" value=\"1947\"/>\n",
      "           <label for=\"ch-model-1947\">\n",
      "            C 350\n",
      "           </label>\n",
      "          </p>\n",
      "          <p class=\"pad-left-24 filter-submodels\">\n",
      "           <input class=\"models filled-in ch-model-485-subs\" id=\"ch-model-1934\" name=\"model[246][]\" type=\"checkbox\" value=\"1934\"/>\n",
      "           <label for=\"ch-model-1934\">\n",
      "            C 36 AMG\n",
      "           </label>\n",
      "          </p>\n",
      "          <p class=\"pad-left-24 filter-submodels\">\n",
      "           <input class=\"models filled-in ch-model-485-subs\" id=\"ch-model-4114\" name=\"model[246][]\" type=\"checkbox\" value=\"4114\"/>\n",
      "           <label for=\"ch-model-4114\">\n",
      "            C 400\n",
      "           </label>\n",
      "          </p>\n",
      "          <p class=\"pad-left-24 filter-submodels\">\n",
      "           <input class=\"models filled-in ch-model-485-subs\" id=\"ch-model-1935\" name=\"model[246][]\" type=\"checkbox\" value=\"1935\"/>\n",
      "           <label for=\"ch-model-1935\">\n",
      "            C 43 AMG\n",
      "           </label>\n",
      "          </p>\n",
      "          <p class=\"pad-left-24 filter-submodels\">\n",
      "           <input class=\"models filled-in ch-model-485-subs\" id=\"ch-model-4115\" name=\"model[246][]\" type=\"checkbox\" value=\"4115\"/>\n",
      "           <label for=\"ch-model-4115\">\n",
      "            C 450\n",
      "           </label>\n",
      "          </p>\n",
      "          <p class=\"pad-left-24 filter-submodels\">\n",
      "           <input class=\"models filled-in ch-model-485-subs\" id=\"ch-model-1936\" name=\"model[246][]\" type=\"checkbox\" value=\"1936\"/>\n",
      "           <label for=\"ch-model-1936\">\n",
      "            C 55 AMG\n",
      "           </label>\n",
      "          </p>\n",
      "          <p class=\"pad-left-24 filter-submodels\">\n",
      "           <input class=\"models filled-in ch-model-485-subs\" id=\"ch-model-3496\" name=\"model[246][]\" type=\"checkbox\" value=\"3496\"/>\n",
      "           <label for=\"ch-model-3496\">\n",
      "            C 63 AMG\n",
      "           </label>\n",
      "          </p>\n",
      "          <p>\n",
      "           <input class=\"models filled-in submodel\" id=\"ch-model-3462\" name=\"model[246][]\" type=\"checkbox\" value=\"3462\"/>\n",
      "           <label for=\"ch-model-3462\">\n",
      "            Capa\n",
      "           </label>\n",
      "          </p>\n",
      "          <p>\n",
      "           <input class=\"models filled-in submodel\" id=\"ch-model-486\" name=\"model[246][]\" type=\"checkbox\" value=\"486\"/>\n",
      "           <label for=\"ch-model-486\">\n",
      "            CE-Class\n",
      "           </label>\n",
      "          </p>\n",
      "          <p class=\"pad-left-24 filter-submodels\">\n",
      "           <input class=\"models filled-in ch-model-486-subs\" id=\"ch-model-1948\" name=\"model[246][]\" type=\"checkbox\" value=\"1948\"/>\n",
      "           <label for=\"ch-model-1948\">\n",
      "            CE 200\n",
      "           </label>\n",
      "          </p>\n",
      "          <p class=\"pad-left-24 filter-submodels\">\n",
      "           <input class=\"models filled-in ch-model-486-subs\" id=\"ch-model-1949\" name=\"model[246][]\" type=\"checkbox\" value=\"1949\"/>\n",
      "           <label for=\"ch-model-1949\">\n",
      "            CE 220\n",
      "           </label>\n",
      "          </p>\n",
      "          <p class=\"pad-left-24 filter-submodels\">\n",
      "           <input class=\"models filled-in ch-model-486-subs\" id=\"ch-model-1950\" name=\"model[246][]\" type=\"checkbox\" value=\"1950\"/>\n",
      "           <label for=\"ch-model-1950\">\n",
      "            CE 230\n",
      "           </label>\n",
      "          </p>\n",
      "          <p class=\"pad-left-24 filter-submodels\">\n",
      "           <input class=\"models filled-in ch-model-486-subs\" id=\"ch-model-4041\" name=\"model[246][]\" type=\"checkbox\" value=\"4041\"/>\n",
      "           <label for=\"ch-model-4041\">\n",
      "            CE 230\n",
      "           </label>\n",
      "          </p>\n",
      "          <p class=\"pad-left-24 filter-submodels\">\n",
      "           <input class=\"models filled-in ch-model-486-subs\" id=\"ch-model-4116\" name=\"model[246][]\" type=\"checkbox\" value=\"4116\"/>\n",
      "           <label for=\"ch-model-4116\">\n",
      "            CE 240\n",
      "           </label>\n",
      "          </p>\n",
      "          <p class=\"pad-left-24 filter-submodels\">\n",
      "           <input class=\"models filled-in ch-model-486-subs\" id=\"ch-model-4117\" name=\"model[246][]\" type=\"checkbox\" value=\"4117\"/>\n",
      "           <label for=\"ch-model-4117\">\n",
      "            CE 280\n",
      "           </label>\n",
      "          </p>\n",
      "          <p class=\"pad-left-24 filter-submodels\">\n",
      "           <input class=\"models filled-in ch-model-486-subs\" id=\"ch-model-1951\" name=\"model[246][]\" type=\"checkbox\" value=\"1951\"/>\n",
      "           <label for=\"ch-model-1951\">\n",
      "            CE 300\n",
      "           </label>\n",
      "          </p>\n",
      "          <p class=\"pad-left-24 filter-submodels\">\n",
      "           <input class=\"models filled-in ch-model-486-subs\" id=\"ch-model-1952\" name=\"model[246][]\" type=\"checkbox\" value=\"1952\"/>\n",
      "           <label for=\"ch-model-1952\">\n",
      "            CE 320\n",
      "           </label>\n",
      "          </p>\n",
      "          <p>\n",
      "           <input class=\"models filled-in submodel\" id=\"ch-model-3461\" name=\"model[246][]\" type=\"checkbox\" value=\"3461\"/>\n",
      "           <label for=\"ch-model-3461\">\n",
      "            Citaro\n",
      "           </label>\n",
      "          </p>\n",
      "          <p>\n",
      "           <input class=\"models filled-in submodel\" id=\"ch-model-487\" name=\"model[246][]\" type=\"checkbox\" value=\"487\"/>\n",
      "           <label for=\"ch-model-487\">\n",
      "            CL-Class\n",
      "           </label>\n",
      "          </p>\n",
      "          <p class=\"pad-left-24 filter-submodels\">\n",
      "           <input class=\"models filled-in ch-model-487-subs\" id=\"ch-model-4042\" name=\"model[246][]\" type=\"checkbox\" value=\"4042\"/>\n",
      "           <label for=\"ch-model-4042\">\n",
      "            CL 160\n",
      "           </label>\n",
      "          </p>\n",
      "          <p class=\"pad-left-24 filter-submodels\">\n",
      "           <input class=\"models filled-in ch-model-487-subs\" id=\"ch-model-1955\" name=\"model[246][]\" type=\"checkbox\" value=\"1955\"/>\n",
      "           <label for=\"ch-model-1955\">\n",
      "            CL 180\n",
      "           </label>\n",
      "          </p>\n",
      "          <p class=\"pad-left-24 filter-submodels\">\n",
      "           <input class=\"models filled-in ch-model-487-subs\" id=\"ch-model-1956\" name=\"model[246][]\" type=\"checkbox\" value=\"1956\"/>\n",
      "           <label for=\"ch-model-1956\">\n",
      "            CL 200\n",
      "           </label>\n",
      "          </p>\n",
      "          <p class=\"pad-left-24 filter-submodels\">\n",
      "           <input class=\"models filled-in ch-model-487-subs\" id=\"ch-model-1957\" name=\"model[246][]\" type=\"checkbox\" value=\"1957\"/>\n",
      "           <label for=\"ch-model-1957\">\n",
      "            CL 220\n",
      "           </label>\n",
      "          </p>\n",
      "          <p class=\"pad-left-24 filter-submodels\">\n",
      "           <input class=\"models filled-in ch-model-487-subs\" id=\"ch-model-1958\" name=\"model[246][]\" type=\"checkbox\" value=\"1958\"/>\n",
      "           <label for=\"ch-model-1958\">\n",
      "            CL 230\n",
      "           </label>\n",
      "          </p>\n",
      "          <p class=\"pad-left-24 filter-submodels\">\n",
      "           <input class=\"models filled-in ch-model-487-subs\" id=\"ch-model-1959\" name=\"model[246][]\" type=\"checkbox\" value=\"1959\"/>\n",
      "           <label for=\"ch-model-1959\">\n",
      "            CL 420\n",
      "           </label>\n",
      "          </p>\n",
      "          <p class=\"pad-left-24 filter-submodels\">\n",
      "           <input class=\"models filled-in ch-model-487-subs\" id=\"ch-model-2948\" name=\"model[246][]\" type=\"checkbox\" value=\"2948\"/>\n",
      "           <label for=\"ch-model-2948\">\n",
      "            CL 500\n",
      "           </label>\n",
      "          </p>\n",
      "          <p class=\"pad-left-24 filter-submodels\">\n",
      "           <input class=\"models filled-in ch-model-487-subs\" id=\"ch-model-1953\" name=\"model[246][]\" type=\"checkbox\" value=\"1953\"/>\n",
      "           <label for=\"ch-model-1953\">\n",
      "            CL 55 AMG\n",
      "           </label>\n",
      "          </p>\n",
      "          <p class=\"pad-left-24 filter-submodels\">\n",
      "           <input class=\"models filled-in ch-model-487-subs\" id=\"ch-model-1960\" name=\"model[246][]\" type=\"checkbox\" value=\"1960\"/>\n",
      "           <label for=\"ch-model-1960\">\n",
      "            CL 600\n",
      "           </label>\n",
      "          </p>\n",
      "          <p class=\"pad-left-24 filter-submodels\">\n",
      "           <input class=\"models filled-in ch-model-487-subs\" id=\"ch-model-3012\" name=\"model[246][]\" type=\"checkbox\" value=\"3012\"/>\n",
      "           <label for=\"ch-model-3012\">\n",
      "            CL 63 AMG\n",
      "           </label>\n",
      "          </p>\n",
      "          <p class=\"pad-left-24 filter-submodels\">\n",
      "           <input class=\"models filled-in ch-model-487-subs\" id=\"ch-model-1954\" name=\"model[246][]\" type=\"checkbox\" value=\"1954\"/>\n",
      "           <label for=\"ch-model-1954\">\n",
      "            CL 65 AMG\n",
      "           </label>\n",
      "          </p>\n",
      "          <p>\n",
      "           <input class=\"models filled-in submodel\" id=\"ch-model-3560\" name=\"model[246][]\" type=\"checkbox\" value=\"3560\"/>\n",
      "           <label for=\"ch-model-3560\">\n",
      "            CLA-Class\n",
      "           </label>\n",
      "          </p>\n",
      "          <p class=\"pad-left-24 filter-submodels\">\n",
      "           <input class=\"models filled-in ch-model-3560-subs\" id=\"ch-model-3565\" name=\"model[246][]\" type=\"checkbox\" value=\"3565\"/>\n",
      "           <label for=\"ch-model-3565\">\n",
      "            CLA 180\n",
      "           </label>\n",
      "          </p>\n",
      "          <p class=\"pad-left-24 filter-submodels\">\n",
      "           <input class=\"models filled-in ch-model-3560-subs\" id=\"ch-model-3566\" name=\"model[246][]\" type=\"checkbox\" value=\"3566\"/>\n",
      "           <label for=\"ch-model-3566\">\n",
      "            CLA 200\n",
      "           </label>\n",
      "          </p>\n",
      "          <p class=\"pad-left-24 filter-submodels\">\n",
      "           <input class=\"models filled-in ch-model-3560-subs\" id=\"ch-model-3567\" name=\"model[246][]\" type=\"checkbox\" value=\"3567\"/>\n",
      "           <label for=\"ch-model-3567\">\n",
      "            CLA 220\n",
      "           </label>\n",
      "          </p>\n",
      "          <p class=\"pad-left-24 filter-submodels\">\n",
      "           <input class=\"models filled-in ch-model-3560-subs\" id=\"ch-model-3568\" name=\"model[246][]\" type=\"checkbox\" value=\"3568\"/>\n",
      "           <label for=\"ch-model-3568\">\n",
      "            CLA 250\n",
      "           </label>\n",
      "          </p>\n",
      "          <p class=\"pad-left-24 filter-submodels\">\n",
      "           <input class=\"models filled-in ch-model-3560-subs\" id=\"ch-model-3569\" name=\"model[246][]\" type=\"checkbox\" value=\"3569\"/>\n",
      "           <label for=\"ch-model-3569\">\n",
      "            CLA 45 AMG\n",
      "           </label>\n",
      "          </p>\n",
      "          <p>\n",
      "           <input class=\"models filled-in submodel\" id=\"ch-model-488\" name=\"model[246][]\" type=\"checkbox\" value=\"488\"/>\n",
      "           <label for=\"ch-model-488\">\n",
      "            CLC-Class\n",
      "           </label>\n",
      "          </p>\n",
      "          <p class=\"pad-left-24 filter-submodels\">\n",
      "           <input class=\"models filled-in ch-model-488-subs\" id=\"ch-model-2953\" name=\"model[246][]\" type=\"checkbox\" value=\"2953\"/>\n",
      "           <label for=\"ch-model-2953\">\n",
      "            CLC 180\n",
      "           </label>\n",
      "          </p>\n",
      "          <p class=\"pad-left-24 filter-submodels\">\n",
      "           <input class=\"models filled-in ch-model-488-subs\" id=\"ch-model-2954\" name=\"model[246][]\" type=\"checkbox\" value=\"2954\"/>\n",
      "           <label for=\"ch-model-2954\">\n",
      "            CLC 200\n",
      "           </label>\n",
      "          </p>\n",
      "          <p class=\"pad-left-24 filter-submodels\">\n",
      "           <input class=\"models filled-in ch-model-488-subs\" id=\"ch-model-2955\" name=\"model[246][]\" type=\"checkbox\" value=\"2955\"/>\n",
      "           <label for=\"ch-model-2955\">\n",
      "            CLC 230\n",
      "           </label>\n",
      "          </p>\n",
      "          <p class=\"pad-left-24 filter-submodels\">\n",
      "           <input class=\"models filled-in ch-model-488-subs\" id=\"ch-model-2956\" name=\"model[246][]\" type=\"checkbox\" value=\"2956\"/>\n",
      "           <label for=\"ch-model-2956\">\n",
      "            CLC 350\n",
      "           </label>\n",
      "          </p>\n",
      "          <p>\n",
      "           <input class=\"models filled-in submodel\" id=\"ch-model-489\" name=\"model[246][]\" type=\"checkbox\" value=\"489\"/>\n",
      "           <label for=\"ch-model-489\">\n",
      "            CLK-Class\n",
      "           </label>\n",
      "          </p>\n",
      "          <p class=\"pad-left-24 filter-submodels\">\n",
      "           <input class=\"models filled-in ch-model-489-subs\" id=\"ch-model-1963\" name=\"model[246][]\" type=\"checkbox\" value=\"1963\"/>\n",
      "           <label for=\"ch-model-1963\">\n",
      "            CLK 200\n",
      "           </label>\n",
      "          </p>\n",
      "          <p class=\"pad-left-24 filter-submodels\">\n",
      "           <input class=\"models filled-in ch-model-489-subs\" id=\"ch-model-1964\" name=\"model[246][]\" type=\"checkbox\" value=\"1964\"/>\n",
      "           <label for=\"ch-model-1964\">\n",
      "            CLK 220\n",
      "           </label>\n",
      "          </p>\n",
      "          <p class=\"pad-left-24 filter-submodels\">\n",
      "           <input class=\"models filled-in ch-model-489-subs\" id=\"ch-model-1965\" name=\"model[246][]\" type=\"checkbox\" value=\"1965\"/>\n",
      "           <label for=\"ch-model-1965\">\n",
      "            CLK 230\n",
      "           </label>\n",
      "          </p>\n",
      "          <p class=\"pad-left-24 filter-submodels\">\n",
      "           <input class=\"models filled-in ch-model-489-subs\" id=\"ch-model-1966\" name=\"model[246][]\" type=\"checkbox\" value=\"1966\"/>\n",
      "           <label for=\"ch-model-1966\">\n",
      "            CLK 240\n",
      "           </label>\n",
      "          </p>\n",
      "          <p class=\"pad-left-24 filter-submodels\">\n",
      "           <input class=\"models filled-in ch-model-489-subs\" id=\"ch-model-1967\" name=\"model[246][]\" type=\"checkbox\" value=\"1967\"/>\n",
      "           <label for=\"ch-model-1967\">\n",
      "            CLK 270\n",
      "           </label>\n",
      "          </p>\n",
      "          <p class=\"pad-left-24 filter-submodels\">\n",
      "           <input class=\"models filled-in ch-model-489-subs\" id=\"ch-model-1968\" name=\"model[246][]\" type=\"checkbox\" value=\"1968\"/>\n",
      "           <label for=\"ch-model-1968\">\n",
      "            CLK 280\n",
      "           </label>\n",
      "          </p>\n",
      "          <p class=\"pad-left-24 filter-submodels\">\n",
      "           <input class=\"models filled-in ch-model-489-subs\" id=\"ch-model-2877\" name=\"model[246][]\" type=\"checkbox\" value=\"2877\"/>\n",
      "           <label for=\"ch-model-2877\">\n",
      "            CLK 320\n",
      "           </label>\n",
      "          </p>\n",
      "          <p class=\"pad-left-24 filter-submodels\">\n",
      "           <input class=\"models filled-in ch-model-489-subs\" id=\"ch-model-1969\" name=\"model[246][]\" type=\"checkbox\" value=\"1969\"/>\n",
      "           <label for=\"ch-model-1969\">\n",
      "            CLK 350\n",
      "           </label>\n",
      "          </p>\n",
      "          <p class=\"pad-left-24 filter-submodels\">\n",
      "           <input class=\"models filled-in ch-model-489-subs\" id=\"ch-model-1970\" name=\"model[246][]\" type=\"checkbox\" value=\"1970\"/>\n",
      "           <label for=\"ch-model-1970\">\n",
      "            CLK 430\n",
      "           </label>\n",
      "          </p>\n",
      "          <p class=\"pad-left-24 filter-submodels\">\n",
      "           <input class=\"models filled-in ch-model-489-subs\" id=\"ch-model-1971\" name=\"model[246][]\" type=\"checkbox\" value=\"1971\"/>\n",
      "           <label for=\"ch-model-1971\">\n",
      "            CLK 500\n",
      "           </label>\n",
      "          </p>\n",
      "          <p class=\"pad-left-24 filter-submodels\">\n",
      "           <input class=\"models filled-in ch-model-489-subs\" id=\"ch-model-1961\" name=\"model[246][]\" type=\"checkbox\" value=\"1961\"/>\n",
      "           <label for=\"ch-model-1961\">\n",
      "            CLK 55 AMG\n",
      "           </label>\n",
      "          </p>\n",
      "          <p class=\"pad-left-24 filter-submodels\">\n",
      "           <input class=\"models filled-in ch-model-489-subs\" id=\"ch-model-1962\" name=\"model[246][]\" type=\"checkbox\" value=\"1962\"/>\n",
      "           <label for=\"ch-model-1962\">\n",
      "            CLK 65 AMG\n",
      "           </label>\n",
      "          </p>\n",
      "          <p>\n",
      "           <input class=\"models filled-in submodel\" id=\"ch-model-490\" name=\"model[246][]\" type=\"checkbox\" value=\"490\"/>\n",
      "           <label for=\"ch-model-490\">\n",
      "            CLS-Class\n",
      "           </label>\n",
      "          </p>\n",
      "          <p class=\"pad-left-24 filter-submodels\">\n",
      "           <input class=\"models filled-in ch-model-490-subs\" id=\"ch-model-4043\" name=\"model[246][]\" type=\"checkbox\" value=\"4043\"/>\n",
      "           <label for=\"ch-model-4043\">\n",
      "            CLS 220\n",
      "           </label>\n",
      "          </p>\n",
      "          <p class=\"pad-left-24 filter-submodels\">\n",
      "           <input class=\"models filled-in ch-model-490-subs\" id=\"ch-model-4044\" name=\"model[246][]\" type=\"checkbox\" value=\"4044\"/>\n",
      "           <label for=\"ch-model-4044\">\n",
      "            CLS 250\n",
      "           </label>\n",
      "          </p>\n",
      "          <p class=\"pad-left-24 filter-submodels\">\n",
      "           <input class=\"models filled-in ch-model-490-subs\" id=\"ch-model-2957\" name=\"model[246][]\" type=\"checkbox\" value=\"2957\"/>\n",
      "           <label for=\"ch-model-2957\">\n",
      "            CLS 280\n",
      "           </label>\n",
      "          </p>\n",
      "          <p class=\"pad-left-24 filter-submodels\">\n",
      "           <input class=\"models filled-in ch-model-490-subs\" id=\"ch-model-4045\" name=\"model[246][]\" type=\"checkbox\" value=\"4045\"/>\n",
      "           <label for=\"ch-model-4045\">\n",
      "            CLS 300\n",
      "           </label>\n",
      "          </p>\n",
      "          <p class=\"pad-left-24 filter-submodels\">\n",
      "           <input class=\"models filled-in ch-model-490-subs\" id=\"ch-model-1974\" name=\"model[246][]\" type=\"checkbox\" value=\"1974\"/>\n",
      "           <label for=\"ch-model-1974\">\n",
      "            CLS 320\n",
      "           </label>\n",
      "          </p>\n",
      "          <p class=\"pad-left-24 filter-submodels\">\n",
      "           <input class=\"models filled-in ch-model-490-subs\" id=\"ch-model-1975\" name=\"model[246][]\" type=\"checkbox\" value=\"1975\"/>\n",
      "           <label for=\"ch-model-1975\">\n",
      "            CLS 350\n",
      "           </label>\n",
      "          </p>\n",
      "          <p class=\"pad-left-24 filter-submodels\">\n",
      "           <input class=\"models filled-in ch-model-490-subs\" id=\"ch-model-4046\" name=\"model[246][]\" type=\"checkbox\" value=\"4046\"/>\n",
      "           <label for=\"ch-model-4046\">\n",
      "            CLS 400\n",
      "           </label>\n",
      "          </p>\n",
      "          <p class=\"pad-left-24 filter-submodels\">\n",
      "           <input class=\"models filled-in ch-model-490-subs\" id=\"ch-model-1976\" name=\"model[246][]\" type=\"checkbox\" value=\"1976\"/>\n",
      "           <label for=\"ch-model-1976\">\n",
      "            CLS 500\n",
      "           </label>\n",
      "          </p>\n",
      "          <p class=\"pad-left-24 filter-submodels\">\n",
      "           <input class=\"models filled-in ch-model-490-subs\" id=\"ch-model-1972\" name=\"model[246][]\" type=\"checkbox\" value=\"1972\"/>\n",
      "           <label for=\"ch-model-1972\">\n",
      "            CLS 55 AMG\n",
      "           </label>\n",
      "          </p>\n",
      "          <p class=\"pad-left-24 filter-submodels\">\n",
      "           <input class=\"models filled-in ch-model-490-subs\" id=\"ch-model-3590\" name=\"model[246][]\" type=\"checkbox\" value=\"3590\"/>\n",
      "           <label for=\"ch-model-3590\">\n",
      "            CLS 63 AMG\n",
      "           </label>\n",
      "          </p>\n",
      "          <p>\n",
      "           <input class=\"models filled-in submodel\" id=\"ch-model-3463\" name=\"model[246][]\" type=\"checkbox\" value=\"3463\"/>\n",
      "           <label for=\"ch-model-3463\">\n",
      "            Conecto\n",
      "           </label>\n",
      "          </p>\n",
      "          <p>\n",
      "           <input class=\"models filled-in submodel\" id=\"ch-model-491\" name=\"model[246][]\" type=\"checkbox\" value=\"491\"/>\n",
      "           <label for=\"ch-model-491\">\n",
      "            E-Class\n",
      "           </label>\n",
      "          </p>\n",
      "          <p class=\"pad-left-24 filter-submodels\">\n",
      "           <input class=\"models filled-in ch-model-491-subs\" id=\"ch-model-1982\" name=\"model[246][]\" type=\"checkbox\" value=\"1982\"/>\n",
      "           <label for=\"ch-model-1982\">\n",
      "            E 200\n",
      "           </label>\n",
      "          </p>\n",
      "          <p class=\"pad-left-24 filter-submodels\">\n",
      "           <input class=\"models filled-in ch-model-491-subs\" id=\"ch-model-1983\" name=\"model[246][]\" type=\"checkbox\" value=\"1983\"/>\n",
      "           <label for=\"ch-model-1983\">\n",
      "            E 220\n",
      "           </label>\n",
      "          </p>\n",
      "          <p class=\"pad-left-24 filter-submodels\">\n",
      "           <input class=\"models filled-in ch-model-491-subs\" id=\"ch-model-1984\" name=\"model[246][]\" type=\"checkbox\" value=\"1984\"/>\n",
      "           <label for=\"ch-model-1984\">\n",
      "            E 230\n",
      "           </label>\n",
      "          </p>\n",
      "          <p class=\"pad-left-24 filter-submodels\">\n",
      "           <input class=\"models filled-in ch-model-491-subs\" id=\"ch-model-1985\" name=\"model[246][]\" type=\"checkbox\" value=\"1985\"/>\n",
      "           <label for=\"ch-model-1985\">\n",
      "            E 240\n",
      "           </label>\n",
      "          </p>\n",
      "          <p class=\"pad-left-24 filter-submodels\">\n",
      "           <input class=\"models filled-in ch-model-491-subs\" id=\"ch-model-1986\" name=\"model[246][]\" type=\"checkbox\" value=\"1986\"/>\n",
      "           <label for=\"ch-model-1986\">\n",
      "            E 250\n",
      "           </label>\n",
      "          </p>\n",
      "          <p class=\"pad-left-24 filter-submodels\">\n",
      "           <input class=\"models filled-in ch-model-491-subs\" id=\"ch-model-1987\" name=\"model[246][]\" type=\"checkbox\" value=\"1987\"/>\n",
      "           <label for=\"ch-model-1987\">\n",
      "            E 260\n",
      "           </label>\n",
      "          </p>\n",
      "          <p class=\"pad-left-24 filter-submodels\">\n",
      "           <input class=\"models filled-in ch-model-491-subs\" id=\"ch-model-1988\" name=\"model[246][]\" type=\"checkbox\" value=\"1988\"/>\n",
      "           <label for=\"ch-model-1988\">\n",
      "            E 270\n",
      "           </label>\n",
      "          </p>\n",
      "          <p class=\"pad-left-24 filter-submodels\">\n",
      "           <input class=\"models filled-in ch-model-491-subs\" id=\"ch-model-1989\" name=\"model[246][]\" type=\"checkbox\" value=\"1989\"/>\n",
      "           <label for=\"ch-model-1989\">\n",
      "            E 280\n",
      "           </label>\n",
      "          </p>\n",
      "          <p class=\"pad-left-24 filter-submodels\">\n",
      "           <input class=\"models filled-in ch-model-491-subs\" id=\"ch-model-1990\" name=\"model[246][]\" type=\"checkbox\" value=\"1990\"/>\n",
      "           <label for=\"ch-model-1990\">\n",
      "            E 290\n",
      "           </label>\n",
      "          </p>\n",
      "          <p class=\"pad-left-24 filter-submodels\">\n",
      "           <input class=\"models filled-in ch-model-491-subs\" id=\"ch-model-1991\" name=\"model[246][]\" type=\"checkbox\" value=\"1991\"/>\n",
      "           <label for=\"ch-model-1991\">\n",
      "            E 300\n",
      "           </label>\n",
      "          </p>\n",
      "          <p class=\"pad-left-24 filter-submodels\">\n",
      "           <input class=\"models filled-in ch-model-491-subs\" id=\"ch-model-1992\" name=\"model[246][]\" type=\"checkbox\" value=\"1992\"/>\n",
      "           <label for=\"ch-model-1992\">\n",
      "            E 320\n",
      "           </label>\n",
      "          </p>\n",
      "          <p class=\"pad-left-24 filter-submodels\">\n",
      "           <input class=\"models filled-in ch-model-491-subs\" id=\"ch-model-1993\" name=\"model[246][]\" type=\"checkbox\" value=\"1993\"/>\n",
      "           <label for=\"ch-model-1993\">\n",
      "            E 350\n",
      "           </label>\n",
      "          </p>\n",
      "          <p class=\"pad-left-24 filter-submodels\">\n",
      "           <input class=\"models filled-in ch-model-491-subs\" id=\"ch-model-1977\" name=\"model[246][]\" type=\"checkbox\" value=\"1977\"/>\n",
      "           <label for=\"ch-model-1977\">\n",
      "            E 36 AMG\n",
      "           </label>\n",
      "          </p>\n",
      "          <p class=\"pad-left-24 filter-submodels\">\n",
      "           <input class=\"models filled-in ch-model-491-subs\" id=\"ch-model-1994\" name=\"model[246][]\" type=\"checkbox\" value=\"1994\"/>\n",
      "           <label for=\"ch-model-1994\">\n",
      "            E 380\n",
      "           </label>\n",
      "          </p>\n",
      "          <p class=\"pad-left-24 filter-submodels\">\n",
      "           <input class=\"models filled-in ch-model-491-subs\" id=\"ch-model-1995\" name=\"model[246][]\" type=\"checkbox\" value=\"1995\"/>\n",
      "           <label for=\"ch-model-1995\">\n",
      "            E 400\n",
      "           </label>\n",
      "          </p>\n",
      "          <p class=\"pad-left-24 filter-submodels\">\n",
      "           <input class=\"models filled-in ch-model-491-subs\" id=\"ch-model-1996\" name=\"model[246][]\" type=\"checkbox\" value=\"1996\"/>\n",
      "           <label for=\"ch-model-1996\">\n",
      "            E 416\n",
      "           </label>\n",
      "          </p>\n",
      "          <p class=\"pad-left-24 filter-submodels\">\n",
      "           <input class=\"models filled-in ch-model-491-subs\" id=\"ch-model-1997\" name=\"model[246][]\" type=\"checkbox\" value=\"1997\"/>\n",
      "           <label for=\"ch-model-1997\">\n",
      "            E 420\n",
      "           </label>\n",
      "          </p>\n",
      "          <p class=\"pad-left-24 filter-submodels\">\n",
      "           <input class=\"models filled-in ch-model-491-subs\" id=\"ch-model-4047\" name=\"model[246][]\" type=\"checkbox\" value=\"4047\"/>\n",
      "           <label for=\"ch-model-4047\">\n",
      "            E 43 AMG\n",
      "           </label>\n",
      "          </p>\n",
      "          <p class=\"pad-left-24 filter-submodels\">\n",
      "           <input class=\"models filled-in ch-model-491-subs\" id=\"ch-model-1998\" name=\"model[246][]\" type=\"checkbox\" value=\"1998\"/>\n",
      "           <label for=\"ch-model-1998\">\n",
      "            E 430\n",
      "           </label>\n",
      "          </p>\n",
      "          <p class=\"pad-left-24 filter-submodels\">\n",
      "           <input class=\"models filled-in ch-model-491-subs\" id=\"ch-model-1999\" name=\"model[246][]\" type=\"checkbox\" value=\"1999\"/>\n",
      "           <label for=\"ch-model-1999\">\n",
      "            E 450\n",
      "           </label>\n",
      "          </p>\n",
      "          <p class=\"pad-left-24 filter-submodels\">\n",
      "           <input class=\"models filled-in ch-model-491-subs\" id=\"ch-model-1978\" name=\"model[246][]\" type=\"checkbox\" value=\"1978\"/>\n",
      "           <label for=\"ch-model-1978\">\n",
      "            E 50\n",
      "           </label>\n",
      "          </p>\n",
      "          <p class=\"pad-left-24 filter-submodels\">\n",
      "           <input class=\"models filled-in ch-model-491-subs\" id=\"ch-model-4048\" name=\"model[246][]\" type=\"checkbox\" value=\"4048\"/>\n",
      "           <label for=\"ch-model-4048\">\n",
      "            E 50 AMG\n",
      "           </label>\n",
      "          </p>\n",
      "          <p class=\"pad-left-24 filter-submodels\">\n",
      "           <input class=\"models filled-in ch-model-491-subs\" id=\"ch-model-2000\" name=\"model[246][]\" type=\"checkbox\" value=\"2000\"/>\n",
      "           <label for=\"ch-model-2000\">\n",
      "            E 500\n",
      "           </label>\n",
      "          </p>\n",
      "          <p class=\"pad-left-24 filter-submodels\">\n",
      "           <input class=\"models filled-in ch-model-491-subs\" id=\"ch-model-1979\" name=\"model[246][]\" type=\"checkbox\" value=\"1979\"/>\n",
      "           <label for=\"ch-model-1979\">\n",
      "            E 55\n",
      "           </label>\n",
      "          </p>\n",
      "          <p class=\"pad-left-24 filter-submodels\">\n",
      "           <input class=\"models filled-in ch-model-491-subs\" id=\"ch-model-4049\" name=\"model[246][]\" type=\"checkbox\" value=\"4049\"/>\n",
      "           <label for=\"ch-model-4049\">\n",
      "            E 55 AMG\n",
      "           </label>\n",
      "          </p>\n",
      "          <p class=\"pad-left-24 filter-submodels\">\n",
      "           <input class=\"models filled-in ch-model-491-subs\" id=\"ch-model-2001\" name=\"model[246][]\" type=\"checkbox\" value=\"2001\"/>\n",
      "           <label for=\"ch-model-2001\">\n",
      "            E 560\n",
      "           </label>\n",
      "          </p>\n",
      "          <p class=\"pad-left-24 filter-submodels\">\n",
      "           <input class=\"models filled-in ch-model-491-subs\" id=\"ch-model-1980\" name=\"model[246][]\" type=\"checkbox\" value=\"1980\"/>\n",
      "           <label for=\"ch-model-1980\">\n",
      "            E 60 AMG\n",
      "           </label>\n",
      "          </p>\n",
      "          <p class=\"pad-left-24 filter-submodels\">\n",
      "           <input class=\"models filled-in ch-model-491-subs\" id=\"ch-model-4050\" name=\"model[246][]\" type=\"checkbox\" value=\"4050\"/>\n",
      "           <label for=\"ch-model-4050\">\n",
      "            E 63 AMG\n",
      "           </label>\n",
      "          </p>\n",
      "          <p>\n",
      "           <input class=\"models filled-in submodel\" id=\"ch-model-3687\" name=\"model[246][]\" type=\"checkbox\" value=\"3687\"/>\n",
      "           <label for=\"ch-model-3687\">\n",
      "            E550\n",
      "           </label>\n",
      "          </p>\n",
      "          <p>\n",
      "           <input class=\"models filled-in submodel\" id=\"ch-model-3458\" name=\"model[246][]\" type=\"checkbox\" value=\"3458\"/>\n",
      "           <label for=\"ch-model-3458\">\n",
      "            Econic\n",
      "           </label>\n",
      "          </p>\n",
      "          <p>\n",
      "           <input class=\"models filled-in submodel\" id=\"ch-model-4829\" name=\"model[246][]\" type=\"checkbox\" value=\"4829\"/>\n",
      "           <label for=\"ch-model-4829\">\n",
      "            EQC\n",
      "           </label>\n",
      "          </p>\n",
      "          <p>\n",
      "           <input class=\"models filled-in submodel\" id=\"ch-model-4853\" name=\"model[246][]\" type=\"checkbox\" value=\"4853\"/>\n",
      "           <label for=\"ch-model-4853\">\n",
      "            EQE\n",
      "           </label>\n",
      "          </p>\n",
      "          <p>\n",
      "           <input class=\"models filled-in submodel\" id=\"ch-model-4792\" name=\"model[246][]\" type=\"checkbox\" value=\"4792\"/>\n",
      "           <label for=\"ch-model-4792\">\n",
      "            EQS\n",
      "           </label>\n",
      "          </p>\n",
      "          <p>\n",
      "           <input class=\"models filled-in submodel\" id=\"ch-model-492\" name=\"model[246][]\" type=\"checkbox\" value=\"492\"/>\n",
      "           <label for=\"ch-model-492\">\n",
      "            G-Class\n",
      "           </label>\n",
      "          </p>\n",
      "          <p class=\"pad-left-24 filter-submodels\">\n",
      "           <input class=\"models filled-in ch-model-492-subs\" id=\"ch-model-2003\" name=\"model[246][]\" type=\"checkbox\" value=\"2003\"/>\n",
      "           <label for=\"ch-model-2003\">\n",
      "            G 230\n",
      "           </label>\n",
      "          </p>\n",
      "          <p class=\"pad-left-24 filter-submodels\">\n",
      "           <input class=\"models filled-in ch-model-492-subs\" id=\"ch-model-2004\" name=\"model[246][]\" type=\"checkbox\" value=\"2004\"/>\n",
      "           <label for=\"ch-model-2004\">\n",
      "            G 240\n",
      "           </label>\n",
      "          </p>\n",
      "          <p class=\"pad-left-24 filter-submodels\">\n",
      "           <input class=\"models filled-in ch-model-492-subs\" id=\"ch-model-2005\" name=\"model[246][]\" type=\"checkbox\" value=\"2005\"/>\n",
      "           <label for=\"ch-model-2005\">\n",
      "            G 250\n",
      "           </label>\n",
      "          </p>\n",
      "          <p class=\"pad-left-24 filter-submodels\">\n",
      "           <input class=\"models filled-in ch-model-492-subs\" id=\"ch-model-4051\" name=\"model[246][]\" type=\"checkbox\" value=\"4051\"/>\n",
      "           <label for=\"ch-model-4051\">\n",
      "            G 270\n",
      "           </label>\n",
      "          </p>\n",
      "          <p class=\"pad-left-24 filter-submodels\">\n",
      "           <input class=\"models filled-in ch-model-492-subs\" id=\"ch-model-2006\" name=\"model[246][]\" type=\"checkbox\" value=\"2006\"/>\n",
      "           <label for=\"ch-model-2006\">\n",
      "            G 280\n",
      "           </label>\n",
      "          </p>\n",
      "          <p class=\"pad-left-24 filter-submodels\">\n",
      "           <input class=\"models filled-in ch-model-492-subs\" id=\"ch-model-2007\" name=\"model[246][]\" type=\"checkbox\" value=\"2007\"/>\n",
      "           <label for=\"ch-model-2007\">\n",
      "            G 290\n",
      "           </label>\n",
      "          </p>\n",
      "          <p class=\"pad-left-24 filter-submodels\">\n",
      "           <input class=\"models filled-in ch-model-492-subs\" id=\"ch-model-2008\" name=\"model[246][]\" type=\"checkbox\" value=\"2008\"/>\n",
      "           <label for=\"ch-model-2008\">\n",
      "            G 300\n",
      "           </label>\n",
      "          </p>\n",
      "          <p class=\"pad-left-24 filter-submodels\">\n",
      "           <input class=\"models filled-in ch-model-492-subs\" id=\"ch-model-2009\" name=\"model[246][]\" type=\"checkbox\" value=\"2009\"/>\n",
      "           <label for=\"ch-model-2009\">\n",
      "            G 320\n",
      "           </label>\n",
      "          </p>\n",
      "          <p class=\"pad-left-24 filter-submodels\">\n",
      "           <input class=\"models filled-in ch-model-492-subs\" id=\"ch-model-2010\" name=\"model[246][]\" type=\"checkbox\" value=\"2010\"/>\n",
      "           <label for=\"ch-model-2010\">\n",
      "            G 350\n",
      "           </label>\n",
      "          </p>\n",
      "          <p class=\"pad-left-24 filter-submodels\">\n",
      "           <input class=\"models filled-in ch-model-492-subs\" id=\"ch-model-2011\" name=\"model[246][]\" type=\"checkbox\" value=\"2011\"/>\n",
      "           <label for=\"ch-model-2011\">\n",
      "            G 400\n",
      "           </label>\n",
      "          </p>\n",
      "          <p class=\"pad-left-24 filter-submodels\">\n",
      "           <input class=\"models filled-in ch-model-492-subs\" id=\"ch-model-2012\" name=\"model[246][]\" type=\"checkbox\" value=\"2012\"/>\n",
      "           <label for=\"ch-model-2012\">\n",
      "            G 500\n",
      "           </label>\n",
      "          </p>\n",
      "          <p class=\"pad-left-24 filter-submodels\">\n",
      "           <input class=\"models filled-in ch-model-492-subs\" id=\"ch-model-2002\" name=\"model[246][]\" type=\"checkbox\" value=\"2002\"/>\n",
      "           <label for=\"ch-model-2002\">\n",
      "            G 55 AMG\n",
      "           </label>\n",
      "          </p>\n",
      "          <p class=\"pad-left-24 filter-submodels\">\n",
      "           <input class=\"models filled-in ch-model-492-subs\" id=\"ch-model-2959\" name=\"model[246][]\" type=\"checkbox\" value=\"2959\"/>\n",
      "           <label for=\"ch-model-2959\">\n",
      "            G 550\n",
      "           </label>\n",
      "          </p>\n",
      "          <p class=\"pad-left-24 filter-submodels\">\n",
      "           <input class=\"models filled-in ch-model-492-subs\" id=\"ch-model-3082\" name=\"model[246][]\" type=\"checkbox\" value=\"3082\"/>\n",
      "           <label for=\"ch-model-3082\">\n",
      "            G 63 AMG\n",
      "           </label>\n",
      "          </p>\n",
      "          <p>\n",
      "           <input class=\"models filled-in submodel\" id=\"ch-model-493\" name=\"model[246][]\" type=\"checkbox\" value=\"493\"/>\n",
      "           <label for=\"ch-model-493\">\n",
      "            GL-Class\n",
      "           </label>\n",
      "          </p>\n",
      "          <p class=\"pad-left-24 filter-submodels\">\n",
      "           <input class=\"models filled-in ch-model-493-subs\" id=\"ch-model-2013\" name=\"model[246][]\" type=\"checkbox\" value=\"2013\"/>\n",
      "           <label for=\"ch-model-2013\">\n",
      "            GL 320\n",
      "           </label>\n",
      "          </p>\n",
      "          <p class=\"pad-left-24 filter-submodels\">\n",
      "           <input class=\"models filled-in ch-model-493-subs\" id=\"ch-model-4053\" name=\"model[246][]\" type=\"checkbox\" value=\"4053\"/>\n",
      "           <label for=\"ch-model-4053\">\n",
      "            GL 350\n",
      "           </label>\n",
      "          </p>\n",
      "          <p class=\"pad-left-24 filter-submodels\">\n",
      "           <input class=\"models filled-in ch-model-493-subs\" id=\"ch-model-4054\" name=\"model[246][]\" type=\"checkbox\" value=\"4054\"/>\n",
      "           <label for=\"ch-model-4054\">\n",
      "            GL 400\n",
      "           </label>\n",
      "          </p>\n",
      "          <p class=\"pad-left-24 filter-submodels\">\n",
      "           <input class=\"models filled-in ch-model-493-subs\" id=\"ch-model-2014\" name=\"model[246][]\" type=\"checkbox\" value=\"2014\"/>\n",
      "           <label for=\"ch-model-2014\">\n",
      "            GL 420\n",
      "           </label>\n",
      "          </p>\n",
      "          <p class=\"pad-left-24 filter-submodels\">\n",
      "           <input class=\"models filled-in ch-model-493-subs\" id=\"ch-model-2015\" name=\"model[246][]\" type=\"checkbox\" value=\"2015\"/>\n",
      "           <label for=\"ch-model-2015\">\n",
      "            GL 450\n",
      "           </label>\n",
      "          </p>\n",
      "          <p class=\"pad-left-24 filter-submodels\">\n",
      "           <input class=\"models filled-in ch-model-493-subs\" id=\"ch-model-2016\" name=\"model[246][]\" type=\"checkbox\" value=\"2016\"/>\n",
      "           <label for=\"ch-model-2016\">\n",
      "            GL 500\n",
      "           </label>\n",
      "          </p>\n",
      "          <p class=\"pad-left-24 filter-submodels\">\n",
      "           <input class=\"models filled-in ch-model-493-subs\" id=\"ch-model-4055\" name=\"model[246][]\" type=\"checkbox\" value=\"4055\"/>\n",
      "           <label for=\"ch-model-4055\">\n",
      "            GL 55 AMG\n",
      "           </label>\n",
      "          </p>\n",
      "          <p class=\"pad-left-24 filter-submodels\">\n",
      "           <input class=\"models filled-in ch-model-493-subs\" id=\"ch-model-3058\" name=\"model[246][]\" type=\"checkbox\" value=\"3058\"/>\n",
      "           <label for=\"ch-model-3058\">\n",
      "            GL 550\n",
      "           </label>\n",
      "          </p>\n",
      "          <p class=\"pad-left-24 filter-submodels\">\n",
      "           <input class=\"models filled-in ch-model-493-subs\" id=\"ch-model-4056\" name=\"model[246][]\" type=\"checkbox\" value=\"4056\"/>\n",
      "           <label for=\"ch-model-4056\">\n",
      "            GL 63 AMG\n",
      "           </label>\n",
      "          </p>\n",
      "          <p>\n",
      "           <input class=\"models filled-in submodel\" id=\"ch-model-3739\" name=\"model[246][]\" type=\"checkbox\" value=\"3739\"/>\n",
      "           <label for=\"ch-model-3739\">\n",
      "            GLA-Class\n",
      "           </label>\n",
      "          </p>\n",
      "          <p class=\"pad-left-24 filter-submodels\">\n",
      "           <input class=\"models filled-in ch-model-3739-subs\" id=\"ch-model-4057\" name=\"model[246][]\" type=\"checkbox\" value=\"4057\"/>\n",
      "           <label for=\"ch-model-4057\">\n",
      "            GLA 180\n",
      "           </label>\n",
      "          </p>\n",
      "          <p class=\"pad-left-24 filter-submodels\">\n",
      "           <input class=\"models filled-in ch-model-3739-subs\" id=\"ch-model-4058\" name=\"model[246][]\" type=\"checkbox\" value=\"4058\"/>\n",
      "           <label for=\"ch-model-4058\">\n",
      "            GLA 200\n",
      "           </label>\n",
      "          </p>\n",
      "          <p class=\"pad-left-24 filter-submodels\">\n",
      "           <input class=\"models filled-in ch-model-3739-subs\" id=\"ch-model-4059\" name=\"model[246][]\" type=\"checkbox\" value=\"4059\"/>\n",
      "           <label for=\"ch-model-4059\">\n",
      "            GLA 220\n",
      "           </label>\n",
      "          </p>\n",
      "          <p class=\"pad-left-24 filter-submodels\">\n",
      "           <input class=\"models filled-in ch-model-3739-subs\" id=\"ch-model-4060\" name=\"model[246][]\" type=\"checkbox\" value=\"4060\"/>\n",
      "           <label for=\"ch-model-4060\">\n",
      "            GLA 250\n",
      "           </label>\n",
      "          </p>\n",
      "          <p class=\"pad-left-24 filter-submodels\">\n",
      "           <input class=\"models filled-in ch-model-3739-subs\" id=\"ch-model-4061\" name=\"model[246][]\" type=\"checkbox\" value=\"4061\"/>\n",
      "           <label for=\"ch-model-4061\">\n",
      "            GLA 45 AMG\n",
      "           </label>\n",
      "          </p>\n",
      "          <p>\n",
      "           <input class=\"models filled-in submodel\" id=\"ch-model-4742\" name=\"model[246][]\" type=\"checkbox\" value=\"4742\"/>\n",
      "           <label for=\"ch-model-4742\">\n",
      "            GLB 250\n",
      "           </label>\n",
      "          </p>\n",
      "          <p>\n",
      "           <input class=\"models filled-in submodel\" id=\"ch-model-4062\" name=\"model[246][]\" type=\"checkbox\" value=\"4062\"/>\n",
      "           <label for=\"ch-model-4062\">\n",
      "            GLC-Class\n",
      "           </label>\n",
      "          </p>\n",
      "          <p class=\"pad-left-24 filter-submodels\">\n",
      "           <input class=\"models filled-in ch-model-4062-subs\" id=\"ch-model-4744\" name=\"model[246][]\" type=\"checkbox\" value=\"4744\"/>\n",
      "           <label for=\"ch-model-4744\">\n",
      "           </label>\n",
      "          </p>\n",
      "          <p class=\"pad-left-24 filter-submodels\">\n",
      "           <input class=\"models filled-in ch-model-4062-subs\" id=\"ch-model-4063\" name=\"model[246][]\" type=\"checkbox\" value=\"4063\"/>\n",
      "           <label for=\"ch-model-4063\">\n",
      "            GLC 220\n",
      "           </label>\n",
      "          </p>\n",
      "          <p class=\"pad-left-24 filter-submodels\">\n",
      "           <input class=\"models filled-in ch-model-4062-subs\" id=\"ch-model-4064\" name=\"model[246][]\" type=\"checkbox\" value=\"4064\"/>\n",
      "           <label for=\"ch-model-4064\">\n",
      "            GLC 250\n",
      "           </label>\n",
      "          </p>\n",
      "          <p class=\"pad-left-24 filter-submodels\">\n",
      "           <input class=\"models filled-in ch-model-4062-subs\" id=\"ch-model-4745\" name=\"model[246][]\" type=\"checkbox\" value=\"4745\"/>\n",
      "           <label for=\"ch-model-4745\">\n",
      "            GLC 300\n",
      "           </label>\n",
      "          </p>\n",
      "          <p class=\"pad-left-24 filter-submodels\">\n",
      "           <input class=\"models filled-in ch-model-4062-subs\" id=\"ch-model-4065\" name=\"model[246][]\" type=\"checkbox\" value=\"4065\"/>\n",
      "           <label for=\"ch-model-4065\">\n",
      "            GLC 350\n",
      "           </label>\n",
      "          </p>\n",
      "          <p class=\"pad-left-24 filter-submodels\">\n",
      "           <input class=\"models filled-in ch-model-4062-subs\" id=\"ch-model-4066\" name=\"model[246][]\" type=\"checkbox\" value=\"4066\"/>\n",
      "           <label for=\"ch-model-4066\">\n",
      "            GLC 43 AMG\n",
      "           </label>\n",
      "          </p>\n",
      "          <p>\n",
      "           <input class=\"models filled-in submodel\" id=\"ch-model-3740\" name=\"model[246][]\" type=\"checkbox\" value=\"3740\"/>\n",
      "           <label for=\"ch-model-3740\">\n",
      "            GLE-Class\n",
      "           </label>\n",
      "          </p>\n",
      "          <p class=\"pad-left-24 filter-submodels\">\n",
      "           <input class=\"models filled-in ch-model-3740-subs\" id=\"ch-model-4067\" name=\"model[246][]\" type=\"checkbox\" value=\"4067\"/>\n",
      "           <label for=\"ch-model-4067\">\n",
      "            GLE 250\n",
      "           </label>\n",
      "          </p>\n",
      "          <p class=\"pad-left-24 filter-submodels\">\n",
      "           <input class=\"models filled-in ch-model-3740-subs\" id=\"ch-model-4068\" name=\"model[246][]\" type=\"checkbox\" value=\"4068\"/>\n",
      "           <label for=\"ch-model-4068\">\n",
      "            GLE 350\n",
      "           </label>\n",
      "          </p>\n",
      "          <p class=\"pad-left-24 filter-submodels\">\n",
      "           <input class=\"models filled-in ch-model-3740-subs\" id=\"ch-model-4069\" name=\"model[246][]\" type=\"checkbox\" value=\"4069\"/>\n",
      "           <label for=\"ch-model-4069\">\n",
      "            GLE 400\n",
      "           </label>\n",
      "          </p>\n",
      "          <p class=\"pad-left-24 filter-submodels\">\n",
      "           <input class=\"models filled-in ch-model-3740-subs\" id=\"ch-model-4070\" name=\"model[246][]\" type=\"checkbox\" value=\"4070\"/>\n",
      "           <label for=\"ch-model-4070\">\n",
      "            GLE 43 AMG\n",
      "           </label>\n",
      "          </p>\n",
      "          <p class=\"pad-left-24 filter-submodels\">\n",
      "           <input class=\"models filled-in ch-model-3740-subs\" id=\"ch-model-4071\" name=\"model[246][]\" type=\"checkbox\" value=\"4071\"/>\n",
      "           <label for=\"ch-model-4071\">\n",
      "            GLE 450\n",
      "           </label>\n",
      "          </p>\n",
      "          <p class=\"pad-left-24 filter-submodels\">\n",
      "           <input class=\"models filled-in ch-model-3740-subs\" id=\"ch-model-4072\" name=\"model[246][]\" type=\"checkbox\" value=\"4072\"/>\n",
      "           <label for=\"ch-model-4072\">\n",
      "            GLE 500\n",
      "           </label>\n",
      "          </p>\n",
      "          <p class=\"pad-left-24 filter-submodels\">\n",
      "           <input class=\"models filled-in ch-model-3740-subs\" id=\"ch-model-4790\" name=\"model[246][]\" type=\"checkbox\" value=\"4790\"/>\n",
      "           <label for=\"ch-model-4790\">\n",
      "            GLE 53 AMG\n",
      "           </label>\n",
      "          </p>\n",
      "          <p class=\"pad-left-24 filter-submodels\">\n",
      "           <input class=\"models filled-in ch-model-3740-subs\" id=\"ch-model-4791\" name=\"model[246][]\" type=\"checkbox\" value=\"4791\"/>\n",
      "           <label for=\"ch-model-4791\">\n",
      "            GLE 53 AMG Coupe\n",
      "           </label>\n",
      "          </p>\n",
      "          <p class=\"pad-left-24 filter-submodels\">\n",
      "           <input class=\"models filled-in ch-model-3740-subs\" id=\"ch-model-4073\" name=\"model[246][]\" type=\"checkbox\" value=\"4073\"/>\n",
      "           <label for=\"ch-model-4073\">\n",
      "            GLE 63 AMG\n",
      "           </label>\n",
      "          </p>\n",
      "          <p class=\"pad-left-24 filter-submodels\">\n",
      "           <input class=\"models filled-in ch-model-3740-subs\" id=\"ch-model-4803\" name=\"model[246][]\" type=\"checkbox\" value=\"4803\"/>\n",
      "           <label for=\"ch-model-4803\">\n",
      "            GLE 63 S Coupe\n",
      "           </label>\n",
      "          </p>\n",
      "          <p>\n",
      "           <input class=\"models filled-in submodel\" id=\"ch-model-494\" name=\"model[246][]\" type=\"checkbox\" value=\"494\"/>\n",
      "           <label for=\"ch-model-494\">\n",
      "            GLK-Class\n",
      "           </label>\n",
      "          </p>\n",
      "          <p class=\"pad-left-24 filter-submodels\">\n",
      "           <input class=\"models filled-in ch-model-494-subs\" id=\"ch-model-4074\" name=\"model[246][]\" type=\"checkbox\" value=\"4074\"/>\n",
      "           <label for=\"ch-model-4074\">\n",
      "            GLK 200\n",
      "           </label>\n",
      "          </p>\n",
      "          <p class=\"pad-left-24 filter-submodels\">\n",
      "           <input class=\"models filled-in ch-model-494-subs\" id=\"ch-model-4075\" name=\"model[246][]\" type=\"checkbox\" value=\"4075\"/>\n",
      "           <label for=\"ch-model-4075\">\n",
      "            GLK 220\n",
      "           </label>\n",
      "          </p>\n",
      "          <p class=\"pad-left-24 filter-submodels\">\n",
      "           <input class=\"models filled-in ch-model-494-subs\" id=\"ch-model-4076\" name=\"model[246][]\" type=\"checkbox\" value=\"4076\"/>\n",
      "           <label for=\"ch-model-4076\">\n",
      "            GLK 250\n",
      "           </label>\n",
      "          </p>\n",
      "          <p class=\"pad-left-24 filter-submodels\">\n",
      "           <input class=\"models filled-in ch-model-494-subs\" id=\"ch-model-2949\" name=\"model[246][]\" type=\"checkbox\" value=\"2949\"/>\n",
      "           <label for=\"ch-model-2949\">\n",
      "            GLK 280\n",
      "           </label>\n",
      "          </p>\n",
      "          <p class=\"pad-left-24 filter-submodels\">\n",
      "           <input class=\"models filled-in ch-model-494-subs\" id=\"ch-model-4077\" name=\"model[246][]\" type=\"checkbox\" value=\"4077\"/>\n",
      "           <label for=\"ch-model-4077\">\n",
      "            GLK 300\n",
      "           </label>\n",
      "          </p>\n",
      "          <p class=\"pad-left-24 filter-submodels\">\n",
      "           <input class=\"models filled-in ch-model-494-subs\" id=\"ch-model-4078\" name=\"model[246][]\" type=\"checkbox\" value=\"4078\"/>\n",
      "           <label for=\"ch-model-4078\">\n",
      "            GLK 320\n",
      "           </label>\n",
      "          </p>\n",
      "          <p class=\"pad-left-24 filter-submodels\">\n",
      "           <input class=\"models filled-in ch-model-494-subs\" id=\"ch-model-2950\" name=\"model[246][]\" type=\"checkbox\" value=\"2950\"/>\n",
      "           <label for=\"ch-model-2950\">\n",
      "            GLK 350\n",
      "           </label>\n",
      "          </p>\n",
      "          <p>\n",
      "           <input class=\"models filled-in submodel\" id=\"ch-model-4079\" name=\"model[246][]\" type=\"checkbox\" value=\"4079\"/>\n",
      "           <label for=\"ch-model-4079\">\n",
      "            GLS-Class\n",
      "           </label>\n",
      "          </p>\n",
      "          <p class=\"pad-left-24 filter-submodels\">\n",
      "           <input class=\"models filled-in ch-model-4079-subs\" id=\"ch-model-4080\" name=\"model[246][]\" type=\"checkbox\" value=\"4080\"/>\n",
      "           <label for=\"ch-model-4080\">\n",
      "            GLS 350\n",
      "           </label>\n",
      "          </p>\n",
      "          <p class=\"pad-left-24 filter-submodels\">\n",
      "           <input class=\"models filled-in ch-model-4079-subs\" id=\"ch-model-4081\" name=\"model[246][]\" type=\"checkbox\" value=\"4081\"/>\n",
      "           <label for=\"ch-model-4081\">\n",
      "            GLS 400\n",
      "           </label>\n",
      "          </p>\n",
      "          <p class=\"pad-left-24 filter-submodels\">\n",
      "           <input class=\"models filled-in ch-model-4079-subs\" id=\"ch-model-4082\" name=\"model[246][]\" type=\"checkbox\" value=\"4082\"/>\n",
      "           <label for=\"ch-model-4082\">\n",
      "            GLS 500\n",
      "           </label>\n",
      "          </p>\n",
      "          <p class=\"pad-left-24 filter-submodels\">\n",
      "           <input class=\"models filled-in ch-model-4079-subs\" id=\"ch-model-4784\" name=\"model[246][]\" type=\"checkbox\" value=\"4784\"/>\n",
      "           <label for=\"ch-model-4784\">\n",
      "            GLS 600 Maybach\n",
      "           </label>\n",
      "          </p>\n",
      "          <p class=\"pad-left-24 filter-submodels\">\n",
      "           <input class=\"models filled-in ch-model-4079-subs\" id=\"ch-model-4083\" name=\"model[246][]\" type=\"checkbox\" value=\"4083\"/>\n",
      "           <label for=\"ch-model-4083\">\n",
      "            GLS 63 AMG\n",
      "           </label>\n",
      "          </p>\n",
      "          <p>\n",
      "           <input class=\"models filled-in submodel\" id=\"ch-model-3465\" name=\"model[246][]\" type=\"checkbox\" value=\"3465\"/>\n",
      "           <label for=\"ch-model-3465\">\n",
      "            Integro\n",
      "           </label>\n",
      "          </p>\n",
      "          <p>\n",
      "           <input class=\"models filled-in submodel\" id=\"ch-model-3466\" name=\"model[246][]\" type=\"checkbox\" value=\"3466\"/>\n",
      "           <label for=\"ch-model-3466\">\n",
      "            Intouro\n",
      "           </label>\n",
      "          </p>\n",
      "          <p>\n",
      "           <input class=\"models filled-in submodel\" id=\"ch-model-2071\" name=\"model[246][]\" type=\"checkbox\" value=\"2071\"/>\n",
      "           <label for=\"ch-model-2071\">\n",
      "            MB 100\n",
      "           </label>\n",
      "          </p>\n",
      "          <p>\n",
      "           <input class=\"models filled-in submodel\" id=\"ch-model-495\" name=\"model[246][]\" type=\"checkbox\" value=\"495\"/>\n",
      "           <label for=\"ch-model-495\">\n",
      "            ML-Class\n",
      "           </label>\n",
      "          </p>\n",
      "          <p class=\"pad-left-24 filter-submodels\">\n",
      "           <input class=\"models filled-in ch-model-495-subs\" id=\"ch-model-2019\" name=\"model[246][]\" type=\"checkbox\" value=\"2019\"/>\n",
      "           <label for=\"ch-model-2019\">\n",
      "            ML 230\n",
      "           </label>\n",
      "          </p>\n",
      "          <p class=\"pad-left-24 filter-submodels\">\n",
      "           <input class=\"models filled-in ch-model-495-subs\" id=\"ch-model-4084\" name=\"model[246][]\" type=\"checkbox\" value=\"4084\"/>\n",
      "           <label for=\"ch-model-4084\">\n",
      "            ML 250\n",
      "           </label>\n",
      "          </p>\n",
      "          <p class=\"pad-left-24 filter-submodels\">\n",
      "           <input class=\"models filled-in ch-model-495-subs\" id=\"ch-model-2020\" name=\"model[246][]\" type=\"checkbox\" value=\"2020\"/>\n",
      "           <label for=\"ch-model-2020\">\n",
      "            ML 270\n",
      "           </label>\n",
      "          </p>\n",
      "          <p class=\"pad-left-24 filter-submodels\">\n",
      "           <input class=\"models filled-in ch-model-495-subs\" id=\"ch-model-2021\" name=\"model[246][]\" type=\"checkbox\" value=\"2021\"/>\n",
      "           <label for=\"ch-model-2021\">\n",
      "            ML 280\n",
      "           </label>\n",
      "          </p>\n",
      "          <p class=\"pad-left-24 filter-submodels\">\n",
      "           <input class=\"models filled-in ch-model-495-subs\" id=\"ch-model-4085\" name=\"model[246][]\" type=\"checkbox\" value=\"4085\"/>\n",
      "           <label for=\"ch-model-4085\">\n",
      "            ML 300\n",
      "           </label>\n",
      "          </p>\n",
      "          <p class=\"pad-left-24 filter-submodels\">\n",
      "           <input class=\"models filled-in ch-model-495-subs\" id=\"ch-model-2022\" name=\"model[246][]\" type=\"checkbox\" value=\"2022\"/>\n",
      "           <label for=\"ch-model-2022\">\n",
      "            ML 320\n",
      "           </label>\n",
      "          </p>\n",
      "          <p class=\"pad-left-24 filter-submodels\">\n",
      "           <input class=\"models filled-in ch-model-495-subs\" id=\"ch-model-2023\" name=\"model[246][]\" type=\"checkbox\" value=\"2023\"/>\n",
      "           <label for=\"ch-model-2023\">\n",
      "            ML 350\n",
      "           </label>\n",
      "          </p>\n",
      "          <p class=\"pad-left-24 filter-submodels\">\n",
      "           <input class=\"models filled-in ch-model-495-subs\" id=\"ch-model-2024\" name=\"model[246][]\" type=\"checkbox\" value=\"2024\"/>\n",
      "           <label for=\"ch-model-2024\">\n",
      "            ML 400\n",
      "           </label>\n",
      "          </p>\n",
      "          <p class=\"pad-left-24 filter-submodels\">\n",
      "           <input class=\"models filled-in ch-model-495-subs\" id=\"ch-model-4086\" name=\"model[246][]\" type=\"checkbox\" value=\"4086\"/>\n",
      "           <label for=\"ch-model-4086\">\n",
      "            ML 420\n",
      "           </label>\n",
      "          </p>\n",
      "          <p class=\"pad-left-24 filter-submodels\">\n",
      "           <input class=\"models filled-in ch-model-495-subs\" id=\"ch-model-2025\" name=\"model[246][]\" type=\"checkbox\" value=\"2025\"/>\n",
      "           <label for=\"ch-model-2025\">\n",
      "            ML 430\n",
      "           </label>\n",
      "          </p>\n",
      "          <p class=\"pad-left-24 filter-submodels\">\n",
      "           <input class=\"models filled-in ch-model-495-subs\" id=\"ch-model-4087\" name=\"model[246][]\" type=\"checkbox\" value=\"4087\"/>\n",
      "           <label for=\"ch-model-4087\">\n",
      "            ML 450\n",
      "           </label>\n",
      "          </p>\n",
      "          <p class=\"pad-left-24 filter-submodels\">\n",
      "           <input class=\"models filled-in ch-model-495-subs\" id=\"ch-model-2026\" name=\"model[246][]\" type=\"checkbox\" value=\"2026\"/>\n",
      "           <label for=\"ch-model-2026\">\n",
      "            ML 500\n",
      "           </label>\n",
      "          </p>\n",
      "          <p class=\"pad-left-24 filter-submodels\">\n",
      "           <input class=\"models filled-in ch-model-495-subs\" id=\"ch-model-2017\" name=\"model[246][]\" type=\"checkbox\" value=\"2017\"/>\n",
      "           <label for=\"ch-model-2017\">\n",
      "            ML 55 AMG\n",
      "           </label>\n",
      "          </p>\n",
      "          <p class=\"pad-left-24 filter-submodels\">\n",
      "           <input class=\"models filled-in ch-model-495-subs\" id=\"ch-model-2018\" name=\"model[246][]\" type=\"checkbox\" value=\"2018\"/>\n",
      "           <label for=\"ch-model-2018\">\n",
      "            ML 63 AMG\n",
      "           </label>\n",
      "          </p>\n",
      "          <p>\n",
      "           <input class=\"models filled-in submodel\" id=\"ch-model-496\" name=\"model[246][]\" type=\"checkbox\" value=\"496\"/>\n",
      "           <label for=\"ch-model-496\">\n",
      "            R-Class\n",
      "           </label>\n",
      "          </p>\n",
      "          <p class=\"pad-left-24 filter-submodels\">\n",
      "           <input class=\"models filled-in ch-model-496-subs\" id=\"ch-model-4088\" name=\"model[246][]\" type=\"checkbox\" value=\"4088\"/>\n",
      "           <label for=\"ch-model-4088\">\n",
      "            R 280\n",
      "           </label>\n",
      "          </p>\n",
      "          <p class=\"pad-left-24 filter-submodels\">\n",
      "           <input class=\"models filled-in ch-model-496-subs\" id=\"ch-model-4089\" name=\"model[246][]\" type=\"checkbox\" value=\"4089\"/>\n",
      "           <label for=\"ch-model-4089\">\n",
      "            R 300\n",
      "           </label>\n",
      "          </p>\n",
      "          <p class=\"pad-left-24 filter-submodels\">\n",
      "           <input class=\"models filled-in ch-model-496-subs\" id=\"ch-model-2027\" name=\"model[246][]\" type=\"checkbox\" value=\"2027\"/>\n",
      "           <label for=\"ch-model-2027\">\n",
      "            R 320\n",
      "           </label>\n",
      "          </p>\n",
      "          <p class=\"pad-left-24 filter-submodels\">\n",
      "           <input class=\"models filled-in ch-model-496-subs\" id=\"ch-model-2028\" name=\"model[246][]\" type=\"checkbox\" value=\"2028\"/>\n",
      "           <label for=\"ch-model-2028\">\n",
      "            R 350\n",
      "           </label>\n",
      "          </p>\n",
      "          <p class=\"pad-left-24 filter-submodels\">\n",
      "           <input class=\"models filled-in ch-model-496-subs\" id=\"ch-model-2029\" name=\"model[246][]\" type=\"checkbox\" value=\"2029\"/>\n",
      "           <label for=\"ch-model-2029\">\n",
      "            R 500\n",
      "           </label>\n",
      "          </p>\n",
      "          <p class=\"pad-left-24 filter-submodels\">\n",
      "           <input class=\"models filled-in ch-model-496-subs\" id=\"ch-model-4090\" name=\"model[246][]\" type=\"checkbox\" value=\"4090\"/>\n",
      "           <label for=\"ch-model-4090\">\n",
      "            R 63 AMG\n",
      "           </label>\n",
      "          </p>\n",
      "          <p>\n",
      "           <input class=\"models filled-in submodel\" id=\"ch-model-497\" name=\"model[246][]\" type=\"checkbox\" value=\"497\"/>\n",
      "           <label for=\"ch-model-497\">\n",
      "            S-Class\n",
      "           </label>\n",
      "          </p>\n",
      "          <p class=\"pad-left-24 filter-submodels\">\n",
      "           <input class=\"models filled-in ch-model-497-subs\" id=\"ch-model-4091\" name=\"model[246][]\" type=\"checkbox\" value=\"4091\"/>\n",
      "           <label for=\"ch-model-4091\">\n",
      "            S 250\n",
      "           </label>\n",
      "          </p>\n",
      "          <p class=\"pad-left-24 filter-submodels\">\n",
      "           <input class=\"models filled-in ch-model-497-subs\" id=\"ch-model-2032\" name=\"model[246][]\" type=\"checkbox\" value=\"2032\"/>\n",
      "           <label for=\"ch-model-2032\">\n",
      "            S 260\n",
      "           </label>\n",
      "          </p>\n",
      "          <p class=\"pad-left-24 filter-submodels\">\n",
      "           <input class=\"models filled-in ch-model-497-subs\" id=\"ch-model-2033\" name=\"model[246][]\" type=\"checkbox\" value=\"2033\"/>\n",
      "           <label for=\"ch-model-2033\">\n",
      "            S 280\n",
      "           </label>\n",
      "          </p>\n",
      "          <p class=\"pad-left-24 filter-submodels\">\n",
      "           <input class=\"models filled-in ch-model-497-subs\" id=\"ch-model-2034\" name=\"model[246][]\" type=\"checkbox\" value=\"2034\"/>\n",
      "           <label for=\"ch-model-2034\">\n",
      "            S 300\n",
      "           </label>\n",
      "          </p>\n",
      "          <p class=\"pad-left-24 filter-submodels\">\n",
      "           <input class=\"models filled-in ch-model-497-subs\" id=\"ch-model-2035\" name=\"model[246][]\" type=\"checkbox\" value=\"2035\"/>\n",
      "           <label for=\"ch-model-2035\">\n",
      "            S 320\n",
      "           </label>\n",
      "          </p>\n",
      "          <p class=\"pad-left-24 filter-submodels\">\n",
      "           <input class=\"models filled-in ch-model-497-subs\" id=\"ch-model-2951\" name=\"model[246][]\" type=\"checkbox\" value=\"2951\"/>\n",
      "           <label for=\"ch-model-2951\">\n",
      "            S 350\n",
      "           </label>\n",
      "          </p>\n",
      "          <p class=\"pad-left-24 filter-submodels\">\n",
      "           <input class=\"models filled-in ch-model-497-subs\" id=\"ch-model-2036\" name=\"model[246][]\" type=\"checkbox\" value=\"2036\"/>\n",
      "           <label for=\"ch-model-2036\">\n",
      "            S 400\n",
      "           </label>\n",
      "          </p>\n",
      "          <p class=\"pad-left-24 filter-submodels\">\n",
      "           <input class=\"models filled-in ch-model-497-subs\" id=\"ch-model-2037\" name=\"model[246][]\" type=\"checkbox\" value=\"2037\"/>\n",
      "           <label for=\"ch-model-2037\">\n",
      "            S 420\n",
      "           </label>\n",
      "          </p>\n",
      "          <p class=\"pad-left-24 filter-submodels\">\n",
      "           <input class=\"models filled-in ch-model-497-subs\" id=\"ch-model-2038\" name=\"model[246][]\" type=\"checkbox\" value=\"2038\"/>\n",
      "           <label for=\"ch-model-2038\">\n",
      "            S 430\n",
      "           </label>\n",
      "          </p>\n",
      "          <p class=\"pad-left-24 filter-submodels\">\n",
      "           <input class=\"models filled-in ch-model-497-subs\" id=\"ch-model-2952\" name=\"model[246][]\" type=\"checkbox\" value=\"2952\"/>\n",
      "           <label for=\"ch-model-2952\">\n",
      "            S 450\n",
      "           </label>\n",
      "          </p>\n",
      "          <p class=\"pad-left-24 filter-submodels\">\n",
      "           <input class=\"models filled-in ch-model-497-subs\" id=\"ch-model-2039\" name=\"model[246][]\" type=\"checkbox\" value=\"2039\"/>\n",
      "           <label for=\"ch-model-2039\">\n",
      "            S 500\n",
      "           </label>\n",
      "          </p>\n",
      "          <p class=\"pad-left-24 filter-submodels\">\n",
      "           <input class=\"models filled-in ch-model-497-subs\" id=\"ch-model-3598\" name=\"model[246][]\" type=\"checkbox\" value=\"3598\"/>\n",
      "           <label for=\"ch-model-3598\">\n",
      "            S 500 Coupe\n",
      "           </label>\n",
      "          </p>\n",
      "          <p class=\"pad-left-24 filter-submodels\">\n",
      "           <input class=\"models filled-in ch-model-497-subs\" id=\"ch-model-2030\" name=\"model[246][]\" type=\"checkbox\" value=\"2030\"/>\n",
      "           <label for=\"ch-model-2030\">\n",
      "            S 55  AMG\n",
      "           </label>\n",
      "          </p>\n",
      "          <p class=\"pad-left-24 filter-submodels\">\n",
      "           <input class=\"models filled-in ch-model-497-subs\" id=\"ch-model-2809\" name=\"model[246][]\" type=\"checkbox\" value=\"2809\"/>\n",
      "           <label for=\"ch-model-2809\">\n",
      "            S 550\n",
      "           </label>\n",
      "          </p>\n",
      "          <p class=\"pad-left-24 filter-submodels\">\n",
      "           <input class=\"models filled-in ch-model-497-subs\" id=\"ch-model-2040\" name=\"model[246][]\" type=\"checkbox\" value=\"2040\"/>\n",
      "           <label for=\"ch-model-2040\">\n",
      "            S 560\n",
      "           </label>\n",
      "          </p>\n",
      "          <p class=\"pad-left-24 filter-submodels\">\n",
      "           <input class=\"models filled-in ch-model-497-subs\" id=\"ch-model-4788\" name=\"model[246][]\" type=\"checkbox\" value=\"4788\"/>\n",
      "           <label for=\"ch-model-4788\">\n",
      "            S 580\n",
      "           </label>\n",
      "          </p>\n",
      "          <p class=\"pad-left-24 filter-submodels\">\n",
      "           <input class=\"models filled-in ch-model-497-subs\" id=\"ch-model-2041\" name=\"model[246][]\" type=\"checkbox\" value=\"2041\"/>\n",
      "           <label for=\"ch-model-2041\">\n",
      "            S 600\n",
      "           </label>\n",
      "          </p>\n",
      "          <p class=\"pad-left-24 filter-submodels\">\n",
      "           <input class=\"models filled-in ch-model-497-subs\" id=\"ch-model-3599\" name=\"model[246][]\" type=\"checkbox\" value=\"3599\"/>\n",
      "           <label for=\"ch-model-3599\">\n",
      "            S 600 Coupe\n",
      "           </label>\n",
      "          </p>\n",
      "          <p class=\"pad-left-24 filter-submodels\">\n",
      "           <input class=\"models filled-in ch-model-497-subs\" id=\"ch-model-3587\" name=\"model[246][]\" type=\"checkbox\" value=\"3587\"/>\n",
      "           <label for=\"ch-model-3587\">\n",
      "            S 63 AMG\n",
      "           </label>\n",
      "          </p>\n",
      "          <p class=\"pad-left-24 filter-submodels\">\n",
      "           <input class=\"models filled-in ch-model-497-subs\" id=\"ch-model-3600\" name=\"model[246][]\" type=\"checkbox\" value=\"3600\"/>\n",
      "           <label for=\"ch-model-3600\">\n",
      "            S 63 AMG Coupe\n",
      "           </label>\n",
      "          </p>\n",
      "          <p class=\"pad-left-24 filter-submodels\">\n",
      "           <input class=\"models filled-in ch-model-497-subs\" id=\"ch-model-2031\" name=\"model[246][]\" type=\"checkbox\" value=\"2031\"/>\n",
      "           <label for=\"ch-model-2031\">\n",
      "            S 65 AMG\n",
      "           </label>\n",
      "          </p>\n",
      "          <p class=\"pad-left-24 filter-submodels\">\n",
      "           <input class=\"models filled-in ch-model-497-subs\" id=\"ch-model-3601\" name=\"model[246][]\" type=\"checkbox\" value=\"3601\"/>\n",
      "           <label for=\"ch-model-3601\">\n",
      "            S 65 AMG Coupe\n",
      "           </label>\n",
      "          </p>\n",
      "          <p class=\"pad-left-24 filter-submodels\">\n",
      "           <input class=\"models filled-in ch-model-497-subs\" id=\"ch-model-2052\" name=\"model[246][]\" type=\"checkbox\" value=\"2052\"/>\n",
      "           <label for=\"ch-model-2052\">\n",
      "            SL 420\n",
      "           </label>\n",
      "          </p>\n",
      "          <p>\n",
      "           <input class=\"models filled-in submodel\" id=\"ch-model-498\" name=\"model[246][]\" type=\"checkbox\" value=\"498\"/>\n",
      "           <label for=\"ch-model-498\">\n",
      "            SL-Class\n",
      "           </label>\n",
      "          </p>\n",
      "          <p class=\"pad-left-24 filter-submodels\">\n",
      "           <input class=\"models filled-in ch-model-498-subs\" id=\"ch-model-4092\" name=\"model[246][]\" type=\"checkbox\" value=\"4092\"/>\n",
      "           <label for=\"ch-model-4092\">\n",
      "            SL 230\n",
      "           </label>\n",
      "          </p>\n",
      "          <p class=\"pad-left-24 filter-submodels\">\n",
      "           <input class=\"models filled-in ch-model-498-subs\" id=\"ch-model-4093\" name=\"model[246][]\" type=\"checkbox\" value=\"4093\"/>\n",
      "           <label for=\"ch-model-4093\">\n",
      "            SL 250\n",
      "           </label>\n",
      "          </p>\n",
      "          <p class=\"pad-left-24 filter-submodels\">\n",
      "           <input class=\"models filled-in ch-model-498-subs\" id=\"ch-model-2047\" name=\"model[246][]\" type=\"checkbox\" value=\"2047\"/>\n",
      "           <label for=\"ch-model-2047\">\n",
      "            SL 280\n",
      "           </label>\n",
      "          </p>\n",
      "          <p class=\"pad-left-24 filter-submodels\">\n",
      "           <input class=\"models filled-in ch-model-498-subs\" id=\"ch-model-2048\" name=\"model[246][]\" type=\"checkbox\" value=\"2048\"/>\n",
      "           <label for=\"ch-model-2048\">\n",
      "            SL 300\n",
      "           </label>\n",
      "          </p>\n",
      "          <p class=\"pad-left-24 filter-submodels\">\n",
      "           <input class=\"models filled-in ch-model-498-subs\" id=\"ch-model-2049\" name=\"model[246][]\" type=\"checkbox\" value=\"2049\"/>\n",
      "           <label for=\"ch-model-2049\">\n",
      "            SL 320\n",
      "           </label>\n",
      "          </p>\n",
      "          <p class=\"pad-left-24 filter-submodels\">\n",
      "           <input class=\"models filled-in ch-model-498-subs\" id=\"ch-model-2050\" name=\"model[246][]\" type=\"checkbox\" value=\"2050\"/>\n",
      "           <label for=\"ch-model-2050\">\n",
      "            SL 350\n",
      "           </label>\n",
      "          </p>\n",
      "          <p class=\"pad-left-24 filter-submodels\">\n",
      "           <input class=\"models filled-in ch-model-498-subs\" id=\"ch-model-2051\" name=\"model[246][]\" type=\"checkbox\" value=\"2051\"/>\n",
      "           <label for=\"ch-model-2051\">\n",
      "            SL 380\n",
      "           </label>\n",
      "          </p>\n",
      "          <p class=\"pad-left-24 filter-submodels\">\n",
      "           <input class=\"models filled-in ch-model-498-subs\" id=\"ch-model-4094\" name=\"model[246][]\" type=\"checkbox\" value=\"4094\"/>\n",
      "           <label for=\"ch-model-4094\">\n",
      "            SL 400\n",
      "           </label>\n",
      "          </p>\n",
      "          <p class=\"pad-left-24 filter-submodels\">\n",
      "           <input class=\"models filled-in ch-model-498-subs\" id=\"ch-model-4095\" name=\"model[246][]\" type=\"checkbox\" value=\"4095\"/>\n",
      "           <label for=\"ch-model-4095\">\n",
      "            SL 420\n",
      "           </label>\n",
      "          </p>\n",
      "          <p class=\"pad-left-24 filter-submodels\">\n",
      "           <input class=\"models filled-in ch-model-498-subs\" id=\"ch-model-2053\" name=\"model[246][]\" type=\"checkbox\" value=\"2053\"/>\n",
      "           <label for=\"ch-model-2053\">\n",
      "            SL 450\n",
      "           </label>\n",
      "          </p>\n",
      "          <p class=\"pad-left-24 filter-submodels\">\n",
      "           <input class=\"models filled-in ch-model-498-subs\" id=\"ch-model-2054\" name=\"model[246][]\" type=\"checkbox\" value=\"2054\"/>\n",
      "           <label for=\"ch-model-2054\">\n",
      "            SL 500\n",
      "           </label>\n",
      "          </p>\n",
      "          <p class=\"pad-left-24 filter-submodels\">\n",
      "           <input class=\"models filled-in ch-model-498-subs\" id=\"ch-model-2042\" name=\"model[246][]\" type=\"checkbox\" value=\"2042\"/>\n",
      "           <label for=\"ch-model-2042\">\n",
      "            SL 55 AMG\n",
      "           </label>\n",
      "          </p>\n",
      "          <p class=\"pad-left-24 filter-submodels\">\n",
      "           <input class=\"models filled-in ch-model-498-subs\" id=\"ch-model-4096\" name=\"model[246][]\" type=\"checkbox\" value=\"4096\"/>\n",
      "           <label for=\"ch-model-4096\">\n",
      "            SL 560\n",
      "           </label>\n",
      "          </p>\n",
      "          <p class=\"pad-left-24 filter-submodels\">\n",
      "           <input class=\"models filled-in ch-model-498-subs\" id=\"ch-model-2043\" name=\"model[246][]\" type=\"checkbox\" value=\"2043\"/>\n",
      "           <label for=\"ch-model-2043\">\n",
      "            SL 60 AMG\n",
      "           </label>\n",
      "          </p>\n",
      "          <p class=\"pad-left-24 filter-submodels\">\n",
      "           <input class=\"models filled-in ch-model-498-subs\" id=\"ch-model-2055\" name=\"model[246][]\" type=\"checkbox\" value=\"2055\"/>\n",
      "           <label for=\"ch-model-2055\">\n",
      "            SL 600\n",
      "           </label>\n",
      "          </p>\n",
      "          <p class=\"pad-left-24 filter-submodels\">\n",
      "           <input class=\"models filled-in ch-model-498-subs\" id=\"ch-model-4097\" name=\"model[246][]\" type=\"checkbox\" value=\"4097\"/>\n",
      "           <label for=\"ch-model-4097\">\n",
      "            SL 63 AMG\n",
      "           </label>\n",
      "          </p>\n",
      "          <p class=\"pad-left-24 filter-submodels\">\n",
      "           <input class=\"models filled-in ch-model-498-subs\" id=\"ch-model-2044\" name=\"model[246][]\" type=\"checkbox\" value=\"2044\"/>\n",
      "           <label for=\"ch-model-2044\">\n",
      "            SL 65 AMG\n",
      "           </label>\n",
      "          </p>\n",
      "          <p class=\"pad-left-24 filter-submodels\">\n",
      "           <input class=\"models filled-in ch-model-498-subs\" id=\"ch-model-2045\" name=\"model[246][]\" type=\"checkbox\" value=\"2045\"/>\n",
      "           <label for=\"ch-model-2045\">\n",
      "            SL 70 AMG\n",
      "           </label>\n",
      "          </p>\n",
      "          <p class=\"pad-left-24 filter-submodels\">\n",
      "           <input class=\"models filled-in ch-model-498-subs\" id=\"ch-model-2046\" name=\"model[246][]\" type=\"checkbox\" value=\"2046\"/>\n",
      "           <label for=\"ch-model-2046\">\n",
      "            SL 73 AMG\n",
      "           </label>\n",
      "          </p>\n",
      "          <p>\n",
      "           <input class=\"models filled-in submodel\" id=\"ch-model-4098\" name=\"model[246][]\" type=\"checkbox\" value=\"4098\"/>\n",
      "           <label for=\"ch-model-4098\">\n",
      "            SLC-Class\n",
      "           </label>\n",
      "          </p>\n",
      "          <p class=\"pad-left-24 filter-submodels\">\n",
      "           <input class=\"models filled-in ch-model-4098-subs\" id=\"ch-model-4099\" name=\"model[246][]\" type=\"checkbox\" value=\"4099\"/>\n",
      "           <label for=\"ch-model-4099\">\n",
      "            SLC 180\n",
      "           </label>\n",
      "          </p>\n",
      "          <p class=\"pad-left-24 filter-submodels\">\n",
      "           <input class=\"models filled-in ch-model-4098-subs\" id=\"ch-model-4100\" name=\"model[246][]\" type=\"checkbox\" value=\"4100\"/>\n",
      "           <label for=\"ch-model-4100\">\n",
      "            SLC 200\n",
      "           </label>\n",
      "          </p>\n",
      "          <p class=\"pad-left-24 filter-submodels\">\n",
      "           <input class=\"models filled-in ch-model-4098-subs\" id=\"ch-model-4101\" name=\"model[246][]\" type=\"checkbox\" value=\"4101\"/>\n",
      "           <label for=\"ch-model-4101\">\n",
      "            SLC 250\n",
      "           </label>\n",
      "          </p>\n",
      "          <p class=\"pad-left-24 filter-submodels\">\n",
      "           <input class=\"models filled-in ch-model-4098-subs\" id=\"ch-model-4102\" name=\"model[246][]\" type=\"checkbox\" value=\"4102\"/>\n",
      "           <label for=\"ch-model-4102\">\n",
      "            SLC 300\n",
      "           </label>\n",
      "          </p>\n",
      "          <p class=\"pad-left-24 filter-submodels\">\n",
      "           <input class=\"models filled-in ch-model-4098-subs\" id=\"ch-model-4103\" name=\"model[246][]\" type=\"checkbox\" value=\"4103\"/>\n",
      "           <label for=\"ch-model-4103\">\n",
      "            SLC 43 AMG\n",
      "           </label>\n",
      "          </p>\n",
      "          <p>\n",
      "           <input class=\"models filled-in submodel\" id=\"ch-model-499\" name=\"model[246][]\" type=\"checkbox\" value=\"499\"/>\n",
      "           <label for=\"ch-model-499\">\n",
      "            SLK-Class\n",
      "           </label>\n",
      "          </p>\n",
      "          <p class=\"pad-left-24 filter-submodels\">\n",
      "           <input class=\"models filled-in ch-model-499-subs\" id=\"ch-model-2058\" name=\"model[246][]\" type=\"checkbox\" value=\"2058\"/>\n",
      "           <label for=\"ch-model-2058\">\n",
      "            SLK 200\n",
      "           </label>\n",
      "          </p>\n",
      "          <p class=\"pad-left-24 filter-submodels\">\n",
      "           <input class=\"models filled-in ch-model-499-subs\" id=\"ch-model-2059\" name=\"model[246][]\" type=\"checkbox\" value=\"2059\"/>\n",
      "           <label for=\"ch-model-2059\">\n",
      "            SLK 230\n",
      "           </label>\n",
      "          </p>\n",
      "          <p class=\"pad-left-24 filter-submodels\">\n",
      "           <input class=\"models filled-in ch-model-499-subs\" id=\"ch-model-4104\" name=\"model[246][]\" type=\"checkbox\" value=\"4104\"/>\n",
      "           <label for=\"ch-model-4104\">\n",
      "            SLK 250\n",
      "           </label>\n",
      "          </p>\n",
      "          <p class=\"pad-left-24 filter-submodels\">\n",
      "           <input class=\"models filled-in ch-model-499-subs\" id=\"ch-model-2060\" name=\"model[246][]\" type=\"checkbox\" value=\"2060\"/>\n",
      "           <label for=\"ch-model-2060\">\n",
      "            SLK 280\n",
      "           </label>\n",
      "          </p>\n",
      "          <p class=\"pad-left-24 filter-submodels\">\n",
      "           <input class=\"models filled-in ch-model-499-subs\" id=\"ch-model-4105\" name=\"model[246][]\" type=\"checkbox\" value=\"4105\"/>\n",
      "           <label for=\"ch-model-4105\">\n",
      "            SLK 300\n",
      "           </label>\n",
      "          </p>\n",
      "          <p class=\"pad-left-24 filter-submodels\">\n",
      "           <input class=\"models filled-in ch-model-499-subs\" id=\"ch-model-2056\" name=\"model[246][]\" type=\"checkbox\" value=\"2056\"/>\n",
      "           <label for=\"ch-model-2056\">\n",
      "            SLK 32 AMG\n",
      "           </label>\n",
      "          </p>\n",
      "          <p class=\"pad-left-24 filter-submodels\">\n",
      "           <input class=\"models filled-in ch-model-499-subs\" id=\"ch-model-2061\" name=\"model[246][]\" type=\"checkbox\" value=\"2061\"/>\n",
      "           <label for=\"ch-model-2061\">\n",
      "            SLK 320\n",
      "           </label>\n",
      "          </p>\n",
      "          <p class=\"pad-left-24 filter-submodels\">\n",
      "           <input class=\"models filled-in ch-model-499-subs\" id=\"ch-model-2062\" name=\"model[246][]\" type=\"checkbox\" value=\"2062\"/>\n",
      "           <label for=\"ch-model-2062\">\n",
      "            SLK 350\n",
      "           </label>\n",
      "          </p>\n",
      "          <p class=\"pad-left-24 filter-submodels\">\n",
      "           <input class=\"models filled-in ch-model-499-subs\" id=\"ch-model-2057\" name=\"model[246][]\" type=\"checkbox\" value=\"2057\"/>\n",
      "           <label for=\"ch-model-2057\">\n",
      "            SLK 55 AMG\n",
      "           </label>\n",
      "          </p>\n",
      "          <p>\n",
      "           <input class=\"models filled-in submodel\" id=\"ch-model-2073\" name=\"model[246][]\" type=\"checkbox\" value=\"2073\"/>\n",
      "           <label for=\"ch-model-2073\">\n",
      "            SLR McLaren\n",
      "           </label>\n",
      "          </p>\n",
      "          <p>\n",
      "           <input class=\"models filled-in submodel\" id=\"ch-model-2873\" name=\"model[246][]\" type=\"checkbox\" value=\"2873\"/>\n",
      "           <label for=\"ch-model-2873\">\n",
      "            Smart\n",
      "           </label>\n",
      "          </p>\n",
      "          <p>\n",
      "           <input class=\"models filled-in submodel\" id=\"ch-model-2072\" name=\"model[246][]\" type=\"checkbox\" value=\"2072\"/>\n",
      "           <label for=\"ch-model-2072\">\n",
      "            Sprinter\n",
      "           </label>\n",
      "          </p>\n",
      "          <p>\n",
      "           <input class=\"models filled-in submodel\" id=\"ch-model-3469\" name=\"model[246][]\" type=\"checkbox\" value=\"3469\"/>\n",
      "           <label for=\"ch-model-3469\">\n",
      "            Tourino\n",
      "           </label>\n",
      "          </p>\n",
      "          <p>\n",
      "           <input class=\"models filled-in submodel\" id=\"ch-model-3452\" name=\"model[246][]\" type=\"checkbox\" value=\"3452\"/>\n",
      "           <label for=\"ch-model-3452\">\n",
      "            Transporter\n",
      "           </label>\n",
      "          </p>\n",
      "          <p>\n",
      "           <input class=\"models filled-in submodel\" id=\"ch-model-3468\" name=\"model[246][]\" type=\"checkbox\" value=\"3468\"/>\n",
      "           <label for=\"ch-model-3468\">\n",
      "            Travego\n",
      "           </label>\n",
      "          </p>\n",
      "          <p>\n",
      "           <input class=\"models filled-in submodel\" id=\"ch-model-3467\" name=\"model[246][]\" type=\"checkbox\" value=\"3467\"/>\n",
      "           <label for=\"ch-model-3467\">\n",
      "            Turismo\n",
      "           </label>\n",
      "          </p>\n",
      "          <p>\n",
      "           <input class=\"models filled-in submodel\" id=\"ch-model-3460\" name=\"model[246][]\" type=\"checkbox\" value=\"3460\"/>\n",
      "           <label for=\"ch-model-3460\">\n",
      "            Unimog\n",
      "           </label>\n",
      "          </p>\n",
      "          <p>\n",
      "           <input class=\"models filled-in submodel\" id=\"ch-model-500\" name=\"model[246][]\" type=\"checkbox\" value=\"500\"/>\n",
      "           <label for=\"ch-model-500\">\n",
      "            V-Class\n",
      "           </label>\n",
      "          </p>\n",
      "          <p class=\"pad-left-24 filter-submodels\">\n",
      "           <input class=\"models filled-in ch-model-500-subs\" id=\"ch-model-2063\" name=\"model[246][]\" type=\"checkbox\" value=\"2063\"/>\n",
      "           <label for=\"ch-model-2063\">\n",
      "            V 200\n",
      "           </label>\n",
      "          </p>\n",
      "          <p class=\"pad-left-24 filter-submodels\">\n",
      "           <input class=\"models filled-in ch-model-500-subs\" id=\"ch-model-2064\" name=\"model[246][]\" type=\"checkbox\" value=\"2064\"/>\n",
      "           <label for=\"ch-model-2064\">\n",
      "            V 220\n",
      "           </label>\n",
      "          </p>\n",
      "          <p class=\"pad-left-24 filter-submodels\">\n",
      "           <input class=\"models filled-in ch-model-500-subs\" id=\"ch-model-2065\" name=\"model[246][]\" type=\"checkbox\" value=\"2065\"/>\n",
      "           <label for=\"ch-model-2065\">\n",
      "            V 230\n",
      "           </label>\n",
      "          </p>\n",
      "          <p class=\"pad-left-24 filter-submodels\">\n",
      "           <input class=\"models filled-in ch-model-500-subs\" id=\"ch-model-4106\" name=\"model[246][]\" type=\"checkbox\" value=\"4106\"/>\n",
      "           <label for=\"ch-model-4106\">\n",
      "            V 250\n",
      "           </label>\n",
      "          </p>\n",
      "          <p class=\"pad-left-24 filter-submodels\">\n",
      "           <input class=\"models filled-in ch-model-500-subs\" id=\"ch-model-2066\" name=\"model[246][]\" type=\"checkbox\" value=\"2066\"/>\n",
      "           <label for=\"ch-model-2066\">\n",
      "            V 280\n",
      "           </label>\n",
      "          </p>\n",
      "          <p>\n",
      "           <input class=\"models filled-in submodel\" id=\"ch-model-2067\" name=\"model[246][]\" type=\"checkbox\" value=\"2067\"/>\n",
      "           <label for=\"ch-model-2067\">\n",
      "            Vaneo\n",
      "           </label>\n",
      "          </p>\n",
      "          <p>\n",
      "           <input class=\"models filled-in submodel\" id=\"ch-model-2068\" name=\"model[246][]\" type=\"checkbox\" value=\"2068\"/>\n",
      "           <label for=\"ch-model-2068\">\n",
      "            Vario\n",
      "           </label>\n",
      "          </p>\n",
      "          <p>\n",
      "           <input class=\"models filled-in submodel\" id=\"ch-model-2069\" name=\"model[246][]\" type=\"checkbox\" value=\"2069\"/>\n",
      "           <label for=\"ch-model-2069\">\n",
      "            Viano\n",
      "           </label>\n",
      "          </p>\n",
      "          <p>\n",
      "           <input class=\"models filled-in submodel\" id=\"ch-model-2070\" name=\"model[246][]\" type=\"checkbox\" value=\"2070\"/>\n",
      "           <label for=\"ch-model-2070\">\n",
      "            Vito\n",
      "           </label>\n",
      "          </p>\n",
      "          <p>\n",
      "           <input class=\"models filled-in submodel\" id=\"ch-model-3459\" name=\"model[246][]\" type=\"checkbox\" value=\"3459\"/>\n",
      "           <label for=\"ch-model-3459\">\n",
      "            Zetros\n",
      "           </label>\n",
      "          </p>\n",
      "         </div>\n",
      "         <li>\n",
      "          <li class=\"\">\n",
      "           <div class=\"collapsible-header active\">\n",
      "            VIN\n",
      "           </div>\n",
      "           <div class=\"collapsible-body\" style=\"display: none;\">\n",
      "            <p>\n",
      "             <input class=\"filled-in\" id=\"ch-vin-1\" name=\"vin[condition]\" type=\"checkbox\" value=\"1\"/>\n",
      "             <label class=\"marg-top-6\" for=\"ch-vin-1\">\n",
      "              Ունի նշած VIN\n",
      "             </label>\n",
      "            </p>\n",
      "           </div>\n",
      "          </li>\n",
      "          <li>\n",
      "           <div class=\"collapsible-header active\">\n",
      "            Տարեթիվը\n",
      "           </div>\n",
      "           <div class=\"collapsible-body\">\n",
      "            <!-- select -->\n",
      "            <!-- colorselect -->\n",
      "            <!-- textfield -->\n",
      "            <!-- unit -->\n",
      "            <!-- yearselect -->\n",
      "            <div>\n",
      "             <div class=\"range-85-fields\">\n",
      "              <input class=\"range-from left\" data-rangeid=\"range-85\" id=\"range-85-from\" max=\"2022\" min=\"1911\" name=\"year[gt]\" placeholder=\"սկսած\" style=\"width:48%\" type=\"number\" value=\"1911\"/>\n",
      "              <input class=\"range-to right\" data-rangeid=\"range-85\" id=\"range-85-to\" max=\"2022\" min=\"1911\" name=\"year[lt]\" placeholder=\"մինչև\" style=\"width:48%\" type=\"number\" value=\"2023\"/>\n",
      "             </div>\n",
      "             <div class=\"clearfix\">\n",
      "             </div>\n",
      "            </div>\n",
      "            <!-- conditionblock -->\n",
      "            <!-- priceblock -->\n",
      "            <!-- geoblock -->\n",
      "           </div>\n",
      "          </li>\n",
      "          <li>\n",
      "           <div class=\"collapsible-header active\">\n",
      "            Գինը\n",
      "           </div>\n",
      "           <div class=\"collapsible-body\">\n",
      "            <!-- select -->\n",
      "            <!-- colorselect -->\n",
      "            <!-- textfield -->\n",
      "            <!-- unit -->\n",
      "            <!-- yearselect -->\n",
      "            <!-- conditionblock -->\n",
      "            <!-- priceblock -->\n",
      "            <div>\n",
      "             <input class=\"range-from left\" data-rangeid=\"range-195\" id=\"range-195-from\" max=\"100000000\" min=\"0\" name=\"usdprice[gt]\" placeholder=\"սկսած\" style=\"width: 48%\" type=\"number\" value=\"0\"/>\n",
      "             <input class=\"range-to right\" data-rangeid=\"range-195\" id=\"range-195-to\" max=\"100000000\" min=\"0\" name=\"usdprice[lt]\" placeholder=\"մինչև\" style=\"width: 48%\" type=\"number\" value=\"100000000\"/>\n",
      "            </div>\n",
      "            <div class=\"clearfix\">\n",
      "            </div>\n",
      "            <div class=\"marg-top-12\">\n",
      "             <p>\n",
      "              <input class=\"filled-in\" id=\"ch-custcleared\" name=\"custcleared\" type=\"checkbox\" value=\"1\">\n",
      "               <label for=\"ch-custcleared\">\n",
      "                Մաքսազերծված\n",
      "               </label>\n",
      "              </input>\n",
      "             </p>\n",
      "             <p>\n",
      "              <input class=\"filled-in\" id=\"ch-negotiable\" name=\"negotiable\" type=\"checkbox\" value=\"1\">\n",
      "               <label for=\"ch-negotiable\">\n",
      "                Պայմ.\n",
      "               </label>\n",
      "              </input>\n",
      "             </p>\n",
      "             <p>\n",
      "              <input class=\"filled-in\" id=\"ch-exchange\" name=\"exchange\" type=\"checkbox\" value=\"1\">\n",
      "               <label for=\"ch-exchange\">\n",
      "                Փոխանակում\n",
      "               </label>\n",
      "              </input>\n",
      "             </p>\n",
      "             <p>\n",
      "              <input class=\"filled-in\" id=\"ch-installments\" name=\"installments\" type=\"checkbox\" value=\"1\">\n",
      "               <label for=\"ch-installments\">\n",
      "                Մաս-մաս վճարում\n",
      "               </label>\n",
      "              </input>\n",
      "             </p>\n",
      "            </div>\n",
      "            <!-- geoblock -->\n",
      "           </div>\n",
      "          </li>\n",
      "          <li>\n",
      "           <div class=\"collapsible-header\">\n",
      "            Թափքը\n",
      "           </div>\n",
      "           <div class=\"collapsible-body\">\n",
      "            <!-- select -->\n",
      "            <p>\n",
      "             <input class=\"filled-in\" id=\"ch-ell-10\" name=\"attr[84][]\" type=\"checkbox\" value=\"10\">\n",
      "              <label for=\"ch-ell-10\">\n",
      "               Սեդան\n",
      "              </label>\n",
      "             </input>\n",
      "            </p>\n",
      "            <p>\n",
      "             <input class=\"filled-in\" id=\"ch-ell-11\" name=\"attr[84][]\" type=\"checkbox\" value=\"11\"/>\n",
      "             <label for=\"ch-ell-11\">\n",
      "              Հետչբեք\n",
      "             </label>\n",
      "            </p>\n",
      "            <p>\n",
      "             <input class=\"filled-in\" id=\"ch-ell-12\" name=\"attr[84][]\" type=\"checkbox\" value=\"12\"/>\n",
      "             <label for=\"ch-ell-12\">\n",
      "              Ունիվերսալ\n",
      "             </label>\n",
      "            </p>\n",
      "            <p>\n",
      "             <input class=\"filled-in\" id=\"ch-ell-13\" name=\"attr[84][]\" type=\"checkbox\" value=\"13\"/>\n",
      "             <label for=\"ch-ell-13\">\n",
      "              Կուպե\n",
      "             </label>\n",
      "            </p>\n",
      "            <p>\n",
      "             <input class=\"filled-in\" id=\"ch-ell-14\" name=\"attr[84][]\" type=\"checkbox\" value=\"14\"/>\n",
      "             <label for=\"ch-ell-14\">\n",
      "              Կաբրիոլետ / Ռոդսթեր\n",
      "             </label>\n",
      "            </p>\n",
      "            <p>\n",
      "             <input class=\"filled-in\" id=\"ch-ell-15\" name=\"attr[84][]\" type=\"checkbox\" value=\"15\"/>\n",
      "             <label for=\"ch-ell-15\">\n",
      "              Ամենագնաց\n",
      "             </label>\n",
      "            </p>\n",
      "            <p>\n",
      "             <input class=\"filled-in\" id=\"ch-ell-16\" name=\"attr[84][]\" type=\"checkbox\" value=\"16\"/>\n",
      "             <label for=\"ch-ell-16\">\n",
      "              Պիկապ\n",
      "             </label>\n",
      "            </p>\n",
      "            <p>\n",
      "             <input class=\"filled-in\" id=\"ch-ell-17\" name=\"attr[84][]\" type=\"checkbox\" value=\"17\"/>\n",
      "             <label for=\"ch-ell-17\">\n",
      "              Մինիվեն /  Միկրոավտոբուս\n",
      "             </label>\n",
      "            </p>\n",
      "            <p>\n",
      "             <input class=\"filled-in\" id=\"ch-ell-18\" name=\"attr[84][]\" type=\"checkbox\" value=\"18\"/>\n",
      "             <label for=\"ch-ell-18\">\n",
      "              Ֆուրգոն\n",
      "             </label>\n",
      "            </p>\n",
      "            <p>\n",
      "             <input class=\"filled-in\" id=\"ch-ell-19\" name=\"attr[84][]\" type=\"checkbox\" value=\"19\"/>\n",
      "             <label for=\"ch-ell-19\">\n",
      "              Լիմուզին\n",
      "             </label>\n",
      "            </p>\n",
      "            <!-- colorselect -->\n",
      "            <!-- textfield -->\n",
      "            <!-- unit -->\n",
      "            <!-- yearselect -->\n",
      "            <!-- conditionblock -->\n",
      "            <!-- priceblock -->\n",
      "            <!-- geoblock -->\n",
      "           </div>\n",
      "          </li>\n",
      "          <li>\n",
      "           <div class=\"collapsible-header\">\n",
      "            Շարժիչը\n",
      "           </div>\n",
      "           <div class=\"collapsible-body\">\n",
      "            <!-- select -->\n",
      "            <p>\n",
      "             <input class=\"filled-in\" id=\"ch-ell-4\" name=\"attr[88][]\" type=\"checkbox\" value=\"4\"/>\n",
      "             <label for=\"ch-ell-4\">\n",
      "              Բենզին\n",
      "             </label>\n",
      "            </p>\n",
      "            <p>\n",
      "             <input class=\"filled-in\" id=\"ch-ell-5\" name=\"attr[88][]\" type=\"checkbox\" value=\"5\"/>\n",
      "             <label for=\"ch-ell-5\">\n",
      "              Գազ\n",
      "             </label>\n",
      "            </p>\n",
      "            <p>\n",
      "             <input class=\"filled-in\" id=\"ch-ell-6\" name=\"attr[88][]\" type=\"checkbox\" value=\"6\"/>\n",
      "             <label for=\"ch-ell-6\">\n",
      "              Դիզել\n",
      "             </label>\n",
      "            </p>\n",
      "            <p>\n",
      "             <input class=\"filled-in\" id=\"ch-ell-7\" name=\"attr[88][]\" type=\"checkbox\" value=\"7\"/>\n",
      "             <label for=\"ch-ell-7\">\n",
      "              Հիբրիդ\n",
      "             </label>\n",
      "            </p>\n",
      "            <p>\n",
      "             <input class=\"filled-in\" id=\"ch-ell-8\" name=\"attr[88][]\" type=\"checkbox\" value=\"8\"/>\n",
      "             <label for=\"ch-ell-8\">\n",
      "              Էլեկտրական\n",
      "             </label>\n",
      "            </p>\n",
      "            <p>\n",
      "             <input class=\"filled-in\" id=\"ch-ell-54\" name=\"attr[88][]\" type=\"checkbox\" value=\"54\"/>\n",
      "             <label for=\"ch-ell-54\">\n",
      "              Ջրածին\n",
      "             </label>\n",
      "            </p>\n",
      "            <p>\n",
      "             <input class=\"filled-in\" id=\"ch-ell-334\" name=\"attr[88][]\" type=\"checkbox\" value=\"334\"/>\n",
      "             <label for=\"ch-ell-334\">\n",
      "              Առանց շարժիչ\n",
      "             </label>\n",
      "            </p>\n",
      "            <!-- colorselect -->\n",
      "            <!-- textfield -->\n",
      "            <!-- unit -->\n",
      "            <!-- yearselect -->\n",
      "            <!-- conditionblock -->\n",
      "            <!-- priceblock -->\n",
      "            <!-- geoblock -->\n",
      "           </div>\n",
      "          </li>\n",
      "          <li>\n",
      "           <div class=\"collapsible-header\">\n",
      "            Փոխանցման տուփը\n",
      "           </div>\n",
      "           <div class=\"collapsible-body\">\n",
      "            <!-- select -->\n",
      "            <p>\n",
      "             <input class=\"filled-in\" id=\"ch-ell-1\" name=\"attr[86][]\" type=\"checkbox\" value=\"1\"/>\n",
      "             <label for=\"ch-ell-1\">\n",
      "              Մեխանիկական\n",
      "             </label>\n",
      "            </p>\n",
      "            <p>\n",
      "             <input class=\"filled-in\" id=\"ch-ell-2\" name=\"attr[86][]\" type=\"checkbox\" value=\"2\"/>\n",
      "             <label for=\"ch-ell-2\">\n",
      "              Ավտոմատ\n",
      "             </label>\n",
      "            </p>\n",
      "            <p>\n",
      "             <input class=\"filled-in\" id=\"ch-ell-3\" name=\"attr[86][]\" type=\"checkbox\" value=\"3\"/>\n",
      "             <label for=\"ch-ell-3\">\n",
      "              Կիսաավտոմատ\n",
      "             </label>\n",
      "            </p>\n",
      "            <p>\n",
      "             <input class=\"filled-in\" id=\"ch-ell-20\" name=\"attr[86][]\" type=\"checkbox\" value=\"20\"/>\n",
      "             <label for=\"ch-ell-20\">\n",
      "              Վարիատոր\n",
      "             </label>\n",
      "            </p>\n",
      "            <p>\n",
      "             <input class=\"filled-in\" id=\"ch-ell-40\" name=\"attr[86][]\" type=\"checkbox\" value=\"40\"/>\n",
      "             <label for=\"ch-ell-40\">\n",
      "              Այլ\n",
      "             </label>\n",
      "            </p>\n",
      "            <!-- colorselect -->\n",
      "            <!-- textfield -->\n",
      "            <!-- unit -->\n",
      "            <!-- yearselect -->\n",
      "            <!-- conditionblock -->\n",
      "            <!-- priceblock -->\n",
      "            <!-- geoblock -->\n",
      "           </div>\n",
      "          </li>\n",
      "          <li>\n",
      "           <div class=\"collapsible-header\">\n",
      "            Քարշակը\n",
      "           </div>\n",
      "           <div class=\"collapsible-body\">\n",
      "            <!-- select -->\n",
      "            <p>\n",
      "             <input class=\"filled-in\" id=\"ch-ell-51\" name=\"attr[90][]\" type=\"checkbox\" value=\"51\"/>\n",
      "             <label for=\"ch-ell-51\">\n",
      "              Առջևի\n",
      "             </label>\n",
      "            </p>\n",
      "            <p>\n",
      "             <input class=\"filled-in\" id=\"ch-ell-52\" name=\"attr[90][]\" type=\"checkbox\" value=\"52\"/>\n",
      "             <label for=\"ch-ell-52\">\n",
      "              Ետևի\n",
      "             </label>\n",
      "            </p>\n",
      "            <p>\n",
      "             <input class=\"filled-in\" id=\"ch-ell-53\" name=\"attr[90][]\" type=\"checkbox\" value=\"53\"/>\n",
      "             <label for=\"ch-ell-53\">\n",
      "              Լիաքարշակ 4x4\n",
      "             </label>\n",
      "            </p>\n",
      "            <!-- colorselect -->\n",
      "            <!-- textfield -->\n",
      "            <!-- unit -->\n",
      "            <!-- yearselect -->\n",
      "            <!-- conditionblock -->\n",
      "            <!-- priceblock -->\n",
      "            <!-- geoblock -->\n",
      "           </div>\n",
      "          </li>\n",
      "          <li>\n",
      "           <div class=\"collapsible-header\">\n",
      "            Ղեկը\n",
      "           </div>\n",
      "           <div class=\"collapsible-body\">\n",
      "            <!-- select -->\n",
      "            <p>\n",
      "             <input class=\"filled-in\" id=\"ch-ell-21\" name=\"attr[87][]\" type=\"checkbox\" value=\"21\"/>\n",
      "             <label for=\"ch-ell-21\">\n",
      "              Ձախ\n",
      "             </label>\n",
      "            </p>\n",
      "            <p>\n",
      "             <input class=\"filled-in\" id=\"ch-ell-22\" name=\"attr[87][]\" type=\"checkbox\" value=\"22\"/>\n",
      "             <label for=\"ch-ell-22\">\n",
      "              Աջ\n",
      "             </label>\n",
      "            </p>\n",
      "            <p>\n",
      "             <input class=\"filled-in\" id=\"ch-ell-244\" name=\"attr[87][]\" type=\"checkbox\" value=\"244\"/>\n",
      "             <label for=\"ch-ell-244\">\n",
      "              Փոխված աջից ձախ\n",
      "             </label>\n",
      "            </p>\n",
      "            <!-- colorselect -->\n",
      "            <!-- textfield -->\n",
      "            <!-- unit -->\n",
      "            <!-- yearselect -->\n",
      "            <!-- conditionblock -->\n",
      "            <!-- priceblock -->\n",
      "            <!-- geoblock -->\n",
      "           </div>\n",
      "          </li>\n",
      "          <li>\n",
      "           <div class=\"collapsible-header\">\n",
      "            Վազքը\n",
      "           </div>\n",
      "           <div class=\"collapsible-body\">\n",
      "            <!-- select -->\n",
      "            <!-- colorselect -->\n",
      "            <!-- textfield -->\n",
      "            <!-- unit -->\n",
      "            <div>\n",
      "             <div class=\"range-47-fields\">\n",
      "              <input class=\"range-from left\" data-rangeid=\"range-47\" id=\"range-47-from\" max=\"1000000\" min=\"10\" name=\"mileage[gt]\" placeholder=\"սկսած\" style=\"width:48%\" type=\"number\" value=\"10\"/>\n",
      "              <input class=\"range-to right\" data-rangeid=\"range-47\" id=\"range-47-to\" max=\"1000000\" min=\"10\" name=\"mileage[lt]\" placeholder=\"մինչև\" style=\"width: 48%\" type=\"number\" value=\"1000000\"/>\n",
      "             </div>\n",
      "             <div class=\"clearfix\">\n",
      "             </div>\n",
      "            </div>\n",
      "            <!-- yearselect -->\n",
      "            <!-- conditionblock -->\n",
      "            <!-- priceblock -->\n",
      "            <!-- geoblock -->\n",
      "           </div>\n",
      "          </li>\n",
      "          <li>\n",
      "           <div class=\"collapsible-header\">\n",
      "            Շարժիչի ծավալը\n",
      "           </div>\n",
      "           <div class=\"collapsible-body\">\n",
      "            <!-- select -->\n",
      "            <p>\n",
      "             <input class=\"filled-in\" id=\"ch-ell-268\" name=\"attr[115][]\" type=\"checkbox\" value=\"268\">\n",
      "              <label for=\"ch-ell-268\">\n",
      "               0.6\n",
      "              </label>\n",
      "             </input>\n",
      "            </p>\n",
      "            <p>\n",
      "             <input class=\"filled-in\" id=\"ch-ell-269\" name=\"attr[115][]\" type=\"checkbox\" value=\"269\">\n",
      "              <label for=\"ch-ell-269\">\n",
      "               0.7\n",
      "              </label>\n",
      "             </input>\n",
      "            </p>\n",
      "            <p>\n",
      "             <input class=\"filled-in\" id=\"ch-ell-270\" name=\"attr[115][]\" type=\"checkbox\" value=\"270\"/>\n",
      "             <label for=\"ch-ell-270\">\n",
      "              0.8\n",
      "             </label>\n",
      "            </p>\n",
      "            <p>\n",
      "             <input class=\"filled-in\" id=\"ch-ell-271\" name=\"attr[115][]\" type=\"checkbox\" value=\"271\"/>\n",
      "             <label for=\"ch-ell-271\">\n",
      "              0.9\n",
      "             </label>\n",
      "            </p>\n",
      "            <p>\n",
      "             <input class=\"filled-in\" id=\"ch-ell-272\" name=\"attr[115][]\" type=\"checkbox\" value=\"272\"/>\n",
      "             <label for=\"ch-ell-272\">\n",
      "              1.0\n",
      "             </label>\n",
      "            </p>\n",
      "            <p>\n",
      "             <input class=\"filled-in\" id=\"ch-ell-273\" name=\"attr[115][]\" type=\"checkbox\" value=\"273\"/>\n",
      "             <label for=\"ch-ell-273\">\n",
      "              1.1\n",
      "             </label>\n",
      "            </p>\n",
      "            <p>\n",
      "             <input class=\"filled-in\" id=\"ch-ell-274\" name=\"attr[115][]\" type=\"checkbox\" value=\"274\"/>\n",
      "             <label for=\"ch-ell-274\">\n",
      "              1.2\n",
      "             </label>\n",
      "            </p>\n",
      "            <p>\n",
      "             <input class=\"filled-in\" id=\"ch-ell-275\" name=\"attr[115][]\" type=\"checkbox\" value=\"275\"/>\n",
      "             <label for=\"ch-ell-275\">\n",
      "              1.3\n",
      "             </label>\n",
      "            </p>\n",
      "            <p>\n",
      "             <input class=\"filled-in\" id=\"ch-ell-276\" name=\"attr[115][]\" type=\"checkbox\" value=\"276\"/>\n",
      "             <label for=\"ch-ell-276\">\n",
      "              1.4\n",
      "             </label>\n",
      "            </p>\n",
      "            <p>\n",
      "             <input class=\"filled-in\" id=\"ch-ell-277\" name=\"attr[115][]\" type=\"checkbox\" value=\"277\"/>\n",
      "             <label for=\"ch-ell-277\">\n",
      "              1.5\n",
      "             </label>\n",
      "            </p>\n",
      "            <p>\n",
      "             <input class=\"filled-in\" id=\"ch-ell-278\" name=\"attr[115][]\" type=\"checkbox\" value=\"278\"/>\n",
      "             <label for=\"ch-ell-278\">\n",
      "              1.6\n",
      "             </label>\n",
      "            </p>\n",
      "            <p>\n",
      "             <input class=\"filled-in\" id=\"ch-ell-279\" name=\"attr[115][]\" type=\"checkbox\" value=\"279\"/>\n",
      "             <label for=\"ch-ell-279\">\n",
      "              1.7\n",
      "             </label>\n",
      "            </p>\n",
      "            <p>\n",
      "             <input class=\"filled-in\" id=\"ch-ell-280\" name=\"attr[115][]\" type=\"checkbox\" value=\"280\"/>\n",
      "             <label for=\"ch-ell-280\">\n",
      "              1.8\n",
      "             </label>\n",
      "            </p>\n",
      "            <p>\n",
      "             <input class=\"filled-in\" id=\"ch-ell-281\" name=\"attr[115][]\" type=\"checkbox\" value=\"281\"/>\n",
      "             <label for=\"ch-ell-281\">\n",
      "              1.9\n",
      "             </label>\n",
      "            </p>\n",
      "            <p>\n",
      "             <input class=\"filled-in\" id=\"ch-ell-282\" name=\"attr[115][]\" type=\"checkbox\" value=\"282\"/>\n",
      "             <label for=\"ch-ell-282\">\n",
      "              2.0\n",
      "             </label>\n",
      "            </p>\n",
      "            <p>\n",
      "             <input class=\"filled-in\" id=\"ch-ell-283\" name=\"attr[115][]\" type=\"checkbox\" value=\"283\"/>\n",
      "             <label for=\"ch-ell-283\">\n",
      "              2.1\n",
      "             </label>\n",
      "            </p>\n",
      "            <p>\n",
      "             <input class=\"filled-in\" id=\"ch-ell-284\" name=\"attr[115][]\" type=\"checkbox\" value=\"284\"/>\n",
      "             <label for=\"ch-ell-284\">\n",
      "              2.2\n",
      "             </label>\n",
      "            </p>\n",
      "            <p>\n",
      "             <input class=\"filled-in\" id=\"ch-ell-285\" name=\"attr[115][]\" type=\"checkbox\" value=\"285\"/>\n",
      "             <label for=\"ch-ell-285\">\n",
      "              2.3\n",
      "             </label>\n",
      "            </p>\n",
      "            <p>\n",
      "             <input class=\"filled-in\" id=\"ch-ell-286\" name=\"attr[115][]\" type=\"checkbox\" value=\"286\"/>\n",
      "             <label for=\"ch-ell-286\">\n",
      "              2.4\n",
      "             </label>\n",
      "            </p>\n",
      "            <p>\n",
      "             <input class=\"filled-in\" id=\"ch-ell-287\" name=\"attr[115][]\" type=\"checkbox\" value=\"287\"/>\n",
      "             <label for=\"ch-ell-287\">\n",
      "              2.5\n",
      "             </label>\n",
      "            </p>\n",
      "            <p>\n",
      "             <input class=\"filled-in\" id=\"ch-ell-288\" name=\"attr[115][]\" type=\"checkbox\" value=\"288\"/>\n",
      "             <label for=\"ch-ell-288\">\n",
      "              2.6\n",
      "             </label>\n",
      "            </p>\n",
      "            <p>\n",
      "             <input class=\"filled-in\" id=\"ch-ell-289\" name=\"attr[115][]\" type=\"checkbox\" value=\"289\"/>\n",
      "             <label for=\"ch-ell-289\">\n",
      "              2.7\n",
      "             </label>\n",
      "            </p>\n",
      "            <p>\n",
      "             <input class=\"filled-in\" id=\"ch-ell-290\" name=\"attr[115][]\" type=\"checkbox\" value=\"290\"/>\n",
      "             <label for=\"ch-ell-290\">\n",
      "              2.8\n",
      "             </label>\n",
      "            </p>\n",
      "            <p>\n",
      "             <input class=\"filled-in\" id=\"ch-ell-291\" name=\"attr[115][]\" type=\"checkbox\" value=\"291\"/>\n",
      "             <label for=\"ch-ell-291\">\n",
      "              2.9\n",
      "             </label>\n",
      "            </p>\n",
      "            <p>\n",
      "             <input class=\"filled-in\" id=\"ch-ell-292\" name=\"attr[115][]\" type=\"checkbox\" value=\"292\"/>\n",
      "             <label for=\"ch-ell-292\">\n",
      "              3.0\n",
      "             </label>\n",
      "            </p>\n",
      "            <p>\n",
      "             <input class=\"filled-in\" id=\"ch-ell-293\" name=\"attr[115][]\" type=\"checkbox\" value=\"293\"/>\n",
      "             <label for=\"ch-ell-293\">\n",
      "              3.1\n",
      "             </label>\n",
      "            </p>\n",
      "            <p>\n",
      "             <input class=\"filled-in\" id=\"ch-ell-294\" name=\"attr[115][]\" type=\"checkbox\" value=\"294\"/>\n",
      "             <label for=\"ch-ell-294\">\n",
      "              3.2\n",
      "             </label>\n",
      "            </p>\n",
      "            <p>\n",
      "             <input class=\"filled-in\" id=\"ch-ell-295\" name=\"attr[115][]\" type=\"checkbox\" value=\"295\"/>\n",
      "             <label for=\"ch-ell-295\">\n",
      "              3.3\n",
      "             </label>\n",
      "            </p>\n",
      "            <p>\n",
      "             <input class=\"filled-in\" id=\"ch-ell-296\" name=\"attr[115][]\" type=\"checkbox\" value=\"296\"/>\n",
      "             <label for=\"ch-ell-296\">\n",
      "              3.4\n",
      "             </label>\n",
      "            </p>\n",
      "            <p>\n",
      "             <input class=\"filled-in\" id=\"ch-ell-297\" name=\"attr[115][]\" type=\"checkbox\" value=\"297\"/>\n",
      "             <label for=\"ch-ell-297\">\n",
      "              3.5\n",
      "             </label>\n",
      "            </p>\n",
      "            <p>\n",
      "             <input class=\"filled-in\" id=\"ch-ell-298\" name=\"attr[115][]\" type=\"checkbox\" value=\"298\"/>\n",
      "             <label for=\"ch-ell-298\">\n",
      "              3.6\n",
      "             </label>\n",
      "            </p>\n",
      "            <p>\n",
      "             <input class=\"filled-in\" id=\"ch-ell-299\" name=\"attr[115][]\" type=\"checkbox\" value=\"299\"/>\n",
      "             <label for=\"ch-ell-299\">\n",
      "              3.7\n",
      "             </label>\n",
      "            </p>\n",
      "            <p>\n",
      "             <input class=\"filled-in\" id=\"ch-ell-300\" name=\"attr[115][]\" type=\"checkbox\" value=\"300\"/>\n",
      "             <label for=\"ch-ell-300\">\n",
      "              3.8\n",
      "             </label>\n",
      "            </p>\n",
      "            <p>\n",
      "             <input class=\"filled-in\" id=\"ch-ell-301\" name=\"attr[115][]\" type=\"checkbox\" value=\"301\"/>\n",
      "             <label for=\"ch-ell-301\">\n",
      "              3.9\n",
      "             </label>\n",
      "            </p>\n",
      "            <p>\n",
      "             <input class=\"filled-in\" id=\"ch-ell-302\" name=\"attr[115][]\" type=\"checkbox\" value=\"302\"/>\n",
      "             <label for=\"ch-ell-302\">\n",
      "              4.0\n",
      "             </label>\n",
      "            </p>\n",
      "            <p>\n",
      "             <input class=\"filled-in\" id=\"ch-ell-303\" name=\"attr[115][]\" type=\"checkbox\" value=\"303\"/>\n",
      "             <label for=\"ch-ell-303\">\n",
      "              4.1\n",
      "             </label>\n",
      "            </p>\n",
      "            <p>\n",
      "             <input class=\"filled-in\" id=\"ch-ell-304\" name=\"attr[115][]\" type=\"checkbox\" value=\"304\"/>\n",
      "             <label for=\"ch-ell-304\">\n",
      "              4.2\n",
      "             </label>\n",
      "            </p>\n",
      "            <p>\n",
      "             <input class=\"filled-in\" id=\"ch-ell-305\" name=\"attr[115][]\" type=\"checkbox\" value=\"305\"/>\n",
      "             <label for=\"ch-ell-305\">\n",
      "              4.3\n",
      "             </label>\n",
      "            </p>\n",
      "            <p>\n",
      "             <input class=\"filled-in\" id=\"ch-ell-306\" name=\"attr[115][]\" type=\"checkbox\" value=\"306\"/>\n",
      "             <label for=\"ch-ell-306\">\n",
      "              4.4\n",
      "             </label>\n",
      "            </p>\n",
      "            <p>\n",
      "             <input class=\"filled-in\" id=\"ch-ell-307\" name=\"attr[115][]\" type=\"checkbox\" value=\"307\"/>\n",
      "             <label for=\"ch-ell-307\">\n",
      "              4.5\n",
      "             </label>\n",
      "            </p>\n",
      "            <p>\n",
      "             <input class=\"filled-in\" id=\"ch-ell-308\" name=\"attr[115][]\" type=\"checkbox\" value=\"308\"/>\n",
      "             <label for=\"ch-ell-308\">\n",
      "              4.6\n",
      "             </label>\n",
      "            </p>\n",
      "            <p>\n",
      "             <input class=\"filled-in\" id=\"ch-ell-309\" name=\"attr[115][]\" type=\"checkbox\" value=\"309\"/>\n",
      "             <label for=\"ch-ell-309\">\n",
      "              4.7\n",
      "             </label>\n",
      "            </p>\n",
      "            <p>\n",
      "             <input class=\"filled-in\" id=\"ch-ell-310\" name=\"attr[115][]\" type=\"checkbox\" value=\"310\"/>\n",
      "             <label for=\"ch-ell-310\">\n",
      "              4.8\n",
      "             </label>\n",
      "            </p>\n",
      "            <p>\n",
      "             <input class=\"filled-in\" id=\"ch-ell-311\" name=\"attr[115][]\" type=\"checkbox\" value=\"311\"/>\n",
      "             <label for=\"ch-ell-311\">\n",
      "              4.9\n",
      "             </label>\n",
      "            </p>\n",
      "            <p>\n",
      "             <input class=\"filled-in\" id=\"ch-ell-312\" name=\"attr[115][]\" type=\"checkbox\" value=\"312\"/>\n",
      "             <label for=\"ch-ell-312\">\n",
      "              5.0\n",
      "             </label>\n",
      "            </p>\n",
      "            <p>\n",
      "             <input class=\"filled-in\" id=\"ch-ell-313\" name=\"attr[115][]\" type=\"checkbox\" value=\"313\"/>\n",
      "             <label for=\"ch-ell-313\">\n",
      "              5.1\n",
      "             </label>\n",
      "            </p>\n",
      "            <p>\n",
      "             <input class=\"filled-in\" id=\"ch-ell-314\" name=\"attr[115][]\" type=\"checkbox\" value=\"314\"/>\n",
      "             <label for=\"ch-ell-314\">\n",
      "              5.2\n",
      "             </label>\n",
      "            </p>\n",
      "            <p>\n",
      "             <input class=\"filled-in\" id=\"ch-ell-315\" name=\"attr[115][]\" type=\"checkbox\" value=\"315\"/>\n",
      "             <label for=\"ch-ell-315\">\n",
      "              5.3\n",
      "             </label>\n",
      "            </p>\n",
      "            <p>\n",
      "             <input class=\"filled-in\" id=\"ch-ell-316\" name=\"attr[115][]\" type=\"checkbox\" value=\"316\"/>\n",
      "             <label for=\"ch-ell-316\">\n",
      "              5.4\n",
      "             </label>\n",
      "            </p>\n",
      "            <p>\n",
      "             <input class=\"filled-in\" id=\"ch-ell-317\" name=\"attr[115][]\" type=\"checkbox\" value=\"317\"/>\n",
      "             <label for=\"ch-ell-317\">\n",
      "              5.5\n",
      "             </label>\n",
      "            </p>\n",
      "            <p>\n",
      "             <input class=\"filled-in\" id=\"ch-ell-318\" name=\"attr[115][]\" type=\"checkbox\" value=\"318\"/>\n",
      "             <label for=\"ch-ell-318\">\n",
      "              5.6\n",
      "             </label>\n",
      "            </p>\n",
      "            <p>\n",
      "             <input class=\"filled-in\" id=\"ch-ell-319\" name=\"attr[115][]\" type=\"checkbox\" value=\"319\"/>\n",
      "             <label for=\"ch-ell-319\">\n",
      "              5.7\n",
      "             </label>\n",
      "            </p>\n",
      "            <p>\n",
      "             <input class=\"filled-in\" id=\"ch-ell-320\" name=\"attr[115][]\" type=\"checkbox\" value=\"320\"/>\n",
      "             <label for=\"ch-ell-320\">\n",
      "              5.8\n",
      "             </label>\n",
      "            </p>\n",
      "            <p>\n",
      "             <input class=\"filled-in\" id=\"ch-ell-321\" name=\"attr[115][]\" type=\"checkbox\" value=\"321\"/>\n",
      "             <label for=\"ch-ell-321\">\n",
      "              5.9\n",
      "             </label>\n",
      "            </p>\n",
      "            <p>\n",
      "             <input class=\"filled-in\" id=\"ch-ell-322\" name=\"attr[115][]\" type=\"checkbox\" value=\"322\"/>\n",
      "             <label for=\"ch-ell-322\">\n",
      "              6.0\n",
      "             </label>\n",
      "            </p>\n",
      "            <p>\n",
      "             <input class=\"filled-in\" id=\"ch-ell-323\" name=\"attr[115][]\" type=\"checkbox\" value=\"323\"/>\n",
      "             <label for=\"ch-ell-323\">\n",
      "              6.1\n",
      "             </label>\n",
      "            </p>\n",
      "            <p>\n",
      "             <input class=\"filled-in\" id=\"ch-ell-324\" name=\"attr[115][]\" type=\"checkbox\" value=\"324\"/>\n",
      "             <label for=\"ch-ell-324\">\n",
      "              6.2\n",
      "             </label>\n",
      "            </p>\n",
      "            <p>\n",
      "             <input class=\"filled-in\" id=\"ch-ell-325\" name=\"attr[115][]\" type=\"checkbox\" value=\"325\"/>\n",
      "             <label for=\"ch-ell-325\">\n",
      "              6.3\n",
      "             </label>\n",
      "            </p>\n",
      "            <p>\n",
      "             <input class=\"filled-in\" id=\"ch-ell-326\" name=\"attr[115][]\" type=\"checkbox\" value=\"326\"/>\n",
      "             <label for=\"ch-ell-326\">\n",
      "              6.4\n",
      "             </label>\n",
      "            </p>\n",
      "            <p>\n",
      "             <input class=\"filled-in\" id=\"ch-ell-327\" name=\"attr[115][]\" type=\"checkbox\" value=\"327\"/>\n",
      "             <label for=\"ch-ell-327\">\n",
      "              6.5\n",
      "             </label>\n",
      "            </p>\n",
      "            <p>\n",
      "             <input class=\"filled-in\" id=\"ch-ell-328\" name=\"attr[115][]\" type=\"checkbox\" value=\"328\"/>\n",
      "             <label for=\"ch-ell-328\">\n",
      "              6.6\n",
      "             </label>\n",
      "            </p>\n",
      "            <p>\n",
      "             <input class=\"filled-in\" id=\"ch-ell-329\" name=\"attr[115][]\" type=\"checkbox\" value=\"329\"/>\n",
      "             <label for=\"ch-ell-329\">\n",
      "              6.7\n",
      "             </label>\n",
      "            </p>\n",
      "            <p>\n",
      "             <input class=\"filled-in\" id=\"ch-ell-330\" name=\"attr[115][]\" type=\"checkbox\" value=\"330\"/>\n",
      "             <label for=\"ch-ell-330\">\n",
      "              6.8\n",
      "             </label>\n",
      "            </p>\n",
      "            <p>\n",
      "             <input class=\"filled-in\" id=\"ch-ell-331\" name=\"attr[115][]\" type=\"checkbox\" value=\"331\"/>\n",
      "             <label for=\"ch-ell-331\">\n",
      "              6.9\n",
      "             </label>\n",
      "            </p>\n",
      "            <p>\n",
      "             <input class=\"filled-in\" id=\"ch-ell-332\" name=\"attr[115][]\" type=\"checkbox\" value=\"332\"/>\n",
      "             <label for=\"ch-ell-332\">\n",
      "              7.0\n",
      "             </label>\n",
      "            </p>\n",
      "            <!-- colorselect -->\n",
      "            <!-- textfield -->\n",
      "            <!-- unit -->\n",
      "            <!-- yearselect -->\n",
      "            <!-- conditionblock -->\n",
      "            <!-- priceblock -->\n",
      "            <!-- geoblock -->\n",
      "           </div>\n",
      "          </li>\n",
      "          <li>\n",
      "           <div class=\"collapsible-header\">\n",
      "            Գույնը\n",
      "           </div>\n",
      "           <div class=\"collapsible-body\">\n",
      "            <!-- select -->\n",
      "            <!-- colorselect -->\n",
      "            <p class=\"\" id=\"eh9\">\n",
      "             <style>\n",
      "              #eh9 input+label:before {border-color:#f0f0f0; }\n",
      "                                                            #eh9 input:checked+label:before {background:#f0f0f0; }\n",
      "             </style>\n",
      "             <input class=\"rounded black\" id=\"ch-el-46-9\" name=\"attr[46][]\" type=\"checkbox\" value=\"9\"/>\n",
      "             <label for=\"ch-el-46-9\">\n",
      "              Սպիտակ\n",
      "             </label>\n",
      "            </p>\n",
      "            <p class=\"\" id=\"eh23\">\n",
      "             <style>\n",
      "              #eh23 input+label:before {border-color:#000000; }\n",
      "                                                            #eh23 input:checked+label:before {background:#000000; }\n",
      "             </style>\n",
      "             <input class=\"rounded black\" id=\"ch-el-46-23\" name=\"attr[46][]\" type=\"checkbox\" value=\"23\"/>\n",
      "             <label for=\"ch-el-46-23\">\n",
      "              Սև\n",
      "             </label>\n",
      "            </p>\n",
      "            <p class=\"\" id=\"eh24\">\n",
      "             <style>\n",
      "              #eh24 input+label:before {border-color:#bbbfc7; }\n",
      "                                                            #eh24 input:checked+label:before {background:#bbbfc7; }\n",
      "             </style>\n",
      "             <input class=\"rounded black\" id=\"ch-el-46-24\" name=\"attr[46][]\" type=\"checkbox\" value=\"24\"/>\n",
      "             <label for=\"ch-el-46-24\">\n",
      "              Արծաթագույն\n",
      "             </label>\n",
      "            </p>\n",
      "            <p class=\"\" id=\"eh25\">\n",
      "             <style>\n",
      "              #eh25 input+label:before {border-color:#2e56a6; }\n",
      "                                                            #eh25 input:checked+label:before {background:#2e56a6; }\n",
      "             </style>\n",
      "             <input class=\"rounded black\" id=\"ch-el-46-25\" name=\"attr[46][]\" type=\"checkbox\" value=\"25\"/>\n",
      "             <label for=\"ch-el-46-25\">\n",
      "              Կապույտ\n",
      "             </label>\n",
      "            </p>\n",
      "            <p class=\"\" id=\"eh26\">\n",
      "             <style>\n",
      "              #eh26 input+label:before {border-color:#f20024; }\n",
      "                                                            #eh26 input:checked+label:before {background:#f20024; }\n",
      "             </style>\n",
      "             <input class=\"rounded black\" id=\"ch-el-46-26\" name=\"attr[46][]\" type=\"checkbox\" value=\"26\"/>\n",
      "             <label for=\"ch-el-46-26\">\n",
      "              Կարմիր\n",
      "             </label>\n",
      "            </p>\n",
      "            <p class=\"\" id=\"eh27\">\n",
      "             <style>\n",
      "              #eh27 input+label:before {border-color:#12a30d; }\n",
      "                                                            #eh27 input:checked+label:before {background:#12a30d; }\n",
      "             </style>\n",
      "             <input class=\"rounded black\" id=\"ch-el-46-27\" name=\"attr[46][]\" type=\"checkbox\" value=\"27\"/>\n",
      "             <label for=\"ch-el-46-27\">\n",
      "              Կանաչ\n",
      "             </label>\n",
      "            </p>\n",
      "            <p class=\"\" id=\"eh28\">\n",
      "             <style>\n",
      "              #eh28 input+label:before {border-color:#c7c7c7; }\n",
      "                                                            #eh28 input:checked+label:before {background:#c7c7c7; }\n",
      "             </style>\n",
      "             <input class=\"rounded black\" id=\"ch-el-46-28\" name=\"attr[46][]\" type=\"checkbox\" value=\"28\"/>\n",
      "             <label for=\"ch-el-46-28\">\n",
      "              Մոխրագույն\n",
      "             </label>\n",
      "            </p>\n",
      "            <p class=\"\" id=\"eh29\">\n",
      "             <style>\n",
      "              #eh29 input+label:before {border-color:#8fcdff; }\n",
      "                                                            #eh29 input:checked+label:before {background:#8fcdff; }\n",
      "             </style>\n",
      "             <input class=\"rounded black\" id=\"ch-el-46-29\" name=\"attr[46][]\" type=\"checkbox\" value=\"29\"/>\n",
      "             <label for=\"ch-el-46-29\">\n",
      "              Երկնագույն\n",
      "             </label>\n",
      "            </p>\n",
      "            <p class=\"\" id=\"eh30\">\n",
      "             <style>\n",
      "              #eh30 input+label:before {border-color:#ff3b79; }\n",
      "                                                            #eh30 input:checked+label:before {background:#ff3b79; }\n",
      "             </style>\n",
      "             <input class=\"rounded black\" id=\"ch-el-46-30\" name=\"attr[46][]\" type=\"checkbox\" value=\"30\"/>\n",
      "             <label for=\"ch-el-46-30\">\n",
      "              Վարդագույն\n",
      "             </label>\n",
      "            </p>\n",
      "            <p class=\"\" id=\"eh31\">\n",
      "             <style>\n",
      "              #eh31 input+label:before {border-color:#f5f500; }\n",
      "                                                            #eh31 input:checked+label:before {background:#f5f500; }\n",
      "             </style>\n",
      "             <input class=\"rounded black\" id=\"ch-el-46-31\" name=\"attr[46][]\" type=\"checkbox\" value=\"31\"/>\n",
      "             <label for=\"ch-el-46-31\">\n",
      "              Դեղին\n",
      "             </label>\n",
      "            </p>\n",
      "            <p class=\"\" id=\"eh32\">\n",
      "             <style>\n",
      "              #eh32 input+label:before {border-color:#d6ab00; }\n",
      "                                                            #eh32 input:checked+label:before {background:#d6ab00; }\n",
      "             </style>\n",
      "             <input class=\"rounded black\" id=\"ch-el-46-32\" name=\"attr[46][]\" type=\"checkbox\" value=\"32\"/>\n",
      "             <label for=\"ch-el-46-32\">\n",
      "              Ոսկեգույն\n",
      "             </label>\n",
      "            </p>\n",
      "            <p class=\"\" id=\"eh33\">\n",
      "             <style>\n",
      "              #eh33 input+label:before {border-color:#592f00; }\n",
      "                                                            #eh33 input:checked+label:before {background:#592f00; }\n",
      "             </style>\n",
      "             <input class=\"rounded black\" id=\"ch-el-46-33\" name=\"attr[46][]\" type=\"checkbox\" value=\"33\"/>\n",
      "             <label for=\"ch-el-46-33\">\n",
      "              Շագանակագույն\n",
      "             </label>\n",
      "            </p>\n",
      "            <p class=\"\" id=\"eh34\">\n",
      "             <style>\n",
      "              #eh34 input+label:before {border-color:#c70e99; }\n",
      "                                                            #eh34 input:checked+label:before {background:#c70e99; }\n",
      "             </style>\n",
      "             <input class=\"rounded black\" id=\"ch-el-46-34\" name=\"attr[46][]\" type=\"checkbox\" value=\"34\"/>\n",
      "             <label for=\"ch-el-46-34\">\n",
      "              Մանուշակագույն\n",
      "             </label>\n",
      "            </p>\n",
      "            <p class=\"\" id=\"eh35\">\n",
      "             <style>\n",
      "              #eh35 input+label:before {border-color:#fac000; }\n",
      "                                                            #eh35 input:checked+label:before {background:#fac000; }\n",
      "             </style>\n",
      "             <input class=\"rounded black\" id=\"ch-el-46-35\" name=\"attr[46][]\" type=\"checkbox\" value=\"35\"/>\n",
      "             <label for=\"ch-el-46-35\">\n",
      "              Նարնջագույն\n",
      "             </label>\n",
      "            </p>\n",
      "            <p class=\"\" id=\"eh36\">\n",
      "             <style>\n",
      "              #eh36 input+label:before {border-color:#ccb486; }\n",
      "                                                            #eh36 input:checked+label:before {background:#ccb486; }\n",
      "             </style>\n",
      "             <input class=\"rounded black\" id=\"ch-el-46-36\" name=\"attr[46][]\" type=\"checkbox\" value=\"36\"/>\n",
      "             <label for=\"ch-el-46-36\">\n",
      "              Բեժ\n",
      "             </label>\n",
      "            </p>\n",
      "            <p class=\"\" id=\"eh37\">\n",
      "             <style>\n",
      "              #eh37 input+label:before {border-color:#4d3b15; }\n",
      "                                                            #eh37 input:checked+label:before {background:#4d3b15; }\n",
      "             </style>\n",
      "             <input class=\"rounded black\" id=\"ch-el-46-37\" name=\"attr[46][]\" type=\"checkbox\" value=\"37\"/>\n",
      "             <label for=\"ch-el-46-37\">\n",
      "              Սմբկագույն\n",
      "             </label>\n",
      "            </p>\n",
      "            <p class=\"\" id=\"eh38\">\n",
      "             <style>\n",
      "              #eh38 input+label:before {border-color:#e80049; }\n",
      "                                                            #eh38 input:checked+label:before {background:#e80049; }\n",
      "             </style>\n",
      "             <input class=\"rounded black\" id=\"ch-el-46-38\" name=\"attr[46][]\" type=\"checkbox\" value=\"38\"/>\n",
      "             <label for=\"ch-el-46-38\">\n",
      "              Բալագույն\n",
      "             </label>\n",
      "            </p>\n",
      "            <p class=\"\" id=\"eh39\">\n",
      "             <style>\n",
      "              #eh39 input+label:before {border-color:#bababa; }\n",
      "                                                            #eh39 input:checked+label:before {background:#bababa; }\n",
      "             </style>\n",
      "             <input class=\"rounded black\" id=\"ch-el-46-39\" name=\"attr[46][]\" type=\"checkbox\" value=\"39\"/>\n",
      "             <label for=\"ch-el-46-39\">\n",
      "              Այլ գույն\n",
      "             </label>\n",
      "            </p>\n",
      "            <a class=\"waves-effect waves-brown btn-flat brown-text filter-more\">\n",
      "             <span>\n",
      "              ավելին\n",
      "             </span>\n",
      "             <span class=\"exed\">\n",
      "              կոմպակտ\n",
      "             </span>\n",
      "            </a>\n",
      "            <!-- textfield -->\n",
      "            <!-- unit -->\n",
      "            <!-- yearselect -->\n",
      "            <!-- conditionblock -->\n",
      "            <!-- priceblock -->\n",
      "            <!-- geoblock -->\n",
      "           </div>\n",
      "          </li>\n",
      "          <li>\n",
      "           <div class=\"collapsible-header\">\n",
      "            Գտնվելու վայրը\n",
      "           </div>\n",
      "           <div class=\"collapsible-body\">\n",
      "            <!-- select -->\n",
      "            <!-- colorselect -->\n",
      "            <!-- textfield -->\n",
      "            <!-- unit -->\n",
      "            <!-- yearselect -->\n",
      "            <!-- conditionblock -->\n",
      "            <!-- priceblock -->\n",
      "            <!-- geoblock -->\n",
      "            <div class=\"p\">\n",
      "             <input class=\"geo-filter filled-in\" data-country-id=\"12\" id=\"ch-country-12\" name=\"geo[]\" type=\"checkbox\" value=\"12\"/>\n",
      "             <label for=\"ch-country-12\">\n",
      "              Հայաստան\n",
      "             </label>\n",
      "             <div class=\"region-cont\">\n",
      "             </div>\n",
      "            </div>\n",
      "            <div class=\"p\">\n",
      "             <input class=\"geo-filter filled-in\" data-country-id=\"111\" id=\"ch-country-111\" name=\"geo[]\" type=\"checkbox\" value=\"111\"/>\n",
      "             <label for=\"ch-country-111\">\n",
      "              Ճապոնիա\n",
      "             </label>\n",
      "             <div class=\"region-cont\">\n",
      "             </div>\n",
      "            </div>\n",
      "            <div class=\"p\">\n",
      "             <input class=\"geo-filter filled-in\" data-country-id=\"83\" id=\"ch-country-83\" name=\"geo[]\" type=\"checkbox\" value=\"83\"/>\n",
      "             <label for=\"ch-country-83\">\n",
      "              Գերմանիա\n",
      "             </label>\n",
      "             <div class=\"region-cont\">\n",
      "             </div>\n",
      "            </div>\n",
      "            <div class=\"p\">\n",
      "             <input class=\"geo-filter filled-in\" data-country-id=\"82\" id=\"ch-country-82\" name=\"geo[]\" type=\"checkbox\" value=\"82\"/>\n",
      "             <label for=\"ch-country-82\">\n",
      "              Վրաստան\n",
      "             </label>\n",
      "             <div class=\"region-cont\">\n",
      "             </div>\n",
      "            </div>\n",
      "            <div class=\"p\">\n",
      "             <input class=\"geo-filter filled-in\" data-country-id=\"182\" id=\"ch-country-182\" name=\"geo[]\" type=\"checkbox\" value=\"182\"/>\n",
      "             <label for=\"ch-country-182\">\n",
      "              Ռուսաստան\n",
      "             </label>\n",
      "             <div class=\"region-cont\">\n",
      "             </div>\n",
      "            </div>\n",
      "            <div class=\"p\">\n",
      "             <input class=\"geo-filter filled-in\" data-country-id=\"234\" id=\"ch-country-234\" name=\"geo[]\" type=\"checkbox\" value=\"234\"/>\n",
      "             <label for=\"ch-country-234\">\n",
      "              ԱՄԷ\n",
      "             </label>\n",
      "             <div class=\"region-cont\">\n",
      "             </div>\n",
      "            </div>\n",
      "            <div class=\"p\">\n",
      "             <input class=\"geo-filter filled-in\" data-country-id=\"236\" id=\"ch-country-236\" name=\"geo[]\" type=\"checkbox\" value=\"236\"/>\n",
      "             <label for=\"ch-country-236\">\n",
      "              ԱՄՆ\n",
      "             </label>\n",
      "             <div class=\"region-cont\">\n",
      "             </div>\n",
      "            </div>\n",
      "            <div class=\"p\">\n",
      "             <input class=\"geo-filter filled-in\" data-country-id=\"2\" id=\"ch-country-2\" name=\"geo[]\" type=\"checkbox\" value=\"2\"/>\n",
      "             <label for=\"ch-country-2\">\n",
      "              Հարավային Կորեա\n",
      "             </label>\n",
      "             <div class=\"region-cont\">\n",
      "             </div>\n",
      "            </div>\n",
      "            <div class=\"switch marg-top-24 bold\">\n",
      "             <label>\n",
      "              <input name=\"intransit\" type=\"checkbox\" value=\"1\"/>\n",
      "              <span class=\"lever\">\n",
      "              </span>\n",
      "              Ճանապարհին է\n",
      "             </label>\n",
      "             <label>\n",
      "              <input name=\"inauction\" type=\"checkbox\" value=\"1\"/>\n",
      "              <span class=\"lever\">\n",
      "              </span>\n",
      "              Աճուրդում է\n",
      "             </label>\n",
      "            </div>\n",
      "           </div>\n",
      "          </li>\n",
      "          <li>\n",
      "           <div class=\"collapsible-header\">\n",
      "            Վիճակը\n",
      "           </div>\n",
      "           <div class=\"collapsible-body\">\n",
      "            <!-- select -->\n",
      "            <!-- colorselect -->\n",
      "            <!-- textfield -->\n",
      "            <!-- unit -->\n",
      "            <!-- yearselect -->\n",
      "            <!-- conditionblock -->\n",
      "            <p>\n",
      "             <input class=\"filled-in\" id=\"ch-condition-1\" name=\"condition[]\" type=\"checkbox\" value=\"1\">\n",
      "              <label for=\"ch-condition-1\">\n",
      "               Գերազանց\n",
      "              </label>\n",
      "             </input>\n",
      "            </p>\n",
      "            <p>\n",
      "             <input class=\"filled-in\" id=\"ch-condition-2\" name=\"condition[]\" type=\"checkbox\" value=\"2\">\n",
      "              <label for=\"ch-condition-2\">\n",
      "               Լավ\n",
      "              </label>\n",
      "             </input>\n",
      "            </p>\n",
      "            <p>\n",
      "             <input class=\"filled-in\" id=\"ch-condition-3\" name=\"condition[]\" type=\"checkbox\" value=\"3\"/>\n",
      "             <label for=\"ch-condition-3\">\n",
      "              Նորմալ\n",
      "             </label>\n",
      "            </p>\n",
      "            <p>\n",
      "             <input class=\"filled-in\" id=\"ch-condition-4\" name=\"condition[]\" type=\"checkbox\" value=\"4\"/>\n",
      "             <label for=\"ch-condition-4\">\n",
      "              Վթարված\n",
      "             </label>\n",
      "            </p>\n",
      "            <p>\n",
      "             <input class=\"filled-in\" id=\"ch-condition-5\" name=\"condition[]\" type=\"checkbox\" value=\"5\"/>\n",
      "             <label for=\"ch-condition-5\">\n",
      "              Պահեստամասերի համար\n",
      "             </label>\n",
      "            </p>\n",
      "            <!-- priceblock -->\n",
      "            <!-- geoblock -->\n",
      "           </div>\n",
      "          </li>\n",
      "          <li>\n",
      "           <div class=\"collapsible-header\">\n",
      "            Լրացուցիչ օպցիաներ\n",
      "           </div>\n",
      "           <div class=\"collapsible-body expandable\">\n",
      "            <p>\n",
      "             <input class=\"filled-in\" id=\"ch-el-198\" name=\"attr[198]\" type=\"checkbox\" value=\"ckd\"/>\n",
      "             <label for=\"ch-el-198\">\n",
      "              Գնված է ավտոսրահից\n",
      "             </label>\n",
      "            </p>\n",
      "            <p>\n",
      "             <input class=\"filled-in\" id=\"ch-el-39\" name=\"attr[39]\" type=\"checkbox\" value=\"ckd\"/>\n",
      "             <label for=\"ch-el-39\">\n",
      "              Կոնդիցիոներ\n",
      "             </label>\n",
      "            </p>\n",
      "            <p>\n",
      "             <input class=\"filled-in\" id=\"ch-el-40\" name=\"attr[40]\" type=\"checkbox\" value=\"ckd\"/>\n",
      "             <label for=\"ch-el-40\">\n",
      "              Կլիմատ-կոնտրոլ\n",
      "             </label>\n",
      "            </p>\n",
      "            <p>\n",
      "             <input class=\"filled-in\" id=\"ch-el-2\" name=\"attr[2]\" type=\"checkbox\" value=\"ckd\"/>\n",
      "             <label for=\"ch-el-2\">\n",
      "              ABS\n",
      "             </label>\n",
      "            </p>\n",
      "            <p>\n",
      "             <input class=\"filled-in\" id=\"ch-el-6\" name=\"attr[6]\" type=\"checkbox\" value=\"ckd\"/>\n",
      "             <label for=\"ch-el-6\">\n",
      "              Ալյումինե սկավառակներ\n",
      "             </label>\n",
      "            </p>\n",
      "            <p>\n",
      "             <input class=\"filled-in\" id=\"ch-el-8\" name=\"attr[8]\" type=\"checkbox\" value=\"ckd\"/>\n",
      "             <label for=\"ch-el-8\">\n",
      "              Լյուկ\n",
      "             </label>\n",
      "            </p>\n",
      "            <p>\n",
      "             <input class=\"filled-in\" id=\"ch-el-43\" name=\"attr[43]\" type=\"checkbox\" value=\"ckd\"/>\n",
      "             <label for=\"ch-el-43\">\n",
      "              Էլեկտրակառավարվող ապակիներ\n",
      "             </label>\n",
      "            </p>\n",
      "            <p>\n",
      "             <input class=\"filled-in\" id=\"ch-el-32\" name=\"attr[32]\" type=\"checkbox\" value=\"ckd\"/>\n",
      "             <label for=\"ch-el-32\">\n",
      "              Մոնիտոր/TV\n",
      "             </label>\n",
      "            </p>\n",
      "            <a class=\"waves-effect waves-brown btn-flat brown-text filter-more\">\n",
      "             <span>\n",
      "              ավելին\n",
      "             </span>\n",
      "             <span class=\"exed\">\n",
      "              կոմպակտ\n",
      "             </span>\n",
      "            </a>\n",
      "           </div>\n",
      "          </li>\n",
      "         </li>\n",
      "        </li>\n",
      "       </ul>\n",
      "       <div class=\"fixed\" id=\"research\">\n",
      "        <!--  հայտ. -->\n",
      "        <button class=\"waves-effect waves-light btn blue marg-top-12 marg-bot-12\" id=\"research-btn\" type=\"button\">\n",
      "         <i class=\"material-icons\" style=\"vertical-align: middle; line-height: 1; font-size: 18px\">\n",
      "          \n",
      "         </i>\n",
      "         <span>\n",
      "         </span>\n",
      "        </button>\n",
      "        <button class=\"waves-effect waves-light btn blue-grey darken-4 black-text absolute tooltip\" data-tipso=\"Զրոյացնել որոնման չափանիշները\" id=\"filter-form-reset\" type=\"button\">\n",
      "         <i class=\"material-icons\">\n",
      "          control_point\n",
      "         </i>\n",
      "        </button>\n",
      "       </div>\n",
      "      </form>\n",
      "     </div>\n",
      "     <div class=\"col s12 m9 l9 relative\" id=\"search-cont\">\n",
      "      <textarea class=\"materialize\" id=\"sdebug\" style=\"margin-top:50px; height: 150px; margin-left: 22px; width:80%; display: none; \"></textarea>\n",
      "      <div class=\"search-result-info alert alert-success large\">\n",
      "       Գտնվել է\n",
      "       <span class=\"bold\">\n",
      "       </span>\n",
      "       հայտարարություն\n",
      "      </div>\n",
      "      <div class=\"white shadow row\" id=\"search-tools\">\n",
      "       <div class=\"col s12 l4\">\n",
      "        <select class=\"select filter-sort\" data-placeholder=\"Դասավորում\" name=\"filter-sort\" style=\"width:90%\">\n",
      "         <option selected=\"\" value=\"latest\">\n",
      "          Ամենաթարմերը\n",
      "         </option>\n",
      "         <option value=\"price-asc\">\n",
      "          Գին՝  էժանից - թանկ\n",
      "         </option>\n",
      "         <option value=\"price-desc\">\n",
      "          Գին՝  թանկից - էժան\n",
      "         </option>\n",
      "         <option value=\"year-asc\">\n",
      "          Տարեթիվ՝  ամենահները\n",
      "         </option>\n",
      "         <option value=\"year-desc\">\n",
      "          Տարեթիվ՝  ամենանորերը\n",
      "         </option>\n",
      "        </select>\n",
      "       </div>\n",
      "       <div class=\"col s6 l5 search-checks\">\n",
      "        <p class=\"left marg-right-18\">\n",
      "         <input class=\"filled-in utype\" id=\"ch-individuals\" name=\"individuals\" type=\"checkbox\" value=\"n\"/>\n",
      "         <label for=\"ch-individuals\">\n",
      "          Անհատներ\n",
      "         </label>\n",
      "        </p>\n",
      "        <p class=\"left\">\n",
      "         <input class=\"filled-in utype\" id=\"ch-dealers\" name=\"dealers\" type=\"checkbox\" value=\"y\"/>\n",
      "         <label for=\"ch-dealers\">\n",
      "          Դիլերներ\n",
      "         </label>\n",
      "        </p>\n",
      "       </div>\n",
      "       <div class=\"col s6 l3 search-view right-align\">\n",
      "        <a class=\"\" data-layout=\"grid\" title=\"\">\n",
      "         <i class=\"material-icons\">\n",
      "          apps\n",
      "         </i>\n",
      "        </a>\n",
      "        <a class=\"sel\" data-layout=\"list\" title=\"\">\n",
      "         <i class=\"material-icons\">\n",
      "          view_list\n",
      "         </i>\n",
      "        </a>\n",
      "        <a class=\"\" data-layout=\"complist\" title=\"\">\n",
      "         <i class=\"material-icons\">\n",
      "          menu\n",
      "         </i>\n",
      "        </a>\n",
      "       </div>\n",
      "      </div>\n",
      "      <div class=\"list\" id=\"search-result\">\n",
      "       <!-- search results here -->\n",
      "      </div>\n",
      "      <!-- <div class=\"col l12 center load-more pad-all-36\">\n",
      "   <input type=\"hidden\" name=\"pagenum\" value=\"2\">\n",
      "\t\n",
      "  <div class=\"preloader-wrapper small\">\n",
      "    <div class=\"spinner-layer spinner-blue-only\">\n",
      "      <div class=\"circle-clipper left\">\n",
      "        <div class=\"circle\"></div>\n",
      "      </div><div class=\"gap-patch\">\n",
      "        <div class=\"circle\"></div>\n",
      "      </div><div class=\"circle-clipper right\">\n",
      "        <div class=\"circle\"></div>\n",
      "      </div>\n",
      "    </div>\n",
      "  </div>\n",
      "       \n",
      "\tԲեռնել ավելին\n",
      "</div> -->\n",
      "      <div class=\"search-pagination pad-all-36 clearfix\">\n",
      "      </div>\n",
      "      <input id=\"popupData\" type=\"hidden\" value='&lt;div class=\"content-block\"&gt;&lt;div class=\"phone-number-block\"&gt;&lt;img src=\"/static/other/car-vtb.png\" alt=\"\"&gt;&lt;img src=\"/static/other/loan.png\" alt=\"\"&gt;&lt;/div&gt;&lt;div class=\"lease-info-block\"&gt;&lt;ul&gt;&lt;li&gt;&lt;p&gt;Կանխավճար(%)&lt;/p&gt;&lt;span&gt;&lt;input id=\"pUps\" type=\"text\"&gt;&lt;/span&gt;&lt;/li&gt;&lt;li&gt;&lt;p&gt;Ժամկետ (ամիս)&lt;/p&gt;&lt;span&gt;&lt;input id=\"pUpd\" type=\"text\"&gt;&lt;/span&gt;&lt;/li&gt;&lt;li&gt;&lt;p&gt;Ամսավճար (֏)&lt;/p&gt;&lt;span id=\"pUpp\"&gt;&lt;/span&gt;&lt;/li&gt;&lt;/ul&gt;&lt;/div&gt;&lt;div class=\"vtb-dialog-footer\"&gt;&lt;!--&lt;span class=\"vtb-phone\"&gt;&lt;i class=\"material-icons\"&gt;phone&lt;/i&gt;87-87&lt;/span&gt;--&gt;&lt;button class=\"waves-effect waves-light btn continue-block\"&gt;Դիմել&lt;/button&gt;&lt;/div&gt;&lt;/div&gt;'/>\n",
      "     </div>\n",
      "    </div>\n",
      "    <div class=\"col s12 m4 l2 pad-top-12\">\n",
      "     <div class=\"azd marg-left-12 marg-top-12\">\n",
      "      <div class=\"bncont\" data-id=\"13\">\n",
      "       <a class=\"links\" href=\"http://www.mosesco.am/\" target=\"_blank\">\n",
      "        <img alt=\"\" src=\"/static/azd/11/d07ec64fa4c342e8ce35c66cb1bf6345.gif\"/>\n",
      "       </a>\n",
      "      </div>\n",
      "     </div>\n",
      "     <div class=\"azd marg-left-12\">\n",
      "      <div class=\"bncont\" data-id=\"4\">\n",
      "       <a class=\"links\" href=\"https://automarket.am/\" target=\"_blank\">\n",
      "        <img alt=\"\" src=\"/static/azd/177/489331e0fcda7ba9f14eb3d3c7781e31.gif\"/>\n",
      "       </a>\n",
      "      </div>\n",
      "     </div>\n",
      "     <div class=\"azd marg-left-12\">\n",
      "      <div class=\"bncont\" data-id=\"45\">\n",
      "       <a class=\"links\" href=\"https://www.capitalcredit.am/gravov-arag-varker/?utm_source=auto.am&amp;utm_medium=banner_ad&amp;utm_campaign=auto.am_banner\" target=\"_blank\">\n",
      "        <img alt=\"\" src=\"/static/azd/236/6dda9b84a33a098e65dfbf9f2c2f3a36.gif\"/>\n",
      "       </a>\n",
      "      </div>\n",
      "     </div>\n",
      "     <div class=\"azd marg-left-12\">\n",
      "      <div class=\"bncont\" data-id=\"785\">\n",
      "       <iframe class=\"ad-iframe\" frameborder=\"0\" height=\"230px\" src=\"//auto.am/static/azd/16/index.html\" width=\"100%\">\n",
      "       </iframe>\n",
      "      </div>\n",
      "     </div>\n",
      "     <div class=\"azd marg-left-12\">\n",
      "     </div>\n",
      "     <div class=\"azd marg-left-12\">\n",
      "     </div>\n",
      "     <div class=\"azd marg-left-12\">\n",
      "     </div>\n",
      "    </div>\n",
      "   </div>\n",
      "  </section>\n",
      "  <div class=\"closed\" id=\"chat-plugin-wrapper\">\n",
      "  </div>\n",
      "  <!-- footer -->\n",
      "  <footer>\n",
      "   <div class=\"wrapper\">\n",
      "    <div class=\"row footer-menu\">\n",
      "     <div class=\"col l12\">\n",
      "      <a href=\"/hy/about\">\n",
      "       Նախագծի մասին\n",
      "      </a>\n",
      "      <a href=\"/hy/terms\">\n",
      "       Օգտագործման կանոնները\n",
      "      </a>\n",
      "      <a href=\"/hy/advertisement\">\n",
      "       Գովազդ կայքում\n",
      "      </a>\n",
      "      <a href=\"/hy/help\">\n",
      "       Օգնություն\n",
      "      </a>\n",
      "      <a href=\"/hy/contacts\">\n",
      "       Կապ\n",
      "      </a>\n",
      "     </div>\n",
      "    </div>\n",
      "    <div class=\"row footer-copy\">\n",
      "     <div class=\"col s12 m8 l6\">\n",
      "      <div class=\"footer-logo\">\n",
      "       <a>\n",
      "        Auto.am\n",
      "       </a>\n",
      "      </div>\n",
      "      <div class=\"footer-text\">\n",
      "       ©2003-2022 auto.am\n",
      "      </div>\n",
      "     </div>\n",
      "     <div class=\"col s12 m8 l3\">\n",
      "     </div>\n",
      "     <div class=\"col s12 m4 l3 footer-author\">\n",
      "      <span>\n",
      "       Մշակված է\n",
      "       <a class=\"red-text\" href=\"//matemat.io\" target=\"_blank\">\n",
      "        MATEMAT\n",
      "       </a>\n",
      "       -ում\n",
      "      </span>\n",
      "     </div>\n",
      "    </div>\n",
      "   </div>\n",
      "  </footer>\n",
      "  <!-- /footer -->\n",
      "  <!-- <div class=\"rendertime\">\n",
      "        Render took <b>1.67</b> seconds\n",
      "    </div> -->\n",
      "  <!-- scripts -->\n",
      "  <script src=\"/assets/js/lib.js\">\n",
      "  </script>\n",
      "  <script src=\"/assets/js/modal.js\">\n",
      "  </script>\n",
      "  <script src=\"/assets/js/app.js\">\n",
      "  </script>\n",
      "  <script src=\"/assets/js/search.js\">\n",
      "  </script>\n",
      "  <script src=\"/assets/js/loan.js?v2\">\n",
      "  </script>\n",
      " </body>\n",
      "</html>\n",
      "\n"
     ]
    }
   ],
   "source": [
    "print(soup.prettify())"
   ],
   "metadata": {
    "collapsed": false,
    "pycharm": {
     "name": "#%%\n"
    }
   }
  },
  {
   "cell_type": "code",
   "execution_count": 70,
   "outputs": [],
   "source": [
    "cars = soup.find_all(\"span\", class_=\"card-title bold\")"
   ],
   "metadata": {
    "collapsed": false,
    "pycharm": {
     "name": "#%%\n"
    }
   }
  },
  {
   "cell_type": "code",
   "execution_count": 71,
   "outputs": [
    {
     "data": {
      "text/plain": "15"
     },
     "execution_count": 71,
     "metadata": {},
     "output_type": "execute_result"
    }
   ],
   "source": [
    "len(cars)\n"
   ],
   "metadata": {
    "collapsed": false,
    "pycharm": {
     "name": "#%%\n"
    }
   }
  },
  {
   "cell_type": "code",
   "execution_count": 11,
   "outputs": [
    {
     "name": "stdout",
     "output_type": "stream",
     "text": [
      "<div class=\"card\">\n",
      " <a href=\"/offer/2793812\">\n",
      "  <div class=\"card-image\">\n",
      "   <img class=\"flipimg\" data-hover-img=\"/static/offers/2793812/s-c39e3ac34d1a2fa3dba739201a5a97e1.jpg\" src=\"/static/offers/2793812/s-b3e0f743650d2daaa3e142b24de396f7.jpg\"/>\n",
      "   <span>\n",
      "    Շտապ\n",
      "   </span>\n",
      "   <em>\n",
      "   </em>\n",
      "  </div>\n",
      "  <span class=\"card-title bold\">\n",
      "   Bentley Continental Flying Spur\n",
      "  </span>\n",
      "  <div class=\"card-content\">\n",
      "   <span class=\"bold\">\n",
      "    2006\n",
      "   </span>\n",
      "   <p class=\"price right\">\n",
      "    <span class=\"\">\n",
      "     $ 35 000\n",
      "    </span>\n",
      "   </p>\n",
      "  </div>\n",
      " </a>\n",
      " <div class=\"card-action\">\n",
      "  <!-- data-position=\"bottom\" data-delay=\"50\" data-tooltip=\"Մեքենայի վազքը\" -->\n",
      "  <span class=\"left\">\n",
      "   1000 կմ\n",
      "  </span>\n",
      " </div>\n",
      "</div>\n",
      "\n"
     ]
    }
   ],
   "source": [
    "print(cars[0].prettify())"
   ],
   "metadata": {
    "collapsed": false,
    "pycharm": {
     "name": "#%%\n"
    }
   }
  },
  {
   "cell_type": "code",
   "execution_count": 54,
   "outputs": [],
   "source": [
    "def func_car_info(car_element):\n",
    "    \"\"\"\n",
    "\n",
    "    :param car_element: soup object with the class of card about the car\n",
    "    :return: car_info - a list of important parameters about the car such as milage,\n",
    "    \"\"\"\n",
    "\n",
    "    title_element = car_element.find(\"span\", class_=\"card-title bold\")\n",
    "\n",
    "    model, make = title_element.text.split(' ')[0], ' '.join(title_element.text.split(' ')[1:])\n",
    "\n",
    "    price_element = car_element.find(\"p\", class_=\"price right\")\n",
    "    try:\n",
    "        price = int(float(price_element.text.split('$')[-1].strip(' ').replace(' ', '')))\n",
    "    except ValueError:\n",
    "        price = price_element.text\n",
    "\n",
    "    year_element = car_element.find(\"div\", class_ = \"card-content\" )\n",
    "    year = int(str(year_element.text).splitlines()[1])\n",
    "\n",
    "    page_url_element = car_element.find(\"a\").get('href')\n",
    "    page_url = \"https://auto.am/s\" + page_url_element\n",
    "\n",
    "    mileage_element =  car_element.find(\"span\", class_=\"left\")\n",
    "    mileage = int(mileage_element.text.split(' ')[0])\n",
    "\n",
    "    car_info = [model, make, price, year, mileage, page_url]\n",
    "    print(car_info)\n",
    "    return car_info"
   ],
   "metadata": {
    "collapsed": false,
    "pycharm": {
     "name": "#%%\n"
    }
   }
  },
  {
   "cell_type": "code",
   "execution_count": 55,
   "outputs": [
    {
     "name": "stdout",
     "output_type": "stream",
     "text": [
      "['Bentley', 'Continental Flying Spur ', 35000, 2006, 1000, 'https://auto.am/s/offer/2793812']\n",
      "['Ford', 'Fusion ', 13000, 2013, 1000, 'https://auto.am/s/offer/2815837']\n",
      "['Lexus', 'RX 350 ', 14200, 2006, 1000, 'https://auto.am/s/offer/2593344']\n",
      "['Mercedes-Benz', 'S 550 ', 14000, 2006, 1000, 'https://auto.am/s/offer/2815703']\n",
      "['Mercedes-Benz', 'G 500 ', 32000, 2005, 1000, 'https://auto.am/s/offer/2815696']\n",
      "['Mercedes-Benz', 'E 350 ', 9500, 2008, 1000, 'https://auto.am/s/offer/2815682']\n",
      "['Mercedes-Benz', 'S 500 ', '\\nՊայմ.\\n', 2013, 1000, 'https://auto.am/s/offer/2815640']\n",
      "['Volkswagen', 'ID.4 ', 40000, 2021, 1000, 'https://auto.am/s/offer/2815564']\n",
      "['BMW', '520 ', 18500, 2016, 1000, 'https://auto.am/s/offer/2815556']\n",
      "['BMW', 'X5 ', 15200, 2007, 1000, 'https://auto.am/s/offer/2815003']\n",
      "['Chevrolet', 'Trax ', 12900, 2016, 1000, 'https://auto.am/s/offer/2815392']\n",
      "['Jeep', 'Compass ', 16200, 2017, 1000, 'https://auto.am/s/offer/2814204']\n",
      "['Mercedes-Benz', 'E 320 ', 10500, 2004, 1000, 'https://auto.am/s/offer/2815008']\n",
      "['Infiniti', 'G37 ', 11500, 2013, 1000, 'https://auto.am/s/offer/2815424']\n",
      "['Tesla', 'Model 3 ', 37300, 2018, 1000, 'https://auto.am/s/offer/2799046']\n"
     ]
    }
   ],
   "source": [
    "cars_info_l = []\n",
    "cars = soup.find_all(\"div\", class_=\"card\")\n",
    "for car_element in cars:\n",
    "    car_info = func_car_info(car_element)\n",
    "    cars_info_l.append(car_info)"
   ],
   "metadata": {
    "collapsed": false,
    "pycharm": {
     "name": "#%%\n"
    }
   }
  },
  {
   "cell_type": "markdown",
   "source": [
    "Search results"
   ],
   "metadata": {
    "collapsed": false,
    "pycharm": {
     "name": "#%% md\n"
    }
   }
  },
  {
   "cell_type": "code",
   "execution_count": 64,
   "outputs": [],
   "source": [
    "searched_cars = soup.find_all(\"div\", class_ = \"card  \")"
   ],
   "metadata": {
    "collapsed": false,
    "pycharm": {
     "name": "#%%\n"
    }
   }
  },
  {
   "cell_type": "markdown",
   "source": [
    "<h2> List.am attempt </h2>"
   ],
   "metadata": {
    "collapsed": false,
    "pycharm": {
     "name": "#%% md\n"
    }
   }
  },
  {
   "cell_type": "code",
   "execution_count": 5,
   "outputs": [],
   "source": [
    "\n",
    "import cloudscraper\n",
    "\n",
    "list_URL = \"https://www.list.am/category/23?gl=2\"\n",
    "list_URL2 = 'https://www.list.am/category/23/2?gl=2'\n",
    "scraper = cloudscraper.create_scraper()\n",
    "meG = scraper.get(list_URL)\n",
    "\n",
    "list_soup = BeautifulSoup(meG.content, \"html.parser\")\n"
   ],
   "metadata": {
    "collapsed": false,
    "pycharm": {
     "name": "#%%\n"
    }
   }
  },
  {
   "cell_type": "code",
   "execution_count": 12,
   "outputs": [
    {
     "data": {
      "text/plain": "113087"
     },
     "execution_count": 12,
     "metadata": {},
     "output_type": "execute_result"
    }
   ],
   "source": [
    "file1 = open('search_result.html', 'w')\n",
    "\n",
    "file1.write(meG.text)"
   ],
   "metadata": {
    "collapsed": false,
    "pycharm": {
     "name": "#%%\n"
    }
   }
  },
  {
   "cell_type": "code",
   "execution_count": 33,
   "outputs": [],
   "source": [
    "search_cont = list_soup.find(id = 'contentr')"
   ],
   "metadata": {
    "collapsed": false,
    "pycharm": {
     "name": "#%%\n"
    }
   }
  },
  {
   "cell_type": "code",
   "execution_count": 124,
   "outputs": [
    {
     "data": {
      "text/plain": "[<a href=\"/item/17670438\"><span></span><div><div>Kia Spectra, 2.0 լ, 2003 թ., գազ</div><div><div class=\"p\">1,500,000 ֏</div></div><div class=\"at\">Նոր Նորք, 2003 թ., 170,000 կմ, Բենզին</div><div class=\"d\">Կիրակի, Սեպտեմբեր 18, 2022 18:31</div></div></a>,\n <a class=\"h\" href=\"/item/17867622\"><img data-original=\"//s.list.am/r/861/62337861.webp\" src=\"\"/><div><div>UAZ (УАЗ) Hunter, 2.7 լ, լիաքարշ, 2011 թ.</div><div><div class=\"p\">$13,500</div><span class=\"u\">Շտապ!</span></div><div class=\"at\">Արաբկիր, 2011 թ., 70,000 կմ, Բենզին</div><div class=\"d\">Կիրակի, Սեպտեմբեր 18, 2022 18:31</div></div></a>,\n <a href=\"/item/17200704\"><img data-original=\"//s.list.am/r/037/58878037.webp\" src=\"\"/><div><div>Mitsubishi Pajero կուպե, 3.5 լ, լիաքարշ, 2011 թ., գազ</div><div><div class=\"p\">$15,500</div></div><div class=\"at\">Վանաձոր, 2011 թ., 195,000 կմ, Բենզին</div><div class=\"d\">Կիրակի, Սեպտեմբեր 18, 2022 18:31</div></div></a>,\n <a href=\"/item/18166308\"><img data-original=\"//s.list.am/r/900/64764900.webp\" src=\"\"/><div><div>MINI Clubman հետչբեք, 1.6 լ, 2009 թ.</div><div><div class=\"p\">$6,200</div></div><div class=\"at\">Գյումրի, 2009 թ., 250,000 կմ, Բենզին</div><div class=\"d\">Կիրակի, Սեպտեմբեր 18, 2022 18:31</div></div></a>,\n <a href=\"/item/18150868\"><img data-original=\"//s.list.am/r/801/63862801.webp\" src=\"\"/><div><div>Opel Astra ունիվերսալ, 1.6 լ, 1999 թ.</div><div><div class=\"p\">$4,300</div></div><div class=\"at\">Արմավիր, 1999 թ., 190,000 կմ, Բենզին</div><div class=\"d\">Կիրակի, Սեպտեմբեր 18, 2022 18:30</div></div></a>,\n <a href=\"/item/18259484\"><img data-original=\"//s.list.am/r/912/64757912.webp\" src=\"\"/><div><div>Kia Sorento, 3.5 լ, 2003 թ., գազ</div><div><div class=\"p\">$6,800</div></div><div class=\"at\">Արմավիր, 2003 թ., 15,000 կմ, Բենզին</div><div class=\"d\">Կիրակի, Սեպտեմբեր 18, 2022 18:30</div></div></a>,\n <a href=\"/item/17341457\"><img data-original=\"//s.list.am/r/627/59572627.webp\" src=\"\"/><div><div>BMW X5, 4.8 լ, լիաքարշ, 2007 թ.</div><div><div class=\"p\">$13,000</div></div><div class=\"at\">Ավան, 2007 թ., 240,000 կմ, Բենզին</div><div class=\"d\">Կիրակի, Սեպտեմբեր 18, 2022 18:30</div></div></a>,\n <a href=\"/item/16359215\"><img data-original=\"//s.list.am/r/637/54410637.webp\" src=\"\"/><div><div>BMW X5, 3.0 լ, լիաքարշ, 2012 թ.</div><div><div class=\"p\">9,891,000 ֏</div></div><div class=\"at\">Արարատ, 2012 թ., 134,000 կմ, Բենզին</div><div class=\"d\">Կիրակի, Սեպտեմբեր 18, 2022 18:30</div></div></a>,\n <a href=\"/item/18173609\"><img data-original=\"//s.list.am/r/135/63987135.webp\" src=\"\"/><div><div>Mercedes-Benz E-Class, 3.5 լ, լիաքարշ, 2011 թ.</div><div><div class=\"p\">$12,500</div></div><div class=\"at\">Վրաստան, 2011 թ., 94,000 կմ, Բենզին</div><div class=\"d\">Կիրակի, Սեպտեմբեր 18, 2022 18:30</div></div></a>,\n <a href=\"/item/18300903\"><img data-original=\"//s.list.am/r/778/64693778.webp\" src=\"\"/><div><div>Toyota RAV4, 2.5 լ, լիաքարշ, 2018 թ.</div><div><div class=\"p\">$29,000</div></div><div class=\"at\">Աբովյան, 2018 թ., 23,000 կմ, Բենզին</div><div class=\"d\">Կիրակի, Սեպտեմբեր 18, 2022 18:29</div></div></a>,\n <a href=\"/item/18177725\"><img data-original=\"//s.list.am/r/382/64010382.webp\" src=\"\"/><div><div>Opel Astra հետչբեք, 1.6 լ, 1998 թ., գազ</div><div><div class=\"p\">$3,400</div></div><div class=\"at\">Էջմիածին, 1998 թ., 240,000 կմ, Բենզին</div><div class=\"d\">Կիրակի, Սեպտեմբեր 18, 2022 18:29</div></div></a>,\n <a href=\"/item/18310464\"><img data-original=\"//s.list.am/r/173/64840173.webp\" src=\"\"/><div><div>Ford Fusion (North America), 1.5 լ, 2020 թ.</div><div><div class=\"p\">$20,000</div></div><div class=\"at\">Էրեբունի, 2020 թ., 24,500 մղոն, Բենզին</div><div class=\"d\">Կիրակի, Սեպտեմբեր 18, 2022 18:29</div></div></a>,\n <a href=\"/item/18305378\"><img data-original=\"//s.list.am/r/878/64718878.webp\" src=\"\"/><div><div>Kia Forte, 2.0 լ, 2013 թ., գազ</div><div><div class=\"p\">$8,000</div></div><div class=\"at\">Դավիթաշեն, 2013 թ., 124,000 մղոն, Բենզին</div><div class=\"d\">Կիրակի, Սեպտեմբեր 18, 2022 18:29</div></div></a>,\n <a href=\"/item/18278431\"><img data-original=\"//s.list.am/r/623/64566623.webp\" src=\"\"/><div><div>Opel Vectra, 1.6 լ, 1998 թ., գազ</div><div><div class=\"p\">$2,500</div></div><div class=\"at\">Աջափնյակ, 1998 թ., 300,000 կմ, Բենզին</div><div class=\"d\">Կիրակի, Սեպտեմբեր 18, 2022 18:29</div></div></a>,\n <a href=\"/item/18202862\"><img data-original=\"//s.list.am/r/146/64148146.webp\" src=\"\"/><div><div>BMW E36 սեդանի կուզով</div><div><span class=\"c\">Փնտրում եմ</span></div><div class=\"at\">Կենտրոն</div><div class=\"d\">Կիրակի, Սեպտեմբեր 18, 2022 18:29</div></div></a>,\n <a href=\"/item/17826432\"><img data-original=\"//s.list.am/r/231/62124231.webp\" src=\"\"/><div><div>Mitsubishi Pajero Sport, 3.0 լ, լիաքարշ, 1999 թ., գազ</div><div><div class=\"p\">$7,000</div></div><div class=\"at\">Ավան, 1999 թ., 214,000 կմ, Բենզին</div><div class=\"d\">Կիրակի, Սեպտեմբեր 18, 2022 18:28</div></div></a>,\n <a href=\"/item/17580247\"><img data-original=\"//s.list.am/r/426/60836426.webp\" src=\"\"/><div><div>Toyota Corolla, 1.6 լ, 2011 թ., գազ</div><div><div class=\"p\">$9,500</div><span class=\"c\">Դիլեր</span></div><div class=\"at\">Էրեբունի, 2011 թ., 86,000 կմ, Բենզին</div><div class=\"d\">Կիրակի, Սեպտեմբեր 18, 2022 18:28</div></div></a>,\n <a href=\"/item/17924121\"><img data-original=\"//s.list.am/r/472/62639472.webp\" src=\"\"/><div><div>Opel Astra հետչբեք, 1.6 լ, 2000 թ., գազ</div><div><div class=\"p\">$4,400</div></div><div class=\"at\">Արաբկիր, 2000 թ., 220,000 կմ, Բենզին</div><div class=\"d\">Կիրակի, Սեպտեմբեր 18, 2022 18:28</div></div></a>,\n <a href=\"/item/17898363\"><img data-original=\"//s.list.am/r/360/62503360.webp\" src=\"\"/><div><div>Opel Astra, 1.6 լ, 1998 թ., գազ</div><div><div class=\"p\">$3,500</div></div><div class=\"at\">Քասախ, 1998 թ., 300,000 կմ, Բենզին</div><div class=\"d\">Կիրակի, Սեպտեմբեր 18, 2022 18:28</div></div></a>,\n <a href=\"/item/17061519\"><img data-original=\"//s.list.am/r/287/58197287.webp\" src=\"\"/><div><div>Opel Astra կուպե, 1.6 լ, 2002 թ., գազ</div><div><div class=\"p\">$4,000</div></div><div class=\"at\">Նոր Նորք, 2002 թ., 160,000 կմ, Բենզին</div><div class=\"d\">Կիրակի, Սեպտեմբեր 18, 2022 18:27</div></div></a>,\n <a class=\"h\" href=\"/item/17899338\"><img data-original=\"//s.list.am/r/800/64594800.webp\" src=\"\"/><div><div>Land Rover Range Rover Sport, 3.0 լ, լիաքարշ, 2019 թ.</div><div><div class=\"p\">$100,000</div></div><div class=\"at\">Էրեբունի, 2019 թ., 38,000 կմ, Բենզին</div><div class=\"d\">Կիրակի, Սեպտեմբեր 18, 2022 18:26</div></div></a>,\n <a href=\"/item/18093346\"><img data-original=\"//s.list.am/r/881/63554881.webp\" src=\"\"/><div><div>Opel Astra կուպե, 1.6 լ, 1998 թ., գազ</div><div><div class=\"p\">$1,700</div></div><div class=\"at\">Վանաձոր, 1998 թ., 300,000 կմ, Բենզին</div><div class=\"d\">Կիրակի, Սեպտեմբեր 18, 2022 18:26</div></div></a>,\n <a href=\"/item/18258283\"><img data-original=\"//s.list.am/r/435/64692435.webp\" src=\"\"/><div><div>BMW X5, 4.4 լ, լիաքարշ, 2001 թ., գազ</div><div><div class=\"p\">$7,000</div><span class=\"c\">Դիլեր</span></div><div class=\"at\">Նոր Նորք, 2001 թ., 170,000 մղոն, Բենզին</div><div class=\"d\">Կիրակի, Սեպտեմբեր 18, 2022 18:26</div></div></a>,\n <a href=\"/item/17503657\"><img data-original=\"//s.list.am/r/652/61471652.webp\" src=\"\"/><div><div>Toyota Corolla, 1.8 լ, 2008 թ., գազ</div><div><div class=\"p\">$9,300</div></div><div class=\"at\">Մալաթիա Սեբաստիա, 2008 թ., 120,000 մղոն, Բենզին</div><div class=\"d\">Կիրակի, Սեպտեմբեր 18, 2022 18:26</div></div></a>,\n <a href=\"/item/18071031\"><img data-original=\"//s.list.am/r/382/63430382.webp\" src=\"\"/><div><div>Mercedes-Benz C-Class, 2.5 լ, 2006 թ., գազ</div><div><div class=\"p\">$7,000</div></div><div class=\"at\">Վանաձոր, 2006 թ., 300,000 կմ, Բենզին</div><div class=\"d\">Կիրակի, Սեպտեմբեր 18, 2022 18:26</div></div></a>,\n <a href=\"/item/18288249\"><img data-original=\"//s.list.am/r/299/64791299.webp\" src=\"\"/><div><div>Toyota Camry, 2.5 լ, 2016 թ.</div><div><div class=\"p\">$17,900</div></div><div class=\"at\">Էրեբունի, 2016 թ., 53,000 մղոն, Բենզին</div><div class=\"d\">Կիրակի, Սեպտեմբեր 18, 2022 18:26</div></div></a>,\n <a href=\"/item/17823778\"><img data-original=\"//s.list.am/r/772/62135772.webp\" src=\"\"/><div><div>Toyota Camry, 2.5 լ, 2020 թ.</div><div><div class=\"p\">$28,500</div></div><div class=\"at\">Էրեբունի, 2020 թ., 55,000 մղոն, Բենզին</div><div class=\"d\">Կիրակի, Սեպտեմբեր 18, 2022 18:26</div></div></a>,\n <a href=\"/item/17427180\"><img data-original=\"//s.list.am/r/816/60023816.webp\" src=\"\"/><div><div>Nissan Latio, 1.5 լ, 2008 թ., գազ</div><div><div class=\"p\">$6,000</div></div><div class=\"at\">Կենտրոն, 2008 թ., 159,000 կմ, Բենզին</div><div class=\"d\">Կիրակի, Սեպտեմբեր 18, 2022 18:25</div></div></a>,\n <a href=\"/item/17848632\"><img data-original=\"//s.list.am/r/815/62235815.webp\" src=\"\"/><div><div>Ford Transit, 2.0 լ, 1991 թ., գազ</div><div class=\"at\">Նոր Նորք, 1991 թ., 200,000 կմ, Բենզին</div><div class=\"d\">Կիրակի, Սեպտեմբեր 18, 2022 18:25</div></div></a>,\n <a href=\"/item/18064277\"><img data-original=\"//s.list.am/r/545/63400545.webp\" src=\"\"/><div><div>Chrysler 200, 2.4 լ, 2015 թ.</div><div><div class=\"p\">$12,000</div></div><div class=\"at\">Էջմիածին, 2015 թ., 125,000 կմ, Բենզին</div><div class=\"d\">Կիրակի, Սեպտեմբեր 18, 2022 18:25</div></div></a>,\n <a href=\"/item/18312784\"><img data-original=\"//s.list.am/r/807/64758807.webp\" src=\"\"/><div><div>Hyundai Sonata, 2.4 լ, 2005 թ., գազ</div><div><div class=\"p\">$6,500</div></div><div class=\"at\">Էրեբունի, 2005 թ., 200,000 մղոն, Բենզին</div><div class=\"d\">Կիրակի, Սեպտեմբեր 18, 2022 18:25</div></div></a>,\n <a href=\"/item/16309411\"><img data-original=\"//s.list.am/r/339/54131339.webp\" src=\"\"/><div><div>Opel Omega ունիվերսալ, 2.0 լ, 1997 թ., գազ</div><div><div class=\"p\">$1,700</div></div><div class=\"at\">Արմավիր, 1997 թ., 457,893 մղոն, Բենզին</div><div class=\"d\">Կիրակի, Սեպտեմբեր 18, 2022 18:25</div></div></a>,\n <a href=\"/item/18212021\"><img data-original=\"//s.list.am/r/529/64196529.webp\" src=\"\"/><div><div>Mercedes-Benz GL-Class, 4.7 լ, լիաքարշ, 2013 թ.</div><div><div class=\"p\">$38,000</div></div><div class=\"at\">Արաբկիր, 2013 թ., 180,000 կմ, Բենզին</div><div class=\"d\">Կիրակի, Սեպտեմբեր 18, 2022 18:25</div></div></a>,\n <a href=\"/item/17810633\"><img data-original=\"//s.list.am/r/960/62046960.webp\" src=\"\"/><div><div>Opel Astra հետչբեք, 1.6 լ, 1999 թ., գազ</div><div><div class=\"p\">$3,200</div></div><div class=\"at\">Գավառ, 1999 թ., 200,000 կմ, Բենզին</div><div class=\"d\">Կիրակի, Սեպտեմբեր 18, 2022 18:25</div></div></a>,\n <a href=\"/item/12568277\"><img data-original=\"//s.list.am/r/049/38883049.webp\" src=\"\"/><div><div>Ford Focus, 2.0 լ, 2013 թ.</div><div><div class=\"p\">$6,400</div></div><div class=\"at\">Էջմիածին, 2013 թ., 200,000 կմ, Բենզին</div><div class=\"d\">Կիրակի, Սեպտեմբեր 18, 2022 18:24</div></div></a>,\n <a href=\"/item/18058620\"><img data-original=\"//s.list.am/r/025/63365025.webp\" src=\"\"/><div><div>Kia Sportage, 2.4 լ, լիաքարշ, 2013 թ.</div><div><div class=\"p\">$14,200</div></div><div class=\"at\">Մարտունի, 2013 թ., 131,330 մղոն, Բենզին</div><div class=\"d\">Կիրակի, Սեպտեմբեր 18, 2022 18:24</div></div></a>,\n <a href=\"/item/17845335\"><img data-original=\"//s.list.am/r/898/62314898.webp\" src=\"\"/><div><div>Ford Transit, 2.0 լ, 1991 թ., գազ</div><div><div class=\"p\">$2,500</div></div><div class=\"at\">Ավան, 1991 թ., 200,000 կմ, Բենզին</div><div class=\"d\">Կիրակի, Սեպտեմբեր 18, 2022 18:24</div></div></a>,\n <a href=\"/item/18058668\"><img data-original=\"//s.list.am/r/332/63365332.webp\" src=\"\"/><div><div>Kia Forte, 1.8 լ, 2014 թ., գազ</div><div><div class=\"p\">$11,000</div></div><div class=\"at\">Քանաքեռ Զեյթուն, 2014 թ., 75,000 կմ, Բենզին</div><div class=\"d\">Կիրակի, Սեպտեմբեր 18, 2022 18:23</div></div></a>,\n <a href=\"/item/18053486\"><img data-original=\"//s.list.am/r/069/63339069.webp\" src=\"\"/><div><div>Ford Transit փիքափ, 2.0 լ, դիզել, լիաքարշ, 2000 թ.</div><div><div class=\"p\">$8,000</div></div><div class=\"at\">Կենտրոն, 2000 թ., 400,000 կմ, Դիզել</div><div class=\"d\">Կիրակի, Սեպտեմբեր 18, 2022 18:23</div></div></a>,\n <a href=\"/item/17329055\"><img data-original=\"//s.list.am/r/138/59506138.webp\" src=\"\"/><div><div>Nissan Tiida հետչբեք, 1.5 լ, 2006 թ., գազ</div><div><div class=\"p\">$5,000</div></div><div class=\"at\">Էրեբունի, 2006 թ., 193,000 կմ, Բենզին</div><div class=\"d\">Կիրակի, Սեպտեմբեր 18, 2022 18:23</div></div></a>,\n <a href=\"/item/17335057\"><img data-original=\"//s.list.am/r/236/59538236.webp\" src=\"\"/><div><div>Lexus GX, 4.7 լ, լիաքարշ, 2006 թ., գազ</div><div><div class=\"p\">$23,000</div></div><div class=\"at\">Էրեբունի, 2006 թ., 196,000 մղոն, Բենզին</div><div class=\"d\">Կիրակի, Սեպտեմբեր 18, 2022 18:23</div></div></a>,\n <a href=\"/item/18230444\"><img data-original=\"//s.list.am/r/594/64374594.webp\" src=\"\"/><div><div>BMW 3 Series, 1.8 լ, 1998 թ., գազ</div><div><div class=\"p\">$5,000</div></div><div class=\"at\">Շենգավիթ, 1998 թ., 290,000 կմ, Բենզին</div><div class=\"d\">Կիրակի, Սեպտեմբեր 18, 2022 18:23</div></div></a>,\n <a href=\"/item/18186150\"><img data-original=\"//s.list.am/r/615/64054615.webp\" src=\"\"/><div><div>Honda CR-V, 2.4 լ, լիաքարշ, 2014 թ.</div><div><div class=\"p\">$12,100</div></div><div class=\"at\">Նոր Նորք, 2014 թ., 91,000 մղոն, Բենզին</div><div class=\"d\">Կիրակի, Սեպտեմբեր 18, 2022 18:23</div></div></a>,\n <a href=\"/item/17845296\"><img data-original=\"//s.list.am/r/863/62314863.webp\" src=\"\"/><div><div>Ford Transit, 2.0 լ, 1991 թ., գազ</div><div><div class=\"p\">$2,500</div><span class=\"c\">Դիլեր</span></div><div class=\"at\">Կենտրոն, 1991 թ., 200,000 կմ, Բենզին</div><div class=\"d\">Կիրակի, Սեպտեմբեր 18, 2022 18:22</div></div></a>,\n <a href=\"/item/17315510\"><img data-original=\"//s.list.am/r/714/59441714.webp\" src=\"\"/><div><div>Mercedes-Benz CLK-Class կուպե, 2.3 լ, 2004 թ., գազ</div><div><div class=\"p\">$6,500</div></div><div class=\"at\">Նոր Նորք, 2004 թ., 215,000 կմ, Բենզին</div><div class=\"d\">Կիրակի, Սեպտեմբեր 18, 2022 18:22</div></div></a>,\n <a href=\"/item/16901174\"><img data-original=\"//s.list.am/r/191/57367191.webp\" src=\"\"/><div><div>Nissan X-Trail, 2.5 լ, լիաքարշ, 2015 թ., գազ</div><div><div class=\"p\">$17,500</div></div><div class=\"at\">Աշտարակ, 2015 թ., 144,000 կմ, Բենզին</div><div class=\"d\">Կիրակի, Սեպտեմբեր 18, 2022 18:22</div></div></a>,\n <a href=\"/item/16900149\"><img data-original=\"//s.list.am/r/791/57362791.webp\" src=\"\"/><div><div>Nissan Rogue, 2.5 լ, լիաքարշ, 2015 թ., գազ</div><div><div class=\"p\">$17,500</div></div><div class=\"at\">Աշտարակ, 2015 թ., 144,000 կմ, Բենզին</div><div class=\"d\">Կիրակի, Սեպտեմբեր 18, 2022 18:22</div></div></a>,\n <a href=\"/item/18223955\"><img data-original=\"//s.list.am/r/693/64261693.webp\" src=\"\"/><div><div>BMW 1 Series, 3.0 լ, 2006 թ.</div><div><div class=\"p\">$6,300</div></div><div class=\"at\">Թալին, 2006 թ., 200,000 կմ, Բենզին</div><div class=\"d\">Կիրակի, Սեպտեմբեր 18, 2022 18:22</div></div></a>,\n <a href=\"/item/18312264\"><img data-original=\"//s.list.am/r/024/64840024.webp\" src=\"\"/><div><div>BMW 3 Series, 2.8 լ, 2008 թ.</div><div><div class=\"p\">$8,700</div></div><div class=\"at\">Մալաթիա Սեբաստիա, 2008 թ., 1110 մղոն, Բենզին</div><div class=\"d\">Կիրակի, Սեպտեմբեր 18, 2022 18:21</div></div></a>,\n <a href=\"/item/17982252\"><img data-original=\"//s.list.am/r/615/63270615.webp\" src=\"\"/><div><div>Mercedes-Benz S-Class, 3.2 լ, 1996 թ., գազ</div><div><div class=\"p\">$6,800</div></div><div class=\"at\">Էջմիածին, 1996 թ., 220,000 մղոն, Բենզին</div><div class=\"d\">Կիրակի, Սեպտեմբեր 18, 2022 18:21</div></div></a>,\n <a href=\"/item/18299621\"><img data-original=\"//s.list.am/r/164/64687164.webp\" src=\"\"/><div><div>Infiniti G37 կուպե, 3.7 լ, լիաքարշ, 2010 թ., գազ</div><div><div class=\"p\">$11,500</div></div><div class=\"at\">Արաբկիր, 2010 թ., 165,000 կմ, Բենզին</div><div class=\"d\">Կիրակի, Սեպտեմբեր 18, 2022 18:21</div></div></a>,\n <a href=\"/item/18026097\"><img data-original=\"//s.list.am/r/886/63192886.webp\" src=\"\"/><div><div>ErAZ 762, 2.0 լ, 1994 թ., գազ</div><div><div class=\"p\">550,000 ֏</div></div><div class=\"at\">Էրեբունի, 1994 թ., 230,000 կմ, Բենզին</div><div class=\"d\">Կիրակի, Սեպտեմբեր 18, 2022 18:21</div></div></a>,\n <a href=\"/item/18313958\"><img data-original=\"//s.list.am/r/741/64764741.webp\" src=\"\"/><div><div>Chevrolet Cruze հետչբեք, 1.4 լ, 2018 թ.</div><div><div class=\"p\">$12,999</div></div><div class=\"at\">Էրեբունի, 2018 թ., 51,000 մղոն, Բենզին</div><div class=\"d\">Կիրակի, Սեպտեմբեր 18, 2022 18:20</div></div></a>,\n <a href=\"/item/18150638\"><img data-original=\"//s.list.am/r/794/63861794.webp\" src=\"\"/><div><div>Hyundai Elantra, 2.0 լ, 2017 թ.</div><div><div class=\"p\">$13,000</div></div><div class=\"at\">Կենտրոն, 2017 թ., 97,000 մղոն, Բենզին</div><div class=\"d\">Կիրակի, Սեպտեմբեր 18, 2022 18:20</div></div></a>,\n <a href=\"/item/17896880\"><img data-original=\"//s.list.am/r/946/62495946.webp\" src=\"\"/><div><div>Toyota RAV4, 2.5 լ, լիաքարշ, 2013 թ.</div><div><div class=\"p\">$21,500</div></div><div class=\"at\">Շենգավիթ, 2013 թ., 60,000 մղոն, Բենզին</div><div class=\"d\">Կիրակի, Սեպտեմբեր 18, 2022 18:20</div></div></a>,\n <a href=\"/item/17830879\"><img data-original=\"//s.list.am/r/997/62146997.webp\" src=\"\"/><div><div>Mercedes-Benz S-Class, 5.0 լ, 1997 թ., գազ</div><div><div class=\"p\">$8,000</div></div><div class=\"at\">Դիլիջան, 1997 թ., 240,000 կմ, Բենզին</div><div class=\"d\">Կիրակի, Սեպտեմբեր 18, 2022 18:20</div></div></a>,\n <a href=\"/item/18312979\"><img data-original=\"//s.list.am/r/581/64770581.webp\" src=\"\"/><div><div>Chevrolet Cruze, 1.4 լ, 2018 թ.</div><div><div class=\"p\">$13,900</div></div><div class=\"at\">Վանաձոր, 2018 թ., 81,000 մղոն, Բենզին</div><div class=\"d\">Կիրակի, Սեպտեմբեր 18, 2022 18:19</div></div></a>,\n <a href=\"/item/18310214\"><img data-original=\"//s.list.am/r/998/64744998.webp\" src=\"\"/><div><div>BMW 3 Series, 2.8 լ, 2006 թ., գազ</div><div><div class=\"p\">$8,500</div></div><div class=\"at\">Դիլիջան, 2006 թ., 200,000 կմ, Բենզին</div><div class=\"d\">Կիրակի, Սեպտեմբեր 18, 2022 18:19</div></div></a>,\n <a href=\"/item/18232048\"><img data-original=\"//s.list.am/r/244/64308244.webp\" src=\"\"/><div><div>Chevrolet Trax, 1.4 լ, 2016 թ., գազ</div><div><div class=\"p\">$11,500</div><span class=\"c\">Դիլեր</span></div><div class=\"at\">Փարաքար, 2016 թ., 80,000 մղոն, Բենզին</div><div class=\"d\">Կիրակի, Սեպտեմբեր 18, 2022 18:19</div></div></a>,\n <a href=\"/item/18100426\"><img data-original=\"//s.list.am/r/339/63591339.webp\" src=\"\"/><div><div>Lexus GX, 4.6 լ, լիաքարշ, 2011 թ.</div><div><div class=\"p\">$42,000</div><span class=\"c\">Դիլեր</span></div><div class=\"at\">Նոր Նորք, 2011 թ., 144,000 կմ, Բենզին</div><div class=\"d\">Կիրակի, Սեպտեմբեր 18, 2022 18:19</div></div></a>,\n <a href=\"/item/17070600\"><img data-original=\"//s.list.am/r/599/58239599.webp\" src=\"\"/><div><div>Opel Zafira, 1.6 լ, 2005 թ., գազ</div><div><div class=\"p\">$6,000</div><span class=\"c\">Դիլեր</span></div><div class=\"at\">Աջափնյակ, 2005 թ., 180,000 կմ, Բենզին</div><div class=\"d\">Կիրակի, Սեպտեմբեր 18, 2022 18:19</div></div></a>,\n <a href=\"/item/15423312\"><img data-original=\"//s.list.am/r/647/49557647.webp\" src=\"\"/><div><div>Nissan Elgrand, 3.5 լ, 2004 թ., գազ</div><div><div class=\"p\">$8,800</div></div><div class=\"at\">Մարտունի, 2004 թ., 162,000 կմ, Բենզին</div><div class=\"d\">Կիրակի, Սեպտեմբեր 18, 2022 18:19</div></div></a>,\n <a href=\"/item/18082773\"><img data-original=\"//s.list.am/r/291/63542291.webp\" src=\"\"/><div><div>Dodge Dart, 2.4 լ, 2015 թ., գազ</div><div><div class=\"p\">$9,900</div></div><div class=\"at\">Նոր Նորք, 2015 թ., 165,000 կմ, Բենզին</div><div class=\"d\">Կիրակի, Սեպտեմբեր 18, 2022 18:19</div></div></a>,\n <a href=\"/item/17328609\"><img data-original=\"//s.list.am/r/984/59503984.webp\" src=\"\"/><div><div>Mercedes-Benz GLC-Class կուպե, 2.0 լ, լիաքարշ, 2018 թ.</div><div><div class=\"p\">$65,000</div></div><div class=\"at\">Արտաշատ, 2018 թ., 25,000 կմ, Բենզին</div><div class=\"d\">Կիրակի, Սեպտեմբեր 18, 2022 18:19</div></div></a>,\n <a class=\"h\" href=\"/item/17266671\"><img data-original=\"//s.list.am/r/637/63247637.webp\" src=\"\"/><div><div>Hyundai Elantra, 2.0 լ, 2019 թ.</div><div><div class=\"p\">1,550,000 руб.</div><span class=\"c\">Դիլեր</span></div><div class=\"at\">Ռուսաստան, 2019 թ., 16,700 կմ, Բենզին</div><div class=\"d\">Կիրակի, Սեպտեմբեր 18, 2022 18:19</div></div></a>,\n <a href=\"/item/17763791\"><img data-original=\"//s.list.am/r/644/61805644.webp\" src=\"\"/><div><div>Opel Astra ունիվերսալ, 1.6 լ, 1999 թ., գազ</div><div class=\"at\">Գյումրի, 1999 թ., 315,674 կմ, Բենզին</div><div class=\"d\">Կիրակի, Սեպտեմբեր 18, 2022 18:19</div></div></a>,\n <a href=\"/item/18229034\"><img data-original=\"//s.list.am/r/849/64289849.webp\" src=\"\"/><div><div>Chevrolet Volt հետչբեք, 1.5 լ, հիբրիդ, 2016 թ.</div><div><div class=\"p\">$16,800</div></div><div class=\"at\">Արաբկիր, 2016 թ., 76,000 կմ, Հիբրիդ</div><div class=\"d\">Կիրակի, Սեպտեմբեր 18, 2022 18:19</div></div></a>,\n <a href=\"/item/18211015\"><img data-original=\"//s.list.am/r/622/64190622.webp\" src=\"\"/><div><div>Mercedes-Benz E-Class, 3.2 լ, 1997 թ., գազ</div><div><div class=\"p\">$5,500</div></div><div class=\"at\">Դավիթաշեն, 1997 թ., 300,000 կմ, Բենզին</div><div class=\"d\">Կիրակի, Սեպտեմբեր 18, 2022 18:18</div></div></a>,\n <a href=\"/item/12211181\"><img data-original=\"//s.list.am/r/969/37416969.webp\" src=\"\"/><div><div>BMW 5 Series, 2.5 լ, 2006 թ.</div><div><div class=\"p\">$15,000</div><span class=\"c\">Դիլեր</span></div><div class=\"at\">Նոր Նորք, 2006 թ., 110,000 կմ, Բենզին</div><div class=\"d\">Կիրակի, Սեպտեմբեր 18, 2022 18:18</div></div></a>,\n <a href=\"/item/18248880\"><img data-original=\"//s.list.am/r/444/64401444.webp\" src=\"\"/><div><div>Acura ILX, 2.4 լ, 2016 թ.</div><div><div class=\"p\">$16,000</div></div><div class=\"at\">Արաբկիր, 2016 թ., 71,000 մղոն, Բենզին</div><div class=\"d\">Կիրակի, Սեպտեմբեր 18, 2022 18:18</div></div></a>,\n <a href=\"/item/14727661\"><img data-original=\"//s.list.am/r/262/47108262.webp\" src=\"\"/><div><div>Nissan Altima, 2.5 լ, 2015 թ.</div><div><div class=\"p\">$10,500</div></div><div class=\"at\">Աջափնյակ, 2015 թ., 107,000 կմ, Բենզին</div><div class=\"d\">Կիրակի, Սեպտեմբեր 18, 2022 18:18</div></div></a>,\n <a class=\"h\" href=\"/item/16906743\"><img data-original=\"//s.list.am/r/851/64544851.webp\" src=\"\"/><div><div>Mercedes-Benz S-Class, 5.5 լ, 2006 թ., գազ</div><div><div class=\"p\">$13,300</div></div><div class=\"at\">Աջափնյակ, 2006 թ., 123,456 կմ, Բենզին</div><div class=\"d\">Կիրակի, Սեպտեմբեր 18, 2022 18:18</div></div></a>,\n <a href=\"/item/16946271\"><img data-original=\"//s.list.am/r/270/57637270.webp\" src=\"\"/><div><div>BMW X5, 4.8 լ, լիաքարշ, 2007 թ., գազ</div><div><div class=\"p\">$13,000</div></div><div class=\"at\">Մալաթիա Սեբաստիա, 2007 թ., 248,000 կմ, Բենզին</div><div class=\"d\">Կիրակի, Սեպտեմբեր 18, 2022 18:17</div></div></a>,\n <a href=\"/item/17891976\"><img data-original=\"//s.list.am/r/207/62471207.webp\" src=\"\"/><div><div>VAZ (Lada) 2112 հետչբեք, 1.6 լ, 2004 թ., գազ</div><div><div class=\"p\">850,000 ֏</div></div><div class=\"at\">Կենտրոն, 2004 թ., 185,000 կմ, Բենզին</div><div class=\"d\">Կիրակի, Սեպտեմբեր 18, 2022 18:17</div></div></a>,\n <a href=\"/item/17947990\"><img data-original=\"//s.list.am/r/606/62770606.webp\" src=\"\"/><div><div>Ford Transit, 2.4 լ, դիզել, 2007 թ.</div><div><div class=\"p\">$12,500</div></div><div class=\"at\">Արմավիր, 2007 թ., 96,000 կմ, Դիզել</div><div class=\"d\">Կիրակի, Սեպտեմբեր 18, 2022 18:17</div></div></a>,\n <a href=\"/item/18314420\"><img data-original=\"//s.list.am/r/772/64767772.webp\" src=\"\"/><div><div>Hyundai Elantra, 2.0 լ, 2019 թ.</div><div><div class=\"p\">$17,700</div></div><div class=\"at\">Աջափնյակ, 2019 թ., 70,000 մղոն, Բենզին</div><div class=\"d\">Կիրակի, Սեպտեմբեր 18, 2022 18:17</div></div></a>,\n <a href=\"/item/18258198\"><img data-original=\"//s.list.am/r/010/64840010.webp\" src=\"\"/><div><div>VAZ (Lada) 2121 Niva, 1.7 լ, լիաքարշ, 2006 թ., գազ</div><div><div class=\"p\">$3,400</div></div><div class=\"at\">Սիսիան, 2006 թ., 10,000 կմ, Բենզին</div><div class=\"d\">Կիրակի, Սեպտեմբեր 18, 2022 18:16</div></div></a>,\n <a class=\"h\" href=\"/item/17202577\"><img data-original=\"//s.list.am/r/500/63738500.webp\" src=\"\"/><div><div>Nissan Altima, 2.5 լ, 2017 թ.</div><div><div class=\"p\">$14,500</div></div><div class=\"at\">Կենտրոն, 2017 թ., 91,000 մղոն, Բենզին</div><div class=\"d\">Կիրակի, Սեպտեմբեր 18, 2022 18:16</div></div></a>,\n <a href=\"/item/17124682\"><img data-original=\"//s.list.am/r/166/58507166.webp\" src=\"\"/><div><div>Suzuki Swift հետչբեք, 1.3 լ, լիաքարշ, 2009 թ.</div><div><div class=\"p\">2,000,000 ֏</div></div><div class=\"at\">Ծաղկաձոր, 2009 թ., 170,000 կմ, Բենզին</div><div class=\"d\">Կիրակի, Սեպտեմբեր 18, 2022 18:16</div></div></a>,\n <a href=\"/item/17998132\"><img data-original=\"//s.list.am/r/287/63036287.webp\" src=\"\"/><div><div>Opel Zafira, 2.2 լ, 2005 թ., գազ</div><div><div class=\"p\">$7,000</div></div><div class=\"at\">Ծաղկաձոր, 2005 թ., 250,000 կմ, Բենզին</div><div class=\"d\">Կիրակի, Սեպտեմբեր 18, 2022 18:16</div></div></a>,\n <a href=\"/item/18147016\"><img data-original=\"//s.list.am/r/879/63841879.webp\" src=\"\"/><div><div>Opel Zafira, 1.8 լ, 2006 թ., գազ</div><div><div class=\"p\">$7,200</div></div><div class=\"at\">Ավան, 2006 թ., 230,000 կմ, Բենզին</div><div class=\"d\">Կիրակի, Սեպտեմբեր 18, 2022 18:15</div></div></a>,\n <a href=\"/item/18268845\"><img data-original=\"//s.list.am/r/664/64513664.webp\" src=\"\"/><div><div>Toyota Camry, 2.5 լ, 2010 թ., գազ</div><div><div class=\"p\">$10,700</div></div><div class=\"at\">Էրեբունի, 2010 թ., 138,000 մղոն, Բենզին</div><div class=\"d\">Կիրակի, Սեպտեմբեր 18, 2022 18:15</div></div></a>,\n <a href=\"/item/17927371\"><img data-original=\"//s.list.am/r/682/62656682.webp\" src=\"\"/><div><div>Mercedes-Benz GL-Class, 5.5 լ, լիաքարշ, 2007 թ.</div><div><div class=\"p\">$18,000</div></div><div class=\"at\">Շենգավիթ, 2007 թ., 225,000 կմ, Բենզին</div><div class=\"d\">Կիրակի, Սեպտեմբեր 18, 2022 18:15</div></div></a>,\n <a href=\"/item/18269559\"><img data-original=\"//s.list.am/r/168/64517168.webp\" src=\"\"/><div><div>Nissan Tiida հետչբեք, 1.5 լ, 2005 թ.</div><div><div class=\"p\">$5,400</div></div><div class=\"at\">Իջևան, 2005 թ., 125,000 կմ, Բենզին</div><div class=\"d\">Կիրակի, Սեպտեմբեր 18, 2022 18:14</div></div></a>,\n <a href=\"/item/18226838\"><img data-original=\"//s.list.am/r/872/64277872.webp\" src=\"\"/><div><div>Kia Optima ունիվերսալ, 2.4 լ, 2016 թ.</div><div><div class=\"p\">$15,000</div></div><div class=\"at\">Էջմիածին, 2016 թ., 220,000 կմ, Բենզին</div><div class=\"d\">Կիրակի, Սեպտեմբեր 18, 2022 18:14</div></div></a>,\n <a href=\"/item/17741871\"><img data-original=\"//s.list.am/r/643/61694643.webp\" src=\"\"/><div><div>BMW 3 Series, 2.8 լ, լիաքարշ, 2006 թ., գազ</div><div><div class=\"p\">$7,000</div></div><div class=\"at\">Էրեբունի, 2006 թ., 288,000 կմ, Բենզին</div><div class=\"d\">Կիրակի, Սեպտեմբեր 18, 2022 18:14</div></div></a>,\n <a href=\"/item/16434362\"><img data-original=\"//s.list.am/r/836/54862836.webp\" src=\"\"/><div><div>GAZ (ГАЗ) ГАЗель ունիվերսալ, 2.5 լ, 2008 թ., գազ</div><div><div class=\"p\">4,700,000 ֏</div></div><div class=\"at\">Դավիթաշեն, 2008 թ., 200 կմ, Բենզին</div><div class=\"d\">Կիրակի, Սեպտեմբեր 18, 2022 18:14</div></div></a>,\n <a href=\"/item/15764965\"><img data-original=\"//s.list.am/r/668/51031668.webp\" src=\"\"/><div><div>Toyota Altezza, 2.0 լ, 2001 թ., գազ</div><div><div class=\"p\">$6,000</div></div><div class=\"at\">Դավիթաշեն, 2001 թ., 200 կմ, Բենզին</div><div class=\"d\">Կիրակի, Սեպտեմբեր 18, 2022 18:14</div></div></a>,\n <a href=\"/item/16806852\"><img data-original=\"//s.list.am/r/380/56864380.webp\" src=\"\"/><div><div>Nissan Pathfinder, 3.5 լ, լիաքարշ, 2003 թ., գազ</div><div><div class=\"p\">$7,200</div><span class=\"u\">Շտապ!</span></div><div class=\"at\">Նոր Նորք, 2003 թ., 240,000 կմ, Բենզին</div><div class=\"d\">Կիրակի, Սեպտեմբեր 18, 2022 18:14</div></div></a>,\n <a href=\"/item/18229178\"><img data-original=\"//s.list.am/r/725/64290725.webp\" src=\"\"/><div><div>VAZ (Lada) 2105, 1.5 լ, 1994 թ., գազ</div><div><div class=\"p\">$3,000</div></div><div class=\"at\">Նոր Կյանք, 1994 թ., 99,053 կմ, Բենզին</div><div class=\"d\">Կիրակի, Սեպտեմբեր 18, 2022 18:14</div></div></a>,\n <a href=\"/item/18283955\"><img data-original=\"//s.list.am/r/100/64596100.webp\" src=\"\"/><div><div>Ford Focus, 2.0 լ, 2000 թ., գազ</div><div><div class=\"p\">$3,500</div></div><div class=\"at\">Նոր Նորք, 2000 թ., 176,000 մղոն, Բենզին</div><div class=\"d\">Կիրակի, Սեպտեմբեր 18, 2022 18:14</div></div></a>,\n <a class=\"h\" href=\"/item/18079925\"><img data-original=\"//s.list.am/r/920/63478920.webp\" src=\"\"/><div><div>Mercedes-Benz S-Class, 5.0 լ, 2006 թ.</div><div><div class=\"p\">$14,500</div><span class=\"u\">Շտապ!</span></div><div class=\"at\">Նոր Նորք, 2006 թ., 223 կմ, Բենզին</div><div class=\"d\">Կիրակի, Սեպտեմբեր 18, 2022 18:14</div></div></a>,\n <a href=\"/item/18038040\"><img data-original=\"//s.list.am/r/300/63255300.webp\" src=\"\"/><div><div>Volvo XC90, 3.2 լ, 2008 թ., գազ</div><div><div class=\"p\">$9,500</div></div><div class=\"at\">Գյումրի, 2008 թ., 210,000 կմ, Բենզին</div><div class=\"d\">Կիրակի, Սեպտեմբեր 18, 2022 18:14</div></div></a>,\n <a href=\"/item/18212590\"><img data-original=\"//s.list.am/r/356/64199356.webp\" src=\"\"/><div><div>BMW 3 Series, 2.8 լ, լիաքարշ, 2007 թ., գազ</div><div><div class=\"p\">$5,250</div></div><div class=\"at\">Շենգավիթ, 2007 թ., 320,000 կմ, Բենզին</div><div class=\"d\">Կիրակի, Սեպտեմբեր 18, 2022 18:13</div></div></a>,\n <a href=\"/item/16972966\"><img data-original=\"//s.list.am/r/687/57734687.webp\" src=\"\"/><div><div>Nissan Cefiro, 2.0 լ, 2000 թ., գազ</div><div><div class=\"p\">$3,600</div></div><div class=\"at\">Աբովյան, 2000 թ., 225,000 կմ, Բենզին</div><div class=\"d\">Կիրակի, Սեպտեմբեր 18, 2022 18:13</div></div></a>,\n <a href=\"/item/18253235\"><img data-original=\"//s.list.am/r/532/64426532.webp\" src=\"\"/><div><div>BMW 5 Series, 3.5 լ, 2011 թ.</div><div><div class=\"p\">$18,900</div></div><div class=\"at\">Շենգավիթ, 2011 թ., 151,000 մղոն, Բենզին</div><div class=\"d\">Կիրակի, Սեպտեմբեր 18, 2022 18:12</div></div></a>,\n <a href=\"/item/18183511\"><img data-original=\"//s.list.am/r/118/64040118.webp\" src=\"\"/><div><div>VAZ (Lada) 2121 (4x4), 1.7 լ, լիաքարշ, 2014 թ.</div><div><div class=\"p\">$8,000</div></div><div class=\"at\">Կենտրոն, 2014 թ., 620,000 կմ, Բենզին</div><div class=\"d\">Կիրակի, Սեպտեմբեր 18, 2022 18:12</div></div></a>,\n <a href=\"/item/18297964\"><img data-original=\"//s.list.am/r/830/64677830.webp\" src=\"\"/><div><div>Porsche Cayenne, 3.2 լ, լիաքարշ, 2005 թ., գազ</div><div><div class=\"p\">$10,000</div></div><div class=\"at\">Էրեբունի, 2005 թ., 190,000 կմ, Բենզին</div><div class=\"d\">Կիրակի, Սեպտեմբեր 18, 2022 18:12</div></div></a>,\n <a href=\"/item/17919699\"><img data-original=\"//s.list.am/r/776/62619776.webp\" src=\"\"/><div><div>Jeep Liberty (Patriot), 2.4 լ, լիաքարշ, 2001 թ., գազ</div><div><div class=\"p\">$5,700</div></div><div class=\"at\">Շնող, 2001 թ., 182,000 մղոն, Բենզին</div><div class=\"d\">Կիրակի, Սեպտեմբեր 18, 2022 18:12</div></div></a>,\n <a href=\"/item/17463752\"><img data-original=\"//s.list.am/r/176/64188176.webp\" src=\"\"/><div><div>Toyota Camry, 2.5 լ, 2019 թ.</div><div><div class=\"p\">$39,500</div></div><div class=\"at\">Դավիթաշեն, 2019 թ., 48,000 կմ, Բենզին</div><div class=\"d\">Կիրակի, Սեպտեմբեր 18, 2022 18:11</div></div></a>,\n <div class=\"dlf\">   <span class=\"pp\"><span class=\"c\">1</span><a href=\"/category/23/2?gl=2\">2</a><a href=\"/category/23/3?gl=2\">3</a><a href=\"/category/23/4?gl=2\">4</a><a href=\"/category/23/5?gl=2\">5</a><a href=\"/category/23/6?gl=2\">6</a><a href=\"/category/23/7?gl=2\">7</a></span>   <a href=\"/category/23/2?gl=2\">Հաջորդը &gt;</a></div>]"
     },
     "execution_count": 124,
     "metadata": {},
     "output_type": "execute_result"
    }
   ],
   "source": [
    "search_cont.contents[1].contents[1:]"
   ],
   "metadata": {
    "collapsed": false,
    "pycharm": {
     "name": "#%%\n"
    }
   }
  },
  {
   "cell_type": "code",
   "execution_count": 70,
   "outputs": [],
   "source": [
    "cars_list = search_cont_l[1].contents"
   ],
   "metadata": {
    "collapsed": false,
    "pycharm": {
     "name": "#%%\n"
    }
   }
  },
  {
   "cell_type": "code",
   "execution_count": 86,
   "outputs": [],
   "source": [
    "from tqdm import tqdm"
   ],
   "metadata": {
    "collapsed": false,
    "pycharm": {
     "name": "#%%\n"
    }
   }
  },
  {
   "cell_type": "code",
   "execution_count": 39,
   "outputs": [],
   "source": [
    "def func_extract_car_info(cars_list):\n",
    "    cars_data_l = []\n",
    "    for car in tqdm(cars_list[1:]):\n",
    "        try:\n",
    "            car_info  = car.contents[1].contents[0].text\n",
    "            car_price = car.contents[1].contents[1].text\n",
    "            car_info2 = car.contents[1].contents[2].text\n",
    "\n",
    "            try:\n",
    "                car_post  = car.contents[1].contents[3].text\n",
    "            except:\n",
    "                # print(car.contents[1])\n",
    "                pass\n",
    "            car_l = [car_info   ,car_price,   car_info2,car_post]\n",
    "            cars_data_l.append(car_l)\n",
    "        except:\n",
    "            print(car)\n",
    "    return cars_data_l"
   ],
   "metadata": {
    "collapsed": false,
    "pycharm": {
     "name": "#%%\n"
    }
   }
  },
  {
   "cell_type": "code",
   "execution_count": 108,
   "outputs": [
    {
     "data": {
      "text/plain": "                                                   Car         price  \\\n0                     Kia Spectra, 2.0 լ, 2003 թ., գազ   1,500,000 ֏   \n1            UAZ (УАЗ) Hunter, 2.7 լ, լիաքարշ, 2011 թ.  $13,500Շտապ!   \n2    Mitsubishi Pajero կուպե, 3.5 լ, լիաքարշ, 2011 ...       $15,500   \n3                 MINI Clubman հետչբեք, 1.6 լ, 2009 թ.        $6,200   \n4                Opel Astra ունիվերսալ, 1.6 լ, 1999 թ.        $4,300   \n..                                                 ...           ...   \n96      VAZ (Lada) 2121 (4x4), 1.7 լ, լիաքարշ, 2014 թ.        $8,000   \n97       Porsche Cayenne, 3.2 լ, լիաքարշ, 2005 թ., գազ       $10,000   \n98   Jeep Liberty (Patriot), 2.4 լ, լիաքարշ, 2001 թ...        $5,700   \n99                        Toyota Camry, 2.5 լ, 2019 թ.       $39,500   \n100                                                  1             2   \n\n                                   details                         post_date  \n0    Նոր Նորք, 2003 թ., 170,000 կմ, Բենզին  Կիրակի, Սեպտեմբեր 18, 2022 18:31  \n1      Արաբկիր, 2011 թ., 70,000 կմ, Բենզին  Կիրակի, Սեպտեմբեր 18, 2022 18:31  \n2     Վանաձոր, 2011 թ., 195,000 կմ, Բենզին  Կիրակի, Սեպտեմբեր 18, 2022 18:31  \n3     Գյումրի, 2009 թ., 250,000 կմ, Բենզին  Կիրակի, Սեպտեմբեր 18, 2022 18:31  \n4     Արմավիր, 1999 թ., 190,000 կմ, Բենզին  Կիրակի, Սեպտեմբեր 18, 2022 18:30  \n..                                     ...                               ...  \n96    Կենտրոն, 2014 թ., 620,000 կմ, Բենզին  Կիրակի, Սեպտեմբեր 18, 2022 18:12  \n97   Էրեբունի, 2005 թ., 190,000 կմ, Բենզին  Կիրակի, Սեպտեմբեր 18, 2022 18:12  \n98     Շնող, 2001 թ., 182,000 մղոն, Բենզին  Կիրակի, Սեպտեմբեր 18, 2022 18:12  \n99   Դավիթաշեն, 2019 թ., 48,000 կմ, Բենզին  Կիրակի, Սեպտեմբեր 18, 2022 18:11  \n100                                      3                                 4  \n\n[101 rows x 4 columns]",
      "text/html": "<div>\n<style scoped>\n    .dataframe tbody tr th:only-of-type {\n        vertical-align: middle;\n    }\n\n    .dataframe tbody tr th {\n        vertical-align: top;\n    }\n\n    .dataframe thead th {\n        text-align: right;\n    }\n</style>\n<table border=\"1\" class=\"dataframe\">\n  <thead>\n    <tr style=\"text-align: right;\">\n      <th></th>\n      <th>Car</th>\n      <th>price</th>\n      <th>details</th>\n      <th>post_date</th>\n    </tr>\n  </thead>\n  <tbody>\n    <tr>\n      <th>0</th>\n      <td>Kia Spectra, 2.0 լ, 2003 թ., գազ</td>\n      <td>1,500,000 ֏</td>\n      <td>Նոր Նորք, 2003 թ., 170,000 կմ, Բենզին</td>\n      <td>Կիրակի, Սեպտեմբեր 18, 2022 18:31</td>\n    </tr>\n    <tr>\n      <th>1</th>\n      <td>UAZ (УАЗ) Hunter, 2.7 լ, լիաքարշ, 2011 թ.</td>\n      <td>$13,500Շտապ!</td>\n      <td>Արաբկիր, 2011 թ., 70,000 կմ, Բենզին</td>\n      <td>Կիրակի, Սեպտեմբեր 18, 2022 18:31</td>\n    </tr>\n    <tr>\n      <th>2</th>\n      <td>Mitsubishi Pajero կուպե, 3.5 լ, լիաքարշ, 2011 ...</td>\n      <td>$15,500</td>\n      <td>Վանաձոր, 2011 թ., 195,000 կմ, Բենզին</td>\n      <td>Կիրակի, Սեպտեմբեր 18, 2022 18:31</td>\n    </tr>\n    <tr>\n      <th>3</th>\n      <td>MINI Clubman հետչբեք, 1.6 լ, 2009 թ.</td>\n      <td>$6,200</td>\n      <td>Գյումրի, 2009 թ., 250,000 կմ, Բենզին</td>\n      <td>Կիրակի, Սեպտեմբեր 18, 2022 18:31</td>\n    </tr>\n    <tr>\n      <th>4</th>\n      <td>Opel Astra ունիվերսալ, 1.6 լ, 1999 թ.</td>\n      <td>$4,300</td>\n      <td>Արմավիր, 1999 թ., 190,000 կմ, Բենզին</td>\n      <td>Կիրակի, Սեպտեմբեր 18, 2022 18:30</td>\n    </tr>\n    <tr>\n      <th>...</th>\n      <td>...</td>\n      <td>...</td>\n      <td>...</td>\n      <td>...</td>\n    </tr>\n    <tr>\n      <th>96</th>\n      <td>VAZ (Lada) 2121 (4x4), 1.7 լ, լիաքարշ, 2014 թ.</td>\n      <td>$8,000</td>\n      <td>Կենտրոն, 2014 թ., 620,000 կմ, Բենզին</td>\n      <td>Կիրակի, Սեպտեմբեր 18, 2022 18:12</td>\n    </tr>\n    <tr>\n      <th>97</th>\n      <td>Porsche Cayenne, 3.2 լ, լիաքարշ, 2005 թ., գազ</td>\n      <td>$10,000</td>\n      <td>Էրեբունի, 2005 թ., 190,000 կմ, Բենզին</td>\n      <td>Կիրակի, Սեպտեմբեր 18, 2022 18:12</td>\n    </tr>\n    <tr>\n      <th>98</th>\n      <td>Jeep Liberty (Patriot), 2.4 լ, լիաքարշ, 2001 թ...</td>\n      <td>$5,700</td>\n      <td>Շնող, 2001 թ., 182,000 մղոն, Բենզին</td>\n      <td>Կիրակի, Սեպտեմբեր 18, 2022 18:12</td>\n    </tr>\n    <tr>\n      <th>99</th>\n      <td>Toyota Camry, 2.5 լ, 2019 թ.</td>\n      <td>$39,500</td>\n      <td>Դավիթաշեն, 2019 թ., 48,000 կմ, Բենզին</td>\n      <td>Կիրակի, Սեպտեմբեր 18, 2022 18:11</td>\n    </tr>\n    <tr>\n      <th>100</th>\n      <td>1</td>\n      <td>2</td>\n      <td>3</td>\n      <td>4</td>\n    </tr>\n  </tbody>\n</table>\n<p>101 rows × 4 columns</p>\n</div>"
     },
     "execution_count": 108,
     "metadata": {},
     "output_type": "execute_result"
    }
   ],
   "source": [
    "import pandas as pd\n",
    "pd.DataFrame(cars_data_l2, columns=['Car', 'price', 'details', 'post_date'])"
   ],
   "metadata": {
    "collapsed": false,
    "pycharm": {
     "name": "#%%\n"
    }
   }
  },
  {
   "cell_type": "markdown",
   "source": [
    "<h2>automating the list scaping </h2>"
   ],
   "metadata": {
    "collapsed": false,
    "pycharm": {
     "name": "#%% md\n"
    }
   }
  },
  {
   "cell_type": "code",
   "execution_count": 21,
   "outputs": [],
   "source": [
    "import time\n",
    "import random\n",
    "from tqdm import tqdm"
   ],
   "metadata": {
    "collapsed": false,
    "pycharm": {
     "name": "#%%\n"
    }
   }
  },
  {
   "cell_type": "code",
   "execution_count": 45,
   "outputs": [],
   "source": [
    "pages = list(range(1000))\n",
    "base_list_url = 'https://www.list.am/category/23/{}?gl=2'\n",
    "urls = [base_list_url.format(p) for p in pages]"
   ],
   "metadata": {
    "collapsed": false,
    "pycharm": {
     "name": "#%%\n"
    }
   }
  },
  {
   "cell_type": "code",
   "execution_count": 7,
   "outputs": [],
   "source": [
    "scraper = cloudscraper.create_scraper()"
   ],
   "metadata": {
    "collapsed": false,
    "pycharm": {
     "name": "#%%\n"
    }
   }
  },
  {
   "cell_type": "code",
   "execution_count": 8,
   "outputs": [],
   "source": [],
   "metadata": {
    "collapsed": false,
    "pycharm": {
     "name": "#%%\n"
    }
   }
  },
  {
   "cell_type": "code",
   "execution_count": 17,
   "outputs": [
    {
     "name": "stdout",
     "output_type": "stream",
     "text": [
      "/Users/rshirakyan/PycharmProjects/car-price-predictor\n"
     ]
    }
   ],
   "source": [],
   "metadata": {
    "collapsed": false,
    "pycharm": {
     "name": "#%%\n"
    }
   }
  },
  {
   "cell_type": "code",
   "execution_count": 54,
   "outputs": [
    {
     "name": "stdout",
     "output_type": "stream",
     "text": [
      "11:56:52\n"
     ]
    }
   ],
   "source": [
    "from datetime import datetime as dt\n",
    "print(dt.now().strftime(\"%H:%M:%S\"))"
   ],
   "metadata": {
    "collapsed": false,
    "pycharm": {
     "name": "#%%\n"
    }
   }
  },
  {
   "cell_type": "code",
   "execution_count": 57,
   "outputs": [
    {
     "name": "stderr",
     "output_type": "stream",
     "text": [
      "  0%|          | 0/773 [00:00<?, ?it/s]\n",
      "100%|██████████| 100/100 [00:00<00:00, 51546.07it/s]\n"
     ]
    },
    {
     "name": "stdout",
     "output_type": "stream",
     "text": [
      "<div class=\"dlf\"><a href=\"/category/23/226?gl=2\">&lt; Նախորդը</a>   <span class=\"pp\"><a href=\"/category/23/224?gl=2\">224</a><a href=\"/category/23/225?gl=2\">225</a><a href=\"/category/23/226?gl=2\">226</a><span class=\"c\">227</span><a href=\"/category/23/228?gl=2\">228</a><a href=\"/category/23/229?gl=2\">229</a><a href=\"/category/23/230?gl=2\">230</a></span>   <a href=\"/category/23/228?gl=2\">Հաջորդը &gt;</a></div>\n",
      "1\n"
     ]
    },
    {
     "name": "stderr",
     "output_type": "stream",
     "text": [
      "  0%|          | 1/773 [00:09<2:06:03,  9.80s/it]\n",
      "100%|██████████| 100/100 [00:00<00:00, 93165.35it/s]\n"
     ]
    },
    {
     "name": "stdout",
     "output_type": "stream",
     "text": [
      "<div class=\"dlf\"><a href=\"/category/23/227?gl=2\">&lt; Նախորդը</a>   <span class=\"pp\"><a href=\"/category/23/225?gl=2\">225</a><a href=\"/category/23/226?gl=2\">226</a><a href=\"/category/23/227?gl=2\">227</a><span class=\"c\">228</span><a href=\"/category/23/229?gl=2\">229</a><a href=\"/category/23/230?gl=2\">230</a><a href=\"/category/23/231?gl=2\">231</a></span>   <a href=\"/category/23/229?gl=2\">Հաջորդը &gt;</a></div>\n",
      "2\n"
     ]
    },
    {
     "name": "stderr",
     "output_type": "stream",
     "text": [
      "  1%|          | 5/773 [00:14<19:13,  1.50s/it]  \n",
      "100%|██████████| 100/100 [00:00<00:00, 78929.32it/s]\n"
     ]
    },
    {
     "name": "stdout",
     "output_type": "stream",
     "text": [
      "<div class=\"dlf\"><a href=\"/category/23/231?gl=2\">&lt; Նախորդը</a>   <span class=\"pp\"><a href=\"/category/23/229?gl=2\">229</a><a href=\"/category/23/230?gl=2\">230</a><a href=\"/category/23/231?gl=2\">231</a><span class=\"c\">232</span><a href=\"/category/23/233?gl=2\">233</a><a href=\"/category/23/234?gl=2\">234</a><a href=\"/category/23/235?gl=2\">235</a></span>   <a href=\"/category/23/233?gl=2\">Հաջորդը &gt;</a></div>\n",
      "3\n"
     ]
    },
    {
     "name": "stderr",
     "output_type": "stream",
     "text": [
      "  1%|          | 6/773 [00:23<53:15,  4.17s/it]\n",
      "100%|██████████| 100/100 [00:00<00:00, 81159.13it/s]\n"
     ]
    },
    {
     "name": "stdout",
     "output_type": "stream",
     "text": [
      "<div class=\"dlf\"><a href=\"/category/23/232?gl=2\">&lt; Նախորդը</a>   <span class=\"pp\"><a href=\"/category/23/230?gl=2\">230</a><a href=\"/category/23/231?gl=2\">231</a><a href=\"/category/23/232?gl=2\">232</a><span class=\"c\">233</span><a href=\"/category/23/234?gl=2\">234</a><a href=\"/category/23/235?gl=2\">235</a><a href=\"/category/23/236?gl=2\">236</a></span>   <a href=\"/category/23/234?gl=2\">Հաջորդը &gt;</a></div>\n",
      "4\n"
     ]
    },
    {
     "name": "stderr",
     "output_type": "stream",
     "text": [
      "  1%|          | 7/773 [00:33<1:16:07,  5.96s/it]\n",
      "100%|██████████| 100/100 [00:00<00:00, 34999.20it/s]\n"
     ]
    },
    {
     "name": "stdout",
     "output_type": "stream",
     "text": [
      "<div class=\"dlf\"><a href=\"/category/23/233?gl=2\">&lt; Նախորդը</a>   <span class=\"pp\"><a href=\"/category/23/231?gl=2\">231</a><a href=\"/category/23/232?gl=2\">232</a><a href=\"/category/23/233?gl=2\">233</a><span class=\"c\">234</span><a href=\"/category/23/235?gl=2\">235</a><a href=\"/category/23/236?gl=2\">236</a><a href=\"/category/23/237?gl=2\">237</a></span>   <a href=\"/category/23/235?gl=2\">Հաջորդը &gt;</a></div>\n",
      "5\n"
     ]
    },
    {
     "name": "stderr",
     "output_type": "stream",
     "text": [
      "  1%|          | 8/773 [00:36<1:03:41,  5.00s/it]\n",
      "100%|██████████| 100/100 [00:00<00:00, 76580.32it/s]\n"
     ]
    },
    {
     "name": "stdout",
     "output_type": "stream",
     "text": [
      "<div class=\"dlf\"><a href=\"/category/23/234?gl=2\">&lt; Նախորդը</a>   <span class=\"pp\"><a href=\"/category/23/232?gl=2\">232</a><a href=\"/category/23/233?gl=2\">233</a><a href=\"/category/23/234?gl=2\">234</a><span class=\"c\">235</span><a href=\"/category/23/236?gl=2\">236</a><a href=\"/category/23/237?gl=2\">237</a><a href=\"/category/23/238?gl=2\">238</a></span>   <a href=\"/category/23/236?gl=2\">Հաջորդը &gt;</a></div>\n",
      "6\n"
     ]
    },
    {
     "name": "stderr",
     "output_type": "stream",
     "text": [
      "  1%|          | 9/773 [00:45<1:21:48,  6.42s/it]\n",
      "100%|██████████| 100/100 [00:00<00:00, 33912.55it/s]\n"
     ]
    },
    {
     "name": "stdout",
     "output_type": "stream",
     "text": [
      "<div class=\"dlf\"><a href=\"/category/23/235?gl=2\">&lt; Նախորդը</a>   <span class=\"pp\"><a href=\"/category/23/233?gl=2\">233</a><a href=\"/category/23/234?gl=2\">234</a><a href=\"/category/23/235?gl=2\">235</a><span class=\"c\">236</span><a href=\"/category/23/237?gl=2\">237</a><a href=\"/category/23/238?gl=2\">238</a><a href=\"/category/23/239?gl=2\">239</a></span>   <a href=\"/category/23/237?gl=2\">Հաջորդը &gt;</a></div>\n",
      "7\n"
     ]
    },
    {
     "name": "stderr",
     "output_type": "stream",
     "text": [
      "  1%|▏         | 11/773 [00:52<58:02,  4.57s/it]  \n",
      "100%|██████████| 100/100 [00:00<00:00, 81968.03it/s]\n"
     ]
    },
    {
     "name": "stdout",
     "output_type": "stream",
     "text": [
      "<div class=\"dlf\"><a href=\"/category/23/237?gl=2\">&lt; Նախորդը</a>   <span class=\"pp\"><a href=\"/category/23/235?gl=2\">235</a><a href=\"/category/23/236?gl=2\">236</a><a href=\"/category/23/237?gl=2\">237</a><span class=\"c\">238</span><a href=\"/category/23/239?gl=2\">239</a><a href=\"/category/23/240?gl=2\">240</a><a href=\"/category/23/241?gl=2\">241</a></span>   <a href=\"/category/23/239?gl=2\">Հաջորդը &gt;</a></div>\n",
      "8\n"
     ]
    },
    {
     "name": "stderr",
     "output_type": "stream",
     "text": [
      "  2%|▏         | 12/773 [00:57<1:00:05,  4.74s/it]\n",
      "100%|██████████| 100/100 [00:00<00:00, 34200.13it/s]\n"
     ]
    },
    {
     "name": "stdout",
     "output_type": "stream",
     "text": [
      "<div class=\"dlf\"><a href=\"/category/23/238?gl=2\">&lt; Նախորդը</a>   <span class=\"pp\"><a href=\"/category/23/236?gl=2\">236</a><a href=\"/category/23/237?gl=2\">237</a><a href=\"/category/23/238?gl=2\">238</a><span class=\"c\">239</span><a href=\"/category/23/240?gl=2\">240</a><a href=\"/category/23/241?gl=2\">241</a><a href=\"/category/23/242?gl=2\">242</a></span>   <a href=\"/category/23/240?gl=2\">Հաջորդը &gt;</a></div>\n",
      "9\n"
     ]
    },
    {
     "name": "stderr",
     "output_type": "stream",
     "text": [
      "  2%|▏         | 13/773 [01:07<1:17:32,  6.12s/it]\n",
      "100%|██████████| 100/100 [00:00<00:00, 80846.26it/s]\n"
     ]
    },
    {
     "name": "stdout",
     "output_type": "stream",
     "text": [
      "<div class=\"dlf\"><a href=\"/category/23/239?gl=2\">&lt; Նախորդը</a>   <span class=\"pp\"><a href=\"/category/23/237?gl=2\">237</a><a href=\"/category/23/238?gl=2\">238</a><a href=\"/category/23/239?gl=2\">239</a><span class=\"c\">240</span><a href=\"/category/23/241?gl=2\">241</a><a href=\"/category/23/242?gl=2\">242</a><a href=\"/category/23/243?gl=2\">243</a></span>   <a href=\"/category/23/241?gl=2\">Հաջորդը &gt;</a></div>\n",
      "10\n"
     ]
    },
    {
     "name": "stderr",
     "output_type": "stream",
     "text": [
      "  2%|▏         | 14/773 [01:11<1:12:25,  5.73s/it]\n",
      "100%|██████████| 100/100 [00:00<00:00, 64756.89it/s]\n"
     ]
    },
    {
     "name": "stdout",
     "output_type": "stream",
     "text": [
      "<div class=\"dlf\"><a href=\"/category/23/240?gl=2\">&lt; Նախորդը</a>   <span class=\"pp\"><a href=\"/category/23/238?gl=2\">238</a><a href=\"/category/23/239?gl=2\">239</a><a href=\"/category/23/240?gl=2\">240</a><span class=\"c\">241</span><a href=\"/category/23/242?gl=2\">242</a><a href=\"/category/23/243?gl=2\">243</a><a href=\"/category/23/244?gl=2\">244</a></span>   <a href=\"/category/23/242?gl=2\">Հաջորդը &gt;</a></div>\n",
      "11\n"
     ]
    },
    {
     "name": "stderr",
     "output_type": "stream",
     "text": [
      "  2%|▏         | 15/773 [01:14<1:00:40,  4.80s/it]\n",
      "100%|██████████| 100/100 [00:00<00:00, 58793.16it/s]\n"
     ]
    },
    {
     "name": "stdout",
     "output_type": "stream",
     "text": [
      "<div class=\"dlf\"><a href=\"/category/23/241?gl=2\">&lt; Նախորդը</a>   <span class=\"pp\"><a href=\"/category/23/239?gl=2\">239</a><a href=\"/category/23/240?gl=2\">240</a><a href=\"/category/23/241?gl=2\">241</a><span class=\"c\">242</span><a href=\"/category/23/243?gl=2\">243</a><a href=\"/category/23/244?gl=2\">244</a><a href=\"/category/23/245?gl=2\">245</a></span>   <a href=\"/category/23/243?gl=2\">Հաջորդը &gt;</a></div>\n",
      "12\n"
     ]
    },
    {
     "name": "stderr",
     "output_type": "stream",
     "text": [
      "  2%|▏         | 16/773 [01:15<44:42,  3.54s/it]  \n",
      "100%|██████████| 100/100 [00:00<00:00, 65189.68it/s]\n"
     ]
    },
    {
     "name": "stdout",
     "output_type": "stream",
     "text": [
      "<div class=\"dlf\"><a href=\"/category/23/242?gl=2\">&lt; Նախորդը</a>   <span class=\"pp\"><a href=\"/category/23/240?gl=2\">240</a><a href=\"/category/23/241?gl=2\">241</a><a href=\"/category/23/242?gl=2\">242</a><span class=\"c\">243</span><a href=\"/category/23/244?gl=2\">244</a><a href=\"/category/23/245?gl=2\">245</a><a href=\"/category/23/246?gl=2\">246</a></span>   <a href=\"/category/23/244?gl=2\">Հաջորդը &gt;</a></div>\n",
      "13\n"
     ]
    },
    {
     "name": "stderr",
     "output_type": "stream",
     "text": [
      "  2%|▏         | 17/773 [01:16<35:22,  2.81s/it]\n",
      "100%|██████████| 100/100 [00:00<00:00, 86641.27it/s]\n"
     ]
    },
    {
     "name": "stdout",
     "output_type": "stream",
     "text": [
      "<div class=\"dlf\"><a href=\"/category/23/243?gl=2\">&lt; Նախորդը</a>   <span class=\"pp\"><a href=\"/category/23/241?gl=2\">241</a><a href=\"/category/23/242?gl=2\">242</a><a href=\"/category/23/243?gl=2\">243</a><span class=\"c\">244</span><a href=\"/category/23/245?gl=2\">245</a><a href=\"/category/23/246?gl=2\">246</a><a href=\"/category/23/247?gl=2\">247</a></span>   <a href=\"/category/23/245?gl=2\">Հաջորդը &gt;</a></div>\n",
      "14\n"
     ]
    },
    {
     "name": "stderr",
     "output_type": "stream",
     "text": [
      "  2%|▏         | 18/773 [01:18<31:28,  2.50s/it]\n",
      "100%|██████████| 100/100 [00:00<00:00, 80706.25it/s]\n"
     ]
    },
    {
     "name": "stdout",
     "output_type": "stream",
     "text": [
      "<div class=\"dlf\"><a href=\"/category/23/244?gl=2\">&lt; Նախորդը</a>   <span class=\"pp\"><a href=\"/category/23/242?gl=2\">242</a><a href=\"/category/23/243?gl=2\">243</a><a href=\"/category/23/244?gl=2\">244</a><span class=\"c\">245</span><a href=\"/category/23/246?gl=2\">246</a><a href=\"/category/23/247?gl=2\">247</a><a href=\"/category/23/248?gl=2\">248</a></span>   <a href=\"/category/23/246?gl=2\">Հաջորդը &gt;</a></div>\n",
      "15\n"
     ]
    },
    {
     "name": "stderr",
     "output_type": "stream",
     "text": [
      "  2%|▏         | 19/773 [01:27<56:55,  4.53s/it]\n",
      "100%|██████████| 100/100 [00:00<00:00, 64776.90it/s]\n"
     ]
    },
    {
     "name": "stdout",
     "output_type": "stream",
     "text": [
      "<div class=\"dlf\"><a href=\"/category/23/245?gl=2\">&lt; Նախորդը</a>   <span class=\"pp\"><a href=\"/category/23/243?gl=2\">243</a><a href=\"/category/23/244?gl=2\">244</a><a href=\"/category/23/245?gl=2\">245</a><span class=\"c\">246</span><a href=\"/category/23/247?gl=2\">247</a><a href=\"/category/23/248?gl=2\">248</a><a href=\"/category/23/249?gl=2\">249</a></span>   <a href=\"/category/23/247?gl=2\">Հաջորդը &gt;</a></div>\n",
      "16\n"
     ]
    },
    {
     "name": "stderr",
     "output_type": "stream",
     "text": [
      "  3%|▎         | 20/773 [01:29<48:33,  3.87s/it]\n",
      "100%|██████████| 100/100 [00:00<00:00, 75695.79it/s]\n"
     ]
    },
    {
     "name": "stdout",
     "output_type": "stream",
     "text": [
      "<div class=\"dlf\"><a href=\"/category/23/246?gl=2\">&lt; Նախորդը</a>   <span class=\"pp\"><a href=\"/category/23/244?gl=2\">244</a><a href=\"/category/23/245?gl=2\">245</a><a href=\"/category/23/246?gl=2\">246</a><span class=\"c\">247</span><a href=\"/category/23/248?gl=2\">248</a><a href=\"/category/23/249?gl=2\">249</a><a href=\"/category/23/250?gl=2\">250</a></span>   <a href=\"/category/23/248?gl=2\">Հաջորդը &gt;</a></div>\n",
      "17\n"
     ]
    },
    {
     "name": "stderr",
     "output_type": "stream",
     "text": [
      "  3%|▎         | 21/773 [01:32<45:16,  3.61s/it]\n",
      "100%|██████████| 100/100 [00:00<00:00, 68400.26it/s]\n"
     ]
    },
    {
     "name": "stdout",
     "output_type": "stream",
     "text": [
      "<div class=\"dlf\"><a href=\"/category/23/247?gl=2\">&lt; Նախորդը</a>   <span class=\"pp\"><a href=\"/category/23/244?gl=2\">244</a><a href=\"/category/23/245?gl=2\">245</a><a href=\"/category/23/246?gl=2\">246</a><a href=\"/category/23/247?gl=2\">247</a><span class=\"c\">248</span><a href=\"/category/23/249?gl=2\">249</a><a href=\"/category/23/250?gl=2\">250</a></span>   <a href=\"/category/23/249?gl=2\">Հաջորդը &gt;</a></div>\n",
      "18\n"
     ]
    },
    {
     "name": "stderr",
     "output_type": "stream",
     "text": [
      "  3%|▎         | 22/773 [01:37<51:27,  4.11s/it]\n",
      "100%|██████████| 100/100 [00:00<00:00, 86892.56it/s]\n"
     ]
    },
    {
     "name": "stdout",
     "output_type": "stream",
     "text": [
      "<div class=\"dlf\"><a href=\"/category/23/248?gl=2\">&lt; Նախորդը</a>   <span class=\"pp\"><a href=\"/category/23/244?gl=2\">244</a><a href=\"/category/23/245?gl=2\">245</a><a href=\"/category/23/246?gl=2\">246</a><a href=\"/category/23/247?gl=2\">247</a><a href=\"/category/23/248?gl=2\">248</a><span class=\"c\">249</span><a href=\"/category/23/250?gl=2\">250</a></span>   <a href=\"/category/23/250?gl=2\">Հաջորդը &gt;</a></div>\n",
      "19\n"
     ]
    },
    {
     "name": "stderr",
     "output_type": "stream",
     "text": [
      "  3%|▎         | 23/773 [01:40<46:53,  3.75s/it]\n",
      "100%|██████████| 100/100 [00:00<00:00, 81363.80it/s]\n"
     ]
    },
    {
     "name": "stdout",
     "output_type": "stream",
     "text": [
      "<div class=\"dlf\"><a href=\"/category/23/249?gl=2\">&lt; Նախորդը</a>   <span class=\"pp\"><a href=\"/category/23/244?gl=2\">244</a><a href=\"/category/23/245?gl=2\">245</a><a href=\"/category/23/246?gl=2\">246</a><a href=\"/category/23/247?gl=2\">247</a><a href=\"/category/23/248?gl=2\">248</a><a href=\"/category/23/249?gl=2\">249</a><span class=\"c\">250</span></span>   </div>\n",
      "20\n"
     ]
    },
    {
     "name": "stderr",
     "output_type": "stream",
     "text": [
      "  3%|▎         | 24/773 [01:41<34:47,  2.79s/it]\n",
      "100%|██████████| 100/100 [00:00<00:00, 110231.38it/s]\n"
     ]
    },
    {
     "name": "stdout",
     "output_type": "stream",
     "text": [
      "21\n"
     ]
    },
    {
     "name": "stderr",
     "output_type": "stream",
     "text": [
      "  3%|▎         | 25/773 [01:47<48:57,  3.93s/it]\n",
      "100%|██████████| 100/100 [00:00<00:00, 98504.09it/s]\n"
     ]
    },
    {
     "name": "stdout",
     "output_type": "stream",
     "text": [
      "22\n"
     ]
    },
    {
     "name": "stderr",
     "output_type": "stream",
     "text": [
      "  3%|▎         | 26/773 [01:52<51:46,  4.16s/it]\n",
      "100%|██████████| 100/100 [00:00<00:00, 63733.54it/s]\n"
     ]
    },
    {
     "name": "stdout",
     "output_type": "stream",
     "text": [
      "23\n"
     ]
    },
    {
     "name": "stderr",
     "output_type": "stream",
     "text": [
      "  3%|▎         | 27/773 [02:00<1:06:04,  5.31s/it]\n",
      "100%|██████████| 100/100 [00:00<00:00, 90258.32it/s]\n",
      "  4%|▎         | 28/773 [02:01<47:51,  3.85s/it]  "
     ]
    },
    {
     "name": "stdout",
     "output_type": "stream",
     "text": [
      "24\n"
     ]
    },
    {
     "name": "stderr",
     "output_type": "stream",
     "text": [
      "\n",
      "100%|██████████| 100/100 [00:00<00:00, 75709.46it/s]\n"
     ]
    },
    {
     "name": "stdout",
     "output_type": "stream",
     "text": [
      "25\n"
     ]
    },
    {
     "name": "stderr",
     "output_type": "stream",
     "text": [
      "  4%|▍         | 29/773 [02:08<1:02:13,  5.02s/it]\n",
      "100%|██████████| 100/100 [00:00<00:00, 93289.68it/s]\n"
     ]
    },
    {
     "name": "stdout",
     "output_type": "stream",
     "text": [
      "26\n"
     ]
    },
    {
     "name": "stderr",
     "output_type": "stream",
     "text": [
      "  4%|▍         | 30/773 [02:09<46:41,  3.77s/it]  \n",
      "100%|██████████| 100/100 [00:00<00:00, 53642.46it/s]\n"
     ]
    },
    {
     "name": "stdout",
     "output_type": "stream",
     "text": [
      "27\n"
     ]
    },
    {
     "name": "stderr",
     "output_type": "stream",
     "text": [
      "  4%|▍         | 31/773 [02:13<45:16,  3.66s/it]\n",
      "100%|██████████| 100/100 [00:00<00:00, 119021.11it/s]\n"
     ]
    },
    {
     "name": "stdout",
     "output_type": "stream",
     "text": [
      "28\n"
     ]
    },
    {
     "name": "stderr",
     "output_type": "stream",
     "text": [
      "  4%|▍         | 32/773 [02:19<54:31,  4.42s/it]\n",
      "100%|██████████| 100/100 [00:00<00:00, 93916.35it/s]\n"
     ]
    },
    {
     "name": "stdout",
     "output_type": "stream",
     "text": [
      "29\n"
     ]
    },
    {
     "name": "stderr",
     "output_type": "stream",
     "text": [
      "  4%|▍         | 33/773 [02:24<58:50,  4.77s/it]\n",
      "100%|██████████| 100/100 [00:00<00:00, 41120.63it/s]\n"
     ]
    },
    {
     "name": "stdout",
     "output_type": "stream",
     "text": [
      "30\n"
     ]
    },
    {
     "name": "stderr",
     "output_type": "stream",
     "text": [
      "  4%|▍         | 34/773 [02:28<55:39,  4.52s/it]\n",
      "100%|██████████| 100/100 [00:00<00:00, 95607.57it/s]\n"
     ]
    },
    {
     "name": "stdout",
     "output_type": "stream",
     "text": [
      "31\n"
     ]
    },
    {
     "name": "stderr",
     "output_type": "stream",
     "text": [
      "  5%|▍         | 35/773 [02:31<50:13,  4.08s/it]\n",
      "100%|██████████| 100/100 [00:00<00:00, 99203.03it/s]\n"
     ]
    },
    {
     "name": "stdout",
     "output_type": "stream",
     "text": [
      "32\n"
     ]
    },
    {
     "name": "stderr",
     "output_type": "stream",
     "text": [
      "  5%|▍         | 36/773 [02:35<49:22,  4.02s/it]\n",
      "100%|██████████| 100/100 [00:00<00:00, 114943.93it/s]\n"
     ]
    },
    {
     "name": "stdout",
     "output_type": "stream",
     "text": [
      "33\n"
     ]
    },
    {
     "name": "stderr",
     "output_type": "stream",
     "text": [
      "  5%|▍         | 37/773 [02:43<1:02:32,  5.10s/it]\n",
      "100%|██████████| 100/100 [00:00<00:00, 115609.26it/s]\n"
     ]
    },
    {
     "name": "stdout",
     "output_type": "stream",
     "text": [
      "34\n"
     ]
    },
    {
     "name": "stderr",
     "output_type": "stream",
     "text": [
      "  5%|▍         | 38/773 [02:49<1:06:57,  5.47s/it]\n",
      "100%|██████████| 100/100 [00:00<00:00, 27116.01it/s]\n"
     ]
    },
    {
     "name": "stdout",
     "output_type": "stream",
     "text": [
      "35\n"
     ]
    },
    {
     "name": "stderr",
     "output_type": "stream",
     "text": [
      "  5%|▌         | 39/773 [02:56<1:10:14,  5.74s/it]\n",
      "100%|██████████| 100/100 [00:00<00:00, 61881.14it/s]\n"
     ]
    },
    {
     "name": "stdout",
     "output_type": "stream",
     "text": [
      "36\n"
     ]
    },
    {
     "name": "stderr",
     "output_type": "stream",
     "text": [
      "  5%|▌         | 40/773 [03:03<1:16:59,  6.30s/it]\n",
      "100%|██████████| 100/100 [00:00<00:00, 98319.36it/s]\n"
     ]
    },
    {
     "name": "stdout",
     "output_type": "stream",
     "text": [
      "37\n"
     ]
    },
    {
     "name": "stderr",
     "output_type": "stream",
     "text": [
      "  5%|▌         | 41/773 [03:07<1:08:47,  5.64s/it]\n",
      "100%|██████████| 100/100 [00:00<00:00, 107767.32it/s]\n"
     ]
    },
    {
     "name": "stdout",
     "output_type": "stream",
     "text": [
      "38\n"
     ]
    },
    {
     "name": "stderr",
     "output_type": "stream",
     "text": [
      "  5%|▌         | 42/773 [03:12<1:05:26,  5.37s/it]\n",
      "100%|██████████| 100/100 [00:00<00:00, 96332.20it/s]\n"
     ]
    },
    {
     "name": "stdout",
     "output_type": "stream",
     "text": [
      "39\n"
     ]
    },
    {
     "name": "stderr",
     "output_type": "stream",
     "text": [
      "  6%|▌         | 43/773 [03:18<1:06:14,  5.44s/it]\n",
      "100%|██████████| 100/100 [00:00<00:00, 78618.63it/s]\n"
     ]
    },
    {
     "name": "stdout",
     "output_type": "stream",
     "text": [
      "40\n"
     ]
    },
    {
     "name": "stderr",
     "output_type": "stream",
     "text": [
      "  6%|▌         | 44/773 [03:22<1:02:38,  5.16s/it]\n",
      "100%|██████████| 100/100 [00:00<00:00, 103206.30it/s]\n"
     ]
    },
    {
     "name": "stdout",
     "output_type": "stream",
     "text": [
      "41\n"
     ]
    },
    {
     "name": "stderr",
     "output_type": "stream",
     "text": [
      "  6%|▌         | 45/773 [03:26<59:01,  4.86s/it]  \n",
      "100%|██████████| 100/100 [00:00<00:00, 106725.29it/s]\n"
     ]
    },
    {
     "name": "stdout",
     "output_type": "stream",
     "text": [
      "42\n"
     ]
    },
    {
     "name": "stderr",
     "output_type": "stream",
     "text": [
      "  6%|▌         | 46/773 [03:27<43:33,  3.59s/it]\n",
      "100%|██████████| 100/100 [00:00<00:00, 34729.68it/s]\n"
     ]
    },
    {
     "name": "stdout",
     "output_type": "stream",
     "text": [
      "43\n"
     ]
    },
    {
     "name": "stderr",
     "output_type": "stream",
     "text": [
      "  6%|▌         | 47/773 [03:31<44:32,  3.68s/it]\n",
      "100%|██████████| 100/100 [00:00<00:00, 68691.52it/s]\n"
     ]
    },
    {
     "name": "stdout",
     "output_type": "stream",
     "text": [
      "44\n"
     ]
    },
    {
     "name": "stderr",
     "output_type": "stream",
     "text": [
      "  6%|▌         | 48/773 [03:33<37:53,  3.14s/it]\n",
      "100%|██████████| 100/100 [00:00<00:00, 107518.69it/s]\n"
     ]
    },
    {
     "name": "stdout",
     "output_type": "stream",
     "text": [
      "45\n"
     ]
    },
    {
     "name": "stderr",
     "output_type": "stream",
     "text": [
      "  6%|▋         | 49/773 [03:38<44:00,  3.65s/it]\n",
      "100%|██████████| 100/100 [00:00<00:00, 82727.89it/s]\n"
     ]
    },
    {
     "name": "stdout",
     "output_type": "stream",
     "text": [
      "46\n"
     ]
    },
    {
     "name": "stderr",
     "output_type": "stream",
     "text": [
      "  6%|▋         | 50/773 [03:42<46:19,  3.84s/it]\n",
      "100%|██████████| 100/100 [00:00<00:00, 73096.97it/s]\n"
     ]
    },
    {
     "name": "stdout",
     "output_type": "stream",
     "text": [
      "47\n"
     ]
    },
    {
     "name": "stderr",
     "output_type": "stream",
     "text": [
      "  7%|▋         | 51/773 [03:51<1:06:43,  5.54s/it]\n",
      "100%|██████████| 100/100 [00:00<00:00, 104491.88it/s]\n"
     ]
    },
    {
     "name": "stdout",
     "output_type": "stream",
     "text": [
      "48\n"
     ]
    },
    {
     "name": "stderr",
     "output_type": "stream",
     "text": [
      "  7%|▋         | 52/773 [04:00<1:17:17,  6.43s/it]\n",
      "100%|██████████| 100/100 [00:00<00:00, 113635.98it/s]\n"
     ]
    },
    {
     "name": "stdout",
     "output_type": "stream",
     "text": [
      "49\n"
     ]
    },
    {
     "name": "stderr",
     "output_type": "stream",
     "text": [
      "  7%|▋         | 53/773 [04:04<1:07:38,  5.64s/it]\n",
      "100%|██████████| 100/100 [00:00<00:00, 78500.92it/s]\n"
     ]
    },
    {
     "name": "stdout",
     "output_type": "stream",
     "text": [
      "50\n"
     ]
    },
    {
     "name": "stderr",
     "output_type": "stream",
     "text": [
      "  7%|▋         | 54/773 [04:07<1:00:58,  5.09s/it]\n",
      "100%|██████████| 100/100 [00:00<00:00, 78310.38it/s]\n"
     ]
    },
    {
     "name": "stdout",
     "output_type": "stream",
     "text": [
      "51\n"
     ]
    },
    {
     "name": "stderr",
     "output_type": "stream",
     "text": [
      "  7%|▋         | 55/773 [04:09<47:40,  3.98s/it]  \n",
      "100%|██████████| 100/100 [00:00<00:00, 92324.54it/s]\n"
     ]
    },
    {
     "name": "stdout",
     "output_type": "stream",
     "text": [
      "52\n"
     ]
    },
    {
     "name": "stderr",
     "output_type": "stream",
     "text": [
      "  7%|▋         | 56/773 [04:15<54:46,  4.58s/it]\n",
      "100%|██████████| 100/100 [00:00<00:00, 108829.89it/s]\n"
     ]
    },
    {
     "name": "stdout",
     "output_type": "stream",
     "text": [
      "53\n"
     ]
    },
    {
     "name": "stderr",
     "output_type": "stream",
     "text": [
      "  7%|▋         | 57/773 [04:21<58:47,  4.93s/it]\n",
      "100%|██████████| 100/100 [00:00<00:00, 70291.67it/s]\n"
     ]
    },
    {
     "name": "stdout",
     "output_type": "stream",
     "text": [
      "54\n"
     ]
    },
    {
     "name": "stderr",
     "output_type": "stream",
     "text": [
      "  8%|▊         | 58/773 [04:29<1:11:09,  5.97s/it]\n",
      "100%|██████████| 100/100 [00:00<00:00, 58727.30it/s]\n"
     ]
    },
    {
     "name": "stdout",
     "output_type": "stream",
     "text": [
      "55\n"
     ]
    },
    {
     "name": "stderr",
     "output_type": "stream",
     "text": [
      "  8%|▊         | 59/773 [04:39<1:25:11,  7.16s/it]\n",
      "100%|██████████| 100/100 [00:00<00:00, 97180.35it/s]\n"
     ]
    },
    {
     "name": "stdout",
     "output_type": "stream",
     "text": [
      "56\n"
     ]
    },
    {
     "name": "stderr",
     "output_type": "stream",
     "text": [
      "  8%|▊         | 60/773 [04:46<1:24:19,  7.10s/it]\n",
      "100%|██████████| 100/100 [00:00<00:00, 122069.38it/s]\n"
     ]
    },
    {
     "name": "stdout",
     "output_type": "stream",
     "text": [
      "57\n"
     ]
    },
    {
     "name": "stderr",
     "output_type": "stream",
     "text": [
      "  8%|▊         | 61/773 [04:53<1:24:33,  7.13s/it]\n",
      "100%|██████████| 100/100 [00:00<00:00, 83187.31it/s]\n"
     ]
    },
    {
     "name": "stdout",
     "output_type": "stream",
     "text": [
      "58\n"
     ]
    },
    {
     "name": "stderr",
     "output_type": "stream",
     "text": [
      "  8%|▊         | 62/773 [05:02<1:30:44,  7.66s/it]\n",
      "100%|██████████| 100/100 [00:00<00:00, 109283.59it/s]\n"
     ]
    },
    {
     "name": "stdout",
     "output_type": "stream",
     "text": [
      "59\n"
     ]
    },
    {
     "name": "stderr",
     "output_type": "stream",
     "text": [
      "  8%|▊         | 63/773 [05:04<1:10:28,  5.96s/it]\n",
      "100%|██████████| 100/100 [00:00<00:00, 110521.84it/s]\n"
     ]
    },
    {
     "name": "stdout",
     "output_type": "stream",
     "text": [
      "60\n"
     ]
    },
    {
     "name": "stderr",
     "output_type": "stream",
     "text": [
      "  8%|▊         | 64/773 [05:09<1:07:02,  5.67s/it]\n",
      "100%|██████████| 100/100 [00:00<00:00, 92243.33it/s]\n"
     ]
    },
    {
     "name": "stdout",
     "output_type": "stream",
     "text": [
      "61\n"
     ]
    },
    {
     "name": "stderr",
     "output_type": "stream",
     "text": [
      "  8%|▊         | 65/773 [05:18<1:19:01,  6.70s/it]\n",
      "100%|██████████| 100/100 [00:00<00:00, 116702.95it/s]\n"
     ]
    },
    {
     "name": "stdout",
     "output_type": "stream",
     "text": [
      "62\n"
     ]
    },
    {
     "name": "stderr",
     "output_type": "stream",
     "text": [
      "  9%|▊         | 66/773 [05:21<1:06:32,  5.65s/it]\n",
      "100%|██████████| 100/100 [00:00<00:00, 81712.53it/s]\n"
     ]
    },
    {
     "name": "stdout",
     "output_type": "stream",
     "text": [
      "63\n"
     ]
    },
    {
     "name": "stderr",
     "output_type": "stream",
     "text": [
      "  9%|▊         | 67/773 [05:25<58:09,  4.94s/it]  \n",
      "100%|██████████| 100/100 [00:00<00:00, 91658.74it/s]\n"
     ]
    },
    {
     "name": "stdout",
     "output_type": "stream",
     "text": [
      "64\n"
     ]
    },
    {
     "name": "stderr",
     "output_type": "stream",
     "text": [
      "  9%|▉         | 68/773 [05:28<53:11,  4.53s/it]\n",
      "100%|██████████| 100/100 [00:00<00:00, 74091.22it/s]\n"
     ]
    },
    {
     "name": "stdout",
     "output_type": "stream",
     "text": [
      "65\n"
     ]
    },
    {
     "name": "stderr",
     "output_type": "stream",
     "text": [
      "  9%|▉         | 69/773 [05:38<1:11:14,  6.07s/it]\n",
      "100%|██████████| 100/100 [00:00<00:00, 74367.09it/s]\n"
     ]
    },
    {
     "name": "stdout",
     "output_type": "stream",
     "text": [
      "66\n"
     ]
    },
    {
     "name": "stderr",
     "output_type": "stream",
     "text": [
      "  9%|▉         | 70/773 [05:47<1:20:58,  6.91s/it]\n",
      "100%|██████████| 100/100 [00:00<00:00, 97951.99it/s]\n"
     ]
    },
    {
     "name": "stdout",
     "output_type": "stream",
     "text": [
      "67\n"
     ]
    },
    {
     "name": "stderr",
     "output_type": "stream",
     "text": [
      "  9%|▉         | 71/773 [05:53<1:18:09,  6.68s/it]\n",
      "100%|██████████| 100/100 [00:00<00:00, 90668.05it/s]\n"
     ]
    },
    {
     "name": "stdout",
     "output_type": "stream",
     "text": [
      "68\n"
     ]
    },
    {
     "name": "stderr",
     "output_type": "stream",
     "text": [
      "  9%|▉         | 72/773 [05:56<1:05:21,  5.59s/it]\n",
      "100%|██████████| 100/100 [00:00<00:00, 67704.67it/s]\n"
     ]
    },
    {
     "name": "stdout",
     "output_type": "stream",
     "text": [
      "69\n"
     ]
    },
    {
     "name": "stderr",
     "output_type": "stream",
     "text": [
      "  9%|▉         | 73/773 [06:00<59:04,  5.06s/it]  \n",
      "100%|██████████| 100/100 [00:00<00:00, 86802.65it/s]\n"
     ]
    },
    {
     "name": "stdout",
     "output_type": "stream",
     "text": [
      "70\n"
     ]
    },
    {
     "name": "stderr",
     "output_type": "stream",
     "text": [
      " 10%|▉         | 74/773 [06:02<47:57,  4.12s/it]\n",
      "100%|██████████| 100/100 [00:00<00:00, 84460.41it/s]\n"
     ]
    },
    {
     "name": "stdout",
     "output_type": "stream",
     "text": [
      "71\n"
     ]
    },
    {
     "name": "stderr",
     "output_type": "stream",
     "text": [
      " 10%|▉         | 75/773 [06:05<46:00,  3.95s/it]\n",
      "100%|██████████| 100/100 [00:00<00:00, 73752.49it/s]\n"
     ]
    },
    {
     "name": "stdout",
     "output_type": "stream",
     "text": [
      "72\n"
     ]
    },
    {
     "name": "stderr",
     "output_type": "stream",
     "text": [
      " 10%|▉         | 76/773 [06:12<56:40,  4.88s/it]\n",
      "100%|██████████| 100/100 [00:00<00:00, 100390.23it/s]\n"
     ]
    },
    {
     "name": "stdout",
     "output_type": "stream",
     "text": [
      "73\n"
     ]
    },
    {
     "name": "stderr",
     "output_type": "stream",
     "text": [
      " 10%|▉         | 77/773 [06:17<56:32,  4.87s/it]\n",
      "100%|██████████| 100/100 [00:00<00:00, 97180.35it/s]\n"
     ]
    },
    {
     "name": "stdout",
     "output_type": "stream",
     "text": [
      "74\n"
     ]
    },
    {
     "name": "stderr",
     "output_type": "stream",
     "text": [
      " 10%|█         | 78/773 [06:25<1:06:43,  5.76s/it]\n",
      "100%|██████████| 100/100 [00:00<00:00, 96177.57it/s]\n"
     ]
    },
    {
     "name": "stdout",
     "output_type": "stream",
     "text": [
      "75\n"
     ]
    },
    {
     "name": "stderr",
     "output_type": "stream",
     "text": [
      " 10%|█         | 79/773 [06:30<1:05:26,  5.66s/it]\n",
      "100%|██████████| 100/100 [00:00<00:00, 111372.92it/s]\n"
     ]
    },
    {
     "name": "stdout",
     "output_type": "stream",
     "text": [
      "76\n"
     ]
    },
    {
     "name": "stderr",
     "output_type": "stream",
     "text": [
      " 10%|█         | 80/773 [06:41<1:21:27,  7.05s/it]\n",
      "100%|██████████| 100/100 [00:00<00:00, 96620.69it/s]\n"
     ]
    },
    {
     "name": "stdout",
     "output_type": "stream",
     "text": [
      "77\n"
     ]
    },
    {
     "name": "stderr",
     "output_type": "stream",
     "text": [
      " 10%|█         | 81/773 [06:43<1:05:44,  5.70s/it]\n",
      "100%|██████████| 100/100 [00:00<00:00, 88263.97it/s]\n"
     ]
    },
    {
     "name": "stdout",
     "output_type": "stream",
     "text": [
      "78\n"
     ]
    },
    {
     "name": "stderr",
     "output_type": "stream",
     "text": [
      " 11%|█         | 82/773 [06:46<56:14,  4.88s/it]  \n",
      "100%|██████████| 100/100 [00:00<00:00, 79921.95it/s]\n"
     ]
    },
    {
     "name": "stdout",
     "output_type": "stream",
     "text": [
      "79\n"
     ]
    },
    {
     "name": "stderr",
     "output_type": "stream",
     "text": [
      " 11%|█         | 83/773 [06:49<47:49,  4.16s/it]\n",
      "100%|██████████| 100/100 [00:00<00:00, 108323.97it/s]\n"
     ]
    },
    {
     "name": "stdout",
     "output_type": "stream",
     "text": [
      "80\n"
     ]
    },
    {
     "name": "stderr",
     "output_type": "stream",
     "text": [
      " 11%|█         | 84/773 [06:56<58:00,  5.05s/it]\n",
      "100%|██████████| 100/100 [00:00<00:00, 113359.57it/s]\n"
     ]
    },
    {
     "name": "stdout",
     "output_type": "stream",
     "text": [
      "81\n"
     ]
    },
    {
     "name": "stderr",
     "output_type": "stream",
     "text": [
      " 11%|█         | 85/773 [07:03<1:04:20,  5.61s/it]\n",
      "100%|██████████| 100/100 [00:00<00:00, 105729.87it/s]\n"
     ]
    },
    {
     "name": "stdout",
     "output_type": "stream",
     "text": [
      "82\n"
     ]
    },
    {
     "name": "stderr",
     "output_type": "stream",
     "text": [
      " 11%|█         | 86/773 [07:08<1:02:49,  5.49s/it]\n",
      "100%|██████████| 100/100 [00:00<00:00, 99603.51it/s]\n"
     ]
    },
    {
     "name": "stdout",
     "output_type": "stream",
     "text": [
      "83\n"
     ]
    },
    {
     "name": "stderr",
     "output_type": "stream",
     "text": [
      " 12%|█▏        | 90/773 [07:11<20:38,  1.81s/it]  \n",
      "100%|██████████| 100/100 [00:00<00:00, 75695.79it/s]\n"
     ]
    },
    {
     "name": "stdout",
     "output_type": "stream",
     "text": [
      "84\n"
     ]
    },
    {
     "name": "stderr",
     "output_type": "stream",
     "text": [
      " 12%|█▏        | 91/773 [07:19<39:22,  3.46s/it]\n",
      "100%|██████████| 100/100 [00:00<00:00, 121222.66it/s]\n"
     ]
    },
    {
     "name": "stdout",
     "output_type": "stream",
     "text": [
      "85\n"
     ]
    },
    {
     "name": "stderr",
     "output_type": "stream",
     "text": [
      " 12%|█▏        | 92/773 [07:24<43:54,  3.87s/it]\n",
      "100%|██████████| 100/100 [00:00<00:00, 108435.99it/s]\n"
     ]
    },
    {
     "name": "stdout",
     "output_type": "stream",
     "text": [
      "86\n"
     ]
    },
    {
     "name": "stderr",
     "output_type": "stream",
     "text": [
      " 12%|█▏        | 93/773 [07:30<51:38,  4.56s/it]\n",
      "100%|██████████| 100/100 [00:00<00:00, 108801.66it/s]\n"
     ]
    },
    {
     "name": "stdout",
     "output_type": "stream",
     "text": [
      "87\n"
     ]
    },
    {
     "name": "stderr",
     "output_type": "stream",
     "text": [
      " 12%|█▏        | 94/773 [07:39<1:07:14,  5.94s/it]\n",
      "100%|██████████| 100/100 [00:00<00:00, 113390.21it/s]\n"
     ]
    },
    {
     "name": "stdout",
     "output_type": "stream",
     "text": [
      "88\n"
     ]
    },
    {
     "name": "stderr",
     "output_type": "stream",
     "text": [
      " 14%|█▍        | 108/773 [07:53<04:14,  2.61it/s] \n",
      "100%|██████████| 100/100 [00:00<00:00, 92938.27it/s]\n"
     ]
    },
    {
     "name": "stdout",
     "output_type": "stream",
     "text": [
      "89\n"
     ]
    },
    {
     "name": "stderr",
     "output_type": "stream",
     "text": [
      " 14%|█▍        | 109/773 [08:03<36:24,  3.29s/it]\n",
      "100%|██████████| 100/100 [00:00<00:00, 92000.53it/s]\n"
     ]
    },
    {
     "name": "stdout",
     "output_type": "stream",
     "text": [
      "90\n"
     ]
    },
    {
     "name": "stderr",
     "output_type": "stream",
     "text": [
      " 14%|█▍        | 110/773 [08:12<54:25,  4.93s/it]\n",
      "100%|██████████| 100/100 [00:00<00:00, 45061.28it/s]\n"
     ]
    },
    {
     "name": "stdout",
     "output_type": "stream",
     "text": [
      "91\n"
     ]
    },
    {
     "name": "stderr",
     "output_type": "stream",
     "text": [
      " 14%|█▍        | 111/773 [08:18<57:28,  5.21s/it]\n",
      "100%|██████████| 100/100 [00:00<00:00, 72678.98it/s]\n"
     ]
    },
    {
     "name": "stdout",
     "output_type": "stream",
     "text": [
      "92\n"
     ]
    },
    {
     "name": "stderr",
     "output_type": "stream",
     "text": [
      " 15%|█▍        | 114/773 [08:25<32:46,  2.98s/it]  \n",
      "100%|██████████| 100/100 [00:00<00:00, 98550.38it/s]\n"
     ]
    },
    {
     "name": "stdout",
     "output_type": "stream",
     "text": [
      "93\n"
     ]
    },
    {
     "name": "stderr",
     "output_type": "stream",
     "text": [
      " 15%|█▍        | 115/773 [08:31<42:05,  3.84s/it]\n",
      "100%|██████████| 100/100 [00:00<00:00, 113790.12it/s]\n"
     ]
    },
    {
     "name": "stdout",
     "output_type": "stream",
     "text": [
      "94\n"
     ]
    },
    {
     "name": "stderr",
     "output_type": "stream",
     "text": [
      " 15%|█▌        | 116/773 [08:36<45:38,  4.17s/it]\n",
      "100%|██████████| 100/100 [00:00<00:00, 82032.15it/s]\n"
     ]
    },
    {
     "name": "stdout",
     "output_type": "stream",
     "text": [
      "95\n"
     ]
    },
    {
     "name": "stderr",
     "output_type": "stream",
     "text": [
      " 15%|█▌        | 117/773 [08:44<57:27,  5.26s/it]\n",
      "100%|██████████| 100/100 [00:00<00:00, 88712.01it/s]\n"
     ]
    },
    {
     "name": "stdout",
     "output_type": "stream",
     "text": [
      "96\n"
     ]
    },
    {
     "name": "stderr",
     "output_type": "stream",
     "text": [
      " 15%|█▌        | 118/773 [08:52<1:05:31,  6.00s/it]\n",
      "100%|██████████| 100/100 [00:00<00:00, 81112.05it/s]\n"
     ]
    },
    {
     "name": "stdout",
     "output_type": "stream",
     "text": [
      "97\n"
     ]
    },
    {
     "name": "stderr",
     "output_type": "stream",
     "text": [
      " 15%|█▌        | 119/773 [08:58<1:05:12,  5.98s/it]\n",
      "100%|██████████| 100/100 [00:00<00:00, 99508.99it/s]\n"
     ]
    },
    {
     "name": "stdout",
     "output_type": "stream",
     "text": [
      "98\n"
     ]
    },
    {
     "name": "stderr",
     "output_type": "stream",
     "text": [
      " 16%|█▌        | 120/773 [09:04<1:06:12,  6.08s/it]\n",
      "100%|██████████| 100/100 [00:00<00:00, 64597.32it/s]\n"
     ]
    },
    {
     "name": "stdout",
     "output_type": "stream",
     "text": [
      "99\n"
     ]
    },
    {
     "name": "stderr",
     "output_type": "stream",
     "text": [
      " 16%|█▌        | 121/773 [09:11<1:08:48,  6.33s/it]\n",
      "100%|██████████| 100/100 [00:00<00:00, 95782.23it/s]\n"
     ]
    },
    {
     "name": "stdout",
     "output_type": "stream",
     "text": [
      "100\n"
     ]
    },
    {
     "name": "stderr",
     "output_type": "stream",
     "text": [
      " 16%|█▌        | 122/773 [09:19<1:14:36,  6.88s/it]\n",
      "100%|██████████| 100/100 [00:00<00:00, 93979.48it/s]\n"
     ]
    },
    {
     "name": "stdout",
     "output_type": "stream",
     "text": [
      "101\n"
     ]
    },
    {
     "name": "stderr",
     "output_type": "stream",
     "text": [
      " 16%|█▌        | 125/773 [09:30<43:33,  4.03s/it]  \n",
      "100%|██████████| 100/100 [00:00<00:00, 89756.13it/s]\n"
     ]
    },
    {
     "name": "stdout",
     "output_type": "stream",
     "text": [
      "102\n"
     ]
    },
    {
     "name": "stderr",
     "output_type": "stream",
     "text": [
      " 16%|█▋        | 126/773 [09:39<58:35,  5.43s/it]\n",
      "100%|██████████| 100/100 [00:00<00:00, 97451.30it/s]\n"
     ]
    },
    {
     "name": "stdout",
     "output_type": "stream",
     "text": [
      "103\n"
     ]
    },
    {
     "name": "stderr",
     "output_type": "stream",
     "text": [
      " 16%|█▋        | 127/773 [09:42<52:57,  4.92s/it]\n",
      "100%|██████████| 100/100 [00:00<00:00, 88023.17it/s]\n"
     ]
    },
    {
     "name": "stdout",
     "output_type": "stream",
     "text": [
      "104\n"
     ]
    },
    {
     "name": "stderr",
     "output_type": "stream",
     "text": [
      " 17%|█▋        | 128/773 [09:50<1:01:42,  5.74s/it]\n",
      "100%|██████████| 100/100 [00:00<00:00, 101729.42it/s]\n"
     ]
    },
    {
     "name": "stdout",
     "output_type": "stream",
     "text": [
      "105\n"
     ]
    },
    {
     "name": "stderr",
     "output_type": "stream",
     "text": [
      " 17%|█▋        | 129/773 [09:52<51:18,  4.78s/it]  \n",
      "100%|██████████| 100/100 [00:00<00:00, 96620.69it/s]\n"
     ]
    },
    {
     "name": "stdout",
     "output_type": "stream",
     "text": [
      "106\n"
     ]
    },
    {
     "name": "stderr",
     "output_type": "stream",
     "text": [
      " 17%|█▋        | 130/773 [10:02<1:05:59,  6.16s/it]\n",
      "100%|██████████| 100/100 [00:00<00:00, 92938.27it/s]\n"
     ]
    },
    {
     "name": "stdout",
     "output_type": "stream",
     "text": [
      "107\n"
     ]
    },
    {
     "name": "stderr",
     "output_type": "stream",
     "text": [
      " 17%|█▋        | 131/773 [10:10<1:13:45,  6.89s/it]\n",
      "100%|██████████| 100/100 [00:00<00:00, 45939.80it/s]\n"
     ]
    },
    {
     "name": "stdout",
     "output_type": "stream",
     "text": [
      "108\n"
     ]
    },
    {
     "name": "stderr",
     "output_type": "stream",
     "text": [
      " 17%|█▋        | 132/773 [10:11<54:13,  5.08s/it]  \n",
      "100%|██████████| 100/100 [00:00<00:00, 87802.05it/s]\n"
     ]
    },
    {
     "name": "stdout",
     "output_type": "stream",
     "text": [
      "109\n"
     ]
    },
    {
     "name": "stderr",
     "output_type": "stream",
     "text": [
      " 17%|█▋        | 133/773 [10:15<50:26,  4.73s/it]\n",
      "100%|██████████| 100/100 [00:00<00:00, 94615.47it/s]\n"
     ]
    },
    {
     "name": "stdout",
     "output_type": "stream",
     "text": [
      "110\n"
     ]
    },
    {
     "name": "stderr",
     "output_type": "stream",
     "text": [
      " 18%|█▊        | 136/773 [10:20<25:04,  2.36s/it]\n",
      "100%|██████████| 100/100 [00:00<00:00, 84307.62it/s]\n"
     ]
    },
    {
     "name": "stdout",
     "output_type": "stream",
     "text": [
      "111\n"
     ]
    },
    {
     "name": "stderr",
     "output_type": "stream",
     "text": [
      " 18%|█▊        | 137/773 [10:21<22:25,  2.12s/it]\n",
      "100%|██████████| 100/100 [00:00<00:00, 100174.44it/s]\n"
     ]
    },
    {
     "name": "stdout",
     "output_type": "stream",
     "text": [
      "112\n"
     ]
    },
    {
     "name": "stderr",
     "output_type": "stream",
     "text": [
      " 18%|█▊        | 138/773 [10:29<41:35,  3.93s/it]\n",
      "100%|██████████| 100/100 [00:00<00:00, 89126.73it/s]\n"
     ]
    },
    {
     "name": "stdout",
     "output_type": "stream",
     "text": [
      "113\n"
     ]
    },
    {
     "name": "stderr",
     "output_type": "stream",
     "text": [
      " 18%|█▊        | 139/773 [10:37<52:06,  4.93s/it]\n",
      "100%|██████████| 100/100 [00:00<00:00, 57471.96it/s]\n"
     ]
    },
    {
     "name": "stdout",
     "output_type": "stream",
     "text": [
      "114\n"
     ]
    },
    {
     "name": "stderr",
     "output_type": "stream",
     "text": [
      " 18%|█▊        | 140/773 [10:45<1:03:43,  6.04s/it]\n",
      "100%|██████████| 100/100 [00:00<00:00, 93895.32it/s]\n"
     ]
    },
    {
     "name": "stdout",
     "output_type": "stream",
     "text": [
      "115\n"
     ]
    },
    {
     "name": "stderr",
     "output_type": "stream",
     "text": [
      " 18%|█▊        | 141/773 [10:50<1:00:15,  5.72s/it]\n",
      "100%|██████████| 100/100 [00:00<00:00, 72616.07it/s]\n"
     ]
    },
    {
     "name": "stdout",
     "output_type": "stream",
     "text": [
      "116\n"
     ]
    },
    {
     "name": "stderr",
     "output_type": "stream",
     "text": [
      " 18%|█▊        | 142/773 [10:52<45:59,  4.37s/it]  \n",
      "100%|██████████| 100/100 [00:00<00:00, 98043.57it/s]\n"
     ]
    },
    {
     "name": "stdout",
     "output_type": "stream",
     "text": [
      "117\n"
     ]
    },
    {
     "name": "stderr",
     "output_type": "stream",
     "text": [
      " 18%|█▊        | 143/773 [11:00<58:24,  5.56s/it]\n",
      "100%|██████████| 100/100 [00:00<00:00, 93706.52it/s]\n"
     ]
    },
    {
     "name": "stdout",
     "output_type": "stream",
     "text": [
      "118\n"
     ]
    },
    {
     "name": "stderr",
     "output_type": "stream",
     "text": [
      " 19%|█▉        | 145/773 [11:07<45:05,  4.31s/it]  \n",
      "100%|██████████| 100/100 [00:00<00:00, 61808.19it/s]\n"
     ]
    },
    {
     "name": "stdout",
     "output_type": "stream",
     "text": [
      "119\n"
     ]
    },
    {
     "name": "stderr",
     "output_type": "stream",
     "text": [
      " 19%|█▉        | 146/773 [11:12<46:26,  4.44s/it]\n",
      "100%|██████████| 100/100 [00:00<00:00, 111343.35it/s]\n"
     ]
    },
    {
     "name": "stdout",
     "output_type": "stream",
     "text": [
      "120\n"
     ]
    },
    {
     "name": "stderr",
     "output_type": "stream",
     "text": [
      " 19%|█▉        | 147/773 [11:20<56:05,  5.38s/it]\n",
      "100%|██████████| 100/100 [00:00<00:00, 67119.60it/s]\n"
     ]
    },
    {
     "name": "stdout",
     "output_type": "stream",
     "text": [
      "121\n"
     ]
    },
    {
     "name": "stderr",
     "output_type": "stream",
     "text": [
      " 19%|█▉        | 148/773 [11:29<1:08:30,  6.58s/it]\n",
      "100%|██████████| 100/100 [00:00<00:00, 80135.73it/s]\n"
     ]
    },
    {
     "name": "stdout",
     "output_type": "stream",
     "text": [
      "122\n"
     ]
    },
    {
     "name": "stderr",
     "output_type": "stream",
     "text": [
      " 19%|█▉        | 149/773 [11:37<1:14:00,  7.12s/it]\n",
      "100%|██████████| 100/100 [00:00<00:00, 79422.53it/s]\n"
     ]
    },
    {
     "name": "stdout",
     "output_type": "stream",
     "text": [
      "123\n"
     ]
    },
    {
     "name": "stderr",
     "output_type": "stream",
     "text": [
      " 19%|█▉        | 150/773 [11:47<1:21:43,  7.87s/it]\n",
      "100%|██████████| 100/100 [00:00<00:00, 92182.51it/s]\n"
     ]
    },
    {
     "name": "stdout",
     "output_type": "stream",
     "text": [
      "124\n"
     ]
    },
    {
     "name": "stderr",
     "output_type": "stream",
     "text": [
      " 20%|█▉        | 151/773 [11:55<1:23:07,  8.02s/it]\n",
      "100%|██████████| 100/100 [00:00<00:00, 100318.20it/s]\n"
     ]
    },
    {
     "name": "stdout",
     "output_type": "stream",
     "text": [
      "125\n"
     ]
    },
    {
     "name": "stderr",
     "output_type": "stream",
     "text": [
      " 20%|█▉        | 152/773 [12:01<1:16:20,  7.38s/it]\n",
      "100%|██████████| 100/100 [00:00<00:00, 55428.89it/s]\n"
     ]
    },
    {
     "name": "stdout",
     "output_type": "stream",
     "text": [
      "126\n"
     ]
    },
    {
     "name": "stderr",
     "output_type": "stream",
     "text": [
      " 20%|█▉        | 153/773 [12:07<1:12:45,  7.04s/it]\n",
      "100%|██████████| 100/100 [00:00<00:00, 90258.32it/s]\n"
     ]
    },
    {
     "name": "stdout",
     "output_type": "stream",
     "text": [
      "127\n"
     ]
    },
    {
     "name": "stderr",
     "output_type": "stream",
     "text": [
      " 20%|█▉        | 154/773 [12:16<1:18:50,  7.64s/it]\n",
      "100%|██████████| 100/100 [00:00<00:00, 72779.87it/s]\n"
     ]
    },
    {
     "name": "stdout",
     "output_type": "stream",
     "text": [
      "128\n"
     ]
    },
    {
     "name": "stderr",
     "output_type": "stream",
     "text": [
      " 20%|██        | 155/773 [12:17<57:11,  5.55s/it]  \n",
      "100%|██████████| 100/100 [00:00<00:00, 105490.54it/s]\n"
     ]
    },
    {
     "name": "stdout",
     "output_type": "stream",
     "text": [
      "129\n"
     ]
    },
    {
     "name": "stderr",
     "output_type": "stream",
     "text": [
      " 20%|██        | 156/773 [12:22<55:11,  5.37s/it]\n",
      "100%|██████████| 100/100 [00:00<00:00, 59485.24it/s]\n"
     ]
    },
    {
     "name": "stdout",
     "output_type": "stream",
     "text": [
      "130\n"
     ]
    },
    {
     "name": "stderr",
     "output_type": "stream",
     "text": [
      " 20%|██        | 157/773 [12:32<1:08:58,  6.72s/it]\n",
      "100%|██████████| 100/100 [00:00<00:00, 83485.35it/s]\n"
     ]
    },
    {
     "name": "stdout",
     "output_type": "stream",
     "text": [
      "131\n"
     ]
    },
    {
     "name": "stderr",
     "output_type": "stream",
     "text": [
      " 20%|██        | 158/773 [12:42<1:19:47,  7.78s/it]\n",
      "100%|██████████| 100/100 [00:00<00:00, 105252.30it/s]\n"
     ]
    },
    {
     "name": "stdout",
     "output_type": "stream",
     "text": [
      "132\n"
     ]
    },
    {
     "name": "stderr",
     "output_type": "stream",
     "text": [
      " 21%|██        | 159/773 [12:48<1:12:59,  7.13s/it]\n",
      "100%|██████████| 100/100 [00:00<00:00, 112357.46it/s]\n"
     ]
    },
    {
     "name": "stdout",
     "output_type": "stream",
     "text": [
      "133\n"
     ]
    },
    {
     "name": "stderr",
     "output_type": "stream",
     "text": [
      " 21%|██        | 160/773 [12:58<1:22:30,  8.08s/it]\n",
      "100%|██████████| 100/100 [00:00<00:00, 90336.08it/s]\n"
     ]
    },
    {
     "name": "stdout",
     "output_type": "stream",
     "text": [
      "134\n"
     ]
    },
    {
     "name": "stderr",
     "output_type": "stream",
     "text": [
      " 21%|██        | 161/773 [13:04<1:14:28,  7.30s/it]\n",
      "100%|██████████| 100/100 [00:00<00:00, 118216.01it/s]\n"
     ]
    },
    {
     "name": "stdout",
     "output_type": "stream",
     "text": [
      "135\n"
     ]
    },
    {
     "name": "stderr",
     "output_type": "stream",
     "text": [
      " 21%|██        | 162/773 [13:09<1:09:22,  6.81s/it]\n",
      "100%|██████████| 100/100 [00:00<00:00, 103003.54it/s]\n"
     ]
    },
    {
     "name": "stdout",
     "output_type": "stream",
     "text": [
      "136\n"
     ]
    },
    {
     "name": "stderr",
     "output_type": "stream",
     "text": [
      " 21%|██▏       | 166/773 [13:20<29:29,  2.92s/it]  \n",
      "100%|██████████| 100/100 [00:00<00:00, 79362.42it/s]\n"
     ]
    },
    {
     "name": "stdout",
     "output_type": "stream",
     "text": [
      "137\n"
     ]
    },
    {
     "name": "stderr",
     "output_type": "stream",
     "text": [
      " 22%|██▏       | 167/773 [13:25<36:01,  3.57s/it]\n",
      "100%|██████████| 100/100 [00:00<00:00, 95782.23it/s]\n"
     ]
    },
    {
     "name": "stdout",
     "output_type": "stream",
     "text": [
      "138\n"
     ]
    },
    {
     "name": "stderr",
     "output_type": "stream",
     "text": [
      " 22%|██▏       | 168/773 [13:34<52:05,  5.17s/it]\n",
      "100%|██████████| 100/100 [00:00<00:00, 57709.19it/s]\n"
     ]
    },
    {
     "name": "stdout",
     "output_type": "stream",
     "text": [
      "139\n"
     ]
    },
    {
     "name": "stderr",
     "output_type": "stream",
     "text": [
      " 22%|██▏       | 169/773 [13:44<1:06:48,  6.64s/it]\n",
      "100%|██████████| 100/100 [00:00<00:00, 55961.36it/s]\n"
     ]
    },
    {
     "name": "stdout",
     "output_type": "stream",
     "text": [
      "140\n"
     ]
    },
    {
     "name": "stderr",
     "output_type": "stream",
     "text": [
      " 22%|██▏       | 170/773 [13:47<54:52,  5.46s/it]  \n",
      "100%|██████████| 100/100 [00:00<00:00, 96821.42it/s]\n"
     ]
    },
    {
     "name": "stdout",
     "output_type": "stream",
     "text": [
      "141\n"
     ]
    },
    {
     "name": "stderr",
     "output_type": "stream",
     "text": [
      " 22%|██▏       | 171/773 [13:55<1:03:41,  6.35s/it]\n",
      "100%|██████████| 100/100 [00:00<00:00, 67119.60it/s]\n"
     ]
    },
    {
     "name": "stdout",
     "output_type": "stream",
     "text": [
      "142\n"
     ]
    },
    {
     "name": "stderr",
     "output_type": "stream",
     "text": [
      " 22%|██▏       | 172/773 [14:05<1:12:21,  7.22s/it]\n",
      "100%|██████████| 100/100 [00:00<00:00, 93539.34it/s]\n"
     ]
    },
    {
     "name": "stdout",
     "output_type": "stream",
     "text": [
      "143\n"
     ]
    },
    {
     "name": "stderr",
     "output_type": "stream",
     "text": [
      " 22%|██▏       | 173/773 [14:08<1:01:07,  6.11s/it]\n",
      "100%|██████████| 100/100 [00:00<00:00, 54029.42it/s]\n"
     ]
    },
    {
     "name": "stdout",
     "output_type": "stream",
     "text": [
      "144\n"
     ]
    },
    {
     "name": "stderr",
     "output_type": "stream",
     "text": [
      " 23%|██▎       | 174/773 [14:09<45:26,  4.55s/it]  \n",
      "100%|██████████| 100/100 [00:00<00:00, 96531.74it/s]\n"
     ]
    },
    {
     "name": "stdout",
     "output_type": "stream",
     "text": [
      "145\n"
     ]
    },
    {
     "name": "stderr",
     "output_type": "stream",
     "text": [
      " 23%|██▎       | 175/773 [14:12<38:58,  3.91s/it]\n",
      "100%|██████████| 100/100 [00:00<00:00, 99414.65it/s]\n"
     ]
    },
    {
     "name": "stdout",
     "output_type": "stream",
     "text": [
      "146\n"
     ]
    },
    {
     "name": "stderr",
     "output_type": "stream",
     "text": [
      " 23%|██▎       | 176/773 [14:16<39:51,  4.01s/it]\n",
      "100%|██████████| 100/100 [00:00<00:00, 41437.50it/s]\n"
     ]
    },
    {
     "name": "stdout",
     "output_type": "stream",
     "text": [
      "147\n"
     ]
    },
    {
     "name": "stderr",
     "output_type": "stream",
     "text": [
      " 23%|██▎       | 177/773 [14:22<45:38,  4.60s/it]\n",
      "100%|██████████| 100/100 [00:00<00:00, 64025.40it/s]\n"
     ]
    },
    {
     "name": "stdout",
     "output_type": "stream",
     "text": [
      "148\n"
     ]
    },
    {
     "name": "stderr",
     "output_type": "stream",
     "text": [
      " 23%|██▎       | 178/773 [14:23<34:24,  3.47s/it]\n",
      "100%|██████████| 100/100 [00:00<00:00, 88115.63it/s]\n"
     ]
    },
    {
     "name": "stdout",
     "output_type": "stream",
     "text": [
      "149\n"
     ]
    },
    {
     "name": "stderr",
     "output_type": "stream",
     "text": [
      " 23%|██▎       | 179/773 [14:29<44:12,  4.47s/it]\n",
      "100%|██████████| 100/100 [00:00<00:00, 105943.52it/s]\n"
     ]
    },
    {
     "name": "stdout",
     "output_type": "stream",
     "text": [
      "150\n"
     ]
    },
    {
     "name": "stderr",
     "output_type": "stream",
     "text": [
      " 23%|██▎       | 180/773 [14:34<44:52,  4.54s/it]\n",
      "100%|██████████| 100/100 [00:00<00:00, 89126.73it/s]\n"
     ]
    },
    {
     "name": "stdout",
     "output_type": "stream",
     "text": [
      "151\n"
     ]
    },
    {
     "name": "stderr",
     "output_type": "stream",
     "text": [
      " 23%|██▎       | 181/773 [14:36<36:35,  3.71s/it]\n",
      "100%|██████████| 100/100 [00:00<00:00, 92855.97it/s]\n"
     ]
    },
    {
     "name": "stdout",
     "output_type": "stream",
     "text": [
      "152\n"
     ]
    },
    {
     "name": "stderr",
     "output_type": "stream",
     "text": [
      " 24%|██▎       | 182/773 [14:41<40:13,  4.08s/it]\n",
      "100%|██████████| 100/100 [00:00<00:00, 95065.82it/s]\n",
      " 24%|██▎       | 183/773 [14:41<29:25,  2.99s/it]"
     ]
    },
    {
     "name": "stdout",
     "output_type": "stream",
     "text": [
      "153\n"
     ]
    },
    {
     "name": "stderr",
     "output_type": "stream",
     "text": [
      "\n",
      "100%|██████████| 100/100 [00:00<00:00, 79861.08it/s]\n"
     ]
    },
    {
     "name": "stdout",
     "output_type": "stream",
     "text": [
      "154\n"
     ]
    },
    {
     "name": "stderr",
     "output_type": "stream",
     "text": [
      " 24%|██▍       | 184/773 [14:46<34:12,  3.48s/it]\n",
      "100%|██████████| 100/100 [00:00<00:00, 58481.65it/s]\n"
     ]
    },
    {
     "name": "stdout",
     "output_type": "stream",
     "text": [
      "155\n"
     ]
    },
    {
     "name": "stderr",
     "output_type": "stream",
     "text": [
      " 24%|██▍       | 185/773 [14:48<29:43,  3.03s/it]\n",
      "100%|██████████| 100/100 [00:00<00:00, 91738.93it/s]\n"
     ]
    },
    {
     "name": "stdout",
     "output_type": "stream",
     "text": [
      "156\n"
     ]
    },
    {
     "name": "stderr",
     "output_type": "stream",
     "text": [
      " 24%|██▍       | 186/773 [14:55<41:14,  4.22s/it]\n",
      "100%|██████████| 100/100 [00:00<00:00, 29291.88it/s]\n"
     ]
    },
    {
     "name": "stdout",
     "output_type": "stream",
     "text": [
      "157\n"
     ]
    },
    {
     "name": "stderr",
     "output_type": "stream",
     "text": [
      " 24%|██▍       | 187/773 [14:58<37:10,  3.81s/it]\n",
      "100%|██████████| 100/100 [00:00<00:00, 77643.54it/s]\n"
     ]
    },
    {
     "name": "stdout",
     "output_type": "stream",
     "text": [
      "158\n"
     ]
    },
    {
     "name": "stderr",
     "output_type": "stream",
     "text": [
      " 24%|██▍       | 188/773 [15:06<50:54,  5.22s/it]\n",
      "100%|██████████| 100/100 [00:00<00:00, 44964.67it/s]\n"
     ]
    },
    {
     "name": "stdout",
     "output_type": "stream",
     "text": [
      "159\n"
     ]
    },
    {
     "name": "stderr",
     "output_type": "stream",
     "text": [
      " 24%|██▍       | 189/773 [15:10<46:54,  4.82s/it]\n",
      "100%|██████████| 100/100 [00:00<00:00, 51928.98it/s]\n"
     ]
    },
    {
     "name": "stdout",
     "output_type": "stream",
     "text": [
      "160\n"
     ]
    },
    {
     "name": "stderr",
     "output_type": "stream",
     "text": [
      " 25%|██▍       | 190/773 [15:19<58:10,  5.99s/it]\n",
      "100%|██████████| 100/100 [00:00<00:00, 51577.77it/s]\n"
     ]
    },
    {
     "name": "stdout",
     "output_type": "stream",
     "text": [
      "161\n"
     ]
    },
    {
     "name": "stderr",
     "output_type": "stream",
     "text": [
      " 25%|██▍       | 191/773 [15:23<54:02,  5.57s/it]\n",
      "100%|██████████| 100/100 [00:00<00:00, 91578.69it/s]\n"
     ]
    },
    {
     "name": "stdout",
     "output_type": "stream",
     "text": [
      "162\n"
     ]
    },
    {
     "name": "stderr",
     "output_type": "stream",
     "text": [
      " 25%|██▍       | 192/773 [15:27<47:02,  4.86s/it]\n",
      "100%|██████████| 100/100 [00:00<00:00, 126563.19it/s]\n"
     ]
    },
    {
     "name": "stdout",
     "output_type": "stream",
     "text": [
      "163\n"
     ]
    },
    {
     "name": "stderr",
     "output_type": "stream",
     "text": [
      " 25%|██▍       | 193/773 [15:27<34:59,  3.62s/it]\n",
      "100%|██████████| 100/100 [00:00<00:00, 100606.96it/s]\n"
     ]
    },
    {
     "name": "stdout",
     "output_type": "stream",
     "text": [
      "164\n"
     ]
    },
    {
     "name": "stderr",
     "output_type": "stream",
     "text": [
      " 25%|██▌       | 194/773 [15:35<45:29,  4.71s/it]\n",
      "100%|██████████| 100/100 [00:00<00:00, 44445.31it/s]\n"
     ]
    },
    {
     "name": "stdout",
     "output_type": "stream",
     "text": [
      "165\n"
     ]
    },
    {
     "name": "stderr",
     "output_type": "stream",
     "text": [
      " 25%|██▌       | 195/773 [15:43<55:30,  5.76s/it]\n",
      "100%|██████████| 100/100 [00:00<00:00, 45373.26it/s]\n"
     ]
    },
    {
     "name": "stdout",
     "output_type": "stream",
     "text": [
      "166\n"
     ]
    },
    {
     "name": "stderr",
     "output_type": "stream",
     "text": [
      " 25%|██▌       | 196/773 [15:51<1:02:37,  6.51s/it]\n",
      "100%|██████████| 100/100 [00:00<00:00, 47371.85it/s]\n"
     ]
    },
    {
     "name": "stdout",
     "output_type": "stream",
     "text": [
      "167\n"
     ]
    },
    {
     "name": "stderr",
     "output_type": "stream",
     "text": [
      " 25%|██▌       | 197/773 [16:01<1:11:59,  7.50s/it]\n",
      "100%|██████████| 100/100 [00:00<00:00, 48528.34it/s]\n"
     ]
    },
    {
     "name": "stdout",
     "output_type": "stream",
     "text": [
      "168\n"
     ]
    },
    {
     "name": "stderr",
     "output_type": "stream",
     "text": [
      " 26%|██▌       | 198/773 [16:06<1:03:48,  6.66s/it]\n",
      "100%|██████████| 100/100 [00:00<00:00, 112357.46it/s]\n"
     ]
    },
    {
     "name": "stdout",
     "output_type": "stream",
     "text": [
      "169\n"
     ]
    },
    {
     "name": "stderr",
     "output_type": "stream",
     "text": [
      " 26%|██▌       | 199/773 [16:16<1:13:32,  7.69s/it]\n",
      "100%|██████████| 100/100 [00:00<00:00, 116443.75it/s]\n"
     ]
    },
    {
     "name": "stdout",
     "output_type": "stream",
     "text": [
      "170\n"
     ]
    },
    {
     "name": "stderr",
     "output_type": "stream",
     "text": [
      " 26%|██▌       | 200/773 [16:25<1:18:58,  8.27s/it]\n",
      "100%|██████████| 100/100 [00:00<00:00, 78795.87it/s]\n"
     ]
    },
    {
     "name": "stdout",
     "output_type": "stream",
     "text": [
      "171\n"
     ]
    },
    {
     "name": "stderr",
     "output_type": "stream",
     "text": [
      " 26%|██▌       | 201/773 [16:27<1:00:55,  6.39s/it]\n",
      "100%|██████████| 100/100 [00:00<00:00, 86964.63it/s]\n"
     ]
    },
    {
     "name": "stdout",
     "output_type": "stream",
     "text": [
      "172\n"
     ]
    },
    {
     "name": "stderr",
     "output_type": "stream",
     "text": [
      " 26%|██▌       | 202/773 [16:28<45:17,  4.76s/it]  \n",
      "100%|██████████| 100/100 [00:00<00:00, 110000.10it/s]\n"
     ]
    },
    {
     "name": "stdout",
     "output_type": "stream",
     "text": [
      "173\n"
     ]
    },
    {
     "name": "stderr",
     "output_type": "stream",
     "text": [
      " 26%|██▋       | 203/773 [16:31<38:43,  4.08s/it]\n",
      "100%|██████████| 100/100 [00:00<00:00, 112327.37it/s]\n"
     ]
    },
    {
     "name": "stdout",
     "output_type": "stream",
     "text": [
      "174\n"
     ]
    },
    {
     "name": "stderr",
     "output_type": "stream",
     "text": [
      " 26%|██▋       | 204/773 [16:32<31:55,  3.37s/it]\n",
      "100%|██████████| 100/100 [00:00<00:00, 113390.21it/s]\n"
     ]
    },
    {
     "name": "stdout",
     "output_type": "stream",
     "text": [
      "175\n"
     ]
    },
    {
     "name": "stderr",
     "output_type": "stream",
     "text": [
      " 27%|██▋       | 205/773 [16:33<24:09,  2.55s/it]\n",
      "100%|██████████| 100/100 [00:00<00:00, 96155.52it/s]\n"
     ]
    },
    {
     "name": "stdout",
     "output_type": "stream",
     "text": [
      "176\n"
     ]
    },
    {
     "name": "stderr",
     "output_type": "stream",
     "text": [
      " 27%|██▋       | 206/773 [16:37<26:36,  2.82s/it]\n",
      "100%|██████████| 100/100 [00:00<00:00, 50938.84it/s]\n"
     ]
    },
    {
     "name": "stdout",
     "output_type": "stream",
     "text": [
      "177\n"
     ]
    },
    {
     "name": "stderr",
     "output_type": "stream",
     "text": [
      " 27%|██▋       | 207/773 [16:41<30:01,  3.18s/it]\n",
      "100%|██████████| 100/100 [00:00<00:00, 99911.96it/s]\n"
     ]
    },
    {
     "name": "stdout",
     "output_type": "stream",
     "text": [
      "178\n"
     ]
    },
    {
     "name": "stderr",
     "output_type": "stream",
     "text": [
      " 27%|██▋       | 208/773 [16:42<25:51,  2.75s/it]\n",
      "100%|██████████| 100/100 [00:00<00:00, 84239.89it/s]\n"
     ]
    },
    {
     "name": "stdout",
     "output_type": "stream",
     "text": [
      "179\n"
     ]
    },
    {
     "name": "stderr",
     "output_type": "stream",
     "text": [
      " 27%|██▋       | 209/773 [16:45<26:33,  2.82s/it]\n",
      "100%|██████████| 100/100 [00:00<00:00, 92671.32it/s]\n"
     ]
    },
    {
     "name": "stdout",
     "output_type": "stream",
     "text": [
      "180\n"
     ]
    },
    {
     "name": "stderr",
     "output_type": "stream",
     "text": [
      " 27%|██▋       | 210/773 [16:55<45:19,  4.83s/it]\n",
      "100%|██████████| 100/100 [00:00<00:00, 52057.89it/s]\n"
     ]
    },
    {
     "name": "stdout",
     "output_type": "stream",
     "text": [
      "181\n"
     ]
    },
    {
     "name": "stderr",
     "output_type": "stream",
     "text": [
      " 27%|██▋       | 211/773 [16:57<37:39,  4.02s/it]\n",
      "100%|██████████| 100/100 [00:00<00:00, 99508.99it/s]\n"
     ]
    },
    {
     "name": "stdout",
     "output_type": "stream",
     "text": [
      "182\n"
     ]
    },
    {
     "name": "stderr",
     "output_type": "stream",
     "text": [
      " 27%|██▋       | 212/773 [17:01<37:38,  4.03s/it]\n",
      "100%|██████████| 100/100 [00:00<00:00, 99911.96it/s]\n"
     ]
    },
    {
     "name": "stdout",
     "output_type": "stream",
     "text": [
      "183\n"
     ]
    },
    {
     "name": "stderr",
     "output_type": "stream",
     "text": [
      " 28%|██▊       | 213/773 [17:02<30:09,  3.23s/it]\n",
      "100%|██████████| 100/100 [00:00<00:00, 51520.75it/s]\n"
     ]
    },
    {
     "name": "stdout",
     "output_type": "stream",
     "text": [
      "184\n"
     ]
    },
    {
     "name": "stderr",
     "output_type": "stream",
     "text": [
      " 28%|██▊       | 214/773 [17:09<38:29,  4.13s/it]\n",
      "100%|██████████| 100/100 [00:00<00:00, 67065.94it/s]\n"
     ]
    },
    {
     "name": "stdout",
     "output_type": "stream",
     "text": [
      "185\n"
     ]
    },
    {
     "name": "stderr",
     "output_type": "stream",
     "text": [
      " 28%|██▊       | 215/773 [17:14<41:25,  4.45s/it]\n",
      "100%|██████████| 100/100 [00:00<00:00, 90844.79it/s]\n"
     ]
    },
    {
     "name": "stdout",
     "output_type": "stream",
     "text": [
      "186\n"
     ]
    },
    {
     "name": "stderr",
     "output_type": "stream",
     "text": [
      " 28%|██▊       | 216/773 [17:19<42:41,  4.60s/it]\n",
      "100%|██████████| 100/100 [00:00<00:00, 95044.28it/s]\n"
     ]
    },
    {
     "name": "stdout",
     "output_type": "stream",
     "text": [
      "187\n"
     ]
    },
    {
     "name": "stderr",
     "output_type": "stream",
     "text": [
      " 28%|██▊       | 217/773 [17:25<48:02,  5.18s/it]\n",
      "100%|██████████| 100/100 [00:00<00:00, 76176.97it/s]\n"
     ]
    },
    {
     "name": "stdout",
     "output_type": "stream",
     "text": [
      "188\n"
     ]
    },
    {
     "name": "stderr",
     "output_type": "stream",
     "text": [
      " 28%|██▊       | 218/773 [17:30<47:56,  5.18s/it]\n",
      "100%|██████████| 100/100 [00:00<00:00, 77385.68it/s]\n"
     ]
    },
    {
     "name": "stdout",
     "output_type": "stream",
     "text": [
      "189\n"
     ]
    },
    {
     "name": "stderr",
     "output_type": "stream",
     "text": [
      " 28%|██▊       | 219/773 [17:38<54:31,  5.91s/it]\n",
      "100%|██████████| 100/100 [00:00<00:00, 58205.72it/s]\n"
     ]
    },
    {
     "name": "stdout",
     "output_type": "stream",
     "text": [
      "190\n"
     ]
    },
    {
     "name": "stderr",
     "output_type": "stream",
     "text": [
      " 28%|██▊       | 220/773 [17:43<52:53,  5.74s/it]\n",
      "100%|██████████| 100/100 [00:00<00:00, 46989.74it/s]\n"
     ]
    },
    {
     "name": "stdout",
     "output_type": "stream",
     "text": [
      "191\n"
     ]
    },
    {
     "name": "stderr",
     "output_type": "stream",
     "text": [
      " 29%|██▉       | 224/773 [17:52<21:41,  2.37s/it]\n",
      "100%|██████████| 100/100 [00:00<00:00, 119598.06it/s]\n"
     ]
    },
    {
     "name": "stdout",
     "output_type": "stream",
     "text": [
      "192\n"
     ]
    },
    {
     "name": "stderr",
     "output_type": "stream",
     "text": [
      " 29%|██▉       | 225/773 [18:00<38:47,  4.25s/it]\n",
      "100%|██████████| 100/100 [00:00<00:00, 81506.10it/s]\n"
     ]
    },
    {
     "name": "stdout",
     "output_type": "stream",
     "text": [
      "193\n"
     ]
    },
    {
     "name": "stderr",
     "output_type": "stream",
     "text": [
      " 29%|██▉       | 226/773 [18:08<47:37,  5.22s/it]\n",
      "100%|██████████| 100/100 [00:00<00:00, 117093.91it/s]\n"
     ]
    },
    {
     "name": "stdout",
     "output_type": "stream",
     "text": [
      "194\n"
     ]
    },
    {
     "name": "stderr",
     "output_type": "stream",
     "text": [
      " 29%|██▉       | 227/773 [18:13<47:17,  5.20s/it]\n",
      "100%|██████████| 100/100 [00:00<00:00, 90006.52it/s]\n"
     ]
    },
    {
     "name": "stdout",
     "output_type": "stream",
     "text": [
      "195\n"
     ]
    },
    {
     "name": "stderr",
     "output_type": "stream",
     "text": [
      " 29%|██▉       | 228/773 [18:15<38:29,  4.24s/it]\n",
      "100%|██████████| 100/100 [00:00<00:00, 95065.82it/s]\n"
     ]
    },
    {
     "name": "stdout",
     "output_type": "stream",
     "text": [
      "196\n"
     ]
    },
    {
     "name": "stderr",
     "output_type": "stream",
     "text": [
      " 30%|██▉       | 229/773 [18:17<32:42,  3.61s/it]\n",
      "100%|██████████| 100/100 [00:00<00:00, 77228.94it/s]\n"
     ]
    },
    {
     "name": "stdout",
     "output_type": "stream",
     "text": [
      "197\n"
     ]
    },
    {
     "name": "stderr",
     "output_type": "stream",
     "text": [
      " 30%|██▉       | 230/773 [18:26<47:19,  5.23s/it]\n",
      "100%|██████████| 100/100 [00:00<00:00, 99603.51it/s]\n"
     ]
    },
    {
     "name": "stdout",
     "output_type": "stream",
     "text": [
      "198\n"
     ]
    },
    {
     "name": "stderr",
     "output_type": "stream",
     "text": [
      " 30%|██▉       | 231/773 [18:28<37:04,  4.10s/it]\n",
      "100%|██████████| 100/100 [00:00<00:00, 87490.70it/s]\n"
     ]
    },
    {
     "name": "stdout",
     "output_type": "stream",
     "text": [
      "199\n"
     ]
    },
    {
     "name": "stderr",
     "output_type": "stream",
     "text": [
      " 30%|███       | 232/773 [18:29<29:41,  3.29s/it]\n",
      "100%|██████████| 100/100 [00:00<00:00, 86213.85it/s]\n"
     ]
    },
    {
     "name": "stdout",
     "output_type": "stream",
     "text": [
      "200\n"
     ]
    },
    {
     "name": "stderr",
     "output_type": "stream",
     "text": [
      " 30%|███       | 233/773 [18:33<32:43,  3.64s/it]\n",
      "100%|██████████| 100/100 [00:00<00:00, 76218.50it/s]\n"
     ]
    },
    {
     "name": "stdout",
     "output_type": "stream",
     "text": [
      "201\n"
     ]
    },
    {
     "name": "stderr",
     "output_type": "stream",
     "text": [
      " 30%|███       | 234/773 [18:35<25:59,  2.89s/it]\n",
      "100%|██████████| 100/100 [00:00<00:00, 94936.71it/s]\n"
     ]
    },
    {
     "name": "stdout",
     "output_type": "stream",
     "text": [
      "202\n"
     ]
    },
    {
     "name": "stderr",
     "output_type": "stream",
     "text": [
      " 30%|███       | 235/773 [18:45<45:58,  5.13s/it]\n",
      "100%|██████████| 100/100 [00:00<00:00, 90083.85it/s]\n"
     ]
    },
    {
     "name": "stdout",
     "output_type": "stream",
     "text": [
      "203\n"
     ]
    },
    {
     "name": "stderr",
     "output_type": "stream",
     "text": [
      " 31%|███       | 236/773 [18:55<57:58,  6.48s/it]\n",
      "100%|██████████| 100/100 [00:00<00:00, 72415.47it/s]\n"
     ]
    },
    {
     "name": "stdout",
     "output_type": "stream",
     "text": [
      "204\n"
     ]
    },
    {
     "name": "stderr",
     "output_type": "stream",
     "text": [
      " 31%|███       | 237/773 [19:01<58:13,  6.52s/it]\n",
      "100%|██████████| 100/100 [00:00<00:00, 114818.07it/s]\n"
     ]
    },
    {
     "name": "stdout",
     "output_type": "stream",
     "text": [
      "205\n"
     ]
    },
    {
     "name": "stderr",
     "output_type": "stream",
     "text": [
      " 31%|███       | 238/773 [19:10<1:04:17,  7.21s/it]\n",
      "100%|██████████| 100/100 [00:00<00:00, 72944.42it/s]\n"
     ]
    },
    {
     "name": "stdout",
     "output_type": "stream",
     "text": [
      "206\n"
     ]
    },
    {
     "name": "stderr",
     "output_type": "stream",
     "text": [
      " 31%|███       | 239/773 [19:11<46:41,  5.25s/it]  \n",
      "100%|██████████| 100/100 [00:00<00:00, 99983.41it/s]\n"
     ]
    },
    {
     "name": "stdout",
     "output_type": "stream",
     "text": [
      "207\n"
     ]
    },
    {
     "name": "stderr",
     "output_type": "stream",
     "text": [
      " 31%|███▏      | 242/773 [19:19<27:42,  3.13s/it]\n",
      "100%|██████████| 100/100 [00:00<00:00, 99015.68it/s]\n"
     ]
    },
    {
     "name": "stdout",
     "output_type": "stream",
     "text": [
      "208\n"
     ]
    },
    {
     "name": "stderr",
     "output_type": "stream",
     "text": [
      " 31%|███▏      | 243/773 [19:29<46:03,  5.21s/it]\n",
      "100%|██████████| 100/100 [00:00<00:00, 87967.79it/s]\n"
     ]
    },
    {
     "name": "stdout",
     "output_type": "stream",
     "text": [
      "209\n"
     ]
    },
    {
     "name": "stderr",
     "output_type": "stream",
     "text": [
      " 32%|███▏      | 244/773 [19:39<59:04,  6.70s/it]\n",
      "100%|██████████| 100/100 [00:00<00:00, 106373.42it/s]\n"
     ]
    },
    {
     "name": "stdout",
     "output_type": "stream",
     "text": [
      "210\n"
     ]
    },
    {
     "name": "stderr",
     "output_type": "stream",
     "text": [
      " 32%|███▏      | 245/773 [19:48<1:03:17,  7.19s/it]\n",
      "100%|██████████| 100/100 [00:00<00:00, 102150.61it/s]\n"
     ]
    },
    {
     "name": "stdout",
     "output_type": "stream",
     "text": [
      "211\n"
     ]
    },
    {
     "name": "stderr",
     "output_type": "stream",
     "text": [
      " 32%|███▏      | 246/773 [19:57<1:07:47,  7.72s/it]\n",
      "100%|██████████| 100/100 [00:00<00:00, 63976.57it/s]\n"
     ]
    },
    {
     "name": "stdout",
     "output_type": "stream",
     "text": [
      "212\n"
     ]
    },
    {
     "name": "stderr",
     "output_type": "stream",
     "text": [
      " 32%|███▏      | 247/773 [20:02<1:00:22,  6.89s/it]\n",
      "100%|██████████| 100/100 [00:00<00:00, 93455.97it/s]\n"
     ]
    },
    {
     "name": "stdout",
     "output_type": "stream",
     "text": [
      "213\n"
     ]
    },
    {
     "name": "stderr",
     "output_type": "stream",
     "text": [
      " 32%|███▏      | 248/773 [20:09<1:00:55,  6.96s/it]\n",
      "100%|██████████| 100/100 [00:00<00:00, 89602.73it/s]\n"
     ]
    },
    {
     "name": "stdout",
     "output_type": "stream",
     "text": [
      "214\n"
     ]
    },
    {
     "name": "stderr",
     "output_type": "stream",
     "text": [
      " 32%|███▏      | 249/773 [20:11<47:56,  5.49s/it]  \n",
      "100%|██████████| 100/100 [00:00<00:00, 89910.05it/s]\n"
     ]
    },
    {
     "name": "stdout",
     "output_type": "stream",
     "text": [
      "215\n"
     ]
    },
    {
     "name": "stderr",
     "output_type": "stream",
     "text": [
      " 32%|███▏      | 250/773 [20:17<50:49,  5.83s/it]\n",
      "100%|██████████| 100/100 [00:00<00:00, 82160.71it/s]\n"
     ]
    },
    {
     "name": "stdout",
     "output_type": "stream",
     "text": [
      "216\n"
     ]
    },
    {
     "name": "stderr",
     "output_type": "stream",
     "text": [
      " 32%|███▏      | 251/773 [20:19<40:26,  4.65s/it]\n",
      "100%|██████████| 100/100 [00:00<00:00, 70575.53it/s]\n"
     ]
    },
    {
     "name": "stdout",
     "output_type": "stream",
     "text": [
      "217\n"
     ]
    },
    {
     "name": "stderr",
     "output_type": "stream",
     "text": [
      " 33%|███▎      | 252/773 [20:28<51:08,  5.89s/it]\n",
      "100%|██████████| 100/100 [00:00<00:00, 96709.80it/s]\n"
     ]
    },
    {
     "name": "stdout",
     "output_type": "stream",
     "text": [
      "218\n"
     ]
    },
    {
     "name": "stderr",
     "output_type": "stream",
     "text": [
      " 33%|███▎      | 253/773 [20:29<38:18,  4.42s/it]\n",
      "100%|██████████| 100/100 [00:00<00:00, 93895.32it/s]\n"
     ]
    },
    {
     "name": "stdout",
     "output_type": "stream",
     "text": [
      "219\n"
     ]
    },
    {
     "name": "stderr",
     "output_type": "stream",
     "text": [
      " 33%|███▎      | 254/773 [20:38<48:51,  5.65s/it]\n",
      "100%|██████████| 100/100 [00:00<00:00, 120318.53it/s]\n"
     ]
    },
    {
     "name": "stdout",
     "output_type": "stream",
     "text": [
      "220\n"
     ]
    },
    {
     "name": "stderr",
     "output_type": "stream",
     "text": [
      " 33%|███▎      | 255/773 [20:40<39:35,  4.59s/it]\n",
      "100%|██████████| 100/100 [00:00<00:00, 87930.90it/s]\n"
     ]
    },
    {
     "name": "stdout",
     "output_type": "stream",
     "text": [
      "221\n"
     ]
    },
    {
     "name": "stderr",
     "output_type": "stream",
     "text": [
      " 33%|███▎      | 256/773 [20:49<52:53,  6.14s/it]\n",
      "100%|██████████| 100/100 [00:00<00:00, 71992.86it/s]\n"
     ]
    },
    {
     "name": "stdout",
     "output_type": "stream",
     "text": [
      "222\n"
     ]
    },
    {
     "name": "stderr",
     "output_type": "stream",
     "text": [
      " 33%|███▎      | 257/773 [20:56<54:46,  6.37s/it]\n",
      "100%|██████████| 100/100 [00:00<00:00, 101507.84it/s]\n"
     ]
    },
    {
     "name": "stdout",
     "output_type": "stream",
     "text": [
      "223\n"
     ]
    },
    {
     "name": "stderr",
     "output_type": "stream",
     "text": [
      " 33%|███▎      | 258/773 [21:05<1:01:17,  7.14s/it]\n",
      "100%|██████████| 100/100 [00:00<00:00, 86338.08it/s]\n"
     ]
    },
    {
     "name": "stdout",
     "output_type": "stream",
     "text": [
      "224\n"
     ]
    },
    {
     "name": "stderr",
     "output_type": "stream",
     "text": [
      " 34%|███▎      | 259/773 [21:15<1:08:56,  8.05s/it]\n",
      "100%|██████████| 100/100 [00:00<00:00, 79998.17it/s]\n"
     ]
    },
    {
     "name": "stdout",
     "output_type": "stream",
     "text": [
      "225\n"
     ]
    },
    {
     "name": "stderr",
     "output_type": "stream",
     "text": [
      " 34%|███▎      | 260/773 [21:24<1:11:04,  8.31s/it]\n",
      "100%|██████████| 100/100 [00:00<00:00, 115101.65it/s]\n"
     ]
    },
    {
     "name": "stdout",
     "output_type": "stream",
     "text": [
      "226\n"
     ]
    },
    {
     "name": "stderr",
     "output_type": "stream",
     "text": [
      " 34%|███▍      | 261/773 [21:29<1:01:23,  7.19s/it]\n",
      "100%|██████████| 100/100 [00:00<00:00, 92773.81it/s]\n"
     ]
    },
    {
     "name": "stdout",
     "output_type": "stream",
     "text": [
      "227\n"
     ]
    },
    {
     "name": "stderr",
     "output_type": "stream",
     "text": [
      " 34%|███▍      | 262/773 [21:37<1:04:18,  7.55s/it]\n",
      "100%|██████████| 100/100 [00:00<00:00, 91919.88it/s]\n"
     ]
    },
    {
     "name": "stdout",
     "output_type": "stream",
     "text": [
      "228\n"
     ]
    },
    {
     "name": "stderr",
     "output_type": "stream",
     "text": [
      " 34%|███▍      | 263/773 [21:39<49:49,  5.86s/it]  \n",
      "100%|██████████| 100/100 [00:00<00:00, 93020.71it/s]\n"
     ]
    },
    {
     "name": "stdout",
     "output_type": "stream",
     "text": [
      "229\n"
     ]
    },
    {
     "name": "stderr",
     "output_type": "stream",
     "text": [
      " 34%|███▍      | 264/773 [21:48<57:59,  6.84s/it]\n",
      "100%|██████████| 100/100 [00:00<00:00, 61464.01it/s]\n"
     ]
    },
    {
     "name": "stdout",
     "output_type": "stream",
     "text": [
      "230\n"
     ]
    },
    {
     "name": "stderr",
     "output_type": "stream",
     "text": [
      " 34%|███▍      | 265/773 [21:56<59:51,  7.07s/it]\n",
      "100%|██████████| 100/100 [00:00<00:00, 93310.43it/s]\n"
     ]
    },
    {
     "name": "stdout",
     "output_type": "stream",
     "text": [
      "231\n"
     ]
    },
    {
     "name": "stderr",
     "output_type": "stream",
     "text": [
      " 34%|███▍      | 266/773 [21:58<46:37,  5.52s/it]\n",
      "100%|██████████| 100/100 [00:00<00:00, 77399.96it/s]\n"
     ]
    },
    {
     "name": "stdout",
     "output_type": "stream",
     "text": [
      "232\n"
     ]
    },
    {
     "name": "stderr",
     "output_type": "stream",
     "text": [
      " 35%|███▍      | 270/773 [22:01<15:07,  1.80s/it]\n",
      "100%|██████████| 100/100 [00:00<00:00, 52851.61it/s]\n"
     ]
    },
    {
     "name": "stdout",
     "output_type": "stream",
     "text": [
      "233\n"
     ]
    },
    {
     "name": "stderr",
     "output_type": "stream",
     "text": [
      " 35%|███▌      | 271/773 [22:03<15:00,  1.79s/it]\n",
      "100%|██████████| 100/100 [00:00<00:00, 96133.49it/s]\n"
     ]
    },
    {
     "name": "stdout",
     "output_type": "stream",
     "text": [
      "234\n"
     ]
    },
    {
     "name": "stderr",
     "output_type": "stream",
     "text": [
      " 35%|███▌      | 272/773 [22:05<14:53,  1.78s/it]\n",
      "100%|██████████| 100/100 [00:00<00:00, 84460.41it/s]\n"
     ]
    },
    {
     "name": "stdout",
     "output_type": "stream",
     "text": [
      "235\n"
     ]
    },
    {
     "name": "stderr",
     "output_type": "stream",
     "text": [
      " 35%|███▌      | 273/773 [22:09<21:54,  2.63s/it]\n",
      "100%|██████████| 100/100 [00:00<00:00, 106970.26it/s]\n"
     ]
    },
    {
     "name": "stdout",
     "output_type": "stream",
     "text": [
      "236\n"
     ]
    },
    {
     "name": "stderr",
     "output_type": "stream",
     "text": [
      " 35%|███▌      | 274/773 [22:11<20:29,  2.46s/it]\n",
      "100%|██████████| 100/100 [00:00<00:00, 94979.71it/s]\n"
     ]
    },
    {
     "name": "stdout",
     "output_type": "stream",
     "text": [
      "237\n"
     ]
    },
    {
     "name": "stderr",
     "output_type": "stream",
     "text": [
      " 36%|███▌      | 275/773 [22:13<19:39,  2.37s/it]\n",
      "100%|██████████| 100/100 [00:00<00:00, 94360.04it/s]\n"
     ]
    },
    {
     "name": "stdout",
     "output_type": "stream",
     "text": [
      "238\n"
     ]
    },
    {
     "name": "stderr",
     "output_type": "stream",
     "text": [
      " 36%|███▌      | 276/773 [22:18<24:46,  2.99s/it]\n",
      "100%|██████████| 100/100 [00:00<00:00, 77758.69it/s]\n"
     ]
    },
    {
     "name": "stdout",
     "output_type": "stream",
     "text": [
      "239\n"
     ]
    },
    {
     "name": "stderr",
     "output_type": "stream",
     "text": [
      " 36%|███▌      | 277/773 [22:23<29:21,  3.55s/it]\n",
      "100%|██████████| 100/100 [00:00<00:00, 71881.82it/s]\n"
     ]
    },
    {
     "name": "stdout",
     "output_type": "stream",
     "text": [
      "240\n"
     ]
    },
    {
     "name": "stderr",
     "output_type": "stream",
     "text": [
      " 36%|███▌      | 278/773 [22:32<42:40,  5.17s/it]\n",
      "100%|██████████| 100/100 [00:00<00:00, 85685.47it/s]\n"
     ]
    },
    {
     "name": "stdout",
     "output_type": "stream",
     "text": [
      "241\n"
     ]
    },
    {
     "name": "stderr",
     "output_type": "stream",
     "text": [
      " 36%|███▌      | 279/773 [22:33<32:16,  3.92s/it]\n",
      "100%|██████████| 100/100 [00:00<00:00, 89354.58it/s]\n"
     ]
    },
    {
     "name": "stdout",
     "output_type": "stream",
     "text": [
      "242\n"
     ]
    },
    {
     "name": "stderr",
     "output_type": "stream",
     "text": [
      " 36%|███▌      | 280/773 [22:37<32:38,  3.97s/it]\n",
      "100%|██████████| 100/100 [00:00<00:00, 115070.07it/s]\n"
     ]
    },
    {
     "name": "stdout",
     "output_type": "stream",
     "text": [
      "243\n"
     ]
    },
    {
     "name": "stderr",
     "output_type": "stream",
     "text": [
      " 36%|███▋      | 281/773 [22:47<47:21,  5.78s/it]\n",
      "100%|██████████| 100/100 [00:00<00:00, 80908.64it/s]\n"
     ]
    },
    {
     "name": "stdout",
     "output_type": "stream",
     "text": [
      "244\n"
     ]
    },
    {
     "name": "stderr",
     "output_type": "stream",
     "text": [
      " 36%|███▋      | 282/773 [22:51<43:08,  5.27s/it]\n",
      "100%|██████████| 100/100 [00:00<00:00, 127215.77it/s]\n"
     ]
    },
    {
     "name": "stdout",
     "output_type": "stream",
     "text": [
      "245\n"
     ]
    },
    {
     "name": "stderr",
     "output_type": "stream",
     "text": [
      " 37%|███▋      | 283/773 [22:54<37:46,  4.63s/it]\n",
      "100%|██████████| 100/100 [00:00<00:00, 107271.20it/s]\n"
     ]
    },
    {
     "name": "stdout",
     "output_type": "stream",
     "text": [
      "246\n"
     ]
    },
    {
     "name": "stderr",
     "output_type": "stream",
     "text": [
      " 37%|███▋      | 284/773 [22:59<38:20,  4.70s/it]\n",
      "100%|██████████| 100/100 [00:00<00:00, 64706.94it/s]\n"
     ]
    },
    {
     "name": "stdout",
     "output_type": "stream",
     "text": [
      "247\n"
     ]
    },
    {
     "name": "stderr",
     "output_type": "stream",
     "text": [
      " 37%|███▋      | 285/773 [23:03<36:34,  4.50s/it]\n",
      "100%|██████████| 100/100 [00:00<00:00, 87563.76it/s]\n"
     ]
    },
    {
     "name": "stdout",
     "output_type": "stream",
     "text": [
      "248\n"
     ]
    },
    {
     "name": "stderr",
     "output_type": "stream",
     "text": [
      " 37%|███▋      | 286/773 [23:11<44:49,  5.52s/it]\n",
      "100%|██████████| 100/100 [00:00<00:00, 92426.27it/s]\n"
     ]
    },
    {
     "name": "stdout",
     "output_type": "stream",
     "text": [
      "249\n"
     ]
    },
    {
     "name": "stderr",
     "output_type": "stream",
     "text": [
      " 37%|███▋      | 287/773 [23:14<38:30,  4.75s/it]\n",
      "100%|██████████| 100/100 [00:00<00:00, 100390.23it/s]\n"
     ]
    },
    {
     "name": "stdout",
     "output_type": "stream",
     "text": [
      "250\n"
     ]
    },
    {
     "name": "stderr",
     "output_type": "stream",
     "text": [
      " 37%|███▋      | 288/773 [23:21<44:42,  5.53s/it]\n",
      "100%|██████████| 100/100 [00:00<00:00, 104596.11it/s]\n"
     ]
    },
    {
     "name": "stdout",
     "output_type": "stream",
     "text": [
      "251\n"
     ]
    },
    {
     "name": "stderr",
     "output_type": "stream",
     "text": [
      " 37%|███▋      | 289/773 [23:29<50:23,  6.25s/it]\n",
      "100%|██████████| 100/100 [00:00<00:00, 50969.79it/s]\n"
     ]
    },
    {
     "name": "stdout",
     "output_type": "stream",
     "text": [
      "252\n"
     ]
    },
    {
     "name": "stderr",
     "output_type": "stream",
     "text": [
      " 38%|███▊      | 290/773 [23:38<57:56,  7.20s/it]\n",
      "100%|██████████| 100/100 [00:00<00:00, 68725.28it/s]\n"
     ]
    },
    {
     "name": "stdout",
     "output_type": "stream",
     "text": [
      "253\n"
     ]
    },
    {
     "name": "stderr",
     "output_type": "stream",
     "text": [
      " 38%|███▊      | 291/773 [23:40<45:28,  5.66s/it]\n",
      "100%|██████████| 100/100 [00:00<00:00, 73365.47it/s]\n"
     ]
    },
    {
     "name": "stdout",
     "output_type": "stream",
     "text": [
      "254\n"
     ]
    },
    {
     "name": "stderr",
     "output_type": "stream",
     "text": [
      " 38%|███▊      | 292/773 [23:45<42:25,  5.29s/it]\n",
      "100%|██████████| 100/100 [00:00<00:00, 79167.69it/s]\n"
     ]
    },
    {
     "name": "stdout",
     "output_type": "stream",
     "text": [
      "255\n"
     ]
    },
    {
     "name": "stderr",
     "output_type": "stream",
     "text": [
      " 38%|███▊      | 293/773 [23:54<52:01,  6.50s/it]\n",
      "100%|██████████| 100/100 [00:00<00:00, 74301.22it/s]\n"
     ]
    },
    {
     "name": "stdout",
     "output_type": "stream",
     "text": [
      "256\n"
     ]
    },
    {
     "name": "stderr",
     "output_type": "stream",
     "text": [
      " 38%|███▊      | 294/773 [24:03<56:49,  7.12s/it]\n",
      "100%|██████████| 100/100 [00:00<00:00, 94148.24it/s]\n"
     ]
    },
    {
     "name": "stdout",
     "output_type": "stream",
     "text": [
      "257\n"
     ]
    },
    {
     "name": "stderr",
     "output_type": "stream",
     "text": [
      " 38%|███▊      | 295/773 [24:04<42:47,  5.37s/it]\n",
      "100%|██████████| 100/100 [00:00<00:00, 81776.25it/s]\n"
     ]
    },
    {
     "name": "stdout",
     "output_type": "stream",
     "text": [
      "258\n"
     ]
    },
    {
     "name": "stderr",
     "output_type": "stream",
     "text": [
      " 38%|███▊      | 296/773 [24:13<50:50,  6.40s/it]\n",
      "100%|██████████| 100/100 [00:00<00:00, 72729.39it/s]\n"
     ]
    },
    {
     "name": "stdout",
     "output_type": "stream",
     "text": [
      "259\n"
     ]
    },
    {
     "name": "stderr",
     "output_type": "stream",
     "text": [
      " 38%|███▊      | 297/773 [24:19<48:55,  6.17s/it]\n",
      "100%|██████████| 100/100 [00:00<00:00, 85042.66it/s]\n"
     ]
    },
    {
     "name": "stdout",
     "output_type": "stream",
     "text": [
      "260\n"
     ]
    },
    {
     "name": "stderr",
     "output_type": "stream",
     "text": [
      " 39%|███▊      | 298/773 [24:21<39:11,  4.95s/it]\n",
      "100%|██████████| 100/100 [00:00<00:00, 78618.63it/s]\n"
     ]
    },
    {
     "name": "stdout",
     "output_type": "stream",
     "text": [
      "261\n"
     ]
    },
    {
     "name": "stderr",
     "output_type": "stream",
     "text": [
      " 39%|███▊      | 299/773 [24:28<43:58,  5.57s/it]\n",
      "100%|██████████| 100/100 [00:00<00:00, 90006.52it/s]\n"
     ]
    },
    {
     "name": "stdout",
     "output_type": "stream",
     "text": [
      "262\n"
     ]
    },
    {
     "name": "stderr",
     "output_type": "stream",
     "text": [
      " 39%|███▉      | 300/773 [24:30<35:32,  4.51s/it]\n",
      "100%|██████████| 100/100 [00:00<00:00, 95520.47it/s]\n"
     ]
    },
    {
     "name": "stdout",
     "output_type": "stream",
     "text": [
      "263\n"
     ]
    },
    {
     "name": "stderr",
     "output_type": "stream",
     "text": [
      " 39%|███▉      | 301/773 [24:32<29:14,  3.72s/it]\n",
      "100%|██████████| 100/100 [00:00<00:00, 98411.64it/s]\n"
     ]
    },
    {
     "name": "stdout",
     "output_type": "stream",
     "text": [
      "264\n"
     ]
    },
    {
     "name": "stderr",
     "output_type": "stream",
     "text": [
      " 39%|███▉      | 302/773 [24:41<42:52,  5.46s/it]\n",
      "100%|██████████| 100/100 [00:00<00:00, 95694.82it/s]\n"
     ]
    },
    {
     "name": "stdout",
     "output_type": "stream",
     "text": [
      "265\n"
     ]
    },
    {
     "name": "stderr",
     "output_type": "stream",
     "text": [
      " 39%|███▉      | 303/773 [24:49<49:44,  6.35s/it]\n",
      "100%|██████████| 100/100 [00:00<00:00, 101311.69it/s]\n"
     ]
    },
    {
     "name": "stdout",
     "output_type": "stream",
     "text": [
      "266\n"
     ]
    },
    {
     "name": "stderr",
     "output_type": "stream",
     "text": [
      " 39%|███▉      | 304/773 [24:53<43:43,  5.59s/it]\n",
      "100%|██████████| 100/100 [00:00<00:00, 69258.65it/s]\n"
     ]
    },
    {
     "name": "stdout",
     "output_type": "stream",
     "text": [
      "267\n"
     ]
    },
    {
     "name": "stderr",
     "output_type": "stream",
     "text": [
      " 39%|███▉      | 305/773 [25:00<46:16,  5.93s/it]\n",
      "100%|██████████| 100/100 [00:00<00:00, 81968.03it/s]\n"
     ]
    },
    {
     "name": "stdout",
     "output_type": "stream",
     "text": [
      "268\n"
     ]
    },
    {
     "name": "stderr",
     "output_type": "stream",
     "text": [
      " 40%|███▉      | 306/773 [25:06<47:17,  6.08s/it]\n",
      "100%|██████████| 100/100 [00:00<00:00, 113359.57it/s]\n"
     ]
    },
    {
     "name": "stdout",
     "output_type": "stream",
     "text": [
      "269\n"
     ]
    },
    {
     "name": "stderr",
     "output_type": "stream",
     "text": [
      " 40%|███▉      | 307/773 [25:16<55:12,  7.11s/it]\n",
      "100%|██████████| 100/100 [00:00<00:00, 90472.48it/s]\n"
     ]
    },
    {
     "name": "stdout",
     "output_type": "stream",
     "text": [
      "270\n"
     ]
    },
    {
     "name": "stderr",
     "output_type": "stream",
     "text": [
      " 40%|███▉      | 308/773 [25:21<51:05,  6.59s/it]\n",
      "100%|██████████| 100/100 [00:00<00:00, 96133.49it/s]\n"
     ]
    },
    {
     "name": "stdout",
     "output_type": "stream",
     "text": [
      "271\n"
     ]
    },
    {
     "name": "stderr",
     "output_type": "stream",
     "text": [
      " 40%|███▉      | 309/773 [25:28<52:11,  6.75s/it]\n",
      "100%|██████████| 100/100 [00:00<00:00, 97746.54it/s]\n"
     ]
    },
    {
     "name": "stdout",
     "output_type": "stream",
     "text": [
      "272\n"
     ]
    },
    {
     "name": "stderr",
     "output_type": "stream",
     "text": [
      " 40%|████      | 310/773 [25:36<54:58,  7.12s/it]\n",
      "100%|██████████| 100/100 [00:00<00:00, 86659.17it/s]\n"
     ]
    },
    {
     "name": "stdout",
     "output_type": "stream",
     "text": [
      "273\n"
     ]
    },
    {
     "name": "stderr",
     "output_type": "stream",
     "text": [
      " 40%|████      | 311/773 [25:42<51:14,  6.65s/it]\n",
      "100%|██████████| 100/100 [00:00<00:00, 94530.18it/s]\n"
     ]
    },
    {
     "name": "stdout",
     "output_type": "stream",
     "text": [
      "274\n"
     ]
    },
    {
     "name": "stderr",
     "output_type": "stream",
     "text": [
      " 40%|████      | 312/773 [25:44<40:15,  5.24s/it]\n",
      "100%|██████████| 100/100 [00:00<00:00, 124533.97it/s]\n"
     ]
    },
    {
     "name": "stdout",
     "output_type": "stream",
     "text": [
      "275\n"
     ]
    },
    {
     "name": "stderr",
     "output_type": "stream",
     "text": [
      " 40%|████      | 313/773 [25:48<38:05,  4.97s/it]\n",
      "100%|██████████| 100/100 [00:00<00:00, 57940.38it/s]\n"
     ]
    },
    {
     "name": "stdout",
     "output_type": "stream",
     "text": [
      "276\n"
     ]
    },
    {
     "name": "stderr",
     "output_type": "stream",
     "text": [
      " 41%|████      | 314/773 [25:59<50:03,  6.54s/it]\n",
      "100%|██████████| 100/100 [00:00<00:00, 86409.23it/s]\n"
     ]
    },
    {
     "name": "stdout",
     "output_type": "stream",
     "text": [
      "277\n"
     ]
    },
    {
     "name": "stderr",
     "output_type": "stream",
     "text": [
      " 41%|████      | 315/773 [26:05<49:47,  6.52s/it]\n",
      "100%|██████████| 100/100 [00:00<00:00, 72678.98it/s]\n",
      " 41%|████      | 316/773 [26:05<35:49,  4.70s/it]"
     ]
    },
    {
     "name": "stdout",
     "output_type": "stream",
     "text": [
      "278\n"
     ]
    },
    {
     "name": "stderr",
     "output_type": "stream",
     "text": [
      "\n",
      "100%|██████████| 100/100 [00:00<00:00, 92528.22it/s]\n"
     ]
    },
    {
     "name": "stdout",
     "output_type": "stream",
     "text": [
      "279\n"
     ]
    },
    {
     "name": "stderr",
     "output_type": "stream",
     "text": [
      " 41%|████      | 317/773 [26:11<38:28,  5.06s/it]\n",
      "100%|██████████| 100/100 [00:00<00:00, 80908.64it/s]\n"
     ]
    },
    {
     "name": "stdout",
     "output_type": "stream",
     "text": [
      "280\n"
     ]
    },
    {
     "name": "stderr",
     "output_type": "stream",
     "text": [
      " 41%|████      | 318/773 [26:21<48:28,  6.39s/it]\n",
      "100%|██████████| 100/100 [00:00<00:00, 91919.88it/s]\n"
     ]
    },
    {
     "name": "stdout",
     "output_type": "stream",
     "text": [
      "281\n"
     ]
    },
    {
     "name": "stderr",
     "output_type": "stream",
     "text": [
      " 41%|████▏     | 319/773 [26:30<55:18,  7.31s/it]\n",
      "100%|██████████| 100/100 [00:00<00:00, 111728.93it/s]\n"
     ]
    },
    {
     "name": "stdout",
     "output_type": "stream",
     "text": [
      "282\n"
     ]
    },
    {
     "name": "stderr",
     "output_type": "stream",
     "text": [
      " 41%|████▏     | 320/773 [26:40<1:00:30,  8.01s/it]\n",
      "100%|██████████| 100/100 [00:00<00:00, 82305.81it/s]\n"
     ]
    },
    {
     "name": "stdout",
     "output_type": "stream",
     "text": [
      "283\n"
     ]
    },
    {
     "name": "stderr",
     "output_type": "stream",
     "text": [
      " 42%|████▏     | 321/773 [26:42<47:09,  6.26s/it]  \n",
      "100%|██████████| 100/100 [00:00<00:00, 90336.08it/s]\n"
     ]
    },
    {
     "name": "stdout",
     "output_type": "stream",
     "text": [
      "284\n"
     ]
    },
    {
     "name": "stderr",
     "output_type": "stream",
     "text": [
      " 42%|████▏     | 322/773 [26:46<41:15,  5.49s/it]\n",
      "100%|██████████| 100/100 [00:00<00:00, 112237.20it/s]\n"
     ]
    },
    {
     "name": "stdout",
     "output_type": "stream",
     "text": [
      "285\n"
     ]
    },
    {
     "name": "stderr",
     "output_type": "stream",
     "text": [
      " 42%|████▏     | 323/773 [26:48<34:23,  4.59s/it]\n",
      "100%|██████████| 100/100 [00:00<00:00, 74406.67it/s]\n"
     ]
    },
    {
     "name": "stdout",
     "output_type": "stream",
     "text": [
      "286\n"
     ]
    },
    {
     "name": "stderr",
     "output_type": "stream",
     "text": [
      " 42%|████▏     | 324/773 [26:53<35:25,  4.73s/it]\n",
      "100%|██████████| 100/100 [00:00<00:00, 87254.09it/s]\n"
     ]
    },
    {
     "name": "stdout",
     "output_type": "stream",
     "text": [
      "287\n"
     ]
    },
    {
     "name": "stderr",
     "output_type": "stream",
     "text": [
      " 42%|████▏     | 325/773 [26:58<34:49,  4.67s/it]\n",
      "100%|██████████| 100/100 [00:00<00:00, 80396.86it/s]\n"
     ]
    },
    {
     "name": "stdout",
     "output_type": "stream",
     "text": [
      "288\n"
     ]
    },
    {
     "name": "stderr",
     "output_type": "stream",
     "text": [
      " 42%|████▏     | 326/773 [27:06<42:56,  5.76s/it]\n",
      "100%|██████████| 100/100 [00:00<00:00, 84239.89it/s]\n"
     ]
    },
    {
     "name": "stdout",
     "output_type": "stream",
     "text": [
      "289\n"
     ]
    },
    {
     "name": "stderr",
     "output_type": "stream",
     "text": [
      " 42%|████▏     | 327/773 [27:08<33:59,  4.57s/it]\n",
      "100%|██████████| 100/100 [00:00<00:00, 87728.59it/s]\n"
     ]
    },
    {
     "name": "stdout",
     "output_type": "stream",
     "text": [
      "290\n"
     ]
    },
    {
     "name": "stderr",
     "output_type": "stream",
     "text": [
      " 42%|████▏     | 328/773 [27:16<40:29,  5.46s/it]\n",
      "100%|██████████| 100/100 [00:00<00:00, 80319.88it/s]\n"
     ]
    },
    {
     "name": "stdout",
     "output_type": "stream",
     "text": [
      "291\n"
     ]
    },
    {
     "name": "stderr",
     "output_type": "stream",
     "text": [
      " 43%|████▎     | 329/773 [27:18<34:12,  4.62s/it]\n",
      "100%|██████████| 100/100 [00:00<00:00, 76163.14it/s]\n"
     ]
    },
    {
     "name": "stdout",
     "output_type": "stream",
     "text": [
      "292\n"
     ]
    },
    {
     "name": "stderr",
     "output_type": "stream",
     "text": [
      " 43%|████▎     | 330/773 [27:19<26:14,  3.55s/it]\n",
      "100%|██████████| 100/100 [00:00<00:00, 90844.79it/s]\n"
     ]
    },
    {
     "name": "stdout",
     "output_type": "stream",
     "text": [
      "293\n"
     ]
    },
    {
     "name": "stderr",
     "output_type": "stream",
     "text": [
      " 43%|████▎     | 331/773 [27:22<25:06,  3.41s/it]\n",
      "100%|██████████| 100/100 [00:00<00:00, 68122.53it/s]\n"
     ]
    },
    {
     "name": "stdout",
     "output_type": "stream",
     "text": [
      "294\n"
     ]
    },
    {
     "name": "stderr",
     "output_type": "stream",
     "text": [
      " 43%|████▎     | 332/773 [27:24<20:29,  2.79s/it]\n",
      "100%|██████████| 100/100 [00:00<00:00, 26212.76it/s]\n"
     ]
    },
    {
     "name": "stdout",
     "output_type": "stream",
     "text": [
      "295\n"
     ]
    },
    {
     "name": "stderr",
     "output_type": "stream",
     "text": [
      " 43%|████▎     | 333/773 [27:29<25:25,  3.47s/it]\n",
      "100%|██████████| 100/100 [00:00<00:00, 87563.76it/s]\n"
     ]
    },
    {
     "name": "stdout",
     "output_type": "stream",
     "text": [
      "296\n"
     ]
    },
    {
     "name": "stderr",
     "output_type": "stream",
     "text": [
      " 43%|████▎     | 334/773 [27:33<27:38,  3.78s/it]\n",
      "100%|██████████| 100/100 [00:00<00:00, 42934.83it/s]\n"
     ]
    },
    {
     "name": "stdout",
     "output_type": "stream",
     "text": [
      "297\n"
     ]
    },
    {
     "name": "stderr",
     "output_type": "stream",
     "text": [
      " 43%|████▎     | 335/773 [27:38<30:50,  4.23s/it]\n",
      "100%|██████████| 100/100 [00:00<00:00, 93622.86it/s]\n"
     ]
    },
    {
     "name": "stdout",
     "output_type": "stream",
     "text": [
      "298\n"
     ]
    },
    {
     "name": "stderr",
     "output_type": "stream",
     "text": [
      " 43%|████▎     | 336/773 [27:44<33:53,  4.65s/it]\n",
      "100%|██████████| 100/100 [00:00<00:00, 96420.78it/s]\n"
     ]
    },
    {
     "name": "stdout",
     "output_type": "stream",
     "text": [
      "299\n"
     ]
    },
    {
     "name": "stderr",
     "output_type": "stream",
     "text": [
      " 44%|████▎     | 337/773 [27:46<28:05,  3.87s/it]\n",
      "100%|██████████| 100/100 [00:00<00:00, 81696.61it/s]\n"
     ]
    },
    {
     "name": "stdout",
     "output_type": "stream",
     "text": [
      "300\n"
     ]
    },
    {
     "name": "stderr",
     "output_type": "stream",
     "text": [
      " 44%|████▎     | 338/773 [27:50<28:50,  3.98s/it]\n",
      "100%|██████████| 100/100 [00:00<00:00, 88487.43it/s]\n",
      " 44%|████▍     | 339/773 [27:51<22:13,  3.07s/it]"
     ]
    },
    {
     "name": "stdout",
     "output_type": "stream",
     "text": [
      "301\n"
     ]
    },
    {
     "name": "stderr",
     "output_type": "stream",
     "text": [
      "\n",
      "100%|██████████| 100/100 [00:00<00:00, 85545.67it/s]\n"
     ]
    },
    {
     "name": "stdout",
     "output_type": "stream",
     "text": [
      "302\n"
     ]
    },
    {
     "name": "stderr",
     "output_type": "stream",
     "text": [
      " 44%|████▍     | 340/773 [27:57<28:30,  3.95s/it]\n",
      "100%|██████████| 100/100 [00:00<00:00, 79998.17it/s]\n"
     ]
    },
    {
     "name": "stdout",
     "output_type": "stream",
     "text": [
      "303\n"
     ]
    },
    {
     "name": "stderr",
     "output_type": "stream",
     "text": [
      " 44%|████▍     | 341/773 [28:00<26:12,  3.64s/it]\n",
      "100%|██████████| 100/100 [00:00<00:00, 83468.74it/s]\n"
     ]
    },
    {
     "name": "stdout",
     "output_type": "stream",
     "text": [
      "304\n"
     ]
    },
    {
     "name": "stderr",
     "output_type": "stream",
     "text": [
      " 44%|████▍     | 342/773 [28:07<32:55,  4.58s/it]\n",
      "100%|██████████| 100/100 [00:00<00:00, 93123.98it/s]\n"
     ]
    },
    {
     "name": "stdout",
     "output_type": "stream",
     "text": [
      "305\n"
     ]
    },
    {
     "name": "stderr",
     "output_type": "stream",
     "text": [
      " 44%|████▍     | 343/773 [28:10<28:14,  3.94s/it]\n",
      "100%|██████████| 100/100 [00:00<00:00, 99085.85it/s]\n"
     ]
    },
    {
     "name": "stdout",
     "output_type": "stream",
     "text": [
      "306\n"
     ]
    },
    {
     "name": "stderr",
     "output_type": "stream",
     "text": [
      " 45%|████▍     | 344/773 [28:18<37:11,  5.20s/it]\n",
      "100%|██████████| 100/100 [00:00<00:00, 84307.62it/s]\n"
     ]
    },
    {
     "name": "stdout",
     "output_type": "stream",
     "text": [
      "307\n"
     ]
    },
    {
     "name": "stderr",
     "output_type": "stream",
     "text": [
      " 45%|████▍     | 345/773 [28:25<40:58,  5.74s/it]\n",
      "100%|██████████| 100/100 [00:00<00:00, 100631.09it/s]\n"
     ]
    },
    {
     "name": "stdout",
     "output_type": "stream",
     "text": [
      "308\n"
     ]
    },
    {
     "name": "stderr",
     "output_type": "stream",
     "text": [
      " 45%|████▍     | 346/773 [28:33<46:17,  6.50s/it]\n",
      "100%|██████████| 100/100 [00:00<00:00, 84596.69it/s]\n"
     ]
    },
    {
     "name": "stdout",
     "output_type": "stream",
     "text": [
      "309\n"
     ]
    },
    {
     "name": "stderr",
     "output_type": "stream",
     "text": [
      " 45%|████▍     | 347/773 [28:40<46:28,  6.55s/it]\n",
      "100%|██████████| 100/100 [00:00<00:00, 72779.87it/s]\n"
     ]
    },
    {
     "name": "stdout",
     "output_type": "stream",
     "text": [
      "310\n"
     ]
    },
    {
     "name": "stderr",
     "output_type": "stream",
     "text": [
      " 45%|████▌     | 348/773 [28:46<46:12,  6.52s/it]\n",
      "100%|██████████| 100/100 [00:00<00:00, 103307.98it/s]\n"
     ]
    },
    {
     "name": "stdout",
     "output_type": "stream",
     "text": [
      "311\n"
     ]
    },
    {
     "name": "stderr",
     "output_type": "stream",
     "text": [
      " 45%|████▌     | 349/773 [28:54<48:34,  6.87s/it]\n",
      "100%|██████████| 100/100 [00:00<00:00, 89202.55it/s]\n"
     ]
    },
    {
     "name": "stdout",
     "output_type": "stream",
     "text": [
      "312\n"
     ]
    },
    {
     "name": "stderr",
     "output_type": "stream",
     "text": [
      " 45%|████▌     | 350/773 [28:55<36:49,  5.22s/it]\n",
      "100%|██████████| 100/100 [00:00<00:00, 97000.56it/s]\n"
     ]
    },
    {
     "name": "stdout",
     "output_type": "stream",
     "text": [
      "313\n"
     ]
    },
    {
     "name": "stderr",
     "output_type": "stream",
     "text": [
      " 45%|████▌     | 351/773 [29:05<46:11,  6.57s/it]\n",
      "100%|██████████| 100/100 [00:00<00:00, 76734.43it/s]\n"
     ]
    },
    {
     "name": "stdout",
     "output_type": "stream",
     "text": [
      "314\n"
     ]
    },
    {
     "name": "stderr",
     "output_type": "stream",
     "text": [
      " 46%|████▌     | 352/773 [29:13<50:09,  7.15s/it]\n",
      "100%|██████████| 100/100 [00:00<00:00, 73545.57it/s]\n"
     ]
    },
    {
     "name": "stdout",
     "output_type": "stream",
     "text": [
      "315\n"
     ]
    },
    {
     "name": "stderr",
     "output_type": "stream",
     "text": [
      " 46%|████▌     | 353/773 [29:19<47:57,  6.85s/it]\n",
      "100%|██████████| 100/100 [00:00<00:00, 78869.95it/s]\n"
     ]
    },
    {
     "name": "stdout",
     "output_type": "stream",
     "text": [
      "316\n"
     ]
    },
    {
     "name": "stderr",
     "output_type": "stream",
     "text": [
      " 46%|████▌     | 354/773 [29:22<38:35,  5.53s/it]\n",
      "100%|██████████| 100/100 [00:00<00:00, 95303.43it/s]\n"
     ]
    },
    {
     "name": "stdout",
     "output_type": "stream",
     "text": [
      "317\n"
     ]
    },
    {
     "name": "stderr",
     "output_type": "stream",
     "text": [
      " 46%|████▌     | 355/773 [29:27<38:16,  5.49s/it]\n",
      "100%|██████████| 100/100 [00:00<00:00, 102776.38it/s]\n"
     ]
    },
    {
     "name": "stdout",
     "output_type": "stream",
     "text": [
      "318\n"
     ]
    },
    {
     "name": "stderr",
     "output_type": "stream",
     "text": [
      " 46%|████▌     | 356/773 [29:29<30:30,  4.39s/it]\n",
      "100%|██████████| 100/100 [00:00<00:00, 104726.69it/s]\n",
      " 46%|████▌     | 357/773 [29:30<22:18,  3.22s/it]"
     ]
    },
    {
     "name": "stdout",
     "output_type": "stream",
     "text": [
      "319\n"
     ]
    },
    {
     "name": "stderr",
     "output_type": "stream",
     "text": [
      "\n",
      "100%|██████████| 100/100 [00:00<00:00, 104936.30it/s]\n"
     ]
    },
    {
     "name": "stdout",
     "output_type": "stream",
     "text": [
      "320\n"
     ]
    },
    {
     "name": "stderr",
     "output_type": "stream",
     "text": [
      " 46%|████▋     | 358/773 [29:38<33:21,  4.82s/it]\n",
      "100%|██████████| 100/100 [00:00<00:00, 88263.97it/s]\n"
     ]
    },
    {
     "name": "stdout",
     "output_type": "stream",
     "text": [
      "321\n"
     ]
    },
    {
     "name": "stderr",
     "output_type": "stream",
     "text": [
      " 46%|████▋     | 359/773 [29:45<36:51,  5.34s/it]\n",
      "100%|██████████| 100/100 [00:00<00:00, 124533.97it/s]\n"
     ]
    },
    {
     "name": "stdout",
     "output_type": "stream",
     "text": [
      "322\n"
     ]
    },
    {
     "name": "stderr",
     "output_type": "stream",
     "text": [
      " 47%|████▋     | 360/773 [29:55<46:58,  6.82s/it]\n",
      "100%|██████████| 100/100 [00:00<00:00, 98922.26it/s]\n"
     ]
    },
    {
     "name": "stdout",
     "output_type": "stream",
     "text": [
      "323\n"
     ]
    },
    {
     "name": "stderr",
     "output_type": "stream",
     "text": [
      " 47%|████▋     | 361/773 [30:05<52:48,  7.69s/it]\n",
      "100%|██████████| 100/100 [00:00<00:00, 77830.84it/s]\n"
     ]
    },
    {
     "name": "stdout",
     "output_type": "stream",
     "text": [
      "324\n"
     ]
    },
    {
     "name": "stderr",
     "output_type": "stream",
     "text": [
      " 47%|████▋     | 362/773 [30:08<44:24,  6.48s/it]\n",
      "100%|██████████| 100/100 [00:00<00:00, 118617.19it/s]\n"
     ]
    },
    {
     "name": "stdout",
     "output_type": "stream",
     "text": [
      "325\n"
     ]
    },
    {
     "name": "stderr",
     "output_type": "stream",
     "text": [
      " 47%|████▋     | 363/773 [30:10<33:53,  4.96s/it]\n",
      "100%|██████████| 100/100 [00:00<00:00, 69350.26it/s]\n"
     ]
    },
    {
     "name": "stdout",
     "output_type": "stream",
     "text": [
      "326\n"
     ]
    },
    {
     "name": "stderr",
     "output_type": "stream",
     "text": [
      " 47%|████▋     | 364/773 [30:18<39:48,  5.84s/it]\n",
      "100%|██████████| 100/100 [00:00<00:00, 111758.70it/s]\n"
     ]
    },
    {
     "name": "stdout",
     "output_type": "stream",
     "text": [
      "327\n"
     ]
    },
    {
     "name": "stderr",
     "output_type": "stream",
     "text": [
      " 47%|████▋     | 365/773 [30:18<29:02,  4.27s/it]\n",
      "100%|██████████| 100/100 [00:00<00:00, 118785.16it/s]\n"
     ]
    },
    {
     "name": "stdout",
     "output_type": "stream",
     "text": [
      "328\n"
     ]
    },
    {
     "name": "stderr",
     "output_type": "stream",
     "text": [
      " 47%|████▋     | 366/773 [30:25<34:05,  5.03s/it]\n",
      "100%|██████████| 100/100 [00:00<00:00, 95760.37it/s]\n"
     ]
    },
    {
     "name": "stdout",
     "output_type": "stream",
     "text": [
      "329\n"
     ]
    },
    {
     "name": "stderr",
     "output_type": "stream",
     "text": [
      " 47%|████▋     | 367/773 [30:28<29:03,  4.29s/it]\n",
      "100%|██████████| 100/100 [00:00<00:00, 77399.96it/s]\n"
     ]
    },
    {
     "name": "stdout",
     "output_type": "stream",
     "text": [
      "330\n"
     ]
    },
    {
     "name": "stderr",
     "output_type": "stream",
     "text": [
      " 48%|████▊     | 368/773 [30:31<26:31,  3.93s/it]\n",
      "100%|██████████| 100/100 [00:00<00:00, 83203.81it/s]\n"
     ]
    },
    {
     "name": "stdout",
     "output_type": "stream",
     "text": [
      "331\n"
     ]
    },
    {
     "name": "stderr",
     "output_type": "stream",
     "text": [
      " 48%|████▊     | 369/773 [30:34<24:42,  3.67s/it]\n",
      "100%|██████████| 100/100 [00:00<00:00, 93916.35it/s]\n"
     ]
    },
    {
     "name": "stdout",
     "output_type": "stream",
     "text": [
      "332\n"
     ]
    },
    {
     "name": "stderr",
     "output_type": "stream",
     "text": [
      " 48%|████▊     | 370/773 [30:36<20:44,  3.09s/it]\n",
      "100%|██████████| 100/100 [00:00<00:00, 92773.81it/s]\n"
     ]
    },
    {
     "name": "stdout",
     "output_type": "stream",
     "text": [
      "333\n"
     ]
    },
    {
     "name": "stderr",
     "output_type": "stream",
     "text": [
      " 48%|████▊     | 371/773 [30:40<23:52,  3.56s/it]\n",
      "100%|██████████| 100/100 [00:00<00:00, 85913.64it/s]\n"
     ]
    },
    {
     "name": "stdout",
     "output_type": "stream",
     "text": [
      "334\n"
     ]
    },
    {
     "name": "stderr",
     "output_type": "stream",
     "text": [
      " 48%|████▊     | 372/773 [30:42<20:57,  3.13s/it]\n",
      "100%|██████████| 100/100 [00:00<00:00, 103054.15it/s]\n"
     ]
    },
    {
     "name": "stdout",
     "output_type": "stream",
     "text": [
      "335\n"
     ]
    },
    {
     "name": "stderr",
     "output_type": "stream",
     "text": [
      " 48%|████▊     | 373/773 [30:47<24:05,  3.61s/it]\n",
      "100%|██████████| 100/100 [00:00<00:00, 96155.52it/s]\n"
     ]
    },
    {
     "name": "stdout",
     "output_type": "stream",
     "text": [
      "336\n"
     ]
    },
    {
     "name": "stderr",
     "output_type": "stream",
     "text": [
      " 48%|████▊     | 374/773 [30:54<31:28,  4.73s/it]\n",
      "100%|██████████| 100/100 [00:00<00:00, 94958.21it/s]\n"
     ]
    },
    {
     "name": "stdout",
     "output_type": "stream",
     "text": [
      "337\n"
     ]
    },
    {
     "name": "stderr",
     "output_type": "stream",
     "text": [
      " 49%|████▊     | 375/773 [30:59<30:21,  4.58s/it]\n",
      "100%|██████████| 100/100 [00:00<00:00, 96465.13it/s]\n"
     ]
    },
    {
     "name": "stdout",
     "output_type": "stream",
     "text": [
      "338\n"
     ]
    },
    {
     "name": "stderr",
     "output_type": "stream",
     "text": [
      " 49%|████▊     | 376/773 [31:01<26:33,  4.01s/it]\n",
      "100%|██████████| 100/100 [00:00<00:00, 107878.19it/s]\n"
     ]
    },
    {
     "name": "stdout",
     "output_type": "stream",
     "text": [
      "339\n"
     ]
    },
    {
     "name": "stderr",
     "output_type": "stream",
     "text": [
      " 49%|████▉     | 377/773 [31:10<36:22,  5.51s/it]\n",
      "100%|██████████| 100/100 [00:00<00:00, 101018.88it/s]\n"
     ]
    },
    {
     "name": "stdout",
     "output_type": "stream",
     "text": [
      "340\n"
     ]
    },
    {
     "name": "stderr",
     "output_type": "stream",
     "text": [
      " 49%|████▉     | 378/773 [31:12<28:21,  4.31s/it]\n",
      "100%|██████████| 100/100 [00:00<00:00, 114410.91it/s]\n"
     ]
    },
    {
     "name": "stdout",
     "output_type": "stream",
     "text": [
      "341\n"
     ]
    },
    {
     "name": "stderr",
     "output_type": "stream",
     "text": [
      " 49%|████▉     | 379/773 [31:15<26:10,  3.99s/it]\n",
      "100%|██████████| 100/100 [00:00<00:00, 92855.97it/s]\n"
     ]
    },
    {
     "name": "stdout",
     "output_type": "stream",
     "text": [
      "342\n"
     ]
    },
    {
     "name": "stderr",
     "output_type": "stream",
     "text": [
      " 49%|████▉     | 380/773 [31:20<28:38,  4.37s/it]\n",
      "100%|██████████| 100/100 [00:00<00:00, 90746.52it/s]\n"
     ]
    },
    {
     "name": "stdout",
     "output_type": "stream",
     "text": [
      "343\n"
     ]
    },
    {
     "name": "stderr",
     "output_type": "stream",
     "text": [
      " 49%|████▉     | 382/773 [31:30<27:00,  4.14s/it]\n",
      "100%|██████████| 100/100 [00:00<00:00, 96709.80it/s]\n"
     ]
    },
    {
     "name": "stdout",
     "output_type": "stream",
     "text": [
      "344\n"
     ]
    },
    {
     "name": "stderr",
     "output_type": "stream",
     "text": [
      " 50%|████▉     | 386/773 [31:34<10:23,  1.61s/it]\n",
      "100%|██████████| 100/100 [00:00<00:00, 110000.10it/s]\n"
     ]
    },
    {
     "name": "stdout",
     "output_type": "stream",
     "text": [
      "345\n"
     ]
    },
    {
     "name": "stderr",
     "output_type": "stream",
     "text": [
      " 50%|█████     | 387/773 [31:39<15:33,  2.42s/it]\n",
      "100%|██████████| 100/100 [00:00<00:00, 98735.97it/s]\n"
     ]
    },
    {
     "name": "stdout",
     "output_type": "stream",
     "text": [
      "346\n"
     ]
    },
    {
     "name": "stderr",
     "output_type": "stream",
     "text": [
      " 50%|█████     | 388/773 [31:42<17:08,  2.67s/it]\n",
      "100%|██████████| 100/100 [00:00<00:00, 81840.08it/s]\n"
     ]
    },
    {
     "name": "stdout",
     "output_type": "stream",
     "text": [
      "347\n"
     ]
    },
    {
     "name": "stderr",
     "output_type": "stream",
     "text": [
      " 50%|█████     | 389/773 [31:46<20:05,  3.14s/it]\n",
      "100%|██████████| 100/100 [00:00<00:00, 91919.88it/s]\n"
     ]
    },
    {
     "name": "stdout",
     "output_type": "stream",
     "text": [
      "348\n"
     ]
    },
    {
     "name": "stderr",
     "output_type": "stream",
     "text": [
      " 51%|█████     | 391/773 [31:54<21:08,  3.32s/it]\n",
      "100%|██████████| 100/100 [00:00<00:00, 97000.56it/s]\n"
     ]
    },
    {
     "name": "stdout",
     "output_type": "stream",
     "text": [
      "349\n"
     ]
    },
    {
     "name": "stderr",
     "output_type": "stream",
     "text": [
      " 51%|█████     | 392/773 [32:01<27:33,  4.34s/it]\n",
      "100%|██████████| 100/100 [00:00<00:00, 111107.39it/s]\n"
     ]
    },
    {
     "name": "stdout",
     "output_type": "stream",
     "text": [
      "350\n"
     ]
    },
    {
     "name": "stderr",
     "output_type": "stream",
     "text": [
      " 51%|█████     | 393/773 [32:08<31:54,  5.04s/it]\n",
      "100%|██████████| 100/100 [00:00<00:00, 98319.36it/s]\n"
     ]
    },
    {
     "name": "stdout",
     "output_type": "stream",
     "text": [
      "351\n"
     ]
    },
    {
     "name": "stderr",
     "output_type": "stream",
     "text": [
      " 51%|█████     | 394/773 [32:10<26:14,  4.16s/it]\n",
      "100%|██████████| 100/100 [00:00<00:00, 90589.72it/s]\n"
     ]
    },
    {
     "name": "stdout",
     "output_type": "stream",
     "text": [
      "352\n"
     ]
    },
    {
     "name": "stderr",
     "output_type": "stream",
     "text": [
      " 51%|█████     | 395/773 [32:15<28:07,  4.46s/it]\n",
      "100%|██████████| 100/100 [00:00<00:00, 99109.26it/s]\n"
     ]
    },
    {
     "name": "stdout",
     "output_type": "stream",
     "text": [
      "353\n"
     ]
    },
    {
     "name": "stderr",
     "output_type": "stream",
     "text": [
      " 51%|█████     | 396/773 [32:24<36:26,  5.80s/it]\n",
      "100%|██████████| 100/100 [00:00<00:00, 78310.38it/s]\n"
     ]
    },
    {
     "name": "stdout",
     "output_type": "stream",
     "text": [
      "354\n"
     ]
    },
    {
     "name": "stderr",
     "output_type": "stream",
     "text": [
      " 51%|█████▏    | 397/773 [32:34<43:43,  6.98s/it]\n",
      "100%|██████████| 100/100 [00:00<00:00, 97270.50it/s]\n"
     ]
    },
    {
     "name": "stdout",
     "output_type": "stream",
     "text": [
      "355\n"
     ]
    },
    {
     "name": "stderr",
     "output_type": "stream",
     "text": [
      " 51%|█████▏    | 398/773 [32:35<32:14,  5.16s/it]\n",
      "100%|██████████| 100/100 [00:00<00:00, 96354.33it/s]\n"
     ]
    },
    {
     "name": "stdout",
     "output_type": "stream",
     "text": [
      "356\n"
     ]
    },
    {
     "name": "stderr",
     "output_type": "stream",
     "text": [
      " 52%|█████▏    | 399/773 [32:42<37:04,  5.95s/it]\n",
      "100%|██████████| 100/100 [00:00<00:00, 85180.83it/s]\n"
     ]
    },
    {
     "name": "stdout",
     "output_type": "stream",
     "text": [
      "357\n"
     ]
    },
    {
     "name": "stderr",
     "output_type": "stream",
     "text": [
      " 52%|█████▏    | 400/773 [32:50<40:06,  6.45s/it]\n",
      "100%|██████████| 100/100 [00:00<00:00, 80846.26it/s]\n"
     ]
    },
    {
     "name": "stdout",
     "output_type": "stream",
     "text": [
      "358\n"
     ]
    },
    {
     "name": "stderr",
     "output_type": "stream",
     "text": [
      " 52%|█████▏    | 401/773 [32:59<44:08,  7.12s/it]\n",
      "100%|██████████| 100/100 [00:00<00:00, 74965.22it/s]\n"
     ]
    },
    {
     "name": "stdout",
     "output_type": "stream",
     "text": [
      "359\n"
     ]
    },
    {
     "name": "stderr",
     "output_type": "stream",
     "text": [
      " 52%|█████▏    | 402/773 [33:01<34:52,  5.64s/it]\n",
      "100%|██████████| 100/100 [00:00<00:00, 74978.62it/s]\n"
     ]
    },
    {
     "name": "stdout",
     "output_type": "stream",
     "text": [
      "360\n"
     ]
    },
    {
     "name": "stderr",
     "output_type": "stream",
     "text": [
      " 52%|█████▏    | 403/773 [33:03<28:35,  4.64s/it]\n",
      "100%|██████████| 100/100 [00:00<00:00, 80443.11it/s]\n"
     ]
    },
    {
     "name": "stdout",
     "output_type": "stream",
     "text": [
      "361\n"
     ]
    },
    {
     "name": "stderr",
     "output_type": "stream",
     "text": [
      " 52%|█████▏    | 404/773 [33:07<26:26,  4.30s/it]\n",
      "100%|██████████| 100/100 [00:00<00:00, 53587.63it/s]\n"
     ]
    },
    {
     "name": "stdout",
     "output_type": "stream",
     "text": [
      "362\n"
     ]
    },
    {
     "name": "stderr",
     "output_type": "stream",
     "text": [
      " 52%|█████▏    | 405/773 [33:11<25:24,  4.14s/it]\n",
      "100%|██████████| 100/100 [00:00<00:00, 76860.99it/s]\n"
     ]
    },
    {
     "name": "stdout",
     "output_type": "stream",
     "text": [
      "363\n"
     ]
    },
    {
     "name": "stderr",
     "output_type": "stream",
     "text": [
      " 53%|█████▎    | 406/773 [33:19<33:09,  5.42s/it]\n",
      "100%|██████████| 100/100 [00:00<00:00, 77643.54it/s]\n"
     ]
    },
    {
     "name": "stdout",
     "output_type": "stream",
     "text": [
      "364\n"
     ]
    },
    {
     "name": "stderr",
     "output_type": "stream",
     "text": [
      " 53%|█████▎    | 407/773 [33:28<39:23,  6.46s/it]\n",
      "100%|██████████| 100/100 [00:00<00:00, 100606.96it/s]\n"
     ]
    },
    {
     "name": "stdout",
     "output_type": "stream",
     "text": [
      "365\n"
     ]
    },
    {
     "name": "stderr",
     "output_type": "stream",
     "text": [
      " 53%|█████▎    | 408/773 [33:34<39:19,  6.46s/it]\n",
      "100%|██████████| 100/100 [00:00<00:00, 80877.44it/s]\n"
     ]
    },
    {
     "name": "stdout",
     "output_type": "stream",
     "text": [
      "366\n"
     ]
    },
    {
     "name": "stderr",
     "output_type": "stream",
     "text": [
      " 53%|█████▎    | 409/773 [33:36<31:05,  5.13s/it]\n",
      "100%|██████████| 100/100 [00:00<00:00, 81952.01it/s]\n"
     ]
    },
    {
     "name": "stdout",
     "output_type": "stream",
     "text": [
      "367\n"
     ]
    },
    {
     "name": "stderr",
     "output_type": "stream",
     "text": [
      " 53%|█████▎    | 410/773 [33:47<40:28,  6.69s/it]\n",
      "100%|██████████| 100/100 [00:00<00:00, 91919.88it/s]\n"
     ]
    },
    {
     "name": "stdout",
     "output_type": "stream",
     "text": [
      "368\n"
     ]
    },
    {
     "name": "stderr",
     "output_type": "stream",
     "text": [
      " 53%|█████▎    | 411/773 [33:49<32:19,  5.36s/it]\n",
      "100%|██████████| 100/100 [00:00<00:00, 87563.76it/s]\n"
     ]
    },
    {
     "name": "stdout",
     "output_type": "stream",
     "text": [
      "369\n"
     ]
    },
    {
     "name": "stderr",
     "output_type": "stream",
     "text": [
      " 53%|█████▎    | 412/773 [33:51<26:41,  4.44s/it]\n",
      "100%|██████████| 100/100 [00:00<00:00, 82112.45it/s]\n"
     ]
    },
    {
     "name": "stdout",
     "output_type": "stream",
     "text": [
      "370\n"
     ]
    },
    {
     "name": "stderr",
     "output_type": "stream",
     "text": [
      " 53%|█████▎    | 413/773 [33:57<29:43,  4.96s/it]\n",
      "100%|██████████| 100/100 [00:00<00:00, 94063.78it/s]\n"
     ]
    },
    {
     "name": "stdout",
     "output_type": "stream",
     "text": [
      "371\n"
     ]
    },
    {
     "name": "stderr",
     "output_type": "stream",
     "text": [
      " 54%|█████▎    | 414/773 [34:07<38:00,  6.35s/it]\n",
      "100%|██████████| 100/100 [00:00<00:00, 96265.87it/s]\n"
     ]
    },
    {
     "name": "stdout",
     "output_type": "stream",
     "text": [
      "372\n"
     ]
    },
    {
     "name": "stderr",
     "output_type": "stream",
     "text": [
      " 54%|█████▎    | 415/773 [34:15<40:42,  6.82s/it]\n",
      "100%|██████████| 100/100 [00:00<00:00, 91578.69it/s]\n"
     ]
    },
    {
     "name": "stdout",
     "output_type": "stream",
     "text": [
      "373\n"
     ]
    },
    {
     "name": "stderr",
     "output_type": "stream",
     "text": [
      " 54%|█████▍    | 416/773 [34:17<32:32,  5.47s/it]\n",
      "100%|██████████| 100/100 [00:00<00:00, 97067.90it/s]\n"
     ]
    },
    {
     "name": "stdout",
     "output_type": "stream",
     "text": [
      "374\n"
     ]
    },
    {
     "name": "stderr",
     "output_type": "stream",
     "text": [
      " 54%|█████▍    | 417/773 [34:23<32:11,  5.42s/it]\n",
      "100%|██████████| 100/100 [00:00<00:00, 75018.85it/s]\n"
     ]
    },
    {
     "name": "stdout",
     "output_type": "stream",
     "text": [
      "375\n"
     ]
    },
    {
     "name": "stderr",
     "output_type": "stream",
     "text": [
      " 54%|█████▍    | 418/773 [34:30<36:11,  6.12s/it]\n",
      "100%|██████████| 100/100 [00:00<00:00, 88900.04it/s]\n"
     ]
    },
    {
     "name": "stdout",
     "output_type": "stream",
     "text": [
      "376\n"
     ]
    },
    {
     "name": "stderr",
     "output_type": "stream",
     "text": [
      " 54%|█████▍    | 419/773 [34:39<40:18,  6.83s/it]\n",
      "100%|██████████| 100/100 [00:00<00:00, 92773.81it/s]\n"
     ]
    },
    {
     "name": "stdout",
     "output_type": "stream",
     "text": [
      "377\n"
     ]
    },
    {
     "name": "stderr",
     "output_type": "stream",
     "text": [
      " 54%|█████▍    | 420/773 [34:48<44:04,  7.49s/it]\n",
      "100%|██████████| 100/100 [00:00<00:00, 90609.29it/s]\n"
     ]
    },
    {
     "name": "stdout",
     "output_type": "stream",
     "text": [
      "378\n"
     ]
    },
    {
     "name": "stderr",
     "output_type": "stream",
     "text": [
      " 54%|█████▍    | 421/773 [34:53<39:08,  6.67s/it]\n",
      "100%|██████████| 100/100 [00:00<00:00, 71368.11it/s]\n"
     ]
    },
    {
     "name": "stdout",
     "output_type": "stream",
     "text": [
      "<a href=\"/item/18405660\"><img data-original=\"//s.list.am/r/763/65260763.webp\" src=\"\"/><div><div>Toyota Camry, 2.5 լ, 2011 թ., գազ</div><div class=\"at\">Կապան, 2011 թ., 127,000 մղոն, Բենզին</div><div class=\"d\">Հինգշաբթի, Հոկտեմբեր 06, 2022 14:37</div></div></a>\n",
      "379\n"
     ]
    },
    {
     "name": "stderr",
     "output_type": "stream",
     "text": [
      " 55%|█████▍    | 422/773 [34:56<32:52,  5.62s/it]\n",
      "100%|██████████| 100/100 [00:00<00:00, 47436.15it/s]\n"
     ]
    },
    {
     "name": "stdout",
     "output_type": "stream",
     "text": [
      "<a href=\"/item/18405660\"><img data-original=\"//s.list.am/r/763/65260763.webp\" src=\"\"/><div><div>Toyota Camry, 2.5 լ, 2011 թ., գազ</div><div class=\"at\">Կապան, 2011 թ., 127,000 մղոն, Բենզին</div><div class=\"d\">Հինգշաբթի, Հոկտեմբեր 06, 2022 14:37</div></div></a>\n",
      "380\n"
     ]
    },
    {
     "name": "stderr",
     "output_type": "stream",
     "text": [
      " 55%|█████▍    | 423/773 [35:00<30:50,  5.29s/it]\n",
      "100%|██████████| 100/100 [00:00<00:00, 50099.19it/s]\n"
     ]
    },
    {
     "name": "stdout",
     "output_type": "stream",
     "text": [
      "381\n"
     ]
    },
    {
     "name": "stderr",
     "output_type": "stream",
     "text": [
      " 55%|█████▍    | 424/773 [35:08<34:59,  6.02s/it]\n",
      "100%|██████████| 100/100 [00:00<00:00, 81776.25it/s]\n"
     ]
    },
    {
     "name": "stdout",
     "output_type": "stream",
     "text": [
      "382\n"
     ]
    },
    {
     "name": "stderr",
     "output_type": "stream",
     "text": [
      " 55%|█████▍    | 425/773 [35:12<30:54,  5.33s/it]\n",
      "100%|██████████| 100/100 [00:00<00:00, 114037.63it/s]\n"
     ]
    },
    {
     "name": "stdout",
     "output_type": "stream",
     "text": [
      "383\n"
     ]
    },
    {
     "name": "stderr",
     "output_type": "stream",
     "text": [
      " 55%|█████▌    | 426/773 [35:21<38:32,  6.66s/it]\n",
      "100%|██████████| 100/100 [00:00<00:00, 96420.78it/s]\n"
     ]
    },
    {
     "name": "stdout",
     "output_type": "stream",
     "text": [
      "384\n"
     ]
    },
    {
     "name": "stderr",
     "output_type": "stream",
     "text": [
      " 55%|█████▌    | 427/773 [35:32<44:41,  7.75s/it]\n",
      "100%|██████████| 100/100 [00:00<00:00, 118316.05it/s]\n"
     ]
    },
    {
     "name": "stdout",
     "output_type": "stream",
     "text": [
      "385\n"
     ]
    },
    {
     "name": "stderr",
     "output_type": "stream",
     "text": [
      " 55%|█████▌    | 428/773 [35:39<43:41,  7.60s/it]\n",
      "100%|██████████| 100/100 [00:00<00:00, 102675.74it/s]\n"
     ]
    },
    {
     "name": "stdout",
     "output_type": "stream",
     "text": [
      "386\n"
     ]
    },
    {
     "name": "stderr",
     "output_type": "stream",
     "text": [
      " 55%|█████▌    | 429/773 [35:44<38:47,  6.77s/it]\n",
      "100%|██████████| 100/100 [00:00<00:00, 88655.76it/s]\n"
     ]
    },
    {
     "name": "stdout",
     "output_type": "stream",
     "text": [
      "387\n"
     ]
    },
    {
     "name": "stderr",
     "output_type": "stream",
     "text": [
      " 56%|█████▌    | 430/773 [35:46<31:15,  5.47s/it]\n",
      "100%|██████████| 100/100 [00:00<00:00, 69396.16it/s]\n"
     ]
    },
    {
     "name": "stdout",
     "output_type": "stream",
     "text": [
      "388\n"
     ]
    },
    {
     "name": "stderr",
     "output_type": "stream",
     "text": [
      " 56%|█████▌    | 431/773 [35:48<24:14,  4.25s/it]\n",
      "100%|██████████| 100/100 [00:00<00:00, 87563.76it/s]\n"
     ]
    },
    {
     "name": "stdout",
     "output_type": "stream",
     "text": [
      "389\n"
     ]
    },
    {
     "name": "stderr",
     "output_type": "stream",
     "text": [
      " 56%|█████▌    | 432/773 [35:56<31:47,  5.59s/it]\n",
      "100%|██████████| 100/100 [00:00<00:00, 98204.26it/s]\n"
     ]
    },
    {
     "name": "stdout",
     "output_type": "stream",
     "text": [
      "390\n"
     ]
    },
    {
     "name": "stderr",
     "output_type": "stream",
     "text": [
      " 56%|█████▌    | 433/773 [36:05<36:18,  6.41s/it]\n",
      "100%|██████████| 100/100 [00:00<00:00, 91319.49it/s]\n"
     ]
    },
    {
     "name": "stdout",
     "output_type": "stream",
     "text": [
      "391\n"
     ]
    },
    {
     "name": "stderr",
     "output_type": "stream",
     "text": [
      " 56%|█████▌    | 434/773 [36:10<34:38,  6.13s/it]\n",
      "100%|██████████| 100/100 [00:00<00:00, 77990.03it/s]\n"
     ]
    },
    {
     "name": "stdout",
     "output_type": "stream",
     "text": [
      "392\n"
     ]
    },
    {
     "name": "stderr",
     "output_type": "stream",
     "text": [
      " 56%|█████▋    | 435/773 [36:11<25:35,  4.54s/it]\n",
      "100%|██████████| 100/100 [00:00<00:00, 95957.54it/s]\n"
     ]
    },
    {
     "name": "stdout",
     "output_type": "stream",
     "text": [
      "393\n"
     ]
    },
    {
     "name": "stderr",
     "output_type": "stream",
     "text": [
      " 56%|█████▋    | 436/773 [36:19<31:52,  5.67s/it]\n",
      "100%|██████████| 100/100 [00:00<00:00, 81490.27it/s]\n"
     ]
    },
    {
     "name": "stdout",
     "output_type": "stream",
     "text": [
      "394\n"
     ]
    },
    {
     "name": "stderr",
     "output_type": "stream",
     "text": [
      " 57%|█████▋    | 437/773 [36:21<25:46,  4.60s/it]\n",
      "100%|██████████| 100/100 [00:00<00:00, 107381.05it/s]\n"
     ]
    },
    {
     "name": "stdout",
     "output_type": "stream",
     "text": [
      "395\n"
     ]
    },
    {
     "name": "stderr",
     "output_type": "stream",
     "text": [
      " 57%|█████▋    | 438/773 [36:24<22:04,  3.95s/it]\n",
      "100%|██████████| 100/100 [00:00<00:00, 85388.93it/s]\n"
     ]
    },
    {
     "name": "stdout",
     "output_type": "stream",
     "text": [
      "396\n"
     ]
    },
    {
     "name": "stderr",
     "output_type": "stream",
     "text": [
      " 57%|█████▋    | 439/773 [36:25<17:31,  3.15s/it]\n",
      "100%|██████████| 100/100 [00:00<00:00, 79800.30it/s]\n"
     ]
    },
    {
     "name": "stdout",
     "output_type": "stream",
     "text": [
      "397\n"
     ]
    },
    {
     "name": "stderr",
     "output_type": "stream",
     "text": [
      " 57%|█████▋    | 440/773 [36:27<15:03,  2.71s/it]\n",
      "100%|██████████| 100/100 [00:00<00:00, 96709.80it/s]\n"
     ]
    },
    {
     "name": "stdout",
     "output_type": "stream",
     "text": [
      "398\n"
     ]
    },
    {
     "name": "stderr",
     "output_type": "stream",
     "text": [
      " 57%|█████▋    | 441/773 [36:35<24:37,  4.45s/it]\n",
      "100%|██████████| 100/100 [00:00<00:00, 79003.65it/s]\n"
     ]
    },
    {
     "name": "stdout",
     "output_type": "stream",
     "text": [
      "399\n"
     ]
    },
    {
     "name": "stderr",
     "output_type": "stream",
     "text": [
      " 57%|█████▋    | 442/773 [36:36<18:33,  3.37s/it]\n",
      "100%|██████████| 100/100 [00:00<00:00, 37259.52it/s]\n"
     ]
    },
    {
     "name": "stdout",
     "output_type": "stream",
     "text": [
      "400\n"
     ]
    },
    {
     "name": "stderr",
     "output_type": "stream",
     "text": [
      " 57%|█████▋    | 443/773 [36:39<17:57,  3.27s/it]\n",
      "100%|██████████| 100/100 [00:00<00:00, 89775.34it/s]\n"
     ]
    },
    {
     "name": "stdout",
     "output_type": "stream",
     "text": [
      "401\n"
     ]
    },
    {
     "name": "stderr",
     "output_type": "stream",
     "text": [
      " 57%|█████▋    | 444/773 [36:43<18:45,  3.42s/it]\n",
      "100%|██████████| 100/100 [00:00<00:00, 58579.66it/s]\n"
     ]
    },
    {
     "name": "stdout",
     "output_type": "stream",
     "text": [
      "402\n"
     ]
    },
    {
     "name": "stderr",
     "output_type": "stream",
     "text": [
      " 58%|█████▊    | 445/773 [36:47<19:34,  3.58s/it]\n",
      "100%|██████████| 100/100 [00:00<00:00, 44309.15it/s]\n"
     ]
    },
    {
     "name": "stdout",
     "output_type": "stream",
     "text": [
      "403\n"
     ]
    },
    {
     "name": "stderr",
     "output_type": "stream",
     "text": [
      " 58%|█████▊    | 446/773 [36:51<20:18,  3.73s/it]\n",
      "100%|██████████| 100/100 [00:00<00:00, 58473.50it/s]\n"
     ]
    },
    {
     "name": "stdout",
     "output_type": "stream",
     "text": [
      "404\n"
     ]
    },
    {
     "name": "stderr",
     "output_type": "stream",
     "text": [
      " 58%|█████▊    | 447/773 [36:58<25:47,  4.75s/it]\n",
      "100%|██████████| 100/100 [00:00<00:00, 62036.74it/s]\n"
     ]
    },
    {
     "name": "stdout",
     "output_type": "stream",
     "text": [
      "405\n"
     ]
    },
    {
     "name": "stderr",
     "output_type": "stream",
     "text": [
      " 58%|█████▊    | 448/773 [37:00<21:47,  4.02s/it]\n",
      "100%|██████████| 100/100 [00:00<00:00, 98805.75it/s]\n"
     ]
    },
    {
     "name": "stdout",
     "output_type": "stream",
     "text": [
      "406\n"
     ]
    },
    {
     "name": "stderr",
     "output_type": "stream",
     "text": [
      " 58%|█████▊    | 449/773 [37:08<27:18,  5.06s/it]\n",
      "100%|██████████| 100/100 [00:00<00:00, 84956.53it/s]\n"
     ]
    },
    {
     "name": "stdout",
     "output_type": "stream",
     "text": [
      "407\n"
     ]
    },
    {
     "name": "stderr",
     "output_type": "stream",
     "text": [
      " 58%|█████▊    | 450/773 [37:17<34:02,  6.32s/it]\n",
      "100%|██████████| 100/100 [00:00<00:00, 100294.21it/s]\n"
     ]
    },
    {
     "name": "stdout",
     "output_type": "stream",
     "text": [
      "408\n"
     ]
    },
    {
     "name": "stderr",
     "output_type": "stream",
     "text": [
      " 58%|█████▊    | 451/773 [37:23<32:55,  6.14s/it]\n",
      "100%|██████████| 100/100 [00:00<00:00, 112629.00it/s]\n"
     ]
    },
    {
     "name": "stdout",
     "output_type": "stream",
     "text": [
      "409\n"
     ]
    },
    {
     "name": "stderr",
     "output_type": "stream",
     "text": [
      " 58%|█████▊    | 452/773 [37:25<26:56,  5.04s/it]\n",
      "100%|██████████| 100/100 [00:00<00:00, 77758.69it/s]\n"
     ]
    },
    {
     "name": "stdout",
     "output_type": "stream",
     "text": [
      "410\n"
     ]
    },
    {
     "name": "stderr",
     "output_type": "stream",
     "text": [
      " 59%|█████▊    | 453/773 [37:28<23:34,  4.42s/it]\n",
      "100%|██████████| 100/100 [00:00<00:00, 68034.13it/s]\n"
     ]
    },
    {
     "name": "stdout",
     "output_type": "stream",
     "text": [
      "411\n"
     ]
    },
    {
     "name": "stderr",
     "output_type": "stream",
     "text": [
      " 59%|█████▊    | 454/773 [37:30<19:42,  3.71s/it]\n",
      "100%|██████████| 100/100 [00:00<00:00, 100102.72it/s]\n"
     ]
    },
    {
     "name": "stdout",
     "output_type": "stream",
     "text": [
      "412\n"
     ]
    },
    {
     "name": "stderr",
     "output_type": "stream",
     "text": [
      " 59%|█████▉    | 455/773 [37:39<27:10,  5.13s/it]\n",
      "100%|██████████| 100/100 [00:00<00:00, 55093.97it/s]\n"
     ]
    },
    {
     "name": "stdout",
     "output_type": "stream",
     "text": [
      "413\n"
     ]
    },
    {
     "name": "stderr",
     "output_type": "stream",
     "text": [
      " 59%|█████▉    | 456/773 [37:43<25:33,  4.84s/it]\n",
      "100%|██████████| 100/100 [00:00<00:00, 94872.29it/s]\n"
     ]
    },
    {
     "name": "stdout",
     "output_type": "stream",
     "text": [
      "414\n"
     ]
    },
    {
     "name": "stderr",
     "output_type": "stream",
     "text": [
      " 59%|█████▉    | 457/773 [37:52<32:37,  6.20s/it]\n",
      "100%|██████████| 100/100 [00:00<00:00, 88655.76it/s]\n",
      " 59%|█████▉    | 458/773 [37:53<23:30,  4.48s/it]"
     ]
    },
    {
     "name": "stdout",
     "output_type": "stream",
     "text": [
      "415\n"
     ]
    },
    {
     "name": "stderr",
     "output_type": "stream",
     "text": [
      "\n",
      "100%|██████████| 100/100 [00:00<00:00, 97270.50it/s]\n"
     ]
    },
    {
     "name": "stdout",
     "output_type": "stream",
     "text": [
      "416\n"
     ]
    },
    {
     "name": "stderr",
     "output_type": "stream",
     "text": [
      " 59%|█████▉    | 459/773 [38:01<29:13,  5.59s/it]\n",
      "100%|██████████| 100/100 [00:00<00:00, 93895.32it/s]\n"
     ]
    },
    {
     "name": "stdout",
     "output_type": "stream",
     "text": [
      "417\n"
     ]
    },
    {
     "name": "stderr",
     "output_type": "stream",
     "text": [
      " 60%|█████▉    | 460/773 [38:05<27:19,  5.24s/it]\n",
      "100%|██████████| 100/100 [00:00<00:00, 89373.62it/s]\n"
     ]
    },
    {
     "name": "stdout",
     "output_type": "stream",
     "text": [
      "418\n"
     ]
    },
    {
     "name": "stderr",
     "output_type": "stream",
     "text": [
      " 60%|█████▉    | 461/773 [38:10<25:43,  4.95s/it]\n",
      "100%|██████████| 100/100 [00:00<00:00, 92938.27it/s]\n"
     ]
    },
    {
     "name": "stdout",
     "output_type": "stream",
     "text": [
      "419\n"
     ]
    },
    {
     "name": "stderr",
     "output_type": "stream",
     "text": [
      " 60%|█████▉    | 462/773 [38:11<19:39,  3.79s/it]\n",
      "100%|██████████| 100/100 [00:00<00:00, 80258.40it/s]\n"
     ]
    },
    {
     "name": "stdout",
     "output_type": "stream",
     "text": [
      "420\n"
     ]
    },
    {
     "name": "stderr",
     "output_type": "stream",
     "text": [
      " 60%|█████▉    | 463/773 [38:19<25:50,  5.00s/it]\n",
      "100%|██████████| 100/100 [00:00<00:00, 78677.62it/s]\n"
     ]
    },
    {
     "name": "stdout",
     "output_type": "stream",
     "text": [
      "421\n"
     ]
    },
    {
     "name": "stderr",
     "output_type": "stream",
     "text": [
      " 60%|██████    | 464/773 [38:22<23:27,  4.55s/it]\n",
      "100%|██████████| 100/100 [00:00<00:00, 94275.21it/s]\n"
     ]
    },
    {
     "name": "stdout",
     "output_type": "stream",
     "text": [
      "422\n"
     ]
    },
    {
     "name": "stderr",
     "output_type": "stream",
     "text": [
      " 60%|██████    | 465/773 [38:30<28:01,  5.46s/it]\n",
      "100%|██████████| 100/100 [00:00<00:00, 107629.05it/s]\n"
     ]
    },
    {
     "name": "stdout",
     "output_type": "stream",
     "text": [
      "423\n"
     ]
    },
    {
     "name": "stderr",
     "output_type": "stream",
     "text": [
      " 60%|██████    | 466/773 [38:40<35:25,  6.92s/it]\n",
      "100%|██████████| 100/100 [00:00<00:00, 100007.25it/s]\n"
     ]
    },
    {
     "name": "stdout",
     "output_type": "stream",
     "text": [
      "424\n"
     ]
    },
    {
     "name": "stderr",
     "output_type": "stream",
     "text": [
      " 60%|██████    | 467/773 [38:47<35:05,  6.88s/it]\n",
      "100%|██████████| 100/100 [00:00<00:00, 102350.02it/s]\n"
     ]
    },
    {
     "name": "stdout",
     "output_type": "stream",
     "text": [
      "425\n"
     ]
    },
    {
     "name": "stderr",
     "output_type": "stream",
     "text": [
      " 61%|██████    | 468/773 [38:49<28:08,  5.54s/it]\n",
      "100%|██████████| 100/100 [00:00<00:00, 101729.42it/s]\n"
     ]
    },
    {
     "name": "stdout",
     "output_type": "stream",
     "text": [
      "426\n"
     ]
    },
    {
     "name": "stderr",
     "output_type": "stream",
     "text": [
      " 61%|██████    | 469/773 [38:58<33:06,  6.53s/it]\n",
      "100%|██████████| 100/100 [00:00<00:00, 98319.36it/s]\n"
     ]
    },
    {
     "name": "stdout",
     "output_type": "stream",
     "text": [
      "427\n"
     ]
    },
    {
     "name": "stderr",
     "output_type": "stream",
     "text": [
      " 61%|██████    | 470/773 [39:05<34:06,  6.75s/it]\n",
      "100%|██████████| 100/100 [00:00<00:00, 100174.44it/s]\n"
     ]
    },
    {
     "name": "stdout",
     "output_type": "stream",
     "text": [
      "428\n"
     ]
    },
    {
     "name": "stderr",
     "output_type": "stream",
     "text": [
      " 61%|██████    | 471/773 [39:11<32:32,  6.47s/it]\n",
      "100%|██████████| 100/100 [00:00<00:00, 125615.57it/s]\n"
     ]
    },
    {
     "name": "stdout",
     "output_type": "stream",
     "text": [
      "429\n"
     ]
    },
    {
     "name": "stderr",
     "output_type": "stream",
     "text": [
      " 61%|██████    | 472/773 [39:16<30:36,  6.10s/it]\n",
      "100%|██████████| 100/100 [00:00<00:00, 94594.14it/s]\n"
     ]
    },
    {
     "name": "stdout",
     "output_type": "stream",
     "text": [
      "430\n"
     ]
    },
    {
     "name": "stderr",
     "output_type": "stream",
     "text": [
      " 61%|██████    | 473/773 [39:24<32:07,  6.42s/it]\n",
      "100%|██████████| 100/100 [00:00<00:00, 83253.35it/s]\n"
     ]
    },
    {
     "name": "stdout",
     "output_type": "stream",
     "text": [
      "431\n"
     ]
    },
    {
     "name": "stderr",
     "output_type": "stream",
     "text": [
      " 61%|██████▏   | 474/773 [39:25<24:43,  4.96s/it]\n",
      "100%|██████████| 100/100 [00:00<00:00, 93123.98it/s]\n"
     ]
    },
    {
     "name": "stdout",
     "output_type": "stream",
     "text": [
      "432\n"
     ]
    },
    {
     "name": "stderr",
     "output_type": "stream",
     "text": [
      " 61%|██████▏   | 475/773 [39:30<24:11,  4.87s/it]\n",
      "100%|██████████| 100/100 [00:00<00:00, 101311.69it/s]\n"
     ]
    },
    {
     "name": "stdout",
     "output_type": "stream",
     "text": [
      "433\n"
     ]
    },
    {
     "name": "stderr",
     "output_type": "stream",
     "text": [
      " 62%|██████▏   | 476/773 [39:36<25:30,  5.15s/it]\n",
      "100%|██████████| 100/100 [00:00<00:00, 100007.25it/s]\n"
     ]
    },
    {
     "name": "stdout",
     "output_type": "stream",
     "text": [
      "434\n"
     ]
    },
    {
     "name": "stderr",
     "output_type": "stream",
     "text": [
      " 62%|██████▏   | 477/773 [39:37<19:54,  4.04s/it]\n",
      "100%|██████████| 100/100 [00:00<00:00, 82370.46it/s]\n"
     ]
    },
    {
     "name": "stdout",
     "output_type": "stream",
     "text": [
      "435\n"
     ]
    },
    {
     "name": "stderr",
     "output_type": "stream",
     "text": [
      " 62%|██████▏   | 478/773 [39:41<19:50,  4.04s/it]\n",
      "100%|██████████| 100/100 [00:00<00:00, 95957.54it/s]\n"
     ]
    },
    {
     "name": "stdout",
     "output_type": "stream",
     "text": [
      "436\n"
     ]
    },
    {
     "name": "stderr",
     "output_type": "stream",
     "text": [
      " 62%|██████▏   | 479/773 [39:42<15:30,  3.16s/it]\n",
      "100%|██████████| 100/100 [00:00<00:00, 86444.85it/s]\n"
     ]
    },
    {
     "name": "stdout",
     "output_type": "stream",
     "text": [
      "437\n"
     ]
    },
    {
     "name": "stderr",
     "output_type": "stream",
     "text": [
      " 62%|██████▏   | 480/773 [39:44<12:54,  2.64s/it]\n",
      "100%|██████████| 100/100 [00:00<00:00, 107298.64it/s]\n"
     ]
    },
    {
     "name": "stdout",
     "output_type": "stream",
     "text": [
      "438\n"
     ]
    },
    {
     "name": "stderr",
     "output_type": "stream",
     "text": [
      " 62%|██████▏   | 481/773 [39:45<11:11,  2.30s/it]\n",
      "100%|██████████| 100/100 [00:00<00:00, 92691.80it/s]\n"
     ]
    },
    {
     "name": "stdout",
     "output_type": "stream",
     "text": [
      "439\n"
     ]
    },
    {
     "name": "stderr",
     "output_type": "stream",
     "text": [
      " 62%|██████▏   | 482/773 [39:46<09:08,  1.89s/it]\n",
      "100%|██████████| 100/100 [00:00<00:00, 96265.87it/s]\n"
     ]
    },
    {
     "name": "stdout",
     "output_type": "stream",
     "text": [
      "440\n"
     ]
    },
    {
     "name": "stderr",
     "output_type": "stream",
     "text": [
      " 62%|██████▏   | 483/773 [39:47<07:44,  1.60s/it]\n",
      "100%|██████████| 100/100 [00:00<00:00, 92081.32it/s]\n"
     ]
    },
    {
     "name": "stdout",
     "output_type": "stream",
     "text": [
      "441\n"
     ]
    },
    {
     "name": "stderr",
     "output_type": "stream",
     "text": [
      " 63%|██████▎   | 484/773 [39:48<07:35,  1.58s/it]\n",
      "100%|██████████| 100/100 [00:00<00:00, 111848.11it/s]\n"
     ]
    },
    {
     "name": "stdout",
     "output_type": "stream",
     "text": [
      "442\n"
     ]
    },
    {
     "name": "stderr",
     "output_type": "stream",
     "text": [
      " 63%|██████▎   | 485/773 [39:51<08:43,  1.82s/it]\n",
      "100%|██████████| 100/100 [00:00<00:00, 66671.50it/s]\n"
     ]
    },
    {
     "name": "stdout",
     "output_type": "stream",
     "text": [
      "443\n"
     ]
    },
    {
     "name": "stderr",
     "output_type": "stream",
     "text": [
      " 63%|██████▎   | 486/773 [39:52<07:45,  1.62s/it]\n",
      "100%|██████████| 100/100 [00:00<00:00, 82305.81it/s]\n"
     ]
    },
    {
     "name": "stdout",
     "output_type": "stream",
     "text": [
      "444\n"
     ]
    },
    {
     "name": "stderr",
     "output_type": "stream",
     "text": [
      " 63%|██████▎   | 487/773 [39:57<13:13,  2.77s/it]\n",
      "100%|██████████| 100/100 [00:00<00:00, 99109.26it/s]\n"
     ]
    },
    {
     "name": "stdout",
     "output_type": "stream",
     "text": [
      "445\n"
     ]
    },
    {
     "name": "stderr",
     "output_type": "stream",
     "text": [
      " 63%|██████▎   | 488/773 [40:02<16:11,  3.41s/it]\n",
      "100%|██████████| 100/100 [00:00<00:00, 95585.78it/s]\n"
     ]
    },
    {
     "name": "stdout",
     "output_type": "stream",
     "text": [
      "446\n"
     ]
    },
    {
     "name": "stderr",
     "output_type": "stream",
     "text": [
      " 63%|██████▎   | 489/773 [40:08<19:27,  4.11s/it]\n",
      "100%|██████████| 100/100 [00:00<00:00, 92753.30it/s]\n"
     ]
    },
    {
     "name": "stdout",
     "output_type": "stream",
     "text": [
      "447\n"
     ]
    },
    {
     "name": "stderr",
     "output_type": "stream",
     "text": [
      " 63%|██████▎   | 490/773 [40:13<20:53,  4.43s/it]\n",
      "100%|██████████| 100/100 [00:00<00:00, 81490.27it/s]\n"
     ]
    },
    {
     "name": "stdout",
     "output_type": "stream",
     "text": [
      "448\n"
     ]
    },
    {
     "name": "stderr",
     "output_type": "stream",
     "text": [
      " 64%|██████▎   | 491/773 [40:17<20:28,  4.35s/it]\n",
      "100%|██████████| 100/100 [00:00<00:00, 77874.19it/s]\n"
     ]
    },
    {
     "name": "stdout",
     "output_type": "stream",
     "text": [
      "449\n"
     ]
    },
    {
     "name": "stderr",
     "output_type": "stream",
     "text": [
      " 64%|██████▎   | 492/773 [40:24<24:08,  5.15s/it]\n",
      "100%|██████████| 100/100 [00:00<00:00, 79227.50it/s]\n"
     ]
    },
    {
     "name": "stdout",
     "output_type": "stream",
     "text": [
      "450\n"
     ]
    },
    {
     "name": "stderr",
     "output_type": "stream",
     "text": [
      " 64%|██████▍   | 493/773 [40:28<21:11,  4.54s/it]\n",
      "100%|██████████| 100/100 [00:00<00:00, 87710.25it/s]\n"
     ]
    },
    {
     "name": "stdout",
     "output_type": "stream",
     "text": [
      "451\n"
     ]
    },
    {
     "name": "stderr",
     "output_type": "stream",
     "text": [
      " 64%|██████▍   | 494/773 [40:31<19:24,  4.17s/it]\n",
      "100%|██████████| 100/100 [00:00<00:00, 100534.61it/s]\n"
     ]
    },
    {
     "name": "stdout",
     "output_type": "stream",
     "text": [
      "452\n"
     ]
    },
    {
     "name": "stderr",
     "output_type": "stream",
     "text": [
      " 64%|██████▍   | 495/773 [40:39<25:02,  5.41s/it]\n",
      "100%|██████████| 100/100 [00:00<00:00, 104596.11it/s]\n"
     ]
    },
    {
     "name": "stdout",
     "output_type": "stream",
     "text": [
      "453\n"
     ]
    },
    {
     "name": "stderr",
     "output_type": "stream",
     "text": [
      " 64%|██████▍   | 496/773 [40:42<21:16,  4.61s/it]\n",
      "100%|██████████| 100/100 [00:00<00:00, 84528.50it/s]\n"
     ]
    },
    {
     "name": "stdout",
     "output_type": "stream",
     "text": [
      "454\n"
     ]
    },
    {
     "name": "stderr",
     "output_type": "stream",
     "text": [
      " 64%|██████▍   | 497/773 [40:48<23:16,  5.06s/it]\n",
      "100%|██████████| 100/100 [00:00<00:00, 90903.86it/s]\n"
     ]
    },
    {
     "name": "stdout",
     "output_type": "stream",
     "text": [
      "455\n"
     ]
    },
    {
     "name": "stderr",
     "output_type": "stream",
     "text": [
      " 64%|██████▍   | 498/773 [40:50<18:25,  4.02s/it]\n",
      "100%|██████████| 100/100 [00:00<00:00, 97860.57it/s]\n"
     ]
    },
    {
     "name": "stdout",
     "output_type": "stream",
     "text": [
      "456\n"
     ]
    },
    {
     "name": "stderr",
     "output_type": "stream",
     "text": [
      " 65%|██████▍   | 499/773 [40:56<21:15,  4.66s/it]\n",
      "100%|██████████| 100/100 [00:00<00:00, 91819.26it/s]\n"
     ]
    },
    {
     "name": "stdout",
     "output_type": "stream",
     "text": [
      "457\n"
     ]
    },
    {
     "name": "stderr",
     "output_type": "stream",
     "text": [
      " 65%|██████▍   | 500/773 [40:58<17:22,  3.82s/it]\n",
      "100%|██████████| 100/100 [00:00<00:00, 82989.79it/s]\n"
     ]
    },
    {
     "name": "stdout",
     "output_type": "stream",
     "text": [
      "458\n"
     ]
    },
    {
     "name": "stderr",
     "output_type": "stream",
     "text": [
      " 65%|██████▍   | 501/773 [41:08<26:01,  5.74s/it]\n",
      "100%|██████████| 100/100 [00:00<00:00, 89833.03it/s]\n"
     ]
    },
    {
     "name": "stdout",
     "output_type": "stream",
     "text": [
      "459\n"
     ]
    },
    {
     "name": "stderr",
     "output_type": "stream",
     "text": [
      " 65%|██████▍   | 502/773 [41:17<30:38,  6.78s/it]\n",
      "100%|██████████| 100/100 [00:00<00:00, 108548.24it/s]\n"
     ]
    },
    {
     "name": "stdout",
     "output_type": "stream",
     "text": [
      "460\n"
     ]
    },
    {
     "name": "stderr",
     "output_type": "stream",
     "text": [
      " 65%|██████▌   | 503/773 [41:27<34:53,  7.75s/it]\n",
      "100%|██████████| 100/100 [00:00<00:00, 110726.08it/s]\n"
     ]
    },
    {
     "name": "stdout",
     "output_type": "stream",
     "text": [
      "461\n"
     ]
    },
    {
     "name": "stderr",
     "output_type": "stream",
     "text": [
      " 65%|██████▌   | 504/773 [41:34<33:46,  7.53s/it]\n",
      "100%|██████████| 100/100 [00:00<00:00, 72315.59it/s]\n"
     ]
    },
    {
     "name": "stdout",
     "output_type": "stream",
     "text": [
      "462\n"
     ]
    },
    {
     "name": "stderr",
     "output_type": "stream",
     "text": [
      " 65%|██████▌   | 505/773 [41:35<24:33,  5.50s/it]\n",
      "100%|██████████| 100/100 [00:00<00:00, 118182.70it/s]\n"
     ]
    },
    {
     "name": "stdout",
     "output_type": "stream",
     "text": [
      "463\n"
     ]
    },
    {
     "name": "stderr",
     "output_type": "stream",
     "text": [
      " 65%|██████▌   | 506/773 [41:41<25:05,  5.64s/it]\n",
      "100%|██████████| 100/100 [00:00<00:00, 77830.84it/s]\n"
     ]
    },
    {
     "name": "stdout",
     "output_type": "stream",
     "text": [
      "464\n"
     ]
    },
    {
     "name": "stderr",
     "output_type": "stream",
     "text": [
      " 66%|██████▌   | 507/773 [41:42<18:33,  4.19s/it]\n",
      "100%|██████████| 100/100 [00:00<00:00, 87344.94it/s]\n"
     ]
    },
    {
     "name": "stdout",
     "output_type": "stream",
     "text": [
      "465\n"
     ]
    },
    {
     "name": "stderr",
     "output_type": "stream",
     "text": [
      " 66%|██████▌   | 508/773 [41:48<21:12,  4.80s/it]\n",
      "100%|██████████| 100/100 [00:00<00:00, 99226.50it/s]\n"
     ]
    },
    {
     "name": "stdout",
     "output_type": "stream",
     "text": [
      "466\n"
     ]
    },
    {
     "name": "stderr",
     "output_type": "stream",
     "text": [
      " 66%|██████▌   | 509/773 [41:49<15:58,  3.63s/it]\n",
      "100%|██████████| 100/100 [00:00<00:00, 93727.46it/s]\n"
     ]
    },
    {
     "name": "stdout",
     "output_type": "stream",
     "text": [
      "467\n"
     ]
    },
    {
     "name": "stderr",
     "output_type": "stream",
     "text": [
      " 66%|██████▋   | 513/773 [41:58<08:42,  2.01s/it]\n",
      "100%|██████████| 100/100 [00:00<00:00, 83203.81it/s]\n"
     ]
    },
    {
     "name": "stdout",
     "output_type": "stream",
     "text": [
      "468\n"
     ]
    },
    {
     "name": "stderr",
     "output_type": "stream",
     "text": [
      " 66%|██████▋   | 514/773 [42:05<15:07,  3.50s/it]\n",
      "100%|██████████| 100/100 [00:00<00:00, 101116.30it/s]\n"
     ]
    },
    {
     "name": "stdout",
     "output_type": "stream",
     "text": [
      "469\n"
     ]
    },
    {
     "name": "stderr",
     "output_type": "stream",
     "text": [
      " 67%|██████▋   | 515/773 [42:13<20:59,  4.88s/it]\n",
      "100%|██████████| 100/100 [00:00<00:00, 93979.48it/s]\n"
     ]
    },
    {
     "name": "stdout",
     "output_type": "stream",
     "text": [
      "470\n"
     ]
    },
    {
     "name": "stderr",
     "output_type": "stream",
     "text": [
      " 67%|██████▋   | 516/773 [42:14<16:42,  3.90s/it]\n",
      "100%|██████████| 100/100 [00:00<00:00, 102978.25it/s]\n"
     ]
    },
    {
     "name": "stdout",
     "output_type": "stream",
     "text": [
      "471\n"
     ]
    },
    {
     "name": "stderr",
     "output_type": "stream",
     "text": [
      " 67%|██████▋   | 517/773 [42:25<24:34,  5.76s/it]\n",
      "100%|██████████| 100/100 [00:00<00:00, 98829.03it/s]\n"
     ]
    },
    {
     "name": "stdout",
     "output_type": "stream",
     "text": [
      "472\n"
     ]
    },
    {
     "name": "stderr",
     "output_type": "stream",
     "text": [
      " 67%|██████▋   | 518/773 [42:31<25:38,  6.03s/it]\n",
      "100%|██████████| 100/100 [00:00<00:00, 72830.42it/s]\n"
     ]
    },
    {
     "name": "stdout",
     "output_type": "stream",
     "text": [
      "473\n"
     ]
    },
    {
     "name": "stderr",
     "output_type": "stream",
     "text": [
      " 67%|██████▋   | 519/773 [42:37<24:54,  5.88s/it]\n",
      "100%|██████████| 100/100 [00:00<00:00, 66323.59it/s]\n"
     ]
    },
    {
     "name": "stdout",
     "output_type": "stream",
     "text": [
      "474\n"
     ]
    },
    {
     "name": "stderr",
     "output_type": "stream",
     "text": [
      " 67%|██████▋   | 520/773 [42:40<21:24,  5.08s/it]\n",
      "100%|██████████| 100/100 [00:00<00:00, 78004.54it/s]\n"
     ]
    },
    {
     "name": "stdout",
     "output_type": "stream",
     "text": [
      "475\n"
     ]
    },
    {
     "name": "stderr",
     "output_type": "stream",
     "text": [
      " 67%|██████▋   | 521/773 [42:41<16:38,  3.96s/it]\n",
      "100%|██████████| 100/100 [00:00<00:00, 75586.66it/s]\n"
     ]
    },
    {
     "name": "stdout",
     "output_type": "stream",
     "text": [
      "476\n"
     ]
    },
    {
     "name": "stderr",
     "output_type": "stream",
     "text": [
      " 68%|██████▊   | 522/773 [42:44<15:05,  3.61s/it]\n",
      "100%|██████████| 100/100 [00:00<00:00, 58100.90it/s]\n"
     ]
    },
    {
     "name": "stdout",
     "output_type": "stream",
     "text": [
      "477\n"
     ]
    },
    {
     "name": "stderr",
     "output_type": "stream",
     "text": [
      " 68%|██████▊   | 523/773 [42:49<17:03,  4.09s/it]\n",
      "100%|██████████| 100/100 [00:00<00:00, 69442.12it/s]\n"
     ]
    },
    {
     "name": "stdout",
     "output_type": "stream",
     "text": [
      "478\n"
     ]
    },
    {
     "name": "stderr",
     "output_type": "stream",
     "text": [
      " 68%|██████▊   | 524/773 [42:52<15:37,  3.76s/it]\n",
      "100%|██████████| 100/100 [00:00<00:00, 122712.23it/s]\n"
     ]
    },
    {
     "name": "stdout",
     "output_type": "stream",
     "text": [
      "479\n"
     ]
    },
    {
     "name": "stderr",
     "output_type": "stream",
     "text": [
      " 68%|██████▊   | 525/773 [42:55<14:11,  3.43s/it]\n",
      "100%|██████████| 100/100 [00:00<00:00, 68871.99it/s]\n"
     ]
    },
    {
     "name": "stdout",
     "output_type": "stream",
     "text": [
      "480\n"
     ]
    },
    {
     "name": "stderr",
     "output_type": "stream",
     "text": [
      " 68%|██████▊   | 526/773 [42:57<12:29,  3.04s/it]\n",
      "100%|██████████| 100/100 [00:00<00:00, 104051.20it/s]\n"
     ]
    },
    {
     "name": "stdout",
     "output_type": "stream",
     "text": [
      "481\n"
     ]
    },
    {
     "name": "stderr",
     "output_type": "stream",
     "text": [
      " 68%|██████▊   | 527/773 [42:59<11:42,  2.85s/it]\n",
      "100%|██████████| 100/100 [00:00<00:00, 91638.72it/s]\n"
     ]
    },
    {
     "name": "stdout",
     "output_type": "stream",
     "text": [
      "482\n"
     ]
    },
    {
     "name": "stderr",
     "output_type": "stream",
     "text": [
      " 68%|██████▊   | 528/773 [43:03<12:44,  3.12s/it]\n",
      "100%|██████████| 100/100 [00:00<00:00, 70232.82it/s]\n"
     ]
    },
    {
     "name": "stdout",
     "output_type": "stream",
     "text": [
      "483\n"
     ]
    },
    {
     "name": "stderr",
     "output_type": "stream",
     "text": [
      " 68%|██████▊   | 529/773 [43:06<12:32,  3.08s/it]\n",
      "100%|██████████| 100/100 [00:00<00:00, 93455.97it/s]\n"
     ]
    },
    {
     "name": "stdout",
     "output_type": "stream",
     "text": [
      "484\n"
     ]
    },
    {
     "name": "stderr",
     "output_type": "stream",
     "text": [
      " 69%|██████▊   | 530/773 [43:15<19:07,  4.72s/it]\n",
      "100%|██████████| 100/100 [00:00<00:00, 56565.12it/s]\n",
      " 69%|██████▊   | 531/773 [43:15<13:50,  3.43s/it]"
     ]
    },
    {
     "name": "stdout",
     "output_type": "stream",
     "text": [
      "485\n"
     ]
    },
    {
     "name": "stderr",
     "output_type": "stream",
     "text": [
      "\n",
      "100%|██████████| 100/100 [00:00<00:00, 74117.41it/s]\n"
     ]
    },
    {
     "name": "stdout",
     "output_type": "stream",
     "text": [
      "486\n"
     ]
    },
    {
     "name": "stderr",
     "output_type": "stream",
     "text": [
      " 69%|██████▉   | 532/773 [43:20<15:01,  3.74s/it]\n",
      "100%|██████████| 100/100 [00:00<00:00, 51150.05it/s]\n"
     ]
    },
    {
     "name": "stdout",
     "output_type": "stream",
     "text": [
      "487\n"
     ]
    },
    {
     "name": "stderr",
     "output_type": "stream",
     "text": [
      " 69%|██████▉   | 533/773 [43:30<23:00,  5.75s/it]\n",
      "100%|██████████| 100/100 [00:00<00:00, 50509.44it/s]\n"
     ]
    },
    {
     "name": "stdout",
     "output_type": "stream",
     "text": [
      "488\n"
     ]
    },
    {
     "name": "stderr",
     "output_type": "stream",
     "text": [
      " 69%|██████▉   | 534/773 [43:38<25:52,  6.49s/it]\n",
      "100%|██████████| 100/100 [00:00<00:00, 73262.95it/s]\n"
     ]
    },
    {
     "name": "stdout",
     "output_type": "stream",
     "text": [
      "489\n"
     ]
    },
    {
     "name": "stderr",
     "output_type": "stream",
     "text": [
      " 69%|██████▉   | 535/773 [43:40<20:06,  5.07s/it]\n",
      "100%|██████████| 100/100 [00:00<00:00, 52324.15it/s]\n"
     ]
    },
    {
     "name": "stdout",
     "output_type": "stream",
     "text": [
      "490\n"
     ]
    },
    {
     "name": "stderr",
     "output_type": "stream",
     "text": [
      " 69%|██████▉   | 536/773 [43:48<22:58,  5.82s/it]\n",
      "100%|██████████| 100/100 [00:00<00:00, 96776.74it/s]\n"
     ]
    },
    {
     "name": "stdout",
     "output_type": "stream",
     "text": [
      "491\n"
     ]
    },
    {
     "name": "stderr",
     "output_type": "stream",
     "text": [
      " 69%|██████▉   | 537/773 [43:56<25:33,  6.50s/it]\n",
      "100%|██████████| 100/100 [00:00<00:00, 98527.23it/s]\n"
     ]
    },
    {
     "name": "stdout",
     "output_type": "stream",
     "text": [
      "492\n"
     ]
    },
    {
     "name": "stderr",
     "output_type": "stream",
     "text": [
      " 70%|██████▉   | 538/773 [44:00<22:57,  5.86s/it]\n",
      "100%|██████████| 100/100 [00:00<00:00, 95216.89it/s]\n"
     ]
    },
    {
     "name": "stdout",
     "output_type": "stream",
     "text": [
      "493\n"
     ]
    },
    {
     "name": "stderr",
     "output_type": "stream",
     "text": [
      " 70%|██████▉   | 539/773 [44:08<24:54,  6.39s/it]\n",
      "100%|██████████| 100/100 [00:00<00:00, 95498.72it/s]\n"
     ]
    },
    {
     "name": "stdout",
     "output_type": "stream",
     "text": [
      "494\n"
     ]
    },
    {
     "name": "stderr",
     "output_type": "stream",
     "text": [
      " 70%|██████▉   | 540/773 [44:12<21:56,  5.65s/it]\n",
      "100%|██████████| 100/100 [00:00<00:00, 37650.84it/s]\n"
     ]
    },
    {
     "name": "stdout",
     "output_type": "stream",
     "text": [
      "495\n"
     ]
    },
    {
     "name": "stderr",
     "output_type": "stream",
     "text": [
      " 70%|██████▉   | 541/773 [44:15<18:53,  4.89s/it]\n",
      "100%|██████████| 100/100 [00:00<00:00, 59841.69it/s]\n"
     ]
    },
    {
     "name": "stdout",
     "output_type": "stream",
     "text": [
      "496\n"
     ]
    },
    {
     "name": "stderr",
     "output_type": "stream",
     "text": [
      " 70%|███████   | 542/773 [44:20<19:30,  5.07s/it]\n",
      "100%|██████████| 100/100 [00:00<00:00, 91558.70it/s]\n"
     ]
    },
    {
     "name": "stdout",
     "output_type": "stream",
     "text": [
      "497\n"
     ]
    },
    {
     "name": "stderr",
     "output_type": "stream",
     "text": [
      " 70%|███████   | 543/773 [44:25<18:51,  4.92s/it]\n",
      "100%|██████████| 100/100 [00:00<00:00, 75983.77it/s]\n"
     ]
    },
    {
     "name": "stdout",
     "output_type": "stream",
     "text": [
      "498\n"
     ]
    },
    {
     "name": "stderr",
     "output_type": "stream",
     "text": [
      " 70%|███████   | 544/773 [44:26<14:47,  3.87s/it]\n",
      "100%|██████████| 100/100 [00:00<00:00, 97112.85it/s]\n"
     ]
    },
    {
     "name": "stdout",
     "output_type": "stream",
     "text": [
      "499\n"
     ]
    },
    {
     "name": "stderr",
     "output_type": "stream",
     "text": [
      " 71%|███████   | 545/773 [44:37<22:03,  5.81s/it]\n",
      "100%|██████████| 100/100 [00:00<00:00, 77643.54it/s]\n"
     ]
    },
    {
     "name": "stdout",
     "output_type": "stream",
     "text": [
      "500\n"
     ]
    },
    {
     "name": "stderr",
     "output_type": "stream",
     "text": [
      " 71%|███████   | 546/773 [44:45<24:36,  6.50s/it]\n",
      "100%|██████████| 100/100 [00:00<00:00, 53220.45it/s]\n"
     ]
    },
    {
     "name": "stdout",
     "output_type": "stream",
     "text": [
      "501\n"
     ]
    },
    {
     "name": "stderr",
     "output_type": "stream",
     "text": [
      " 71%|███████   | 547/773 [44:51<24:03,  6.39s/it]\n",
      "100%|██████████| 100/100 [00:00<00:00, 67573.77it/s]\n"
     ]
    },
    {
     "name": "stdout",
     "output_type": "stream",
     "text": [
      "502\n"
     ]
    },
    {
     "name": "stderr",
     "output_type": "stream",
     "text": [
      " 71%|███████   | 548/773 [44:57<23:18,  6.22s/it]\n",
      "100%|██████████| 100/100 [00:00<00:00, 77701.07it/s]\n"
     ]
    },
    {
     "name": "stdout",
     "output_type": "stream",
     "text": [
      "503\n"
     ]
    },
    {
     "name": "stderr",
     "output_type": "stream",
     "text": [
      " 71%|███████   | 549/773 [45:03<23:18,  6.24s/it]\n",
      "100%|██████████| 100/100 [00:00<00:00, 57964.40it/s]\n"
     ]
    },
    {
     "name": "stdout",
     "output_type": "stream",
     "text": [
      "504\n"
     ]
    },
    {
     "name": "stderr",
     "output_type": "stream",
     "text": [
      " 71%|███████   | 550/773 [45:12<26:50,  7.22s/it]\n",
      "100%|██████████| 100/100 [00:00<00:00, 37369.07it/s]\n"
     ]
    },
    {
     "name": "stdout",
     "output_type": "stream",
     "text": [
      "505\n"
     ]
    },
    {
     "name": "stderr",
     "output_type": "stream",
     "text": [
      " 71%|███████▏  | 551/773 [45:20<26:52,  7.26s/it]\n",
      "100%|██████████| 100/100 [00:00<00:00, 87728.59it/s]\n"
     ]
    },
    {
     "name": "stdout",
     "output_type": "stream",
     "text": [
      "506\n"
     ]
    },
    {
     "name": "stderr",
     "output_type": "stream",
     "text": [
      " 71%|███████▏  | 552/773 [45:29<28:55,  7.85s/it]\n",
      "100%|██████████| 100/100 [00:00<00:00, 102776.38it/s]\n"
     ]
    },
    {
     "name": "stdout",
     "output_type": "stream",
     "text": [
      "507\n"
     ]
    },
    {
     "name": "stderr",
     "output_type": "stream",
     "text": [
      " 72%|███████▏  | 553/773 [45:38<29:43,  8.11s/it]\n",
      "100%|██████████| 100/100 [00:00<00:00, 77801.97it/s]\n"
     ]
    },
    {
     "name": "stdout",
     "output_type": "stream",
     "text": [
      "508\n"
     ]
    },
    {
     "name": "stderr",
     "output_type": "stream",
     "text": [
      " 72%|███████▏  | 554/773 [45:43<26:23,  7.23s/it]\n",
      "100%|██████████| 100/100 [00:00<00:00, 69835.23it/s]\n"
     ]
    },
    {
     "name": "stdout",
     "output_type": "stream",
     "text": [
      "509\n"
     ]
    },
    {
     "name": "stderr",
     "output_type": "stream",
     "text": [
      " 72%|███████▏  | 555/773 [45:49<24:55,  6.86s/it]\n",
      "100%|██████████| 100/100 [00:00<00:00, 66093.67it/s]\n"
     ]
    },
    {
     "name": "stdout",
     "output_type": "stream",
     "text": [
      "510\n"
     ]
    },
    {
     "name": "stderr",
     "output_type": "stream",
     "text": [
      " 72%|███████▏  | 556/773 [45:57<25:37,  7.09s/it]\n",
      "100%|██████████| 100/100 [00:00<00:00, 61392.04it/s]\n"
     ]
    },
    {
     "name": "stdout",
     "output_type": "stream",
     "text": [
      "511\n"
     ]
    },
    {
     "name": "stderr",
     "output_type": "stream",
     "text": [
      " 72%|███████▏  | 557/773 [46:04<25:56,  7.21s/it]\n",
      "100%|██████████| 100/100 [00:00<00:00, 84647.91it/s]\n"
     ]
    },
    {
     "name": "stdout",
     "output_type": "stream",
     "text": [
      "512\n"
     ]
    },
    {
     "name": "stderr",
     "output_type": "stream",
     "text": [
      " 72%|███████▏  | 558/773 [46:14<29:18,  8.18s/it]\n",
      "100%|██████████| 100/100 [00:00<00:00, 88115.63it/s]\n"
     ]
    },
    {
     "name": "stdout",
     "output_type": "stream",
     "text": [
      "513\n"
     ]
    },
    {
     "name": "stderr",
     "output_type": "stream",
     "text": [
      " 72%|███████▏  | 559/773 [46:21<27:12,  7.63s/it]\n",
      "100%|██████████| 100/100 [00:00<00:00, 87036.81it/s]\n"
     ]
    },
    {
     "name": "stdout",
     "output_type": "stream",
     "text": [
      "514\n"
     ]
    },
    {
     "name": "stderr",
     "output_type": "stream",
     "text": [
      " 72%|███████▏  | 560/773 [46:26<24:33,  6.92s/it]\n",
      "100%|██████████| 100/100 [00:00<00:00, 81490.27it/s]\n"
     ]
    },
    {
     "name": "stdout",
     "output_type": "stream",
     "text": [
      "515\n"
     ]
    },
    {
     "name": "stderr",
     "output_type": "stream",
     "text": [
      " 73%|███████▎  | 561/773 [46:27<18:13,  5.16s/it]\n",
      "100%|██████████| 100/100 [00:00<00:00, 83902.86it/s]\n"
     ]
    },
    {
     "name": "stdout",
     "output_type": "stream",
     "text": [
      "516\n"
     ]
    },
    {
     "name": "stderr",
     "output_type": "stream",
     "text": [
      " 73%|███████▎  | 562/773 [46:33<19:22,  5.51s/it]\n",
      "100%|██████████| 100/100 [00:00<00:00, 74724.82it/s]\n"
     ]
    },
    {
     "name": "stdout",
     "output_type": "stream",
     "text": [
      "517\n"
     ]
    },
    {
     "name": "stderr",
     "output_type": "stream",
     "text": [
      " 73%|███████▎  | 563/773 [46:40<20:17,  5.80s/it]\n",
      "100%|██████████| 100/100 [00:00<00:00, 73584.28it/s]\n"
     ]
    },
    {
     "name": "stdout",
     "output_type": "stream",
     "text": [
      "518\n"
     ]
    },
    {
     "name": "stderr",
     "output_type": "stream",
     "text": [
      " 73%|███████▎  | 564/773 [46:45<19:47,  5.68s/it]\n",
      "100%|██████████| 100/100 [00:00<00:00, 101213.90it/s]\n"
     ]
    },
    {
     "name": "stdout",
     "output_type": "stream",
     "text": [
      "519\n"
     ]
    },
    {
     "name": "stderr",
     "output_type": "stream",
     "text": [
      " 73%|███████▎  | 565/773 [46:47<15:52,  4.58s/it]\n",
      "100%|██████████| 100/100 [00:00<00:00, 69488.14it/s]\n"
     ]
    },
    {
     "name": "stdout",
     "output_type": "stream",
     "text": [
      "520\n"
     ]
    },
    {
     "name": "stderr",
     "output_type": "stream",
     "text": [
      " 73%|███████▎  | 566/773 [46:55<18:29,  5.36s/it]\n",
      "100%|██████████| 100/100 [00:00<00:00, 80381.45it/s]\n"
     ]
    },
    {
     "name": "stdout",
     "output_type": "stream",
     "text": [
      "521\n"
     ]
    },
    {
     "name": "stderr",
     "output_type": "stream",
     "text": [
      " 73%|███████▎  | 567/773 [46:59<17:16,  5.03s/it]\n",
      "100%|██████████| 100/100 [00:00<00:00, 82160.71it/s]\n"
     ]
    },
    {
     "name": "stdout",
     "output_type": "stream",
     "text": [
      "522\n"
     ]
    },
    {
     "name": "stderr",
     "output_type": "stream",
     "text": [
      " 74%|███████▎  | 570/773 [47:06<09:41,  2.87s/it]\n",
      "100%|██████████| 100/100 [00:00<00:00, 91839.37it/s]\n"
     ]
    },
    {
     "name": "stdout",
     "output_type": "stream",
     "text": [
      "523\n"
     ]
    },
    {
     "name": "stderr",
     "output_type": "stream",
     "text": [
      " 74%|███████▍  | 571/773 [47:14<14:39,  4.35s/it]\n",
      "100%|██████████| 100/100 [00:00<00:00, 85042.66it/s]\n"
     ]
    },
    {
     "name": "stdout",
     "output_type": "stream",
     "text": [
      "524\n"
     ]
    },
    {
     "name": "stderr",
     "output_type": "stream",
     "text": [
      " 74%|███████▍  | 572/773 [47:16<12:26,  3.71s/it]\n",
      "100%|██████████| 100/100 [00:00<00:00, 97000.56it/s]\n"
     ]
    },
    {
     "name": "stdout",
     "output_type": "stream",
     "text": [
      "525\n"
     ]
    },
    {
     "name": "stderr",
     "output_type": "stream",
     "text": [
      " 74%|███████▍  | 573/773 [47:25<17:51,  5.36s/it]\n",
      "100%|██████████| 100/100 [00:00<00:00, 77271.63it/s]\n"
     ]
    },
    {
     "name": "stdout",
     "output_type": "stream",
     "text": [
      "526\n"
     ]
    },
    {
     "name": "stderr",
     "output_type": "stream",
     "text": [
      " 74%|███████▍  | 574/773 [47:31<18:33,  5.59s/it]\n",
      "100%|██████████| 100/100 [00:00<00:00, 76917.37it/s]\n"
     ]
    },
    {
     "name": "stdout",
     "output_type": "stream",
     "text": [
      "527\n"
     ]
    },
    {
     "name": "stderr",
     "output_type": "stream",
     "text": [
      " 74%|███████▍  | 575/773 [47:35<16:27,  4.99s/it]\n",
      "100%|██████████| 100/100 [00:00<00:00, 83137.84it/s]\n"
     ]
    },
    {
     "name": "stdout",
     "output_type": "stream",
     "text": [
      "528\n"
     ]
    },
    {
     "name": "stderr",
     "output_type": "stream",
     "text": [
      " 75%|███████▍  | 576/773 [47:39<15:35,  4.75s/it]\n",
      "100%|██████████| 100/100 [00:00<00:00, 65710.54it/s]\n"
     ]
    },
    {
     "name": "stdout",
     "output_type": "stream",
     "text": [
      "529\n"
     ]
    },
    {
     "name": "stderr",
     "output_type": "stream",
     "text": [
      " 75%|███████▍  | 578/773 [47:49<14:37,  4.50s/it]\n",
      "100%|██████████| 100/100 [00:00<00:00, 97655.51it/s]\n"
     ]
    },
    {
     "name": "stdout",
     "output_type": "stream",
     "text": [
      "530\n"
     ]
    },
    {
     "name": "stderr",
     "output_type": "stream",
     "text": [
      " 75%|███████▍  | 579/773 [47:56<16:32,  5.12s/it]\n",
      "100%|██████████| 100/100 [00:00<00:00, 94063.78it/s]\n"
     ]
    },
    {
     "name": "stdout",
     "output_type": "stream",
     "text": [
      "531\n"
     ]
    },
    {
     "name": "stderr",
     "output_type": "stream",
     "text": [
      " 75%|███████▌  | 580/773 [48:00<15:26,  4.80s/it]\n",
      "100%|██████████| 100/100 [00:00<00:00, 96910.91it/s]\n"
     ]
    },
    {
     "name": "stdout",
     "output_type": "stream",
     "text": [
      "532\n"
     ]
    },
    {
     "name": "stderr",
     "output_type": "stream",
     "text": [
      " 75%|███████▌  | 581/773 [48:08<18:09,  5.67s/it]\n",
      "100%|██████████| 100/100 [00:00<00:00, 77271.63it/s]\n"
     ]
    },
    {
     "name": "stdout",
     "output_type": "stream",
     "text": [
      "533\n"
     ]
    },
    {
     "name": "stderr",
     "output_type": "stream",
     "text": [
      " 75%|███████▌  | 582/773 [48:09<14:17,  4.49s/it]\n",
      "100%|██████████| 100/100 [00:00<00:00, 107408.55it/s]\n"
     ]
    },
    {
     "name": "stdout",
     "output_type": "stream",
     "text": [
      "534\n"
     ]
    },
    {
     "name": "stderr",
     "output_type": "stream",
     "text": [
      " 75%|███████▌  | 583/773 [48:13<13:36,  4.30s/it]\n",
      "100%|██████████| 100/100 [00:00<00:00, 64766.89it/s]\n"
     ]
    },
    {
     "name": "stdout",
     "output_type": "stream",
     "text": [
      "535\n"
     ]
    },
    {
     "name": "stderr",
     "output_type": "stream",
     "text": [
      " 76%|███████▌  | 584/773 [48:19<15:13,  4.83s/it]\n",
      "100%|██████████| 100/100 [00:00<00:00, 83385.77it/s]\n"
     ]
    },
    {
     "name": "stdout",
     "output_type": "stream",
     "text": [
      "536\n"
     ]
    },
    {
     "name": "stderr",
     "output_type": "stream",
     "text": [
      " 76%|███████▌  | 585/773 [48:20<11:41,  3.73s/it]\n",
      "100%|██████████| 100/100 [00:00<00:00, 97837.74it/s]\n"
     ]
    },
    {
     "name": "stdout",
     "output_type": "stream",
     "text": [
      "537\n"
     ]
    },
    {
     "name": "stderr",
     "output_type": "stream",
     "text": [
      " 76%|███████▌  | 586/773 [48:27<14:18,  4.59s/it]\n",
      "100%|██████████| 100/100 [00:00<00:00, 68255.56it/s]\n"
     ]
    },
    {
     "name": "stdout",
     "output_type": "stream",
     "text": [
      "538\n"
     ]
    },
    {
     "name": "stderr",
     "output_type": "stream",
     "text": [
      " 76%|███████▌  | 587/773 [48:34<16:55,  5.46s/it]\n",
      "100%|██████████| 100/100 [00:00<00:00, 71017.68it/s]\n"
     ]
    },
    {
     "name": "stdout",
     "output_type": "stream",
     "text": [
      "539\n"
     ]
    },
    {
     "name": "stderr",
     "output_type": "stream",
     "text": [
      " 76%|███████▌  | 588/773 [48:41<18:12,  5.90s/it]\n",
      "100%|██████████| 100/100 [00:00<00:00, 75805.24it/s]\n"
     ]
    },
    {
     "name": "stdout",
     "output_type": "stream",
     "text": [
      "540\n"
     ]
    },
    {
     "name": "stderr",
     "output_type": "stream",
     "text": [
      " 76%|███████▌  | 589/773 [48:44<15:13,  4.96s/it]\n",
      "100%|██████████| 100/100 [00:00<00:00, 74314.39it/s]\n"
     ]
    },
    {
     "name": "stdout",
     "output_type": "stream",
     "text": [
      "541\n"
     ]
    },
    {
     "name": "stderr",
     "output_type": "stream",
     "text": [
      " 76%|███████▋  | 590/773 [48:48<13:45,  4.51s/it]\n",
      "100%|██████████| 100/100 [00:00<00:00, 88562.16it/s]\n"
     ]
    },
    {
     "name": "stdout",
     "output_type": "stream",
     "text": [
      "542\n"
     ]
    },
    {
     "name": "stderr",
     "output_type": "stream",
     "text": [
      " 76%|███████▋  | 591/773 [48:50<11:16,  3.71s/it]\n",
      "100%|██████████| 100/100 [00:00<00:00, 90083.85it/s]\n"
     ]
    },
    {
     "name": "stdout",
     "output_type": "stream",
     "text": [
      "543\n"
     ]
    },
    {
     "name": "stderr",
     "output_type": "stream",
     "text": [
      " 77%|███████▋  | 592/773 [48:55<13:14,  4.39s/it]\n",
      "100%|██████████| 100/100 [00:00<00:00, 96332.20it/s]\n"
     ]
    },
    {
     "name": "stdout",
     "output_type": "stream",
     "text": [
      "544\n"
     ]
    },
    {
     "name": "stderr",
     "output_type": "stream",
     "text": [
      " 77%|███████▋  | 593/773 [49:02<14:54,  4.97s/it]\n",
      "100%|██████████| 100/100 [00:00<00:00, 94594.14it/s]\n"
     ]
    },
    {
     "name": "stdout",
     "output_type": "stream",
     "text": [
      "545\n"
     ]
    },
    {
     "name": "stderr",
     "output_type": "stream",
     "text": [
      " 77%|███████▋  | 594/773 [49:12<19:14,  6.45s/it]\n",
      "100%|██████████| 100/100 [00:00<00:00, 88956.61it/s]\n"
     ]
    },
    {
     "name": "stdout",
     "output_type": "stream",
     "text": [
      "546\n"
     ]
    },
    {
     "name": "stderr",
     "output_type": "stream",
     "text": [
      " 77%|███████▋  | 595/773 [49:17<18:04,  6.09s/it]\n",
      "100%|██████████| 100/100 [00:00<00:00, 83336.06it/s]\n"
     ]
    },
    {
     "name": "stdout",
     "output_type": "stream",
     "text": [
      "547\n"
     ]
    },
    {
     "name": "stderr",
     "output_type": "stream",
     "text": [
      " 77%|███████▋  | 596/773 [49:26<20:56,  7.10s/it]\n",
      "100%|██████████| 100/100 [00:00<00:00, 71575.15it/s]\n"
     ]
    },
    {
     "name": "stdout",
     "output_type": "stream",
     "text": [
      "548\n"
     ]
    },
    {
     "name": "stderr",
     "output_type": "stream",
     "text": [
      " 77%|███████▋  | 597/773 [49:34<20:55,  7.13s/it]\n",
      "100%|██████████| 100/100 [00:00<00:00, 53800.72it/s]\n"
     ]
    },
    {
     "name": "stdout",
     "output_type": "stream",
     "text": [
      "549\n"
     ]
    },
    {
     "name": "stderr",
     "output_type": "stream",
     "text": [
      " 77%|███████▋  | 598/773 [49:43<22:58,  7.88s/it]\n",
      "100%|██████████| 100/100 [00:00<00:00, 73687.70it/s]\n"
     ]
    },
    {
     "name": "stdout",
     "output_type": "stream",
     "text": [
      "550\n"
     ]
    },
    {
     "name": "stderr",
     "output_type": "stream",
     "text": [
      " 77%|███████▋  | 599/773 [49:45<17:54,  6.17s/it]\n",
      "100%|██████████| 100/100 [00:00<00:00, 63252.96it/s]\n"
     ]
    },
    {
     "name": "stdout",
     "output_type": "stream",
     "text": [
      "<a href=\"/item/18278074\"><img data-original=\"//s.list.am/r/989/64566989.webp\" src=\"\"/><div><div>Nissan March հետչբեք, 1.2 լ, 2004 թ.</div><div class=\"at\">Մեծամոր, 2004 թ., 200,000 կմ, Բենզին</div><div class=\"d\">Հինգշաբթի, Հոկտեմբեր 06, 2022 14:51</div></div></a>\n",
      "551\n"
     ]
    },
    {
     "name": "stderr",
     "output_type": "stream",
     "text": [
      " 78%|███████▊  | 602/773 [49:55<10:17,  3.61s/it]\n",
      "100%|██████████| 100/100 [00:00<00:00, 91002.47it/s]\n"
     ]
    },
    {
     "name": "stdout",
     "output_type": "stream",
     "text": [
      "552\n"
     ]
    },
    {
     "name": "stderr",
     "output_type": "stream",
     "text": [
      " 78%|███████▊  | 603/773 [50:05<15:49,  5.59s/it]\n",
      "100%|██████████| 100/100 [00:00<00:00, 58719.08it/s]\n"
     ]
    },
    {
     "name": "stdout",
     "output_type": "stream",
     "text": [
      "553\n"
     ]
    },
    {
     "name": "stderr",
     "output_type": "stream",
     "text": [
      " 78%|███████▊  | 604/773 [50:14<18:48,  6.68s/it]\n",
      "100%|██████████| 100/100 [00:00<00:00, 84956.53it/s]\n"
     ]
    },
    {
     "name": "stdout",
     "output_type": "stream",
     "text": [
      "554\n"
     ]
    },
    {
     "name": "stderr",
     "output_type": "stream",
     "text": [
      " 78%|███████▊  | 605/773 [50:23<20:29,  7.32s/it]\n",
      "100%|██████████| 100/100 [00:00<00:00, 79107.96it/s]\n"
     ]
    },
    {
     "name": "stdout",
     "output_type": "stream",
     "text": [
      "<a href=\"/item/17209386\"><img data-original=\"//s.list.am/r/475/58921475.webp\" src=\"\"/><div><div>Land Rover Range Rover Sport, 4.4 լ, լիաքարշ, 2005 թ., գազ</div><div class=\"at\">Աջափնյակ, 2005 թ., 220,000 կմ, Բենզին</div><div class=\"d\">Հինգշաբթի, Հոկտեմբեր 06, 2022 14:52</div></div></a>\n",
      "555\n"
     ]
    },
    {
     "name": "stderr",
     "output_type": "stream",
     "text": [
      " 78%|███████▊  | 606/773 [50:32<21:36,  7.76s/it]\n",
      "100%|██████████| 100/100 [00:00<00:00, 96243.78it/s]\n"
     ]
    },
    {
     "name": "stdout",
     "output_type": "stream",
     "text": [
      "556\n"
     ]
    },
    {
     "name": "stderr",
     "output_type": "stream",
     "text": [
      " 79%|███████▊  | 607/773 [50:33<16:21,  5.91s/it]\n",
      "100%|██████████| 100/100 [00:00<00:00, 86587.61it/s]\n"
     ]
    },
    {
     "name": "stdout",
     "output_type": "stream",
     "text": [
      "557\n"
     ]
    },
    {
     "name": "stderr",
     "output_type": "stream",
     "text": [
      " 79%|███████▊  | 608/773 [50:37<14:08,  5.15s/it]\n",
      "100%|██████████| 100/100 [00:00<00:00, 83121.36it/s]\n"
     ]
    },
    {
     "name": "stdout",
     "output_type": "stream",
     "text": [
      "558\n"
     ]
    },
    {
     "name": "stderr",
     "output_type": "stream",
     "text": [
      " 79%|███████▉  | 609/773 [50:44<16:01,  5.86s/it]\n",
      "100%|██████████| 100/100 [00:00<00:00, 73687.70it/s]\n"
     ]
    },
    {
     "name": "stdout",
     "output_type": "stream",
     "text": [
      "559\n"
     ]
    },
    {
     "name": "stderr",
     "output_type": "stream",
     "text": [
      " 79%|███████▉  | 610/773 [50:50<15:52,  5.84s/it]\n",
      "100%|██████████| 100/100 [00:00<00:00, 83402.35it/s]\n"
     ]
    },
    {
     "name": "stdout",
     "output_type": "stream",
     "text": [
      "560\n"
     ]
    },
    {
     "name": "stderr",
     "output_type": "stream",
     "text": [
      " 79%|███████▉  | 611/773 [50:56<15:53,  5.89s/it]\n",
      "100%|██████████| 100/100 [00:00<00:00, 41020.09it/s]\n"
     ]
    },
    {
     "name": "stdout",
     "output_type": "stream",
     "text": [
      "561\n"
     ]
    },
    {
     "name": "stderr",
     "output_type": "stream",
     "text": [
      " 79%|███████▉  | 612/773 [51:04<17:23,  6.48s/it]\n",
      "100%|██████████| 100/100 [00:00<00:00, 85984.09it/s]\n"
     ]
    },
    {
     "name": "stdout",
     "output_type": "stream",
     "text": [
      "562\n"
     ]
    },
    {
     "name": "stderr",
     "output_type": "stream",
     "text": [
      " 79%|███████▉  | 613/773 [51:07<14:21,  5.38s/it]\n",
      "100%|██████████| 100/100 [00:00<00:00, 98735.97it/s]\n"
     ]
    },
    {
     "name": "stdout",
     "output_type": "stream",
     "text": [
      "563\n"
     ]
    },
    {
     "name": "stderr",
     "output_type": "stream",
     "text": [
      " 79%|███████▉  | 614/773 [51:11<13:27,  5.08s/it]\n",
      "100%|██████████| 100/100 [00:00<00:00, 37637.33it/s]\n"
     ]
    },
    {
     "name": "stdout",
     "output_type": "stream",
     "text": [
      "564\n"
     ]
    },
    {
     "name": "stderr",
     "output_type": "stream",
     "text": [
      " 80%|███████▉  | 615/773 [51:17<14:18,  5.43s/it]\n",
      "100%|██████████| 100/100 [00:00<00:00, 93435.15it/s]\n"
     ]
    },
    {
     "name": "stdout",
     "output_type": "stream",
     "text": [
      "565\n"
     ]
    },
    {
     "name": "stderr",
     "output_type": "stream",
     "text": [
      " 80%|███████▉  | 616/773 [51:22<13:37,  5.21s/it]\n",
      "100%|██████████| 100/100 [00:00<00:00, 20120.43it/s]\n"
     ]
    },
    {
     "name": "stdout",
     "output_type": "stream",
     "text": [
      "566\n"
     ]
    },
    {
     "name": "stderr",
     "output_type": "stream",
     "text": [
      " 80%|███████▉  | 617/773 [51:28<14:13,  5.47s/it]\n",
      "100%|██████████| 100/100 [00:00<00:00, 67847.04it/s]\n"
     ]
    },
    {
     "name": "stdout",
     "output_type": "stream",
     "text": [
      "567\n"
     ]
    },
    {
     "name": "stderr",
     "output_type": "stream",
     "text": [
      " 80%|███████▉  | 618/773 [51:35<15:32,  6.02s/it]\n",
      "100%|██████████| 100/100 [00:00<00:00, 72402.97it/s]\n"
     ]
    },
    {
     "name": "stdout",
     "output_type": "stream",
     "text": [
      "568\n"
     ]
    },
    {
     "name": "stderr",
     "output_type": "stream",
     "text": [
      " 80%|████████  | 619/773 [51:41<14:53,  5.80s/it]\n",
      "100%|██████████| 100/100 [00:00<00:00, 46253.90it/s]\n"
     ]
    },
    {
     "name": "stdout",
     "output_type": "stream",
     "text": [
      "569\n"
     ]
    },
    {
     "name": "stderr",
     "output_type": "stream",
     "text": [
      " 80%|████████  | 620/773 [51:47<14:53,  5.84s/it]\n",
      "100%|██████████| 100/100 [00:00<00:00, 114286.21it/s]\n"
     ]
    },
    {
     "name": "stdout",
     "output_type": "stream",
     "text": [
      "570\n"
     ]
    },
    {
     "name": "stderr",
     "output_type": "stream",
     "text": [
      " 80%|████████  | 622/773 [51:51<09:32,  3.79s/it]\n",
      "100%|██████████| 100/100 [00:00<00:00, 49159.68it/s]\n"
     ]
    },
    {
     "name": "stdout",
     "output_type": "stream",
     "text": [
      "571\n"
     ]
    },
    {
     "name": "stderr",
     "output_type": "stream",
     "text": [
      " 81%|████████  | 623/773 [51:56<10:21,  4.14s/it]\n",
      "100%|██████████| 100/100 [00:00<00:00, 94700.93it/s]\n"
     ]
    },
    {
     "name": "stdout",
     "output_type": "stream",
     "text": [
      "572\n"
     ]
    },
    {
     "name": "stderr",
     "output_type": "stream",
     "text": [
      " 81%|████████  | 624/773 [51:57<08:04,  3.25s/it]\n",
      "100%|██████████| 100/100 [00:00<00:00, 79063.22it/s]\n"
     ]
    },
    {
     "name": "stdout",
     "output_type": "stream",
     "text": [
      "573\n"
     ]
    },
    {
     "name": "stderr",
     "output_type": "stream",
     "text": [
      " 81%|████████  | 625/773 [52:02<09:31,  3.86s/it]\n",
      "100%|██████████| 100/100 [00:00<00:00, 81159.13it/s]\n"
     ]
    },
    {
     "name": "stdout",
     "output_type": "stream",
     "text": [
      "574\n"
     ]
    },
    {
     "name": "stderr",
     "output_type": "stream",
     "text": [
      " 81%|████████  | 626/773 [52:09<11:40,  4.77s/it]\n",
      "100%|██████████| 100/100 [00:00<00:00, 102375.01it/s]\n"
     ]
    },
    {
     "name": "stdout",
     "output_type": "stream",
     "text": [
      "575\n"
     ]
    },
    {
     "name": "stderr",
     "output_type": "stream",
     "text": [
      " 81%|████████  | 627/773 [52:13<11:20,  4.66s/it]\n",
      "100%|██████████| 100/100 [00:00<00:00, 66980.26it/s]\n"
     ]
    },
    {
     "name": "stdout",
     "output_type": "stream",
     "text": [
      "576\n"
     ]
    },
    {
     "name": "stderr",
     "output_type": "stream",
     "text": [
      " 81%|████████  | 628/773 [52:22<14:21,  5.94s/it]\n",
      "100%|██████████| 100/100 [00:00<00:00, 70279.89it/s]\n"
     ]
    },
    {
     "name": "stdout",
     "output_type": "stream",
     "text": [
      "577\n"
     ]
    },
    {
     "name": "stderr",
     "output_type": "stream",
     "text": [
      " 81%|████████▏ | 629/773 [52:28<13:39,  5.69s/it]\n",
      "100%|██████████| 100/100 [00:00<00:00, 94872.29it/s]\n"
     ]
    },
    {
     "name": "stdout",
     "output_type": "stream",
     "text": [
      "578\n"
     ]
    },
    {
     "name": "stderr",
     "output_type": "stream",
     "text": [
      " 82%|████████▏ | 630/773 [52:30<11:13,  4.71s/it]\n",
      "100%|██████████| 100/100 [00:00<00:00, 98319.36it/s]\n"
     ]
    },
    {
     "name": "stdout",
     "output_type": "stream",
     "text": [
      "579\n"
     ]
    },
    {
     "name": "stderr",
     "output_type": "stream",
     "text": [
      " 82%|████████▏ | 631/773 [52:38<13:45,  5.81s/it]\n",
      "100%|██████████| 100/100 [00:00<00:00, 100414.27it/s]\n"
     ]
    },
    {
     "name": "stdout",
     "output_type": "stream",
     "text": [
      "580\n"
     ]
    },
    {
     "name": "stderr",
     "output_type": "stream",
     "text": [
      " 82%|████████▏ | 632/773 [52:48<16:12,  6.89s/it]\n",
      "100%|██████████| 100/100 [00:00<00:00, 99603.51it/s]\n"
     ]
    },
    {
     "name": "stdout",
     "output_type": "stream",
     "text": [
      "581\n"
     ]
    },
    {
     "name": "stderr",
     "output_type": "stream",
     "text": [
      " 82%|████████▏ | 633/773 [52:58<18:28,  7.92s/it]\n",
      "100%|██████████| 100/100 [00:00<00:00, 81379.59it/s]\n"
     ]
    },
    {
     "name": "stdout",
     "output_type": "stream",
     "text": [
      "582\n"
     ]
    },
    {
     "name": "stderr",
     "output_type": "stream",
     "text": [
      " 82%|████████▏ | 634/773 [53:02<15:17,  6.60s/it]\n",
      "100%|██████████| 100/100 [00:00<00:00, 99320.48it/s]\n"
     ]
    },
    {
     "name": "stdout",
     "output_type": "stream",
     "text": [
      "583\n"
     ]
    },
    {
     "name": "stderr",
     "output_type": "stream",
     "text": [
      " 82%|████████▏ | 635/773 [53:04<12:34,  5.47s/it]\n",
      "100%|██████████| 100/100 [00:00<00:00, 95433.54it/s]\n"
     ]
    },
    {
     "name": "stdout",
     "output_type": "stream",
     "text": [
      "584\n"
     ]
    },
    {
     "name": "stderr",
     "output_type": "stream",
     "text": [
      " 82%|████████▏ | 636/773 [53:13<14:42,  6.44s/it]\n",
      "100%|██████████| 100/100 [00:00<00:00, 90668.05it/s]\n"
     ]
    },
    {
     "name": "stdout",
     "output_type": "stream",
     "text": [
      "585\n"
     ]
    },
    {
     "name": "stderr",
     "output_type": "stream",
     "text": [
      " 82%|████████▏ | 637/773 [53:17<12:46,  5.64s/it]\n",
      "100%|██████████| 100/100 [00:00<00:00, 109312.07it/s]\n"
     ]
    },
    {
     "name": "stdout",
     "output_type": "stream",
     "text": [
      "586\n"
     ]
    },
    {
     "name": "stderr",
     "output_type": "stream",
     "text": [
      " 83%|████████▎ | 638/773 [53:22<12:09,  5.40s/it]\n",
      "100%|██████████| 100/100 [00:00<00:00, 75247.65it/s]\n"
     ]
    },
    {
     "name": "stdout",
     "output_type": "stream",
     "text": [
      "587\n"
     ]
    },
    {
     "name": "stderr",
     "output_type": "stream",
     "text": [
      " 83%|████████▎ | 639/773 [53:24<10:08,  4.54s/it]\n",
      "100%|██████████| 100/100 [00:00<00:00, 106725.29it/s]\n"
     ]
    },
    {
     "name": "stdout",
     "output_type": "stream",
     "text": [
      "588\n"
     ]
    },
    {
     "name": "stderr",
     "output_type": "stream",
     "text": [
      " 83%|████████▎ | 640/773 [53:30<10:59,  4.96s/it]\n",
      "100%|██████████| 100/100 [00:00<00:00, 92589.49it/s]\n"
     ]
    },
    {
     "name": "stdout",
     "output_type": "stream",
     "text": [
      "589\n"
     ]
    },
    {
     "name": "stderr",
     "output_type": "stream",
     "text": [
      " 83%|████████▎ | 641/773 [53:34<10:11,  4.63s/it]\n",
      "100%|██████████| 100/100 [00:00<00:00, 108100.62it/s]\n"
     ]
    },
    {
     "name": "stdout",
     "output_type": "stream",
     "text": [
      "590\n"
     ]
    },
    {
     "name": "stderr",
     "output_type": "stream",
     "text": [
      " 83%|████████▎ | 642/773 [53:43<13:05,  6.00s/it]\n",
      "100%|██████████| 100/100 [00:00<00:00, 95957.54it/s]\n"
     ]
    },
    {
     "name": "stdout",
     "output_type": "stream",
     "text": [
      "591\n"
     ]
    },
    {
     "name": "stderr",
     "output_type": "stream",
     "text": [
      " 83%|████████▎ | 643/773 [53:47<11:18,  5.22s/it]\n",
      "100%|██████████| 100/100 [00:00<00:00, 63243.43it/s]\n"
     ]
    },
    {
     "name": "stdout",
     "output_type": "stream",
     "text": [
      "592\n"
     ]
    },
    {
     "name": "stderr",
     "output_type": "stream",
     "text": [
      " 83%|████████▎ | 644/773 [53:49<09:13,  4.29s/it]\n",
      "100%|██████████| 100/100 [00:00<00:00, 88097.12it/s]\n"
     ]
    },
    {
     "name": "stdout",
     "output_type": "stream",
     "text": [
      "593\n"
     ]
    },
    {
     "name": "stderr",
     "output_type": "stream",
     "text": [
      " 84%|████████▎ | 647/773 [53:52<04:10,  1.99s/it]\n",
      "100%|██████████| 100/100 [00:00<00:00, 100582.83it/s]\n"
     ]
    },
    {
     "name": "stdout",
     "output_type": "stream",
     "text": [
      "594\n"
     ]
    },
    {
     "name": "stderr",
     "output_type": "stream",
     "text": [
      " 84%|████████▍ | 648/773 [53:57<06:13,  2.99s/it]\n",
      "100%|██████████| 100/100 [00:00<00:00, 126258.40it/s]\n"
     ]
    },
    {
     "name": "stdout",
     "output_type": "stream",
     "text": [
      "595\n"
     ]
    },
    {
     "name": "stderr",
     "output_type": "stream",
     "text": [
      " 84%|████████▍ | 649/773 [54:05<09:32,  4.62s/it]\n",
      "100%|██████████| 100/100 [00:00<00:00, 98204.26it/s]\n"
     ]
    },
    {
     "name": "stdout",
     "output_type": "stream",
     "text": [
      "596\n"
     ]
    },
    {
     "name": "stderr",
     "output_type": "stream",
     "text": [
      " 84%|████████▍ | 650/773 [54:09<08:31,  4.16s/it]\n",
      "100%|██████████| 100/100 [00:00<00:00, 43873.47it/s]\n"
     ]
    },
    {
     "name": "stdout",
     "output_type": "stream",
     "text": [
      "597\n"
     ]
    },
    {
     "name": "stderr",
     "output_type": "stream",
     "text": [
      " 84%|████████▍ | 651/773 [54:15<09:51,  4.85s/it]\n",
      "100%|██████████| 100/100 [00:00<00:00, 85615.51it/s]\n"
     ]
    },
    {
     "name": "stdout",
     "output_type": "stream",
     "text": [
      "598\n"
     ]
    },
    {
     "name": "stderr",
     "output_type": "stream",
     "text": [
      " 84%|████████▍ | 652/773 [54:22<10:49,  5.37s/it]\n",
      "100%|██████████| 100/100 [00:00<00:00, 92609.94it/s]\n"
     ]
    },
    {
     "name": "stdout",
     "output_type": "stream",
     "text": [
      "599\n"
     ]
    },
    {
     "name": "stderr",
     "output_type": "stream",
     "text": [
      " 84%|████████▍ | 653/773 [54:23<08:21,  4.18s/it]\n",
      "100%|██████████| 100/100 [00:00<00:00, 88263.97it/s]\n"
     ]
    },
    {
     "name": "stdout",
     "output_type": "stream",
     "text": [
      "600\n"
     ]
    },
    {
     "name": "stderr",
     "output_type": "stream",
     "text": [
      " 85%|████████▍ | 654/773 [54:32<11:09,  5.62s/it]\n",
      "100%|██████████| 100/100 [00:00<00:00, 93811.32it/s]\n"
     ]
    },
    {
     "name": "stdout",
     "output_type": "stream",
     "text": [
      "601\n"
     ]
    },
    {
     "name": "stderr",
     "output_type": "stream",
     "text": [
      " 85%|████████▍ | 655/773 [54:42<13:27,  6.84s/it]\n",
      "100%|██████████| 100/100 [00:00<00:00, 95498.72it/s]\n"
     ]
    },
    {
     "name": "stdout",
     "output_type": "stream",
     "text": [
      "602\n"
     ]
    },
    {
     "name": "stderr",
     "output_type": "stream",
     "text": [
      " 85%|████████▍ | 656/773 [54:45<11:25,  5.86s/it]\n",
      "100%|██████████| 100/100 [00:00<00:00, 77758.69it/s]\n"
     ]
    },
    {
     "name": "stdout",
     "output_type": "stream",
     "text": [
      "603\n"
     ]
    },
    {
     "name": "stderr",
     "output_type": "stream",
     "text": [
      " 85%|████████▍ | 657/773 [54:47<08:42,  4.51s/it]\n",
      "100%|██████████| 100/100 [00:00<00:00, 97929.12it/s]\n"
     ]
    },
    {
     "name": "stdout",
     "output_type": "stream",
     "text": [
      "604\n"
     ]
    },
    {
     "name": "stderr",
     "output_type": "stream",
     "text": [
      " 85%|████████▌ | 659/773 [54:54<07:02,  3.71s/it]\n",
      "100%|██████████| 100/100 [00:00<00:00, 71380.26it/s]\n"
     ]
    },
    {
     "name": "stdout",
     "output_type": "stream",
     "text": [
      "605\n"
     ]
    },
    {
     "name": "stderr",
     "output_type": "stream",
     "text": [
      " 85%|████████▌ | 660/773 [55:00<08:15,  4.39s/it]\n",
      "100%|██████████| 100/100 [00:00<00:00, 78677.62it/s]\n"
     ]
    },
    {
     "name": "stdout",
     "output_type": "stream",
     "text": [
      "606\n"
     ]
    },
    {
     "name": "stderr",
     "output_type": "stream",
     "text": [
      " 86%|████████▌ | 661/773 [55:04<08:10,  4.38s/it]\n",
      "100%|██████████| 100/100 [00:00<00:00, 55708.65it/s]\n"
     ]
    },
    {
     "name": "stdout",
     "output_type": "stream",
     "text": [
      "607\n"
     ]
    },
    {
     "name": "stderr",
     "output_type": "stream",
     "text": [
      " 86%|████████▌ | 662/773 [55:06<06:38,  3.59s/it]\n",
      "100%|██████████| 100/100 [00:00<00:00, 71771.12it/s]\n"
     ]
    },
    {
     "name": "stdout",
     "output_type": "stream",
     "text": [
      "608\n"
     ]
    },
    {
     "name": "stderr",
     "output_type": "stream",
     "text": [
      " 86%|████████▌ | 663/773 [55:11<07:39,  4.18s/it]\n",
      "100%|██████████| 100/100 [00:00<00:00, 83253.35it/s]\n"
     ]
    },
    {
     "name": "stdout",
     "output_type": "stream",
     "text": [
      "609\n"
     ]
    },
    {
     "name": "stderr",
     "output_type": "stream",
     "text": [
      " 86%|████████▌ | 664/773 [55:17<08:24,  4.63s/it]\n",
      "100%|██████████| 100/100 [00:00<00:00, 87728.59it/s]\n"
     ]
    },
    {
     "name": "stdout",
     "output_type": "stream",
     "text": [
      "610\n"
     ]
    },
    {
     "name": "stderr",
     "output_type": "stream",
     "text": [
      " 86%|████████▌ | 665/773 [55:18<06:33,  3.64s/it]\n",
      "100%|██████████| 100/100 [00:00<00:00, 122282.92it/s]\n"
     ]
    },
    {
     "name": "stdout",
     "output_type": "stream",
     "text": [
      "611\n"
     ]
    },
    {
     "name": "stderr",
     "output_type": "stream",
     "text": [
      " 86%|████████▌ | 666/773 [55:21<05:46,  3.23s/it]\n",
      "100%|██████████| 100/100 [00:00<00:00, 99391.09it/s]\n"
     ]
    },
    {
     "name": "stdout",
     "output_type": "stream",
     "text": [
      "612\n"
     ]
    },
    {
     "name": "stderr",
     "output_type": "stream",
     "text": [
      " 86%|████████▋ | 667/773 [55:24<05:46,  3.27s/it]\n",
      "100%|██████████| 100/100 [00:00<00:00, 112750.11it/s]\n",
      " 86%|████████▋ | 668/773 [55:24<04:17,  2.45s/it]"
     ]
    },
    {
     "name": "stdout",
     "output_type": "stream",
     "text": [
      "613\n"
     ]
    },
    {
     "name": "stderr",
     "output_type": "stream",
     "text": [
      "\n",
      "100%|██████████| 100/100 [00:00<00:00, 95065.82it/s]\n"
     ]
    },
    {
     "name": "stdout",
     "output_type": "stream",
     "text": [
      "614\n"
     ]
    },
    {
     "name": "stderr",
     "output_type": "stream",
     "text": [
      " 87%|████████▋ | 669/773 [55:25<03:18,  1.91s/it]\n",
      "100%|██████████| 100/100 [00:00<00:00, 78559.73it/s]\n"
     ]
    },
    {
     "name": "stdout",
     "output_type": "stream",
     "text": [
      "615\n"
     ]
    },
    {
     "name": "stderr",
     "output_type": "stream",
     "text": [
      " 87%|████████▋ | 670/773 [55:35<07:32,  4.39s/it]\n",
      "100%|██████████| 100/100 [00:00<00:00, 100703.58it/s]\n"
     ]
    },
    {
     "name": "stdout",
     "output_type": "stream",
     "text": [
      "616\n"
     ]
    },
    {
     "name": "stderr",
     "output_type": "stream",
     "text": [
      " 87%|████████▋ | 671/773 [55:43<08:56,  5.26s/it]\n",
      "100%|██████████| 100/100 [00:00<00:00, 63129.20it/s]\n"
     ]
    },
    {
     "name": "stdout",
     "output_type": "stream",
     "text": [
      "617\n"
     ]
    },
    {
     "name": "stderr",
     "output_type": "stream",
     "text": [
      " 87%|████████▋ | 672/773 [55:50<10:02,  5.96s/it]\n",
      "100%|██████████| 100/100 [00:00<00:00, 98898.94it/s]\n"
     ]
    },
    {
     "name": "stdout",
     "output_type": "stream",
     "text": [
      "618\n"
     ]
    },
    {
     "name": "stderr",
     "output_type": "stream",
     "text": [
      " 87%|████████▋ | 673/773 [55:53<08:23,  5.04s/it]\n",
      "100%|██████████| 100/100 [00:00<00:00, 111254.75it/s]\n"
     ]
    },
    {
     "name": "stdout",
     "output_type": "stream",
     "text": [
      "619\n"
     ]
    },
    {
     "name": "stderr",
     "output_type": "stream",
     "text": [
      " 87%|████████▋ | 674/773 [55:55<06:47,  4.11s/it]\n",
      "100%|██████████| 100/100 [00:00<00:00, 110609.28it/s]\n"
     ]
    },
    {
     "name": "stdout",
     "output_type": "stream",
     "text": [
      "620\n"
     ]
    },
    {
     "name": "stderr",
     "output_type": "stream",
     "text": [
      " 87%|████████▋ | 675/773 [56:02<08:15,  5.05s/it]\n",
      "100%|██████████| 100/100 [00:00<00:00, 97180.35it/s]\n"
     ]
    },
    {
     "name": "stdout",
     "output_type": "stream",
     "text": [
      "621\n"
     ]
    },
    {
     "name": "stderr",
     "output_type": "stream",
     "text": [
      " 87%|████████▋ | 676/773 [56:06<07:45,  4.80s/it]\n",
      "100%|██████████| 100/100 [00:00<00:00, 97723.77it/s]\n"
     ]
    },
    {
     "name": "stdout",
     "output_type": "stream",
     "text": [
      "622\n"
     ]
    },
    {
     "name": "stderr",
     "output_type": "stream",
     "text": [
      " 88%|████████▊ | 677/773 [56:07<05:41,  3.55s/it]\n",
      "100%|██████████| 100/100 [00:00<00:00, 79694.17it/s]\n"
     ]
    },
    {
     "name": "stdout",
     "output_type": "stream",
     "text": [
      "623\n"
     ]
    },
    {
     "name": "stderr",
     "output_type": "stream",
     "text": [
      " 88%|████████▊ | 678/773 [56:10<05:06,  3.23s/it]\n",
      "100%|██████████| 100/100 [00:00<00:00, 96067.43it/s]\n"
     ]
    },
    {
     "name": "stdout",
     "output_type": "stream",
     "text": [
      "624\n"
     ]
    },
    {
     "name": "stderr",
     "output_type": "stream",
     "text": [
      " 88%|████████▊ | 679/773 [56:12<04:40,  2.98s/it]\n",
      "100%|██████████| 100/100 [00:00<00:00, 89032.14it/s]\n"
     ]
    },
    {
     "name": "stdout",
     "output_type": "stream",
     "text": [
      "625\n"
     ]
    },
    {
     "name": "stderr",
     "output_type": "stream",
     "text": [
      " 88%|████████▊ | 680/773 [56:20<06:50,  4.41s/it]\n",
      "100%|██████████| 100/100 [00:00<00:00, 61311.27it/s]\n"
     ]
    },
    {
     "name": "stdout",
     "output_type": "stream",
     "text": [
      "626\n"
     ]
    },
    {
     "name": "stderr",
     "output_type": "stream",
     "text": [
      " 88%|████████▊ | 681/773 [56:30<09:20,  6.09s/it]\n",
      "100%|██████████| 100/100 [00:00<00:00, 87930.90it/s]\n"
     ]
    },
    {
     "name": "stdout",
     "output_type": "stream",
     "text": [
      "627\n"
     ]
    },
    {
     "name": "stderr",
     "output_type": "stream",
     "text": [
      " 88%|████████▊ | 682/773 [56:37<09:49,  6.48s/it]\n",
      "100%|██████████| 100/100 [00:00<00:00, 92344.87it/s]\n"
     ]
    },
    {
     "name": "stdout",
     "output_type": "stream",
     "text": [
      "628\n"
     ]
    },
    {
     "name": "stderr",
     "output_type": "stream",
     "text": [
      " 88%|████████▊ | 683/773 [56:45<10:20,  6.90s/it]\n",
      "100%|██████████| 100/100 [00:00<00:00, 98805.75it/s]\n"
     ]
    },
    {
     "name": "stdout",
     "output_type": "stream",
     "text": [
      "629\n"
     ]
    },
    {
     "name": "stderr",
     "output_type": "stream",
     "text": [
      " 88%|████████▊ | 684/773 [56:53<10:38,  7.18s/it]\n",
      "100%|██████████| 100/100 [00:00<00:00, 100921.66it/s]\n"
     ]
    },
    {
     "name": "stdout",
     "output_type": "stream",
     "text": [
      "630\n"
     ]
    },
    {
     "name": "stderr",
     "output_type": "stream",
     "text": [
      " 89%|████████▊ | 685/773 [56:55<08:08,  5.55s/it]\n",
      "100%|██████████| 100/100 [00:00<00:00, 83953.24it/s]\n"
     ]
    },
    {
     "name": "stdout",
     "output_type": "stream",
     "text": [
      "631\n"
     ]
    },
    {
     "name": "stderr",
     "output_type": "stream",
     "text": [
      " 89%|████████▊ | 686/773 [57:03<09:19,  6.43s/it]\n",
      "100%|██████████| 100/100 [00:00<00:00, 24402.51it/s]\n"
     ]
    },
    {
     "name": "stdout",
     "output_type": "stream",
     "text": [
      "632\n"
     ]
    },
    {
     "name": "stderr",
     "output_type": "stream",
     "text": [
      " 89%|████████▉ | 687/773 [57:04<07:04,  4.94s/it]\n",
      "100%|██████████| 100/100 [00:00<00:00, 88881.20it/s]\n"
     ]
    },
    {
     "name": "stdout",
     "output_type": "stream",
     "text": [
      "633\n"
     ]
    },
    {
     "name": "stderr",
     "output_type": "stream",
     "text": [
      " 89%|████████▉ | 688/773 [57:13<08:41,  6.13s/it]\n",
      "100%|██████████| 100/100 [00:00<00:00, 88338.33it/s]\n"
     ]
    },
    {
     "name": "stdout",
     "output_type": "stream",
     "text": [
      "634\n"
     ]
    },
    {
     "name": "stderr",
     "output_type": "stream",
     "text": [
      " 89%|████████▉ | 689/773 [57:22<09:40,  6.91s/it]\n",
      "100%|██████████| 100/100 [00:00<00:00, 95979.50it/s]\n"
     ]
    },
    {
     "name": "stdout",
     "output_type": "stream",
     "text": [
      "635\n"
     ]
    },
    {
     "name": "stderr",
     "output_type": "stream",
     "text": [
      " 89%|████████▉ | 690/773 [57:24<07:17,  5.27s/it]\n",
      "100%|██████████| 100/100 [00:00<00:00, 93895.32it/s]\n"
     ]
    },
    {
     "name": "stdout",
     "output_type": "stream",
     "text": [
      "636\n"
     ]
    },
    {
     "name": "stderr",
     "output_type": "stream",
     "text": [
      " 89%|████████▉ | 691/773 [57:26<05:54,  4.32s/it]\n",
      "100%|██████████| 100/100 [00:00<00:00, 93268.93it/s]\n"
     ]
    },
    {
     "name": "stdout",
     "output_type": "stream",
     "text": [
      "637\n"
     ]
    },
    {
     "name": "stderr",
     "output_type": "stream",
     "text": [
      " 90%|████████▉ | 692/773 [57:32<06:29,  4.80s/it]\n",
      "100%|██████████| 100/100 [00:00<00:00, 87254.09it/s]\n"
     ]
    },
    {
     "name": "stdout",
     "output_type": "stream",
     "text": [
      "638\n"
     ]
    },
    {
     "name": "stderr",
     "output_type": "stream",
     "text": [
      " 90%|████████▉ | 693/773 [57:39<07:23,  5.54s/it]\n",
      "100%|██████████| 100/100 [00:00<00:00, 25673.65it/s]\n"
     ]
    },
    {
     "name": "stdout",
     "output_type": "stream",
     "text": [
      "639\n"
     ]
    },
    {
     "name": "stderr",
     "output_type": "stream",
     "text": [
      " 90%|████████▉ | 694/773 [57:44<07:09,  5.43s/it]\n",
      "100%|██████████| 100/100 [00:00<00:00, 94000.54it/s]\n"
     ]
    },
    {
     "name": "stdout",
     "output_type": "stream",
     "text": [
      "640\n"
     ]
    },
    {
     "name": "stderr",
     "output_type": "stream",
     "text": [
      " 90%|████████▉ | 695/773 [57:51<07:28,  5.75s/it]\n",
      "100%|██████████| 100/100 [00:00<00:00, 79107.96it/s]\n"
     ]
    },
    {
     "name": "stdout",
     "output_type": "stream",
     "text": [
      "641\n"
     ]
    },
    {
     "name": "stderr",
     "output_type": "stream",
     "text": [
      " 90%|█████████ | 696/773 [57:54<06:30,  5.08s/it]\n",
      "100%|██████████| 100/100 [00:00<00:00, 111877.94it/s]\n"
     ]
    },
    {
     "name": "stdout",
     "output_type": "stream",
     "text": [
      "642\n"
     ]
    },
    {
     "name": "stderr",
     "output_type": "stream",
     "text": [
      " 90%|█████████ | 697/773 [58:02<07:27,  5.89s/it]\n",
      "100%|██████████| 100/100 [00:00<00:00, 35284.80it/s]\n"
     ]
    },
    {
     "name": "stdout",
     "output_type": "stream",
     "text": [
      "643\n"
     ]
    },
    {
     "name": "stderr",
     "output_type": "stream",
     "text": [
      " 90%|█████████ | 698/773 [58:12<08:50,  7.08s/it]\n",
      "100%|██████████| 100/100 [00:00<00:00, 97067.90it/s]\n"
     ]
    },
    {
     "name": "stdout",
     "output_type": "stream",
     "text": [
      "644\n"
     ]
    },
    {
     "name": "stderr",
     "output_type": "stream",
     "text": [
      " 90%|█████████ | 699/773 [58:13<06:27,  5.23s/it]\n",
      "100%|██████████| 100/100 [00:00<00:00, 93455.97it/s]\n"
     ]
    },
    {
     "name": "stdout",
     "output_type": "stream",
     "text": [
      "645\n"
     ]
    },
    {
     "name": "stderr",
     "output_type": "stream",
     "text": [
      " 91%|█████████ | 700/773 [58:16<05:45,  4.73s/it]\n",
      "100%|██████████| 100/100 [00:00<00:00, 99015.68it/s]\n"
     ]
    },
    {
     "name": "stdout",
     "output_type": "stream",
     "text": [
      "646\n"
     ]
    },
    {
     "name": "stderr",
     "output_type": "stream",
     "text": [
      " 91%|█████████ | 701/773 [58:19<04:59,  4.16s/it]\n",
      "100%|██████████| 100/100 [00:00<00:00, 100534.61it/s]\n"
     ]
    },
    {
     "name": "stdout",
     "output_type": "stream",
     "text": [
      "647\n"
     ]
    },
    {
     "name": "stderr",
     "output_type": "stream",
     "text": [
      " 91%|█████████ | 702/773 [58:29<06:59,  5.90s/it]\n",
      "100%|██████████| 100/100 [00:00<00:00, 95694.82it/s]\n"
     ]
    },
    {
     "name": "stdout",
     "output_type": "stream",
     "text": [
      "648\n"
     ]
    },
    {
     "name": "stderr",
     "output_type": "stream",
     "text": [
      " 91%|█████████ | 703/773 [58:31<05:32,  4.75s/it]\n",
      "100%|██████████| 100/100 [00:00<00:00, 96221.70it/s]\n"
     ]
    },
    {
     "name": "stdout",
     "output_type": "stream",
     "text": [
      "649\n"
     ]
    },
    {
     "name": "stderr",
     "output_type": "stream",
     "text": [
      " 91%|█████████ | 704/773 [58:40<06:49,  5.94s/it]\n",
      "100%|██████████| 100/100 [00:00<00:00, 79603.42it/s]\n"
     ]
    },
    {
     "name": "stdout",
     "output_type": "stream",
     "text": [
      "650\n"
     ]
    },
    {
     "name": "stderr",
     "output_type": "stream",
     "text": [
      " 91%|█████████ | 705/773 [58:41<05:03,  4.46s/it]\n",
      "100%|██████████| 100/100 [00:00<00:00, 104284.04it/s]\n"
     ]
    },
    {
     "name": "stdout",
     "output_type": "stream",
     "text": [
      "651\n"
     ]
    },
    {
     "name": "stderr",
     "output_type": "stream",
     "text": [
      " 91%|█████████▏| 706/773 [58:49<06:13,  5.57s/it]\n",
      "100%|██████████| 100/100 [00:00<00:00, 93000.09it/s]\n"
     ]
    },
    {
     "name": "stdout",
     "output_type": "stream",
     "text": [
      "652\n"
     ]
    },
    {
     "name": "stderr",
     "output_type": "stream",
     "text": [
      " 91%|█████████▏| 707/773 [58:59<07:36,  6.91s/it]\n",
      "100%|██████████| 100/100 [00:00<00:00, 71162.27it/s]\n"
     ]
    },
    {
     "name": "stdout",
     "output_type": "stream",
     "text": [
      "653\n"
     ]
    },
    {
     "name": "stderr",
     "output_type": "stream",
     "text": [
      " 92%|█████████▏| 708/773 [59:02<06:19,  5.84s/it]\n",
      "100%|██████████| 100/100 [00:00<00:00, 84155.38it/s]\n"
     ]
    },
    {
     "name": "stdout",
     "output_type": "stream",
     "text": [
      "654\n"
     ]
    },
    {
     "name": "stderr",
     "output_type": "stream",
     "text": [
      " 92%|█████████▏| 709/773 [59:12<07:28,  7.01s/it]\n",
      "100%|██████████| 100/100 [00:00<00:00, 74012.78it/s]\n"
     ]
    },
    {
     "name": "stdout",
     "output_type": "stream",
     "text": [
      "655\n"
     ]
    },
    {
     "name": "stderr",
     "output_type": "stream",
     "text": [
      " 92%|█████████▏| 710/773 [59:18<07:05,  6.75s/it]\n",
      "100%|██████████| 100/100 [00:00<00:00, 93041.35it/s]\n"
     ]
    },
    {
     "name": "stdout",
     "output_type": "stream",
     "text": [
      "656\n"
     ]
    },
    {
     "name": "stderr",
     "output_type": "stream",
     "text": [
      " 92%|█████████▏| 711/773 [59:23<06:22,  6.17s/it]\n",
      "100%|██████████| 100/100 [00:00<00:00, 92671.32it/s]\n"
     ]
    },
    {
     "name": "stdout",
     "output_type": "stream",
     "text": [
      "657\n"
     ]
    },
    {
     "name": "stderr",
     "output_type": "stream",
     "text": [
      " 92%|█████████▏| 712/773 [59:29<06:15,  6.16s/it]\n",
      "100%|██████████| 100/100 [00:00<00:00, 23058.30it/s]\n"
     ]
    },
    {
     "name": "stdout",
     "output_type": "stream",
     "text": [
      "658\n"
     ]
    },
    {
     "name": "stderr",
     "output_type": "stream",
     "text": [
      " 92%|█████████▏| 713/773 [59:38<06:55,  6.93s/it]\n",
      "100%|██████████| 100/100 [00:00<00:00, 81300.72it/s]\n"
     ]
    },
    {
     "name": "stdout",
     "output_type": "stream",
     "text": [
      "659\n"
     ]
    },
    {
     "name": "stderr",
     "output_type": "stream",
     "text": [
      " 92%|█████████▏| 714/773 [59:42<05:57,  6.06s/it]\n",
      "100%|██████████| 100/100 [00:00<00:00, 95520.47it/s]\n"
     ]
    },
    {
     "name": "stdout",
     "output_type": "stream",
     "text": [
      "660\n"
     ]
    },
    {
     "name": "stderr",
     "output_type": "stream",
     "text": [
      " 92%|█████████▏| 715/773 [59:49<06:04,  6.28s/it]\n",
      "100%|██████████| 100/100 [00:00<00:00, 89373.62it/s]\n"
     ]
    },
    {
     "name": "stdout",
     "output_type": "stream",
     "text": [
      "661\n"
     ]
    },
    {
     "name": "stderr",
     "output_type": "stream",
     "text": [
      " 93%|█████████▎| 716/773 [59:56<06:19,  6.65s/it]\n",
      "100%|██████████| 100/100 [00:00<00:00, 42039.73it/s]\n"
     ]
    },
    {
     "name": "stdout",
     "output_type": "stream",
     "text": [
      "662\n"
     ]
    },
    {
     "name": "stderr",
     "output_type": "stream",
     "text": [
      " 93%|█████████▎| 717/773 [1:00:00<05:19,  5.71s/it]\n",
      "100%|██████████| 100/100 [00:00<00:00, 78855.12it/s]\n"
     ]
    },
    {
     "name": "stdout",
     "output_type": "stream",
     "text": [
      "663\n"
     ]
    },
    {
     "name": "stderr",
     "output_type": "stream",
     "text": [
      " 93%|█████████▎| 718/773 [1:00:10<06:25,  7.01s/it]\n",
      "100%|██████████| 100/100 [00:00<00:00, 90648.45it/s]\n"
     ]
    },
    {
     "name": "stdout",
     "output_type": "stream",
     "text": [
      "664\n"
     ]
    },
    {
     "name": "stderr",
     "output_type": "stream",
     "text": [
      " 93%|█████████▎| 719/773 [1:00:11<04:46,  5.30s/it]\n",
      "100%|██████████| 100/100 [00:00<00:00, 76790.63it/s]\n"
     ]
    },
    {
     "name": "stdout",
     "output_type": "stream",
     "text": [
      "665\n"
     ]
    },
    {
     "name": "stderr",
     "output_type": "stream",
     "text": [
      " 93%|█████████▎| 720/773 [1:00:22<06:05,  6.89s/it]\n",
      "100%|██████████| 100/100 [00:00<00:00, 35421.87it/s]\n"
     ]
    },
    {
     "name": "stdout",
     "output_type": "stream",
     "text": [
      "666\n"
     ]
    },
    {
     "name": "stderr",
     "output_type": "stream",
     "text": [
      " 93%|█████████▎| 721/773 [1:00:27<05:32,  6.40s/it]\n",
      "100%|██████████| 100/100 [00:00<00:00, 72054.70it/s]\n"
     ]
    },
    {
     "name": "stdout",
     "output_type": "stream",
     "text": [
      "667\n"
     ]
    },
    {
     "name": "stderr",
     "output_type": "stream",
     "text": [
      " 93%|█████████▎| 722/773 [1:00:34<05:37,  6.63s/it]\n",
      "100%|██████████| 100/100 [00:00<00:00, 50858.54it/s]\n"
     ]
    },
    {
     "name": "stdout",
     "output_type": "stream",
     "text": [
      "668\n"
     ]
    },
    {
     "name": "stderr",
     "output_type": "stream",
     "text": [
      " 94%|█████████▎| 723/773 [1:00:44<06:14,  7.50s/it]\n",
      "100%|██████████| 100/100 [00:00<00:00, 76622.29it/s]\n"
     ]
    },
    {
     "name": "stdout",
     "output_type": "stream",
     "text": [
      "669\n"
     ]
    },
    {
     "name": "stderr",
     "output_type": "stream",
     "text": [
      " 94%|█████████▎| 724/773 [1:00:50<05:53,  7.22s/it]\n",
      "100%|██████████| 100/100 [00:00<00:00, 100318.20it/s]\n"
     ]
    },
    {
     "name": "stdout",
     "output_type": "stream",
     "text": [
      "670\n"
     ]
    },
    {
     "name": "stderr",
     "output_type": "stream",
     "text": [
      " 94%|█████████▍| 725/773 [1:00:57<05:38,  7.05s/it]\n",
      "100%|██████████| 100/100 [00:00<00:00, 85059.91it/s]\n"
     ]
    },
    {
     "name": "stdout",
     "output_type": "stream",
     "text": [
      "671\n"
     ]
    },
    {
     "name": "stderr",
     "output_type": "stream",
     "text": [
      " 94%|█████████▍| 726/773 [1:01:03<05:17,  6.76s/it]\n",
      "100%|██████████| 100/100 [00:00<00:00, 101729.42it/s]\n"
     ]
    },
    {
     "name": "stdout",
     "output_type": "stream",
     "text": [
      "672\n"
     ]
    },
    {
     "name": "stderr",
     "output_type": "stream",
     "text": [
      " 94%|█████████▍| 727/773 [1:01:06<04:24,  5.74s/it]\n",
      "100%|██████████| 100/100 [00:00<00:00, 90258.32it/s]\n"
     ]
    },
    {
     "name": "stdout",
     "output_type": "stream",
     "text": [
      "673\n"
     ]
    },
    {
     "name": "stderr",
     "output_type": "stream",
     "text": [
      " 94%|█████████▍| 728/773 [1:01:13<04:26,  5.93s/it]\n",
      "100%|██████████| 100/100 [00:00<00:00, 94594.14it/s]\n"
     ]
    },
    {
     "name": "stdout",
     "output_type": "stream",
     "text": [
      "674\n"
     ]
    },
    {
     "name": "stderr",
     "output_type": "stream",
     "text": [
      " 94%|█████████▍| 729/773 [1:01:21<04:52,  6.66s/it]\n",
      "100%|██████████| 100/100 [00:00<00:00, 57361.93it/s]\n"
     ]
    },
    {
     "name": "stdout",
     "output_type": "stream",
     "text": [
      "675\n"
     ]
    },
    {
     "name": "stderr",
     "output_type": "stream",
     "text": [
      " 94%|█████████▍| 730/773 [1:01:30<05:17,  7.39s/it]\n",
      "100%|██████████| 100/100 [00:00<00:00, 94958.21it/s]\n"
     ]
    },
    {
     "name": "stdout",
     "output_type": "stream",
     "text": [
      "676\n"
     ]
    },
    {
     "name": "stderr",
     "output_type": "stream",
     "text": [
      " 95%|█████████▍| 731/773 [1:01:40<05:40,  8.11s/it]\n",
      "100%|██████████| 100/100 [00:00<00:00, 105836.59it/s]\n"
     ]
    },
    {
     "name": "stdout",
     "output_type": "stream",
     "text": [
      "677\n"
     ]
    },
    {
     "name": "stderr",
     "output_type": "stream",
     "text": [
      " 95%|█████████▍| 732/773 [1:01:41<04:05,  5.98s/it]\n",
      "100%|██████████| 100/100 [00:00<00:00, 90492.00it/s]\n"
     ]
    },
    {
     "name": "stdout",
     "output_type": "stream",
     "text": [
      "678\n"
     ]
    },
    {
     "name": "stderr",
     "output_type": "stream",
     "text": [
      " 95%|█████████▍| 733/773 [1:01:44<03:21,  5.03s/it]\n",
      "100%|██████████| 100/100 [00:00<00:00, 101238.33it/s]\n"
     ]
    },
    {
     "name": "stdout",
     "output_type": "stream",
     "text": [
      "679\n"
     ]
    },
    {
     "name": "stderr",
     "output_type": "stream",
     "text": [
      " 95%|█████████▍| 734/773 [1:01:45<02:37,  4.03s/it]\n",
      "100%|██████████| 100/100 [00:00<00:00, 89202.55it/s]\n"
     ]
    },
    {
     "name": "stdout",
     "output_type": "stream",
     "text": [
      "680\n"
     ]
    },
    {
     "name": "stderr",
     "output_type": "stream",
     "text": [
      " 95%|█████████▌| 735/773 [1:01:55<03:33,  5.62s/it]\n",
      "100%|██████████| 100/100 [00:00<00:00, 84819.09it/s]\n"
     ]
    },
    {
     "name": "stdout",
     "output_type": "stream",
     "text": [
      "681\n"
     ]
    },
    {
     "name": "stderr",
     "output_type": "stream",
     "text": [
      " 95%|█████████▌| 736/773 [1:02:05<04:16,  6.94s/it]\n",
      "100%|██████████| 100/100 [00:00<00:00, 97360.82it/s]\n"
     ]
    },
    {
     "name": "stdout",
     "output_type": "stream",
     "text": [
      "682\n"
     ]
    },
    {
     "name": "stderr",
     "output_type": "stream",
     "text": [
      " 95%|█████████▌| 737/773 [1:02:10<03:53,  6.50s/it]\n",
      "100%|██████████| 100/100 [00:00<00:00, 94508.88it/s]\n"
     ]
    },
    {
     "name": "stdout",
     "output_type": "stream",
     "text": [
      "683\n"
     ]
    },
    {
     "name": "stderr",
     "output_type": "stream",
     "text": [
      " 95%|█████████▌| 738/773 [1:02:17<03:55,  6.72s/it]\n",
      "100%|██████████| 100/100 [00:00<00:00, 103206.30it/s]\n"
     ]
    },
    {
     "name": "stdout",
     "output_type": "stream",
     "text": [
      "684\n"
     ]
    },
    {
     "name": "stderr",
     "output_type": "stream",
     "text": [
      " 96%|█████████▌| 739/773 [1:02:28<04:28,  7.89s/it]\n",
      "100%|██████████| 100/100 [00:00<00:00, 94148.24it/s]\n"
     ]
    },
    {
     "name": "stdout",
     "output_type": "stream",
     "text": [
      "685\n"
     ]
    },
    {
     "name": "stderr",
     "output_type": "stream",
     "text": [
      " 96%|█████████▌| 740/773 [1:02:32<03:39,  6.66s/it]\n",
      "100%|██████████| 100/100 [00:00<00:00, 105146.75it/s]\n"
     ]
    },
    {
     "name": "stdout",
     "output_type": "stream",
     "text": [
      "686\n"
     ]
    },
    {
     "name": "stderr",
     "output_type": "stream",
     "text": [
      " 96%|█████████▌| 741/773 [1:02:42<04:06,  7.69s/it]\n",
      "100%|██████████| 100/100 [00:00<00:00, 78633.37it/s]\n"
     ]
    },
    {
     "name": "stdout",
     "output_type": "stream",
     "text": [
      "687\n"
     ]
    },
    {
     "name": "stderr",
     "output_type": "stream",
     "text": [
      " 96%|█████████▌| 742/773 [1:02:47<03:36,  6.97s/it]\n",
      "100%|██████████| 100/100 [00:00<00:00, 102902.45it/s]\n"
     ]
    },
    {
     "name": "stdout",
     "output_type": "stream",
     "text": [
      "688\n"
     ]
    },
    {
     "name": "stderr",
     "output_type": "stream",
     "text": [
      " 96%|█████████▌| 743/773 [1:02:48<02:37,  5.24s/it]\n",
      "100%|██████████| 100/100 [00:00<00:00, 78869.95it/s]\n"
     ]
    },
    {
     "name": "stdout",
     "output_type": "stream",
     "text": [
      "689\n"
     ]
    },
    {
     "name": "stderr",
     "output_type": "stream",
     "text": [
      " 96%|█████████▌| 744/773 [1:02:58<03:11,  6.61s/it]\n",
      "100%|██████████| 100/100 [00:00<00:00, 95173.68it/s]\n"
     ]
    },
    {
     "name": "stdout",
     "output_type": "stream",
     "text": [
      "690\n"
     ]
    },
    {
     "name": "stderr",
     "output_type": "stream",
     "text": [
      " 96%|█████████▋| 745/773 [1:03:05<03:07,  6.69s/it]\n",
      "100%|██████████| 100/100 [00:00<00:00, 77686.68it/s]\n"
     ]
    },
    {
     "name": "stdout",
     "output_type": "stream",
     "text": [
      "691\n"
     ]
    },
    {
     "name": "stderr",
     "output_type": "stream",
     "text": [
      " 97%|█████████▋| 746/773 [1:03:14<03:19,  7.40s/it]\n",
      "100%|██████████| 100/100 [00:00<00:00, 93476.80it/s]\n"
     ]
    },
    {
     "name": "stdout",
     "output_type": "stream",
     "text": [
      "692\n"
     ]
    },
    {
     "name": "stderr",
     "output_type": "stream",
     "text": [
      " 97%|█████████▋| 747/773 [1:03:21<03:07,  7.20s/it]\n",
      "100%|██████████| 100/100 [00:00<00:00, 78310.38it/s]\n"
     ]
    },
    {
     "name": "stdout",
     "output_type": "stream",
     "text": [
      "693\n"
     ]
    },
    {
     "name": "stderr",
     "output_type": "stream",
     "text": [
      " 97%|█████████▋| 748/773 [1:03:28<02:55,  7.04s/it]\n",
      "100%|██████████| 100/100 [00:00<00:00, 79998.17it/s]\n"
     ]
    },
    {
     "name": "stdout",
     "output_type": "stream",
     "text": [
      "694\n"
     ]
    },
    {
     "name": "stderr",
     "output_type": "stream",
     "text": [
      " 97%|█████████▋| 749/773 [1:03:28<02:03,  5.15s/it]\n",
      "100%|██████████| 100/100 [00:00<00:00, 83685.24it/s]\n"
     ]
    },
    {
     "name": "stdout",
     "output_type": "stream",
     "text": [
      "695\n"
     ]
    },
    {
     "name": "stderr",
     "output_type": "stream",
     "text": [
      " 97%|█████████▋| 750/773 [1:03:33<01:54,  5.00s/it]\n",
      "100%|██████████| 100/100 [00:00<00:00, 91061.75it/s]\n"
     ]
    },
    {
     "name": "stdout",
     "output_type": "stream",
     "text": [
      "696\n"
     ]
    },
    {
     "name": "stderr",
     "output_type": "stream",
     "text": [
      " 97%|█████████▋| 751/773 [1:03:34<01:26,  3.93s/it]\n",
      "100%|██████████| 100/100 [00:00<00:00, 113390.21it/s]\n"
     ]
    },
    {
     "name": "stdout",
     "output_type": "stream",
     "text": [
      "697\n"
     ]
    },
    {
     "name": "stderr",
     "output_type": "stream",
     "text": [
      " 97%|█████████▋| 752/773 [1:03:43<01:52,  5.36s/it]\n",
      "100%|██████████| 100/100 [00:00<00:00, 81506.10it/s]\n"
     ]
    },
    {
     "name": "stdout",
     "output_type": "stream",
     "text": [
      "698\n"
     ]
    },
    {
     "name": "stderr",
     "output_type": "stream",
     "text": [
      " 97%|█████████▋| 753/773 [1:03:52<02:06,  6.30s/it]\n",
      "100%|██████████| 100/100 [00:00<00:00, 91819.26it/s]\n"
     ]
    },
    {
     "name": "stdout",
     "output_type": "stream",
     "text": [
      "699\n"
     ]
    },
    {
     "name": "stderr",
     "output_type": "stream",
     "text": [
      " 98%|█████████▊| 754/773 [1:03:56<01:49,  5.77s/it]\n",
      "100%|██████████| 100/100 [00:00<00:00, 93811.32it/s]\n"
     ]
    },
    {
     "name": "stdout",
     "output_type": "stream",
     "text": [
      "700\n"
     ]
    },
    {
     "name": "stderr",
     "output_type": "stream",
     "text": [
      " 98%|█████████▊| 755/773 [1:03:59<01:29,  4.95s/it]\n",
      "100%|██████████| 100/100 [00:00<00:00, 72830.42it/s]\n"
     ]
    },
    {
     "name": "stdout",
     "output_type": "stream",
     "text": [
      "701\n"
     ]
    },
    {
     "name": "stderr",
     "output_type": "stream",
     "text": [
      " 98%|█████████▊| 756/773 [1:04:05<01:28,  5.21s/it]\n",
      "100%|██████████| 100/100 [00:00<00:00, 103614.23it/s]\n"
     ]
    },
    {
     "name": "stdout",
     "output_type": "stream",
     "text": [
      "702\n"
     ]
    },
    {
     "name": "stderr",
     "output_type": "stream",
     "text": [
      " 98%|█████████▊| 757/773 [1:04:12<01:31,  5.74s/it]\n",
      "100%|██████████| 100/100 [00:00<00:00, 51864.77it/s]\n"
     ]
    },
    {
     "name": "stdout",
     "output_type": "stream",
     "text": [
      "703\n"
     ]
    },
    {
     "name": "stderr",
     "output_type": "stream",
     "text": [
      " 98%|█████████▊| 758/773 [1:04:20<01:36,  6.41s/it]\n",
      "100%|██████████| 100/100 [00:00<00:00, 57836.51it/s]\n"
     ]
    },
    {
     "name": "stdout",
     "output_type": "stream",
     "text": [
      "704\n"
     ]
    },
    {
     "name": "stderr",
     "output_type": "stream",
     "text": [
      " 98%|█████████▊| 759/773 [1:04:24<01:18,  5.64s/it]\n",
      "100%|██████████| 100/100 [00:00<00:00, 51704.93it/s]\n"
     ]
    },
    {
     "name": "stdout",
     "output_type": "stream",
     "text": [
      "705\n"
     ]
    },
    {
     "name": "stderr",
     "output_type": "stream",
     "text": [
      " 98%|█████████▊| 760/773 [1:04:27<01:04,  4.98s/it]\n",
      "100%|██████████| 100/100 [00:00<00:00, 78677.62it/s]\n"
     ]
    },
    {
     "name": "stdout",
     "output_type": "stream",
     "text": [
      "706\n"
     ]
    },
    {
     "name": "stderr",
     "output_type": "stream",
     "text": [
      " 98%|█████████▊| 761/773 [1:04:29<00:49,  4.12s/it]\n",
      "100%|██████████| 100/100 [00:00<00:00, 66449.68it/s]\n"
     ]
    },
    {
     "name": "stdout",
     "output_type": "stream",
     "text": [
      "707\n"
     ]
    },
    {
     "name": "stderr",
     "output_type": "stream",
     "text": [
      " 99%|█████████▊| 762/773 [1:04:38<01:01,  5.60s/it]\n",
      "100%|██████████| 100/100 [00:00<00:00, 86946.60it/s]\n"
     ]
    },
    {
     "name": "stdout",
     "output_type": "stream",
     "text": [
      "708\n"
     ]
    },
    {
     "name": "stderr",
     "output_type": "stream",
     "text": [
      " 99%|█████████▊| 763/773 [1:04:47<01:05,  6.51s/it]\n",
      "100%|██████████| 100/100 [00:00<00:00, 94636.82it/s]\n"
     ]
    },
    {
     "name": "stdout",
     "output_type": "stream",
     "text": [
      "709\n"
     ]
    },
    {
     "name": "stderr",
     "output_type": "stream",
     "text": [
      " 99%|█████████▉| 764/773 [1:04:56<01:05,  7.31s/it]\n",
      "100%|██████████| 100/100 [00:00<00:00, 76931.47it/s]\n"
     ]
    },
    {
     "name": "stdout",
     "output_type": "stream",
     "text": [
      "710\n"
     ]
    },
    {
     "name": "stderr",
     "output_type": "stream",
     "text": [
      " 99%|█████████▉| 765/773 [1:05:05<01:01,  7.71s/it]\n",
      "100%|██████████| 100/100 [00:00<00:00, 61872.02it/s]\n"
     ]
    },
    {
     "name": "stdout",
     "output_type": "stream",
     "text": [
      "711\n"
     ]
    },
    {
     "name": "stderr",
     "output_type": "stream",
     "text": [
      " 99%|█████████▉| 766/773 [1:05:10<00:49,  7.05s/it]\n",
      "100%|██████████| 100/100 [00:00<00:00, 88282.55it/s]\n"
     ]
    },
    {
     "name": "stdout",
     "output_type": "stream",
     "text": [
      "712\n"
     ]
    },
    {
     "name": "stderr",
     "output_type": "stream",
     "text": [
      " 99%|█████████▉| 767/773 [1:05:12<00:32,  5.34s/it]\n",
      "100%|██████████| 100/100 [00:00<00:00, 76107.86it/s]\n"
     ]
    },
    {
     "name": "stdout",
     "output_type": "stream",
     "text": [
      "713\n"
     ]
    },
    {
     "name": "stderr",
     "output_type": "stream",
     "text": [
      " 99%|█████████▉| 768/773 [1:05:16<00:25,  5.11s/it]\n",
      "100%|██████████| 100/100 [00:00<00:00, 73791.41it/s]\n"
     ]
    },
    {
     "name": "stdout",
     "output_type": "stream",
     "text": [
      "714\n"
     ]
    },
    {
     "name": "stderr",
     "output_type": "stream",
     "text": [
      " 99%|█████████▉| 769/773 [1:05:22<00:21,  5.29s/it]\n",
      "100%|██████████| 100/100 [00:00<00:00, 76510.47it/s]\n"
     ]
    },
    {
     "name": "stdout",
     "output_type": "stream",
     "text": [
      "715\n"
     ]
    },
    {
     "name": "stderr",
     "output_type": "stream",
     "text": [
      "100%|█████████▉| 770/773 [1:05:25<00:14,  4.75s/it]\n",
      "100%|██████████| 100/100 [00:00<00:00, 88412.82it/s]\n"
     ]
    },
    {
     "name": "stdout",
     "output_type": "stream",
     "text": [
      "716\n"
     ]
    },
    {
     "name": "stderr",
     "output_type": "stream",
     "text": [
      "100%|█████████▉| 771/773 [1:05:28<00:08,  4.08s/it]\n",
      "100%|██████████| 100/100 [00:00<00:00, 91578.69it/s]\n"
     ]
    },
    {
     "name": "stdout",
     "output_type": "stream",
     "text": [
      "717\n"
     ]
    },
    {
     "name": "stderr",
     "output_type": "stream",
     "text": [
      "100%|█████████▉| 772/773 [1:05:31<00:03,  3.72s/it]\n",
      "100%|██████████| 100/100 [00:00<00:00, 106725.29it/s]\n"
     ]
    },
    {
     "name": "stdout",
     "output_type": "stream",
     "text": [
      "718\n"
     ]
    },
    {
     "name": "stderr",
     "output_type": "stream",
     "text": [
      "100%|██████████| 773/773 [1:05:32<00:00,  5.09s/it]\n",
      "100%|██████████| 717/717 [00:04<00:00, 167.37it/s]\n"
     ]
    }
   ],
   "source": [
    "pages = list(range(1000))\n",
    "errors_index_l = []\n",
    "cars_data_l_pages = []\n",
    "for p in tqdm(pages[227:]):\n",
    "    try:\n",
    "        url = base_list_url.format(p)\n",
    "        html = scraper.get(url)\n",
    "\n",
    "        #saving locally\n",
    "        file1 = open(f'data/html2/page_result_{p}.html', 'w')\n",
    "        file1.write(html.text)\n",
    "\n",
    "        #parsing the search results\n",
    "        list_soup = BeautifulSoup(html.content, \"html.parser\")\n",
    "\n",
    "        search_cont = list_soup.find(id = 'contentr')\n",
    "\n",
    "        cars_list = search_cont.contents[1].contents[1:]\n",
    "\n",
    "        cars_data_l = func_extract_car_info(cars_list)\n",
    "\n",
    "        cars_data_l_pages.append(cars_data_l)\n",
    "        print(len(cars_data_l_pages))\n",
    "\n",
    "        #sleeping randomly\n",
    "        time.sleep(random.random()* 10)\n",
    "    except IndexError:\n",
    "        errors_index_l.append(p)\n",
    "\n",
    "cars_data_list = [cars_data_l_pages[i] + cars_data_l_pages[i+1] for i in list(range(len(cars_data_l_pages)-1))]\n",
    "\n",
    "cars_df = pd.DataFrame()\n",
    "for i in tqdm(cars_data_list):\n",
    "    cars_df = cars_df.append(i)\n",
    "\n",
    "cars_df.to_csv(f'data/cars/car_price_data-backup-{p}-{dt.now().strftime(\"%H:%M:%S\")}.csv', index= False)"
   ],
   "metadata": {
    "collapsed": false,
    "pycharm": {
     "name": "#%%\n"
    }
   }
  },
  {
   "cell_type": "code",
   "execution_count": 48,
   "outputs": [],
   "source": [
    "cars_data_list = [cars_data_l_pages[i] + cars_data_l_pages[i+1] for i in list(range(len(cars_data_l_pages)-1))]"
   ],
   "metadata": {
    "collapsed": false,
    "pycharm": {
     "name": "#%%\n"
    }
   }
  },
  {
   "cell_type": "code",
   "execution_count": 27,
   "outputs": [
    {
     "data": {
      "text/plain": "                                         Car  \\\n0    Mitsubishi Chariot, 2.4 լ, 2000 թ., գազ   \n1           Lexus ES, 2.5 լ, հիբրիդ, 2012 թ.   \n2      Mercedes-Benz S-Class, 5.5 լ, 2006 թ.   \n3      Hyundai Starex, 2.5 լ, դիզել, 2004 թ.   \n4     Կանալզացհիա Մաքռօղ Զազ968մկգնեմ, 1966թ   \n..                                       ...   \n193             Nissan Kicks, 1.6 լ, 2019 թ.   \n194      Toyota Corolla, 1.8 լ, 2013 թ., գազ   \n195               Kia Optima, 2.4 լ, 2016 թ.   \n196     BMW 3 Series հետչբեք, 2.0 լ, 2017 թ.   \n197         Chevrolet Malibu, 1.5 լ, 2017 թ.   \n\n                                     price  \\\n0                         $3,500Փոխանակում   \n1                                  $24,300   \n2                                  $12,500   \n3                                   $7,300   \n4                          ԴիլերՓնտրում եմ   \n..                                     ...   \n193                                $19,900   \n194                           $12,300Դիլեր   \n195  Դավիթաշեն, 2016 թ., 53,000 կմ, Բենզին   \n196                                $14,200   \n197                                $14,000   \n\n                                           details  \\\n0    Մալաթիա Սեբաստիա, 2000 թ., 200,000 կմ, Բենզին   \n1            Էրեբունի, 2012 թ., 150,000 կմ, Հիբրիդ   \n2               Արթիկ, 2006 թ., 243,000 կմ, Բենզին   \n3              Շենգավիթ, 2004 թ., 81,000 կմ, Դիզել   \n4             Քանաքեռ Զեյթուն, 1966 թ., 400,000 կմ   \n..                                             ...   \n193            Կենտրոն, 2019 թ., 39,850 կմ, Բենզին   \n194            Աբովյան, 2013 թ., 94,000 կմ, Բենզին   \n195            Հինգշաբթի, Հոկտեմբեր 06, 2022 00:27   \n196           Էրեբունի, 2017 թ., 43,000 կմ, Բենզին   \n197    Քանաքեռ Զեյթուն, 2017 թ., 98,000 կմ, Բենզին   \n\n                               post_date  \n0    Հինգշաբթի, Հոկտեմբեր 06, 2022 01:14  \n1    Հինգշաբթի, Հոկտեմբեր 06, 2022 01:14  \n2    Հինգշաբթի, Հոկտեմբեր 06, 2022 01:14  \n3    Հինգշաբթի, Հոկտեմբեր 06, 2022 01:14  \n4    Հինգշաբթի, Հոկտեմբեր 06, 2022 01:14  \n..                                   ...  \n193  Հինգշաբթի, Հոկտեմբեր 06, 2022 00:28  \n194  Հինգշաբթի, Հոկտեմբեր 06, 2022 00:28  \n195  Հինգշաբթի, Հոկտեմբեր 06, 2022 00:28  \n196  Հինգշաբթի, Հոկտեմբեր 06, 2022 00:27  \n197  Հինգշաբթի, Հոկտեմբեր 06, 2022 00:26  \n\n[198 rows x 4 columns]",
      "text/html": "<div>\n<style scoped>\n    .dataframe tbody tr th:only-of-type {\n        vertical-align: middle;\n    }\n\n    .dataframe tbody tr th {\n        vertical-align: top;\n    }\n\n    .dataframe thead th {\n        text-align: right;\n    }\n</style>\n<table border=\"1\" class=\"dataframe\">\n  <thead>\n    <tr style=\"text-align: right;\">\n      <th></th>\n      <th>Car</th>\n      <th>price</th>\n      <th>details</th>\n      <th>post_date</th>\n    </tr>\n  </thead>\n  <tbody>\n    <tr>\n      <th>0</th>\n      <td>Mitsubishi Chariot, 2.4 լ, 2000 թ., գազ</td>\n      <td>$3,500Փոխանակում</td>\n      <td>Մալաթիա Սեբաստիա, 2000 թ., 200,000 կմ, Բենզին</td>\n      <td>Հինգշաբթի, Հոկտեմբեր 06, 2022 01:14</td>\n    </tr>\n    <tr>\n      <th>1</th>\n      <td>Lexus ES, 2.5 լ, հիբրիդ, 2012 թ.</td>\n      <td>$24,300</td>\n      <td>Էրեբունի, 2012 թ., 150,000 կմ, Հիբրիդ</td>\n      <td>Հինգշաբթի, Հոկտեմբեր 06, 2022 01:14</td>\n    </tr>\n    <tr>\n      <th>2</th>\n      <td>Mercedes-Benz S-Class, 5.5 լ, 2006 թ.</td>\n      <td>$12,500</td>\n      <td>Արթիկ, 2006 թ., 243,000 կմ, Բենզին</td>\n      <td>Հինգշաբթի, Հոկտեմբեր 06, 2022 01:14</td>\n    </tr>\n    <tr>\n      <th>3</th>\n      <td>Hyundai Starex, 2.5 լ, դիզել, 2004 թ.</td>\n      <td>$7,300</td>\n      <td>Շենգավիթ, 2004 թ., 81,000 կմ, Դիզել</td>\n      <td>Հինգշաբթի, Հոկտեմբեր 06, 2022 01:14</td>\n    </tr>\n    <tr>\n      <th>4</th>\n      <td>Կանալզացհիա Մաքռօղ Զազ968մկգնեմ, 1966թ</td>\n      <td>ԴիլերՓնտրում եմ</td>\n      <td>Քանաքեռ Զեյթուն, 1966 թ., 400,000 կմ</td>\n      <td>Հինգշաբթի, Հոկտեմբեր 06, 2022 01:14</td>\n    </tr>\n    <tr>\n      <th>...</th>\n      <td>...</td>\n      <td>...</td>\n      <td>...</td>\n      <td>...</td>\n    </tr>\n    <tr>\n      <th>193</th>\n      <td>Nissan Kicks, 1.6 լ, 2019 թ.</td>\n      <td>$19,900</td>\n      <td>Կենտրոն, 2019 թ., 39,850 կմ, Բենզին</td>\n      <td>Հինգշաբթի, Հոկտեմբեր 06, 2022 00:28</td>\n    </tr>\n    <tr>\n      <th>194</th>\n      <td>Toyota Corolla, 1.8 լ, 2013 թ., գազ</td>\n      <td>$12,300Դիլեր</td>\n      <td>Աբովյան, 2013 թ., 94,000 կմ, Բենզին</td>\n      <td>Հինգշաբթի, Հոկտեմբեր 06, 2022 00:28</td>\n    </tr>\n    <tr>\n      <th>195</th>\n      <td>Kia Optima, 2.4 լ, 2016 թ.</td>\n      <td>Դավիթաշեն, 2016 թ., 53,000 կմ, Բենզին</td>\n      <td>Հինգշաբթի, Հոկտեմբեր 06, 2022 00:27</td>\n      <td>Հինգշաբթի, Հոկտեմբեր 06, 2022 00:28</td>\n    </tr>\n    <tr>\n      <th>196</th>\n      <td>BMW 3 Series հետչբեք, 2.0 լ, 2017 թ.</td>\n      <td>$14,200</td>\n      <td>Էրեբունի, 2017 թ., 43,000 կմ, Բենզին</td>\n      <td>Հինգշաբթի, Հոկտեմբեր 06, 2022 00:27</td>\n    </tr>\n    <tr>\n      <th>197</th>\n      <td>Chevrolet Malibu, 1.5 լ, 2017 թ.</td>\n      <td>$14,000</td>\n      <td>Քանաքեռ Զեյթուն, 2017 թ., 98,000 կմ, Բենզին</td>\n      <td>Հինգշաբթի, Հոկտեմբեր 06, 2022 00:26</td>\n    </tr>\n  </tbody>\n</table>\n<p>198 rows × 4 columns</p>\n</div>"
     },
     "execution_count": 27,
     "metadata": {},
     "output_type": "execute_result"
    }
   ],
   "source": [
    "import pandas as pd\n",
    "pd.DataFrame(cars_data_list[2], columns=['Car', 'price', 'details', 'post_date'])"
   ],
   "metadata": {
    "collapsed": false,
    "pycharm": {
     "name": "#%%\n"
    }
   }
  },
  {
   "cell_type": "code",
   "execution_count": 74,
   "outputs": [
    {
     "data": {
      "text/plain": "$5,500              3375\n$5,000              3142\n$6,500              2625\n$4,000              2591\n$9,000              2297\n                    ... \n$11,200Դիլեր           1\n$25,200                1\n$8,700Փոխանակում       1\n$12,900                1\n1,150,000 ֏Դիլեր       1\nName: price, Length: 706, dtype: int64"
     },
     "execution_count": 74,
     "metadata": {},
     "output_type": "execute_result"
    }
   ],
   "source": [
    "cars_df['price'].value_counts()"
   ],
   "metadata": {
    "collapsed": false,
    "pycharm": {
     "name": "#%%\n"
    }
   }
  },
  {
   "cell_type": "code",
   "execution_count": 63,
   "outputs": [],
   "source": [
    "cars_df.columns=['Car', 'price', 'details', 'post_date']"
   ],
   "metadata": {
    "collapsed": false,
    "pycharm": {
     "name": "#%%\n"
    }
   }
  },
  {
   "cell_type": "code",
   "execution_count": 70,
   "outputs": [
    {
     "data": {
      "text/plain": "0      NaN\n1      NaN\n2      NaN\n3      NaN\n4      NaN\n      ... \n195    NaN\n196    NaN\n197    NaN\n198    NaN\n199    2.0\nName: price, Length: 143353, dtype: float64"
     },
     "execution_count": 70,
     "metadata": {},
     "output_type": "execute_result"
    }
   ],
   "source": [
    "pd.to_numeric(cars_df['price'])"
   ],
   "metadata": {
    "collapsed": false,
    "pycharm": {
     "name": "#%%\n"
    }
   }
  },
  {
   "cell_type": "code",
   "execution_count": 73,
   "outputs": [
    {
     "data": {
      "text/plain": " Բենզին        125081\n Դիզել           5227\n Հիբրիդ          3270\n էլեկտրական      1133\nName: 4, dtype: int64"
     },
     "execution_count": 73,
     "metadata": {},
     "output_type": "execute_result"
    }
   ],
   "source": [
    "cars_df['details'].str.split(',', expand=True).iloc[:,-1].value_counts()"
   ],
   "metadata": {
    "collapsed": false,
    "pycharm": {
     "name": "#%%\n"
    }
   }
  }
 ],
 "metadata": {
  "kernelspec": {
   "display_name": "Python 3",
   "language": "python",
   "name": "python3"
  },
  "language_info": {
   "codemirror_mode": {
    "name": "ipython",
    "version": 2
   },
   "file_extension": ".py",
   "mimetype": "text/x-python",
   "name": "python",
   "nbconvert_exporter": "python",
   "pygments_lexer": "ipython2",
   "version": "2.7.6"
  }
 },
 "nbformat": 4,
 "nbformat_minor": 0
}